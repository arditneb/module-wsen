{
 "cells": [
  {
   "cell_type": "markdown",
   "id": "218fce0e",
   "metadata": {},
   "source": [
    "# Methoden und Attribute\n",
    "Im folgenden Codeblock wird eine Klasse definiert. Sage, welche darin definierten Methoden privat, private und öffentlich sind, und auch ob es sich um Klassen- oder Instanzattribute, und um Klassen-, Instanz- oder statische Methoden handelt. Identifiziere zudem die Magic Methods, und sag, was diese machen."
   ]
  },
  {
   "cell_type": "code",
   "execution_count": 84,
   "id": "3637a99a",
   "metadata": {},
   "outputs": [],
   "source": [
    "class Cat:\n",
    "    \n",
    "    species = \"cat\"\n",
    "    __cat_art = f\"\"\"\n",
    "        |\\---/|\n",
    "        | o_o |\n",
    "         \\_^_/\n",
    "        \"\"\"\n",
    "    \n",
    "    __cool_cat_art = f\"\"\"\n",
    "        |\\---/|\n",
    "        -[]-[]-\n",
    "         \\_^_/\n",
    "    \"\"\"\n",
    "    \n",
    "    def __init__(self, name, race):\n",
    "        self.name = name\n",
    "        self.__race = race\n",
    "        self._hair_length = 2\n",
    "\n",
    "    @classmethod\n",
    "    def _get_relevant_art(cls, race):\n",
    "        if cls.__is_it_cool(race):\n",
    "            return cls.__cool_cat_art\n",
    "        else:\n",
    "            return cls.__cat_art\n",
    "        \n",
    "    def __repr__(self):\n",
    "        art = self._get_relevant_art(self.__race)\n",
    "        return f\"{art}\\n         {self.name}\"\n",
    "    \n",
    "    def define_color(self, color):\n",
    "        self._color = color\n",
    "        \n",
    "    def __remove_info(self):\n",
    "        self.name = None\n",
    "        self.__race = None\n",
    "    \n",
    "    @staticmethod\n",
    "    def __is_it_cool(race):\n",
    "        print(race)\n",
    "        corr_race = race.lower().strip()\n",
    "        if corr_race == \"persian\":\n",
    "            return True\n",
    "        elif corr_race == \"british shorthair\":\n",
    "            return True\n",
    "        else:\n",
    "            return False\n"
   ]
  },
  {
   "cell_type": "markdown",
   "id": "19000244",
   "metadata": {},
   "source": [
    "Wir definieren folgende zwei Katzen. Was passiert für folgende Aufrufe?"
   ]
  },
  {
   "cell_type": "code",
   "execution_count": 85,
   "id": "08b5183e",
   "metadata": {},
   "outputs": [],
   "source": [
    "cat1 = Cat(\"Bobby\", \"Normal\")\n",
    "cat2 = Cat(\"Cindy\", \"Persian\")"
   ]
  },
  {
   "cell_type": "raw",
   "id": "d73707cc",
   "metadata": {},
   "source": [
    "cat1.name"
   ]
  },
  {
   "cell_type": "raw",
   "id": "8ecab023",
   "metadata": {},
   "source": [
    "cat1.define_color(5)"
   ]
  },
  {
   "cell_type": "raw",
   "id": "7aacfad2",
   "metadata": {},
   "source": [
    "cat2._color"
   ]
  },
  {
   "cell_type": "raw",
   "id": "0579e4d1",
   "metadata": {},
   "source": [
    "cat1._color"
   ]
  },
  {
   "cell_type": "raw",
   "id": "bed6ada1",
   "metadata": {},
   "source": [
    "cat2.__race"
   ]
  },
  {
   "cell_type": "raw",
   "id": "8c355e9a",
   "metadata": {},
   "source": [
    "cat2"
   ]
  },
  {
   "cell_type": "raw",
   "id": "e848f651",
   "metadata": {},
   "source": [
    "Cat.__is_it_cool(\"persian\")"
   ]
  },
  {
   "cell_type": "raw",
   "id": "d7659917",
   "metadata": {},
   "source": [
    "print(Cat._get_relevant_art(\"persian\"))"
   ]
  },
  {
   "cell_type": "raw",
   "id": "5894acfc",
   "metadata": {},
   "source": [
    "print(cat1._get_relevant_art(\"persian\"))"
   ]
  },
  {
   "cell_type": "raw",
   "id": "ada0c927",
   "metadata": {},
   "source": [
    "cat2.__remove_info()"
   ]
  },
  {
   "cell_type": "markdown",
   "id": "f90685b8",
   "metadata": {},
   "source": [
    "# ASCII Trains\n",
    "Ziel dieser Aufgabe ist es, die Klasse ASCIITrain zu implementieren. Ein ASCIITrain besteht aus einer string, welche eine Lokomotive als ASCII-Art enthält. Wir wollen diese Züge addieren können, um verschiedene Wagen zusammenzusetzen. Mit einer Multiplikation wollen wir sagen können, dass wir denselben Wagen n mal wiederholen wollen.\n",
    "\n",
    "Die Schwierigkeit ist es, zwei Strings zusammenzufügen. Da die Art über mehrere Zeilen geht, können wir nicht einfach a + b rechnen, um die Strings zu konkatenieren. Stattdessen müssen wir zuerst die string in einzelne Zeilen unterteilen, diese einzeln zusammenfügen, und schliesslich wieder den ganzen Zug zusammenzusetzen.\n",
    "\n",
    "In der nachfolgenden Zelle ist die Klasse vorbereitet - es müssen nur noch die einzelnen Funktionen ausgefüllt werden.\n"
   ]
  },
  {
   "cell_type": "code",
   "execution_count": 112,
   "id": "a15384d4",
   "metadata": {},
   "outputs": [],
   "source": [
    "class ASCIITrain:\n",
    "    \n",
    "    def __init__(self, art):\n",
    "        \"\"\"Create an instance attribute thta contains art.\"\"\"\n",
    "    \n",
    "    def __repr__(self):\n",
    "        \"\"\"Returns the art for when it's printed.\"\"\"\n",
    "        \n",
    "    @staticmethod\n",
    "    def _split_into_lines(art):\n",
    "        \"\"\"Takes art - a str - and splits it at all the returns (i.e at the \n",
    "        character '\\n'). The result is returned as a list.\"\"\"\n",
    "        \n",
    "    @staticmethod\n",
    "    def _merge_lines(left, right):\n",
    "        \"\"\"Gets two lists of strings, left and right, as function arguments.\n",
    "        It adds the first string of the left to the first string of right, \n",
    "        then the second string of left to the second string of right, etc.\n",
    "        (zip is your friend). The result is returned as a list of strings.\n",
    "        \"\"\"\n",
    "        \n",
    "    @staticmethod\n",
    "    def _reassemble_lines(lines):\n",
    "        \"\"\"Takes a list of strings (corresponding to lines), and reassembles \n",
    "        it into a single string.\"\"\"\n",
    "        \n",
    "    def __add__(self, other):\n",
    "        \"\"\"Implements addition of two ASCIITrain objects. This is done as follows:\n",
    "        We use _split_into_lines on both self and other in order to get the individual\n",
    "        lines of the art. Then we use _merge_lines to combine the two list of strings\n",
    "        into a single list of strings. Then we merge reassemble the list of strings\n",
    "        using _reassemble_lines. Finally we transform the string we obtain again into\n",
    "        a ASCIITrain object, and return the object.\n",
    "        \"\"\"\n",
    "        \n",
    "    def __mul__(self, other):\n",
    "        \"\"\"Allows to multiply an ASCIITrain object with an integer. If this integer is \n",
    "        1, it returns self. If this integer is > 1, it returns self + self * (other-1).\n",
    "        (Hence we use a recursion.)\n",
    "        \"\"\"\n",
    "        \n",
    "    # we do the same thing for right-side multiplication as for multiplication\n",
    "    # don't touch this\n",
    "    __rmul__ = __mul__\n",
    "    "
   ]
  },
  {
   "cell_type": "code",
   "execution_count": 108,
   "id": "d8c15cd6",
   "metadata": {},
   "outputs": [],
   "source": [
    "class ASCIITrain:\n",
    "    \n",
    "    def __init__(self, art):\n",
    "        self.art = art\n",
    "        \n",
    "    def __repr__(self):\n",
    "        return self.art\n",
    "    \n",
    "    @staticmethod\n",
    "    def _split_into_lines(art):\n",
    "        return art.split(\"\\n\")\n",
    "    \n",
    "    @staticmethod\n",
    "    def _merge_lines(left, right):\n",
    "        return [l + r for l, r in zip(left, right)]\n",
    "    \n",
    "    @staticmethod\n",
    "    def _reassemble_lines(lines):\n",
    "        return \"\\n\".join(lines)\n",
    "    \n",
    "    def __add__(self, other):\n",
    "        if not isinstance(other, ASCII_ART):\n",
    "            raise ValueError(\"STOP DOING WEIRD THINGS!\")\n",
    "        \n",
    "        left = self._split_into_lines(self.art)\n",
    "        right = self._split_into_lines(other.art)\n",
    "        \n",
    "        merged_lines = self._merge_lines(left, right)\n",
    "        reassembled = self._reassemble_lines(merged_lines)\n",
    "        \n",
    "        return ASCIITrain(reassembled)\n",
    "    \n",
    "    def __mul__(self, other):\n",
    "        if not isinstance(other, int):\n",
    "            raise ValueError\n",
    "        \n",
    "        if other == 1:\n",
    "            return self\n",
    "        \n",
    "        else:\n",
    "            return self + self * (other - 1)\n",
    "        \n",
    "    __rmul__ = __mul__ \n",
    "    \n",
    "\n",
    "    "
   ]
  },
  {
   "cell_type": "markdown",
   "id": "903c5940",
   "metadata": {},
   "source": [
    "Nun können wir folgende Lokomotiven und Wagen definieren:"
   ]
  },
  {
   "cell_type": "code",
   "execution_count": 109,
   "id": "6401d715",
   "metadata": {},
   "outputs": [],
   "source": [
    "lok = ASCII_ART(\n",
    "r\"\"\"\n",
    "               \n",
    " __<>_____<>__ \n",
    "//    <+>    \\\\\n",
    "\\_____________/\n",
    "  oo       oo  \n",
    "\"\"\"\n",
    ")\n",
    "\n",
    "wagen = ASCII_ART(\n",
    "r\"\"\"\n",
    "              \n",
    " ____________ \n",
    "||_||_||_||_||\n",
    "|____________|\n",
    " oo        oo \n",
    "\n",
    "\"\"\"\n",
    ")\n",
    "\n",
    "\n",
    "dampflock = ASCII_ART(\n",
    "r\"\"\"\n",
    "()()   ()   \n",
    " ___  ()  ()\n",
    "|  \\\\_|||||| \n",
    "|_<+>_______|<\n",
    " oOoo   oOoo\n",
    "\"\"\"\n",
    ")"
   ]
  },
  {
   "cell_type": "markdown",
   "id": "f0645a55",
   "metadata": {},
   "source": [
    "Diese Wagen können wir nun zu einem ganzen Zug zusammensetzen:"
   ]
  },
  {
   "cell_type": "code",
   "execution_count": 110,
   "id": "73b6757f",
   "metadata": {
    "scrolled": true
   },
   "outputs": [
    {
     "data": {
      "text/plain": [
       "\n",
       "                                                                      ()()   ()   \n",
       " ____________  ____________  ____________  ____________  ____________  ___  ()  ()\n",
       "||_||_||_||_||||_||_||_||_||||_||_||_||_||||_||_||_||_||||_||_||_||_|||  \\\\_|||||| \n",
       "|____________||____________||____________||____________||____________||_<+>_______|<\n",
       " oo        oo  oo        oo  oo        oo  oo        oo  oo        oo  oOoo   oOoo"
      ]
     },
     "execution_count": 110,
     "metadata": {},
     "output_type": "execute_result"
    }
   ],
   "source": [
    "5 * wagen + dampflock"
   ]
  },
  {
   "cell_type": "markdown",
   "id": "544d0f73",
   "metadata": {},
   "source": [
    "# Tabelle\n",
    "Wir wollen einen neuen Datentyp definieren, welcher Tabellen speichert. Mit diesen Tabellen wollen wir rechnen können, wir wollen abfragen können, wie gross sie sind, und auch zwei Tabellen aneinanderhängen. Dazu implementieren wir folgende Methoden:\n",
    "\n",
    "Im Anschluss an dieses Feld gibt es Beispiele, wie die definierten Funktionen verwendet werden können."
   ]
  },
  {
   "cell_type": "code",
   "execution_count": 41,
   "id": "71cce7a6",
   "metadata": {},
   "outputs": [],
   "source": [
    "class Table:\n",
    "    \n",
    "    def __init__(self, data):\n",
    "        \"\"\"\n",
    "        Konstruktor: Nimmt als Argument data die Liste von Listen, welche zu einer \n",
    "        Tabelle werden soll. Dies wird als Instanzattribut abgespeichert.\n",
    "        Zuvor rufen wir noch die statische Methode _validate_input() auf, um sicher-\n",
    "        zustellen, dass die Daten im richtigen Format sind.\n",
    "        (Diese implementieren wir erst später, das ist hier aber kein Problem)\n",
    "        \"\"\"\n",
    "        self._validate_input(data)\n",
    "        self.data = data\n",
    "                \n",
    "    @property\n",
    "    def shape(self):\n",
    "        \"\"\"\n",
    "        Gibt ein Tuple (nrows, ncols) zurück, wobei nrows die Anzahl Zeilen und ncols die \n",
    "        Anzahl Spalten des Instanzattributs \"data\" sind.\n",
    "        \n",
    "        Dank dem @property decorator können wir nun auf .shape zugreifen, als wäre es ein Attribut.\n",
    "        \"\"\"\n",
    "        # Anzahl Zeilen: Die Länge der Liste\n",
    "        nrows = len(self.data)\n",
    "        \n",
    "        # Anzahl Spalten: Die Länge der ersten Subliste (da alle gleich lange sind)\n",
    "        ncols = len(self.data[0])\n",
    "        \n",
    "        return nrows, ncols    \n",
    "    \n",
    "    def __repr__(self):\n",
    "        \"\"\"Wird bei print() oder bei der Anzeige im Jupyter Notebook aufgerufen. \n",
    "        Convertiert self.data in eine String, und gibt diese zurück.\n",
    "        (Ihr könnt hier auch kreativer sein - wichtig ist einfach, dass eine str \n",
    "        zurückgegeben wird.)\n",
    "        \"\"\"\n",
    "        return str(self.data)\n",
    "    \n",
    "    \n",
    "    def append(self, other):\n",
    "        \"\"\"Fügt die Zeilen einer zweiten Tabelle der ersten Tabelle hinzu. Das \n",
    "        Resultat wird als neue Tabelle zurückgegeben (es muss also wieder Table(...)\n",
    "        aufgerufen werden).\n",
    "        \n",
    "        Beispiel: \n",
    "        Tabelle 1:\n",
    "        A B \n",
    "        C D\n",
    "        \n",
    "        Tabelle 2:\n",
    "        E F\n",
    "        \n",
    "        tab1.append(tab2):\n",
    "        A B\n",
    "        C D\n",
    "        E F\n",
    "        \"\"\"\n",
    "        # Wir können einfach + verwenden, um die zwei Listen zusammenzukleben.\n",
    "        new_data = self.data + other.data\n",
    "        return Table(new_data)\n",
    "                \n",
    "        \n",
    "    @staticmethod\n",
    "    def _validate_input(data):\n",
    "        \"\"\"Stellt sicher, dass data eine Liste ist, welche gleich lange Listen enthält.\n",
    "        Falls dies nicht der Fall ist, wird ein ValueError geraised.\n",
    "        \n",
    "        Da wir keinen Zugriff auf die Table selbst brauchen, ist dies eine static method.\n",
    "        \"\"\"\n",
    "        \n",
    "        # Zuerst überprüfen wir, ob die Daten eine Liste sind. Dazu verwenden wir isinstance\n",
    "        if not isinstance(data, list):\n",
    "            raise ValueError(\"Input must be a list of lists\")\n",
    "        \n",
    "        # Dann überprüfen wir, ob die Sublisten jeweils eine Liste sind.\n",
    "        for sublist in data:\n",
    "            if not isinstance(sublist, list):\n",
    "                raise ValueError(\"Input must be a list of lists\")\n",
    "        \n",
    "        # Wir berechnen die Länge jeder Subliste\n",
    "        lengths = [len(sublist) for sublist in data]\n",
    "        \n",
    "        # Um zu überprüfen, ob alle gleich lang sind, konvertieren wir lengths in ein Set\n",
    "        # Das erzeugte Set darf nur ein Element enthalten (sonst hätten wir zwei \n",
    "        # unterschiedlich lange Sublisten).\n",
    "        len_set = set(lengths)\n",
    "        \n",
    "        if len(len_set) != 1:\n",
    "            raise ValueError(\"Sublists must be of equal length.\")            \n",
    "        \n",
    "    \n",
    "    def apply_to_all(self, f):\n",
    "        \"\"\"\n",
    "        Wendet eine beliebige Funktion f auf alle Elemente an.\n",
    "        Geht durch alle Einträge durch, und erstellt eine neue Tabelle sodass:\n",
    "        \n",
    "        new.data[i][j] = f(self.data[i][j])\n",
    "        \"\"\"\n",
    "        # Möglichkeit als nested List Comprehension\n",
    "        new_data = [\n",
    "            [f(e) for e in sublist]\n",
    "            for sublist in self.data\n",
    "        ]\n",
    "        \n",
    "        # Alternative:\n",
    "        new_data = list()\n",
    "        for sublist in self.data:\n",
    "            new_sublist = [f(e) for e in sublist]\n",
    "            new_data.append(new_sublist)\n",
    "        return Table(new_data)\n",
    "    \n",
    "    def combine_and_apply(self, other, f):\n",
    "        \"\"\"\n",
    "        Wird verwendet, um zwei Listen miteinander zu kombinieren: Für jeden Eintrag\n",
    "        in self und other wird eine neue Tabelle erstellt, sodass:\n",
    "        \n",
    "        new.data[i][j] = f(self.data[i][j], other.data[i][j])\n",
    "        \n",
    "        Die resultierende Tabelle wird wieder in eine Table umgewandelt.\n",
    "        \n",
    "        Als erster Schritt wird dabei sichergestellt, ob self und other die\n",
    "        gleiche Shape haben. Ansonsten wird ein ValueError erzeugt.\n",
    "        \"\"\"\n",
    "        if self.shape != other.shape:\n",
    "            raise ValueError(\"Self and other must have same shape.\")\n",
    "        \n",
    "        # Möglichkeit als nested List Comprehension\n",
    "        # Wir verwenden zip, um gleichzeitig durch beide Listen zu iterieren.\n",
    "        new_data = [\n",
    "            [f(s, o) for s, o in zip(subl_s, subl_o)]\n",
    "            for subl_s, subl_o in zip(self.data, other.data)\n",
    "        ]\n",
    "        \n",
    "        # Alternative:\n",
    "        new_data = list()\n",
    "        for subl_s, subl_o in zip(self.data, other.data):\n",
    "            new_sublist = [f(s, o) for s, o in zip(subl_s, subl_o)]\n",
    "            new_data.append(new_sublist)\n",
    "        return Table(new_data)\n",
    "    \n",
    "    def __add__(self, other):\n",
    "        \"\"\"Bei allen Operatoren unterscheiden wir zwischen zwei Cases: Das other eine Zahl ist, oder\n",
    "        eine Table. Bei einer Zahl verwenden wir apply_to_all, um jedes Element mit der Zahl zu verrechnen,\n",
    "        bei einer Tabelle verwenden wir combine_and_apply, um die zwei Tabellen miteinander zu verrechnen.\"\"\"\n",
    "        \n",
    "        # Überprüfung, ob es vom gewünschten Typ ist\n",
    "        if isinstance(other, Table):\n",
    "            return self.combine_and_apply(other, lambda x, y: x + y)\n",
    "        else:\n",
    "            return self.apply_to_all(lambda x: x + other)\n",
    "            \n",
    "    def __sub__(self, other):\n",
    "        \"\"\"Genauso wie __add__\"\"\"\n",
    "        if isinstance(other, Table):\n",
    "            return self.combine_and_apply(other, lambda x, y: x - y)\n",
    "        else:\n",
    "            return self.apply_to_all(lambda x: x - other)\n",
    "        \n",
    "    def __mul__(self, other):\n",
    "        \"\"\"Genauso wie __add__\"\"\"\n",
    "        if isinstance(other, Table):\n",
    "            return self.combine_and_apply(other, lambda x, y: x * y)\n",
    "        else:\n",
    "            return self.apply_to_all(lambda x: x * other)\n",
    "\n",
    "    def __div__(self, other):\n",
    "        \"\"\"Genauso wie __add__\"\"\"\n",
    "        if isinstance(other, Table):\n",
    "            return self.combine_and_apply(other, lambda x, y: x / y)\n",
    "        else:\n",
    "            return self.apply_to_all(lambda x: x / other)\n",
    "        "
   ]
  },
  {
   "cell_type": "markdown",
   "id": "f1fcfab7",
   "metadata": {},
   "source": [
    "## Verwendung\n",
    "Hier sind ein paar Beispiele, wie die Klasse verwendet werden kann. "
   ]
  },
  {
   "cell_type": "code",
   "execution_count": 42,
   "id": "ab4eef6d",
   "metadata": {},
   "outputs": [],
   "source": [
    "tab1 = Table([\n",
    "    [1, 2, 3],\n",
    "    [4, 5, 6]\n",
    "])"
   ]
  },
  {
   "cell_type": "code",
   "execution_count": 49,
   "id": "7946b77e",
   "metadata": {},
   "outputs": [],
   "source": [
    "tab2 = Table([\n",
    "    [7, 8, 9],\n",
    "    [10, 11, 12],\n",
    "])"
   ]
  },
  {
   "cell_type": "markdown",
   "id": "6c46183a",
   "metadata": {},
   "source": [
    "Zugriff auf shape. Da es eine Property ist, brauchen wir keine Klammern."
   ]
  },
  {
   "cell_type": "code",
   "execution_count": 50,
   "id": "493c3bed",
   "metadata": {},
   "outputs": [
    {
     "data": {
      "text/plain": [
       "(2, 3)"
      ]
     },
     "execution_count": 50,
     "metadata": {},
     "output_type": "execute_result"
    }
   ],
   "source": [
    "tab1.shape"
   ]
  },
  {
   "cell_type": "markdown",
   "id": "a20dc57f",
   "metadata": {},
   "source": [
    "Dank `__repr__` können wir die Tabelle anzeigen:"
   ]
  },
  {
   "cell_type": "code",
   "execution_count": 51,
   "id": "4bab3595",
   "metadata": {},
   "outputs": [
    {
     "data": {
      "text/plain": [
       "[[1, 2, 3], [4, 5, 6]]"
      ]
     },
     "execution_count": 51,
     "metadata": {},
     "output_type": "execute_result"
    }
   ],
   "source": [
    "tab1"
   ]
  },
  {
   "cell_type": "markdown",
   "id": "6db0d8ec",
   "metadata": {},
   "source": [
    "Wir verwenden Append, um die zwei Tabellen zu Konkatenieren."
   ]
  },
  {
   "cell_type": "code",
   "execution_count": 53,
   "id": "177f537d",
   "metadata": {},
   "outputs": [
    {
     "data": {
      "text/plain": [
       "[[1, 2, 3], [4, 5, 6], [7, 8, 9], [10, 11, 12]]"
      ]
     },
     "execution_count": 53,
     "metadata": {},
     "output_type": "execute_result"
    }
   ],
   "source": [
    "tab1.append(tab2)"
   ]
  },
  {
   "cell_type": "markdown",
   "id": "14f44e17",
   "metadata": {},
   "source": [
    "Wenn `_validate_input` implementiert ist, können wir keine nicht-zulässigen Tabellen mehr erstellen:"
   ]
  },
  {
   "cell_type": "code",
   "execution_count": 54,
   "id": "9e5f5582",
   "metadata": {},
   "outputs": [
    {
     "ename": "ValueError",
     "evalue": "Sublists must be of equal length.",
     "output_type": "error",
     "traceback": [
      "\u001b[1;31m---------------------------------------------------------------------------\u001b[0m",
      "\u001b[1;31mValueError\u001b[0m                                Traceback (most recent call last)",
      "\u001b[1;32m<ipython-input-54-c0a78c8d2824>\u001b[0m in \u001b[0;36m<module>\u001b[1;34m\u001b[0m\n\u001b[1;32m----> 1\u001b[1;33m tab3 = Table([\n\u001b[0m\u001b[0;32m      2\u001b[0m     \u001b[1;33m[\u001b[0m\u001b[1;36m1\u001b[0m\u001b[1;33m,\u001b[0m \u001b[1;36m5\u001b[0m\u001b[1;33m,\u001b[0m \u001b[1;36m2\u001b[0m\u001b[1;33m]\u001b[0m\u001b[1;33m,\u001b[0m\u001b[1;33m\u001b[0m\u001b[1;33m\u001b[0m\u001b[0m\n\u001b[0;32m      3\u001b[0m     \u001b[1;33m[\u001b[0m\u001b[1;36m3\u001b[0m\u001b[1;33m,\u001b[0m \u001b[1;36m4\u001b[0m\u001b[1;33m]\u001b[0m\u001b[1;33m\u001b[0m\u001b[1;33m\u001b[0m\u001b[0m\n\u001b[0;32m      4\u001b[0m ])\n",
      "\u001b[1;32m<ipython-input-41-87c00c0e8f14>\u001b[0m in \u001b[0;36m__init__\u001b[1;34m(self, data)\u001b[0m\n\u001b[0;32m      9\u001b[0m         \u001b[1;33m(\u001b[0m\u001b[0mDiese\u001b[0m \u001b[0mimplementieren\u001b[0m \u001b[0mwir\u001b[0m \u001b[0merst\u001b[0m \u001b[0mspäter\u001b[0m\u001b[1;33m,\u001b[0m \u001b[0mdas\u001b[0m \u001b[0mist\u001b[0m \u001b[0mhier\u001b[0m \u001b[0maber\u001b[0m \u001b[0mkein\u001b[0m \u001b[0mProblem\u001b[0m\u001b[1;33m)\u001b[0m\u001b[1;33m\u001b[0m\u001b[1;33m\u001b[0m\u001b[0m\n\u001b[0;32m     10\u001b[0m         \"\"\"\n\u001b[1;32m---> 11\u001b[1;33m         \u001b[0mself\u001b[0m\u001b[1;33m.\u001b[0m\u001b[0m_validate_input\u001b[0m\u001b[1;33m(\u001b[0m\u001b[0mdata\u001b[0m\u001b[1;33m)\u001b[0m\u001b[1;33m\u001b[0m\u001b[1;33m\u001b[0m\u001b[0m\n\u001b[0m\u001b[0;32m     12\u001b[0m         \u001b[0mself\u001b[0m\u001b[1;33m.\u001b[0m\u001b[0mdata\u001b[0m \u001b[1;33m=\u001b[0m \u001b[0mdata\u001b[0m\u001b[1;33m\u001b[0m\u001b[1;33m\u001b[0m\u001b[0m\n\u001b[0;32m     13\u001b[0m \u001b[1;33m\u001b[0m\u001b[0m\n",
      "\u001b[1;32m<ipython-input-41-87c00c0e8f14>\u001b[0m in \u001b[0;36m_validate_input\u001b[1;34m(data)\u001b[0m\n\u001b[0;32m     86\u001b[0m \u001b[1;33m\u001b[0m\u001b[0m\n\u001b[0;32m     87\u001b[0m         \u001b[1;32mif\u001b[0m \u001b[0mlen\u001b[0m\u001b[1;33m(\u001b[0m\u001b[0mlen_set\u001b[0m\u001b[1;33m)\u001b[0m \u001b[1;33m!=\u001b[0m \u001b[1;36m1\u001b[0m\u001b[1;33m:\u001b[0m\u001b[1;33m\u001b[0m\u001b[1;33m\u001b[0m\u001b[0m\n\u001b[1;32m---> 88\u001b[1;33m             \u001b[1;32mraise\u001b[0m \u001b[0mValueError\u001b[0m\u001b[1;33m(\u001b[0m\u001b[1;34m\"Sublists must be of equal length.\"\u001b[0m\u001b[1;33m)\u001b[0m\u001b[1;33m\u001b[0m\u001b[1;33m\u001b[0m\u001b[0m\n\u001b[0m\u001b[0;32m     89\u001b[0m \u001b[1;33m\u001b[0m\u001b[0m\n\u001b[0;32m     90\u001b[0m \u001b[1;33m\u001b[0m\u001b[0m\n",
      "\u001b[1;31mValueError\u001b[0m: Sublists must be of equal length."
     ]
    }
   ],
   "source": [
    "tab3 = Table([\n",
    "    [1, 5, 2],\n",
    "    [3, 4]\n",
    "])"
   ]
  },
  {
   "cell_type": "markdown",
   "id": "1455983e",
   "metadata": {},
   "source": [
    "Mit `apply_to_all` können wir mit einer beliebigen Funktion alle Elemente transformieren. Als Beispiel quadrieren wir alle Elemente:"
   ]
  },
  {
   "cell_type": "code",
   "execution_count": 55,
   "id": "cd4f1c9a",
   "metadata": {},
   "outputs": [
    {
     "data": {
      "text/plain": [
       "[[1, 4, 9], [16, 25, 36]]"
      ]
     },
     "execution_count": 55,
     "metadata": {},
     "output_type": "execute_result"
    }
   ],
   "source": [
    "tab1.apply_to_all(lambda x: x**2)"
   ]
  },
  {
   "cell_type": "markdown",
   "id": "fb6ed50c",
   "metadata": {},
   "source": [
    "Mit `combine_and_apply` können wir zwei Tabellen miteinander verrechnen. Als Beispiel zeigen wir, wie wir die beiden Tabellen addieren können."
   ]
  },
  {
   "cell_type": "code",
   "execution_count": 56,
   "id": "bd355a6e",
   "metadata": {
    "scrolled": true
   },
   "outputs": [
    {
     "data": {
      "text/plain": [
       "[[8, 10, 12], [14, 16, 18]]"
      ]
     },
     "execution_count": 56,
     "metadata": {},
     "output_type": "execute_result"
    }
   ],
   "source": [
    "tab1.combine_and_apply(tab2, lambda x, y: x+y)"
   ]
  },
  {
   "cell_type": "markdown",
   "id": "fd2f5ee1",
   "metadata": {},
   "source": [
    "# Weird Number\n",
    "Ziel dieser Aufgabe ist es, zu zeigen, wie wir Operatoren überschreiben könnnen. Wir wollen eine neue Art von Zahl definieren, welche `+` durch `*`, und `-` durch `/` ersetzt.\n",
    "\n",
    "Beispiel: Wenn a und b von der Klasse \"WeirdNumber\" sind, soll folgendes zutreffen:\n",
    "- `WeirdNumber(3) + WeirdNumber(5) == 15`\n",
    "- `WeirdNumber(8) - WeirdNumber(2) == 4`\n",
    "\n",
    "Wir gehen wie folgt vor:\n",
    "- Wir definieren eine Klasse WeirdNumber.\n",
    "- Im Konstruktor übergeben wir ein Argument, `value`, welches anschliessend als Instanzattribut unter `self.value` gespeichert wird.\n",
    "- Damit wir die Zahl anzeigen können, brauchen wir die Methode `__str__`. Die Methode nimmt keine Argumente ausser `self` entgegen, und muss ein Objekt vom Typ `str` zurückgeben. In unserem Fall nehmen wir das Instanzattribut `self.value`, casten es als `str`, und geben es zurück.\n",
    "- Nun definieren wir die Methoden `__add__(self, other)` und `__sub__(self, other)`. Durch die Definition dieser Methoden geben wir vor, was passieren soll, wenn unser Objekt in einer Addition oder Subtraktion verwendet wird. `__add__(self, other)` soll `self.value * other` berechnen, `__sub__` soll eine Division implementieren. Bevor das Resultat aber zurückgegeben wird, soll es wieder in ein Objekt vom Typ `WeirdNumber` umgewandelt werden.\n",
    "- Wir definieren auch noch die Methoden `__radd__(self, other)` und `__rsub__(self, other)`, um festzulegen, was passiert wenn unser Objekt auf der rechten Seite eines `+` oder `-` auftaucht. Diese Funktionen machen genau das gleiche wie `__add__` bzw. `__sub__`."
   ]
  },
  {
   "cell_type": "code",
   "execution_count": 11,
   "id": "35ddd6ef",
   "metadata": {},
   "outputs": [],
   "source": [
    "class WeirdNumber:\n",
    "    \n",
    "    def __init__(self, value):\n",
    "        self.value = value\n",
    "        \n",
    "    def __add__(self, other):\n",
    "        return WeirdNumber(self.value * other)\n",
    "    \n",
    "    def __sub__(self, other):\n",
    "        return WeirdNumber(self.value / other)\n",
    "    \n",
    "    def __repr__(self):\n",
    "        return str(self.value)\n",
    "    \n",
    "    __radd__ = __add__\n",
    "    __rsub__ = __sub__\n"
   ]
  },
  {
   "cell_type": "code",
   "execution_count": 12,
   "id": "60a430cd",
   "metadata": {},
   "outputs": [],
   "source": [
    "wn = WeirdNumber(3)"
   ]
  },
  {
   "cell_type": "code",
   "execution_count": 14,
   "id": "b0282fbe",
   "metadata": {
    "scrolled": true
   },
   "outputs": [
    {
     "data": {
      "text/plain": [
       "15"
      ]
     },
     "execution_count": 14,
     "metadata": {},
     "output_type": "execute_result"
    }
   ],
   "source": [
    "wn + 5"
   ]
  },
  {
   "cell_type": "code",
   "execution_count": null,
   "id": "cbd431bb",
   "metadata": {},
   "outputs": [],
   "source": []
  }
 ],
 "metadata": {
  "kernelspec": {
   "display_name": "Python 3",
   "language": "python",
   "name": "python3"
  },
  "language_info": {
   "codemirror_mode": {
    "name": "ipython",
    "version": 3
   },
   "file_extension": ".py",
   "mimetype": "text/x-python",
   "name": "python",
   "nbconvert_exporter": "python",
   "pygments_lexer": "ipython3",
   "version": "3.8.8"
  }
 },
 "nbformat": 4,
 "nbformat_minor": 5
}
