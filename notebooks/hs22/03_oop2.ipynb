{
 "cells": [
  {
   "cell_type": "markdown",
   "id": "2c7663f6",
   "metadata": {},
   "source": [
    "# Übung 1"
   ]
  },
  {
   "cell_type": "markdown",
   "id": "7d00dcba",
   "metadata": {},
   "source": [
    "Schaue folgende Klassendefinitionen an und beantworte folgende Fragen. \n",
    "- Welches ist die Basisklasse, welches die abgeleitete Klasse?\n",
    "- Welche Methode wird in der abgeleiteten Klasse überschrieben?\n",
    "- Welche Methode erweitert in der abgeleiteten Klasse die Basisklasse?"
   ]
  },
  {
   "cell_type": "code",
   "execution_count": 13,
   "id": "1b5ba1ec",
   "metadata": {},
   "outputs": [],
   "source": [
    "class Car:\n",
    "    \n",
    "    def __init__(self, brand):\n",
    "        self.brand = brand\n",
    "      \n",
    "    def __str__(self):\n",
    "        return f\"My car is a {self.brand}\"\n",
    "\n",
    "class Lambo(Car):\n",
    "    \n",
    "    def __init__(self):\n",
    "        super().__init__(\"Lambo\")\n",
    "        \n",
    "    def make_noise(self):\n",
    "        print(\"wroooom\")"
   ]
  },
  {
   "cell_type": "markdown",
   "id": "79ccdb70",
   "metadata": {},
   "source": [
    "Sind folgende Codezeilen zulässig? Was ist das Resultat?"
   ]
  },
  {
   "cell_type": "raw",
   "id": "b481ece1",
   "metadata": {},
   "source": [
    "lambo = Lambo()\n",
    "print(lambo)"
   ]
  },
  {
   "cell_type": "raw",
   "id": "ce4aab1e",
   "metadata": {},
   "source": [
    "lambo.make_noise()"
   ]
  },
  {
   "cell_type": "raw",
   "id": "75b753ef",
   "metadata": {},
   "source": [
    "lambo2 = Car(\"Lambo\")\n",
    "print(lambo)"
   ]
  },
  {
   "cell_type": "raw",
   "id": "8f8b4e59",
   "metadata": {},
   "source": [
    "lambo2.make_noise()"
   ]
  },
  {
   "cell_type": "raw",
   "id": "96b68346",
   "metadata": {},
   "source": [
    "ferrari = Lambo(\"Ferrari\")"
   ]
  },
  {
   "cell_type": "markdown",
   "id": "250e1e7c",
   "metadata": {},
   "source": [
    "# Übung 2\n",
    "Schaue folgende Klassendefinitionen an und beantworte folgende Fragen. \n",
    "- Welches ist die Basisklasse, welches die abgeleitete Klasse?\n",
    "- Welche Methode wird in der abgeleiteten Klasse überschrieben?\n",
    "- Welche Methode erweitert in der abgeleiteten Klasse die Basisklasse?"
   ]
  },
  {
   "cell_type": "code",
   "execution_count": 35,
   "id": "6fdc021c",
   "metadata": {},
   "outputs": [],
   "source": [
    "class Car:\n",
    "    \n",
    "    def __init__(self, brand, velocity):\n",
    "        self.brand = brand\n",
    "        self.velocity = velocity\n",
    "\n",
    "    def __str__(self):\n",
    "        return f\"The {self.brand} drives at {self.velocity:,} km/h\"\n",
    "\n",
    "    def accelerate(self,value):\n",
    "        self.velocity += value\n",
    "\n",
    "        \n",
    "class Limo(Car):\n",
    "    \n",
    "    def __init__(self, brand, velocity, passengers):\n",
    "        Car.__init__(self, brand, velocity)\n",
    "        self.passenger = passengers\n",
    "        \n",
    "    def __str__(self):\n",
    "        return f\"{Car. __str__(self)} with {self.passengers} passengers\"\n",
    "    \n",
    "    def enter(self,number):\n",
    "        self.passenger +=number\n",
    "    \n",
    "    def exit(self,number):\n",
    "        self.passenger -=number\n"
   ]
  },
  {
   "cell_type": "markdown",
   "id": "d1b5044f",
   "metadata": {},
   "source": [
    "Sind folgende Codezeilen zulässig? Was ist das Resultat?"
   ]
  },
  {
   "cell_type": "raw",
   "id": "c881deba",
   "metadata": {},
   "source": [
    "fiat = Car(\"Fiat Punto\", 50)\n",
    "fiat.accelerate(30)\n",
    "print(fiat)"
   ]
  },
  {
   "cell_type": "raw",
   "id": "f42e377b",
   "metadata": {},
   "source": [
    "print(fiat.brand)"
   ]
  },
  {
   "cell_type": "raw",
   "id": "31cf4d91",
   "metadata": {},
   "source": [
    "fiat.enter(3)\n",
    "print(fiat)"
   ]
  },
  {
   "cell_type": "raw",
   "id": "ccfbfd6b",
   "metadata": {},
   "source": [
    "impreza = Limo(\"Subaru Impreza\", 120)\n",
    "print(impreza)"
   ]
  },
  {
   "cell_type": "raw",
   "id": "88a0562e",
   "metadata": {},
   "source": [
    "impreza = Limo(\"Subaru Impreza\", 120, 2)\n",
    "print(impreza)"
   ]
  },
  {
   "cell_type": "raw",
   "id": "066fae81",
   "metadata": {},
   "source": [
    "impreza.enter(3)\n",
    "print(impreza)"
   ]
  },
  {
   "cell_type": "markdown",
   "id": "9dea7354",
   "metadata": {},
   "source": [
    "# Übung 3: Mehrfachvererbung"
   ]
  },
  {
   "cell_type": "markdown",
   "id": "6ac50021",
   "metadata": {},
   "source": [
    "Schaue folgende Klassendefinitionen an. Für jede Klasse, erstelle eine Liste der verfügbaren Attribute und Methoden."
   ]
  },
  {
   "cell_type": "code",
   "execution_count": 45,
   "id": "92552174",
   "metadata": {},
   "outputs": [],
   "source": [
    "class Car:\n",
    "    \n",
    "    def __init__(self, br, ve):\n",
    "        self.brand = br\n",
    "        self.velocity = ve\n",
    "\n",
    "    def __str__(self):\n",
    "        return f\"The {self.brand} drives at {self.velocity:,} km/h\"\n",
    "\n",
    "    def accelerate(self,value):\n",
    "        self.velocity += value\n",
    "\n",
    "        \n",
    "class Limo(Car):\n",
    "    \n",
    "    def __init__(self, brand, velocity, passengers):\n",
    "        Car.__init__(self, brand, velocity)\n",
    "        self.passengers = passengers\n",
    "        \n",
    "    def __str__(self):\n",
    "        return f\"{Car. __str__(self)} with {self.passengers} passengers\"\n",
    "    \n",
    "    def enter(self,number):\n",
    "        self.passengers +=number\n",
    "    \n",
    "    def exit(self,number):\n",
    "        self.passengers -=number\n",
    "\n",
    "\n",
    "class Truck(Car):\n",
    "    \n",
    "    def __init__(self, brand, velocity, load):\n",
    "        Car.__init__(self, brand, velocity)\n",
    "        self.load = load\n",
    "        \n",
    "    def __str__(self):\n",
    "        return f\"{Car.__str__(self)} with {self.load}t load\"\n",
    "    \n",
    "    def load(self,value):\n",
    "        self.load += value\n",
    "    \n",
    "    def unload(self,value):\n",
    "        self.load -= value\n",
    "\n",
    "        \n",
    "class DeliveryTruck(Limo,Truck):\n",
    "    \n",
    "    def __init__(self, brand, velocity, passengers, load):\n",
    "        Limo.__init__(self, brand, velocity, passengers)\n",
    "        Truck. __init__(self, brand, velocity, load)\n",
    "        \n",
    "    def __str__(self):\n",
    "        return Limo. __str__(self) + \"\\n\" \\\n",
    "            + Truck.__str__(self)\n"
   ]
  },
  {
   "cell_type": "markdown",
   "id": "bc31f424",
   "metadata": {},
   "source": [
    "Was ist das Resultat folgender Ausdrücke?"
   ]
  },
  {
   "cell_type": "raw",
   "id": "9b3cdfaa",
   "metadata": {},
   "source": [
    "truck = DeliveryTruck(\"Allrounder\", 50, 2, 3)\n",
    "print(truck)"
   ]
  },
  {
   "cell_type": "raw",
   "id": "8f63e37e",
   "metadata": {},
   "source": [
    "truck.enter(2)\n",
    "truck.unload(0.5)\n",
    "print(truck)"
   ]
  },
  {
   "cell_type": "markdown",
   "id": "b1d1c31b",
   "metadata": {},
   "source": [
    "Erweitere das Programm im nächsten Code-Block (bei YOUR CODE HERE), um folgendes Resultat zu erhalten:"
   ]
  },
  {
   "cell_type": "raw",
   "id": "2240f6db",
   "metadata": {},
   "source": [
    "The Toyota drives at 40 km/h with 2 passenger\n",
    "The Toyota drives at 40 km/h with 3.5t load"
   ]
  },
  {
   "cell_type": "code",
   "execution_count": 50,
   "id": "cca3c984",
   "metadata": {},
   "outputs": [],
   "source": [
    "toyota = DeliveryTruck(\"Toyota\", 0, 0, 0)\n",
    "# YOUR CODE HERE"
   ]
  },
  {
   "cell_type": "markdown",
   "id": "e9e19a03",
   "metadata": {},
   "source": [
    "# Übung 4: Person und Student"
   ]
  },
  {
   "attachments": {},
   "cell_type": "markdown",
   "id": "cf2b08ba",
   "metadata": {},
   "source": [
    "1. Erstelle eine Klasse \"Person\" mit den Instanzattributen \"name\" und \"alter\". Die Instanzattribute werden im Konstruktor initialisiert.\n",
    "2. Füge der Klasse \"Person\" eine Methode \"display\" hinzu, welche Namen und Alter eines Objekts anzeigt.\n",
    "3. Erstelle eine Klasse \"Student\", welche von \"Person\" erbt und welche zusätzlich über das Attribut \"studiengang\" verfügt.\n",
    "4. Füge der Klasse \"Student\" eine Methode displayStudent() hinzu, die den Namen, das Alter und den Studiengang des Objekts darstellt.\n",
    "5. Erzeuge zwei Student-Objekte, und überprüfe, ob diese richtig funktionieren."
   ]
  },
  {
   "cell_type": "markdown",
   "id": "f80ce113",
   "metadata": {},
   "source": [
    "# Übung 5"
   ]
  },
  {
   "cell_type": "code",
   "execution_count": null,
   "id": "65365b6e",
   "metadata": {},
   "outputs": [],
   "source": []
  }
 ],
 "metadata": {
  "kernelspec": {
   "display_name": "Python 3",
   "language": "python",
   "name": "python3"
  },
  "language_info": {
   "codemirror_mode": {
    "name": "ipython",
    "version": 3
   },
   "file_extension": ".py",
   "mimetype": "text/x-python",
   "name": "python",
   "nbconvert_exporter": "python",
   "pygments_lexer": "ipython3",
   "version": "3.8.8"
  }
 },
 "nbformat": 4,
 "nbformat_minor": 5
}
