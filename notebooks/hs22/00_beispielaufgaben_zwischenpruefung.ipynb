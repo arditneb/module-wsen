{
 "cells": [
  {
   "cell_type": "markdown",
   "id": "b21c5dce",
   "metadata": {},
   "source": [
    "# Übungsaufgaben"
   ]
  },
  {
   "cell_type": "markdown",
   "id": "4bda91e3",
   "metadata": {},
   "source": [
    "## Syntax und einfache Berechnungen\n",
    "**Welcher Syntax ist richtig, welcher ist falsch?**"
   ]
  },
  {
   "cell_type": "raw",
   "id": "9f685c79",
   "metadata": {},
   "source": [
    "if a > 0:\n",
    "    print(\"a ist grösser als 0\")\n",
    "elif a < 0:\n",
    "    print(\"a ist kleiner als 0\")\n",
    "elif a = 0:\n",
    "    print(\"a ist 0\")"
   ]
  },
  {
   "cell_type": "raw",
   "id": "4aa9dcab",
   "metadata": {},
   "source": [
    "def sag_hallo():\n",
    "    print(Hallo, ich bin ein Computer.)"
   ]
  },
  {
   "cell_type": "raw",
   "id": "fab4bf17",
   "metadata": {},
   "source": [
    "a = 0\n",
    "b = 1\n",
    "print(\"B durch A gibt:\", b/a)"
   ]
  },
  {
   "cell_type": "raw",
   "id": "49bd6a1a",
   "metadata": {},
   "source": [
    "cOoLeVaRiAblE23 = 3"
   ]
  },
  {
   "cell_type": "raw",
   "id": "573cbd92",
   "metadata": {},
   "source": [
    "1eNiceVariable = 4"
   ]
  },
  {
   "cell_type": "raw",
   "id": "d82d67df",
   "metadata": {},
   "source": [
    "def coole_funktion!(argument):\n",
    "    print(\"ich habe die besseren Argumente:\", argument)"
   ]
  },
  {
   "cell_type": "raw",
   "id": "88c02170",
   "metadata": {},
   "source": [
    "def darf_man_das(a):\n",
    "  while True:\n",
    "      print(\"hi\")\n",
    "      if a               > 0:\n",
    "                                                  print(\"a > 0\")\n",
    "                                                  \n",
    "      else:\n",
    "       print(\"hi\")"
   ]
  },
  {
   "cell_type": "raw",
   "id": "633ba497",
   "metadata": {},
   "source": [
    "def gruessen(name):\n",
    "    print(\"Hallo\", vorname, \", wie geht es dir heute?\")"
   ]
  },
  {
   "cell_type": "code",
   "execution_count": 1,
   "id": "f3bab765",
   "metadata": {},
   "outputs": [],
   "source": [
    "def gruessen(name):\n",
    "    print(\"Hallo\", vorname, \", wie geht es dir heute?\")"
   ]
  },
  {
   "cell_type": "code",
   "execution_count": 2,
   "id": "4b59c924",
   "metadata": {},
   "outputs": [
    {
     "ename": "NameError",
     "evalue": "name 'vorname' is not defined",
     "output_type": "error",
     "traceback": [
      "\u001b[1;31m---------------------------------------------------------------------------\u001b[0m",
      "\u001b[1;31mNameError\u001b[0m                                 Traceback (most recent call last)",
      "\u001b[1;32m<ipython-input-2-80f41efa8743>\u001b[0m in \u001b[0;36m<module>\u001b[1;34m\u001b[0m\n\u001b[1;32m----> 1\u001b[1;33m \u001b[0mgruessen\u001b[0m\u001b[1;33m(\u001b[0m\u001b[1;34m\"abc\"\u001b[0m\u001b[1;33m)\u001b[0m\u001b[1;33m\u001b[0m\u001b[1;33m\u001b[0m\u001b[0m\n\u001b[0m",
      "\u001b[1;32m<ipython-input-1-ce7ccf3481b2>\u001b[0m in \u001b[0;36mgruessen\u001b[1;34m(name)\u001b[0m\n\u001b[0;32m      1\u001b[0m \u001b[1;32mdef\u001b[0m \u001b[0mgruessen\u001b[0m\u001b[1;33m(\u001b[0m\u001b[0mname\u001b[0m\u001b[1;33m)\u001b[0m\u001b[1;33m:\u001b[0m\u001b[1;33m\u001b[0m\u001b[1;33m\u001b[0m\u001b[0m\n\u001b[1;32m----> 2\u001b[1;33m     \u001b[0mprint\u001b[0m\u001b[1;33m(\u001b[0m\u001b[1;34m\"Hallo\"\u001b[0m\u001b[1;33m,\u001b[0m \u001b[0mvorname\u001b[0m\u001b[1;33m,\u001b[0m \u001b[1;34m\", wie geht es dir heute?\"\u001b[0m\u001b[1;33m)\u001b[0m\u001b[1;33m\u001b[0m\u001b[1;33m\u001b[0m\u001b[0m\n\u001b[0m",
      "\u001b[1;31mNameError\u001b[0m: name 'vorname' is not defined"
     ]
    }
   ],
   "source": [
    "gruessen(\"abc\")"
   ]
  },
  {
   "cell_type": "markdown",
   "id": "f87d296a",
   "metadata": {},
   "source": [
    "**Welche Werte haben die Variablen nach den folgenden Berechnungen?**"
   ]
  },
  {
   "cell_type": "code",
   "execution_count": 3,
   "id": "63ee86d4",
   "metadata": {},
   "outputs": [],
   "source": [
    "a = 2\n",
    "b = 3\n",
    "c = a + b\n",
    "b = 4\n",
    "d = a + b\n",
    "a += d\n",
    "d = a // c"
   ]
  },
  {
   "cell_type": "code",
   "execution_count": 12,
   "id": "3ce54e1b",
   "metadata": {
    "scrolled": true
   },
   "outputs": [],
   "source": [
    "d += d"
   ]
  },
  {
   "cell_type": "code",
   "execution_count": 13,
   "id": "bf443475",
   "metadata": {},
   "outputs": [
    {
     "data": {
      "text/plain": [
       "8"
      ]
     },
     "execution_count": 13,
     "metadata": {},
     "output_type": "execute_result"
    }
   ],
   "source": [
    "d"
   ]
  },
  {
   "cell_type": "markdown",
   "id": "a9901c05",
   "metadata": {},
   "source": [
    "## Casting\n",
    "Was sind die Resultate folgender Operationen?"
   ]
  },
  {
   "cell_type": "raw",
   "id": "5ae9237b",
   "metadata": {},
   "source": [
    "int(-2)\n",
    "float(-2)\n",
    "float(\"4\")\n",
    "int(\"2.0\")\n",
    "bool(1.0)\n",
    "bool(0.0)\n",
    "bool(-2.0)\n",
    "list(\"hallo\")"
   ]
  },
  {
   "cell_type": "code",
   "execution_count": 16,
   "id": "733c4918",
   "metadata": {},
   "outputs": [
    {
     "data": {
      "text/plain": [
       "['h', 'a', 'l', 'l', 'o']"
      ]
     },
     "execution_count": 16,
     "metadata": {},
     "output_type": "execute_result"
    }
   ],
   "source": [
    "list(\"hallo\")\n"
   ]
  },
  {
   "cell_type": "markdown",
   "id": "af3a8cc2",
   "metadata": {},
   "source": [
    "## Kontrollstrukturen & Vergleichsoperatoren"
   ]
  },
  {
   "cell_type": "markdown",
   "id": "643b4d5b",
   "metadata": {},
   "source": [
    "**Was geben folgende Programme aus?**"
   ]
  },
  {
   "cell_type": "raw",
   "id": "74e0a243",
   "metadata": {},
   "source": [
    "a = 3\n",
    "b = 2\n",
    "\n",
    "print(\"Wo\")\n",
    "\n",
    "if a > 2 and b >= a:\n",
    "    print(\"finde\")\n",
    "elif b == 2:\n",
    "    print(\"ist\")\n",
    "else:\n",
    "    print(\"isst\")\n",
    "    \n",
    "    if a == 3:\n",
    "        print(\"Fritz?\")\n",
    "\n",
    "if b > 2:\n",
    "    if True:\n",
    "        print(\"Urs?\")\n",
    "\n",
    "    else:\n",
    "        print(\"Karin?\")\n",
    "else:\n",
    "    print(\"Waldo?\")"
   ]
  },
  {
   "cell_type": "markdown",
   "id": "477e0292",
   "metadata": {},
   "source": [
    "**Geben folgende Funktionen das erwartete (und im Docstring beschriebene) Resultat?** Wie können sie korrigiert werden?"
   ]
  },
  {
   "cell_type": "code",
   "execution_count": null,
   "id": "ec67f8c0",
   "metadata": {},
   "outputs": [],
   "source": [
    "def summe_von_bis(start, stop):\n",
    "    \"\"\"Berechnet die Summe aller Zahlen von 'start' bis und mit 'stop'.\"\"\"\n",
    "    resultat = 0\n",
    "    for i in range(start, stop + 1):\n",
    "        resultat += i\n",
    "    return resultat"
   ]
  },
  {
   "cell_type": "code",
   "execution_count": 17,
   "id": "ac65009d",
   "metadata": {},
   "outputs": [],
   "source": [
    "def produkt_bis(stop):\n",
    "    \"\"\"Berechnet das Produkt aller Zahlen von 1 bis und mit 'stop'\"\"\"\n",
    "    resultat = 1\n",
    "    for i in range(1, stop + 1):\n",
    "        resultat *= i\n",
    "    return resultat"
   ]
  },
  {
   "cell_type": "code",
   "execution_count": 18,
   "id": "dd8174c1",
   "metadata": {},
   "outputs": [
    {
     "data": {
      "text/plain": [
       "0"
      ]
     },
     "execution_count": 18,
     "metadata": {},
     "output_type": "execute_result"
    }
   ],
   "source": [
    "produkt_bis(123)"
   ]
  },
  {
   "cell_type": "code",
   "execution_count": null,
   "id": "e117fe0a",
   "metadata": {},
   "outputs": [],
   "source": [
    "def wer_ist_aelter(name1, alter1, name2, alter2):\n",
    "    \"\"\"Nimmt Name und Alter von Person 1 und 2, schreibt in Konsole, wer älter ist.\"\"\"\n",
    "    \n",
    "    if alter1 > alter2:\n",
    "        print(name1, \"ist älter als\", name2)\n",
    "    elif alter2 > alter1:\n",
    "        print(name2, \"ist älter als\", name1)\n",
    "    else:\n",
    "        print(\"beide sind gleich alt\")"
   ]
  },
  {
   "cell_type": "markdown",
   "id": "48a6101d",
   "metadata": {},
   "source": [
    "**Scheibe folgende for-Loops in while-Loops um**."
   ]
  },
  {
   "cell_type": "code",
   "execution_count": 21,
   "id": "bfe81a93",
   "metadata": {},
   "outputs": [
    {
     "name": "stdout",
     "output_type": "stream",
     "text": [
      "1\n",
      "2\n",
      "4\n",
      "8\n",
      "16\n"
     ]
    }
   ],
   "source": [
    "for e in range(5):\n",
    "    print(2 ** e)"
   ]
  },
  {
   "cell_type": "code",
   "execution_count": 22,
   "id": "b1121615",
   "metadata": {},
   "outputs": [
    {
     "name": "stdout",
     "output_type": "stream",
     "text": [
      "1\n",
      "2\n",
      "4\n",
      "8\n",
      "16\n"
     ]
    }
   ],
   "source": [
    "e = 0\n",
    "while e < 5:\n",
    "    print(2 ** e)\n",
    "    e += 1\n"
   ]
  },
  {
   "cell_type": "code",
   "execution_count": 23,
   "id": "e43bbd39",
   "metadata": {},
   "outputs": [],
   "source": [
    "def das_kleine_einmaleins():\n",
    "    \"\"\"Erzeugt eine Tabelle mit dem kleinen 1x1.\n",
    "    Als Wandposter: https://www.trenddeko.ch/poster-das-kleine-1x1-wa317907-m\n",
    "    \"\"\"\n",
    "    output = []\n",
    "    for i in range(1, 11):\n",
    "        sublist = []\n",
    "        for j in range(1, 11):\n",
    "            sublist.append(i * j)\n",
    "        output.append(sublist)\n",
    "    return output"
   ]
  },
  {
   "cell_type": "code",
   "execution_count": 27,
   "id": "35197861",
   "metadata": {},
   "outputs": [],
   "source": [
    "def einmaleins():\n",
    "    output = []\n",
    "    \n",
    "    i = 1\n",
    "    while i <= 10:\n",
    "        sublist = []\n",
    "        \n",
    "        j = 1\n",
    "        while j <= 10:\n",
    "            sublist.append(i * j)\n",
    "            j += 1\n",
    "        output.append(sublist)\n",
    "        \n",
    "        print(output)\n",
    "        i += 1\n",
    "    \n",
    "    return output"
   ]
  },
  {
   "cell_type": "code",
   "execution_count": 30,
   "id": "000d1326",
   "metadata": {},
   "outputs": [
    {
     "name": "stdout",
     "output_type": "stream",
     "text": [
      "Giesst Basilikum mit 0.3 Liter Wasser.\n",
      "Giesst Rosmarin mit 0.1 Liter Wasser.\n",
      "Giesst Ufo-pflanze mit 0.2 Liter Wasser.\n",
      "Giesst Papyrus mit 1.2 Liter Wasser.\n"
     ]
    }
   ],
   "source": [
    "pflanzen_wassermenge = [\n",
    "    [\"Basilikum\", 0.3],\n",
    "    [\"Rosmarin\", 0.1], \n",
    "    [\"Ufo-pflanze\", 0.2],\n",
    "    [\"Papyrus\", 1.2]\n",
    "]\n",
    "\n",
    "for zeile in pflanzen_wassermenge:\n",
    "    pflanze = zeile[0]\n",
    "    wassermenge = zeile[1]\n",
    "    \n",
    "    print(\"Giesst\", pflanze, \"mit\", wassermenge, \"Liter Wasser.\")\n"
   ]
  },
  {
   "cell_type": "code",
   "execution_count": 35,
   "id": "f2eded7d",
   "metadata": {},
   "outputs": [
    {
     "name": "stdout",
     "output_type": "stream",
     "text": [
      "Giesst Basilikum mit 0.3 Liter Wasser.\n",
      "Giesst Rosmarin mit 0.1 Liter Wasser.\n",
      "Giesst Ufo-pflanze mit 0.2 Liter Wasser.\n",
      "Giesst Papyrus mit 1.2 Liter Wasser.\n"
     ]
    }
   ],
   "source": [
    "i = 0\n",
    "\n",
    "while i < len(pflanzen_wassermenge):\n",
    "    pflanze = pflanzen_wassermenge[i][0]\n",
    "    wassermenge = pflanzen_wassermenge[i][1]\n",
    "    \n",
    "    print(\"Giesst\", pflanze, \"mit\", wassermenge, \"Liter Wasser.\")\n",
    "    \n",
    "    \n",
    "    i += 1"
   ]
  },
  {
   "cell_type": "markdown",
   "id": "1e4072a3",
   "metadata": {},
   "source": [
    "**Was macht folgende Funktion?**"
   ]
  },
  {
   "cell_type": "code",
   "execution_count": 36,
   "id": "0f9fb46a",
   "metadata": {},
   "outputs": [],
   "source": [
    "def unnamed(number):\n",
    "    output = \"\"\n",
    "    while number > 0:\n",
    "        output = str(number % 2) + output\n",
    "        number //= 2\n",
    "    return output"
   ]
  },
  {
   "cell_type": "code",
   "execution_count": 39,
   "id": "87a89b14",
   "metadata": {},
   "outputs": [
    {
     "data": {
      "text/plain": [
       "'1'"
      ]
     },
     "execution_count": 39,
     "metadata": {},
     "output_type": "execute_result"
    }
   ],
   "source": [
    "unnamed(1)"
   ]
  },
  {
   "cell_type": "code",
   "execution_count": 38,
   "id": "5d3b1ec8",
   "metadata": {},
   "outputs": [
    {
     "data": {
      "text/plain": [
       "'100'"
      ]
     },
     "execution_count": 38,
     "metadata": {},
     "output_type": "execute_result"
    }
   ],
   "source": [
    "unnamed(4)"
   ]
  },
  {
   "cell_type": "code",
   "execution_count": 37,
   "id": "298d8a1d",
   "metadata": {},
   "outputs": [
    {
     "data": {
      "text/plain": [
       "'101'"
      ]
     },
     "execution_count": 37,
     "metadata": {},
     "output_type": "execute_result"
    }
   ],
   "source": [
    "unnamed(5)"
   ]
  },
  {
   "cell_type": "code",
   "execution_count": 41,
   "id": "59ca2ae3",
   "metadata": {},
   "outputs": [
    {
     "data": {
      "text/plain": [
       "'0o5'"
      ]
     },
     "execution_count": 41,
     "metadata": {},
     "output_type": "execute_result"
    }
   ],
   "source": [
    "oct(5)"
   ]
  },
  {
   "cell_type": "markdown",
   "id": "85735962",
   "metadata": {},
   "source": [
    "## Funktionen\n",
    "**Was ist die Ausgabe folgender Programme?**"
   ]
  },
  {
   "cell_type": "raw",
   "id": "c3b76ae4",
   "metadata": {},
   "source": [
    "x = 3\n",
    "\n",
    "def some_func(x):\n",
    "    print(x)\n",
    "    \n",
    "some_func(4)"
   ]
  },
  {
   "cell_type": "code",
   "execution_count": 43,
   "id": "546f0715",
   "metadata": {},
   "outputs": [
    {
     "name": "stdout",
     "output_type": "stream",
     "text": [
      "4\n",
      "3\n"
     ]
    }
   ],
   "source": [
    "y = 3\n",
    "\n",
    "def some_other_func(x):\n",
    "    y = x + 2\n",
    "    print(y)\n",
    "    \n",
    "some_other_func(2)\n",
    "print(y)"
   ]
  },
  {
   "cell_type": "code",
   "execution_count": 44,
   "id": "a5a5f7e1",
   "metadata": {},
   "outputs": [
    {
     "name": "stdout",
     "output_type": "stream",
     "text": [
      "3\n",
      "23\n"
     ]
    }
   ],
   "source": [
    "z = 23\n",
    "\n",
    "def yet_another_func():\n",
    "    z = 3\n",
    "    print(z)\n",
    "    \n",
    "yet_another_func()\n",
    "print(z)"
   ]
  },
  {
   "cell_type": "markdown",
   "id": "bade2bc7",
   "metadata": {},
   "source": [
    "## Exception Handling\n",
    "**Aufgaben**\n",
    "Komplettiere folgende Funktionen:"
   ]
  },
  {
   "cell_type": "code",
   "execution_count": null,
   "id": "539ea4c8",
   "metadata": {},
   "outputs": [],
   "source": [
    "def frage_nach_float():\n",
    "    \"\"\"Fragt den User nach einer Zahl. Falls der eingegebene Wert in eine float konvertiert werden \n",
    "    kann, gib diese float zurück. Falls nicht, frage nochmals nach einer Zahl - solange, bis ein \n",
    "    zulässiger Wert eingegeben wurde.\"\"\""
   ]
  },
  {
   "cell_type": "code",
   "execution_count": null,
   "id": "f7667479",
   "metadata": {},
   "outputs": [],
   "source": [
    "def fail_safe_inverse(x):\n",
    "    \"\"\"Berechnet 1/x. Falls x 0 ist, geben wir 0 zurück.\"\"\""
   ]
  },
  {
   "cell_type": "markdown",
   "id": "b9a43bdd",
   "metadata": {},
   "source": [
    "Für folgende Funktion, welchen Output erhalten wir für den Wert x=0, und welchen Output für x=1?"
   ]
  },
  {
   "cell_type": "raw",
   "id": "853c5fd6",
   "metadata": {},
   "source": [
    "def example_func(x):\n",
    "    \n",
    "    try:\n",
    "        result = 1 / x\n",
    "    except:\n",
    "        result = 0.0\n",
    "        print(\"Fehler in Berechnung, setze Resultat = 0\")\n",
    "    else:\n",
    "        print(\"Berechnung war erfolgreich.\")\n",
    "    finally:\n",
    "        print(\"Das Resultat ist\", result)"
   ]
  },
  {
   "cell_type": "markdown",
   "id": "441b5683",
   "metadata": {},
   "source": [
    "## Listen und Strings"
   ]
  },
  {
   "cell_type": "code",
   "execution_count": null,
   "id": "d0a58cd3",
   "metadata": {},
   "outputs": [],
   "source": [
    "def vokale_entfernen(string):\n",
    "    \"\"\"Entfernt alle Vokale (aeiou) aus dem angegebenen String.\"\"\"\n",
    "    # your code here"
   ]
  },
  {
   "cell_type": "code",
   "execution_count": null,
   "id": "6988245b",
   "metadata": {},
   "outputs": [],
   "source": [
    "def substring_entfernen(string, substring):\n",
    "    \"\"\"Falls der substring im string enthalten wird, wird der erste (und nur der erste) substring \n",
    "    entfernt.\"\"\"\n",
    "    # your code here"
   ]
  },
  {
   "cell_type": "code",
   "execution_count": 53,
   "id": "e75e037c",
   "metadata": {},
   "outputs": [],
   "source": [
    "a = [1, 2, 3]\n",
    "b = a\n",
    "# what is in b? what is returned by \"a is b\"?"
   ]
  },
  {
   "cell_type": "code",
   "execution_count": 54,
   "id": "28572a2b",
   "metadata": {},
   "outputs": [
    {
     "data": {
      "text/plain": [
       "True"
      ]
     },
     "execution_count": 54,
     "metadata": {},
     "output_type": "execute_result"
    }
   ],
   "source": [
    "a is b"
   ]
  },
  {
   "cell_type": "code",
   "execution_count": 48,
   "id": "fee32615",
   "metadata": {},
   "outputs": [
    {
     "data": {
      "text/plain": [
       "[1, 2, 3]"
      ]
     },
     "execution_count": 48,
     "metadata": {},
     "output_type": "execute_result"
    }
   ],
   "source": [
    "b"
   ]
  },
  {
   "cell_type": "markdown",
   "id": "c34e19db",
   "metadata": {},
   "source": [
    "## Weiterführende Aufgaben\n",
    "**Komplettiere folgende Funktionen:**"
   ]
  },
  {
   "cell_type": "code",
   "execution_count": null,
   "id": "4b3d3da1",
   "metadata": {},
   "outputs": [],
   "source": [
    "def kleinster_divisor(a):\n",
    "    \"\"\"Gibt die kleinste ganze Zahl >= 2 zurück, durch welche die eingegebene Zahl a ohne Rest dividiert werden kann.\"\"\""
   ]
  },
  {
   "cell_type": "code",
   "execution_count": null,
   "id": "b06f948a",
   "metadata": {},
   "outputs": [],
   "source": [
    "def ist_primzahl(a):\n",
    "    \"\"\"Überprüft, ob die Zahl a eine Primzahl ist. Dies machen wir, indem wir überprüfen, ob der kleinste Divisor \n",
    "    die Zahl selbst ist. Gibt eine boolean-Variabel zurück.\"\"\""
   ]
  },
  {
   "cell_type": "code",
   "execution_count": null,
   "id": "6b0afcc9",
   "metadata": {},
   "outputs": [],
   "source": [
    "def primzahlen_bis(stop):\n",
    "    \"\"\"printet alle Primzahlen von 0 bis stop.\"\"\""
   ]
  },
  {
   "cell_type": "code",
   "execution_count": null,
   "id": "c28587fe",
   "metadata": {},
   "outputs": [],
   "source": [
    "def primzahlen_bis_als_liste(stop):\n",
    "    \"\"\"Gibt eine Liste mit allen Primzahlen zwischen 0 und stop zurück, verwendet ist_primzahl von oben.\"\"\""
   ]
  },
  {
   "cell_type": "code",
   "execution_count": null,
   "id": "6d787449",
   "metadata": {},
   "outputs": [],
   "source": [
    "def primzahlen_bis_als_liste2(stop):\n",
    "    \"\"\"Gibt eine Liste mit allen Primzahlen zwischen 0 und stop zurück, geht wie folgt vor:\n",
    "    \n",
    "    Zuerst erstellen wir eine Liste mit allen Zahlen zwischen 0 und stop.\n",
    "    Dann machen wir für jede Kombination von i und j zwischen 0 und stop/2 folgendes:\n",
    "        Wir entfernen den Wert i * j aus der ursprünglichen Liste\n",
    "    \"\"\""
   ]
  },
  {
   "cell_type": "markdown",
   "id": "518670cc",
   "metadata": {},
   "source": [
    "Kleine Nebenbemerkung (*nicht Prüfungsrelevant*): Um zu überprüfen, welche Version schneller ist, können wir z.B. timeit verwenden. Dies funktioniert nur in Jupyter Notebooks (denn das % am Anfang der Zeile ist nicht von Python, sondern spezifisch für Jupyter Notebooks)."
   ]
  },
  {
   "cell_type": "code",
   "execution_count": null,
   "id": "37eaf36a",
   "metadata": {},
   "outputs": [],
   "source": [
    "%timeit primzahlen_bis_als_liste(2)"
   ]
  },
  {
   "cell_type": "code",
   "execution_count": null,
   "id": "2deee7f3",
   "metadata": {},
   "outputs": [],
   "source": [
    "%timeit primzahlen_bis_als_liste2(2)"
   ]
  },
  {
   "cell_type": "markdown",
   "id": "ab9af8a6",
   "metadata": {},
   "source": [
    "Weitere Aufgabe: "
   ]
  },
  {
   "cell_type": "code",
   "execution_count": null,
   "id": "4a46ca8a",
   "metadata": {},
   "outputs": [],
   "source": [
    "def quersumme(zahl):\n",
    "    \"\"\"Berechnet die Quersumme der Zahl - also die Summe der einzelnen Ziffern.\n",
    "    Beispiel:\n",
    "    11 -> 1+1 = 2\n",
    "    132 -> 1+3+2 = 6\n",
    "    etc.\n",
    "    \"\"\""
   ]
  }
 ],
 "metadata": {
  "kernelspec": {
   "display_name": "Python 3",
   "language": "python",
   "name": "python3"
  },
  "language_info": {
   "codemirror_mode": {
    "name": "ipython",
    "version": 3
   },
   "file_extension": ".py",
   "mimetype": "text/x-python",
   "name": "python",
   "nbconvert_exporter": "python",
   "pygments_lexer": "ipython3",
   "version": "3.8.8"
  }
 },
 "nbformat": 4,
 "nbformat_minor": 5
}
