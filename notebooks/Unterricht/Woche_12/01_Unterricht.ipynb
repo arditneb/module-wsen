{
 "cells": [
  {
   "cell_type": "markdown",
   "metadata": {},
   "source": [
    "## 1. Vererbung\n",
    "\n",
    "### 1.1 Einführung\n",
    "Wir wollen oft eine bestehende Klasse erweitern und mit neuen Funktionen anreichern. Dazu gibt es das Prinzip der Vererbung: Wir können alle Attribute und Methoden einer bestehenden Klasse erben, und aus Ausgangspunkt für eine neue Klasse verwenden.\n",
    "\n",
    "Terminologie: \n",
    "- Neu gebildete Klassen: Abgeleitete Klassen\n",
    "- Ursprüngliche Klasse: Basisklasse\n",
    "\n",
    "Hier ist ein erstes Beispiel:"
   ]
  },
  {
   "cell_type": "code",
   "execution_count": 6,
   "metadata": {},
   "outputs": [],
   "source": [
    "class Parent:\n",
    "    \"\"\"Eine ganz normale Klasse mit einem Instanzattribut und einer Methode.\"\"\"\n",
    "\n",
    "    def __init__(self, a):\n",
    "        self.a = a\n",
    "\n",
    "    def do_something(self):\n",
    "        print(self.a)\n",
    "        \n",
    "class Child(Parent):\n",
    "    \"\"\"Wir erstellen eine neue abgeleitete Klasse, welche von Parent erbt.\"\"\"\n",
    "    pass\n"
   ]
  },
  {
   "cell_type": "markdown",
   "metadata": {},
   "source": [
    "Obwohl die Klassendefinition von Child ja eigentlich leer ist, haben wir darin die Methoden und Attribute von Parent."
   ]
  },
  {
   "cell_type": "code",
   "execution_count": 7,
   "metadata": {},
   "outputs": [
    {
     "data": {
      "text/plain": [
       "'a'"
      ]
     },
     "execution_count": 7,
     "metadata": {},
     "output_type": "execute_result"
    }
   ],
   "source": [
    "child = Child(\"a\")\n",
    "child.a  # wir haben das Attribut a"
   ]
  },
  {
   "cell_type": "code",
   "execution_count": 8,
   "metadata": {},
   "outputs": [
    {
     "name": "stdout",
     "output_type": "stream",
     "text": [
      "a\n"
     ]
    }
   ],
   "source": [
    "child.do_something()  # und auch die Methode do_sth"
   ]
  },
  {
   "cell_type": "markdown",
   "metadata": {},
   "source": [
    "Vererbung wird eingesetzt, wenn wir einerseits eine übergeordnete Klasse haben (z.B. Hunde), und anderseits eine oder mehrere untergeordnete Klassen, welche die übergeordnete Klasse noch erweitern (z.B. Chihuahuas oder Bulldogs)."
   ]
  },
  {
   "cell_type": "code",
   "execution_count": 11,
   "metadata": {},
   "outputs": [],
   "source": [
    "class Dog:\n",
    "    def __init__(self, name):\n",
    "        self.n = name\n",
    "    \n",
    "    def __str__(self):\n",
    "        return f\"Hi, I am {self.n}\"\n",
    "    \n",
    "    \n",
    "class Chihuahua(Dog):\n",
    "    def bark(self):\n",
    "        # wir können auf self.n zugreifen, da dieses Attribut von Dog geerbt wurde\n",
    "        print(f\"{self.n} says: 'äff'\")\n",
    "        \n",
    "\n",
    "class Bulldog(Dog):\n",
    "    def bark(self):\n",
    "        print(f\"{self.n} says: 'whuff'\")\n"
   ]
  },
  {
   "cell_type": "code",
   "execution_count": 10,
   "metadata": {},
   "outputs": [
    {
     "name": "stdout",
     "output_type": "stream",
     "text": [
      "Sandy says: 'äff'\n",
      "Terry says: 'whuff'\n"
     ]
    }
   ],
   "source": [
    "# Verwendung\n",
    "ch = Chihuahua(\"Sandy\")\n",
    "ch.bark()\n",
    "\n",
    "bd = Bulldog(\"Terry\")\n",
    "bd.bark()\n"
   ]
  },
  {
   "cell_type": "markdown",
   "metadata": {},
   "source": [
    "<br><br><br><br><br>\n",
    "<div class=\"exercise\">\n",
    "\n",
    "<img src=\"https://i.imgur.com/JyhBeDB.png\" class=\"exercise_image\" width=100>\n",
    "\n",
    "<span class=\"exercise_label\">**Aufgabe:**</span>\n",
    "Erzeuge eine neue Klasse Husky, welche von Dog erbt. Implementiere die Methode `bark`. Ein Husky macht `hooooooooo`.\n",
    "\n",
    "</div>"
   ]
  },
  {
   "cell_type": "markdown",
   "metadata": {},
   "source": [
    "### 1.2 Methoden überschreiben\n",
    "Bis jetzt haben wir die Basisklasse immer mit neuen Methoden erweitert. Wir können aber auch bestehende Methoden überschreiben. Dies wird \"method overriding\" genannt.\n",
    "\n",
    "Als Beispiel können wir für unsere Basisklasse eine Methode `bark` definieren, welche grundsätzlich \"whuff\" macht. Für Chihuahuas können wir die `bark`-Methode überschreiben, sodass diese \"äff\" machen."
   ]
  },
  {
   "cell_type": "code",
   "execution_count": 14,
   "metadata": {},
   "outputs": [],
   "source": [
    "class Dog:\n",
    "    def __init__(self, name):\n",
    "        self.n = name\n",
    "    \n",
    "    def bark(self):\n",
    "        print(f\"{self.n} says: 'whuff'\")    \n",
    "\n",
    "\n",
    "class Chihuahua(Dog):\n",
    "    # wir überschreiben die Methode bark bei Chihuahuas, sodass etwas\n",
    "    # anderes passiert.\n",
    "    def bark(self):\n",
    "        print(f\"{self.n} says: 'äff'\")\n"
   ]
  },
  {
   "cell_type": "code",
   "execution_count": 16,
   "metadata": {},
   "outputs": [
    {
     "name": "stdout",
     "output_type": "stream",
     "text": [
      "Sandy says: 'äff'\n",
      "Terry says: 'whuff'\n"
     ]
    }
   ],
   "source": [
    "# Verwendung\n",
    "ch = Chihuahua(\"Sandy\")\n",
    "ch.bark()\n",
    "\n",
    "dog = Dog(\"Terry\")\n",
    "dog.bark()\n"
   ]
  },
  {
   "cell_type": "markdown",
   "metadata": {},
   "source": [
    "### 1.3 Zugriff auf die Methoden der Elternklasse\n",
    "Es kann vorkommen, dass wir auf die Methoden der Elternklassen zugreifen wollen - insbesondere, wenn wir eine Methode in unserer Klasse überschrieben haben. Dazu verwenden wir die Methode `super()`, welche uns die übergeordnete Klasse zurückgibt.\n",
    "\n",
    "Hier ist ein Beispiel dazu:"
   ]
  },
  {
   "cell_type": "code",
   "execution_count": 22,
   "metadata": {},
   "outputs": [],
   "source": [
    "class Dog:\n",
    "    def __init__(self, name):\n",
    "        self.n = name\n",
    "    \n",
    "    # wir haben nun ein zusätzliches Attribut, welches definiert, wie gebellt wird\n",
    "    def bark(self, how):\n",
    "        print(f\"{self.n} says: {how}\")    \n",
    "\n",
    "\n",
    "class Chihuahua(Dog):\n",
    "    # In Chihuahua überschreiben wir die Methode. Wir rufen die übergeordnete Methode mit how=\"äff\" auf\n",
    "    def bark(self):\n",
    "        super().bark(\"äff\")\n"
   ]
  },
  {
   "cell_type": "code",
   "execution_count": 25,
   "metadata": {},
   "outputs": [
    {
     "name": "stdout",
     "output_type": "stream",
     "text": [
      "Fred says: whooffff\n"
     ]
    }
   ],
   "source": [
    "dog = Dog(\"Fred\")\n",
    "dog.bark(\"whooffff\")"
   ]
  },
  {
   "cell_type": "code",
   "execution_count": 27,
   "metadata": {},
   "outputs": [
    {
     "name": "stdout",
     "output_type": "stream",
     "text": [
      "Sandy says: äff\n"
     ]
    }
   ],
   "source": [
    "chihuahua = Chihuahua(\"Sandy\")\n",
    "chihuahua.bark()  # für Chihuahua haben wir bark überschrieben, sodass es kein Argument braucht"
   ]
  },
  {
   "cell_type": "markdown",
   "metadata": {},
   "source": [
    "Dies ist insbesondere auch sehr nützlich, wenn wir in der abgeleiteten Klasse im Constructor mehr Attribute hinzufügen wollen."
   ]
  },
  {
   "cell_type": "code",
   "execution_count": 32,
   "metadata": {},
   "outputs": [],
   "source": [
    "class Parent:\n",
    "    \n",
    "    def __init__(self, a):\n",
    "        self.a = a\n",
    "        print(\"Initialized Parent!\")\n",
    "\n",
    "\n",
    "class Child(Parent):\n",
    "\n",
    "    def __init__(self, a, b):\n",
    "        \"\"\"Wir überschreiben den Constructor mit einem zusätzlichen Argument.\"\"\"\n",
    "        # Elternklassen initialisieren\n",
    "        super().__init__(a)\n",
    "\n",
    "        # dann fügen wir das neue Attribut hinzu\n",
    "        self.b = b\n",
    "        print(\"Initialized Child!\")\n"
   ]
  },
  {
   "cell_type": "code",
   "execution_count": 33,
   "metadata": {},
   "outputs": [
    {
     "name": "stdout",
     "output_type": "stream",
     "text": [
      "Initialized Parent!\n",
      "Initialized Child!\n"
     ]
    }
   ],
   "source": [
    "child = Child(1, 2)"
   ]
  },
  {
   "cell_type": "markdown",
   "metadata": {},
   "source": [
    "<br><br><br><br><br>\n",
    "<div class=\"exercise\">\n",
    "\n",
    "<img src=\"https://i.imgur.com/JyhBeDB.png\" class=\"exercise_image\" width=100>\n",
    "\n",
    "<span class=\"exercise_label\">**Aufgabe:**</span>\n",
    "Schaue folgende Klassendefinitionen an und beantworte folgende Fragen. \n",
    "- Welches ist die Basisklasse, welches die abgeleitete Klasse?\n",
    "- Welche Methode wird in der abgeleiteten Klasse überschrieben?\n",
    "- Welche Methode erweitert in der abgeleiteten Klasse die Basisklasse?\n",
    "\n",
    "</div>"
   ]
  },
  {
   "cell_type": "code",
   "execution_count": null,
   "metadata": {},
   "outputs": [],
   "source": [
    "class Car:\n",
    "    \n",
    "    def __init__(self, brand):\n",
    "        self.brand = brand\n",
    "      \n",
    "    def __str__(self):\n",
    "        return f\"My car is a {self.brand}\"\n",
    "\n",
    "\n",
    "class Lambo(Car):\n",
    "    \n",
    "    def __init__(self):\n",
    "        super().__init__(\"Lambo\")\n",
    "        \n",
    "    def make_noise(self):\n",
    "        print(\"wroooom\")"
   ]
  },
  {
   "cell_type": "markdown",
   "metadata": {},
   "source": [
    "Sind folgende Codezeilen zulässig? Was ist das Resultat?"
   ]
  },
  {
   "cell_type": "raw",
   "metadata": {},
   "source": [
    "lambo = Lambo()\n",
    "print(lambo)"
   ]
  },
  {
   "cell_type": "raw",
   "metadata": {},
   "source": [
    "lambo.make_noise()"
   ]
  },
  {
   "cell_type": "raw",
   "metadata": {},
   "source": [
    "lambo2 = Car(\"Lambo\")\n",
    "print(lambo)"
   ]
  },
  {
   "cell_type": "raw",
   "metadata": {},
   "source": [
    "lambo2.make_noise()"
   ]
  },
  {
   "cell_type": "raw",
   "metadata": {},
   "source": [
    "ferrari = Lambo(\"Ferrari\")"
   ]
  },
  {
   "cell_type": "markdown",
   "metadata": {},
   "source": [
    "### 1.4 Vererbung über mehrere \"Generationen\"\n",
    "Eine abgeleitete Klasse kann auch Basis für eine weitere Klasse sein. Wir können also folgende Struktur haben:\n",
    "`C` erbt von `B`, welches von `A` erbt. Dies ist beliebig erweiterbar. Im Code sieht es wie folgt aus:"
   ]
  },
  {
   "cell_type": "code",
   "execution_count": 35,
   "metadata": {},
   "outputs": [
    {
     "name": "stdout",
     "output_type": "stream",
     "text": [
      "Ich bin eine Methode von A.\n",
      "Ich bin eine Methode von B.\n",
      "Ich bin eine Methode von C.\n"
     ]
    }
   ],
   "source": [
    "class A:\n",
    "\n",
    "    def method_of_a(self):\n",
    "        print(\"Ich bin eine Methode von A.\")\n",
    "\n",
    "\n",
    "class B(A):\n",
    "\n",
    "    def method_of_b(self):\n",
    "        print(\"Ich bin eine Methode von B.\")\n",
    "\n",
    "\n",
    "class C(B):\n",
    "\n",
    "    def method_of_c(self):\n",
    "        print(\"Ich bin eine Methode von C.\")\n",
    "\n",
    "\n",
    "# Erstelle ein Objekt von Typ C\n",
    "c = C()\n",
    "\n",
    "# Dieses Objekt hat die Methoden von A, B und C\n",
    "c.method_of_a()\n",
    "c.method_of_b()\n",
    "c.method_of_c()"
   ]
  },
  {
   "cell_type": "markdown",
   "metadata": {},
   "source": [
    "### 1.5 Mehrere Basisklassen\n",
    "Eine Methode kann auch von mehreren Basisklassen gleichzeitig erben. Alle Basisklassen, von denen geerbt wird, werden durch Komma getrennt angegeben. Hier ein Beispiel:"
   ]
  },
  {
   "cell_type": "code",
   "execution_count": 36,
   "metadata": {},
   "outputs": [],
   "source": [
    "class A:\n",
    "\n",
    "    def method_of_a(self):\n",
    "        print(\"Ich bin eine Methode von A.\")\n",
    "\n",
    "\n",
    "class B:\n",
    "\n",
    "    def method_of_b(self):\n",
    "        print(\"Ich bin eine Methode von B.\")\n",
    "\n",
    "\n",
    "class C(A, B):\n",
    "\n",
    "    def method_of_c(self):\n",
    "        print(\"Ich bin eine Methode von C.\")"
   ]
  },
  {
   "cell_type": "markdown",
   "metadata": {},
   "source": [
    "Dank dem Syntax `class C(A, B)` erbt `C` also alle Methoden von `A` und `B`, auch wenn `B` nicht von `C` erbt. Wir können dies so testen:"
   ]
  },
  {
   "cell_type": "code",
   "execution_count": 37,
   "metadata": {},
   "outputs": [
    {
     "name": "stdout",
     "output_type": "stream",
     "text": [
      "Ich bin eine Methode von A.\n",
      "Ich bin eine Methode von B.\n",
      "Ich bin eine Methode von C.\n"
     ]
    }
   ],
   "source": [
    "# Erstelle ein Objekt von Typ C\n",
    "c = C()\n",
    "\n",
    "# Dieses Objekt hat die Methoden von A, B und C\n",
    "c.method_of_a()\n",
    "c.method_of_b()\n",
    "c.method_of_c()"
   ]
  },
  {
   "cell_type": "markdown",
   "metadata": {},
   "source": [
    "Wenn eine Methode in mehreren Klassen existiert, von denen geerbt wird, dann hat die erstgenannte Klasse vorrang. Im nachfolgenden Beispiel hat sowohl Klasse `A` als auch `B` die Methode namens `method`. Da zuerst von `A` geerbt wird, hat auch die Methode von `A` vorrang."
   ]
  },
  {
   "cell_type": "code",
   "execution_count": 39,
   "metadata": {},
   "outputs": [
    {
     "name": "stdout",
     "output_type": "stream",
     "text": [
      "Methode aus Klasse A\n"
     ]
    }
   ],
   "source": [
    "class A:\n",
    "\n",
    "    def method(self):\n",
    "        print(\"Methode aus Klasse A\")\n",
    "\n",
    "\n",
    "class B:\n",
    "\n",
    "    def method(self):\n",
    "        print(\"Methode aus Klasse B\")\n",
    "\n",
    "\n",
    "class C(A, B):\n",
    "    pass\n",
    "\n",
    "\n",
    "c = C()\n",
    "c.method()"
   ]
  },
  {
   "cell_type": "markdown",
   "metadata": {},
   "source": [
    "## 2. Arbeit mit `.py`-Files und in der Shell\n",
    "Bis jetzt haben wir immer mit Jupyter Notebooks gearbeitet. Für komplexere Projekte müssen wir allerdings mit `.py`-Files arbeiten. Um `.py`-Files aber ausführen zu können, müssen wir die Kommandozeile / die Shell verwenden können, daher hier eine kurze Einführung.\n",
    "\n",
    "Zu Beginn: Öffne eine Shell. Dies kannst du wie folgt machen:\n",
    "- In Mac: Öffne das Programm `terminal`\n",
    "- In Windows: Öffne `bash` in Anaconda."
   ]
  },
  {
   "cell_type": "markdown",
   "metadata": {},
   "source": [
    "### 2.1 Navigation in der Shell\n",
    "Zu jedem Zeitpunkt befinden wir uns in einem spezifischen Ordner in der Shell. Es kommt sehr oft vor, dass wir den aktuellen Ordner wechseln müssen. Dazu müssen wir folgende Commands kennen:\n",
    "\n",
    "- `cd`: Change directory, ändert den Ordner\n",
    "- `ls`: Zeigt alle Elemente im aktuellen Ordner an\n",
    "- `pwd`: Gibt den Pfad des aktuellen Ortes an"
   ]
  },
  {
   "cell_type": "markdown",
   "metadata": {},
   "source": [
    "<img src=\"https://i.imgur.com/JyhBeDB.png\" class=\"exercise_image\" width=100>\n",
    "\n",
    "Gib folgendes ein und drücke Enter:\n",
    "```\n",
    "pwd\n",
    "```\n",
    "Du siehts einen Pfad, der beschreibt, wo du dich aktuell befindest.\n",
    "\n",
    "Führe danach folgenden Command aus:\n",
    "```\n",
    "ls\n",
    "```\n",
    "Du erhältst damit eine Liste aller Elemente des aktuellen Ordners. So können wir uns also umschauen.\n",
    "\n",
    "Um in der Ordnerstruktur eine Ebene nach oben zu gehen, verwenden wir `..`. Gib folgenden Command ein:\n",
    "```\n",
    "cd ..\n",
    "```\n",
    "Dadurch haben wir uns eine Ebene nach oben bewegt. Verifiziere dies mit `pwd` und `ls`.\n",
    "\n",
    "Um in einen Unterordner zu gehen, kannst du `cd` gefolgt vom Namen des Unterordners eingeben. Mit `ls` siehst du, welche Unterornder gerade vorhanden sind."
   ]
  },
  {
   "cell_type": "markdown",
   "metadata": {},
   "source": [
    "### 2.2 Ausführen eines Python-Files\n",
    "Um ein Python-Programm auszuführen, brauchen wir den Command `python`, gefolgt vom Name des `.py`-Files, welches wir ausführen wollen (manchmal ist es auch `python3`). Auch um den Namen des Files zu finden kann man `ls` verwenden."
   ]
  },
  {
   "cell_type": "markdown",
   "metadata": {},
   "source": [
    "<img src=\"https://i.imgur.com/JyhBeDB.png\" class=\"exercise_image\" width=100>\n",
    "\n",
    "Erstelle einen Ordner namens \"Beispielprogramm\". In diesem Ordner erstellst du ein neues File, `beispiel.py`. In diesem File schreibst du: `print(\"Hallo Welt\")`. Navigiere anschliessend in der Konsole zum File und führe dieses aus."
   ]
  },
  {
   "cell_type": "markdown",
   "metadata": {},
   "source": [
    "### 2.3 Installation von Packages\n",
    "Es gibt für Python schon zahlreiche Packages, welche gewisse Funktionalitäten für uns implementieren. Um auf diese Packages Zugriff zu erhalten, müssen wir diese zuerst installieren. Auch dies müssen wir in der Kommandozeile machen, und gehen dabei wie folgt vor:\n",
    "- Alle Packages, welche zur Verfügung stehen, findet ihr unter https://pypi.org/. Suche das gewünschte Package heraus, und schaue, wie es genau heisst.\n",
    "- Anschliessend kannst du es mit `pip install <package_name>` installieren. "
   ]
  },
  {
   "cell_type": "markdown",
   "metadata": {},
   "source": [
    "<img src=\"https://i.imgur.com/JyhBeDB.png\" class=\"exercise_image\" width=100>\n",
    "\n",
    "Installiere das Package `pandas`, ein sehr praktisches Package zur Datenanalyse, welches wir nächste Woche verwenden werden."
   ]
  },
  {
   "cell_type": "markdown",
   "metadata": {},
   "source": [
    "## 3. Nützliche Python-Module\n",
    "\n",
    "Es gibt mehrere Python-Module, die man importieren kann, um die Funktionalität seiner Programme zu erweitern. Im Folgenden sehen wir uns einige von ihnen an\n",
    "\n",
    "### 3.1 OS Module\n",
    "\n",
    "\n",
    "Das os-Modul in Python bietet eine Schnittstelle für Betriebssystemspezifische Funktionen. Mit diesem Modul kannst du mit dem Dateisystem interagieren, Verzeichnisse erstellen, Dateien verschieben, Informationen über das Betriebssystem abrufen und vieles mehr. Es ist nützlich, wenn du Programme schreibst, die auf Dateien oder Verzeichnisse zugreifen müssen, unabhängig vom Betriebssystem.\n",
    "\n",
    "Man kann das Modul mit dem Stichwort '__import__' importieren. Seine Funktionen mit einem Punkt direkt nach dem Modulnamen verwenden."
   ]
  },
  {
   "cell_type": "markdown",
   "metadata": {},
   "source": [
    "Einige der Beispiele, in denen man das OS-Modul in Python verwenden kann.\n",
    "\n",
    "Aktuelles Arbeitsverzeichnis abrufen:"
   ]
  },
  {
   "cell_type": "code",
   "execution_count": null,
   "metadata": {},
   "outputs": [],
   "source": [
    "import os\n",
    "current_directory = os.getcwd()\n",
    "print(\"Current Directory:\", current_directory)"
   ]
  },
  {
   "cell_type": "markdown",
   "metadata": {},
   "source": [
    "Dateien in einem Verzeichnis auflisten:"
   ]
  },
  {
   "cell_type": "code",
   "execution_count": null,
   "metadata": {},
   "outputs": [],
   "source": [
    "import os\n",
    "\n",
    "current_directory = os.getcwd()\n",
    "\n",
    "files = os.listdir(current_directory)\n",
    "\n",
    "print(\"Files in the directory:\")\n",
    "for file in files:\n",
    "    print(file)"
   ]
  },
  {
   "cell_type": "markdown",
   "metadata": {},
   "source": [
    "Pfade verbinden"
   ]
  },
  {
   "cell_type": "code",
   "execution_count": null,
   "metadata": {},
   "outputs": [],
   "source": [
    "import os\n",
    "\n",
    "path = os.path.join(current_directory, \"folder\")\n",
    "print(path)"
   ]
  },
  {
   "cell_type": "markdown",
   "metadata": {},
   "source": [
    "Ein Verzeichnis erstellen & löschen"
   ]
  },
  {
   "cell_type": "code",
   "execution_count": null,
   "metadata": {},
   "outputs": [],
   "source": [
    "import os\n",
    "\n",
    "path = os.path.join(current_directory, \"fold er\")\n",
    "os.mkdir(path)  #pfad"
   ]
  },
  {
   "cell_type": "code",
   "execution_count": null,
   "metadata": {},
   "outputs": [],
   "source": [
    "os.rmdir(path) #löschen"
   ]
  },
  {
   "cell_type": "markdown",
   "metadata": {},
   "source": [
    "Eine Datei erstellen"
   ]
  },
  {
   "cell_type": "code",
   "execution_count": 4,
   "metadata": {},
   "outputs": [],
   "source": [
    "import os\n",
    "new_file = os.path.join(current_directory, \"test.csv\")\n",
    "\n",
    "with open(new_file, 'w') as file:\n",
    "    # You can optionally write something to the file here\n",
    "    file.write(\"Hello, this is a new file!\")"
   ]
  },
  {
   "cell_type": "markdown",
   "metadata": {},
   "source": [
    "Prüfung, ob ein Path ein Verzeichnis oder eine Datei ist:"
   ]
  },
  {
   "cell_type": "code",
   "execution_count": null,
   "metadata": {},
   "outputs": [],
   "source": [
    "import os\n",
    "\n",
    "path = new_file  #pfad\n",
    "\n",
    "if os.path.isdir(new_file): \n",
    "    print(\"It is a directory.\")\n",
    "elif os.path.isfile(path):\n",
    "    print(\"It is a file.\")\n",
    "else:\n",
    "    print(\"It is neither a file nor a directory.\")"
   ]
  },
  {
   "cell_type": "markdown",
   "metadata": {},
   "source": [
    "Eine Datei umbenennen:"
   ]
  },
  {
   "cell_type": "code",
   "execution_count": null,
   "metadata": {},
   "outputs": [],
   "source": [
    "import os\n",
    "\n",
    "old_name = \"test.csv\"\n",
    "new_name = \"new_file.csv\"\n",
    "\n",
    "os.rename(old_name, new_name)"
   ]
  },
  {
   "cell_type": "markdown",
   "metadata": {},
   "source": [
    "Löscht eine Datei:"
   ]
  },
  {
   "cell_type": "code",
   "execution_count": null,
   "metadata": {},
   "outputs": [],
   "source": [
    "import os\n",
    "\n",
    "file_to_delete = \"new_file.csv\"\n",
    "os.remove(file_to_delete) #pfad"
   ]
  },
  {
   "cell_type": "markdown",
   "metadata": {},
   "source": [
    "Überprüfen, ob eine Datei oder ein Verzeichnis existiert"
   ]
  },
  {
   "cell_type": "code",
   "execution_count": 7,
   "metadata": {},
   "outputs": [
    {
     "name": "stdout",
     "output_type": "stream",
     "text": [
      "Die Datei existiert nicht.\n"
     ]
    }
   ],
   "source": [
    "if os.path.exists(new_file): #\"pfad/zur/datei\"\n",
    "    print(\"Die Datei existiert.\")\n",
    "else:\n",
    "    print(\"Die Datei existiert nicht.\")\n"
   ]
  },
  {
   "cell_type": "markdown",
   "metadata": {},
   "source": [
    "<br><br>\n",
    "<div class=\"exercise\">\n",
    "\n",
    "<img src=\"https://i.imgur.com/JyhBeDB.png\" class=\"exercise_image\" width=100>\n",
    "\n",
    "<span class=\"exercise_label\">**Aufgabe:**</span>\n",
    "    \n",
    "Erstellen Sie eine Python-Methode **create_folder_and_file()**, die einen Verzeichnis- und Dateinamen vom Benutzer erhält, einen Ordner im aktuellen Arbeitsverzeichnis mit dem Verzeichnisnamen erstellt und eine Datei mit dem Dateinamen in diesen Ordner einfügt\n",
    "    \n",
    "</div>"
   ]
  },
  {
   "cell_type": "code",
   "execution_count": null,
   "metadata": {},
   "outputs": [],
   "source": [
    "import os\n",
    "\n",
    "def create_folder_and_file():\n",
    "    # Get folder name from the user\n",
    "    folder_name = input(\"Enter the folder name: \")\n",
    "\n",
    "    # Get file name from the user\n",
    "    file_name = input(\"Enter the file name: \")\n",
    "\n",
    "    # Create a folder in the current working directory\n",
    "    folder_path = os.path.join(os.getcwd(), folder_name)\n",
    "    os.makedirs(folder_path)\n",
    "    print(f\"Folder '{folder_name}' created in the current working directory.\")\n",
    "\n",
    "    # Create a file in the created folder\n",
    "    file_path = os.path.join(folder_path, file_name)\n",
    "    with open(file_path, 'w') as file:\n",
    "        file.write(\"This is a sample file.\")\n",
    "    print(f\"File '{file_name}' created in the folder '{folder_name}'.\")\n",
    "\n",
    "# Call the method\n",
    "create_folder_and_file()\n"
   ]
  },
  {
   "cell_type": "markdown",
   "metadata": {},
   "source": [
    "### 3.2 Datetime Module\n",
    "\n",
    "Das datetime-Modul in Python bietet Klassen für die Arbeit mit Datums- und Zeitangaben. Hier sind ein paar Beispiele:"
   ]
  },
  {
   "cell_type": "markdown",
   "metadata": {},
   "source": [
    "Aktuelles Datum und Uhrzeit abrufen:"
   ]
  },
  {
   "cell_type": "code",
   "execution_count": null,
   "metadata": {},
   "outputs": [],
   "source": [
    "import datetime\n",
    "\n",
    "current_datetime = datetime.datetime.now()\n",
    "print(\"Current Date and Time:\", current_datetime)\n"
   ]
  },
  {
   "cell_type": "markdown",
   "metadata": {},
   "source": [
    "Datum und Uhrzeit formatieren:"
   ]
  },
  {
   "cell_type": "code",
   "execution_count": null,
   "metadata": {},
   "outputs": [],
   "source": [
    "import datetime\n",
    "\n",
    "current_datetime = datetime.datetime.now()\n",
    "formatted_date = current_datetime.strftime(\"%Y-%m-%d %H:%M:%S\")\n",
    "print(\"Formatted Date:\", formatted_date)"
   ]
  },
  {
   "cell_type": "markdown",
   "metadata": {},
   "source": [
    " hier sind einige häufig verwendete Formatcodes für das Arbeiten mit Datums- und Uhrzeitobjekten in Python:\n",
    "\n",
    "%Y: Jahr mit Jahrhundert als Dezimalzahl (z. B. 2023) <br>\n",
    "%y: Jahr ohne Jahrhundert als zweistellige Dezimalzahl (00 bis 99)<br>\n",
    "%m: Monat als zweistellige Dezimalzahl (01 bis 12)<br>\n",
    "%B: Vollständiger Monatsname (z. B. Januar)<br>\n",
    "%b: Abgekürzter Monatsname (z. B. Jan)<br>\n",
    "%d: Tag des Monats als zweistellige Dezimalzahl (01 bis 31)<br>\n",
    "%A: Vollständiger Wochentag (z. B. Montag)<br>\n",
    "%a: Abgekürzter Wochentag (z. B. Mo)<br>\n",
    "%H: Stunde im 24-Stunden-Format (00 bis 23)<br>\n",
    "%I: Stunde im 12-Stunden-Format (01 bis 12)<br>\n",
    "%p: AM oder PM<br>\n",
    "%M: Minute (00 bis 59)<br>\n",
    "%S: Sekunde (00 bis 59)<br>\n",
    "%f: Mikrosekunde (000000 bis 999999)<br>\n",
    "%Z: Name der Zeitzone<br>"
   ]
  },
  {
   "cell_type": "markdown",
   "metadata": {},
   "source": [
    "Differenz zwischen zwei Datum/Uhrzeit berechnen:"
   ]
  },
  {
   "cell_type": "code",
   "execution_count": null,
   "metadata": {},
   "outputs": [],
   "source": [
    "import datetime\n",
    "\n",
    "date1 = datetime.datetime(2022, 12, 1)\n",
    "date2 = datetime.datetime(2023, 1, 1)\n",
    "time_difference = date2 - date1\n",
    "print(\"Time Difference:\", time_difference)"
   ]
  },
  {
   "cell_type": "markdown",
   "metadata": {},
   "source": [
    "<br><br>\n",
    "<div class=\"exercise\">\n",
    "\n",
    "<img src=\"https://i.imgur.com/JyhBeDB.png\" class=\"exercise_image\" width=100>\n",
    "\n",
    "<span class=\"exercise_label\">**Aufgabe:**</span>\n",
    "    \n",
    "Eine Python-Methode namens **calculate_age()** erstellen, die den Geburtstag des Benutzers als Eingabe übernimmt, die Differenz zwischen dem aktuellen Datum und dem Geburtstag berechnet und dann das Alter ausgibt.\n",
    "    \n",
    "</div>"
   ]
  },
  {
   "cell_type": "code",
   "execution_count": null,
   "metadata": {},
   "outputs": [],
   "source": [
    "import datetime\n",
    "\n",
    "def calculate_age():\n",
    "    # Get user's birthday as input\n",
    "    birthday_str = input(\"Enter your birthday (YYYY-MM-DD): \")\n",
    "\n",
    "    # Convert the input string to a datetime object\n",
    "    birthday = datetime.datetime.strptime(birthday_str, \"%Y-%m-%d\")\n",
    "\n",
    "    # Get the current date\n",
    "    current_date = datetime.datetime.now()\n",
    "\n",
    "    # Calculate the age by finding the difference between current date and birthday\n",
    "    age = current_date.year - birthday.year - ((current_date.month, current_date.day) < (birthday.month, birthday.day))\n",
    "\n",
    "    # Print the age\n",
    "    print(\"Your age is:\", age)\n",
    "\n",
    "# Call the function\n",
    "calculate_age()"
   ]
  },
  {
   "cell_type": "markdown",
   "metadata": {},
   "source": [
    "### 3.3 Random Module\n",
    "\n",
    "Das Modul random in Python bietet Funktionen zur Erzeugung von Zufallszahlen. Hier sind ein paar Beispiele, wie Sie das Zufallsmodul verwenden können:"
   ]
  },
  {
   "cell_type": "markdown",
   "metadata": {},
   "source": [
    "Eine Zufallszahl generieren:"
   ]
  },
  {
   "cell_type": "code",
   "execution_count": null,
   "metadata": {},
   "outputs": [],
   "source": [
    "import random\n",
    "\n",
    "# Eine zufällige Zahl zwischen 0 und 1 generieren\n",
    "random_number = random.random()\n",
    "print(random_number)"
   ]
  },
  {
   "cell_type": "markdown",
   "metadata": {},
   "source": [
    "Erzeugen einer zufälligen ganzen Zahl innerhalb eines Bereichs:"
   ]
  },
  {
   "cell_type": "code",
   "execution_count": null,
   "metadata": {},
   "outputs": [],
   "source": [
    "import random\n",
    "\n",
    "# Erzeugt eine zufällige ganze Zahl zwischen 1 und 10 \n",
    "random_integer = random.randint(1, 10)\n",
    "print(random_integer)"
   ]
  },
  {
   "cell_type": "markdown",
   "metadata": {},
   "source": [
    "Ein zufälliges Element aus einer Liste auswählen:"
   ]
  },
  {
   "cell_type": "code",
   "execution_count": null,
   "metadata": {},
   "outputs": [],
   "source": [
    "import random\n",
    "#die Grenzwerte sind enthalten\n",
    "my_list = [1, 2, 3, 4, 5]\n",
    "\n",
    "random_element = random.choice(my_list)\n",
    "print(random_element)"
   ]
  },
  {
   "cell_type": "markdown",
   "metadata": {},
   "source": [
    "Eine Liste mischen:"
   ]
  },
  {
   "cell_type": "code",
   "execution_count": null,
   "metadata": {},
   "outputs": [],
   "source": [
    "import random\n",
    "\n",
    "my_list = [1, 2, 3, 4, 5]\n",
    "\n",
    "# Mischen der Elemente in der Liste \n",
    "\n",
    "random.shuffle(my_list)\n",
    "print(my_list)"
   ]
  },
  {
   "cell_type": "markdown",
   "metadata": {},
   "source": [
    "Generieren einer zufälligen Fliesskommazahl innerhalb eines Bereichs:"
   ]
  },
  {
   "cell_type": "code",
   "execution_count": null,
   "metadata": {},
   "outputs": [],
   "source": [
    "import random\n",
    "\n",
    "# random float erzeugen zwischen 1-10\n",
    "#die Grenzwerte sind enthalten\n",
    "\n",
    "random_float = random.uniform(1, 10)\n",
    "print(random_float)"
   ]
  },
  {
   "cell_type": "markdown",
   "metadata": {},
   "source": [
    "Zufällige Stichproben aus einer Liste:"
   ]
  },
  {
   "cell_type": "code",
   "execution_count": null,
   "metadata": {},
   "outputs": [],
   "source": [
    "import random\n",
    "\n",
    "my_list = [1, 2, 3, 4, 5]\n",
    "\n",
    "# Wähle eine Zufallsstichprobe von 3 Elementen aus der Liste\n",
    "random_sample = random.sample(my_list, 3)\n",
    "print(\"Random Sample:\", random_sample)"
   ]
  },
  {
   "cell_type": "markdown",
   "metadata": {},
   "source": [
    "<br><br>\n",
    "<div class=\"exercise\">\n",
    "\n",
    "<img src=\"https://i.imgur.com/JyhBeDB.png\" class=\"exercise_image\" width=100>\n",
    "\n",
    "<span class=\"exercise_label\">**Aufgabe:**</span>\n",
    "    \n",
    "Definieren Sie eine Funktion namens \"dice_rolling_game\", die die vom Benutzer vorhergesagte Augenzahl eines Würfels als Eingabe entgegennimmt. Anschließend wirft sie einen Würfel (generiert also zufällig eine Zahl zwischen 1 und 6) und vergleicht die Benutzervorhersage mit dem Würfelergebnis. Wenn beide übereinstimmen, wird \"Herzlichen Glückwunsch\" ausgegeben, andernfalls \"Versuch es erneut!\".    \n",
    "</div>"
   ]
  },
  {
   "cell_type": "code",
   "execution_count": null,
   "metadata": {},
   "outputs": [],
   "source": [
    "\n",
    "import random\n",
    "\n",
    "def dice_rolling_game():\n",
    "    # Würfeln (Zufallszahl zwischen 1 und 6 generieren)\n",
    "    dice_result = random.randint(1, 6)\n",
    "    user_input=int(input(\"Wie lautet Ihre Vorhersage?\"))\n",
    "\n",
    "    # Vergleich der Benutzervorhersage mit dem Würfelergebnis\n",
    "    if user_input == dice_result:\n",
    "        print(\"Herzlichen Glückwunsch! Du hast richtig vorhergesagt.\")\n",
    "    else:\n",
    "        print(\"Versuch es erneut! Der Würfel zeigt:\", dice_result)\n",
    "        \n",
    "dice_rolling_game()"
   ]
  },
  {
   "cell_type": "markdown",
   "metadata": {},
   "source": [
    "### 3.4 Math Module\n",
    "\n",
    "\n",
    "Das \"math-Modul\" in Python ist eine eingebaute Bibliothek, die mathematische Funktionen und Konstanten bereitstellt. Mit diesem Modul kannst du auf eine Vielzahl von mathematischen Operationen zugreifen, die über die grundlegenden arithmetischen Funktionen hinausgehen. Dazu gehören Funktionen wie trigonometrische, exponentielle, logarithmische und andere mathematische Operationen.\n",
    "\n",
    "Man kann das Modul mit dem Stichwort '__import__' importieren. Seine Funktionen mit einem Punkt direkt nach dem Modulnamen verwenden."
   ]
  },
  {
   "cell_type": "markdown",
   "metadata": {},
   "source": [
    "Quadratwurzel und Potenzen: Die sqrt-Funktion kann für die Berechnung von Quadratwurzeln verwendet werden, und die pow-Funktion ermöglicht die Berechnung von Potenzen."
   ]
  },
  {
   "cell_type": "code",
   "execution_count": null,
   "metadata": {},
   "outputs": [],
   "source": [
    "import math\n",
    "sqrt_result = math.sqrt(25)\n",
    "pow_result = math.pow(2, 3) # Basis-Exponent\n",
    "print(sqrt_result, pow_result)"
   ]
  },
  {
   "cell_type": "markdown",
   "metadata": {},
   "source": [
    "Trigonometrie: Das math-Modul enthält Funktionen wie sin, cos und tan, die für trigonometrische Berechnungen verwendet werden können."
   ]
  },
  {
   "cell_type": "code",
   "execution_count": null,
   "metadata": {},
   "outputs": [],
   "source": [
    "import math\n",
    "\n",
    "angle = math.radians(90)\n",
    "sine_value = math.sin(angle)\n",
    "print(sine_value)"
   ]
  },
  {
   "cell_type": "markdown",
   "metadata": {},
   "source": [
    "Konstanten: Das math-Modul stellt auch mathematische Konstanten wie π (math.pi) zur Verfügung."
   ]
  },
  {
   "cell_type": "code",
   "execution_count": null,
   "metadata": {},
   "outputs": [],
   "source": [
    "import math\n",
    "\n",
    "print(math.pi)\n"
   ]
  },
  {
   "cell_type": "markdown",
   "metadata": {},
   "source": [
    "Ab/Auf-gerundete Werte: Die **ceil-** und **floor-** Funktionen können für das Aufrunden bzw. Abrunden von Dezimalzahlen verwendet werden."
   ]
  },
  {
   "cell_type": "code",
   "execution_count": null,
   "metadata": {},
   "outputs": [],
   "source": [
    "import math\n",
    "\n",
    "rounded_up = math.ceil(4.3)\n",
    "rounded_down = math.floor(4.8)\n",
    "print(rounded_up, rounded_down)"
   ]
  },
  {
   "cell_type": "markdown",
   "metadata": {},
   "source": [
    "<br><br>\n",
    "<div class=\"exercise\">\n",
    "\n",
    "<img src=\"https://i.imgur.com/JyhBeDB.png\" class=\"exercise_image\" width=100>\n",
    "\n",
    "<span class=\"exercise_label\">**Aufgabe:**</span>\n",
    "    \n",
    "Implementiere zwei Methoden in pyhton. Die erste Methode berechnet die Fläche eines Kreises, sie übernimmt den Radius als Eingabe und gibt die Fläche zurück ( Fläche=pi*r*r). Die zweite Methode übernimmt den Radius als Eingabe und berechnet den Umfang des Kreises. ( Umfang= 2*pi*r). Verwenden Sie mathematische Funktionen und Konstanten in den Methoden.  \n",
    "</div>"
   ]
  },
  {
   "cell_type": "code",
   "execution_count": null,
   "metadata": {},
   "outputs": [],
   "source": [
    "import math\n",
    "\n",
    "def calculate_fläche(radius):\n",
    "    fläche=math.pi * math.pow(radius,2)\n",
    "    return fläche\n",
    "def calculate_umfang(radius):\n",
    "    umfang=2*math.pi*radius\n",
    "    return umfang\n",
    "print(calculate_umfang(2))"
   ]
  }
 ],
 "metadata": {
  "kernelspec": {
   "display_name": ".venv",
   "language": "python",
   "name": "python3"
  },
  "language_info": {
   "codemirror_mode": {
    "name": "ipython",
    "version": 3
   },
   "file_extension": ".py",
   "mimetype": "text/x-python",
   "name": "python",
   "nbconvert_exporter": "python",
   "pygments_lexer": "ipython3",
   "version": "3.11.4"
  }
 },
 "nbformat": 4,
 "nbformat_minor": 2
}
