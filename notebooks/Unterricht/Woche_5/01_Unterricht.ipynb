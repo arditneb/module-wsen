{
 "cells": [
  {
   "cell_type": "markdown",
   "metadata": {},
   "source": [
    "<br><br><br><br><br>\n",
    "## 1. Selbst Funktionen definieren: `def`\n",
    "Wir haben in Woche 2 Funktionen wie `print`, `float`, oder `input` kennengelernt und verwenden diese seither intensiv. In diesem Abschnitt werden wir sehen, wie wir selbst Funktionen definieren können. Dies ist beim Programmieren sehr wichtig, da wir damit viel Copy-Paste Code verhindern und unsere Programme leserlich gestalten können.\n",
    "\n",
    "### 1.1 Definition einer Funktion\n",
    "Eine Funktionsdefinition sieht wie folgt aus:"
   ]
  },
  {
   "cell_type": "code",
   "execution_count": 3,
   "metadata": {},
   "outputs": [],
   "source": [
    "def begruessung():\n",
    "    print(\"Hallo und herzlich willkommen.\")\n",
    "    print (\"uwegfuwe\")"
   ]
  },
  {
   "cell_type": "markdown",
   "metadata": {},
   "source": [
    "Damit haben wir eine Funktion definiert, welche `begruessung` heisst, und die beim Funktionsaufruf \"Hallo und herzlich willkommen\" schreibt. Die Funktionsdefinition beginnt _immer_ mit dem Stichwort `def`, gefolgt vom gewünschten Namen unserer Funktion - in diesem Fall `begruessung`. Danach kommen Klammern und ein Doppelpunkt. Alles was in einer Funktion geschehen soll, steht im nachfolgenden Codeblock. \n",
    "\n",
    "Bei der Funktionsdefinition wurde der Code in der Funktion noch nicht aufgerufen - sonst hätte die Zelle oben ja bereits das \"print\" ausgeführt. Um die Funktion aufzurufen, schreiben wir wie gehabt den Funktionsnamen gefolgt von runden Klammern:"
   ]
  },
  {
   "cell_type": "code",
   "execution_count": 4,
   "metadata": {},
   "outputs": [
    {
     "name": "stdout",
     "output_type": "stream",
     "text": [
      "Hallo und herzlich willkommen.\n",
      "uwegfuwe\n"
     ]
    }
   ],
   "source": [
    "begruessung()"
   ]
  },
  {
   "cell_type": "markdown",
   "metadata": {},
   "source": [
    "Ohne Klammern wird die Funktion nicht aufgerufen:"
   ]
  },
  {
   "cell_type": "code",
   "execution_count": 5,
   "metadata": {},
   "outputs": [
    {
     "data": {
      "text/plain": [
       "<function __main__.begruessung()>"
      ]
     },
     "execution_count": 5,
     "metadata": {},
     "output_type": "execute_result"
    }
   ],
   "source": [
    "begruessung"
   ]
  },
  {
   "cell_type": "markdown",
   "metadata": {},
   "source": [
    "### 1.2 Funktionen mit Argumenten\n",
    "Die Funktion `begruessung` hat noch keine Argumente (wir haben nichts zwischen die runden Klammern geschrieben). Um eine Funktion mit Funktionsargumenten zu schreiben, verwenden wir folgenden Syntax:"
   ]
  },
  {
   "cell_type": "code",
   "execution_count": 9,
   "metadata": {},
   "outputs": [],
   "source": [
    "def begruessung_mit_name(name):\n",
    "    print(\"Hallo\", name)"
   ]
  },
  {
   "cell_type": "markdown",
   "metadata": {},
   "source": [
    "Diese Funktion hat nun ein Argument, `name`. Wir verwenden dieses Argument innerhalb der Funktion als wäre es eine ganz normale Variable, obwohl diese noch gar nicht mit einem `=` definiert wurde. Auch beim Funktionsaufruf müssen wir nun ein Argument mitgeben:"
   ]
  },
  {
   "cell_type": "code",
   "execution_count": 10,
   "metadata": {},
   "outputs": [
    {
     "name": "stdout",
     "output_type": "stream",
     "text": [
      "Hallo Velo\n"
     ]
    }
   ],
   "source": [
    "begruessung_mit_name(\"Velo\")"
   ]
  },
  {
   "cell_type": "markdown",
   "metadata": {},
   "source": [
    "Wenn wir das Argument nicht mitgeben, erhalten wir folgenden Fehler:"
   ]
  },
  {
   "cell_type": "code",
   "execution_count": 11,
   "metadata": {},
   "outputs": [
    {
     "ename": "TypeError",
     "evalue": "begruessung_mit_name() missing 1 required positional argument: 'name'",
     "output_type": "error",
     "traceback": [
      "\u001b[31m---------------------------------------------------------------------------\u001b[39m",
      "\u001b[31mTypeError\u001b[39m                                 Traceback (most recent call last)",
      "\u001b[36mCell\u001b[39m\u001b[36m \u001b[39m\u001b[32mIn[11]\u001b[39m\u001b[32m, line 1\u001b[39m\n\u001b[32m----> \u001b[39m\u001b[32m1\u001b[39m \u001b[43mbegruessung_mit_name\u001b[49m\u001b[43m(\u001b[49m\u001b[43m)\u001b[49m\n",
      "\u001b[31mTypeError\u001b[39m: begruessung_mit_name() missing 1 required positional argument: 'name'"
     ]
    }
   ],
   "source": [
    "begruessung_mit_name()\n"
   ]
  },
  {
   "cell_type": "markdown",
   "metadata": {},
   "source": [
    "Wir können auch Funktionen mit mehreren Argumenten definieren, welche alle durch ein Komma getrennt sein müssen:"
   ]
  },
  {
   "cell_type": "code",
   "execution_count": 21,
   "metadata": {},
   "outputs": [],
   "source": [
    "def begruessung_mit_vollname(vorname, nachname):\n",
    "    print(\"Hallo\", vorname, nachname)"
   ]
  },
  {
   "cell_type": "markdown",
   "metadata": {},
   "source": [
    "Beim Funktionsaufruf müssen wir die Argumente in der gleichen Reihenfolge wie bei der Funktionsdefinition mitgeben:"
   ]
  },
  {
   "cell_type": "code",
   "execution_count": 13,
   "metadata": {},
   "outputs": [
    {
     "name": "stdout",
     "output_type": "stream",
     "text": [
      "Hallo Hans Muster\n"
     ]
    }
   ],
   "source": [
    "begruessung_mit_vollname(\"Hans\", \"Muster\")"
   ]
  },
  {
   "cell_type": "code",
   "execution_count": 23,
   "metadata": {},
   "outputs": [
    {
     "name": "stdout",
     "output_type": "stream",
     "text": [
      "Hallo Ardit Nebihi\n"
     ]
    }
   ],
   "source": [
    "begruessung_mit_vollname(\"Ardit\", \"Nebihi\")"
   ]
  },
  {
   "cell_type": "markdown",
   "metadata": {},
   "source": [
    "### 1.3 Rückgabewert der Funktion: `return`\n",
    "\n",
    "Alle Funktionen, welche wir bis jetzt definiert haben, haben keinen Wert zurückgegeben. Wenn wir unsere allererste Funktion `begruessung` aufrufen und ihr Resultat als neue Variable definieren, passiert folgendes:"
   ]
  },
  {
   "cell_type": "code",
   "execution_count": 16,
   "metadata": {},
   "outputs": [
    {
     "name": "stdout",
     "output_type": "stream",
     "text": [
      "Hallo und herzlich willkommen.\n",
      "uwegfuwe\n"
     ]
    }
   ],
   "source": [
    "begruessung()"
   ]
  },
  {
   "cell_type": "code",
   "execution_count": 20,
   "metadata": {},
   "outputs": [
    {
     "name": "stdout",
     "output_type": "stream",
     "text": [
      "Hallo und herzlich willkommen.\n",
      "uwegfuwe\n",
      "None\n"
     ]
    }
   ],
   "source": [
    "resultat = begruessung()\n"
   ]
  },
  {
   "cell_type": "code",
   "execution_count": 17,
   "metadata": {},
   "outputs": [],
   "source": [
    "resultat  # Hier ist nichts drin"
   ]
  },
  {
   "cell_type": "code",
   "execution_count": 31,
   "metadata": {},
   "outputs": [
    {
     "data": {
      "text/plain": [
       "NoneType"
      ]
     },
     "execution_count": 31,
     "metadata": {},
     "output_type": "execute_result"
    }
   ],
   "source": [
    "type(resultat)  # Und das Resultat hat Typ \"NoneType\""
   ]
  },
  {
   "cell_type": "markdown",
   "metadata": {},
   "source": [
    "Damit unsere Funktion etwas zurückgibt, müssen wir explizit mit `return` sagen, was zurückgegeben werden soll. Hier ist ein Beispiel für eine Funktion, welche zwei Werte addiert:"
   ]
  },
  {
   "cell_type": "code",
   "execution_count": 40,
   "metadata": {},
   "outputs": [],
   "source": [
    "def plus(a, b):\n",
    "    return a + b\n"
   ]
  },
  {
   "cell_type": "markdown",
   "metadata": {},
   "source": [
    "Wenn wir nun diese Funktion aufrufen und das Resultat in einer neuen Variablen abspeichern:"
   ]
  },
  {
   "cell_type": "code",
   "execution_count": 42,
   "metadata": {},
   "outputs": [
    {
     "name": "stdout",
     "output_type": "stream",
     "text": [
      "a + b = 8\n"
     ]
    }
   ],
   "source": [
    "a_plus_b = plus(3, 5)\n",
    "print(\"a + b =\", a_plus_b)"
   ]
  },
  {
   "cell_type": "markdown",
   "metadata": {},
   "source": [
    "Eine Funktion kann auch mehrere `return`-Statements haben. Verstehst du, was folgende Funktion macht?"
   ]
  },
  {
   "cell_type": "code",
   "execution_count": 43,
   "metadata": {},
   "outputs": [],
   "source": [
    "def div0(a, b):\n",
    "    try:\n",
    "        return a / b\n",
    "    except ZeroDivisionError:\n",
    "        return 0"
   ]
  },
  {
   "cell_type": "code",
   "execution_count": 44,
   "metadata": {},
   "outputs": [
    {
     "data": {
      "text/plain": [
       "0.4"
      ]
     },
     "execution_count": 44,
     "metadata": {},
     "output_type": "execute_result"
    }
   ],
   "source": [
    "div0(2, 5)"
   ]
  },
  {
   "cell_type": "code",
   "execution_count": 45,
   "metadata": {},
   "outputs": [
    {
     "data": {
      "text/plain": [
       "0"
      ]
     },
     "execution_count": 45,
     "metadata": {},
     "output_type": "execute_result"
    }
   ],
   "source": [
    "div0(1, 0)"
   ]
  },
  {
   "cell_type": "markdown",
   "metadata": {},
   "source": [
    "Diese mehreren `return`-Statements können auch in `if`-Statements sein:"
   ]
  },
  {
   "cell_type": "code",
   "execution_count": 2,
   "metadata": {},
   "outputs": [],
   "source": [
    "def minimum(a, b):\n",
    "    if a < b:\n",
    "        return a\n",
    "    else:\n",
    "        return b"
   ]
  },
  {
   "cell_type": "code",
   "execution_count": 3,
   "metadata": {},
   "outputs": [
    {
     "data": {
      "text/plain": [
       "2"
      ]
     },
     "execution_count": 3,
     "metadata": {},
     "output_type": "execute_result"
    }
   ],
   "source": [
    "minimum(2, 3)"
   ]
  },
  {
   "cell_type": "code",
   "execution_count": 4,
   "metadata": {},
   "outputs": [
    {
     "data": {
      "text/plain": [
       "3"
      ]
     },
     "execution_count": 4,
     "metadata": {},
     "output_type": "execute_result"
    }
   ],
   "source": [
    "minimum(5, 3)"
   ]
  },
  {
   "cell_type": "markdown",
   "metadata": {},
   "source": [
    "Es ist auch so, dass die Funktion abbricht, sobald das Stichwort `return` angetroffen wurde. Daher können wir die Funktion von oben wie folgt umschreiben:"
   ]
  },
  {
   "cell_type": "code",
   "execution_count": 46,
   "metadata": {},
   "outputs": [],
   "source": [
    "def minimum(a, b):\n",
    "    if a < b:\n",
    "        return a\n",
    "    return b  # Das Programm kommt nur hierhin, wenn NICHT a < b"
   ]
  },
  {
   "cell_type": "code",
   "execution_count": 47,
   "metadata": {},
   "outputs": [
    {
     "data": {
      "text/plain": [
       "3"
      ]
     },
     "execution_count": 47,
     "metadata": {},
     "output_type": "execute_result"
    }
   ],
   "source": [
    "minimum(4, 3)"
   ]
  },
  {
   "cell_type": "markdown",
   "metadata": {},
   "source": [
    "Wir können `return` auch ohne nachfolgenden Wert verwenden. In diesem Fall bricht die Funktion ab, ohne etwas zurückzugeben:"
   ]
  },
  {
   "cell_type": "code",
   "execution_count": 55,
   "metadata": {},
   "outputs": [],
   "source": [
    "def beispiel(zahl):\n",
    "    if zahl <= 5:\n",
    "        return (\"die zahl ist kleiner als 5\")\n",
    "    print(\"Die Zahl\", zahl, \"ist grösser als 5\")\n",
    "   "
   ]
  },
  {
   "cell_type": "code",
   "execution_count": 56,
   "metadata": {},
   "outputs": [
    {
     "data": {
      "text/plain": [
       "'die zahl ist kleiner als 5'"
      ]
     },
     "execution_count": 56,
     "metadata": {},
     "output_type": "execute_result"
    }
   ],
   "source": [
    "beispiel(3)  # Funktion bricht vor \"print\" ab"
   ]
  },
  {
   "cell_type": "code",
   "execution_count": 57,
   "metadata": {},
   "outputs": [
    {
     "name": "stdout",
     "output_type": "stream",
     "text": [
      "Die Zahl 6 ist grösser als 5\n"
     ]
    }
   ],
   "source": [
    "beispiel(6)"
   ]
  },
  {
   "cell_type": "markdown",
   "metadata": {},
   "source": [
    "<br><br><br><br><br>\n",
    "<div class=\"exercise\">\n",
    "\n",
    "<img src=\"https://i.imgur.com/JyhBeDB.png\" class=\"exercise_image\" width=100>\n",
    "\n",
    "<span class=\"exercise_label\">**Aufgabe:**</span>\n",
    "Schreibe eine Funktion, welche den Absolutwert einer Zahl zurückgibt. Der Absolutwert einer Zahl ist deren nicht-negative Wert (also einfach die Zahl ohne Vorzeichen). Beispiele:\n",
    "```python\n",
    "absolute(-3) == 3\n",
    "absolute(6) == 6\n",
    "absolute(0) == 0\n",
    "```\n",
    "</div>"
   ]
  },
  {
   "cell_type": "code",
   "execution_count": 36,
   "metadata": {},
   "outputs": [],
   "source": [
    "def absoulute(Zahl):\n",
    "    if Zahl < 0:\n",
    "        return Zahl * -1\n",
    "    return Zahl"
   ]
  },
  {
   "cell_type": "code",
   "execution_count": 41,
   "metadata": {},
   "outputs": [],
   "source": [
    "a = absoulute(5)"
   ]
  },
  {
   "cell_type": "code",
   "execution_count": 42,
   "metadata": {},
   "outputs": [
    {
     "data": {
      "text/plain": [
       "5"
      ]
     },
     "execution_count": 42,
     "metadata": {},
     "output_type": "execute_result"
    }
   ],
   "source": [
    "a"
   ]
  },
  {
   "cell_type": "code",
   "execution_count": 58,
   "metadata": {},
   "outputs": [],
   "source": [
    "def absoulute(Zahl):\n",
    "    if Zahl <= 0:\n",
    "        return Zahl * -1\n",
    "    return Zahl"
   ]
  },
  {
   "cell_type": "code",
   "execution_count": 60,
   "metadata": {},
   "outputs": [
    {
     "data": {
      "text/plain": [
       "5"
      ]
     },
     "execution_count": 60,
     "metadata": {},
     "output_type": "execute_result"
    }
   ],
   "source": [
    "absoulute(-5)"
   ]
  },
  {
   "cell_type": "markdown",
   "metadata": {},
   "source": [
    "<br><br><br><br><br>\n",
    "<div class=\"exercise\">\n",
    "\n",
    "<img src=\"https://i.imgur.com/JyhBeDB.png\" class=\"exercise_image\" width=100>\n",
    "\n",
    "<span class=\"exercise_label\">**Aufgabe:**</span>\n",
    "In Woche 4, Übung 4 haben wir ein Programm erstellt, welches nach einer Zahl frägt und anschliessend die Quersumme dieser Zahl mit `print` ausgibt.\n",
    "- Die Quersumme von `83` ist `8 + 3 = 11`\n",
    "- Die Quersumme von `2519` ist `2 + 5 + 1 + 9 = 17` \n",
    "\n",
    "Schreibe das Programm nun als Funktion um. Die Funktion erhält ein Argument, `zahl`, und gibt mit `return` die Quersumme zurück.\n",
    "\n",
    "Probiere die Funktion mit mehreren Beispielen aus, um zu überprüfen, ob sie funktioniert.\n",
    "</div>"
   ]
  },
  {
   "cell_type": "code",
   "execution_count": 57,
   "metadata": {},
   "outputs": [],
   "source": [
    "def check_sum(number):\n",
    "\n",
    "    summe = 0\n",
    "    for ziffer in number:\n",
    "        summe = int(number)\n",
    "        summe = result + number\n",
    "        return (summe)"
   ]
  },
  {
   "cell_type": "code",
   "execution_count": 59,
   "metadata": {},
   "outputs": [],
   "source": [
    "number = (15)"
   ]
  },
  {
   "cell_type": "markdown",
   "metadata": {},
   "source": [
    "<br><br><br><br><br>\n",
    "<div class=\"exercise\">\n",
    "\n",
    "<img src=\"https://i.imgur.com/JyhBeDB.png\" class=\"exercise_image\" width=100>\n",
    "\n",
    "<span class=\"exercise_label\">**Aufgabe:**</span>\n",
    "\n",
    "_Anwendung von Funktionen: Ein Beispiel_<br>\n",
    "In diesem Beispiel soll gezeigt werden, wie wir mit Funktionen ein längeres Programm vereinfachen können. Dazu verwenden wir eine (leicht abgeänderte) Lösung von Woche 3, Aufgabe 2: Der Berechnung der Geldausgabe in einem Geldautomat. Hier ist das dazugehörige Programm:\n",
    "</div>"
   ]
  },
  {
   "cell_type": "code",
   "execution_count": 3,
   "metadata": {},
   "outputs": [
    {
     "name": "stdout",
     "output_type": "stream",
     "text": [
      "WILLKOMMEN BEI DER BANK IHRES VERTRAUENS\n",
      "*****************************************\n",
      "Eingegebener Betrag:  123\n",
      "Geldausgabe:\n",
      "100er Scheine:  1\n",
      "50er Scheine:  0\n",
      "20er Scheine:  1\n",
      "10er Scheine:  0\n",
      "Restbetrag: 3\n"
     ]
    }
   ],
   "source": [
    "# Komplette Lösung mit Erweiterung\n",
    "print('WILLKOMMEN BEI DER BANK IHRES VERTRAUENS')\n",
    "print('*****************************************')\n",
    "value = int(input('Wie viel möchten Sie abheben?'))\n",
    "print('Eingegebener Betrag: ', value)\n",
    "\n",
    "print(\"Geldausgabe:\")\n",
    "\n",
    "# 100er Scheine\n",
    "hundred_bills = value // 100    \n",
    "print('100er Scheine: ', hundred_bills)\n",
    "value = value % 100\n",
    "\n",
    "# 50er Scheine\n",
    "fifty_bills = value // 50       \n",
    "print('50er Scheine: ', fifty_bills)\n",
    "value = value % 50\n",
    "\n",
    "# 20er Scheine\n",
    "twenty_bills = value // 20      \n",
    "print('20er Scheine: ', twenty_bills)\n",
    "value = value % 20\n",
    "\n",
    "# 10er Scheine\n",
    "ten_bills = value // 10         \n",
    "print('10er Scheine: ', ten_bills)\n",
    "value = value % 10\n",
    "\n",
    "# Anzeige Rest:\n",
    "print(\"Restbetrag:\", value)\n"
   ]
  },
  {
   "cell_type": "markdown",
   "metadata": {},
   "source": [
    "Wie können wir dieses Programm vereinfachen? Dazu suchen wir im Code nach Stellen, in denen Dinge mehrere Male wiederholt werden.\n",
    "\n",
    "Ein Beispiel sind folgende Code-Zeilen, welche im Laufe des Programms auftauchen und sich stark wiederholen:\n",
    "```python\n",
    "print('100er Scheine: ', hundred_bills)\n",
    "print('50er Scheine: ', fifty_bills)\n",
    "print('20er Scheine: ', twenty_bills)\n",
    "print('10er Scheine: ', ten_bills)\n",
    "```\n",
    "Was wird hier immer wiederholt? Wie können wir es in eine Funktion verpacken? Nennt die Funktion `anzeige_der_ausgabe`."
   ]
  },
  {
   "cell_type": "code",
   "execution_count": 66,
   "metadata": {},
   "outputs": [],
   "source": [
    "def anzeige_der_ausgabe(notenwert, anzahl):\n",
    "    print (str(notenwert) + \"er Scheine:\", anzahl)"
   ]
  },
  {
   "cell_type": "code",
   "execution_count": 65,
   "metadata": {},
   "outputs": [
    {
     "name": "stdout",
     "output_type": "stream",
     "text": [
      "100er Scheine: 7\n",
      "20er Scheine: 3\n"
     ]
    }
   ],
   "source": [
    "anzeige_der_ausgabe(100, 7)\n",
    "anzeige_der_ausgabe(20, 3)"
   ]
  },
  {
   "cell_type": "markdown",
   "metadata": {},
   "source": [
    "Und schreibe das Programm erneut, aber jetzt unter Verwendung dieser Funktionen."
   ]
  },
  {
   "cell_type": "code",
   "execution_count": 95,
   "metadata": {},
   "outputs": [],
   "source": [
    "def anzeige_der_ausgabe(notenwert, anzahl):\n",
    "    print (str(notenwert) + \"er Scheine:\", anzahl)\n",
    "\n",
    "def verarbeitung_notenwert(restbetrag, notenwert):\n",
    "    bills = restbetrag // notenwert    \n",
    "    anzeige_der_ausgabe(notenwert, bills)\n",
    "    return restbetrag % notenwert"
   ]
  },
  {
   "cell_type": "code",
   "execution_count": 96,
   "metadata": {},
   "outputs": [
    {
     "name": "stdout",
     "output_type": "stream",
     "text": [
      "WILLKOMMEN BEI DER BANK IHRES VERTRAUENS\n",
      "*****************************************\n"
     ]
    },
    {
     "ename": "ValueError",
     "evalue": "invalid literal for int() with base 10: ''",
     "output_type": "error",
     "traceback": [
      "\u001b[31m---------------------------------------------------------------------------\u001b[39m",
      "\u001b[31mValueError\u001b[39m                                Traceback (most recent call last)",
      "\u001b[36mCell\u001b[39m\u001b[36m \u001b[39m\u001b[32mIn[96]\u001b[39m\u001b[32m, line 5\u001b[39m\n\u001b[32m      3\u001b[39m \u001b[38;5;28mprint\u001b[39m(\u001b[33m'\u001b[39m\u001b[33mWILLKOMMEN BEI DER BANK IHRES VERTRAUENS\u001b[39m\u001b[33m'\u001b[39m)\n\u001b[32m      4\u001b[39m \u001b[38;5;28mprint\u001b[39m(\u001b[33m'\u001b[39m\u001b[33m*****************************************\u001b[39m\u001b[33m'\u001b[39m)\n\u001b[32m----> \u001b[39m\u001b[32m5\u001b[39m value = \u001b[38;5;28;43mint\u001b[39;49m\u001b[43m(\u001b[49m\u001b[38;5;28;43minput\u001b[39;49m\u001b[43m(\u001b[49m\u001b[33;43m'\u001b[39;49m\u001b[33;43mWie viel möchten Sie abheben?\u001b[39;49m\u001b[33;43m'\u001b[39;49m\u001b[43m)\u001b[49m\u001b[43m)\u001b[49m\n\u001b[32m      6\u001b[39m \u001b[38;5;28mprint\u001b[39m(\u001b[33m'\u001b[39m\u001b[33mEingegebener Betrag: \u001b[39m\u001b[33m'\u001b[39m, value)\n\u001b[32m      8\u001b[39m \u001b[38;5;28mprint\u001b[39m(\u001b[33m\"\u001b[39m\u001b[33mGeldausgabe:\u001b[39m\u001b[33m\"\u001b[39m)\n",
      "\u001b[31mValueError\u001b[39m: invalid literal for int() with base 10: ''"
     ]
    }
   ],
   "source": [
    "# Komplette Lösung mit Erweiterung\n",
    "\n",
    "print('WILLKOMMEN BEI DER BANK IHRES VERTRAUENS')\n",
    "print('*****************************************')\n",
    "value = int(input('Wie viel möchten Sie abheben?'))\n",
    "print('Eingegebener Betrag: ', value)\n",
    "\n",
    "print(\"Geldausgabe:\")\n",
    "\n",
    "# 100er Scheine\n",
    "value = verarbeitung_notenwert(value, 100)\n",
    "\n",
    "# 50er Scheine\n",
    "value = verarbeitung_notenwert(value, 50)\n",
    "\n",
    "# 20er Scheine\n",
    "value = verarbeitung_notenwert(value, 20)\n",
    "\n",
    "# 10er Scheine\n",
    "value = verarbeitung_notenwert(value, 10)\n",
    "\n",
    "# Anzeige Rest:\n",
    "print(\"Restbetrag:\", value)"
   ]
  },
  {
   "cell_type": "markdown",
   "metadata": {},
   "source": [
    "Was ebenfalls immer wiederholt wird (ausser das es immer eine andere Zahl hat), ist folgender Code:\n",
    "```python\n",
    "# 100er Scheine\n",
    "hundred_bills = value // 100    \n",
    "print('100er Scheine: ', hundred_bills)\n",
    "value = value % 100\n",
    "```\n",
    "\n",
    "Kannst du auch diesen Code in eine Funktion verpacken? \n",
    "Tipps: \n",
    "- Die Funktion erhält zwei Argumente, der aktuelle Restbetrag und die aktuelle Notenstückelung.\n",
    "- Die Funktion sollte den neuen Restbetrag zurückgeben.\n",
    "- Verwende für das `print` die Funktion, welche du soeben definiert hast."
   ]
  },
  {
   "cell_type": "code",
   "execution_count": null,
   "metadata": {},
   "outputs": [],
   "source": []
  },
  {
   "cell_type": "markdown",
   "metadata": {},
   "source": [
    "Verwende nun auch diese neu definierte Funktion und schreibe das ganze Programm damit neu:"
   ]
  },
  {
   "cell_type": "code",
   "execution_count": null,
   "metadata": {},
   "outputs": [],
   "source": []
  },
  {
   "cell_type": "markdown",
   "metadata": {},
   "source": [
    "## 2. \"named arguments\" und Standardwerte\n",
    "\n",
    "### 2.1 Funktionsaufrufe mit \"named arguments\"\n",
    "Wenn wir aber Funktionen mit sehr vielen Argumenten haben, kann es sehr unübersichtlich sein, wenn man alle Argumente in der richtigen Reihenfolge übergeben müssen. Hier ist solch ein Beispiel:"
   ]
  },
  {
   "cell_type": "code",
   "execution_count": null,
   "metadata": {},
   "outputs": [],
   "source": [
    "def alter_anzeigen(name, geburtsjahr, geburtsmonat, geburtstag, heute_jahr, heute_monat, heute_tag):\n",
    "\n",
    "    if geburtsmonat < heute_monat:\n",
    "        bereits_geburtstag_gehabt = True\n",
    "    elif geburtsmonat > heute_monat:\n",
    "        bereits_geburtstag_gehabt = False\n",
    "    else:\n",
    "        if geburtstag <= heute_tag:\n",
    "            bereits_geburtstag_gehabt = True\n",
    "        else:\n",
    "            bereits_geburtstag_gehabt = False\n",
    "\n",
    "    if bereits_geburtstag_gehabt:\n",
    "        alter = heute_jahr - geburtsjahr\n",
    "    else:\n",
    "        alter = heute_jahr - geburtsjahr - 1\n",
    "    \n",
    "    heute_datum = str(heute_tag) + \".\" + str(heute_monat) + \".\" + str(heute_jahr)\n",
    "\n",
    "    print(\"Hallo\", name, \"\\ndu bist am\", heute_datum, alter, \"Jahre alt.\")\n",
    "\n",
    "    "
   ]
  },
  {
   "cell_type": "markdown",
   "metadata": {},
   "source": [
    "Wenn wir diese Funktion nun aufrufen, kann es sehr schnell unübersichtlich werden:"
   ]
  },
  {
   "cell_type": "code",
   "execution_count": null,
   "metadata": {},
   "outputs": [],
   "source": [
    "alter_anzeigen(\"Fritz\", 1923, 7, 2, 2023, 11, 1)  # Es ist schwierig zu wissen, welche Zahl zu was gehört."
   ]
  },
  {
   "cell_type": "markdown",
   "metadata": {},
   "source": [
    "Um hier Klarheit zu schaffen, können wir die Argumente auch mit ihrem Argumentnamen übergeben:"
   ]
  },
  {
   "cell_type": "code",
   "execution_count": null,
   "metadata": {},
   "outputs": [],
   "source": [
    "alter_anzeigen(\n",
    "    name=\"Fritz\",\n",
    "    geburtsjahr=1923,\n",
    "    geburtsmonat=7,\n",
    "    geburtstag=2,\n",
    "    heute_jahr=2023,\n",
    "    heute_monat=11,\n",
    "    heute_tag=1\n",
    ")"
   ]
  },
  {
   "cell_type": "markdown",
   "metadata": {},
   "source": [
    "Da die `=`-Zeichen innerhalb des Funktionsaufrufs auftauchen, werden dabei **keine** Variablen definiert. Wenn wir also schauen, was in `geburtstag` drin steht, sehen wir, dass die Variable gar nicht existiert:"
   ]
  },
  {
   "cell_type": "code",
   "execution_count": null,
   "metadata": {},
   "outputs": [],
   "source": [
    "geburtstag"
   ]
  },
  {
   "cell_type": "markdown",
   "metadata": {},
   "source": [
    "Da wir die Argumente nach Name (und nicht wie zuvor nach Reihenfolge/Position) übgeben, müssen wir die Reihenfolge auch nicht mehr einhalten:"
   ]
  },
  {
   "cell_type": "code",
   "execution_count": null,
   "metadata": {},
   "outputs": [],
   "source": [
    "alter_anzeigen(\n",
    "    geburtsjahr=1923,\n",
    "    geburtsmonat=7,\n",
    "    geburtstag=2,\n",
    "    heute_jahr=2023,\n",
    "    heute_monat=11,\n",
    "    heute_tag=1,\n",
    "    name=\"Fritz\",  # Die Reihenfolge ist jetzt egal, daher können wir das erste Argument als letztes übergeben\n",
    ")"
   ]
  },
  {
   "cell_type": "markdown",
   "metadata": {},
   "source": [
    "Wir können auch gewisse Variablen nach Position und andere nach Name übergeben:"
   ]
  },
  {
   "cell_type": "code",
   "execution_count": null,
   "metadata": {},
   "outputs": [],
   "source": [
    "alter_anzeigen(\n",
    "    \"Fritz\",            # Übergabe nach Position\n",
    "    1923,               # Übergabe nach Position\n",
    "    7,                  # Übergabe nach Position  \n",
    "    2,                  # Übergabe nach Position  \n",
    "    heute_jahr=2023,    # Übergabe nach Name\n",
    "    heute_monat=11,     # Übergabe nach Name\n",
    "    heute_tag=1         # Übergabe nach Name\n",
    ")"
   ]
  },
  {
   "cell_type": "markdown",
   "metadata": {},
   "source": [
    "Nachdem wir eine Variable nach Name (engl. \"keyword\") übergeben haben, können wir aber nicht wieder Variablen nach Position übergeben:"
   ]
  },
  {
   "cell_type": "code",
   "execution_count": null,
   "metadata": {},
   "outputs": [],
   "source": [
    "alter_anzeigen(\n",
    "    \"Fritz\",            # Übergabe nach Position\n",
    "    geburtsjahr=1923,   # Übergabe nach Name\n",
    "    7,                  # Übergabe nach Position  \n",
    "    2,                  # Übergabe nach Position  \n",
    "    heute_jahr=2023,    # Übergabe nach Name\n",
    "    heute_monat=11,     # Übergabe nach Name\n",
    "    heute_tag=1         # Übergabe nach Name\n",
    ")"
   ]
  },
  {
   "cell_type": "markdown",
   "metadata": {},
   "source": [
    "### 2.2 Standardwerte für Argumente\n",
    "Falls eine Funktion meist mit den gleichen Werten als Argument verwendet wird, können wir für dieses Argument einen Standardwert (engl. \"default value\") definieren. In diesem Beispiel definieren wir eine Funktion, welche einen Wert (`basis`) hoch einen zweiten Wert (`exponent`) rechnet und das Resultat anzeigt. Da aber die Funktion meist nur zum quadrieren von Werten verwendet wird, setzen wir als Standardwert von `exponent` den Wert 2."
   ]
  },
  {
   "cell_type": "code",
   "execution_count": null,
   "metadata": {},
   "outputs": [],
   "source": [
    "def hoch(basis, exponent=2):\n",
    "    print(basis, \"hoch\", exponent, \"ist\", basis ** exponent)"
   ]
  },
  {
   "cell_type": "markdown",
   "metadata": {},
   "source": [
    "Nun können wir die Funktion wie gehabt mit zwei Werten aufrufen:"
   ]
  },
  {
   "cell_type": "code",
   "execution_count": null,
   "metadata": {},
   "outputs": [],
   "source": [
    "hoch(2, 3)"
   ]
  },
  {
   "cell_type": "markdown",
   "metadata": {},
   "source": [
    "Aber wenn wir die Funktion nur mit einem Wert aufrufen, wird als Exponent 2 verwendet:"
   ]
  },
  {
   "cell_type": "code",
   "execution_count": null,
   "metadata": {},
   "outputs": [],
   "source": [
    "hoch(2)"
   ]
  },
  {
   "cell_type": "markdown",
   "metadata": {},
   "source": [
    "Auch hier wurde durch die Verwendung des `=` keine neue Variable `exponent` erzeugt:"
   ]
  },
  {
   "cell_type": "code",
   "execution_count": null,
   "metadata": {},
   "outputs": [],
   "source": [
    "exponent"
   ]
  },
  {
   "cell_type": "markdown",
   "metadata": {},
   "source": [
    "<br><br><br><br><br>\n",
    "<div class=\"exercise\">\n",
    "\n",
    "<img src=\"https://i.imgur.com/JyhBeDB.png\" class=\"exercise_image\" width=100>\n",
    "\n",
    "<span class=\"exercise_label\">**Aufgabe:**</span>\n",
    "\n",
    "Wir haben folgende Funktionsdefinition:\n",
    "\n",
    "```python\n",
    "\n",
    "def f(x, a=1, b=5):\n",
    "    return a * x + b\n",
    "```\n",
    "\n",
    "Sind folgende Funktionsaufrufe zulässig? Was ist das Resultat?\n",
    "```python\n",
    "\n",
    "\n",
    "f(3)\n",
    "f()\n",
    "f(3, 2, 1)\n",
    "f(3, b=2)\n",
    "f(a=4, b=2)\n",
    "f(x=3)\n",
    "f(x=3, 1, 2)\n",
    "```\n",
    "\n",
    "</div>"
   ]
  },
  {
   "cell_type": "code",
   "execution_count": 87,
   "metadata": {},
   "outputs": [
    {
     "ename": "SyntaxError",
     "evalue": "positional argument follows keyword argument (2907727815.py, line 7)",
     "output_type": "error",
     "traceback": [
      "  \u001b[36mCell\u001b[39m\u001b[36m \u001b[39m\u001b[32mIn[87]\u001b[39m\u001b[32m, line 7\u001b[39m\n\u001b[31m    \u001b[39m\u001b[31mf(3, b=2, 3)\u001b[39m\n               ^\n\u001b[31mSyntaxError\u001b[39m\u001b[31m:\u001b[39m positional argument follows keyword argument\n"
     ]
    }
   ],
   "source": [
    "def f(x, a=1, b=5):\n",
    "    return a * x + b\n",
    "\n",
    "#f(3)\n",
    "#f()\n",
    "#f(3, 2, 1)\n",
    "f(3, b=2, 3)\n",
    "#f(a=4, b=2)\n",
    "#f(x=3)\n",
    "#f(1, 2, 3)"
   ]
  },
  {
   "cell_type": "markdown",
   "metadata": {},
   "source": [
    "## 3. Variablen-Scope\n",
    "Wir haben gesehen, dass wir innerhalb von Funktionen neue Variablen definieren können. Doch können wir auf diese Variablen auch ausserhalb der Funktion zugreifen? Und können wir umgekehrt innerhalb einer Funktion auf Variablen von ausserhalb der Funktion zugreifen? Diese Fragen werden definiert durch den \"Scope\", die Gültigkeit, von Variablen.\n",
    "\n",
    "Es gilt: Variablen, welche innerhalb von Funktionen definiert wurden, existieren auch nur innerhalb der Funktion. Ausserhalb von der Funktion kann man nicht darauf zugreifen. Solche Variablen nennt man \"lokal\"."
   ]
  },
  {
   "cell_type": "code",
   "execution_count": 88,
   "metadata": {},
   "outputs": [
    {
     "name": "stdout",
     "output_type": "stream",
     "text": [
      "5\n"
     ]
    }
   ],
   "source": [
    "def eine_funktion():\n",
    "    a = 5\n",
    "    print(a)  # a existiert innerhalb der Funktion\n",
    "\n",
    "eine_funktion()"
   ]
  },
  {
   "cell_type": "code",
   "execution_count": 89,
   "metadata": {},
   "outputs": [
    {
     "name": "stdout",
     "output_type": "stream",
     "text": [
      "5\n"
     ]
    }
   ],
   "source": [
    "print(a)  # aber nicht ausserhalb"
   ]
  },
  {
   "cell_type": "markdown",
   "metadata": {},
   "source": [
    "Dasselbe gilt übrigens auch für Funktionsargumente:"
   ]
  },
  {
   "cell_type": "code",
   "execution_count": 90,
   "metadata": {},
   "outputs": [
    {
     "name": "stdout",
     "output_type": "stream",
     "text": [
      "3\n"
     ]
    }
   ],
   "source": [
    "def zweite_funktion(b):\n",
    "    print(b)  # wir haben innerhalb der Funktion auf b Zugriff\n",
    "\n",
    "zweite_funktion(3)"
   ]
  },
  {
   "cell_type": "code",
   "execution_count": 91,
   "metadata": {},
   "outputs": [
    {
     "ename": "NameError",
     "evalue": "name 'b' is not defined",
     "output_type": "error",
     "traceback": [
      "\u001b[31m---------------------------------------------------------------------------\u001b[39m",
      "\u001b[31mNameError\u001b[39m                                 Traceback (most recent call last)",
      "\u001b[36mCell\u001b[39m\u001b[36m \u001b[39m\u001b[32mIn[91]\u001b[39m\u001b[32m, line 1\u001b[39m\n\u001b[32m----> \u001b[39m\u001b[32m1\u001b[39m \u001b[38;5;28mprint\u001b[39m(\u001b[43mb\u001b[49m)  \u001b[38;5;66;03m# ausserhalb der Funktion existiert das Argument aber nicht\u001b[39;00m\n",
      "\u001b[31mNameError\u001b[39m: name 'b' is not defined"
     ]
    }
   ],
   "source": [
    "print(b)  # ausserhalb der Funktion existiert das Argument aber nicht"
   ]
  },
  {
   "cell_type": "markdown",
   "metadata": {},
   "source": [
    "Variablen, welche ausserhalb einer Funktion definiert wurden, können auch innerhalb der Funktion verwendet werden. Solche Variablen nennt man \"global\"."
   ]
  },
  {
   "cell_type": "code",
   "execution_count": 93,
   "metadata": {},
   "outputs": [
    {
     "name": "stdout",
     "output_type": "stream",
     "text": [
      "8\n"
     ]
    }
   ],
   "source": [
    "c = 8\n",
    "\n",
    "def dritte_funktion():\n",
    "    print(c)  # man kann innerhalb einer Funktion auf eine globale Variable zugreifen\n",
    "\n",
    "dritte_funktion()"
   ]
  },
  {
   "cell_type": "markdown",
   "metadata": {},
   "source": [
    "Wenn wir zwei Variablen mit dem gleichen Namen haben - eine Globale und eine Lokale - hat die lokale Variable vorrang."
   ]
  },
  {
   "cell_type": "code",
   "execution_count": 94,
   "metadata": {},
   "outputs": [
    {
     "name": "stdout",
     "output_type": "stream",
     "text": [
      "5\n"
     ]
    }
   ],
   "source": [
    "d = 3\n",
    "\n",
    "def vierte_funktion():\n",
    "    # wir erstellen eine neue, lokale Variable mit Namen \"d\"\n",
    "    # d wird also nicht überschrieben.!\n",
    "    d = 5                    \n",
    "    print(d)\n",
    "\n",
    "vierte_funktion()"
   ]
  },
  {
   "cell_type": "code",
   "execution_count": 97,
   "metadata": {},
   "outputs": [
    {
     "name": "stdout",
     "output_type": "stream",
     "text": [
      "3\n"
     ]
    }
   ],
   "source": [
    "print(d)  # ausserhalb der Funktion ist d unverändert"
   ]
  },
  {
   "cell_type": "markdown",
   "metadata": {},
   "source": [
    "<br><br><br><br><br>\n",
    "<div class=\"exercise\">\n",
    "\n",
    "<img src=\"https://i.imgur.com/JyhBeDB.png\" class=\"exercise_image\" width=100>\n",
    "\n",
    "<span class=\"exercise_label\">**Aufgabe:**</span>\n",
    "\n",
    "Was sind die Ausgaben von folgenden Programmen:\n",
    "\n",
    "a)\n",
    "```python\n",
    "def f(a):\n",
    "    print(a)\n",
    "\n",
    "a = 5\n",
    "f(3)\n",
    "\n",
    "3\n",
    "\n",
    "```\n",
    "\n",
    "b)\n",
    "```python\n",
    "a = 3\n",
    "def f():\n",
    "    print(a)\n",
    "\n",
    "f()\n",
    "\n",
    "3\n",
    "\n",
    "```\n",
    "\n",
    "c)\n",
    "```python\n",
    "a = 3\n",
    "def f():\n",
    "    a = 5\n",
    "    print(a)\n",
    "\n",
    "f()\n",
    "print(a)\n",
    "\n",
    "5\n",
    "3\n",
    "```\n",
    "</div>"
   ]
  },
  {
   "cell_type": "code",
   "execution_count": 100,
   "metadata": {},
   "outputs": [
    {
     "name": "stdout",
     "output_type": "stream",
     "text": [
      "5\n",
      "3\n"
     ]
    }
   ],
   "source": [
    "a = 3\n",
    "def f():\n",
    "    a = 5\n",
    "    print(a)\n",
    "\n",
    "f()\n",
    "print(a)"
   ]
  },
  {
   "cell_type": "markdown",
   "metadata": {},
   "source": [
    "## 4. Docstrings\n",
    "In komplexen Programmen müssen wir immer sicherstellen, dass unsere Mitarbeiter:innen unseren Code verstehen. Daher ist es wichtig, Funktionen sowie den Funktionsargumenten klare Namen zu geben. Um noch weiter zu erklären, was Funktionen machen, werden sie oft mit einer sogenannten \"Docstring\" beschrieben. Dabei handelt es sich um einen Kommentar gleich nach der \"def\"-Zeile, welcher beschreibt, was die Funktion macht. Eine Docstring sieht zum Beispiel so aus:"
   ]
  },
  {
   "cell_type": "code",
   "execution_count": null,
   "metadata": {},
   "outputs": [],
   "source": [
    "def sichere_division(zaehler, nenner):\n",
    "    \"\"\"Dividiert zaehler durch nenner. Wenn der Nenner 0 ist, wird 0 zurückgegeben.\"\"\"\n",
    "    try:\n",
    "        return zaehler / nenner\n",
    "    except ZeroDivisionError:\n",
    "        return 0"
   ]
  }
 ],
 "metadata": {
  "kernelspec": {
   "display_name": ".venv",
   "language": "python",
   "name": "python3"
  },
  "language_info": {
   "codemirror_mode": {
    "name": "ipython",
    "version": 3
   },
   "file_extension": ".py",
   "mimetype": "text/x-python",
   "name": "python",
   "nbconvert_exporter": "python",
   "pygments_lexer": "ipython3",
   "version": "3.13.1"
  },
  "orig_nbformat": 4
 },
 "nbformat": 4,
 "nbformat_minor": 2
}
