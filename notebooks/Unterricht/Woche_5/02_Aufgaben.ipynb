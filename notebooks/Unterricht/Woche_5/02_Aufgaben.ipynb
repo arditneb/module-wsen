{
 "cells": [
  {
   "cell_type": "markdown",
   "metadata": {},
   "source": [
    "# 2. Grösser / Kleiner als\n",
    "\n",
    "In dieser Aufgabe wollen wir zuerst eine Funktion `max_of_two` implementieren, welche zwei Zahlen vergleicht und die grössere zurückgibt. Anschliessend wollen wir diese Funktion nutzen, um die grösste Zahl von drei Zahlen zu finden.\n",
    "\n",
    "### 2.1 Max of Two\n",
    "Verfollständige die Funktion `max_of_two`, welche zwei Zahlen vergleicht und die grössere zurückgibt."
   ]
  },
  {
   "cell_type": "code",
   "execution_count": null,
   "metadata": {},
   "outputs": [],
   "source": [
    "def max_of_two(a, b):\n",
    "    # YOUR CODE HERE"
   ]
  },
  {
   "cell_type": "markdown",
   "metadata": {},
   "source": [
    "### 2.2 Max of Three\n",
    "Jetzt kann die Funktion `max_of_two` verwendet werden um die grössere von *drei* Zahlen zu finden.\n",
    "Implementiere dafür eine Funktion `max_of_three`, welche drei Zahlen vergleicht und die grösste zurückgibt.\n",
    "\n",
    "Hinweis: Du kannst die Funktion `max_of_two` in der Funktion `max_of_three` verwenden."
   ]
  },
  {
   "cell_type": "code",
   "execution_count": null,
   "metadata": {},
   "outputs": [],
   "source": [
    "def max_of_three(a, b, c):\n",
    "    # YOUR CODE HERE"
   ]
  },
  {
   "cell_type": "markdown",
   "metadata": {},
   "source": [
    "Teste die Funktionalität der Funktion mit folgenden Aufrufen:"
   ]
  },
  {
   "cell_type": "code",
   "execution_count": null,
   "metadata": {},
   "outputs": [],
   "source": [
    "print(max_of_three(7, 6, -5))\n",
    "print(max_of_three(3, 6, 5))\n",
    "print(max_of_three(0, 0, 0))"
   ]
  },
  {
   "cell_type": "markdown",
   "metadata": {},
   "source": [
    "# 2. Nummern-Palindrom\n",
    "Implementiere eine Funktion `number_palindrome` die Überprüft ob eine angegebene Nummer ein Palindrom ist oder nicht. Sie gibt das Resultat als `bool` zurück.\n",
    "Ein Palindrom ist eine Nummer welche sich von vorne und hinten gleich liest. Z.B. `12321` oder `123321`.\n",
    "\n",
    "**Hinweise**:\n",
    "- mit `number%10` kann auf die hinterste Stelle der Zahl zugegriffen werden\n",
    "- Eine Schlaufe soll eine neue Zahl generieren, welche die umgekehrte Zahl ist. Z.B. `123` wird zu `321`\n",
    "- Ein vergleich zwischen der neuen Zahl und der originalen Zahl testet ob die Zahl ein palindrom ist oder nicht"
   ]
  },
  {
   "cell_type": "code",
   "execution_count": null,
   "metadata": {},
   "outputs": [],
   "source": [
    "def number_palindrome(number):\n",
    "    # YOUR CODE HERE"
   ]
  },
  {
   "cell_type": "code",
   "execution_count": null,
   "metadata": {},
   "outputs": [],
   "source": [
    "print(number_palindrome(12321))\n",
    "print(number_palindrome(12345))\n",
    "print(number_palindrome(0))"
   ]
  },
  {
   "cell_type": "markdown",
   "metadata": {},
   "source": [
    "# 3. Schere, Stein, Papier\n",
    "\n",
    "In dieser Aufgabe wollen wir aufzeigen, wie wir ein erstes komplexeres Programm schreiben: Ein \"Schere, Stein, Papier\"-Spiel. Damit das Programm einfach verständlich wird, unterteilen wir es in unterschiedliche Funktionen, welche wir schrittweise implementieren.\n",
    "\n",
    "### Einführung\n",
    "\n",
    "Die ersten zwei Funktionen haben wir bereits vorimplementiert. Die Funktion `wahl_computer` lässt den Computer zufällig aus den Optionen \"schere\", \"stein\" oder \"papier\" auswählen. Die Definition sieht wie folgt aus:"
   ]
  },
  {
   "cell_type": "code",
   "execution_count": null,
   "metadata": {},
   "outputs": [],
   "source": [
    "import random\n",
    "\n",
    "OPTIONEN = [\"schere\", \"stein\", \"papier\"]\n",
    "\n",
    "def wahl_computer():\n",
    "    \"\"\"Der Computer wählt eine der drei Optionen zufällig.\"\"\"\n",
    "    return random.choice(OPTIONEN)"
   ]
  },
  {
   "cell_type": "markdown",
   "metadata": {},
   "source": [
    "Wir können die Funktion wie folgt aufrufen. Da der Computer zufällig wählt, gibt die Funktion immer unterschiedliche Resultate zurück."
   ]
  },
  {
   "cell_type": "code",
   "execution_count": null,
   "metadata": {},
   "outputs": [],
   "source": [
    "wahl_computer()"
   ]
  },
  {
   "cell_type": "markdown",
   "metadata": {},
   "source": [
    "Die zweite vorimplementierte Funktion heisst `wahl_validieren`. Sie überprüft, ob ein eingegebener Wert zulässig (also \"schere\", \"stein\" oder \"papier\") ist. Wenn ja gibt sie `True` zurück, ansonsten `False`."
   ]
  },
  {
   "cell_type": "code",
   "execution_count": null,
   "metadata": {},
   "outputs": [],
   "source": [
    "def wahl_validieren(mensch_wahl):\n",
    "    \"\"\"Gibt True zurück, wenn die Wahl zulässig ist (also entweder\n",
    "    Schere, Stein oder Papier ist). Sonst gibt es Falsch zurück.\"\"\"\n",
    "    return mensch_wahl in OPTIONEN"
   ]
  },
  {
   "cell_type": "markdown",
   "metadata": {},
   "source": [
    "Hier zwei Beispielanwendungen:"
   ]
  },
  {
   "cell_type": "code",
   "execution_count": null,
   "metadata": {},
   "outputs": [],
   "source": [
    "wahl_validieren(\"schere\")"
   ]
  },
  {
   "cell_type": "code",
   "execution_count": null,
   "metadata": {},
   "outputs": [],
   "source": [
    "wahl_validieren(\"scher\")"
   ]
  },
  {
   "cell_type": "markdown",
   "metadata": {},
   "source": [
    "Jetzt sind wir dran. "
   ]
  },
  {
   "cell_type": "markdown",
   "metadata": {},
   "source": [
    "### a. `gewinner`\n",
    "Schreibe eine Funktion namens `gewinner` mit zwei Argumenten, `computer_wahl` und `mensch_wahl`. Diese macht folgendes:\n",
    "- Gibt 1 zurück, falls Computer gewinnt\n",
    "- Gibt -1 falls Mensch gewinnt\n",
    "- Gibt 0 zurück bei unentschieden"
   ]
  },
  {
   "cell_type": "code",
   "execution_count": null,
   "metadata": {},
   "outputs": [],
   "source": []
  },
  {
   "cell_type": "markdown",
   "metadata": {},
   "source": [
    "### b. `wahl_mensch`\n",
    "Diese Funktion, ohne Argumente, fragt den Menschen \"schere, stein oder papier?\". \n",
    "Ansonsten wird die Wahl mit der Funktion `wahl_validieren` überprüft, und\n",
    "wenn die Wahl nicht valid ist, wird nochmals danach gefragt. Dies solange,\n",
    "bis eine gültige Wahl gegeben wurde."
   ]
  },
  {
   "cell_type": "code",
   "execution_count": null,
   "metadata": {},
   "outputs": [],
   "source": []
  },
  {
   "cell_type": "markdown",
   "metadata": {},
   "source": [
    "### c. `verkuende_wahl_computer`\n",
    "Diese Funktion hat ein Argument, eine String mit der Wahl des Computers. Die Funktion zeigt die Wahl des Computers mit `print` an."
   ]
  },
  {
   "cell_type": "code",
   "execution_count": null,
   "metadata": {},
   "outputs": [],
   "source": []
  },
  {
   "cell_type": "markdown",
   "metadata": {},
   "source": [
    "### d. `verkuende_gewinner`\n",
    "Diese Funktion hat ein Argument, `resultat`, und ist dafür zuständig, den Gewinner zu verkünden. Wie in der Funktion `gewinner` bedeutet ein `resultat` von 1, dass der Computer gewinnt, -1 dass der Mensch gewinnt, und 0 unentschieden.\n"
   ]
  },
  {
   "cell_type": "code",
   "execution_count": null,
   "metadata": {},
   "outputs": [],
   "source": []
  },
  {
   "cell_type": "markdown",
   "metadata": {},
   "source": [
    "### e. `begruessung`\n",
    "Diese Funktion ohne Argumente begrüsst die Anwender, erklärt die Regeln des Spieles und sagt, dass man mit dem Eingabewert `stop` das Spiel beenden kann."
   ]
  },
  {
   "cell_type": "code",
   "execution_count": null,
   "metadata": {},
   "outputs": [],
   "source": []
  },
  {
   "cell_type": "markdown",
   "metadata": {},
   "source": [
    "### f. `eine_runde`\n",
    "Diese Funktion ohne Argumente führt eine Runde Schere-Stein-Papier aus. Zuerst wählt der Computer,\n",
    "dann der Mensch. Dann wird die Wahl des Computers verkündet, das Resultat\n",
    "ermittelt, und schliesslich der Gewinner verkündet. Die Funktion gibt\n",
    "das Resultat zurück (also 1 wenn Computer gewinnt, -1 für Mensch, 0 bei\n",
    "unentschieden). Für all diese Schritte können wir die Funktionen verwenden, welche wir gerade implementiert haben."
   ]
  },
  {
   "cell_type": "code",
   "execution_count": null,
   "metadata": {},
   "outputs": [],
   "source": []
  },
  {
   "cell_type": "markdown",
   "metadata": {},
   "source": [
    "### g. `spiel`\n",
    "Führt das ganze Spiel aus. Nach der Begrüssung besteht das Spiel aus einem unendlichen Loop, in dem immer wieder `eine_runde` aufgerufen wird."
   ]
  },
  {
   "cell_type": "code",
   "execution_count": null,
   "metadata": {},
   "outputs": [],
   "source": []
  },
  {
   "cell_type": "markdown",
   "metadata": {},
   "source": [
    "Nun können wir das Spiel mit der folgenden Funktion ganz einfach starten:"
   ]
  },
  {
   "cell_type": "code",
   "execution_count": null,
   "metadata": {},
   "outputs": [],
   "source": [
    "spiel()"
   ]
  }
 ],
 "metadata": {
  "kernelspec": {
   "display_name": ".venv",
   "language": "python",
   "name": "python3"
  },
  "language_info": {
   "codemirror_mode": {
    "name": "ipython",
    "version": 3
   },
   "file_extension": ".py",
   "mimetype": "text/x-python",
   "name": "python",
   "nbconvert_exporter": "python",
   "pygments_lexer": "ipython3",
   "version": "3.10.9"
  }
 },
 "nbformat": 4,
 "nbformat_minor": 2
}
