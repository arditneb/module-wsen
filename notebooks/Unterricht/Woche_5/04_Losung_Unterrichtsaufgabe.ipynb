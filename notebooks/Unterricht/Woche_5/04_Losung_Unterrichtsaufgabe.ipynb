{
 "cells": [
  {
   "cell_type": "code",
   "execution_count": null,
   "metadata": {},
   "outputs": [],
   "source": [
    "def anzeige_der_ausgabe(wert, menge):\n",
    "    print(str(wert) + \"er Scheine: \", menge)\n"
   ]
  },
  {
   "cell_type": "code",
   "execution_count": null,
   "metadata": {},
   "outputs": [],
   "source": [
    "def restberechnung_und_ausgabe(notenwert, betrag):\n",
    "    hundred_bills = betrag // notenwert    \n",
    "    anzeige_der_ausgabe(notenwert, hundred_bills)\n",
    "    return betrag % notenwert\n"
   ]
  },
  {
   "cell_type": "code",
   "execution_count": null,
   "metadata": {},
   "outputs": [],
   "source": [
    "def begruessung():\n",
    "    # Komplette Lösung mit Erweiterung\n",
    "    print('WILLKOMMEN BEI DER BANK IHRES VERTRAUENS')\n",
    "    print('*****************************************')\n",
    "    value = int(input('Wie viel möchten Sie abheben?'))\n",
    "    print('Eingegebener Betrag: ', value)\n",
    "\n",
    "    print(\"Geldausgabe:\")\n",
    "\n",
    "    return value"
   ]
  },
  {
   "cell_type": "code",
   "execution_count": null,
   "metadata": {},
   "outputs": [],
   "source": [
    "value = begruessung()\n",
    "\n",
    "for notenwert in 100, 50, 20, 10:\n",
    "    value = restberechnung_und_ausgabe(notenwert, value)\n",
    "\n",
    "print(\"Restbetrag:\", value)\n"
   ]
  },
  {
   "cell_type": "code",
   "execution_count": null,
   "metadata": {},
   "outputs": [],
   "source": []
  }
 ],
 "metadata": {
  "kernelspec": {
   "display_name": ".venv",
   "language": "python",
   "name": "python3"
  },
  "language_info": {
   "codemirror_mode": {
    "name": "ipython",
    "version": 3
   },
   "file_extension": ".py",
   "mimetype": "text/x-python",
   "name": "python",
   "nbconvert_exporter": "python",
   "pygments_lexer": "ipython3",
   "version": "3.9.16"
  }
 },
 "nbformat": 4,
 "nbformat_minor": 2
}
