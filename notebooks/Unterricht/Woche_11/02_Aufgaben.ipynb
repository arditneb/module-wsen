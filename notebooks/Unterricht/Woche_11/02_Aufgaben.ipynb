{
 "cells": [
  {
   "cell_type": "markdown",
   "id": "218fce0e",
   "metadata": {},
   "source": [
    "# 1. Methoden und Attribute\n",
    "Im folgenden Codeblock wird eine Klasse definiert. Sage, welche darin definierten Methoden privat, private und öffentlich sind, und auch ob es sich um Klassen- oder Instanzattribute handelt. Identifiziere zudem die Magic Methods, und sag, was diese machen."
   ]
  },
  {
   "cell_type": "code",
   "execution_count": null,
   "id": "3637a99a",
   "metadata": {},
   "outputs": [],
   "source": [
    "class Cat:\n",
    "    \n",
    "    species = \"cat\"\n",
    "    __cat_art = f\"\"\"\n",
    "        |\\---/|\n",
    "        | o_o |\n",
    "         \\_^_/\n",
    "        \"\"\"\n",
    "    \n",
    "    __cool_cat_art = f\"\"\"\n",
    "        |\\---/|\n",
    "        -[]-[]-\n",
    "         \\_^_/\n",
    "    \"\"\"\n",
    "    \n",
    "    def __init__(self, name, race):\n",
    "        self.name = name\n",
    "        self.__race = race\n",
    "        self._hair_length = 2\n",
    "\n",
    "    def _get_relevant_art(self, race):\n",
    "        if self.__is_it_cool(race):\n",
    "            return self.__cool_cat_art\n",
    "        else:\n",
    "            return self.__cat_art\n",
    "        \n",
    "    def __str__(self):\n",
    "        art = self._get_relevant_art(self.__race)\n",
    "        return f\"{art}\\n         {self.name}\"\n",
    "    \n",
    "    def define_color(self, color):\n",
    "        self._color = color\n",
    "        \n",
    "    def __remove_info(self):\n",
    "        self.name = None\n",
    "        self.__race = None\n",
    "    \n",
    "    def __is_it_cool(self, race):\n",
    "        print(race)\n",
    "        corr_race = race.lower().strip()\n",
    "        if corr_race == \"persian\":\n",
    "            return True\n",
    "        elif corr_race == \"british shorthair\":\n",
    "            return True\n",
    "        else:\n",
    "            return False\n"
   ]
  },
  {
   "cell_type": "markdown",
   "id": "19000244",
   "metadata": {},
   "source": [
    "Wir definieren folgende zwei Katzen. Was passiert für folgende Aufrufe?"
   ]
  },
  {
   "cell_type": "code",
   "execution_count": null,
   "id": "08b5183e",
   "metadata": {},
   "outputs": [],
   "source": [
    "cat1 = Cat(\"Bobby\", \"Normal\")\n",
    "cat2 = Cat(\"Cindy\", \"Persian\")"
   ]
  },
  {
   "cell_type": "markdown",
   "id": "d73707cc",
   "metadata": {},
   "source": [
    "```python\n",
    "cat1.name\n",
    "cat1.define_color(5)\n",
    "cat2._color\n",
    "cat1._color\n",
    "cat2.__race\n",
    "print(cat1._get_relevant_art(\"persian\"))\n",
    "print(cat2)\n",
    "cat2.__remove_info()\n",
    "```"
   ]
  },
  {
   "cell_type": "markdown",
   "id": "f90685b8",
   "metadata": {},
   "source": [
    "# 2. ASCII Trains\n",
    "Ziel dieser Aufgabe ist es, die Klasse ASCIITrain zu implementieren. Ein ASCIITrain besteht aus einer string, welche eine Lokomotive als ASCII-Art enthält. Wir wollen diese Züge addieren können, um verschiedene Wagen zusammenzusetzen. Mit einer Multiplikation wollen wir sagen können, dass wir denselben Wagen n mal wiederholen wollen.\n",
    "\n",
    "Die Schwierigkeit ist es, zwei Strings zusammenzufügen. Da die Art über mehrere Zeilen geht, können wir nicht einfach a + b rechnen, um die Strings zu konkatenieren. Stattdessen müssen wir zuerst die string in einzelne Zeilen unterteilen, diese einzeln zusammenfügen, und schliesslich wieder den ganzen Zug zusammenzusetzen.\n",
    "\n",
    "In der nachfolgenden Zelle ist die Klasse vorbereitet - es müssen nur noch die einzelnen Funktionen ausgefüllt werden.\n"
   ]
  },
  {
   "cell_type": "code",
   "execution_count": null,
   "id": "a15384d4",
   "metadata": {},
   "outputs": [],
   "source": [
    "class ASCIITrain:\n",
    "    \n",
    "    def __init__(self, art):\n",
    "        \"\"\"Erzeugt ein Instanzattribut \"art\", mit dem Wert des Arguments \"art\".\"\"\"\n",
    "    \n",
    "    def __str__(self):\n",
    "        \"\"\"Gibt das Instanzattribut \"art\" zurück.\"\"\"\n",
    "        \n",
    "    def _split_into_lines(self, art):\n",
    "        \"\"\"Nimmt \"art\" entgegen und unterteilt es bei den Zeilenumbrüchen (\\n).\n",
    "\n",
    "        Das Resultat wird als Liste zurückgegeben. Verwende dazu die Methode split der Klasse str.\n",
    "        \n",
    "        Beispiel:\n",
    "        train._split_into_lines(\"abc\\ndef\\nghi\")\n",
    "        -->\n",
    "        [\"abc\", \"def\", \"ghi\"]\n",
    "        \"\"\"\n",
    "                \n",
    "    def _merge_lines(self, left, right):\n",
    "        \"\"\"Nimmt zwei Listen von Strings (also zwei Listen von Zeilen). Anschliessend addiert die Methode\n",
    "        die erste Zeile von \"left\" zur ersten Zeile von \"right\", dann die zweite Zeile von \"left\" zur \n",
    "        zweiten Zeile von \"right\", usw. Das Resultat wird als Liste von Strings zurückgegeben.\n",
    "\n",
    "        Beispiel:\n",
    "        train._merge_lines(\n",
    "            [\"a\", \"b\", \"c\"],\n",
    "            [\"1\", \"2\", \"3\"],\n",
    "        )\n",
    "        -->\n",
    "        [\"a1\", \"b2\", \"c3\"]\n",
    "        \"\"\"\n",
    "\n",
    "        \n",
    "    @staticmethod\n",
    "    def _reassemble_lines(lines):\n",
    "        \"\"\"Nimmt eine Liste von Strings entgegen, und sie so zusammen, dass jedes Element durch einen \n",
    "        Zeilenumbruch (\\n) getrennt ist.\n",
    "        \n",
    "        Beispiel:\n",
    "        train._reassemble_lines([\"a\", \"b\", \"c\"])\n",
    "        -->\n",
    "        \"a\\nb\\nc\"\n",
    "        \"\"\"\n",
    "        \n",
    "    def __add__(self, other):\n",
    "        \"\"\"Implementiert die Addition von zwei ASCIITrain-Objekten. Dies wird wie folgt getan:\n",
    "        - wende _split_into_lines auf self und other an\n",
    "        - verwende _merge_lines, um die zwei Listen von Strings zu einer Liste zu kombinieren\n",
    "        - verwende _reassemble_lines, um aus der Liste von Strings eine String zu machen\n",
    "        - erstelle ein neues ASCIITrain-Objekt und gib dieses zurück.        \n",
    "        \"\"\"\n",
    "        \n",
    "    def __mul__(self, zahl):\n",
    "        \"\"\"Erlaubt es, ein ASCIITrain-Objekt mit einer ganzen Zahl zu multiplizieren. \n",
    "\n",
    "        - Wenn die Zahl 1 ist, gib \"self\" zurück\n",
    "        - Wenn die Zahl grösser als 1 ist, gib self + self * (zahl - 1) zurück.\n",
    "        \"\"\"\n",
    "        \n",
    "    # Kleine Magie, sodass wir die Multiplikation auch von der anderen Seite her durchführen können\n",
    "    # Nicht verändern.\n",
    "    __rmul__ = __mul__\n",
    "    "
   ]
  },
  {
   "cell_type": "code",
   "execution_count": null,
   "id": "d8c15cd6",
   "metadata": {},
   "outputs": [],
   "source": []
  },
  {
   "cell_type": "markdown",
   "id": "903c5940",
   "metadata": {},
   "source": [
    "Nun können wir folgende Lokomotiven und Wagen definieren:"
   ]
  },
  {
   "cell_type": "code",
   "execution_count": null,
   "id": "6401d715",
   "metadata": {},
   "outputs": [],
   "source": [
    "lok = ASCIITrain(\n",
    "r\"\"\"\n",
    "               \n",
    " __<>_____<>__ \n",
    "//    <+>    \\\\\n",
    "\\_____________/\n",
    "  oo       oo  \n",
    "\"\"\"\n",
    ")\n",
    "\n",
    "wagen = ASCIITrain(\n",
    "r\"\"\"\n",
    "              \n",
    " ____________ \n",
    "||_||_||_||_||\n",
    "|____________|\n",
    " oo        oo \n",
    "\n",
    "\"\"\"\n",
    ")\n",
    "\n",
    "\n",
    "dampflock = ASCIITrain(\n",
    "r\"\"\"\n",
    "()()   ()   \n",
    " ___  ()  ()\n",
    "|  \\\\_|||||| \n",
    "|_<+>_______|<\n",
    " oOoo   oOoo\n",
    "\"\"\"\n",
    ")"
   ]
  },
  {
   "cell_type": "markdown",
   "id": "f0645a55",
   "metadata": {},
   "source": [
    "Diese Wagen können wir nun zu einem ganzen Zug zusammensetzen:"
   ]
  },
  {
   "cell_type": "code",
   "execution_count": null,
   "id": "73b6757f",
   "metadata": {
    "scrolled": true
   },
   "outputs": [],
   "source": [
    "zug = 5 * wagen + dampflock\n",
    "print(zug)"
   ]
  },
  {
   "cell_type": "markdown",
   "id": "ab00d3f5-1a8b-4e4c-bbbb-b6b4aaa0755d",
   "metadata": {},
   "source": [
    "# 3. Circle Klasse\n",
    "\n",
    "Ziel dieser Aufgabe ist es, eine Klasse \"Circle\" zu erstellen, die mit einer Konstruktormethode ausgestattet ist, mit der der Radius des Kreises festgelegt wird. Die Klasse enthält ein Klassenattribut, das den Wert von pi (3,14) darstellt. Außerdem enthält sie zwei Methoden: Die erste berechnet die Fläche des Kreises, die zweite seinen Umfang (Fläche = pi * Radius * Radius und Umfang = 2 * pi * Radius).\n",
    "\n",
    "Anschließend erstellen wir eine Instanz der Klasse Kreis und berechnen seine Fläche und seinen Umfang."
   ]
  },
  {
   "cell_type": "code",
   "execution_count": null,
   "id": "3dbf7d95-9e25-42bb-a847-59e0b887faa7",
   "metadata": {},
   "outputs": [],
   "source": []
  }
 ],
 "metadata": {
  "kernelspec": {
   "display_name": "Python 3 (ipykernel)",
   "language": "python",
   "name": "python3"
  },
  "language_info": {
   "codemirror_mode": {
    "name": "ipython",
    "version": 3
   },
   "file_extension": ".py",
   "mimetype": "text/x-python",
   "name": "python",
   "nbconvert_exporter": "python",
   "pygments_lexer": "ipython3",
   "version": "3.10.11"
  }
 },
 "nbformat": 4,
 "nbformat_minor": 5
}
