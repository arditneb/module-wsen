{
 "cells": [
  {
   "cell_type": "markdown",
   "metadata": {},
   "source": [
    "## 1. Objektorientiertes Programmieren: Einführung\n",
    "\n",
    "### 1.1 Terminologie\n",
    "Wir haben bis jetzt zahlreiche unterschiedliche Objekte verwendet: Strings, Listen, floats oder Funktionen. In diesem Abschnitt lernen wir, wie wir selbst neue Objekttypen definieren können. Dadurch können wir unseren Code sehr übersichtlich gestalten, was insbesondere in grösseren Projekten sehr hilfreich ist. Dieses Vorgehen nennt man \"objektorientiertes Programmieren\", kurz OOP.\n",
    "\n",
    "Mit OOP sind viele Begriffe verbunden:\n",
    "- **Klasse**: Die Klasse beschreibt den den Bauplan von Objekten, und legt dadurch den Objekttyp fest. Sie wird zurückgegeben, wenn man für eine bestimmte Variable die Funktion `type(variable)` aufruft.\n",
    "- **Objekt**: Ein Objekt ist ein spezifisches Objekt einer bestimmten Klasse.\n",
    "- **Methoden**: Methoden sind Funktionen, welche zu einer Klasse gehören.\n",
    "- **Attribute**: Attribute sind Variablen, welche zu einer Klasse gehören.\n",
    "\n",
    "Beispiel:\n",
    "```python\n",
    "some_list = [1, 2, 3]\n",
    "```\n",
    "Hier ist `some_list` das Objekt (die spezifische Liste), `list` die Klasse. `some_list.append` ist ein Beispiel für eine Methode; ein Attribut haben Listen nicht.\n",
    "\n",
    "### 1.2 Einführung in unser Beispiel, Namenskonventionen\n",
    "Um zu zeigen, wieso Klassen nützlich sein können, wollen wir ein kleines Beispiel eines sozialen Netzwerks aufbauen. Dazu erzeugen wir zwei Klassen:<br><br>\n",
    "\n",
    "**`User`**:\n",
    "\n",
    "`User` speichert alle Eigenschaften einer Person und definiert, was diese Person machen kann.\n",
    "\n",
    "Die **Attribute** von `User` sind dabei: \n",
    "- `username`\n",
    "- `alter`\n",
    "- `freunde` für die Liste von Freunden\n",
    "- `posts` für eine Liste von Posts. \n",
    "\n",
    "Als **Methoden** implementieren wir alle Dinge, welche User-Objekte tun können: \n",
    "- `freund_hinzufuegen`\n",
    "- `freund_entfernen`\n",
    "- `freundesliste`\n",
    "- `post_erstellen`\n",
    "- `post_liken`\n",
    "\n",
    "<br>\n",
    "\n",
    "**`Post`**:\n",
    "\n",
    "Für Posts erzeugen wir eine zweite Klasse `Post`.\n",
    "Attribute:\n",
    "- `inhalt`, ein `str`-Objekt\n",
    "- `autor_name`, eine String mit dem Username des Autors\n",
    "- `likes`, ein Set von Usern, welche den Post geliked haben.\n",
    "\n",
    "Methoden:\n",
    "- `like_hinzufuegen`, fügt einen User dem Set `likes` hinzu.\n",
    "\n",
    "<br><br>\n",
    "Dieses Beispiel zeigt auch, wie die **Namenskonventionen** für Klassen sind: \n",
    "- Klassennamen: Während wir für Variablen in Python immer kleingeschriebene Namen verwendet haben, beginnen die Namen für selbst-definierte Klassen immer mit einem Grossbuchstaben. Dadurch kann man einfach eine Klasse von einem Objekt unterscheiden. Wenn der Klassenname aus mehreren Wörtern besteht, beginnt jedes Wort wieder mit einem Grossbuchstaben - `_`-Zeichen werden keine verwendet. Beispiel: `SocialNetworkUser`. \n",
    "- Attribute und Methoden: Für Attribute und Methoden gelten aber die gleichen Namenskonventionen wie für Variablen in Python.\n",
    "\n",
    "### 1.3 Eine erste Klasse\n",
    "Eine Klasse definieren wir mit dem Stichwort `class`, gefolgt von einem Doppelpunkt. Alles im nachfolgenden Code-Block gehört zur Klasse. Hier ist eine erste, leere Klasse:"
   ]
  },
  {
   "cell_type": "code",
   "execution_count": null,
   "metadata": {},
   "outputs": [],
   "source": [
    "class User:\n",
    "    pass  # bis jetzt hat die Klasse noch keine Methoden oder Attribute"
   ]
  },
  {
   "cell_type": "markdown",
   "metadata": {},
   "source": [
    "Wenn wir ein Objekt von dieser Klasse erstellen wollen, können wir dies wie folgt tun:"
   ]
  },
  {
   "cell_type": "code",
   "execution_count": null,
   "metadata": {},
   "outputs": [],
   "source": [
    "objekt = User()  # Wir verwenden den Klassennamen wie eine Funktion\n",
    "type(objekt)"
   ]
  },
  {
   "cell_type": "markdown",
   "metadata": {},
   "source": [
    "Wenn wir das Objekt anschauen, erhalten wir folgende Information:"
   ]
  },
  {
   "cell_type": "code",
   "execution_count": null,
   "metadata": {},
   "outputs": [],
   "source": [
    "objekt"
   ]
  },
  {
   "cell_type": "markdown",
   "metadata": {},
   "source": [
    "Zum Vergleich: Wir können auch bei vorimplementierten Python-Klassen (wie `list`, `set`, usw.) den Klassennamen gefolgt von `()` schreiben, um ein leeres Objekt zu erzeugen:"
   ]
  },
  {
   "cell_type": "code",
   "execution_count": null,
   "metadata": {},
   "outputs": [],
   "source": [
    "leere_liste = list()\n",
    "type(leere_liste)"
   ]
  },
  {
   "cell_type": "markdown",
   "metadata": {},
   "source": [
    "### 1.4 Der Constructor\n",
    "Bis jetzt macht unsere Klasse noch nichts. Als erstes wollen wir definieren, was passiert, wenn wir ein neues Objekt einer Klasse erzeugen. Die Anleitung, was beim Erzeugen der Klasse getan werden soll, schreiben wir in eine spezielle Methode mit dem Methodennamen `__init__`. Da diese Methode die Klasse \"aufbaut\", wird sie \"Constructor\" genannt."
   ]
  },
  {
   "cell_type": "code",
   "execution_count": null,
   "metadata": {},
   "outputs": [],
   "source": [
    "class User:\n",
    "\n",
    "    # Dies ist der Constructor, eine spezielle Methode mit Namen __init__\n",
    "    def __init__(self):\n",
    "        print(\"hi\")"
   ]
  },
  {
   "cell_type": "markdown",
   "metadata": {},
   "source": [
    "Wir sehen: Methoden definieren wir wie Funktionen, aber innerhalb des Code-Blocks der Klasse. Einziger Unterschied: Methoden haben als erstes Funktionsargument jeweils das Stichwort `self`. \n",
    "\n",
    "Da jetzt die Methode `__init__` definiert wurde, wird jedes mal, wenn ein neues Objekt erzeugt wird, `hi` ausgegeben."
   ]
  },
  {
   "cell_type": "code",
   "execution_count": null,
   "metadata": {},
   "outputs": [],
   "source": [
    "objekt = User()"
   ]
  },
  {
   "cell_type": "code",
   "execution_count": null,
   "metadata": {},
   "outputs": [],
   "source": [
    "objekt2 = User()"
   ]
  },
  {
   "cell_type": "markdown",
   "metadata": {},
   "source": [
    "### 1.5 Attribute"
   ]
  },
  {
   "cell_type": "markdown",
   "metadata": {},
   "source": [
    "Nun wollen wir beim Erzeugen unserer `User` unsere Attribute `username` und `alter` mitgeben und als Attribut abspeichern. Dies können wir wie folgt tun:"
   ]
  },
  {
   "cell_type": "code",
   "execution_count": null,
   "metadata": {},
   "outputs": [],
   "source": [
    "class User:\n",
    "\n",
    "    def __init__(self, username, alter):\n",
    "        self.username = username\n",
    "        self.alter = alter"
   ]
  },
  {
   "cell_type": "markdown",
   "metadata": {},
   "source": [
    "Mit dem Syntax `self.username = ...` können wir ein neues Attribut mit dem Namen `username` definieren. Um dies tun zu können, müssen wir auch das Stichwort `self` als erstes Funktionsargument übergeben. Auf dieses Attribut können wir später zugreifen.\n",
    "\n",
    "Um nun einen neuen User zu definieren, gehen wir wie folgt vor:"
   ]
  },
  {
   "cell_type": "code",
   "execution_count": null,
   "metadata": {},
   "outputs": [],
   "source": [
    "user1 = User(\"user1\", 42)"
   ]
  },
  {
   "cell_type": "markdown",
   "metadata": {},
   "source": [
    "Wir können nun auf das Alter sowie den Nutzername eines Objekts zugreifen, und zwar wie folgt:"
   ]
  },
  {
   "cell_type": "code",
   "execution_count": null,
   "metadata": {},
   "outputs": [],
   "source": [
    "user1.username"
   ]
  },
  {
   "cell_type": "code",
   "execution_count": null,
   "metadata": {},
   "outputs": [],
   "source": [
    "user1.alter"
   ]
  },
  {
   "cell_type": "markdown",
   "metadata": {},
   "source": [
    "Jetzt müssen wir zwingend zwei Argumente übergeben, für `username` und `alter`. Das erste Argument, `self`, wird dabei immer implizit übergeben. Folgendes gibt einen Fehler:"
   ]
  },
  {
   "cell_type": "code",
   "execution_count": null,
   "metadata": {},
   "outputs": [],
   "source": [
    "User(\"user1\")"
   ]
  },
  {
   "cell_type": "markdown",
   "metadata": {},
   "source": [
    "<br><br>\n",
    "<div class=\"exercise\">\n",
    "\n",
    "<img src=\"https://i.imgur.com/JyhBeDB.png\" class=\"exercise_image\" width=100>\n",
    "\n",
    "<span class=\"exercise_label\">**Aufgabe:**</span>\n",
    "Wir können beim Initialisieren auch gleich die Freunde und Posts als leer definieren - da beim Erzeugen des Kontos ja weder Freunde noch Posts vorhanden sind. Erweitere unsere Klasse, sodass im Constructor das Attribut `freunde` als leeres `set` erzeugt wird, und `posts` als leere Liste.\n",
    "\n",
    "</div>"
   ]
  },
  {
   "cell_type": "markdown",
   "metadata": {},
   "source": [
    "<br><br>\n",
    "<div class=\"exercise\">\n",
    "\n",
    "<img src=\"https://i.imgur.com/JyhBeDB.png\" class=\"exercise_image\" width=100>\n",
    "\n",
    "<span class=\"exercise_label\">**Aufgabe:**</span>\n",
    "Nun wollen wir eine zweite Klasse, `Post`. Definiere die Klasse `Post` und schreibe einen Konstruktor, der zwei Argumente, `inhalt` und `autor_name`, entgegennimmt und als Attribut abspeichert. Ausserdem wird ein Attribut `likes` als leeres Set initialisiert.\n",
    "</div>"
   ]
  },
  {
   "cell_type": "markdown",
   "metadata": {},
   "source": [
    "### 1.6 Methoden\n",
    "Nun wollen wir unsere Klassen mit Methoden anreichern, damit unsere User auch etwas tun können. Wir haben die Syntax zur Methodendefinition bereits für den Constructor, eine spezielle Methode mit dem Namen `__init__` gesehen. Für andere Methoden ist die Syntax genau gleich. Hier ist eine Methode, welche einen neuen Post mit einem bestimmten Inhalt erzeugt und hinten an die Liste der Posts anhängt."
   ]
  },
  {
   "cell_type": "code",
   "execution_count": null,
   "metadata": {},
   "outputs": [],
   "source": [
    "class Post:\n",
    "\n",
    "    def __init__(self, inhalt, autor_name):\n",
    "        self.inhalt = inhalt\n",
    "        self.autor_name = autor_name\n",
    "        self.likes = set()\n",
    "\n",
    "\n",
    "class User:\n",
    "\n",
    "    def __init__(self, username, alter):\n",
    "        self.username = username\n",
    "        self.alter = alter\n",
    "        self.freunde = set()\n",
    "        self.posts = []\n",
    "\n",
    "    # neue Methode \"post_hinzufügen\"\n",
    "    def post_hinzufuegen(self, inhalt):\n",
    "        # wir können innerhalb der Methode wieder auf Attribute zugreifen, wie hier z.B. mit self.username\n",
    "        new_post = Post(inhalt, self.username)\n",
    "        self.posts.append(new_post)\n"
   ]
  },
  {
   "cell_type": "markdown",
   "metadata": {},
   "source": [
    "Verwendung der Methode:"
   ]
  },
  {
   "cell_type": "code",
   "execution_count": null,
   "metadata": {},
   "outputs": [],
   "source": [
    "beispiel_user = User(\"cooluser123\", 15)\n",
    "\n",
    "# gleich nach Erzeugen sind Posts noch leer\n",
    "beispiel_user.posts"
   ]
  },
  {
   "cell_type": "code",
   "execution_count": null,
   "metadata": {},
   "outputs": [],
   "source": [
    "beispiel_user.post_hinzufuegen(\"hallo, ich bin jetzt auch auf diesem neuen coolen sozialen Netzwerk\")\n",
    "beispiel_user.post_hinzufuegen(\"bin ich der Einzige hier?\")\n",
    "\n",
    "len(beispiel_user.posts)"
   ]
  },
  {
   "cell_type": "markdown",
   "metadata": {},
   "source": [
    "Wir sehen, dass die \"posts\"-Liste allmählich gefüllt wird."
   ]
  },
  {
   "cell_type": "markdown",
   "metadata": {},
   "source": [
    "<br><br>\n",
    "<div class=\"exercise\">\n",
    "\n",
    "<img src=\"https://i.imgur.com/JyhBeDB.png\" class=\"exercise_image\" width=100>\n",
    "\n",
    "<span class=\"exercise_label\">**Aufgabe:**</span>\n",
    "Füge der Klasse `Post` eine Methode `like_hinzufuegen` hinzu. Dieses nimmt einen User entgegen und fügt diesen dem Set von `likes` hinzu.</div>"
   ]
  },
  {
   "cell_type": "code",
   "execution_count": null,
   "metadata": {},
   "outputs": [],
   "source": [
    "class Post:\n",
    "\n",
    "    def __init__(self, inhalt, autor_name):\n",
    "        self.inhalt = inhalt\n",
    "        self.autor_name = autor_name\n",
    "        self.likes = set()\n",
    "\n",
    "    # definiere hier die Methode like_hinzufuegen"
   ]
  },
  {
   "cell_type": "markdown",
   "metadata": {},
   "source": [
    "<br><br>\n",
    "<div class=\"exercise\">\n",
    "\n",
    "<img src=\"https://i.imgur.com/JyhBeDB.png\" class=\"exercise_image\" width=100>\n",
    "\n",
    "<span class=\"exercise_label\">**Aufgabe:**</span>\n",
    "Füge der Klasse `User` eine Methode `post_liken` hinzu. Dieser nimmt einen Post entgegen, und ruft dessen Methode `like_hinzufuegen` auf.\n",
    "\n",
    "</div>"
   ]
  },
  {
   "cell_type": "code",
   "execution_count": null,
   "metadata": {},
   "outputs": [],
   "source": [
    "class User:\n",
    "\n",
    "    def __init__(self, username, alter):\n",
    "        self.username = username\n",
    "        self.alter = alter\n",
    "        self.freunde = set()\n",
    "        self.posts = []\n",
    "\n",
    "    def post_hinzufuegen(self, inhalt):\n",
    "        new_post = Post(inhalt)\n",
    "        self.posts.append(new_post)\n",
    "\n",
    "    # definiere hier die Methode post_liken"
   ]
  },
  {
   "cell_type": "markdown",
   "metadata": {},
   "source": [
    "### 1.7 Das Stichwort `self`\n",
    "Das Stichwort `self` verweist immer auf das aktuelle _Objekt_, auf dem die Methode gerade aufgerufen wird. Deshalb können wir mit `self.attribute = ...` neue Attribute definieren, welche spezifisch für das Objekt sind. Genauso können wir `self` verwenden, um das aktuelle Objekt einer anderen Methode zu übergeben. Dies verwenden wir für die Methode `freund_hinzufuegen`: Und zwar, weil wir nicht nur die andere Person unseren Freunden hinzufügen müssen, sondern auch uns ihren Freunden.\n",
    "\n",
    "Die Methode dazu sieht daher wie folgt aus:"
   ]
  },
  {
   "cell_type": "code",
   "execution_count": null,
   "metadata": {},
   "outputs": [],
   "source": [
    "class User:\n",
    "\n",
    "    def __init__(self, username, alter):\n",
    "        self.username = username\n",
    "        self.alter = alter\n",
    "        self.freunde = set()\n",
    "        self.posts = []\n",
    "\n",
    "    def freund_hinzufuegen(self, freund):\n",
    "        # wir fügen \"freund\" unserer Freundesliste hinzu\n",
    "        self.freunde.add(freund)\n",
    "\n",
    "        # wir fügen uns selbst seinen Freunden hinzu\n",
    "        freund.freunde.add(self)"
   ]
  },
  {
   "cell_type": "markdown",
   "metadata": {},
   "source": [
    "Verwendung:"
   ]
  },
  {
   "cell_type": "code",
   "execution_count": null,
   "metadata": {},
   "outputs": [],
   "source": [
    "# Wir erzeugen die zwei Personen\n",
    "person1 = User(\"person1\", 42)\n",
    "person2 = User(\"person2\", 14)\n",
    "\n",
    "# Wir fügen Person2 als Freund von Person1 hinzu\n",
    "person1.freund_hinzufuegen(person2)\n",
    "\n",
    "# Beide Personen haben nun je einen Eintrag in der Freundesliste\n",
    "print(\"Anzahl Freunde Person 1:\", len(person1.freunde))\n",
    "print(\"Anzahl Freunde Person 1:\", len(person2.freunde))"
   ]
  },
  {
   "cell_type": "markdown",
   "metadata": {},
   "source": [
    "<br><br>\n",
    "<div class=\"exercise\">\n",
    "\n",
    "<img src=\"https://i.imgur.com/JyhBeDB.png\" class=\"exercise_image\" width=100>\n",
    "\n",
    "<span class=\"exercise_label\">**Aufgabe:**</span>\n",
    "Füge der Klasse `User` eine Methode `freund_entfernen` hinzu. Dieser nimmt einen Freund entgegen, und entfernt diesen aus der eigenen Freundesliste. Ausserdem entfernt es auch das Objekt selbst aus der Freundesliste des Freunds.\n",
    "\n",
    "</div>"
   ]
  },
  {
   "cell_type": "markdown",
   "metadata": {},
   "source": [
    "<br><br>\n",
    "<div class=\"exercise\">\n",
    "\n",
    "<img src=\"https://i.imgur.com/JyhBeDB.png\" class=\"exercise_image\" width=100>\n",
    "\n",
    "<span class=\"exercise_label\">**Aufgabe:**</span>\n",
    "Füge der Klasse `User` eine Methode `freundesliste` hinzu. Diese gibt eine Liste aller Usernamen zurück, mit denen die Person befreundet ist.\n",
    "\n",
    "</div>"
   ]
  },
  {
   "cell_type": "markdown",
   "metadata": {},
   "source": [
    "### 1.8 `__str__`\n",
    "Bis jetzt ist die Darstellung von unseren Posts nicht sehr aussagekräftig:"
   ]
  },
  {
   "cell_type": "code",
   "execution_count": null,
   "metadata": {},
   "outputs": [],
   "source": [
    "post = Post(\"ein Post\", \"username\")\n",
    "print(post)"
   ]
  },
  {
   "cell_type": "markdown",
   "metadata": {},
   "source": [
    "Es gibt in Python eine spezifische Methode welche definiert, wie ein Post abgebildet werden soll. Es handelt sich um die Methode `__str__`. Diese Methode spezifiziert, wie ein Objekt in eine String konvertiert werden kann. Entsprechend muss auch ein `str`-Objekt zurückgegeben werden. Wir implementieren die Methode für unsere Posts wie folgt:"
   ]
  },
  {
   "cell_type": "code",
   "execution_count": null,
   "metadata": {},
   "outputs": [],
   "source": [
    "class Post:\n",
    "\n",
    "    def __init__(self, inhalt, autor_name):\n",
    "        self.inhalt = inhalt\n",
    "        self.autor_name = autor_name\n",
    "        self.likes = set()\n",
    "\n",
    "    def __str__(self):\n",
    "        return f\"{self.autor_name} says:\\n{self.inhalt}. \\nLiked {len(self.likes)} times.\"\n",
    "    "
   ]
  },
  {
   "cell_type": "code",
   "execution_count": null,
   "metadata": {},
   "outputs": [],
   "source": [
    "post = Post(\"ein Post\", \"username\")\n",
    "print(post)"
   ]
  },
  {
   "cell_type": "markdown",
   "metadata": {},
   "source": [
    "Dies funktioniert nicht nur mit `print`, sondern auch mit `str` (ausser dass dabei die `\\n` nicht dargestellt werden):"
   ]
  },
  {
   "cell_type": "code",
   "execution_count": null,
   "metadata": {},
   "outputs": [],
   "source": [
    "str(post)"
   ]
  },
  {
   "cell_type": "markdown",
   "metadata": {},
   "source": [
    "<br><br>\n",
    "<div class=\"exercise\">\n",
    "\n",
    "<img src=\"https://i.imgur.com/JyhBeDB.png\" class=\"exercise_image\" width=100>\n",
    "\n",
    "<span class=\"exercise_label\">**Aufgabe:**</span>\n",
    "Füge der Klasse `User` eine Methode `__str__` hinzu. Diese hängt die `str`-Abbildung der drei neusten Posts zusammen und gibt sie zurück.\n",
    "\n",
    "</div>"
   ]
  },
  {
   "cell_type": "markdown",
   "metadata": {},
   "source": [
    "### Zusammenfassung: Die fertigen Klassen"
   ]
  },
  {
   "cell_type": "code",
   "execution_count": null,
   "metadata": {},
   "outputs": [],
   "source": [
    "class Post:\n",
    "\n",
    "    def __init__(self, inhalt, autor_name):\n",
    "        self.inhalt = inhalt\n",
    "        self.autor_name = autor_name\n",
    "        self.likes = set()\n",
    "\n",
    "    def like_hinzufuegen(self, user):\n",
    "        self.likes.add(user)\n",
    "\n",
    "    def __str__(self):\n",
    "        return f\"{self.autor_name} says:\\n{self.inhalt}. \\nLiked {len(self.likes)} times.\""
   ]
  },
  {
   "cell_type": "code",
   "execution_count": null,
   "metadata": {},
   "outputs": [],
   "source": [
    "class User:\n",
    "\n",
    "    def __init__(self, username, alter):\n",
    "        self.username = username\n",
    "        self.alter = alter\n",
    "        self.freunde = set()\n",
    "        self.posts = []\n",
    "\n",
    "    def post_hinzufuegen(self, inhalt):\n",
    "        new_post = Post(inhalt, self.username)\n",
    "        self.posts.append(new_post)\n",
    "\n",
    "    def post_liken(self, post):\n",
    "        post.like_hinzufuegen(self)\n",
    "\n",
    "    def freundesliste(self):\n",
    "        return [freund.username for freund in self.freunde]\n",
    "\n",
    "    def freund_hinzufuegen(self, freund):\n",
    "        self.freunde.add(freund)\n",
    "        freund.freunde.add(self)\n",
    "\n",
    "    def freund_entfernen(self, freund):\n",
    "        self.freunde.discard(freund)\n",
    "        freund.freunde.discard(self)\n",
    "\n",
    "    def __str__(self):\n",
    "        return f\"{self.autor_name} says:\\n{self.inhalt}. \\nLiked {len(self.likes)} times.\"\n",
    "\n"
   ]
  },
  {
   "cell_type": "markdown",
   "metadata": {},
   "source": [
    "<br><br>\n",
    "<div class=\"exercise\">\n",
    "\n",
    "<img src=\"https://i.imgur.com/JyhBeDB.png\" class=\"exercise_image\" width=100>\n",
    "\n",
    "<span class=\"exercise_label\">**Aufgabe:**</span>\n",
    "Nun haben wir die Klassen fertig erstellt, und wollen ein Szenario durchspielen. Verwende die richtigen Methoden, um folgendes umzusetzen:\n",
    "- Erzeuge drei User-Objekte, für die Nutzernamen \"hans\", \"fritz\" und \"ueli\" (die Alter kannst du selbst wählen). \n",
    "- Hans fügt Fritz und Ueli als Freunde hinzu.\n",
    "- Gib die Freundeslisten der drei User aus.\n",
    "- Hans entfernt Ueli als Freund.\n",
    "- Fritz schreibt einen Post.\n",
    "- Hans liked den neusten Post von Fritz.\n",
    "- Stelle das Profil von Fritz schön dar.\n",
    "</div>"
   ]
  },
  {
   "cell_type": "markdown",
   "metadata": {},
   "source": [
    "## 2. Erweitertes Objektorientiertes Programmieren\n",
    "In diesem Abschnitt kommen wir weg vom Beispiel eines sozialen Netzwerks, und schauen verschiedene weitere Möglichkeiten von OOP an. "
   ]
  },
  {
   "cell_type": "markdown",
   "metadata": {},
   "source": [
    "### 2.1 Public, Private, Protected\n",
    "Oft haben wir gewisse Methoden und Attribute, welche nur innerhalb der Klasse verwendet werden sollen. Dies sind zum Beispiel Helfermethoden oder Attribute, auf die man von aussen nicht zugreifen sollte. \n",
    "\n",
    "Deshalb unterscheidet man zwischen 3 Arten von Methoden und Attributen:\n",
    "- **public**: Dies sind die Attribute und Methoden, welche von aussen aufrufbar sind.\n",
    "- **private**: Diese Attribute und Methoden können von ausserhalb der Klasse nicht aufgerufen werden. Sie werden gekennzeichnet, indem der Methoden- oder Attributname mit zwei Underscores __ beginnt.\n",
    "- **protected**: Diese Attribute und Methoden sollten von aussen nicht aufgerufen werden. Allerdings wäre ein Aufruf immer noch möglich. Diese Methoden beginnen per Konvention mit einem einzelnen Underscore _.\n",
    "\n",
    "Dazu eine Beispielklasse:"
   ]
  },
  {
   "cell_type": "code",
   "execution_count": null,
   "metadata": {},
   "outputs": [],
   "source": [
    "class Example:\n",
    "    \n",
    "    def __init__(self):\n",
    "        self.public_attr = 3\n",
    "        self._protected_attr = 4\n",
    "        self.__private_attr = 5\n",
    "\n",
    "    def public_method(self):\n",
    "        print(\"I am public\")\n",
    "\n",
    "    def _protected_method(self):\n",
    "        print(\"Please don't use me.\")\n",
    "        \n",
    "    def __private_method(self):\n",
    "        print(\"Ha! Can't use me (or can you?)\")\n"
   ]
  },
  {
   "cell_type": "markdown",
   "metadata": {},
   "source": [
    "Wir können auf die public und protected-Attribute dieser Klasse aufrufen, nicht aber die Attribute von privaten Attributen."
   ]
  },
  {
   "cell_type": "code",
   "execution_count": null,
   "metadata": {},
   "outputs": [],
   "source": [
    "ex = Example()\n",
    "\n",
    "print(ex.public_attr)\n",
    "print(ex._protected_attr)  # Kann angezeigt werden, falls man will\n",
    "print(ex.__private_attr)   # --> gibt Fehler: AttributeError"
   ]
  },
  {
   "cell_type": "markdown",
   "metadata": {},
   "source": [
    "Dasselbe gilt für private Methoden:"
   ]
  },
  {
   "cell_type": "code",
   "execution_count": null,
   "metadata": {},
   "outputs": [],
   "source": [
    "ex.public_method()\n",
    "ex._protected_method() # Kann trotzdem aufgerufen werden\n",
    "ex.__private_method()  # --> Gibt Fehler: AttributeError\n"
   ]
  },
  {
   "cell_type": "markdown",
   "metadata": {},
   "source": [
    "Allerdings sind private Methoden nicht wirklich geschützt, sondern nur versteckt. Indem wir die Python-Funktion `dir` verwenden, können wir uns alle Methoden eines Objekts anschauen:"
   ]
  },
  {
   "cell_type": "code",
   "execution_count": null,
   "metadata": {},
   "outputs": [],
   "source": [
    "dir(ex)"
   ]
  },
  {
   "cell_type": "markdown",
   "metadata": {},
   "source": [
    "Unter anderem sehen wir darin `_Example__private_attr` und `_Example__private_method`, unsere privaten Attribute/Methoden. Wir können mit diesem \"neuen\" Namen somit auch auf private Attribute zugreifen:"
   ]
  },
  {
   "cell_type": "code",
   "execution_count": null,
   "metadata": {},
   "outputs": [],
   "source": [
    "print(ex._Example__private_attr)"
   ]
  },
  {
   "cell_type": "markdown",
   "metadata": {},
   "source": [
    "Da auch private Methoden nicht wirklich geschützt, sondern nur auf obskure Art und Weise versteckt sind, werden meist \"protected\"-Methoden bevorzugt. "
   ]
  },
  {
   "cell_type": "markdown",
   "metadata": {},
   "source": [
    "### 2.2 Klassenattribute\n",
    "Alle Attribute, welche wir bis jetzt gesehen haben, waren für jedes spezifische Objekt einer Klasse unterschiedlich. Es handelte sich dadurch um sogenannte **Instanzattribute** - Attribute, deren Wert von der Instanz (dem spezifischen Objekt) abhängen. Wir können im Gegensatz dazu auch Attribute definieren, welche für alle Objekte einer Klasse gleich sind. Dies sind sogenannte **Klassenattribute**, und sie werden so definiert:"
   ]
  },
  {
   "cell_type": "code",
   "execution_count": null,
   "metadata": {},
   "outputs": [],
   "source": [
    "class BeispielKlasse:\n",
    "    pi = 3.14\n"
   ]
  },
  {
   "cell_type": "markdown",
   "metadata": {},
   "source": [
    "Alle Objekte der Klasse `BeispielKlasse` haben nun das Attribut `pi`:"
   ]
  },
  {
   "cell_type": "code",
   "execution_count": null,
   "metadata": {},
   "outputs": [],
   "source": [
    "a = BeispielKlasse()\n",
    "a.pi"
   ]
  },
  {
   "cell_type": "code",
   "execution_count": null,
   "metadata": {},
   "outputs": [],
   "source": [
    "b = BeispielKlasse()\n",
    "b.pi"
   ]
  },
  {
   "cell_type": "markdown",
   "metadata": {},
   "source": [
    "### 2.3 \"Dunder\"-Methoden\n",
    "Sogenannte Dunder-Methoden (manchmal auch \"magic methods\" genannt) sind Methoden, welche von Python für spezifische Zwecke reserviert wurden.Wir haben bereits zwei Beispiele dafür gesehen: `__init__`, den Konstruktor, und `__str__`, welches ein Objekt zu einer String konvertiert. Es gibt in Python zahlreiche weitere Dunder-Methoden, in diesem Teil wollen wir ein paar Beispiele zeigen.\n",
    "\n",
    "Mit `__len__` definieren wir was zurückgegeben wird, wenn die Funktion `len` mit dem Objekt aufgerufen wird. Hier ein kleines Beispielobjekt, welches als Länge immer 1 zurückgibt:"
   ]
  },
  {
   "cell_type": "code",
   "execution_count": null,
   "metadata": {},
   "outputs": [],
   "source": [
    "class Beispiel:\n",
    "\n",
    "    def __len__(self):\n",
    "        return 1"
   ]
  },
  {
   "cell_type": "code",
   "execution_count": null,
   "metadata": {},
   "outputs": [],
   "source": [
    "bsp = Beispiel()\n",
    "len(bsp)"
   ]
  },
  {
   "cell_type": "markdown",
   "metadata": {},
   "source": [
    "Wir können auch mit Dunder-Methoden definieren, wie wir überprüfen, ob zwei Objekte gleich sind. Dazu müssen wir `__eq__` definieren:"
   ]
  },
  {
   "cell_type": "code",
   "execution_count": null,
   "metadata": {},
   "outputs": [],
   "source": [
    "class Hund:\n",
    "\n",
    "    def __init__(self, name, rasse):\n",
    "        self.name = name\n",
    "        self.rasse = rasse\n"
   ]
  },
  {
   "cell_type": "code",
   "execution_count": null,
   "metadata": {},
   "outputs": [],
   "source": [
    "hund1 = Hund(\"Fido\", \"dogge\")\n",
    "hund2 = Hund(\"Fido\", \"dogge\")"
   ]
  },
  {
   "cell_type": "markdown",
   "metadata": {},
   "source": [
    "Wenn wir die Dunder-Methode `__eq__` nicht definieren, überprüft `==`, ob es sich um die exakt gleichen Objekte handelt, und nicht, ob die Attribute übereinstimmen."
   ]
  },
  {
   "cell_type": "code",
   "execution_count": null,
   "metadata": {},
   "outputs": [],
   "source": [
    "hund1 == hund2"
   ]
  },
  {
   "cell_type": "code",
   "execution_count": null,
   "metadata": {},
   "outputs": [],
   "source": [
    "hund1 == hund1"
   ]
  },
  {
   "cell_type": "markdown",
   "metadata": {},
   "source": [
    "Wir können `__eq__` definieren, um dies zu übersteuern. Wenn Name und Rasse übereinstimmt, soll der Gleichheitstest `True` zurückgeben."
   ]
  },
  {
   "cell_type": "code",
   "execution_count": null,
   "metadata": {},
   "outputs": [],
   "source": [
    "class Hund:\n",
    "\n",
    "    def __init__(self, name, rasse):\n",
    "        self.name = name\n",
    "        self.rasse = rasse\n",
    "\n",
    "    def __eq__(self, other):\n",
    "        return self.name == other.name and self.rasse == other.rasse"
   ]
  },
  {
   "cell_type": "code",
   "execution_count": null,
   "metadata": {},
   "outputs": [],
   "source": [
    "hund1 = Hund(\"Fido\", \"dogge\")\n",
    "hund2 = Hund(\"Fido\", \"dogge\")\n",
    "\n",
    "hund1 == hund2"
   ]
  },
  {
   "cell_type": "markdown",
   "metadata": {},
   "source": [
    "Man kann mit Dunder-Methoden beliebige Operationen überschrieben, wie `+`, `-`, `>=`, `in`, etc. Die dazugehörigen Dunder-Methoden findest du in der [Python Dokumentation](https://docs.python.org/3/reference/datamodel.html#emulating-numeric-types), oder im Buch auf Seite 217. Weitere Beispiele sind in der Übungsserie aus dieser Woche."
   ]
  },
  {
   "cell_type": "markdown",
   "metadata": {},
   "source": [
    "<br><br>\n",
    "<div class=\"exercise\">\n",
    "\n",
    "<img src=\"https://i.imgur.com/JyhBeDB.png\" class=\"exercise_image\" width=100>\n",
    "\n",
    "<span class=\"exercise_label\">**Aufgabe:**</span>\n",
    "    \n",
    "Erstellen Sie eine Car-Klasse mit zwei Instanzattributen:\n",
    "- color, in dem der Name der Fahrzeugfarbe als Zeichenfolge gespeichert wird\n",
    "- mileage, die die Anzahl der Meilen im Auto als Ganzzahl speichert\n",
    "    \n",
    "Instanziieren Sie dann zwei Autoobjekte - ein blaues Auto mit 20.000 Meilen und ein rotes Auto mit 30.000 Meilen. Definiere die Methode __str__ der Klasse, sodass die Ausgabe wie folgt aussieht:\n",
    "\n",
    "The blue car has 20000 miles.\n",
    "\n",
    "The red car has 30000 miles.\n",
    "    \n",
    "</div>"
   ]
  },
  {
   "cell_type": "markdown",
   "metadata": {},
   "source": []
  }
 ],
 "metadata": {
  "kernelspec": {
   "display_name": "Python 3 (ipykernel)",
   "language": "python",
   "name": "python3"
  },
  "language_info": {
   "codemirror_mode": {
    "name": "ipython",
    "version": 3
   },
   "file_extension": ".py",
   "mimetype": "text/x-python",
   "name": "python",
   "nbconvert_exporter": "python",
   "pygments_lexer": "ipython3",
   "version": "3.10.9"
  }
 },
 "nbformat": 4,
 "nbformat_minor": 4
}
