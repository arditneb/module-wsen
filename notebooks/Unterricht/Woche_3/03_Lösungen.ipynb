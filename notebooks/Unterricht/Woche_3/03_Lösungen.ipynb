{
 "cells": [
  {
   "cell_type": "markdown",
   "metadata": {},
   "source": [
    "# 1. Reisezeit\n",
    "\n",
    "Basierend auf Transportmethode braucht es mehr oder weniger Zeit um eine Strecke zurückzulegen.\n",
    "In diesem Programm soll der Benutzer die Transportmethode (codiert als Zahl) und die Strecke eingeben.\n",
    "Als Ausgabe soll die Reisezeit in Stunden (mit Kommastelle) ausgegeben werden.\n",
    "\n",
    "| Transportmethode | Geschwindigkeit in km/h |\n",
    "|------------------|-------------------------|\n",
    "| Gehen (walk)             | 5                     |\n",
    "| Fahrrad (bike)              | 15                    |\n",
    "| Auto (car)             | 50                    |\n",
    "| Zug (train)              | 70                    |\n",
    "\n",
    "\n"
   ]
  },
  {
   "cell_type": "code",
   "execution_count": 2,
   "metadata": {},
   "outputs": [
    {
     "name": "stdout",
     "output_type": "stream",
     "text": [
      "Sie brauchen 40.0 Stunden\n"
     ]
    }
   ],
   "source": [
    "distance = float(input('Wie weit ist Ihr Ziel entfernt?'))\n",
    "travelMedium = input('Wie reisen Sie? (walk=Gehen, bike=Fahrrad, car=Auto, train=Zug)')\n",
    "time = 0\n",
    "if travelMedium == 'walk':\n",
    "    time = distance / 5\n",
    "elif travelMedium == 'bike':\n",
    "    time = distance / 15\n",
    "elif travelMedium == 'car':\n",
    "    time = distance / 50\n",
    "elif travelMedium == 'train':\n",
    "    time = distance / 70\n",
    "else:\n",
    "    print('Unbekanntes Reisemittel')\n",
    "\n",
    "if time > 0:\n",
    "    print('Sie brauchen', time, 'Stunden')"
   ]
  },
  {
   "cell_type": "markdown",
   "metadata": {},
   "source": [
    "# 2. Geldautomat \n",
    "## Einführung\n",
    "Bei dieser Aufgabe formulieren Sie verschiedene Berechnungsanweisungen abhängig von\n",
    "einer Benutzereingabe. Dabei kommen zwei verschiedene Divisions-Operatoren zum Ein-\n",
    "satz.\n",
    "\n",
    "## Aufgabenstellung\n",
    "In dieser Aufgabe sollen Sie einen Geldautomaten simulieren. Die Kundin oder der Kunde\n",
    "soll eingeben können, wie viel Geld er oder sie abheben möchte. Der Geldautomat soll\n",
    "dann berechnen, wie viele und welche Banknoten (100er, 50er, 20er und 10er) er ausgeben\n",
    "soll. Die Anzahl der verwendeten Variablen soll möglichst klein gehalten werden, indem\n",
    "sie wiederverwendet werden.\n",
    "So könnte beispielsweise die Ausgabe für den Betrag 571 aussehen:\n",
    "```\n",
    "WILLKOMMEN BEI DER BANK IHRES VERTRAUENS\n",
    "****************************************\n",
    "Wie viel möchten Sie abheben? 571\n",
    "Eingegebener Geldbetrag: 571 Fr.\n",
    "Bitte warten...\n",
    "Sie haben erhalten:\n",
    "100er 5\n",
    "50er 1\n",
    "20er 1\n",
    "10er 0\n",
    "Rest: 1\n",
    "```\n",
    "\n"
   ]
  },
  {
   "cell_type": "markdown",
   "metadata": {},
   "source": [
    "### Zwischenschritte\n",
    "Erstellen Sie eine Benutzereingabe für einen beliebigen Geldbetrag und speichern Sie den Wert in einer Variable."
   ]
  },
  {
   "cell_type": "code",
   "execution_count": null,
   "metadata": {},
   "outputs": [],
   "source": [
    "print('WILLKOMMEN BEI DER BANK IHRES VERTRAUENS')\n",
    "print('*****************************************')\n",
    "value = int(input('Wie viel möchten Sie abheben?'))"
   ]
  },
  {
   "cell_type": "markdown",
   "metadata": {},
   "source": [
    "Geben Sie den eingegebenen Betrag auf der Konsole aus."
   ]
  },
  {
   "cell_type": "code",
   "execution_count": null,
   "metadata": {},
   "outputs": [],
   "source": [
    "print('Eingegebener Betrag: ', value)"
   ]
  },
  {
   "cell_type": "markdown",
   "metadata": {},
   "source": [
    "Berechnen Sie, wie viele 100er-Noten ausgegeben werden müssen. (Hinweis: Verwenden Sie den Divisions-Operator.)"
   ]
  },
  {
   "cell_type": "code",
   "execution_count": null,
   "metadata": {},
   "outputs": [],
   "source": [
    "hundred_bills = value // 100 # 100er Scheine\n",
    "print(hundred_bills)"
   ]
  },
  {
   "cell_type": "markdown",
   "metadata": {},
   "source": [
    "Berechnen Sie den Restbetrag, der nach der Ausgabe der 100er-Noten übrig bleibt."
   ]
  },
  {
   "cell_type": "code",
   "execution_count": null,
   "metadata": {},
   "outputs": [],
   "source": [
    "value = value % 100 # 100er Scheine abgezogen (der Wert von `value` wird überschrieben)\n",
    "print(value)"
   ]
  },
  {
   "cell_type": "markdown",
   "metadata": {},
   "source": [
    "Berechnen Sie analog die Anzahl der 50er-, 20er- und 10er-Noten und geben Sie die Resultate auf der Konsole aus. (Hinweis: Kopieren Sie die Berechnungen für die 100er-Noten und passen Sie sie an.)"
   ]
  },
  {
   "cell_type": "code",
   "execution_count": null,
   "metadata": {},
   "outputs": [],
   "source": [
    "fifty_bills = value // 50 # 50er Scheine\n",
    "value = value % 50 # 50er Scheine abgezogen\n",
    "\n",
    "twenty_bills = value // 20 # 20er Scheine\n",
    "value = value % 20 # 20er Scheine abgezogen\n",
    "\n",
    "ten_bills = value // 10 # 10er Scheine\n",
    "value = value % 10 # 10er Scheine abgezogen\n",
    "\n",
    "\n",
    "print('Bitte warten: ')\n",
    "print('Sie haben erhalten: ')\n",
    "print('100er Scheine: ', hundred_bills)\n",
    "print('50er Scheine: ', fifty_bills)\n",
    "print('20er Scheine: ', twenty_bills)\n",
    "print('10er Scheine: ', ten_bills)\n",
    "print('Rest:' , value)"
   ]
  },
  {
   "cell_type": "markdown",
   "metadata": {},
   "source": [
    "### Erweiterungen\n",
    "**Hinweis**: Für diese Erweiterungen benötigen Sie *Bedingungsprüfungen*\n",
    "**Hinweis**: Ändern Sie obenstehend die entsprechenden Codeblocks"
   ]
  },
  {
   "cell_type": "markdown",
   "metadata": {},
   "source": [
    "- Überprüfen Sie nach der Eingabe des Geldbetrags, ob abgerundet werden muss und informieren Sie den Kunden über den tatsächlich ausgezahlten Betrag.\n",
    "- Lassen Sie nur Banknotenarten ausgeben, die auch wirklich benötigt werden. "
   ]
  },
  {
   "cell_type": "code",
   "execution_count": null,
   "metadata": {},
   "outputs": [],
   "source": [
    "# Komplette Lösung mit Erweiterung\n",
    "print('WILLKOMMEN BEI DER BANK IHRES VERTRAUENS')\n",
    "print('*****************************************')\n",
    "value = int(input('Wie viel möchten Sie abheben?'))\n",
    "print('Eingegebener Betrag: ', value)\n",
    "\n",
    "if value%10 != 0:\n",
    "    value = value - value%10\n",
    "    print('Der Betrag wurde abgerundet auf: ', value)\n",
    "\n",
    "hundred_bills = value // 100    # 100er Scheine\n",
    "value = value % 100             # 100er Scheine abgezogen (der Wert von `value` wird überschrieben)\n",
    "fifty_bills = value // 50       # 50er Scheine\n",
    "value = value % 50              # 50er Scheine abgezogen\n",
    "twenty_bills = value // 20      # 20er Scheine\n",
    "value = value % 20              # 20er Scheine abgezogen\n",
    "ten_bills = value // 10         # 10er Scheine\n",
    "value = value % 10 #            10er Scheine abgezogen\n",
    "\n",
    "print('Bitte warten: ')\n",
    "\n",
    "print('Sie haben erhalten: ')\n",
    "\n",
    "if hundred_bills > 0:\n",
    "    print('100er Scheine: ', hundred_bills)\n",
    "if fifty_bills > 0:\n",
    "    print('50er Scheine: ', fifty_bills)\n",
    "if twenty_bills > 0:\n",
    "    print('20er Scheine: ', twenty_bills)\n",
    "if ten_bills > 0:\n",
    "    print('10er Scheine: ', ten_bills)"
   ]
  },
  {
   "cell_type": "markdown",
   "metadata": {},
   "source": [
    "# 3. Taschenrechner\n",
    "\n",
    "Schreibe einen Taschenrechner, mit folgenden Eigenschaften:\n",
    "\n",
    "- Er fragt nach der ersten Zahl\n",
    "- Dann nach dem Operator (also +, -, /, und *)\n",
    "- Dann nach der zweiten Zahl\n",
    "- Anschliessend berechnet er das Resultat"
   ]
  },
  {
   "cell_type": "code",
   "execution_count": null,
   "metadata": {},
   "outputs": [],
   "source": [
    "first_number = float(input(\"Erste Zahl: \"))\n",
    "operator = input(\"Operator: \")\n",
    "second_number = float(input(\"Zweite Zahl: \"))\n",
    "\n",
    "if operator == \"+\":\n",
    "    print(first_number + second_number)\n",
    "elif operator == \"-\":\n",
    "    print(first_number - second_number)\n",
    "elif operator == \"*\":\n",
    "    print(first_number * second_number)\n",
    "elif operator == \"/\":\n",
    "    print(first_number / second_number)\n",
    "else:\n",
    "    print(\"Ungültiger Operator!\")\n"
   ]
  },
  {
   "cell_type": "code",
   "execution_count": null,
   "metadata": {},
   "outputs": [],
   "source": []
  }
 ],
 "metadata": {
  "kernelspec": {
   "display_name": ".venv",
   "language": "python",
   "name": "python3"
  },
  "language_info": {
   "codemirror_mode": {
    "name": "ipython",
    "version": 3
   },
   "file_extension": ".py",
   "mimetype": "text/x-python",
   "name": "python",
   "nbconvert_exporter": "python",
   "pygments_lexer": "ipython3",
   "version": "3.13.1"
  },
  "orig_nbformat": 4
 },
 "nbformat": 4,
 "nbformat_minor": 2
}
