{
 "cells": [
  {
   "cell_type": "markdown",
   "metadata": {},
   "source": [
    "## 1. `if`/`else`\n",
    "\n",
    "### 1.1 Ein erstes `if`-Statement\n",
    "Wenn wir in einem Programm etwas nur unter einer bestimmten Bedingungen ausführen wollen, verwenden wir dazu ein `if`-Statement. Ein `if`-Statement sieht wie folgt aus:"
   ]
  },
  {
   "cell_type": "code",
   "execution_count": 6,
   "metadata": {},
   "outputs": [
    {
     "name": "stdout",
     "output_type": "stream",
     "text": [
      "Wird in jedem Fall ausgeführt.\n"
     ]
    }
   ],
   "source": [
    "a = 2\n",
    "b = 5\n",
    "\n",
    "c = 5\n",
    "d = 5\n",
    "if a == b:\n",
    "    print(\"Beide Zahlen sind gleich\")\n",
    "    print(\"...\")\n",
    "\n",
    "print(\"Wird in jedem Fall ausgeführt.\")"
   ]
  },
  {
   "cell_type": "markdown",
   "metadata": {},
   "source": [
    "Das `print`-Statement wird nur ausgeführt, wenn beide Zahlen gleich sind. Ansonsten wird dieser Code-Teil übersprungen.\n",
    "\n",
    "Schauen wir uns das `if`-Statement genauer an. \n",
    "\n",
    "1. Auf der ersten Zeile steht `if`, gefolgt von einer Bedingung, gefolgt von einem Doppelpunkt. In diesem Fall ist die Bedingung `a == b` - also ob a und b gleich sind (Python verwendet zwei `==` für die Überprüfung, da ein einzelnes `=` bereits für die Variablenzuweisung reserviert ist). \n",
    "2. Anschliessend kommen eine oder mehrere Code-Zeilen, welche nur ausgeführt werden, wenn die Bedingung erfüllt war. Diese Zeilen sind weiter eingerückt als der \"normale\" Code.\n",
    "3. Sobald der `if`-Block beendet ist, schreiben wir wieder Code, der eingerückt ist wie zuvor. Dieser Code wird in jedem Fall ausgeführt."
   ]
  },
  {
   "cell_type": "markdown",
   "metadata": {},
   "source": [
    "Hier ist ein weiteres Beispielprogramm, welches ein `if`-Statement enthält. Kannst du voraussagen, was es macht?"
   ]
  },
  {
   "cell_type": "code",
   "execution_count": 11,
   "metadata": {},
   "outputs": [
    {
     "name": "stdin",
     "output_type": "stream",
     "text": [
      "An welches Tier denke ich? \n"
     ]
    },
    {
     "name": "stdout",
     "output_type": "stream",
     "text": [
      "Spielende.\n"
     ]
    }
   ],
   "source": [
    "mein_tier = \"blauwal\"\n",
    "geraten = input(\"An welches Tier denke ich?\")\n",
    "\n",
    "if mein_tier == geraten:\n",
    "    print(\"Richtig!\")\n",
    "\n",
    "print(\"Spielende.\")"
   ]
  },
  {
   "cell_type": "markdown",
   "metadata": {},
   "source": [
    "### 1.2 `else`\n",
    "Wenn wir, falls die Bedingung nicht zutrifft, etwas anderes ausführen wollen, verwenden wir dazu `else` (auf Deutsch: \"sonst\"). Damit können wir das vorangehende Spiel wie folgt erweitern:"
   ]
  },
  {
   "cell_type": "code",
   "execution_count": 13,
   "metadata": {},
   "outputs": [
    {
     "name": "stdin",
     "output_type": "stream",
     "text": [
      "An welches Tier denke ich? kaninchen\n"
     ]
    },
    {
     "name": "stdout",
     "output_type": "stream",
     "text": [
      "Leider falsch...\n",
      "Spielende.\n"
     ]
    }
   ],
   "source": [
    "mein_tier = \"blauwal\"\n",
    "geraten = input(\"An welches Tier denke ich?\")\n",
    "\n",
    "if mein_tier == geraten:\n",
    "    print(\"Richtig!\")\n",
    "else:\n",
    "    print(\"Leider falsch...\")\n",
    "\n",
    "print(\"Spielende.\")"
   ]
  },
  {
   "cell_type": "markdown",
   "metadata": {},
   "source": [
    "Die Zeile `print(\"Leider falsch...\")` wird nur ausgeführt, wenn das falsche Tier geraten wurde. \n",
    "\n",
    "### 1.3 `elif`\n",
    "Falls wir mehrere unterschiedliche Bedingungen überprüfen wollen, können wir dies mit `elif` (kurz für \"else if\", also \"sonst wenn\") tun. Im nachfolgenden Beispiel verwenden wir < und > um zu überprüfen, ob die erste Variable grösser oder kleiner als die Zweite ist."
   ]
  },
  {
   "cell_type": "code",
   "execution_count": 16,
   "metadata": {},
   "outputs": [
    {
     "name": "stdout",
     "output_type": "stream",
     "text": [
      "a ist gleich b\n"
     ]
    }
   ],
   "source": [
    "a = 5\n",
    "b = 5\n",
    "\n",
    "if a > b:\n",
    "    print(\"a ist grösser als b\")\n",
    "elif a < b:\n",
    "    print(\"a ist kleiner als b\")\n",
    "else:\n",
    "    print(\"a ist gleich b\")"
   ]
  },
  {
   "cell_type": "markdown",
   "metadata": {},
   "source": [
    "### 1.4 Verschachtelte `if`-Statements\n",
    "In einem `if`-Block können wir weitere `if`-Statements ausführen, und so komplexe Logiken bilden. Hier ein Beispiel: Verstehst du, was das Programm macht?"
   ]
  },
  {
   "cell_type": "code",
   "execution_count": 20,
   "metadata": {},
   "outputs": [
    {
     "name": "stdin",
     "output_type": "stream",
     "text": [
      "User? Marcel\n",
      "Passwort? Marcel\n"
     ]
    },
    {
     "name": "stdout",
     "output_type": "stream",
     "text": [
      "User nicht bekannt.\n"
     ]
    }
   ],
   "source": [
    "username = \"theuser\"\n",
    "password = \"thepassword\"\n",
    "\n",
    "username_input = input(\"User?\")\n",
    "password_input = input(\"Passwort?\")\n",
    "\n",
    "if username == username_input:\n",
    "    if password == password_input:\n",
    "        print(\"Login erfolgreich.\")\n",
    "    else:\n",
    "        print(\"Passwort falsch.\")\n",
    "\n",
    "else:\n",
    "    print(\"User nicht bekannt.\")"
   ]
  },
  {
   "cell_type": "markdown",
   "metadata": {},
   "source": [
    "<br><br><br><br><br>\n",
    "\n",
    "<div class=\"exercise\">\n",
    "\n",
    "<img src=\"https://i.imgur.com/JyhBeDB.png\" class=\"exercise_image\" width=100>\n",
    "\n",
    "<span class=\"exercise_label\">**Aufgabe:**</span>\n",
    "\n",
    "Schaue dir folgendes Programm an. \n",
    "- a) Was gibt das Programm aus?\n",
    "- b) Was wäre die Ausgabe, wenn `b = 3`?\n",
    "- c) Was wäre die Ausgabe, wenn `b = 5` und `c = 8`?\n",
    "- d) Wie können wir das Programm vereinfachen?\n",
    "```python\n",
    "a = 3\n",
    "b = 5\n",
    "c = 3\n",
    "\n",
    "if a == b:\n",
    "    print(\"a ist gleich b\")\n",
    "else:\n",
    "    if a == c:\n",
    "        print(\"a ist gleich c\")\n",
    "    else:\n",
    "        if b == c:\n",
    "            print(\"b ist gleich b\")\n",
    "        else:\n",
    "            print(\"Alle Zahlen sind unterschiedlich.\")\n",
    "\n",
    "```\n",
    "\n",
    "</div>"
   ]
  },
  {
   "cell_type": "code",
   "execution_count": 31,
   "metadata": {},
   "outputs": [
    {
     "name": "stdout",
     "output_type": "stream",
     "text": [
      "Alle Zahlen sind unterschiedlich.\n"
     ]
    }
   ],
   "source": [
    "a = 3\n",
    "b = 5\n",
    "c = 8\n",
    "\n",
    "if a == b:\n",
    "    print(\"a ist gleich b\")\n",
    "elif a == c:\n",
    "    print(\"a ist gleich c\")\n",
    "elif b == c:\n",
    "    print(\"b ist gleich b\")\n",
    "else:\n",
    "    print(\"Alle Zahlen sind unterschiedlich.\")"
   ]
  },
  {
   "cell_type": "markdown",
   "metadata": {},
   "source": [
    "<br><br><br><br><br>\n",
    "\n",
    "## 2. Bedingungen\n",
    "\n",
    "Wir haben gesehen, wie wir in `if`-Statements auf unterschiedliche Bedingungen reagieren können. Bis jetzt haben wir nur die Bedingung `==` (ist gleich) gesehen, es gibt aber noch andere Bedingungen. Diese schauen wir in diesem Kapitel an. Solche \"Bedingungen\" werden auch \"Vergleichsoperationen\" genannt.\n",
    "### 2.1 Vergleichsoperationen\n",
    "\n",
    "Mit Vergleichsoperationen kann man zwei Werte vergleichen. Um zu vergleichen, ob zwei Objekte den gleichen Wert enthalten, haben wir \"gleich\" und \"ungleich\":\n",
    "\n",
    "- `==`: \"gleich\"\n",
    "- `!=`: \"ungleich\"\n"
   ]
  },
  {
   "cell_type": "code",
   "execution_count": 34,
   "metadata": {},
   "outputs": [
    {
     "data": {
      "text/plain": [
       "True"
      ]
     },
     "execution_count": 34,
     "metadata": {},
     "output_type": "execute_result"
    }
   ],
   "source": [
    "a = 10\n",
    "b = 10\n",
    "a == b"
   ]
  },
  {
   "cell_type": "markdown",
   "metadata": {},
   "source": [
    "Wenn die Bedingung erfüllt ist, gibt die Operation \"True\" zurück. Ansonsten \"False\":"
   ]
  },
  {
   "cell_type": "code",
   "execution_count": 35,
   "metadata": {},
   "outputs": [
    {
     "data": {
      "text/plain": [
       "False"
      ]
     },
     "execution_count": 35,
     "metadata": {},
     "output_type": "execute_result"
    }
   ],
   "source": [
    "a = 10\n",
    "b = 9\n",
    "a == b"
   ]
  },
  {
   "cell_type": "markdown",
   "metadata": {},
   "source": [
    "\"Ungleich\" ist das Gegenteil von \"gleich\":"
   ]
  },
  {
   "cell_type": "code",
   "execution_count": null,
   "metadata": {},
   "outputs": [],
   "source": [
    "a != b"
   ]
  },
  {
   "cell_type": "markdown",
   "metadata": {},
   "source": [
    "Wir können `==` und `!=` auch für den Vergleich von Texten anwenden:"
   ]
  },
  {
   "cell_type": "code",
   "execution_count": 36,
   "metadata": {},
   "outputs": [
    {
     "data": {
      "text/plain": [
       "False"
      ]
     },
     "execution_count": 36,
     "metadata": {},
     "output_type": "execute_result"
    }
   ],
   "source": [
    "text1 = \"hallo\"\n",
    "text2 = \"hallo \"\n",
    "text1 == text2"
   ]
  },
  {
   "cell_type": "markdown",
   "metadata": {},
   "source": [
    "Wenn wir aber Texte mit Zahlen vergleichen wollen, gibt `==` den Wert `False` zurück - auch wenn die Zahl dieselbe ist:"
   ]
  },
  {
   "cell_type": "code",
   "execution_count": 38,
   "metadata": {},
   "outputs": [
    {
     "data": {
      "text/plain": [
       "True"
      ]
     },
     "execution_count": 38,
     "metadata": {},
     "output_type": "execute_result"
    }
   ],
   "source": [
    "\"1\" == 1"
   ]
  },
  {
   "cell_type": "markdown",
   "metadata": {},
   "source": [
    "Sobald auch nur ein Zeichen unterschiedlich ist, werden die Texte nicht mehr als gleich angesehen."
   ]
  },
  {
   "cell_type": "markdown",
   "metadata": {},
   "source": [
    "Für Zahlen können wir vergleichen, welcher Wert grösser ist. Dazu haben wir folgende Operationen:\n",
    "- `<=`: \"kleiner gleich\"\n",
    "- `<`: \"kleiner\"\n",
    "- `>`: \"grösser\"\n",
    "- `>=`: \"grösser gleich\""
   ]
  },
  {
   "cell_type": "code",
   "execution_count": 39,
   "metadata": {},
   "outputs": [
    {
     "data": {
      "text/plain": [
       "True"
      ]
     },
     "execution_count": 39,
     "metadata": {},
     "output_type": "execute_result"
    }
   ],
   "source": [
    "a = 3\n",
    "b = 2\n",
    "\n",
    "a > b"
   ]
  },
  {
   "cell_type": "code",
   "execution_count": 40,
   "metadata": {},
   "outputs": [
    {
     "data": {
      "text/plain": [
       "False"
      ]
     },
     "execution_count": 40,
     "metadata": {},
     "output_type": "execute_result"
    }
   ],
   "source": [
    "a < b"
   ]
  },
  {
   "cell_type": "markdown",
   "metadata": {},
   "source": [
    "Der Unterschied zwischen `>=` und `>` zeigt sich, wenn beide Werte gleich sind. In diesem Fall wird `>=` `True`, und `>` `False` zurückgeben.\n"
   ]
  },
  {
   "cell_type": "code",
   "execution_count": 41,
   "metadata": {},
   "outputs": [
    {
     "data": {
      "text/plain": [
       "True"
      ]
     },
     "execution_count": 41,
     "metadata": {},
     "output_type": "execute_result"
    }
   ],
   "source": [
    "a = 5\n",
    "b = 5\n",
    "\n",
    "a >= b"
   ]
  },
  {
   "cell_type": "code",
   "execution_count": 42,
   "metadata": {},
   "outputs": [
    {
     "data": {
      "text/plain": [
       "False"
      ]
     },
     "execution_count": 42,
     "metadata": {},
     "output_type": "execute_result"
    }
   ],
   "source": [
    "a > b"
   ]
  },
  {
   "cell_type": "markdown",
   "metadata": {},
   "source": [
    "Für Texte haben wir einen anderen speziellen Operator: `in`. Damit können wir vergleichen, ob ein Text in einem anderen enthalten ist:"
   ]
  },
  {
   "cell_type": "code",
   "execution_count": 43,
   "metadata": {},
   "outputs": [],
   "source": [
    "text1 = \"Wort\"\n",
    "text2 = \"Text2 enthält das Wort\"\n",
    "text3 = \"Text3 nicht\""
   ]
  },
  {
   "cell_type": "code",
   "execution_count": 44,
   "metadata": {},
   "outputs": [
    {
     "data": {
      "text/plain": [
       "True"
      ]
     },
     "execution_count": 44,
     "metadata": {},
     "output_type": "execute_result"
    }
   ],
   "source": [
    "text1 in text2"
   ]
  },
  {
   "cell_type": "code",
   "execution_count": 45,
   "metadata": {},
   "outputs": [
    {
     "data": {
      "text/plain": [
       "False"
      ]
     },
     "execution_count": 45,
     "metadata": {},
     "output_type": "execute_result"
    }
   ],
   "source": [
    "text1 in text3"
   ]
  },
  {
   "cell_type": "markdown",
   "metadata": {},
   "source": [
    "### 2.2 Datentyp `bool`\n",
    "\n",
    "Wir haben gesehen, dass Vergleichsoperationen immer `True` oder `False` zurückgeben. Dafür gibt es einen speziellen Datentyp, sogenannte booleansche Variablen, oder kurz `bool`.\n"
   ]
  },
  {
   "cell_type": "code",
   "execution_count": 47,
   "metadata": {},
   "outputs": [
    {
     "name": "stdout",
     "output_type": "stream",
     "text": [
      "Datentyp: <class 'bool'>\n",
      "Wert: False\n"
     ]
    }
   ],
   "source": [
    "a = 3\n",
    "b = 5\n",
    "\n",
    "# Wir können das Resultat eines Vergleiches auch wieder als Variable abspeichern:\n",
    "a_ist_grösser = a > b\n",
    "\n",
    "# Wenn wir anschauen, was a_ist_grösser für einen Datentyp hat:\n",
    "print(\"Datentyp:\", type(a_ist_grösser))\n",
    "print(\"Wert:\", a_ist_grösser)"
   ]
  },
  {
   "cell_type": "markdown",
   "metadata": {},
   "source": [
    "Wir können direkt Variablen mit einem boolschen Wert definieren:"
   ]
  },
  {
   "cell_type": "code",
   "execution_count": 48,
   "metadata": {},
   "outputs": [
    {
     "data": {
      "text/plain": [
       "bool"
      ]
     },
     "execution_count": 48,
     "metadata": {},
     "output_type": "execute_result"
    }
   ],
   "source": [
    "is_it_good = True #Wichtig, Grosses T bzw. F (fuer False) \n",
    "type(is_it_good)"
   ]
  },
  {
   "cell_type": "markdown",
   "metadata": {},
   "source": [
    "### 2.3 Logische Operationen\n",
    "Wenn wir mehrere Bedingungen vergleichen wollen, können wir dies mit logischen Operationen machen. Es gibt drei logische Operationen:\n",
    "\n",
    "- `and`\n",
    "- `or`\n",
    "- `not`"
   ]
  },
  {
   "cell_type": "markdown",
   "metadata": {},
   "source": [
    "Bei `and` überprüfen wir, ob beide Kriterien erfüllt sind. Bei `or` überprüfen wir, ob mindestens eines der Kriterien erfüllt ist. Und mit `not` können wir ein Kriterium umkehren.\n",
    "\n",
    "Damit können wir unser Login von vorher deutlich vereinfachen: Statt mit verschachtelten `if`-Statements mehrere Bedingungen zu überprüfen, können wir `and` verwenden:"
   ]
  },
  {
   "cell_type": "code",
   "execution_count": null,
   "metadata": {},
   "outputs": [],
   "source": [
    "# Wir definieren die \"richtigen\" Nutzerdaten im Code\n",
    "nutzername = \"nutzer123\"\n",
    "passwort = \"hallo123\"\n",
    "\n",
    "# Dann fragen wir den/die Nutzer:in nach ihrem Login:\n",
    "eingabe_nutzer = input(\"Was ist dein Nutzername?\")\n",
    "eingabe_passwort = input(\"Was ist dein Passwort?\")\n",
    "\n",
    "# Wir überprüfen nun mit and, ob beide Eingaben richtig sind\n",
    "if nutzername == eingabe_nutzer and passwort == eingabe_passwort:\n",
    "    print(\"Login erfolgreich.\")\n",
    "else:\n",
    "    print(\"Login fehlgeschlagen.\")"
   ]
  },
  {
   "cell_type": "markdown",
   "metadata": {},
   "source": [
    "Das Programm von oben schreibt nur \"Login erfolgreich\", wenn sowohl Nutzername als auch Passwort stimmen. "
   ]
  },
  {
   "cell_type": "markdown",
   "metadata": {},
   "source": [
    "<br><br><br><br><br>\n",
    "\n"
   ]
  },
  {
   "cell_type": "markdown",
   "metadata": {},
   "source": [
    "<br><br><br><br><br>\n",
    "\n",
    "<div class=\"exercise\">\n",
    "\n",
    "<img src=\"https://i.imgur.com/JyhBeDB.png\" class=\"exercise_image\" width=100>\n",
    "\n",
    "<span class=\"exercise_label\">**Aufgabe:**</span>\n",
    "\n",
    "Schaue dir folgendes Programm an. \n",
    "- a) Was gibt das Programm aus?\n",
    "- b) Was würde passieren, wenn wir die Vergleiche mit `guess` statt mit `guess_nbr` machen würden?\n",
    "- c) Wie können wir die zwei `elif`-Statements zu einem `elif` vereinfachen?\n",
    "```python\n",
    "\n",
    "print(\"Rate eine Zahl zwischen 1 und 10\")\n",
    "guess = input()\n",
    "guess_nbr = int(guess)\n",
    "\n",
    "correct = 7\n",
    "\n",
    "if guess_nbr == correct:\n",
    "    print(\"Richtig, gratuliere!\")\n",
    "elif guess_nbr < 1 or guess_nbr > 10:\n",
    "    print(\"Die Zahl muss zwischen 1 und 10 sein!\")\n",
    "else:\n",
    "    print(\"Leider falsch\")\n",
    "```\n",
    "\n",
    "</div>"
   ]
  },
  {
   "cell_type": "code",
   "execution_count": 49,
   "metadata": {},
   "outputs": [
    {
     "name": "stdout",
     "output_type": "stream",
     "text": [
      "Rate eine Zahl zwischen 1 und 10\n"
     ]
    },
    {
     "name": "stdin",
     "output_type": "stream",
     "text": [
      " -100\n"
     ]
    },
    {
     "name": "stdout",
     "output_type": "stream",
     "text": [
      "Die Zahl muss zwischen 1 und 10 sein!\n"
     ]
    }
   ],
   "source": [
    "print(\"Rate eine Zahl zwischen 1 und 10\")\n",
    "guess = input()\n",
    "guess_nbr = int(guess)\n",
    "\n",
    "correct = 7\n",
    "\n",
    "if guess_nbr == correct:\n",
    "    print(\"Richtig, gratuliere!\")\n",
    "elif guess_nbr < 1 or guess_nbr > 10:\n",
    "    print(\"Die Zahl muss zwischen 1 und 10 sein!\")\n",
    "else:\n",
    "    print(\"Leider falsch\")"
   ]
  },
  {
   "cell_type": "markdown",
   "metadata": {},
   "source": [
    "<br><br><br><br><br>\n",
    "\n",
    "<div class=\"exercise\">\n",
    "\n",
    "<img src=\"https://i.imgur.com/JyhBeDB.png\" class=\"exercise_image\" width=100>\n",
    "\n",
    "<span class=\"exercise_label\">**Aufgabe:**</span>\n",
    "\n",
    "Schriebe ein Programm für einen Quartierladen:\n",
    "- Frage den/die Benutzer:in nach dem Alter\n",
    "- Falls das Alter kleiner als 16 ist, gib \"Du darfst keine Alkohol kaufen\" aus\n",
    "- Falls das Alter zwischen 16 und 18 ist, gib \"Du darfst Bier und Wein kaufen\" aus\n",
    "- Falls das Alter größer als 18 ist, gib \"Du darfst alles kaufen\" aus\n",
    "\n",
    "</div>"
   ]
  }
 ],
 "metadata": {
  "kernelspec": {
   "display_name": "Python 3 (ipykernel)",
   "language": "python",
   "name": "python3"
  },
  "language_info": {
   "codemirror_mode": {
    "name": "ipython",
    "version": 3
   },
   "file_extension": ".py",
   "mimetype": "text/x-python",
   "name": "python",
   "nbconvert_exporter": "python",
   "pygments_lexer": "ipython3",
   "version": "3.10.11"
  }
 },
 "nbformat": 4,
 "nbformat_minor": 4
}
