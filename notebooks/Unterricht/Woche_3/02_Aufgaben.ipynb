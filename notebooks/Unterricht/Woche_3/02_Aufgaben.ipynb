{
 "cells": [
  {
   "cell_type": "markdown",
   "metadata": {},
   "source": [
    "# 1. Reisezeit\n",
    "\n",
    "Basierend auf Transportmethode braucht es mehr oder weniger Zeit um eine Strecke zurückzulegen.\n",
    "In diesem Programm soll der Benutzer die Transportmethode und die Strecke eingeben.\n",
    "Als Ausgabe soll die Reisezeit in Stunden und Minuten ausgegeben werden.\n",
    "\n",
    "| Transportmethode | Geschwindigkeit in km/h |\n",
    "|------------------|-------------------------|\n",
    "| Gehen (walk)             | 5                     |\n",
    "| Fahrrad (bike)              | 15                    |\n",
    "| Auto (car)             | 50                    |\n",
    "| Zug (train)              | 70                    |\n"
   ]
  },
  {
   "cell_type": "code",
   "execution_count": 29,
   "metadata": {},
   "outputs": [
    {
     "name": "stdout",
     "output_type": "stream",
     "text": [
      "deine Reisezeit mit fahrrad= 1  Stunden 27 Minuten\n"
     ]
    }
   ],
   "source": [
    "# YOUR CODE HERE\n",
    "# brauche transportmethode, strecke, geschiwndigkeit\n",
    "# ausgeben: Reisezeit = strecke / geschwindigkeit\n",
    "\n",
    "transportmethode = input(\"welche Transpormethode nimmst du\")\n",
    "strecke = int(input(\"wieviel Kilometer fährst du\"))\n",
    "\n",
    "transportmethode_gehen = \"gehen\"\n",
    "transportmethode_fahrrad = \"fahrrad\"\n",
    "transportmethode_auto = \"auto\"\n",
    "transportmethode_zug = \"zug\"\n",
    "\n",
    "geschwindigkeit_gehen = 5\n",
    "geschwindigkeit_fahrrad = 15\n",
    "geschwindigkeit_auto = 50\n",
    "geschwindigkeit_zug = 70\n",
    "\n",
    "reisezeit_gehen = strecke / geschwindigkeit_gehen\n",
    "reisezeit_fahrrad = strecke /geschwindigkeit_fahrrad\n",
    "reisezeit_auto = strecke / geschwindigkeit_auto\n",
    "reisezeit_zug = strecke / geschwindigkeit_zug\n",
    "\n",
    "stunden_gehen = int(reisezeit_gehen)\n",
    "stunden_fahrrad = int(reisezeit_fahrrad)\n",
    "stunden_auto = int(reisezeit_auto)\n",
    "stunden_zug = int(reisezeit_zug)\n",
    "\n",
    "rest_gehen = int((reisezeit_gehen - stunden_gehen) *60)\n",
    "rest_fahrrad = int((reisezeit_fahrrad - stunden_fahrrad) * 60)\n",
    "rest_auto = int((reisezeit_auto - stunden_auto) * 60)\n",
    "rest_zug = int((reisezeit_zug- stunden_zug) * 60)\n",
    "\n",
    "if transportmethode == transportmethode_gehen:\n",
    "    print (\"deine Reisezeit beim gehen=\", stunden_gehen, \" Stunden\", rest_gehen, \"Minuten\")\n",
    "\n",
    "elif transportmethode == transportmethode_fahrrad:\n",
    "    print (\"deine Reisezeit mit fahrrad=\", stunden_fahrrad, \" Stunden\", rest_fahrrad, \"Minuten\")\n",
    "    \n",
    "elif transportmethode == transportmethode_auto:\n",
    "    print (\"deine Reisezeit mit auto=\", stunden_auto, \" Stunden\", rest_auto, \"Minuten\")\n",
    "    \n",
    "elif transportmethode == transportmethode_zug:\n",
    "    print (\"deine Reisezeit mit zug=\", stunden_zug, \" Stunden\", rest_zug, \" Minuten\")\n",
    "\n"
   ]
  },
  {
   "cell_type": "markdown",
   "metadata": {},
   "source": [
    "# 2. Geldautomat \n",
    "## Einführung\n",
    "Bei dieser Aufgabe formulieren Sie verschiedene Berechnungsanweisungen abhängig von\n",
    "einer Benutzereingabe. Dabei kommen zwei verschiedene Divisions-Operationen zum Einsatz.\n",
    "\n",
    "## Aufgabenstellung\n",
    "In dieser Aufgabe sollen Sie einen Geldautomaten simulieren. Die Kundin oder der Kunde\n",
    "soll eingeben können, wie viel Geld er oder sie abheben möchte. Der Geldautomat soll\n",
    "dann berechnen, wie viele und welche Banknoten (100er, 50er, 20er und 10er) er ausgeben\n",
    "soll. Die Anzahl der verwendeten Variablen soll möglichst klein gehalten werden, indem\n",
    "sie wiederverwendet werden.\n",
    "So könnte beispielsweise die Ausgabe für den Betrag 571 aussehen:\n",
    "```\n",
    "WILLKOMMEN BEI DER BANK IHRES VERTRAUENS\n",
    "****************************************\n",
    "Wie viel möchten Sie abheben? 571\n",
    "Eingegebener Geldbetrag: 571 Fr.\n",
    "Bitte warten...\n",
    "Sie haben erhalten:\n",
    "100er 5\n",
    "50er 1\n",
    "20er 1\n",
    "10er 0\n",
    "Rest: 1\n",
    "```"
   ]
  },
  {
   "cell_type": "code",
   "execution_count": null,
   "metadata": {},
   "outputs": [],
   "source": [
    "print ('''\n",
    "WILLKOMMEN BEI DER BANK IHRES VERTRAUENS\n",
    "****************************************\n",
    "''')\n",
    "\n",
    "hunderter = 100\n",
    "fünfziger = 50\n",
    "zwanziger = 20\n",
    "zehner = 10\n",
    "\n",
    "\n",
    "abheben = int(input(\"wie viel möchten sie abheben\"))\n",
    "\n",
    "\n"
   ]
  },
  {
   "cell_type": "markdown",
   "metadata": {},
   "source": [
    "### Zwischenschritte\n",
    "Erstellen Sie eine Benutzereingabe für einen beliebigen Geldbetrag und speichern\n",
    "Sie den Wert in einer Variable. (Hinweis: Beachten Sie den Datentyp und die Namenskonventionen für Variablen (beschreibend, keine Leerzeichen, mit Buchstaben beginnend etc.).)"
   ]
  },
  {
   "cell_type": "code",
   "execution_count": null,
   "metadata": {},
   "outputs": [],
   "source": [
    "### YOUR CODE HERE"
   ]
  },
  {
   "cell_type": "markdown",
   "metadata": {},
   "source": [
    "Geben Sie den eingegebenen Betrag auf der Konsole aus."
   ]
  },
  {
   "cell_type": "code",
   "execution_count": null,
   "metadata": {},
   "outputs": [],
   "source": [
    "### YOUR CODE HERE"
   ]
  },
  {
   "cell_type": "markdown",
   "metadata": {},
   "source": [
    "Berechnen Sie, wie viele 100er-Noten ausgegeben werden müssen. (Hinweis: Verwenden Sie den Divisions-Operator.)"
   ]
  },
  {
   "cell_type": "code",
   "execution_count": null,
   "metadata": {},
   "outputs": [],
   "source": [
    "### YOUR CODE HERE"
   ]
  },
  {
   "cell_type": "markdown",
   "metadata": {},
   "source": [
    "Berechnen Sie den Restbetrag, der nach der Ausgabe der 100er-Noten übrig bleibt."
   ]
  },
  {
   "cell_type": "code",
   "execution_count": null,
   "metadata": {},
   "outputs": [],
   "source": [
    "### YOUR CODE HERE"
   ]
  },
  {
   "cell_type": "markdown",
   "metadata": {},
   "source": [
    "Berechnen Sie analog die Anzahl der 50er-, 20er- und 10er-Noten und geben Sie die Resultate auf der Konsole aus. (Hinweis: Kopieren Sie die Berechnungen für die 100er-Noten und passen Sie sie an.)"
   ]
  },
  {
   "cell_type": "code",
   "execution_count": null,
   "metadata": {},
   "outputs": [],
   "source": [
    "### YOUR CODE HERE"
   ]
  },
  {
   "cell_type": "markdown",
   "metadata": {},
   "source": [
    "### Erweiterungen\n",
    "**Hinweis**: Für diese Erweiterungen benötigen Sie *Bedingungsprüfungen*\n",
    "**Hinweis**: Ändern Sie obenstehend die entsprechenden Codeblocks"
   ]
  },
  {
   "cell_type": "markdown",
   "metadata": {},
   "source": [
    "- Überprüfen Sie nach der Eingabe des Geldbetrags, ob abgerundet werden muss und informieren Sie den Kunden über den tatsächlich ausgezahlten Betrag.\n",
    "- Lassen Sie nur Banknotenarten ausgeben, die auch wirklich benötigt werden. "
   ]
  },
  {
   "cell_type": "markdown",
   "metadata": {},
   "source": [
    "# 3. Taschenrechner\n",
    "\n",
    "Schreibe einen Taschenrechner, mit folgenden Eigenschaften:\n",
    "\n",
    "- Er fragt nach der ersten Zahl\n",
    "- Dann nach dem Operator (also +, -, /, und *)\n",
    "- Dann nach der zweiten Zahl\n",
    "- Anschliessend berechnet er das Resultat\n"
   ]
  },
  {
   "cell_type": "markdown",
   "metadata": {},
   "source": []
  }
 ],
 "metadata": {
  "kernelspec": {
   "display_name": ".venv",
   "language": "python",
   "name": "python3"
  },
  "language_info": {
   "codemirror_mode": {
    "name": "ipython",
    "version": 3
   },
   "file_extension": ".py",
   "mimetype": "text/x-python",
   "name": "python",
   "nbconvert_exporter": "python",
   "pygments_lexer": "ipython3",
   "version": "3.13.1"
  },
  "orig_nbformat": 4
 },
 "nbformat": 4,
 "nbformat_minor": 2
}
