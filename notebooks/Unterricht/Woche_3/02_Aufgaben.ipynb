{
 "cells": [
  {
   "cell_type": "markdown",
   "metadata": {},
   "source": [
    "# 1. Reisezeit\n",
    "\n",
    "Basierend auf Transportmethode braucht es mehr oder weniger Zeit um eine Strecke zurückzulegen.\n",
    "In diesem Programm soll der Benutzer die Transportmethode und die Strecke eingeben.\n",
    "Als Ausgabe soll die Reisezeit in Stunden und Minuten ausgegeben werden.\n",
    "\n",
    "| Transportmethode | Geschwindigkeit in km/h |\n",
    "|------------------|-------------------------|\n",
    "| Gehen (walk)             | 5                     |\n",
    "| Fahrrad (bike)              | 15                    |\n",
    "| Auto (car)             | 50                    |\n",
    "| Zug (train)              | 70                    |\n"
   ]
  },
  {
   "cell_type": "code",
   "execution_count": null,
   "metadata": {
    "vscode": {
     "languageId": "plaintext"
    }
   },
   "outputs": [],
   "source": [
    "# YOUR CODE HERE"
   ]
  },
  {
   "cell_type": "markdown",
   "metadata": {},
   "source": [
    "# 2. Geldautomat \n",
    "## Einführung\n",
    "Bei dieser Aufgabe formulieren Sie verschiedene Berechnungsanweisungen abhängig von\n",
    "einer Benutzereingabe. Dabei kommen zwei verschiedene Divisions-Operationen zum Einsatz.\n",
    "\n",
    "## Aufgabenstellung\n",
    "In dieser Aufgabe sollen Sie einen Geldautomaten simulieren. Die Kundin oder der Kunde\n",
    "soll eingeben können, wie viel Geld er oder sie abheben möchte. Der Geldautomat soll\n",
    "dann berechnen, wie viele und welche Banknoten (100er, 50er, 20er und 10er) er ausgeben\n",
    "soll. Die Anzahl der verwendeten Variablen soll möglichst klein gehalten werden, indem\n",
    "sie wiederverwendet werden.\n",
    "So könnte beispielsweise die Ausgabe für den Betrag 571 aussehen:\n",
    "```\n",
    "WILLKOMMEN BEI DER BANK IHRES VERTRAUENS\n",
    "****************************************\n",
    "Wie viel möchten Sie abheben? 571\n",
    "Eingegebener Geldbetrag: 571 Fr.\n",
    "Bitte warten...\n",
    "Sie haben erhalten:\n",
    "100er 5\n",
    "50er 1\n",
    "20er 1\n",
    "10er 0\n",
    "Rest: 1\n",
    "```"
   ]
  },
  {
   "cell_type": "markdown",
   "metadata": {},
   "source": [
    "### Zwischenschritte\n",
    "Erstellen Sie eine Benutzereingabe für einen beliebigen Geldbetrag und speichern\n",
    "Sie den Wert in einer Variable. (Hinweis: Beachten Sie den Datentyp und die Namenskonventionen für Variablen (beschreibend, keine Leerzeichen, mit Buchstaben beginnend etc.).)"
   ]
  },
  {
   "cell_type": "code",
   "execution_count": null,
   "metadata": {
    "vscode": {
     "languageId": "plaintext"
    }
   },
   "outputs": [],
   "source": [
    "### YOUR CODE HERE"
   ]
  },
  {
   "cell_type": "markdown",
   "metadata": {},
   "source": [
    "Geben Sie den eingegebenen Betrag auf der Konsole aus."
   ]
  },
  {
   "cell_type": "code",
   "execution_count": null,
   "metadata": {
    "vscode": {
     "languageId": "plaintext"
    }
   },
   "outputs": [],
   "source": [
    "### YOUR CODE HERE"
   ]
  },
  {
   "cell_type": "markdown",
   "metadata": {},
   "source": [
    "Berechnen Sie, wie viele 100er-Noten ausgegeben werden müssen. (Hinweis: Verwenden Sie den Divisions-Operator.)"
   ]
  },
  {
   "cell_type": "code",
   "execution_count": null,
   "metadata": {
    "vscode": {
     "languageId": "plaintext"
    }
   },
   "outputs": [],
   "source": [
    "### YOUR CODE HERE"
   ]
  },
  {
   "cell_type": "markdown",
   "metadata": {},
   "source": [
    "Berechnen Sie den Restbetrag, der nach der Ausgabe der 100er-Noten übrig bleibt."
   ]
  },
  {
   "cell_type": "code",
   "execution_count": null,
   "metadata": {
    "vscode": {
     "languageId": "plaintext"
    }
   },
   "outputs": [],
   "source": [
    "### YOUR CODE HERE"
   ]
  },
  {
   "cell_type": "markdown",
   "metadata": {},
   "source": [
    "Berechnen Sie analog die Anzahl der 50er-, 20er- und 10er-Noten und geben Sie die Resultate auf der Konsole aus. (Hinweis: Kopieren Sie die Berechnungen für die 100er-Noten und passen Sie sie an.)"
   ]
  },
  {
   "cell_type": "code",
   "execution_count": null,
   "metadata": {
    "vscode": {
     "languageId": "plaintext"
    }
   },
   "outputs": [],
   "source": [
    "### YOUR CODE HERE"
   ]
  },
  {
   "cell_type": "markdown",
   "metadata": {},
   "source": [
    "### Erweiterungen\n",
    "**Hinweis**: Für diese Erweiterungen benötigen Sie *Bedingungsprüfungen*\n",
    "**Hinweis**: Ändern Sie obenstehend die entsprechenden Codeblocks"
   ]
  },
  {
   "cell_type": "markdown",
   "metadata": {},
   "source": [
    "- Überprüfen Sie nach der Eingabe des Geldbetrags, ob abgerundet werden muss und informieren Sie den Kunden über den tatsächlich ausgezahlten Betrag.\n",
    "- Lassen Sie nur Banknotenarten ausgeben, die auch wirklich benötigt werden. "
   ]
  },
  {
   "cell_type": "markdown",
   "metadata": {},
   "source": [
    "# 3. Taschenrechner\n",
    "\n",
    "Schreibe einen Taschenrechner, mit folgenden Eigenschaften:\n",
    "\n",
    "- Er fragt nach der ersten Zahl\n",
    "- Dann nach dem Operator (also +, -, /, und *)\n",
    "- Dann nach der zweiten Zahl\n",
    "- Anschliessend berechnet er das Resultat\n"
   ]
  },
  {
   "cell_type": "markdown",
   "metadata": {},
   "source": []
  }
 ],
 "metadata": {
  "language_info": {
   "name": "python"
  },
  "orig_nbformat": 4
 },
 "nbformat": 4,
 "nbformat_minor": 2
}
