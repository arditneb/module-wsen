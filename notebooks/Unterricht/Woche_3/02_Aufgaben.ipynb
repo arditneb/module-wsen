{
 "cells": [
  {
   "cell_type": "markdown",
   "metadata": {},
   "source": [
    "# 1. Reisezeit\n",
    "\n",
    "Basierend auf Transportmethode braucht es mehr oder weniger Zeit um eine Strecke zurückzulegen.\n",
    "In diesem Programm soll der Benutzer die Transportmethode und die Strecke eingeben.\n",
    "Als Ausgabe soll die Reisezeit in Stunden und Minuten ausgegeben werden.\n",
    "\n",
    "| Transportmethode | Geschwindigkeit in km/h |\n",
    "|------------------|-------------------------|\n",
    "| Gehen (walk)             | 5                     |\n",
    "| Fahrrad (bike)              | 15                    |\n",
    "| Auto (car)             | 50                    |\n",
    "| Zug (train)              | 70                    |\n"
   ]
  },
  {
   "cell_type": "code",
   "execution_count": null,
   "metadata": {},
   "outputs": [
    {
     "name": "stdout",
     "output_type": "stream",
     "text": [
      "sehr gut\n"
     ]
    }
   ],
   "source": [
    "#4. Notenrechner\n",
    "#Schreibe ein Programm, das eine Note (1–6) vom Benutzer einliest und dann eine Textbewertung ausgibt:\n",
    "#6 → „Sehr gut“\n",
    "#5 → „Gut“\n",
    "#4 → „Genügend“\n",
    "#3 → „Ungenügend“\n",
    "#2 → „Schwach“\n",
    "#1 → „Sehr schwach“\n",
    "\n",
    "note = float(input(\"was ist deine note\"))\n",
    "if note == 6:\n",
    "    print (\"sehr gut\")\n",
    "elif note >= 5:\n",
    "    print (\"Gut\")\n",
    "elif note >= 4:\n",
    "    print (\"genügend\")\n",
    "elif note >= 3:\n",
    "    print (\"ungenügend\")\n",
    "elif note >= 2:\n",
    "    print (\"schwach\")\n",
    "elif note == 1:\n",
    "    print (\"sehr schwach\")\n"
   ]
  },
  {
   "cell_type": "code",
   "execution_count": 39,
   "metadata": {},
   "outputs": [
    {
     "name": "stdout",
     "output_type": "stream",
     "text": [
      "Verbrauch in kWh: 1200 gesammtkosten 290.0 Franken\n"
     ]
    }
   ],
   "source": [
    "#💡 5. Stromkostenrechner\n",
    "# Ein Benutzer gibt seinen Stromverbrauch (kWh) ein.\n",
    "# Der Preis beträgt:\n",
    "# 0.25 Fr. pro kWh bis 1000 kWh\n",
    "# 0.20 Fr. pro kWh für alles über 1000 kWh\n",
    "\n",
    "stromverbrauch = int(input(\"was ist dein Stromverbrauch\"))\n",
    "\n",
    "if stromverbrauch <= 1000:\n",
    "    print (\"Verbrauch in kWh:\", stromverbrauch, \"gesammtkosten\",stromverbrauch * 0.25, \"Franken\")\n",
    "\n",
    "\n",
    "elif stromverbrauch > 1000:\n",
    "    print (\"Verbrauch in kWh:\", stromverbrauch, \"gesammtkosten\", 1000 * 0.25 + (stromverbrauch -1000) * 0.2, \"Franken\")"
   ]
  },
  {
   "cell_type": "code",
   "execution_count": 44,
   "metadata": {},
   "outputs": [
    {
     "name": "stdout",
     "output_type": "stream",
     "text": [
      "deine gesamtkosten = 18.0375\n"
     ]
    }
   ],
   "source": [
    "# 🚗 6. Tankkostenrechner\n",
    "# Frage nach:\n",
    "#der gefahrenen Strecke (km),\n",
    "#dem Verbrauch pro 100 km (Liter),\n",
    "#dem Benzinpreis pro Liter (Fr.)..\n",
    "#Berechne die Gesamtkosten der Fahrt.\n",
    "#Beispiel:\n",
    "\n",
    "Streckee = int(input(\"wieviel km bist du gefahren\"))\n",
    "Verbrauch = float(input(\"was ist dein verbrauch\"))\n",
    "benzinpreis = float(input(\"was ist der benzinpreis in deiner umgebung\"))\n",
    "\n",
    "Gesamtkostenn = ((Streckee * Verbrauch) / 100 * benzinpreis)\n",
    "print (\"deine gesamtkosten =\", Gesamtkostenn)"
   ]
  },
  {
   "cell_type": "code",
   "execution_count": 46,
   "metadata": {},
   "outputs": [
    {
     "name": "stdout",
     "output_type": "stream",
     "text": [
      "dein alter = 20\n"
     ]
    }
   ],
   "source": [
    "#📅 7. Altersrechner\n",
    "#Lass den Benutzer sein Geburtsjahr eingeben.\n",
    "#Berechne dann sein Alter (aktuell im Jahr 2025).\n",
    "#Beispiel:\n",
    "\n",
    "Geburtsjahrr = int(input(\"was ist dein Geburtsjahr (aktuell im Jahr 2025)\"))\n",
    "monat = int(input(\"welchen monat bist du geburen (in zahl)\"))\n",
    "if monat >= 8:\n",
    "    print (\"dein alter =\", 2025 - Geburtsjahrr - 1)\n",
    "else:\n",
    "    print (\"dein alter =\", 2025 - Geburtsjahrr)\n"
   ]
  },
  {
   "cell_type": "code",
   "execution_count": 55,
   "metadata": {},
   "outputs": [
    {
     "name": "stdout",
     "output_type": "stream",
     "text": [
      "deine Gesammtkosten mit 12.0 Prozent Trinkgeld ist 96.75\n"
     ]
    }
   ],
   "source": [
    "#💰 9. Trinkgeldrechner\n",
    "#Frage den Rechnungsbetrag und den gewünschten Trinkgeld-Prozentsatz ab.\n",
    "#Berechne und gib die Gesamtsumme aus.\n",
    "\n",
    "Rechnungsbetragg = float(input(\"wieviel ist ihre rechnung\"))\n",
    "Trinkgeldd = float(input(\"wieviel Porzent wollen sie als Trinkgeld geben\"))\n",
    "\n",
    "Gesamtsumme = (Trinkgeldd / 100 * Rechnungsbetragg) + Rechnungsbetragg\n",
    "\n",
    "Gesamtsumme = round(Gesamtsumme / 0.05) * 0.05\n",
    "\n",
    "print (\"deine Gesammtkosten mit\", Trinkgeldd, \"Prozent Trinkgeld ist\", Gesamtsumme)"
   ]
  },
  {
   "cell_type": "code",
   "execution_count": null,
   "metadata": {},
   "outputs": [],
   "source": [
    "# 🔢 10. Zahlenraten mit mehreren Versuchen\n",
    "# Wie Aufgabe 8, aber:\n",
    "#der Benutzer darf 3-mal raten,\n",
    "#das Programm sagt nach jedem Versuch, ob die Zahl größer oder kleiner ist.\n",
    "\n"
   ]
  },
  {
   "cell_type": "code",
   "execution_count": null,
   "metadata": {},
   "outputs": [
    {
     "name": "stdout",
     "output_type": "stream",
     "text": [
      "deine reisezeit = 8.0\n"
     ]
    }
   ],
   "source": [
    "#bruache strecke in km\n",
    "#brauche transportmethode\n",
    "#soll reisezeit ausgeben\n",
    "#formel für reisezeit = reisezeit/geschwindigkeit\n",
    "\n",
    "\n",
    "\n",
    "\n",
    "transportmethode = input (\"welche transportmehtode brauchen sie\")\n",
    "reisezeit = float(input(\"wieviel km?\"))\n",
    "\n",
    "if transportmethode == \"walk\":\n",
    "    print (\"deine reisezeit =\", reisezeit / 5, \"stunden\")\n",
    "elif transportmethode == \"bike\":\n",
    "    print (\"deine reisezeit = \", reisezeit / 15, \"stunden\")\n",
    "elif transportmethode == \"car\":\n",
    "    print (\"deine reisezeit = \", reisezeit / 50, \"stunden\")\n",
    "elif transportmethode == \"zug\":\n",
    "    print (\"deine reisezeit = \", reisezeit / 70, \"stunden\")\n",
    "\n"
   ]
  },
  {
   "cell_type": "code",
   "execution_count": null,
   "metadata": {},
   "outputs": [],
   "source": [
    "\n",
    "\n",
    "\n",
    "\n",
    "\n",
    "\n",
    "\n",
    "\n",
    "\n",
    "\n",
    "\n",
    "\n",
    "\n",
    "\n",
    "\n",
    "\n",
    "\n"
   ]
  },
  {
   "cell_type": "code",
   "execution_count": 29,
   "metadata": {},
   "outputs": [
    {
     "name": "stdout",
     "output_type": "stream",
     "text": [
      "deine Reisezeit mit fahrrad= 1  Stunden 27 Minuten\n"
     ]
    }
   ],
   "source": [
    "# YOUR CODE HERE\n",
    "# brauche transportmethode, strecke, geschiwndigkeit\n",
    "# ausgeben: Reisezeit = strecke / geschwindigkeit\n",
    "\n",
    "transportmethode = input(\"welche Transpormethode nimmst du\")\n",
    "strecke = int(input(\"wieviel Kilometer fährst du\"))\n",
    "\n",
    "transportmethode_gehen = \"gehen\"\n",
    "transportmethode_fahrrad = \"fahrrad\"\n",
    "transportmethode_auto = \"auto\"\n",
    "transportmethode_zug = \"zug\"\n",
    "\n",
    "geschwindigkeit_gehen = 5\n",
    "geschwindigkeit_fahrrad = 15\n",
    "geschwindigkeit_auto = 50\n",
    "geschwindigkeit_zug = 70\n",
    "\n",
    "reisezeit_gehen = strecke / geschwindigkeit_gehen\n",
    "reisezeit_fahrrad = strecke /geschwindigkeit_fahrrad\n",
    "reisezeit_auto = strecke / geschwindigkeit_auto\n",
    "reisezeit_zug = strecke / geschwindigkeit_zug\n",
    "\n",
    "stunden_gehen = int(reisezeit_gehen)\n",
    "stunden_fahrrad = int(reisezeit_fahrrad)\n",
    "stunden_auto = int(reisezeit_auto)\n",
    "stunden_zug = int(reisezeit_zug)\n",
    "\n",
    "rest_gehen = int((reisezeit_gehen - stunden_gehen) *60)\n",
    "rest_fahrrad = int((reisezeit_fahrrad - stunden_fahrrad) * 60)\n",
    "rest_auto = int((reisezeit_auto - stunden_auto) * 60)\n",
    "rest_zug = int((reisezeit_zug- stunden_zug) * 60)\n",
    "\n",
    "if transportmethode == transportmethode_gehen:\n",
    "    print (\"deine Reisezeit beim gehen=\", stunden_gehen, \" Stunden\", rest_gehen, \"Minuten\")\n",
    "\n",
    "elif transportmethode == transportmethode_fahrrad:\n",
    "    print (\"deine Reisezeit mit fahrrad=\", stunden_fahrrad, \" Stunden\", rest_fahrrad, \"Minuten\")\n",
    "    \n",
    "elif transportmethode == transportmethode_auto:\n",
    "    print (\"deine Reisezeit mit auto=\", stunden_auto, \" Stunden\", rest_auto, \"Minuten\")\n",
    "    \n",
    "elif transportmethode == transportmethode_zug:\n",
    "    print (\"deine Reisezeit mit zug=\", stunden_zug, \" Stunden\", rest_zug, \" Minuten\")\n",
    "\n"
   ]
  },
  {
   "cell_type": "code",
   "execution_count": 8,
   "metadata": {},
   "outputs": [],
   "source": [
    "def evenNumber(myRange):\n",
    "\n",
    "    gerade_zahlen = myRange // 2+(myRange%2)\n",
    "    return gerade_zahlen\n",
    "\n"
   ]
  },
  {
   "cell_type": "code",
   "execution_count": 11,
   "metadata": {},
   "outputs": [
    {
     "name": "stdout",
     "output_type": "stream",
     "text": [
      "deine zahl ist gerade\n"
     ]
    }
   ],
   "source": [
    "zahl = int(input(\"gebe eine Zahl ein\"))\n",
    "if zahl % 2 == 0:\n",
    "    print(\"deine zahl ist gerade\")\n",
    "else:\n",
    "    print (\"deine Zahl ist ungerade\")"
   ]
  },
  {
   "cell_type": "markdown",
   "metadata": {},
   "source": [
    "# 2. Geldautomat \n",
    "## Einführung\n",
    "Bei dieser Aufgabe formulieren Sie verschiedene Berechnungsanweisungen abhängig von\n",
    "einer Benutzereingabe. Dabei kommen zwei verschiedene Divisions-Operationen zum Einsatz.\n",
    "\n",
    "## Aufgabenstellung\n",
    "In dieser Aufgabe sollen Sie einen Geldautomaten simulieren. Die Kundin oder der Kunde\n",
    "soll eingeben können, wie viel Geld er oder sie abheben möchte. Der Geldautomat soll\n",
    "dann berechnen, wie viele und welche Banknoten (100er, 50er, 20er und 10er) er ausgeben\n",
    "soll. Die Anzahl der verwendeten Variablen soll möglichst klein gehalten werden, indem\n",
    "sie wiederverwendet werden.\n",
    "So könnte beispielsweise die Ausgabe für den Betrag 571 aussehen:\n",
    "```\n",
    "WILLKOMMEN BEI DER BANK IHRES VERTRAUENS\n",
    "****************************************\n",
    "Wie viel möchten Sie abheben? 571\n",
    "Eingegebener Geldbetrag: 571 Fr.\n",
    "Bitte warten...\n",
    "Sie haben erhalten:\n",
    "100er 5\n",
    "50er 1\n",
    "20er 1\n",
    "10er 0\n",
    "Rest: 1\n",
    "```"
   ]
  },
  {
   "cell_type": "markdown",
   "metadata": {},
   "source": [
    "### Zwischenschritte\n",
    "Erstellen Sie eine Benutzereingabe für einen beliebigen Geldbetrag und speichern\n",
    "Sie den Wert in einer Variable. (Hinweis: Beachten Sie den Datentyp und die Namenskonventionen für Variablen (beschreibend, keine Leerzeichen, mit Buchstaben beginnend etc.).)"
   ]
  },
  {
   "cell_type": "code",
   "execution_count": 174,
   "metadata": {},
   "outputs": [],
   "source": [
    "### YOUR CODE HERE\n",
    "geldbetrag = int(input(\"Geldbetrag bitte\"))\n"
   ]
  },
  {
   "cell_type": "markdown",
   "metadata": {},
   "source": [
    "Geben Sie den eingegebenen Betrag auf der Konsole aus."
   ]
  },
  {
   "cell_type": "code",
   "execution_count": 175,
   "metadata": {},
   "outputs": [
    {
     "name": "stdout",
     "output_type": "stream",
     "text": [
      "190\n"
     ]
    }
   ],
   "source": [
    "### YOUR CODE HERE\n",
    "print (geldbetrag)"
   ]
  },
  {
   "cell_type": "code",
   "execution_count": 143,
   "metadata": {},
   "outputs": [],
   "source": [
    "### Berechnen Sie, wie viele 100er-Noten ausgegeben werden müssen. (Hinweis: Verwenden Sie den Divisions-Operator.)"
   ]
  },
  {
   "cell_type": "code",
   "execution_count": 176,
   "metadata": {},
   "outputs": [
    {
     "name": "stdout",
     "output_type": "stream",
     "text": [
      "1\n"
     ]
    }
   ],
   "source": [
    "### YOUR CODE HERE\n",
    "#anzahl 100er\n",
    "geldbetrag = geldbetrag /100\n",
    "print (int(geldbetrag))"
   ]
  },
  {
   "cell_type": "markdown",
   "metadata": {},
   "source": [
    "Berechnen Sie den Restbetrag, der nach der Ausgabe der 100er-Noten übrig bleibt."
   ]
  },
  {
   "cell_type": "code",
   "execution_count": 177,
   "metadata": {},
   "outputs": [
    {
     "name": "stdout",
     "output_type": "stream",
     "text": [
      "90\n"
     ]
    }
   ],
   "source": [
    "### YOUR CODE HERE\n",
    "# Restbetrag nach abzug 100er\n",
    "restbetrag = geldbetrag - (int(geldbetrag))\n",
    "restbetrag = restbetrag * 100\n",
    "print (round(restbetrag))"
   ]
  },
  {
   "cell_type": "markdown",
   "metadata": {},
   "source": [
    "Berechnen Sie analog die Anzahl der 50er-, 20er- und 10er-Noten und geben Sie die Resultate auf der Konsole aus. (Hinweis: Kopieren Sie die Berechnungen für die 100er-Noten und passen Sie sie an.)"
   ]
  },
  {
   "cell_type": "code",
   "execution_count": 278,
   "metadata": {},
   "outputs": [
    {
     "name": "stdout",
     "output_type": "stream",
     "text": [
      "\n",
      "WILLKOMMEN BEI DER BANK IHRES VERTRAUENS\n",
      "****************************************\n",
      "\n",
      "dein eingegebener wert: 571 Fr\n",
      "\n",
      "Bitte warten...\n",
      "Sie erhalten:\n",
      "\n",
      "5 hunderter\n",
      "1 fünfziger\n",
      "1 zwanziger\n",
      "0 zehner\n",
      "dein restbetrag ist: 1\n"
     ]
    }
   ],
   "source": [
    "### YOUR CODE HERE\n",
    "print ('''\n",
    "WILLKOMMEN BEI DER BANK IHRES VERTRAUENS\n",
    "****************************************\n",
    "'''\n",
    ")\n",
    "geldbetrag = int(input(\"Wie viel möchten sie abheben?\"))\n",
    "\n",
    "print (\"dein eingegebener wert:\", geldbetrag, \"Fr\")\n",
    "print ('''\n",
    "Bitte warten...\n",
    "Sie erhalten:\n",
    "''')\n",
    "\n",
    "geldbetrag = geldbetrag /100\n",
    "print (int(geldbetrag), \"hunderter\")\n",
    "\n",
    "#restbetrag berechnen:\n",
    "restbetrag = geldbetrag - (int(geldbetrag))\n",
    "restbetrag = restbetrag * 100\n",
    "\n",
    "\n",
    "\n",
    "if restbetrag <100:\n",
    "    anzahl50er = restbetrag / 50\n",
    "    print (int(anzahl50er), \"fünfziger\")\n",
    "    \n",
    "\n",
    "    anzahl50er = int(anzahl50er)\n",
    "    restbetrag = round(restbetrag - anzahl50er * 50)\n",
    "    \n",
    "\n",
    "else:\n",
    "    print (\"0 fünfziger\")\n",
    "\n",
    "\n",
    "if restbetrag <50 and restbetrag >= 20:\n",
    "    anzahl20er = restbetrag / 20\n",
    "    print (int(anzahl20er), \"zwanziger\")\n",
    "\n",
    "    anzahl20er = int(anzahl20er)\n",
    "    restbetrag = restbetrag - anzahl20er * 20\n",
    "    \n",
    "else:\n",
    "    print (\"0 zwanziger\")\n",
    "\n",
    "    \n",
    "        \n",
    "if restbetrag < 20 and restbetrag >= 10:\n",
    "    anzahl10er = restbetrag / 10\n",
    "    print (int(anzahl10er), \"zehner\")\n",
    "    \n",
    "    anzahl10er =int(anzahl10er)\n",
    "    restbetrag = restbetrag - anzahl10er * 10\n",
    "else:\n",
    "    print (\"0 zehner\")\n",
    "            \n",
    "\n",
    "if restbetrag <= 1:\n",
    "    print (\"dein restbetrag ist:\", (round(restbetrag)))\n",
    "\n",
    "\n",
    "\n",
    "\n",
    "\n",
    "\n",
    "\n",
    "##elif restbetrag <49:\n",
    "    ##anzahl20er = restbetrag / 20\n",
    "    ##print (int(anzahl20er), \"zwanziger\")\n",
    "\n"
   ]
  },
  {
   "cell_type": "markdown",
   "metadata": {},
   "source": [
    "### Erweiterungen\n",
    "**Hinweis**: Für diese Erweiterungen benötigen Sie *Bedingungsprüfungen*\n",
    "**Hinweis**: Ändern Sie obenstehend die entsprechenden Codeblocks"
   ]
  },
  {
   "cell_type": "markdown",
   "metadata": {},
   "source": [
    "- Überprüfen Sie nach der Eingabe des Geldbetrags, ob abgerundet werden muss und informieren Sie den Kunden über den tatsächlich ausgezahlten Betrag.\n",
    "- Lassen Sie nur Banknotenarten ausgeben, die auch wirklich benötigt werden. "
   ]
  },
  {
   "cell_type": "markdown",
   "metadata": {},
   "source": [
    "# 3. Taschenrechner\n",
    "\n",
    "Schreibe einen Taschenrechner, mit folgenden Eigenschaften:\n",
    "\n",
    "- Er fragt nach der ersten Zahl\n",
    "- Dann nach dem Operator (also +, -, /, und *)\n",
    "- Dann nach der zweiten Zahl\n",
    "- Anschliessend berechnet er das Resultat\n"
   ]
  },
  {
   "cell_type": "code",
   "execution_count": 308,
   "metadata": {},
   "outputs": [
    {
     "name": "stdout",
     "output_type": "stream",
     "text": [
      "leck mini eier\n"
     ]
    }
   ],
   "source": [
    "erste_zahl = (input(\"Gib erste zahl ein\"))\n",
    "operator = input(\"gib operator ein\")\n",
    "zweite_zahl = (input(\"Gib zweite zahl ein\"))\n",
    "\n",
    "if not erste_zahl.isdigit() or not zweite_zahl.isdigit():\n",
    "    print(\"leck mini eier\")\n",
    "\n",
    "else:\n",
    "    erste_zahl = float(erste_zahl)\n",
    "    zweite_zahl = float(zweite_zahl)\n",
    "\n",
    "    if operator == (\"+\"):\n",
    "        print (erste_zahl + zweite_zahl)\n",
    "    elif operator == (\"*\"):\n",
    "        print (erste_zahl * zweite_zahl)\n",
    "    elif operator == (\"-\"):\n",
    "        print (erste_zahl - zweite_zahl)\n",
    "    elif operator == (\"/\"):\n",
    "        print (erste_zahl / zweite_zahl)\n",
    "    else:\n",
    "        print (\"leck mini eier\")\n",
    "\n",
    "\n"
   ]
  },
  {
   "cell_type": "markdown",
   "metadata": {},
   "source": [
    "Schreibe ein Programm, das eine Note (1–6) vom Benutzer einliest und dann eine Textbewertung ausgibt:\n",
    "\n",
    "6 → „Sehr gut“\n",
    "\n",
    "5 → „Gut“\n",
    "\n",
    "4 → „Genügend“\n",
    "\n",
    "3 → „Ungenügend“\n",
    "\n",
    "2 → „Schwach“\n",
    "\n",
    "1 → „Sehr schwach“"
   ]
  },
  {
   "cell_type": "code",
   "execution_count": null,
   "metadata": {},
   "outputs": [],
   "source": []
  },
  {
   "cell_type": "markdown",
   "metadata": {},
   "source": []
  }
 ],
 "metadata": {
  "kernelspec": {
   "display_name": ".venv",
   "language": "python",
   "name": "python3"
  },
  "language_info": {
   "codemirror_mode": {
    "name": "ipython",
    "version": 3
   },
   "file_extension": ".py",
   "mimetype": "text/x-python",
   "name": "python",
   "nbconvert_exporter": "python",
   "pygments_lexer": "ipython3",
   "version": "3.13.1"
  },
  "orig_nbformat": 4
 },
 "nbformat": 4,
 "nbformat_minor": 2
}
