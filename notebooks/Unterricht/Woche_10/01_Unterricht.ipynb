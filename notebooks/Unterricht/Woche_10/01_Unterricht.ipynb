{
 "cells": [
  {
   "cell_type": "markdown",
   "metadata": {},
   "source": [
    "## 1. Funktionen als Objekte\n",
    "Wir können in Python mit Funktionen all dies tun, was wir auch mit Variablen machen: Wir können sie in einer Zuweisung verwenden,sie als Funktionsargument übergeben oder als Resultat einer Funktion zurückgeben. Man nennt Funktionen deshalb \"first class citizens\", Bürger erster Klasse. Wie man dies verwenden kann, zeigen wir in diesem Abschnitt."
   ]
  },
  {
   "cell_type": "markdown",
   "metadata": {},
   "source": [
    "### 1.1 Funktionen in Variablenzuweisung\n",
    "Wir können Funktionen ganz einfach einer Variable zuweisen. Die neu definierte Variable kann man anschliessend wie eine Funktion verwenden. Hierzu ein Beispiel:"
   ]
  },
  {
   "cell_type": "code",
   "execution_count": null,
   "metadata": {},
   "outputs": [],
   "source": [
    "neues_print = print\n"
   ]
  },
  {
   "cell_type": "code",
   "execution_count": null,
   "metadata": {},
   "outputs": [],
   "source": [
    "neues_print = print\n",
    "neues_print(\"hallo welt\")"
   ]
  },
  {
   "cell_type": "markdown",
   "metadata": {},
   "source": [
    "Dies können wir auch mit einer Funktion tun, welche wir selbst definiert haben:"
   ]
  },
  {
   "cell_type": "code",
   "execution_count": null,
   "metadata": {},
   "outputs": [],
   "source": [
    "def eine_funktion(a, b):\n",
    "    return a + b\n",
    "\n",
    "neue_funktion = eine_funktion  # die Funktion wird hier nicht aufgerufen!"
   ]
  },
  {
   "cell_type": "code",
   "execution_count": null,
   "metadata": {},
   "outputs": [],
   "source": [
    "neue_funktion(1, 3)"
   ]
  },
  {
   "cell_type": "markdown",
   "metadata": {},
   "source": [
    "### 1.2 Funktionen als Funktionsargumente übergeben\n",
    "Genauso können wir Funktionen als Funktionsargumente übergeben und entgegennehmen. Hier ist ein Beispiel, weshalb dies nützlich sein kann. Stellt euch vor, wir wollen eine Funktion schreiben, welche die Elemente einer Liste quadriert und anschliessend zurückgibt.\n",
    "\n",
    "Die Funktion sieht wie folgt aus:"
   ]
  },
  {
   "cell_type": "code",
   "execution_count": null,
   "metadata": {},
   "outputs": [],
   "source": [
    "def summe_quadrate(liste):\n",
    "    transformierte_liste = [\n",
    "        e * e for e in liste\n",
    "    ]\n",
    "    return sum(transformierte_liste)"
   ]
  },
  {
   "cell_type": "code",
   "execution_count": null,
   "metadata": {},
   "outputs": [],
   "source": [
    "summe_quadrate([1, 3, 4])"
   ]
  },
  {
   "cell_type": "markdown",
   "metadata": {},
   "source": [
    "Nun wollen wir eine zweite Funktion, welche die Summe aller Inverswerte berechnet:"
   ]
  },
  {
   "cell_type": "code",
   "execution_count": null,
   "metadata": {},
   "outputs": [],
   "source": [
    "def summe_inverse(liste):\n",
    "    transformierte_liste = [\n",
    "        1 / e for e in liste\n",
    "    ]\n",
    "    return sum(transformierte_liste)"
   ]
  },
  {
   "cell_type": "code",
   "execution_count": null,
   "metadata": {},
   "outputs": [],
   "source": [
    "summe_inverse([1, 2, 4])"
   ]
  },
  {
   "cell_type": "markdown",
   "metadata": {},
   "source": [
    "Und noch eine dritte Funktion, welche die Summe aller Quadratwurzeln berechnet:"
   ]
  },
  {
   "cell_type": "code",
   "execution_count": null,
   "metadata": {},
   "outputs": [],
   "source": [
    "def summe_quadratwurzel(liste):\n",
    "    transformierte_liste = [\n",
    "        e ** (1/2) for e in liste\n",
    "    ]\n",
    "    return sum(transformierte_liste)"
   ]
  },
  {
   "cell_type": "markdown",
   "metadata": {},
   "source": [
    "All diese drei Funktionen haben dieselbe Struktur: Zuerst wird eine Liste mit einer Funktion transformiert, und anschliessend die Summe zurückgegeben. Damit wir nicht fast dieselbe Funktion dreimal definieren können, können wir die transformierende Funktion als zusätzliches Funktionsargument übergeben. Dies sieht wie folgt aus:"
   ]
  },
  {
   "cell_type": "code",
   "execution_count": null,
   "metadata": {},
   "outputs": [],
   "source": [
    "def quadrat(ajdskflöjklöads):\n",
    "    return ajdskflöjklöads ** 2"
   ]
  },
  {
   "cell_type": "code",
   "execution_count": null,
   "metadata": {},
   "outputs": [],
   "source": [
    "def summe_transformiert(liste, transformation):\n",
    "    \"\"\"transformation is a function.\"\"\"\n",
    "    transformierte_liste = [\n",
    "        transformation(e)  # wir rufen die Funktion transformation auf\n",
    "        for e in liste\n",
    "    ]\n",
    "    return sum(transformierte_liste)"
   ]
  },
  {
   "cell_type": "markdown",
   "metadata": {},
   "source": [
    "Wenn wir die Funktion nun aufrufen wollen, müssen wir als zweites Funktionsargument eine andere Funktion übergeben. Um die Summe aller Quadratzahlen zu berechnen, gehen wir wie folgt vor:"
   ]
  },
  {
   "cell_type": "code",
   "execution_count": null,
   "metadata": {},
   "outputs": [],
   "source": [
    "def quadrat(a):\n",
    "    return a * a\n",
    "\n",
    "summe_transformiert([1, 3, 4], quadrat)"
   ]
  },
  {
   "cell_type": "code",
   "execution_count": null,
   "metadata": {},
   "outputs": [],
   "source": [
    "transformation"
   ]
  },
  {
   "cell_type": "code",
   "execution_count": null,
   "metadata": {},
   "outputs": [],
   "source": [
    "def inverse(a):\n",
    "    return 1/a\n",
    "\n",
    "summe_transformiert([1, 3, 4], inverse)"
   ]
  },
  {
   "cell_type": "markdown",
   "metadata": {},
   "source": [
    "Wir definieren also eine Funktion \"quadrat\" und übergeben diese der \"summe_transformatiert\"-Funktion."
   ]
  },
  {
   "cell_type": "markdown",
   "metadata": {},
   "source": [
    "Nun wollen wir vielleicht aber nicht nur die Summe berechnen können, sondern z.B. auch das Maximum oder den Durchschnitt der transformierten Werte berechnen. Dazu fügen wir unserer Funktion ein drittes Argument hinzu, welches definiert, wie wir die Liste aggregieren."
   ]
  },
  {
   "cell_type": "code",
   "execution_count": null,
   "metadata": {},
   "outputs": [],
   "source": [
    "def transformation_aggregation(\n",
    "    liste,\n",
    "    transformation,\n",
    "    aggregation,\n",
    "):\n",
    "    \"\"\"Transformiert die Liste mit der Funktion transformation, und aggregiert sie mit aggregation.\"\"\"\n",
    "    transformiert = [transformation(e) for e in liste]\n",
    "    return aggregation(transformiert)"
   ]
  },
  {
   "cell_type": "markdown",
   "metadata": {},
   "source": [
    "Mit dieser Funktion können wir die Summe der Quadratzahlen wie folgt berechnen:"
   ]
  },
  {
   "cell_type": "code",
   "execution_count": null,
   "metadata": {},
   "outputs": [],
   "source": [
    "transformation_aggregation([1, 2, 3], quadrat, min)"
   ]
  },
  {
   "cell_type": "markdown",
   "metadata": {},
   "source": [
    "Die grösste der Quadratzahlen identifizieren wir so:"
   ]
  },
  {
   "cell_type": "code",
   "execution_count": null,
   "metadata": {},
   "outputs": [],
   "source": [
    "transformation_aggregation([1, 2, 3], quadrat, max)"
   ]
  },
  {
   "cell_type": "markdown",
   "metadata": {},
   "source": [
    "<br><br><br>\n",
    "\n",
    "<div class=\"exercise\">\n",
    "\n",
    "<img src=\"https://i.imgur.com/JyhBeDB.png\" class=\"exercise_image\" width=100>\n",
    "\n",
    "<span class=\"exercise_label\">**Aufgabe:**</span>\n",
    "Nutze die Funktion `transformation_aggregation`, um folgende Dinge zu berechnen:\n",
    "\n",
    "- Der kleinste Wert aller Quadratzahlen der Liste `[523, -219, 723]`\n",
    "- Die Summe aller Inverswerte der Liste `[4, 16, 256]`\n",
    "- Der Durchschnitt aller Absolutwerte der Liste `[2, -5, -8, 4]`\n",
    "\n",
    "</div>"
   ]
  },
  {
   "cell_type": "markdown",
   "metadata": {},
   "source": [
    "<br><br><br>\n",
    "\n",
    "<div class=\"exercise\">\n",
    "\n",
    "<img src=\"https://i.imgur.com/JyhBeDB.png\" class=\"exercise_image\" width=100>\n",
    "\n",
    "<span class=\"exercise_label\">**Aufgabe:**</span>\n",
    "Schreibe eine Funktion `transformations_dictionary`, welche eine Liste und eine Funktion entgegennimmt. Deine Funktion soll daraus einen Dictionary erstellen, wobei der Key jeweils der Wert in der Liste ist, und der Value der transformierte Wert.\n",
    "\n",
    "Beispiel eines Funktionsaufrufs:\n",
    "```python\n",
    "transformations_dictionary([1, 2, 3], quadrat) \n",
    "\n",
    "# wird zu\n",
    "{\n",
    "    1: 1,\n",
    "    2: 4,\n",
    "    3: 9,\n",
    "}\n",
    "```\n",
    "\n",
    "\n",
    "</div>"
   ]
  },
  {
   "cell_type": "markdown",
   "metadata": {},
   "source": [
    "<br><br><br>\n",
    "\n",
    "<div class=\"exercise\">\n",
    "\n",
    "<img src=\"https://i.imgur.com/JyhBeDB.png\" class=\"exercise_image\" width=100>\n",
    "\n",
    "<span class=\"exercise_label\">**Aufgabe:**</span>\n",
    "Schreibe eine Funktion `filter_liste`, welche eine Liste und eine Funktion entgegennimmt. Die Funktion nimmt jeweils einen Wert entgegen, und gibt entweder `True` oder `False` zurück. Gib eine Liste mit denjenigen Werten zurück, für die die Funktion `True` zurückgibt.\n",
    "\n",
    "Beispiel:\n",
    "\n",
    "```python\n",
    "def is_positive(x):\n",
    "    return x > 0\n",
    "\n",
    "filter_liste([1, -3, 2, -4], is_positive)\n",
    "\n",
    "# wird zu\n",
    "[1, 2]\n",
    "```\n",
    "\n",
    "Verwende die Funktion, um alle ganzen Zahlen der Liste `[5, 3, 2, 6, 9, 4]` zu erhalten.\n",
    "\n",
    "</div>"
   ]
  },
  {
   "cell_type": "markdown",
   "metadata": {},
   "source": [
    "### 1.3 `lambda`-Funktionen\n",
    "Wenn wir nun eine Funktion einer anderen Funktion übergeben wollten, mussten wir diese separat definieren und benennen. Als Beispiel: Um die Summe aller Quadratzahlen zu erhalten, mussten wir die Funktion `quadrat` definieren - obwohl wir sie vielleicht anschliessend nie mehr verwenden wollen."
   ]
  },
  {
   "cell_type": "code",
   "execution_count": null,
   "metadata": {},
   "outputs": [],
   "source": [
    "def quadrat(a):\n",
    "    return a * a\n",
    "\n",
    "summe_transformiert([1, 3, 4], quadrat)"
   ]
  },
  {
   "cell_type": "markdown",
   "metadata": {},
   "source": [
    "Damit wir dies nicht zwingend tun müssen und einfache Funktionen auch sehr kurz definieren können, gibt es in Python sogenannte \"anonyme Funktionen\" - also Funktionen, welche keinen Namen erhalten. Diese Funktionen definieren wir mit dem Stichwort `lambda` und werden deshalb auch oft als `lambda`-Funktionen bezeichnet.\n",
    "\n",
    "Hier ist ein Beispiel einer `lambda`-Funktion, welche die Quadratzahl einer Zahl berechnet."
   ]
  },
  {
   "cell_type": "code",
   "execution_count": null,
   "metadata": {},
   "outputs": [],
   "source": [
    "lambda a: a * a"
   ]
  },
  {
   "cell_type": "markdown",
   "metadata": {},
   "source": [
    "Die Syntax ist also die folgende: Wir schreiben das Stichwort `lambda`, gefolgt von Funktionsargumenten. Anschliessend kommt ein Doppelpunkt, und direkt nach dem Doppelpunkt kommt der Wert, den die Funktion zurückgeben soll.\n",
    "\n",
    "Wir können die Funktion nun an `summe_transformiert` übergeben:"
   ]
  },
  {
   "cell_type": "code",
   "execution_count": null,
   "metadata": {},
   "outputs": [],
   "source": [
    "summe_transformiert([1, 2, 3], lambda a: a * a)"
   ]
  },
  {
   "cell_type": "markdown",
   "metadata": {},
   "source": [
    "Wir können nun ganz einfach beliebige Transformationen machen. Hier zum Beispiel die Summe aller Negativwerte:"
   ]
  },
  {
   "cell_type": "code",
   "execution_count": null,
   "metadata": {},
   "outputs": [],
   "source": [
    "summe_transformiert([1, 2, 3], lambda a: -a)"
   ]
  },
  {
   "cell_type": "markdown",
   "metadata": {},
   "source": [
    "Wenn wir aus irgendwelchem Grund die Funktionen dennoch benennen wollen, können wir dazu einfach eine Variablenzuweisung verwenden:"
   ]
  },
  {
   "cell_type": "code",
   "execution_count": null,
   "metadata": {},
   "outputs": [],
   "source": [
    "negativwert = lambda a: -a\n",
    "negativwert(5)"
   ]
  },
  {
   "cell_type": "markdown",
   "metadata": {},
   "source": [
    "Dies ist genau dasselbe wie: \n",
    "```python\n",
    "def negativwert(a):\n",
    "    return -a\n",
    "```"
   ]
  },
  {
   "cell_type": "code",
   "execution_count": null,
   "metadata": {},
   "outputs": [],
   "source": [
    "f = lambda a: -a "
   ]
  },
  {
   "cell_type": "code",
   "execution_count": null,
   "metadata": {},
   "outputs": [],
   "source": [
    "f()"
   ]
  },
  {
   "cell_type": "markdown",
   "metadata": {},
   "source": [
    "<br><br><br>\n",
    "\n",
    "<div class=\"exercise\">\n",
    "\n",
    "<img src=\"https://i.imgur.com/JyhBeDB.png\" class=\"exercise_image\" width=100>\n",
    "\n",
    "<span class=\"exercise_label\">**Aufgabe:**</span>\n",
    "Schreibe folgende Funktionen als `lambda`-Funktionen um:\n",
    "```python\n",
    "def is_positive(x):\n",
    "    return x > 0\n",
    "\n",
    "def average(some_list):\n",
    "    return sum(some_list) / len(some_list)\n",
    "\n",
    "def ratio(a, b):\n",
    "    return a / b\n",
    "\n",
    "def say_hello():\n",
    "    print(\"hello\")\n",
    "\n",
    "```\n",
    "\n",
    "</div>"
   ]
  },
  {
   "cell_type": "markdown",
   "metadata": {},
   "source": [
    "### 1.4 Conditional Expressions\n",
    "Das Problem mit `lambda`-Funktionen ist aber, dass wir nur eine einzige Berechnung durchführen können und diese anschliessend wieder zurückgeben müssen. Wir können keine Zwischenresultate abspeichern. Auch `while`-Loops können wir nicht berechnen und `for`-Loops sind nur in Form von Comprehensions möglich. Für allen anderen Fällen müssen wir wie gehabt eine \"normale\" Funktion definieren. \n",
    "\n",
    "Ein Fall kommt aber sehr häufig vor, weshalb Python dafür eine Lösung bereit hat: `if`/`else`-Blöcke können wir mit sogenannten \"Conditional Expressions\" (bedingte Ausdrücke) umsetzen. Eine Conditional Expression sieht wie folgt aus:"
   ]
  },
  {
   "cell_type": "code",
   "execution_count": null,
   "metadata": {},
   "outputs": [],
   "source": [
    "a = -3\n",
    "\n",
    "# Conditional Expression\n",
    "\"positiv\" if a >= 0 else \"negativ\""
   ]
  },
  {
   "cell_type": "markdown",
   "metadata": {},
   "source": [
    "Wir können das Resultat einer Conditional Expression auch abspeichern:"
   ]
  },
  {
   "cell_type": "code",
   "execution_count": null,
   "metadata": {},
   "outputs": [],
   "source": [
    "resultat = \"positiv\" if a >= 0 else \"negativ\""
   ]
  },
  {
   "cell_type": "markdown",
   "metadata": {},
   "source": [
    "Zum Vergleich: Dies macht dasselbe wie folgender Code-Block: "
   ]
  },
  {
   "cell_type": "code",
   "execution_count": null,
   "metadata": {},
   "outputs": [],
   "source": [
    "if a >= 0:\n",
    "    resultat = \"positiv\"\n",
    "else:\n",
    "    resultat = \"negativ\""
   ]
  },
  {
   "cell_type": "markdown",
   "metadata": {},
   "source": [
    "Der Vorteil: Es handelt sich um einen einzigen Ausdruck, welcher direkt den gewünschten Wert zurückgibt. Dadurch können wir ihn auch in einer `lambda`-Funktion verwenden:"
   ]
  },
  {
   "cell_type": "code",
   "execution_count": null,
   "metadata": {},
   "outputs": [],
   "source": [
    "ist_positiv = lambda a: \"positiv\" if a >= 0 else \"negativ\""
   ]
  },
  {
   "cell_type": "code",
   "execution_count": null,
   "metadata": {},
   "outputs": [],
   "source": [
    "ist_positiv(5)"
   ]
  },
  {
   "cell_type": "code",
   "execution_count": null,
   "metadata": {},
   "outputs": [],
   "source": [
    "ist_positiv(-1)"
   ]
  },
  {
   "cell_type": "markdown",
   "metadata": {},
   "source": [
    "Wir können Conditional Expressions auch in `for`-Comprehensions verwenden:"
   ]
  },
  {
   "cell_type": "code",
   "execution_count": null,
   "metadata": {},
   "outputs": [],
   "source": [
    "[\"greater_than_2\" if e >= 2 else \"smaller_than_2\" for e in (1, 2, 3)]"
   ]
  },
  {
   "cell_type": "code",
   "execution_count": null,
   "metadata": {},
   "outputs": [],
   "source": [
    "beispiel_liste = [1, 5, -3, 2, 7]\n",
    "\n",
    "positiv_oder_negativ = {\n",
    "    e: \"positiv\" if e >= 0 else \"negativ\"\n",
    "    for e in beispiel_liste   \n",
    "}\n",
    "positiv_oder_negativ"
   ]
  },
  {
   "cell_type": "markdown",
   "metadata": {},
   "source": [
    "Aber: Conditional Expressions sind deutlich schwieriger zu lesen als \"traditionelle\" if/else-Blöcke. Daher sollten sie nur verwendet werden, wenn dies absolut notwendig ist."
   ]
  },
  {
   "cell_type": "code",
   "execution_count": null,
   "metadata": {},
   "outputs": [],
   "source": [
    "e = 5\n",
    "\"positiv\" if e >= 0 else \"smaller_than_-10\" if e < -10 else \"-10<x<0\""
   ]
  },
  {
   "cell_type": "markdown",
   "metadata": {},
   "source": [
    "<br><br><br>\n",
    "\n",
    "<div class=\"exercise\">\n",
    "\n",
    "<img src=\"https://i.imgur.com/JyhBeDB.png\" class=\"exercise_image\" width=100>\n",
    "\n",
    "<span class=\"exercise_label\">**Aufgabe:**</span>\n",
    "Schreibe folgende Ausdrücke als `lambda`-Funktionen um:\n",
    "```python\n",
    "def ratio(a, b):\n",
    "    if b != 0:\n",
    "        return a / b\n",
    "    return 0\n",
    "\n",
    "def pensionsalter(geschlecht):\n",
    "    if geschlecht==\"m\":\n",
    "        return 65\n",
    "    else:\n",
    "        return 64\n",
    "\n",
    "def verhaeltnis(a, b):\n",
    "    if a > b:\n",
    "        return \"a ist grösser als b\"\n",
    "    elif a < b:\n",
    "        return \"a ist kleiner als b\"\n",
    "    else:\n",
    "        return \"a ist gleich b\"\n",
    "```\n",
    "</div>"
   ]
  },
  {
   "cell_type": "markdown",
   "metadata": {},
   "source": [
    "### 1.5 Funktionen, welche Funktionen zurückgeben\n",
    "Wir können Funktionen nicht nur als Funktionsparameter an andere Funktionen übergeben, sondern wir können auch eine Funktion machen, welche eine andere Funktion zurückgibt.\n",
    "\n",
    "Um zu zeigen, wieso dies Sinn macht, verwenden wir wieder das Beispiel von `summe_transformiert`. Die Definition der Funktion lautete wie folgt:"
   ]
  },
  {
   "cell_type": "code",
   "execution_count": null,
   "metadata": {},
   "outputs": [],
   "source": [
    "def summe_transformiert(liste, transformation):\n",
    "    transformierte_liste = [\n",
    "        transformation(e)  # wir rufen die Funktion transformation auf\n",
    "        for e in liste\n",
    "    ]\n",
    "    return sum(transformierte_liste)"
   ]
  },
  {
   "cell_type": "markdown",
   "metadata": {},
   "source": [
    "Um die Summe der Quadratwerte zu berechnen, können wir die Funktion wie folgt verwenden:"
   ]
  },
  {
   "cell_type": "code",
   "execution_count": null,
   "metadata": {},
   "outputs": [],
   "source": [
    "summe_transformiert([1, 2, 3], lambda x: x * x)"
   ]
  },
  {
   "cell_type": "markdown",
   "metadata": {},
   "source": [
    "Wenn wir nun allerdings sehr häufig die Summe der Quadratzahlen berechnen wollen, wollen wir nicht immer zwingend die Lambda-Funktion mitgeben. Dies lösen wir, indem wir die Funktion wie folgt umschreiben:"
   ]
  },
  {
   "cell_type": "code",
   "execution_count": null,
   "metadata": {},
   "outputs": [],
   "source": [
    "def summe_transformiert(transformation):\n",
    "    \n",
    "    def resultat(liste):\n",
    "        return sum([\n",
    "            transformation(e)  # wir rufen die Funktion transformation auf\n",
    "            for e in liste\n",
    "        ])\n",
    "    \n",
    "    return resultat"
   ]
  },
  {
   "cell_type": "markdown",
   "metadata": {},
   "source": [
    "Was hat sich geändert? Die Funktion nimmt nur noch ein Argument entgegen, und zwar `transformation`. Anschliessend wird eine neue Funktion zurückgegeben, welche eine Liste entgegennimmt, diese mit der Transformation transformiert und die Summe zurückgibt. \n",
    "\n",
    "Wir können die Funktion nicht mehr mit `summe_transformiert([1, 2, 3], lambda x: x*x)` aufrufen. Stattdessen rufen wir zuerst die äussere Funktion auf, um die Funktion `summe_quadrat` zu erzeugen. Diese können wir dann mehrmals mit beliebigen Listen anwenden:"
   ]
  },
  {
   "cell_type": "code",
   "execution_count": null,
   "metadata": {},
   "outputs": [],
   "source": [
    "summe_quadrat = summe_transformiert(lambda x: x * x)"
   ]
  },
  {
   "cell_type": "code",
   "execution_count": null,
   "metadata": {},
   "outputs": [],
   "source": [
    "summe_quadrat([1, 2, 3])"
   ]
  },
  {
   "cell_type": "code",
   "execution_count": null,
   "metadata": {},
   "outputs": [],
   "source": [
    "summe_quadrat([0, 2, 5])"
   ]
  },
  {
   "cell_type": "code",
   "execution_count": null,
   "metadata": {},
   "outputs": [],
   "source": [
    "summe_inverse2 = summe_transformiert(lambda x: 1 / x)"
   ]
  },
  {
   "cell_type": "code",
   "execution_count": null,
   "metadata": {},
   "outputs": [],
   "source": [
    "summe_inverse2([1, 2, 3])"
   ]
  },
  {
   "cell_type": "markdown",
   "metadata": {},
   "source": [
    "Wenn wir nicht die Variable `summe_quadrat` definieren wollen, können wir auch die zwei Funktionsaufrufe gleich nacheinander ausführen:"
   ]
  },
  {
   "cell_type": "code",
   "execution_count": null,
   "metadata": {},
   "outputs": [],
   "source": [
    "summe_transformiert(lambda x: x * x)([0, 2, 5])"
   ]
  },
  {
   "cell_type": "code",
   "execution_count": null,
   "metadata": {},
   "outputs": [],
   "source": [
    "summe_transformiert(lambda x: x * x)([1, 2, 3])"
   ]
  },
  {
   "cell_type": "markdown",
   "metadata": {},
   "source": [
    "Hier ist eine zweite Beispielanwendung, welche einen Taschenrechner implementiert:"
   ]
  },
  {
   "cell_type": "code",
   "execution_count": null,
   "metadata": {},
   "outputs": [],
   "source": [
    "def zahl_abfragen():\n",
    "    return float(input(\"Gib eine Zahl ein\"))\n",
    "\n",
    "def operator_abfragen():\n",
    "    string = input(\"Gib einen Operator ein\")\n",
    "    if string == \"+\":\n",
    "        return lambda a, b: a + b\n",
    "    if string == \"-\":\n",
    "        return lambda a, b: a - b\n",
    "    if string == \"*\":\n",
    "        return lambda a, b: a * b\n",
    "    if string == \"/\":\n",
    "        return lambda a, b: a / b\n",
    "    \n",
    "    raise ValueError(\"Operator wurde nicht erkannt.\")\n",
    "\n",
    "\n",
    "def taschenrechner():\n",
    "    a = zahl_abfragen()\n",
    "    operator = operator_abfragen()\n",
    "    b = zahl_abfragen()\n",
    "    resultat = operator(a, b)  # Operator ist eine Funktion, welche wir mit a und b aufrufen können\n",
    "    print(\"Resultat:\", resultat)\n",
    "\n",
    "taschenrechner()"
   ]
  },
  {
   "cell_type": "markdown",
   "metadata": {},
   "source": [
    "Wir sehen, dass `operator_abfragen` eine Funktion zurückgibt, welche zwei Zahlen wie gewünscht zusammenrechnet. In der Funktion `taschenrechner` rufen wir anschliessend die Funktion mit den zwei eingegebenen Zahlen auf, um das Resultat zu berechnen."
   ]
  },
  {
   "cell_type": "markdown",
   "metadata": {},
   "source": [
    "<br><br><br>\n",
    "\n",
    "<div class=\"exercise\">\n",
    "\n",
    "<img src=\"https://i.imgur.com/JyhBeDB.png\" class=\"exercise_image\" width=100>\n",
    "\n",
    "<span class=\"exercise_label\">**Aufgabe:**</span>\n",
    "Sind folgende Ausdrücke zulässig? Was ist das Resultat?\n",
    "\n",
    "```python\n",
    "def funktion(a):\n",
    "    return lambda b: a + b\n",
    "\n",
    "# a\n",
    "resultat = funktion(5)\n",
    "print(resultat)\n",
    "\n",
    "# b\n",
    "resultat = funktion(5)\n",
    "print(resultat(3))\n",
    "\n",
    "# c\n",
    "print(funktion(5, 3))\n",
    "\n",
    "# d\n",
    "print(funktion(5)(3))\n",
    "```\n",
    "\n",
    "</div>"
   ]
  },
  {
   "cell_type": "markdown",
   "metadata": {},
   "source": [
    "## 2. Rekursion\n",
    "\n",
    "Rekursion nennt man, wenn eine Funktion sich selbst wieder aufruft. Dies ist sehr vielseitig einsetzbar, aber zu Beginn etwas schwierig zu verstehen. \n",
    "\n",
    "### 2.1 Ein erstes Beispiel\n",
    "Beginnen wir gleich mit einer Aufgabe:"
   ]
  },
  {
   "cell_type": "markdown",
   "metadata": {},
   "source": [
    "<br><br><br>\n",
    "\n",
    "<div class=\"exercise\">\n",
    "\n",
    "<img src=\"https://i.imgur.com/JyhBeDB.png\" class=\"exercise_image\" width=100>\n",
    "\n",
    "<span class=\"exercise_label\">**Aufgabe:**</span>\n",
    "Wir haben folgende Funktionsdefinition:\n",
    "```python\n",
    "def funktion(a):\n",
    "    if a <= 0:\n",
    "        return 0\n",
    "    else:\n",
    "        return a + funktion(a - 1)\n",
    "\n",
    "```\n",
    "\n",
    "Wenn wir die Funktion mit folgenden Werten aufrufen, was ist das Resultat?\n",
    "\n",
    "```python\n",
    "funktion(-3)\n",
    "funktion(0)\n",
    "funktion(1)\n",
    "funktion(3)\n",
    "```\n",
    "Was macht die Funktion?\n",
    "\n",
    "</div>"
   ]
  },
  {
   "cell_type": "code",
   "execution_count": null,
   "metadata": {},
   "outputs": [],
   "source": [
    "def funktion(a):\n",
    "    if a == 0:\n",
    "        return 0\n",
    "    else:\n",
    "        return a + funktion(a - 1)\n"
   ]
  },
  {
   "cell_type": "code",
   "execution_count": null,
   "metadata": {},
   "outputs": [],
   "source": [
    "result = 0\n",
    "for i in range(4):\n",
    "    result = result + i"
   ]
  },
  {
   "cell_type": "code",
   "execution_count": null,
   "metadata": {},
   "outputs": [],
   "source": [
    "result"
   ]
  },
  {
   "cell_type": "markdown",
   "metadata": {},
   "source": [
    "Diese Funktion ist rekursiv, da sie sich selbst aufruft. Dadurch können wir eine Art Schleife machen, ohne einen `for`- oder `while`-Loop zu verwenden.\n",
    "\n",
    "### 2.2 `RecursionError`\n",
    "\n",
    "Genauso wie wir einen unendlichen Loop haben können, können wir auch unendlich lange Rekursionen haben. Daher braucht eine Rekursion immer ein Stop-Kriterion, nachdem die Funktion nicht mehr selbst aufgerufen wird. Im Fall von oben ist das Stop-Kriterion `if a <= 0`, danach wird `0` zurückgegeben und die Rekursion wird beendet. Wenn wir die Funktion ohne das Stop-Kriterion definieren, geht dies zunächst gut:"
   ]
  },
  {
   "cell_type": "code",
   "execution_count": null,
   "metadata": {},
   "outputs": [],
   "source": [
    "def funktion(a):\n",
    "    return a + funktion(a - 1)\n"
   ]
  },
  {
   "cell_type": "markdown",
   "metadata": {},
   "source": [
    "Beim Funktionsaufruf gibt es uns allerdings einen `RecursionError`:"
   ]
  },
  {
   "cell_type": "code",
   "execution_count": null,
   "metadata": {},
   "outputs": [],
   "source": [
    "funktion(4)"
   ]
  },
  {
   "cell_type": "markdown",
   "metadata": {},
   "source": [
    "### 2.3 Weitere Beispiele"
   ]
  },
  {
   "cell_type": "markdown",
   "metadata": {},
   "source": [
    "<div class=\"exercise\">\n",
    "\n",
    "<img src=\"https://i.imgur.com/JyhBeDB.png\" class=\"exercise_image\" width=100>\n",
    "\n",
    "<span class=\"exercise_label\">**Aufgabe:**</span>\n",
    "Für folgende rekursive Funktionen:\n",
    "- Identifiziere das Stopp-Kriterion\n",
    "- Spiele von Hand ein paar einfache Beispiele durch\n",
    "- Sage schliesslich, was die Funktion macht\n",
    "\n",
    "```python\n",
    "\n",
    "def rekursiv1(zahl):\n",
    "    if zahl <= 0:\n",
    "        return 1\n",
    "    return zahl * rekursiv1(zahl-1)\n",
    "\n",
    "def rekursiv2(liste):\n",
    "    if len(liste) == 0:\n",
    "        return 0\n",
    "    \n",
    "    erstes_element = liste[0]\n",
    "    rest = liste[1:]\n",
    "    return erstes_element + rekursiv2(rest)\n",
    "\n",
    "def rekursiv3(f, a, b):\n",
    "    if a >= b:\n",
    "        return 0\n",
    "    \n",
    "    else:\n",
    "        return f(a) + rekursiv3(f, a+1, b)\n",
    "\n",
    "def rekursiv4(a, hoch):\n",
    "    if hoch == 0:\n",
    "        return 1\n",
    "    \n",
    "    return a * rekursiv4(a, hoch-1)\n",
    "\n",
    "def rekursiv5(a, hoch):\n",
    "    if hoch == 0:\n",
    "        return 1\n",
    "\n",
    "    if hoch % 2 == 0:\n",
    "        wurzel = rekursiv5(a, hoch // 2)\n",
    "        return wurzel * wurzel\n",
    "\n",
    "    return a * rekursiv5(a, hoch-1)\n",
    "\n",
    "```\n",
    "\n",
    "\n",
    "</div>"
   ]
  },
  {
   "cell_type": "markdown",
   "metadata": {},
   "source": [
    "<div class=\"exercise\">\n",
    "\n",
    "<img src=\"https://i.imgur.com/JyhBeDB.png\" class=\"exercise_image\" width=100>\n",
    "\n",
    "<span class=\"exercise_label\">**Aufgabe:**</span>\n",
    "Wenn wir unsere Anwender:innen nach einer Zahl gefragt haben, haben wir dies bis jetzt immer wie folgt umgesetzt:\n",
    "\n",
    "```python\n",
    "def zahl_abfragen():\n",
    "    while True:\n",
    "        antwort = input(\"Gib eine Zahl ein.\")\n",
    "        try:\n",
    "            return float(antwort)\n",
    "        except ValueError:\n",
    "            print(\"Es wurde keine gültige Zahl eingegeben, probiere es nochmal.\")\n",
    "```\n",
    "\n",
    "Schreibe die Funktion als rekursive Funktion um.\n",
    "</div>"
   ]
  },
  {
   "cell_type": "code",
   "execution_count": null,
   "metadata": {},
   "outputs": [],
   "source": []
  }
 ],
 "metadata": {
  "kernelspec": {
   "display_name": ".venv",
   "language": "python",
   "name": "python3"
  },
  "language_info": {
   "codemirror_mode": {
    "name": "ipython",
    "version": 3
   },
   "file_extension": ".py",
   "mimetype": "text/x-python",
   "name": "python",
   "nbconvert_exporter": "python",
   "pygments_lexer": "ipython3",
   "version": "3.10.9"
  }
 },
 "nbformat": 4,
 "nbformat_minor": 2
}
