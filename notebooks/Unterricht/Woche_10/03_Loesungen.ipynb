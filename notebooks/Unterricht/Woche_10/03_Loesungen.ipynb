{
 "cells": [
  {
   "cell_type": "markdown",
   "metadata": {},
   "source": [
    "# 1. Sortieren mit `sorted`\n",
    "Python kennt die eingebaute Funktion `sorted` ([Dokumentation](https://docs.python.org/3/library/functions.html#sorted)), welche für die Sortierung von Listen verwendet werden kann. Die Funktion nimmt als Parameter eine Liste entgegen und gibt eine (in aufsteigender Reihenfolge) sortierte Liste zurück.\n",
    "Für komplexere Anwendungsfälle kennt die Funktion noch zusätzlich den Parameter `key`. Damit können wir eine Funktion definieren, welche verwendet wird, um die Reihenfolge der Elemente festzustellen. In dieser Aufgabe verwenden wir `sorted` für verschiedene Anwendungsfälle. \n",
    "\n",
    "**Beispiele:**\n",
    "\n",
    "Einfache Sortierung ohne `key`:\n",
    "```python\n",
    "sorted([5, 2, 3, 1, 4])\n",
    "```\n",
    "Gibt als Resultat `[1, 2, 3, 4, 5]` zurück.\n",
    "\n",
    "Verwendung von `key`:\n",
    "\n",
    "```python\n",
    "list = sorted([5, 2, 3, 1, 4])\n",
    "sorted([5, 2, 3, 1, 4], key=lambda x: -x)\n",
    "```\n",
    "Gibt als Resultat `[5, 4, 3, 2, 1]` zurück. Warum? Für jedes Element der Liste wird die Funktion in `key` angewandt. Dadurch wird die Liste zu `[-5, -2, -3, -1, -4]`. Anhand von dieser transformierten Liste geschieht dann die Sortierung in aufsteigender Reihenfolge, also zu `[-5, -4, -3, -2, -1]`. Zurückgegeben werden dann die untransformierten Elemente in dieser neuen Reihenfolge, also `[5, 4, 3, 2, 1]`.\n",
    "\n",
    "\n",
    "### 1.1 Strings der Länge nach sortieren\n",
    "Verwende die Funktion `sorted`, um eine Liste von Strings der Länge nach zu sortieren. Also:\n",
    "\n",
    "`[\"abc\", \"a\", \"abcde\"] --> [\"a\", \"abc\", \"abcde\"]`\n"
   ]
  },
  {
   "cell_type": "code",
   "execution_count": 7,
   "metadata": {},
   "outputs": [
    {
     "data": {
      "text/plain": [
       "['a', 'abc', 'abcde']"
      ]
     },
     "execution_count": 7,
     "metadata": {},
     "output_type": "execute_result"
    }
   ],
   "source": [
    "# wir können direkt als Key die vorimplementierte Funktion len verwenden.\n",
    "sorted([\"abc\", \"a\", \"abcde\"], key=len)"
   ]
  },
  {
   "cell_type": "markdown",
   "metadata": {},
   "source": [
    "### 1.2 List von `float`-Objekten nach der Nachkommastelle sortieren\n",
    "Sortiere eine Liste von `float`-Objekten nach ihren Nachkommastellen. Zum Beispiel:\n",
    "\n",
    "`[10.5, 1.99, 0.0] --> [0.0, 10.5, 1.99]`\n",
    "\n",
    "Verwende `%` um die Nachkommastelle zu ermitteln."
   ]
  },
  {
   "cell_type": "code",
   "execution_count": 10,
   "metadata": {},
   "outputs": [
    {
     "data": {
      "text/plain": [
       "[0.0, 10.5, 1.99]"
      ]
     },
     "execution_count": 10,
     "metadata": {},
     "output_type": "execute_result"
    }
   ],
   "source": [
    "# Wir erhalten die Nachkommastelle einer Zahl, indem wir sie Modulo 1 rechnen\n",
    "sorted([10.5, 1.99, 0.0], key=lambda x: x % 1)"
   ]
  },
  {
   "cell_type": "markdown",
   "metadata": {},
   "source": [
    "### 1.3 Liste von Listen nach dem Durchschnittswert sortieren\n",
    "Sortiere eine Liste von Listen (also eine Tabelle) nach dem Durchschnitt der Zeilen.\n",
    "\n",
    "Also:\n",
    "```python\n",
    "table = [\n",
    "    [1, 2],  # hat Durchschnitt 1.5\n",
    "    [0, 2],  # hat Durchschnitt 1.0\n",
    "]\n",
    "\n",
    "# wird zu\n",
    "\n",
    "[\n",
    "    [0, 2],  # hat Durchschnitt 1.0\n",
    "    [1, 2],  # hat Durchschnitt 1.5\n",
    "]\n",
    "```\n"
   ]
  },
  {
   "cell_type": "code",
   "execution_count": 11,
   "metadata": {},
   "outputs": [
    {
     "data": {
      "text/plain": [
       "[[0, 2], [1, 2]]"
      ]
     },
     "execution_count": 11,
     "metadata": {},
     "output_type": "execute_result"
    }
   ],
   "source": [
    "table = [\n",
    "    [1, 2],  # hat Durchschnitt 1.5\n",
    "    [0, 2],  # hat Durchschnitt 1.0\n",
    "]\n",
    "\n",
    "sorted(table, key=lambda x: sum(x) / len(x))"
   ]
  },
  {
   "cell_type": "markdown",
   "metadata": {},
   "source": [
    "### 1.4 Strings nach Kriterium sortieren\n",
    "Sortiere Strings nach dem Kriterium, ob die String mit `\"start:\"` beginnt. Alle Strings, welche mit `start` beginnen, sollen an den Anfang der Liste verlegt werden, die restlichen Strings ans Ende.\n",
    "```python\n",
    "[\"start: 1\", \"2\", \"start: 3\", \"4\"]\n",
    "\n",
    "# wird zu\n",
    "[\"start: 1\", \"start: 3\", \"2\", \"4\"]\n",
    "```\n",
    "\n",
    "Die Reihenfolge von den Elementen mit `start:` untereinander ist dabei egal, genauso wie die Reihenfolge von den Elementen ohne `start`. Wichtig ist nur, dass alle Elemente mit `start:` am Anfang kommen."
   ]
  },
  {
   "cell_type": "code",
   "execution_count": 14,
   "metadata": {},
   "outputs": [
    {
     "data": {
      "text/plain": [
       "['start: 1', 'start: 3', '2', '4']"
      ]
     },
     "execution_count": 14,
     "metadata": {},
     "output_type": "execute_result"
    }
   ],
   "source": [
    "# In unserer Funktion müssen wir allen Elementen, welche an den Anfang sollen, einen tieferen Wert geben als den anderen\n",
    "sorted([\"start: 1\", \"2\", \"start: 3\", \"4\"], key=lambda x: 0 if x.startswith(\"start:\") else 1)"
   ]
  },
  {
   "cell_type": "markdown",
   "metadata": {},
   "source": [
    "\n",
    "\n",
    "\n",
    "### 1.5 Bücher sortieren\n",
    "\n",
    "Schreibe eine Funktion `sort_books_by_rating` mit folgenden Eigenschaften:\n",
    "- Die Funktion nimmt eine Liste von Büchern entgegen (siehe Definition unten)\n",
    "- Die Funktion gibt eine Liste von Büchern zurück, die nach der Bewertung sortiert ist (auf- oder absteigend)\n",
    "- Die Sortierung der Bücher geschieht mit einer Lambda-Funktion (siehe Hinweis unten)\n",
    "\n",
    "\n",
    "**Definition eines Buches:**\n",
    "Die Liste welche an die Funktion übergeben wird sieht folgendermassen aus:\n",
    "```\n",
    "books = [\n",
    "    {\"title\": \"Book A\", \"rating\": 4.5},\n",
    "    {\"title\": \"Book B\", \"rating\": 3.9},\n",
    "    {\"title\": \"Book C\", \"rating\": 4.8},\n",
    "    {\"title\": \"Book D\", \"rating\": 4.2},\n",
    "]\n",
    "```\n",
    "Das heisst jedes Buch hat einen Titel sowie eine Bewertung.\n"
   ]
  },
  {
   "cell_type": "code",
   "execution_count": 15,
   "metadata": {},
   "outputs": [
    {
     "data": {
      "text/plain": [
       "[{'title': 'Book B', 'rating': 3.9},\n",
       " {'title': 'Book D', 'rating': 4.2},\n",
       " {'title': 'Book A', 'rating': 4.5},\n",
       " {'title': 'Book C', 'rating': 4.8}]"
      ]
     },
     "execution_count": 15,
     "metadata": {},
     "output_type": "execute_result"
    }
   ],
   "source": [
    "def sort_books_by_rating(books):\n",
    "    sorted_books = sorted(books, key=lambda book: book[\"rating\"])\n",
    "    return sorted_books\n",
    "\n",
    "books = [\n",
    "    {\"title\": \"Book A\", \"rating\": 4.5},\n",
    "    {\"title\": \"Book B\", \"rating\": 3.9},\n",
    "    {\"title\": \"Book C\", \"rating\": 4.8},\n",
    "    {\"title\": \"Book D\", \"rating\": 4.2},\n",
    "]\n",
    "\n",
    "sorted_books = sort_books_by_rating(books)\n",
    "sorted_books"
   ]
  },
  {
   "cell_type": "markdown",
   "metadata": {},
   "source": [
    "# 2. Filtern mit `filter`\n",
    "Ähnlich wie `sorted` gibt es in Python die Funktion `filter`, welche die Elemente einer Liste (oder sonst einem iterierbaren Objekt) nach einem Kriterium filtert ([Dokumentation](https://docs.python.org/3/library/functions.html#filter)). Das Kriterium ist in Form einer Funktion, welche entweder `True` oder `False` zurückgibt - und die Elemente werden nur behalten, wenn das Kriterium `True` ist. Zurückgegeben wird ein spezielles `filter`-Objekt, welches wir mit `list` in eine Liste umwandeln können.\n",
    "\n",
    "Wir übergeben der Funktion dabei zuerst das Filter-Kriterion, und danach die Liste.\n",
    "\n",
    "**Beispiel:**"
   ]
  },
  {
   "cell_type": "code",
   "execution_count": 17,
   "metadata": {},
   "outputs": [
    {
     "data": {
      "text/plain": [
       "<filter at 0x7f39bd7f0dc0>"
      ]
     },
     "execution_count": 17,
     "metadata": {},
     "output_type": "execute_result"
    }
   ],
   "source": [
    "# Filtert eine Liste nach positiven Zahlen, gibt ein filter-Objekt zurück\n",
    "filtered = filter(lambda x: x>0, [1, 2, -3])\n",
    "filtered"
   ]
  },
  {
   "cell_type": "code",
   "execution_count": 18,
   "metadata": {},
   "outputs": [
    {
     "data": {
      "text/plain": [
       "[1, 2]"
      ]
     },
     "execution_count": 18,
     "metadata": {},
     "output_type": "execute_result"
    }
   ],
   "source": [
    "# Wir konvertieren das filtered-Objekt in eine Liste:\n",
    "list(filtered)"
   ]
  },
  {
   "cell_type": "code",
   "execution_count": 19,
   "metadata": {},
   "outputs": [
    {
     "data": {
      "text/plain": [
       "[1, 2]"
      ]
     },
     "execution_count": 19,
     "metadata": {},
     "output_type": "execute_result"
    }
   ],
   "source": [
    "# Oder kürzer:\n",
    "list(filter(lambda x: x>0, [1, 2, -3]))"
   ]
  },
  {
   "cell_type": "markdown",
   "metadata": {},
   "source": [
    "### 2.1 Negative Zahlen filtern\n",
    "Schreibe eine Funktion, welche eine Liste entgegennimmt. Die Funktion gibt eine neue Liste zurück, welche nur die negativen Elemente der eingehenden Liste zurückgibt. Verwende dazu die Funktion `filter`.\n",
    "\n",
    "`filter_negative([-1, 2, -3]) --> [-1, -3]`"
   ]
  },
  {
   "cell_type": "code",
   "execution_count": 20,
   "metadata": {},
   "outputs": [],
   "source": [
    "def filter_negative(l):\n",
    "    filtered = filter(lambda x: x < 0, l)\n",
    "    return list(filtered)  # wir müssen das Resultat noch zu einer Liste konvertieren"
   ]
  },
  {
   "cell_type": "code",
   "execution_count": 21,
   "metadata": {},
   "outputs": [
    {
     "data": {
      "text/plain": [
       "[-1, -3]"
      ]
     },
     "execution_count": 21,
     "metadata": {},
     "output_type": "execute_result"
    }
   ],
   "source": [
    "filter_negative([-1, 2, -3])"
   ]
  },
  {
   "cell_type": "markdown",
   "metadata": {},
   "source": [
    "### 2.2 Strings filtern\n",
    "Schreibe eine Funktion `filter_placeholders`, welche eine Liste von Strings entgegennimmt. Die Funktion gibt eine neue Liste zurück, welche nur diejenigen Einträge zurückgibt, welche mit `{` beginnen und `}` enden. Verwende wieder die Funktion `filter`.\n",
    "\n",
    "`filter_placeholders([\"abc\", \"{foo}\", \"{keep: me}\"]) --> [\"{foo}\", \"{keep: me}\"]`"
   ]
  },
  {
   "cell_type": "code",
   "execution_count": 24,
   "metadata": {},
   "outputs": [],
   "source": [
    "def filter_placeholders(l):\n",
    "    filtered = filter(lambda x: x[0] == \"{\" and x[-1] == \"}\", l)\n",
    "    return list(filtered)"
   ]
  },
  {
   "cell_type": "code",
   "execution_count": 25,
   "metadata": {},
   "outputs": [
    {
     "data": {
      "text/plain": [
       "['{foo}', '{keep: me}']"
      ]
     },
     "execution_count": 25,
     "metadata": {},
     "output_type": "execute_result"
    }
   ],
   "source": [
    "filter_placeholders([\"abc\", \"{foo}\", \"{keep: me}\"])"
   ]
  },
  {
   "cell_type": "markdown",
   "metadata": {},
   "source": [
    "# 3. Binary Search\n",
    "Stellen wir uns vor, wir haben eine sortierte Liste. Nun wollen wir herausfinden, ob ein bestimmter Wert in dieser Liste enthalten ist.\n",
    "- `beispiel_liste = [1, 2, 3, 6, 9]`\n",
    "- `is_in_list(beispiel_liste, 3) === True`\n",
    "- `is_in_list(beispiel_liste, -1) === False`\n",
    "\n",
    "### 3.1\n",
    "Schreibe eine Funktion `is_in_list_naive(list_to_search, value_to_search)`, welche die Liste mit einem for-Loop durchgeht. Falls der Wert enthalten ist, gibt die Funktion True zurück, sonst False.\n"
   ]
  },
  {
   "cell_type": "code",
   "execution_count": 26,
   "metadata": {},
   "outputs": [],
   "source": [
    "def is_in_list_naive(list_to_search, value_to_search):\n",
    "    for value in list_to_search:\n",
    "        if value == value_to_search:\n",
    "            return True\n",
    "    return False"
   ]
  },
  {
   "cell_type": "markdown",
   "metadata": {},
   "source": [
    "### 3.2\n",
    "Schreibe dieselbe Funktion, indem du `filter` verwendest und schaust, ob die Länge des Resultats grösser als 0 ist:"
   ]
  },
  {
   "cell_type": "code",
   "execution_count": 27,
   "metadata": {},
   "outputs": [],
   "source": [
    "def is_in_list_filter(list_to_search, value_to_search):\n",
    "    filtered = filter(lambda x: x == value_to_search, list_to_search)\n",
    "    return len(filtered) > 0"
   ]
  },
  {
   "cell_type": "markdown",
   "metadata": {},
   "source": [
    "### 3.3\n",
    "Schreibe eine rekursive Funktion, welche genau gleich wie find_value_naive durch die Liste hindurchgeht, und True zurückgibt, falls der Wert enthalten ist."
   ]
  },
  {
   "cell_type": "code",
   "execution_count": null,
   "metadata": {},
   "outputs": [],
   "source": [
    "def find_value_naive_recursive(list_to_search, value_to_search):\n",
    "    \n",
    "    if list_to_search == []:\n",
    "        return False\n",
    "    \n",
    "    head_of_list, *rest = list_to_search\n",
    "    \n",
    "    if head_of_list == value_to_search:\n",
    "        return True\n",
    "    else:\n",
    "        return find_value_naive_recursive(rest, value_to_search)"
   ]
  },
  {
   "cell_type": "markdown",
   "metadata": {},
   "source": [
    "### 3.4 Binary Search\n",
    "(fortgeschritten)\n",
    "Falls die Liste, welche wir durchsuchen, sortiert ist, können wir unseren Algorithmus noch verbessern: Bis jetzt müssen wir im schlimmsten Fall die ganze Liste durchgehen, um herauszufinden, ob ein Element enthalten ist. Um den Algorithmus zu verbessern, verwenden wir folgende Eigenschaft:\n",
    "\n",
    "Stell dir vor, wir haben die Liste `[1, 3, 4, 5, 6, 7, 8]` und suchen nach dem Wert 2. \n",
    "- Wir schauen uns das Element in der Mitte an, in diesem Fall `5`\n",
    "- Wenn 5 der Wert ist, geben wir True zurück - ist es aber nicht.\n",
    "- Ansonsten müssen wir nur im Teil der Liste links von der Mitte suchen (weil der gesuchte Wert `2 < 5`), also `[1, 3, 4]`\n",
    "- Jetzt schauen wir uns wieder das Element in der Mitte an, in diesem Fall `3`.\n",
    "- Dies ist immer noch nicht das gewünschte Element, wir suchen links davon weiter (da `2 < 3`), also in `[1]`\n",
    "- Das Element in der Mitte ist nun `1`, auch nicht das gesuchte Element. Wir suchen rechts davon weiter (weil `1 < 2`), also in `[]`\n",
    "- Dies ist aber eine leere Liste. Dies bedeutet, dass das Element nicht in unserer Liste enthalten ist, und wir geben False zurück.\n",
    "\n",
    "Dieser Algorithmus ist effizienter, weil er zahlreiche Elemente gar nicht überprüfen muss, in unserem Beispiel 4, 6, 7, und 8.\n",
    "\n",
    "Dazu schreiben wir folgende rekursive Funktion:\n",
    "\n",
    "- Falls die Liste leer ist, geben wir False zurück.\n",
    "- Falls nicht, identifizieren wir den Index in der Mitte der Liste mit len(list_to_search) // 2. \n",
    "- Nun schauen wir den Wert, der zu diesem Index gehört, an. Falls dieser Wert der gewünschte Wert ist, geben wir True zurück.\n",
    "- Falls der Wert in der Mitte grösser als der gewünschte Wert ist, muss - falls der Wert in unserer sortierten Liste ist - dieser in der ersten Hälfte sein. Deshalb rufen wir unsere Funktion nur mit der ersten Hälfte der Liste auf (ohne die Mitte).\n",
    "- Genauso, falls der Wert in der Mitte kleiner als der gewünschte Wert ist, kann der Wert nur noch in dem zweiten Teil der Liste sein. Wir rufen die Funktion nochmals mit dem zweiten Teil der Liste auf (ohne die Mitte)."
   ]
  },
  {
   "cell_type": "code",
   "execution_count": 32,
   "metadata": {},
   "outputs": [],
   "source": [
    "def find_value(list_to_search, value_to_search):\n",
    "    \n",
    "    if len(list_to_search) == 0:\n",
    "        return False\n",
    "    \n",
    "    # Index und Wert in der Mitte identifizieren\n",
    "    middle_ix = len(list_to_search) // 2\n",
    "    middle_value = list_to_search[middle_ix]\n",
    "    \n",
    "    # Falls Mittelwert der gesuchte Wert, geben wir True zurück\n",
    "    if middle_value == value_to_search:\n",
    "        return True\n",
    "    \n",
    "    # Falls middle_value grösser ist als der Wert, den wir suchen, muss\n",
    "    # der gesuchte Wert in der ersten Hälfte der Liste sein.\n",
    "    elif middle_value > value_to_search:\n",
    "        first_half = list_to_search[:middle_ix]\n",
    "        return find_value(first_half, value_to_search)\n",
    "    \n",
    "    # Sonst muss der Wert in der zweiten Hälfte der Liste sein\n",
    "    else:\n",
    "        second_half = list_to_search[(middle_ix+1):]\n",
    "        return find_value(second_half, value_to_search)\n",
    "    "
   ]
  },
  {
   "cell_type": "code",
   "execution_count": 33,
   "metadata": {},
   "outputs": [
    {
     "data": {
      "text/plain": [
       "False"
      ]
     },
     "execution_count": 33,
     "metadata": {},
     "output_type": "execute_result"
    }
   ],
   "source": [
    "find_value([1, 3, 4, 5, 6, 7, 8], 2)"
   ]
  },
  {
   "cell_type": "code",
   "execution_count": 34,
   "metadata": {},
   "outputs": [
    {
     "data": {
      "text/plain": [
       "True"
      ]
     },
     "execution_count": 34,
     "metadata": {},
     "output_type": "execute_result"
    }
   ],
   "source": [
    "find_value([1, 3, 4, 5, 6, 7, 8], 3)"
   ]
  },
  {
   "cell_type": "code",
   "execution_count": 35,
   "metadata": {},
   "outputs": [
    {
     "data": {
      "text/plain": [
       "False"
      ]
     },
     "execution_count": 35,
     "metadata": {},
     "output_type": "execute_result"
    }
   ],
   "source": [
    "find_value([1, 3, 4, 5, 6, 7, 8], 0)"
   ]
  },
  {
   "cell_type": "code",
   "execution_count": null,
   "metadata": {},
   "outputs": [],
   "source": []
  }
 ],
 "metadata": {
  "kernelspec": {
   "display_name": "base",
   "language": "python",
   "name": "python3"
  },
  "language_info": {
   "codemirror_mode": {
    "name": "ipython",
    "version": 3
   },
   "file_extension": ".py",
   "mimetype": "text/x-python",
   "name": "python",
   "nbconvert_exporter": "python",
   "pygments_lexer": "ipython3",
   "version": "3.9.16"
  }
 },
 "nbformat": 4,
 "nbformat_minor": 2
}
