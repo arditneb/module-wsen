{
 "cells": [
  {
   "cell_type": "markdown",
   "metadata": {},
   "source": [
    "# 1. \n",
    "Betrachte folgenden `while`-Loop:\n",
    "\n",
    "```python\n",
    "i = 5\n",
    "while i < 15:\n",
    "    i = i + 2\n",
    "    if i != 11:\n",
    "        print(i)\n",
    "\n",
    "```\n",
    "\n",
    "- a) Schreibe den `while`-Loop als `for`-Loop um\n",
    "- b) Schreibe die Logik so um, dass `continue` verwendet wird.\n"
   ]
  },
  {
   "cell_type": "code",
   "execution_count": null,
   "metadata": {},
   "outputs": [],
   "source": [
    "# a\n",
    "for i in range(5, 15, 2):\n",
    "    if i != 11:\n",
    "        print(i)\n"
   ]
  },
  {
   "cell_type": "code",
   "execution_count": null,
   "metadata": {},
   "outputs": [],
   "source": [
    "# b\n",
    "for i in range(5, 15, 2):\n",
    "    if i == 11:                # wir ersetzen das != mit einem ==\n",
    "        continue\n",
    "    print(i)                   # wird übersprungen, wenn i == 11\n",
    "\n"
   ]
  },
  {
   "cell_type": "markdown",
   "metadata": {},
   "source": [
    "# 2.\n",
    "\n",
    "Schreibe ein Programm, welches nach einer Zahl `n` fragt, und dann den Wert von `n! = (n * (n-1) * (n-2) * ... * 2 * 1)` zurückgibt.\n",
    "<br>\n",
    "Beispiel:\n",
    "`3! = 3 * 2 * 1 = 6` \n"
   ]
  },
  {
   "cell_type": "code",
   "execution_count": null,
   "metadata": {},
   "outputs": [],
   "source": [
    "number = int(input(\"Gib eine Zahl ein.\"))\n",
    "\n",
    "result = 1\n",
    "\n",
    "for i in range(1, number + 1):    # wir iterieren über alle Zahlen von 1 bis n\n",
    "    result = result * i\n",
    "\n",
    "print(result)"
   ]
  },
  {
   "cell_type": "markdown",
   "metadata": {},
   "source": [
    "**Kommentare**:\n",
    "\n",
    "Zur Logik:\n",
    "- Wir verwenden das Akkumulator-Muster, wobei `result` der Akkumulator ist.\n",
    "- Wir rechnen das Produkt im umgekehrter Reihenfolge aus: 1 * 2 * 3 * 4 * 5 * 6 ...\n",
    "- Wir initialisieren den Akkumulator mit 1. In der ersten Iteration rechnen wir dadurch `result = 1 * 1 = 1`. \n",
    "- Falls wir den Akkumulator mit 0 initialisiert hätten, wäre nach der ersten Iteration `result = 0 * 1 = 0`, nach der zweiten Iteration `result = 0 * 2`, usw. Wir würden also immer als Resultat 0 erhalten.\n",
    "\n",
    "Zur Verwendung von Range:\n",
    "- Wir verwenden number + 1, damit auch die Zahl selbst multipliziert wird (schliesslich hört `range` immer 1 vorher auf)\n",
    "- Wir beginnen die `range` bei 1, um nicht das Resultat mit 0 zu multiplizieren. Falls wir dies nicht machen, bekommen wir immer 0 zurück (aus dem gleichen Grund wie dass wir den Akkumulator nicht mit 0 initialisieren).\n",
    "\n",
    "Sonstiges:\n",
    "- Wir müssen den Input mit `int` in eine Zahl umrechnen, damit wir sie an `range` übergeben können.\n"
   ]
  },
  {
   "cell_type": "markdown",
   "metadata": {},
   "source": [
    "# 3. \n",
    "Schreibe ein Programm, welche den Benutzer nach einer Zahl fragt. Anschliessend zeigt das Programm alle Quadratzahlen an, welche kleiner als die eingegebene Zahl sind.\n",
    "\n",
    "Beispiel:\n",
    "\n",
    "Ausgabe:\n",
    "\n",
    "`Gib eine Zahl ein:`\n",
    "\n",
    "Eingabe: \n",
    "\n",
    "`10`\n",
    "\n",
    "Ausgabe: \n",
    "```\n",
    "1 x 1 = 1\n",
    "2 x 2 = 4\n",
    "3 x 3 = 9\n",
    "```"
   ]
  },
  {
   "cell_type": "code",
   "execution_count": null,
   "metadata": {},
   "outputs": [],
   "source": [
    "eingabe = int(input(\"Gib eine Zahl ein:\"))\n",
    "\n",
    "i = 1\n",
    "\n",
    "while i * i < eingabe:\n",
    "    print(i, \"x\", i, \"=\", i*i)\n",
    "    i = i + 1"
   ]
  },
  {
   "cell_type": "markdown",
   "metadata": {},
   "source": [
    "**Kommentare**\n",
    "- Wir müssen die Eingabe mit `int` in eine Zahl konvertieren.\n",
    "- Wir machen solange weiter, bis die Quadratzahl nicht mehr kleiner als die Eingabe ist. Dadurch erhalten wir das Kriterium `i * i < eingabe`.\n",
    "- Wir müssen `i` in jeder Iteration um 1 erhöhen, ansonsten erhalten wir einen unendlichen Loop."
   ]
  },
  {
   "cell_type": "markdown",
   "metadata": {},
   "source": [
    "# 4.\n",
    "\n",
    "Schreibe ein Programm, welches nach einer Zahl fragt, und anschliessend die Quersumme dieser Zahl zurückgibt. Die Quersumme besteht aus der Summe aller Ziffern einer Zahl. Beispiel:\n",
    "\n",
    "- Die Quersumme von `83` ist `8 + 3 = 11`\n",
    "- Die Quersumme von `2519` ist `2 + 5 + 1 + 9 = 17`"
   ]
  },
  {
   "cell_type": "code",
   "execution_count": null,
   "metadata": {},
   "outputs": [],
   "source": [
    "eingabe = input(\"Gib eine Zahl ein:\")\n",
    "\n",
    "result = 0\n",
    "for ziffer in eingabe:\n",
    "    ziffer_as_zahl = int(ziffer)\n",
    "    result = result + ziffer_as_zahl\n",
    "\n",
    "print(result)"
   ]
  },
  {
   "cell_type": "markdown",
   "metadata": {},
   "source": [
    "**Kommentare**\n",
    "- Wir verwenden das Akkumulator-Muster, und initialisieren den Akkumulator mit 0. In jeder Iteration wird er um die aktuelle Ziffer erhöht. \n",
    "- Wir wollen jede Ziffer der Zahl einzeln haben. Dazu belassen wir die Zahl als `str` und verwenden einen `for`-Loop, um durch jede Ziffer zu iterieren.\n",
    "- Die einzelne Ziffer rechnen wir dann zu einer Zahl um.\n",
    "- Diese Zahl rechnen wir dann laufend zum Akkumulator dazu, um die Summe zu bilden.\n"
   ]
  },
  {
   "cell_type": "markdown",
   "metadata": {},
   "source": [
    "# 5.\n",
    "\n",
    "Schreibe ein Programm, welches das kleine 1x1 für die Zahlen von 1 bis 10 zurückgibt.\n",
    "\n",
    "Das Resultat sollte wie folgt aussehen:<br>\n",
    "`1 x 1 = 1` <br>\n",
    "`1 x 2 = 2` <br>\n",
    "... <br>\n",
    "`2 x 1 = 2` <br>\n",
    "`2 x 2 = 4` <br>\n",
    "`2 x 3 = 6` <br>\n",
    "... <br>\n",
    "`10 x 9 = 90` <br>\n",
    "`10 x 10 = 100` <br>"
   ]
  },
  {
   "cell_type": "code",
   "execution_count": null,
   "metadata": {},
   "outputs": [],
   "source": [
    "for i in range(1, 11):\n",
    "    for j in range(1, 11):\n",
    "        print(i, \"x\", j, \"=\", i * j)\n",
    "    "
   ]
  },
  {
   "cell_type": "markdown",
   "metadata": {},
   "source": [
    "**Kommentare**:\n",
    "- Dies ist ein Beispiel dafür, zwei `for`-Loops ineinander zu verschachteln und so zu verwenden. In jedem `for`-Loop iterieren wir individuell durch die Zahlen von 1 bis 10, und geben jeweils das Produkt zurück."
   ]
  },
  {
   "cell_type": "markdown",
   "metadata": {},
   "source": [
    "# 6.\n",
    "\n",
    "Zahlen können sehr sensible Daten enthalten. \n",
    "\n",
    "Schreibe deshalb ein Programm, welches aus einem Text automatisch alle Zahlen rauslöscht. Dies machen wir, indem wir jede Ziffer mit einem X ersetzen. \n",
    "\n",
    "Beispiel:\n",
    "\n",
    "```\n",
    "Wir verfügen über ein Vermögen von CHF 8'230'521.23\n",
    "Wir verfügen über ein Vermögen von CHF X'XXX'XXX.XX\n",
    "```\n",
    "\n",
    "Oder:\n",
    "```\n",
    "Wir verkaufen die Aktie am 23.09.\n",
    "Wir verkaufen die Aktie am XX.XX.\n",
    "```\n"
   ]
  },
  {
   "cell_type": "code",
   "execution_count": null,
   "metadata": {},
   "outputs": [],
   "source": [
    "eingabe = input(\"Gib einen sensiblen Text ein:\")\n",
    "\n",
    "ausgabe = \"\"\n",
    "\n",
    "for zeichen in eingabe:\n",
    "    if zeichen in \"0123456789\":\n",
    "        ausgabe = ausgabe + \"X\"\n",
    "    else:\n",
    "        ausgabe = ausgabe + zeichen\n",
    "\n",
    "print(ausgabe)"
   ]
  },
  {
   "cell_type": "markdown",
   "metadata": {},
   "source": [
    "**Kommentare**:\n",
    "- Wir verwenden wieder die Tatsache, dass wir Zeichen für Zeichen durch den eingegebenen Text durchgehen können.\n",
    "- Wir verwenden das Akkumulator-Muster und initialisieren die Ausgabe als leeren Text.\n",
    "- Falls das Zeichen eine Zahl ist (und daher in \"0123456789\" enthalten ist), hängen wir an die Ausgabe ein \"X\" dran.\n",
    "- Sonst hängen wir das \"richtige\" Zeichen dran."
   ]
  },
  {
   "cell_type": "markdown",
   "metadata": {},
   "source": []
  }
 ],
 "metadata": {
  "kernelspec": {
   "display_name": ".venv",
   "language": "python",
   "name": "python3"
  },
  "language_info": {
   "codemirror_mode": {
    "name": "ipython",
    "version": 3
   },
   "file_extension": ".py",
   "mimetype": "text/x-python",
   "name": "python",
   "nbconvert_exporter": "python",
   "pygments_lexer": "ipython3",
   "version": "3.10.9"
  },
  "orig_nbformat": 4
 },
 "nbformat": 4,
 "nbformat_minor": 2
}
