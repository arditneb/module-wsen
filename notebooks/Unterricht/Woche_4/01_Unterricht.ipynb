{
 "cells": [
  {
   "cell_type": "markdown",
   "metadata": {},
   "source": [
    "## Einführung\n",
    "\n",
    "Bis jetzt sind unsere Programme immer von oben nach unten durchgelaufen, und jede Codezeile wurde maximal einmal ausgeführt. Es kann aber sein, dass wir dasselbe mehrmals machen wollen. Dazu verwenden wir sogenannte Schleifen. Es gibt in Python zwei Typen davon: die `for`- und die `while`-Schleife.\n",
    "\n",
    "<br><br><br>\n",
    "\n",
    "## 1. `while`\n",
    "\n",
    "### 1.1 Am Beispiel von User-Interaktionen\n",
    "\n",
    "Mit einer `while`-Schleife können wir Code solange ausführen, wie eine Bedingung erfüllt ist. \n",
    "\n",
    "Dadurch können wir die Benutzer:innen solange eine Zahl raten lassen, bis sie diese erraten haben:"
   ]
  },
  {
   "cell_type": "code",
   "execution_count": null,
   "metadata": {},
   "outputs": [],
   "source": [
    "true_number = 5\n",
    "guess = int(input(\"Rate eine Zahl zwischen 1 und 10\"))\n",
    "\n",
    "while guess != true_number:\n",
    "    guess = int(input(\"Falsch, versuche es noch einmal:\"))\n",
    "\n",
    "print(\"Richtig, gratuliere!\")"
   ]
  },
  {
   "cell_type": "markdown",
   "metadata": {},
   "source": [
    "Der Syntax für die `while`-Schleife ist ähnlich wie bei den `if`-Statements:\n",
    "- Eingeleitet wird der `while`-Block mit der Code-Zeile `while guess != true_number:`. Damit wird definiert, dass der anschliessende Codeblock solange ausgeführt wird, wie `guess` und `true_number` unterschiedlich sind. Waren sie schon von Anfang an gleich (wurde also schon beim ersten Versuch richtig geraten), wird der `while`-Block gar nie ausgeführt.\n",
    "- Die nächste(n) Code-Zeile(n) sind - wie beim `if`-Block - weiter eingerückt. Dies ist der Code, der vom `while` betroffen ist und mehrmals wiederholt ausgeführt wird.\n",
    "- Der Code, der wieder \"normal\" eingerückt ist, wird erst ausgeführt, wenn die `while`-Bedingung nicht mehr erfüllt ist. Da dies in unserem Fall heisst, dass die Zahl richtig erraten wurde, können wir an dieser Stelle gratulieren."
   ]
  },
  {
   "cell_type": "markdown",
   "metadata": {},
   "source": [
    "### 1.2 Mit `while` dasselbe mehrmals tun"
   ]
  },
  {
   "cell_type": "markdown",
   "metadata": {},
   "source": [
    "Wir können `while`-Schleifen auch verwenden, wenn wir etwas genau eine bestimmte Anzahl mal ausführen wollen. Hier ist ein Beispiel, wie wir 3 mal \"hip hip hurra\" sagen können, ohne die `print`-Anweisung mehrmals kopieren zu müssen. "
   ]
  },
  {
   "cell_type": "code",
   "execution_count": null,
   "metadata": {},
   "outputs": [],
   "source": [
    "i = 0\n",
    "while i < 3:\n",
    "    print(\"Hip hip, hurra!\")\n",
    "    i = i + 1"
   ]
  },
  {
   "cell_type": "markdown",
   "metadata": {},
   "source": [
    "Wieso funktioniert das? \n",
    "- Am Anfang ist der Wert von der Variable `i = 0`, also kleiner als 3. Daher gehen wir in die `while`-Schleife und schreiben ein erstes mal \"Hip hip, hurra!\".\n",
    "- Danach wird im Schritt `i = i + 1` der Wert der Variable `i` um eins erhöht, und wird zu 1.\n",
    "- Da 1 immer noch kleiner ist als 3, durchlaufen wir ein zweites mal den `while`-Block. Wir schreiben nochmals \"Hip hip, hurra!\" und erhöhen `i` auf 2.\n",
    "- Auch 2 ist noch kleiner als 3. Wir durchlaufen ein drittes mal den `while`-Block und erhöhen `i` auf 3.\n",
    "- Da 3 < 3 False zurückgibt, brechen wir nun aus der `while`-Schleife aus, und das Programm ist beendet."
   ]
  },
  {
   "cell_type": "markdown",
   "metadata": {},
   "source": [
    "Wir können auch direkt anschauen, wie `i` immer erhöht wird:"
   ]
  },
  {
   "cell_type": "code",
   "execution_count": null,
   "metadata": {},
   "outputs": [],
   "source": [
    "i = 0\n",
    "while i < 3:\n",
    "    print(i)\n",
    "    i = i + 1"
   ]
  },
  {
   "cell_type": "markdown",
   "metadata": {},
   "source": [
    "<br><br><br><br><br>\n",
    "\n",
    "<div class=\"exercise\">\n",
    "\n",
    "<img src=\"https://i.imgur.com/JyhBeDB.png\" class=\"exercise_image\" width=100>\n",
    "\n",
    "<span class=\"exercise_label\">**Aufgabe:**</span>\n",
    "\n",
    "- a) Passe das Programm von oben so an, dass alle Zahlen von 0 bis und mit 10 ausgegeben werden.\n",
    "- b) Passe das Programm so an, dass die Zahlen 5 bis 10 ausgegeben werden.\n",
    "- c) Passe das Programm so an, dass die dreierreihe (3, 6, 9, ...) von 3 bis und mit 30 angezeigt wird.\n",
    "\n",
    "</div>"
   ]
  },
  {
   "cell_type": "markdown",
   "metadata": {},
   "source": [
    "### 1.3 Unendliche Schleifen\n",
    "Es kann auch sein, dass wir nie aus einer Schleife ausbrechen. Dann sind wir in einer sogenannten unendlichen Schleife, oder auf Englisch \"infinite Loop\". Hier ist so ein Beispiel:"
   ]
  },
  {
   "cell_type": "code",
   "execution_count": null,
   "metadata": {},
   "outputs": [],
   "source": [
    "i = 0\n",
    "while i < 3:\n",
    "    print(\"All work and no play makes Jack a dull boy.\")"
   ]
  },
  {
   "cell_type": "markdown",
   "metadata": {},
   "source": [
    "In diesem Fall müssen wir das Jupyter Notebook selbst stoppen. Dies können wir wie folgt tun:\n",
    "- Indem man im Jupyter Notebook links von der Zelle auf \"Ausführung Stoppen\" klickt.\n",
    "- Indem man CTRL + C drückt (kommt allerdings auf den Editor an).\n",
    "- Indem man den Kernel komplett neu startet, mit \"Restart\" im Notebook. \n",
    "\n",
    "Wieso ist das passiert? Im Beispiel von oben bleibt `i` immer gleich, und somit ist die Bedingung `i < 3` immer erfüllt. Deshalb gehen wir nie aus der `while`-Schleife raus. "
   ]
  },
  {
   "cell_type": "markdown",
   "metadata": {},
   "source": [
    "<br><br><br>\n",
    "\n",
    "## 2. `for`\n",
    "\n",
    "Wenn wir schon im vorhinein wissen, wie häufig wir eine Schleife wiederholen wollen, können wir dazu auch `for`-Schleifen verwenden. Diese sind kürzer und einfacher zu verstehen. \n",
    "\n",
    "\n",
    "### 2.1 `for`-Schleifen auf vordefinierter Liste\n",
    "Wenn wir bereits im Voraus wissen, für welche Werte wir einen `for`-Loop ausführen wollen, können wir dies wie folgt machen: "
   ]
  },
  {
   "cell_type": "code",
   "execution_count": null,
   "metadata": {},
   "outputs": [],
   "source": [
    "for gast in \"John\", \"Jack\", \"James\":\n",
    "    print(\"Hallo\", gast)\n",
    "\n",
    "print(\"E guete!\")"
   ]
  },
  {
   "cell_type": "markdown",
   "metadata": {},
   "source": [
    "Was passiert dabei?\n",
    "- Es ist schon am Anfang klar, für welche Werte der `for`-Loop ausgeführt werden soll: Für \"John\", \"Jack\" und \"James\". Diese Werte sind durch ein Komma getrennt. \n",
    "- Nach der ersten Zeile kommt wie bei `if` oder `while` ein Code-Block, der weiter eingerückt ist. Alles, was in diesem Block steht (in diesem Fall nur das print), wird für jeden Gast ausgeführt. Dadurch wird jeder Gast individuell begrüsst.\n",
    "- Sobald alle Gäste durchlaufen wurden, wird das Programm normal weiter ausgeführt, und wünscht (nur einmal) \"e guete\"."
   ]
  },
  {
   "cell_type": "markdown",
   "metadata": {},
   "source": [
    "Wir können dasselbe auch mit Zahlen tun:"
   ]
  },
  {
   "cell_type": "code",
   "execution_count": null,
   "metadata": {},
   "outputs": [],
   "source": [
    "for i in 1, 2, 3:\n",
    "    print(i)"
   ]
  },
  {
   "cell_type": "markdown",
   "metadata": {},
   "source": [
    "### 2.2 `range`\n",
    "Wir wollen aber nicht zwingend alle Zahlen selbst auflisten. Dafür gibt es in Python eine vordefinierte Funktion, `range`. Hier ist ein Beispiel:"
   ]
  },
  {
   "cell_type": "code",
   "execution_count": null,
   "metadata": {},
   "outputs": [],
   "source": [
    "# Beispiel mit range\n",
    "for i in range(5):          # range mit einem Argument: von 0 bis 4\n",
    "\tprint(i)                # fängt bei 0 an, endet bei 5 – 1 = 4"
   ]
  },
  {
   "cell_type": "markdown",
   "metadata": {},
   "source": [
    "Was passiert hier?\n",
    "- Wie zuvor wird das `print`-Statement mehrmals ausgeführt.\n",
    "- Beim ersten `print` hat `i` den Wert 0, beim zweiten 1, und so weiter. Am Schluss hat `i` den Wert 4.\n",
    "- Diese Werte (0, 1, 2, 3, 4) wurden von der Funktion `range` generiert. Das Programm macht also das genau gleiche wie das nachfolgende Programm:"
   ]
  },
  {
   "cell_type": "code",
   "execution_count": null,
   "metadata": {},
   "outputs": [],
   "source": [
    "for i in 0, 1, 2, 3, 4:\n",
    "    print(i)"
   ]
  },
  {
   "cell_type": "markdown",
   "metadata": {},
   "source": [
    "`range(n)` generiert also eine Liste von Zahlen, welche bei 0 beginnt und bei `n-1` (also 1 vor der angegebenen Zahl) aufhört. Hier ein zweites Beispiel:"
   ]
  },
  {
   "cell_type": "code",
   "execution_count": null,
   "metadata": {},
   "outputs": [],
   "source": [
    "for i in range(3):\n",
    "    print(i)"
   ]
  },
  {
   "cell_type": "markdown",
   "metadata": {},
   "source": [
    "Wenn wir nicht bei 0 sondern bei einer anderen Zahl beginnen, können wir `range` mit zwei Argumenten verwenden: Das erste Argument definiert dabei den Start, die zweite Zahl das Ende der generierten Zahlenliste (wobei wie vorher die Liste 1 vor dem Ende aufhört)."
   ]
  },
  {
   "cell_type": "code",
   "execution_count": null,
   "metadata": {},
   "outputs": [],
   "source": [
    "for i in range(2, 5):       # range mit zwei Argumenten: von 2 bis 4\n",
    "\tprint(i)                # fängt bei 2 an, endet bei 5 – 1 = 4"
   ]
  },
  {
   "cell_type": "markdown",
   "metadata": {},
   "source": [
    "Falls wir grössere Schritte als 1-er Schritte machen wollen, können wir die Schrittgrösse als drittes Argument angeben. "
   ]
  },
  {
   "cell_type": "code",
   "execution_count": null,
   "metadata": {},
   "outputs": [],
   "source": [
    "for i in range(2, 10, 2):   # range mit drei Argumenten: 2, 4, 6, 8\n",
    "\tprint(i)                # fängt bei 2 an, macht Zweierschritte bis\n",
    "                            # 10 – 2 = 8"
   ]
  },
  {
   "cell_type": "markdown",
   "metadata": {},
   "source": [
    "Zusammenfassend gilt für `range`:\n",
    "- Bei einem Argument: `range(stop)`, generiert eine Liste von 0 bis (stop-1) \n",
    "- Bei zwei Argumenten: `range(start, stop)`, generiert eine Liste von start bis (stop-1)\n",
    "- Bei drei Argumenten: `range(start, stop, schritt)`, generiert eine Liste von start bis (stop-1) mit definierter Schritt-Grösse.\n"
   ]
  },
  {
   "cell_type": "markdown",
   "metadata": {},
   "source": [
    "<br><br><br><br><br>\n",
    "\n",
    "<div class=\"exercise\">\n",
    "\n",
    "<img src=\"https://i.imgur.com/JyhBeDB.png\" class=\"exercise_image\" width=100>\n",
    "\n",
    "<span class=\"exercise_label\">**Aufgabe:**</span>\n",
    "\n",
    "Verwende `for`-Loops sowie die Funktion `range`, um folgenden Output zu generieren:\n",
    "\n",
    "- a) 0, 1, 2, 3, 4\n",
    "- b) 7, 8, 9\n",
    "- c) 1, 5, 9, 13, 17\n",
    "\n",
    "Verwende dazu noch ein `if`-Statement, um folgenden Output zu generieren:\n",
    "- d) 2, 4, 8, 10, 14, 16, 20, 22\n",
    "</div>"
   ]
  },
  {
   "cell_type": "markdown",
   "metadata": {},
   "source": [
    "\n",
    "<div class=\"exercise\">\n",
    "\n",
    "<img src=\"https://i.imgur.com/JyhBeDB.png\" class=\"exercise_image\" width=100>\n",
    "\n",
    "<span class=\"exercise_label\">**Aufgabe:**</span>\n",
    "\n",
    "Verwende `for`-Loops, um 5 mal \"Hallo\" zu sagen.\n",
    "</div>"
   ]
  },
  {
   "cell_type": "markdown",
   "metadata": {},
   "source": [
    "### 2.3 `for`-Schleife auf Zeichenketten\n",
    "\n",
    "Eine `range` ist ein Beispiel eines sogenannten \"iterierbaren Objekts\". Das heisst, dass wir mit einer `for`-Schlaufe durch alle Elemente des Objekts durchgehen (\"iterieren\") können. In Python gibt es zahlreiche Beispiele für solche Objekte, die wir noch kennenlernen werden. Ein Beispiel kennen wir jedoch bereits: Objekte vom Typ `str` - also Texte.\n",
    "\n",
    "Was denkst du, was ist die Ausgabe des nachfolgenden Codes? Probiere es aus!"
   ]
  },
  {
   "cell_type": "code",
   "execution_count": null,
   "metadata": {},
   "outputs": [],
   "source": [
    "for i in \"hallo\":\n",
    "    print(i)"
   ]
  },
  {
   "cell_type": "markdown",
   "metadata": {},
   "source": [
    "Wir sehen also, dass wir Buchstaben für Buchstaben durch das Wort \"hallo\" durchgehen. Das kann durchaus nützlich sein, wie das nachfolgende Programm zeigt. Kannst du erklären, was es macht?"
   ]
  },
  {
   "cell_type": "code",
   "execution_count": null,
   "metadata": {},
   "outputs": [],
   "source": [
    "counter = 0\n",
    "user_input = input(\"Gib einen Text ein\")\n",
    "\n",
    "for letter in user_input:\n",
    "    if letter in \"aeiou\":\n",
    "        counter = counter + 1\n",
    "\n",
    "print(\"Resultat:\", counter)"
   ]
  },
  {
   "cell_type": "markdown",
   "metadata": {},
   "source": [
    "## 3. Akkumulator-Muster\n",
    "\n",
    "Das Beispiel von oben verwendet das sogennante Akkumulator-Muster. Dabei wird zuerst eine Variable (`counter`) ausserhalb eines Loops initialisiert. Im Laufe des Loops wird sie stets verändert (indem der `count` erhöht wird), und am Schluss ist es diese Variable, welche als Resultat zurückgegeben wird. Dieses Muster ist sehr hilfreich, deshalb zeigen wir in diesem Kapitel noch weitere Beispiele.\n",
    "\n",
    "Betrachte folgendes Programm. Was macht es? Was ist der Akkumulator?\n"
   ]
  },
  {
   "cell_type": "code",
   "execution_count": null,
   "metadata": {},
   "outputs": [],
   "source": [
    "guess_counter = 1                         # Initialisierung Akkumulator\n",
    "password = \"hallo123\"\n",
    "\n",
    "while password != input(\"Was ist das Passwort?\"):\n",
    "    guess_counter = guess_counter + 1     # Erhöhung Akkumulator\n",
    "\n",
    "print(\"Anzahl Versuche:\", guess_counter)  # Rückgabe Akkumulator"
   ]
  },
  {
   "cell_type": "markdown",
   "metadata": {},
   "source": [
    "Der Akkumulator ist in diesem Fall `guess_counter`, der die Anzahl an Versuchen zählt. Er wird in jeder Schleife um 1 erhöht und am Schluss zurückgegeben."
   ]
  },
  {
   "cell_type": "markdown",
   "metadata": {},
   "source": [
    "Wir können mit dem gleichen Muster aber auch Strings abspeichern. Hierzu ein Beispiel:"
   ]
  },
  {
   "cell_type": "code",
   "execution_count": null,
   "metadata": {},
   "outputs": [],
   "source": [
    "guess = input(\"Was ist das Passwort?\")\n",
    "password = \"hallo123\"\n",
    "\n",
    "log = \"\"\n",
    "\n",
    "while guess != password:\n",
    "    log = log + \" \" + guess\n",
    "    guess = input(\"Was ist das Passwort?\")\n",
    "\n",
    "print(\"Versuchte Passwörter:\", log)"
   ]
  },
  {
   "cell_type": "markdown",
   "metadata": {},
   "source": [
    "In diesem Fall ist der Akkumulator eine Zeichenkette (`str`). Am Anfang ist sie leer, aber im Laufe des Programms wird sie immer länger, da wir weitere Wörter dazuaddieren. Dadurch können wir festhalten, welche Passwörter versucht wurden."
   ]
  },
  {
   "cell_type": "markdown",
   "metadata": {},
   "source": [
    "<br><br><br><br><br>\n",
    "\n",
    "<div class=\"exercise\">\n",
    "\n",
    "<img src=\"https://i.imgur.com/JyhBeDB.png\" class=\"exercise_image\" width=100>\n",
    "\n",
    "<span class=\"exercise_label\">**Aufgabe:**</span>\n",
    "\n",
    "Verwende `for`-Loops, um die Summe aller Zahlen zwischen 1 und 10 zu berechnen (also 1 + 2 + ... + 9 + 10). Verwende das Akkumulator-Muster.\n",
    "</div>"
   ]
  },
  {
   "cell_type": "markdown",
   "metadata": {},
   "source": [
    "\n",
    "<div class=\"exercise\">\n",
    "\n",
    "<img src=\"https://i.imgur.com/JyhBeDB.png\" class=\"exercise_image\" width=100>\n",
    "\n",
    "<span class=\"exercise_label\">**Aufgabe:**</span>\n",
    "\n",
    "Schreibe ein Programm, welches nach einer Texteingabe fragt, und danach diesen Text in umgekehrter Reihenfolge zurückgibt. Verwende das Akkumulator-Muster.\n",
    "\n",
    "Beispiel:\n",
    "`abcd` -> `dcba`\n",
    "</div>"
   ]
  },
  {
   "cell_type": "markdown",
   "metadata": {},
   "source": [
    "<br><br><br><br><br>\n",
    "\n",
    "## 4. `break` und `continue`\n",
    "`break` und `continue` sind Schlüsselwörter, die uns erlauben, Schleifen zu kontrollieren.\n",
    "Es ist immer nur die innerste Schleife betroffen.\n",
    "\n",
    "`break`:\n",
    "- Beendet die Schleife sofort"
   ]
  },
  {
   "cell_type": "code",
   "execution_count": null,
   "metadata": {},
   "outputs": [],
   "source": [
    "# Beispiel `break`\n",
    "for i in 1, 2, 3, 4, 5: # for-Schleife mit einer Sequenz als Iterationsvariable\n",
    "    if i == 3:          # Bedingung\n",
    "        break           # Sofortiges Beenden der Schleife\n",
    "    print(i)\n"
   ]
  },
  {
   "cell_type": "markdown",
   "metadata": {},
   "source": [
    "`continue`:\n",
    "- Beendet die aktuelle Iteration und fährt mit der nächsten fort"
   ]
  },
  {
   "cell_type": "code",
   "execution_count": null,
   "metadata": {},
   "outputs": [],
   "source": [
    "# Beispiel `continue`\n",
    "for i in 1, 2, 3, 4, 5: # for-Schleife mit einer Sequenz als Iterationsvariable\n",
    "    if i == 3:          # Bedingung\n",
    "        continue        # Überspringen der restlichen Anweisungen in der Schleife und Fortsetzung mit der nächsten Iteration\n",
    "    print(i)\n"
   ]
  },
  {
   "cell_type": "markdown",
   "metadata": {},
   "source": [
    "<br><br><br><br><br>\n",
    "\n",
    "<div class=\"exercise\">\n",
    "\n",
    "<img src=\"https://i.imgur.com/JyhBeDB.png\" class=\"exercise_image\" width=100>\n",
    "\n",
    "<span class=\"exercise_label\">**Aufgabe:**</span>\n",
    "\n",
    "Was ist die Ausgabe von folgenden Programmen?\n",
    "\n",
    "<br><br>\n",
    "**a)**\n",
    "```python\n",
    "mysum = 0\n",
    "for i in range(10):\n",
    "    mysum = mysum + 1\n",
    "    if mysum > 5:\n",
    "        break\n",
    "\n",
    "print(mysum)\n",
    "```\n",
    "\n",
    "<br><br>\n",
    "**b)**\n",
    "```python\n",
    "\n",
    "for x in \"apple\", \"orange\", \"pear\":\n",
    "    if x == \"pear\":\n",
    "        continue\n",
    "    print(x)\n",
    "```\n",
    "\n",
    "<br><br>\n",
    "**c)**\n",
    "```python\n",
    "while True:\n",
    "    stop = input(\"do you want to stop?\")\n",
    "    if stop == \"yes\":\n",
    "        break\n",
    "```\n",
    "\n",
    "</div>"
   ]
  },
  {
   "cell_type": "code",
   "execution_count": null,
   "metadata": {},
   "outputs": [],
   "source": []
  }
 ],
 "metadata": {
  "kernelspec": {
   "display_name": "base",
   "language": "python",
   "name": "python3"
  },
  "language_info": {
   "codemirror_mode": {
    "name": "ipython",
    "version": 3
   },
   "file_extension": ".py",
   "mimetype": "text/x-python",
   "name": "python",
   "nbconvert_exporter": "python",
   "pygments_lexer": "ipython3",
   "version": "3.10.9"
  },
  "orig_nbformat": 4
 },
 "nbformat": 4,
 "nbformat_minor": 2
}
