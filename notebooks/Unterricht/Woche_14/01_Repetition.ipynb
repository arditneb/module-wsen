{
 "cells": [
  {
   "cell_type": "markdown",
   "metadata": {},
   "source": [
    "# Repetition\n",
    "Nachfolgendes Notebook soll zur Prüfungsvorbereitung unterstützen, indem es bekannte Konzepte nochmals mit anderen Worten erklärt. Es ist bei Weitem nicht vollständig."
   ]
  },
  {
   "cell_type": "markdown",
   "metadata": {},
   "source": [
    "## 1. Comprehensions\n",
    "### 1.1 In Kürze:\n",
    "Comprehensions können verwendet werden, wenn aus einer Liste/einem Set/einem Dictionary eine andere Liste/Set/Dictionary erzeugt werden soll. Dabei wird jedes Element einzeln und unabhängig von allen anderen Elementen transformiert."
   ]
  },
  {
   "cell_type": "code",
   "execution_count": null,
   "metadata": {},
   "outputs": [],
   "source": [
    "def add_one(some_list):\n",
    "    result = []  # das Resultat ist wieder eine Liste\n",
    "    for e in some_list:\n",
    "        result.append(e + 1)  # e + 1 gibt immer denselben Wert, unabhängig von anderen Werten\n",
    "    return result\n",
    "\n",
    "# daher kann es als for-Comprehension ausgedrückt werden\n",
    "def add_one(some_list):\n",
    "    return [e + 1 for e in some_list]\n",
    "\n",
    "add_one([1, 2, 3])  # aus einer Liste wird eine neue Liste"
   ]
  },
  {
   "cell_type": "markdown",
   "metadata": {},
   "source": [
    "Weil jedes Element einzeln transformiert wird, können wir folgenden Code nicht als `for`-Comprehension umschreiben:"
   ]
  },
  {
   "cell_type": "code",
   "execution_count": null,
   "metadata": {},
   "outputs": [],
   "source": [
    "running_sum = 0\n",
    "result = []\n",
    "for i in range(10):\n",
    "    # Der Wert von running_sum zum Zeitpunkt i hängt von den vorangehenden Werten ab. \n",
    "    # Daher kann dies nicht als for-Comprehension geschrieben werden\n",
    "    running_sum = running_sum + i\n",
    "    result.append(running_sum)\n",
    "\n",
    "result"
   ]
  },
  {
   "cell_type": "markdown",
   "metadata": {},
   "source": [
    "Mit `if` kann zudem die Comprehension nach einem Kriterium filtern. Auch dieses Kriterium muss unabhängig von allen anderen Werten errechenbar sein."
   ]
  },
  {
   "cell_type": "code",
   "execution_count": null,
   "metadata": {},
   "outputs": [],
   "source": [
    "def filter_positive(some_list):\n",
    "    result = []\n",
    "    for e in some_list:\n",
    "        # wir können für jedes Element nabhängig von allen anderen Werten sagen, ob es grösser als 0 ist\n",
    "        if e > 0:\n",
    "            result.append(e)\n",
    "    return result\n",
    "\n",
    "# daher als for-Comprehension\n",
    "def filter_positive(some_list):\n",
    "    return [e for e in some_list if e > 0]\n"
   ]
  },
  {
   "cell_type": "markdown",
   "metadata": {},
   "source": [
    "Eine `for`-Comprehension kann nicht _alleine_ verwendet werden, wenn das Resultat nur eine Zahl o.ä. ist. Häufig werden `for`-Comprehensions jedoch mit den Builtin-Funktionen `min`, `max` oder `sum` kombiniert, um eine einzelne Zahl auszugeben."
   ]
  },
  {
   "cell_type": "code",
   "execution_count": null,
   "metadata": {},
   "outputs": [],
   "source": [
    "def largest_absolute_value(some_list):\n",
    "    \"\"\"Die Funktion gibt den grössten Absolutwert / den grössten Betrag in der Liste aus.\n",
    "    \n",
    "    Beispiele:\n",
    "    [-1, -2, -3] -> 3, [1, -2] -> 2; [2, -1] -> 2\n",
    "    \"\"\"\n",
    "    # Dazu berechnen wir für jede Zahl zunächst den Betrag, und erhalten wieder eine Liste.\n",
    "    # Entsprechend verwenden wir dazu eine for-Comprehension.\n",
    "    transformed = [abs(e) for e in some_list]\n",
    "    \n",
    "    # Anschliessend geben wir das Maximum der transformierten Liste zurück\n",
    "    return max(transformed) "
   ]
  },
  {
   "cell_type": "markdown",
   "metadata": {},
   "source": [
    "### 1.2 Einen `for`-Loop in eine `for`-Comprehension umwandeln\n",
    "\n",
    "Um einen `for`-Loop in eine `for`-Comprehension umzuwandeln, gehst du wie folgt vor:\n",
    "\n",
    "**Schritt 1**\n",
    "\n",
    "Zuerst musst du deinen `for`-Loop in folgende Form bringen:\n",
    "\n",
    "```python\n",
    "# Wenn das Resultat eine Liste ist:\n",
    "result = []\n",
    "for e in some_input:\n",
    "    result.append(do_something_to(e))\n",
    "\n",
    "# Wenn es ein Set ist:\n",
    "result = set()\n",
    "for e in some_input:\n",
    "    result.add(do_something_to(e))\n",
    "\n",
    "# Wenn das Resultat ein Dictionary ist:\n",
    "result = {}\n",
    "for e in some_input:\n",
    "    result[do_something_to(e)] = do_something_else_to(e)\n",
    "```\n",
    "\n",
    "Wenn über mehr als einen Wert gleichzeitig iteriert wird, wie z.B. mit `for k, v in some_input.items()`, ist dies auch ok. Wichtig ist, dass im `for`-Loop alles auf einer Zeile ist. Wenn der dazugehörige Code auf mehreren Zeilen ist, fasse ihn auf einer einzelnen Zeile zusammen. Oder wenn dies nicht möglich ist, verpacke ihn in eine neue Funktion.\n",
    "\n",
    "Hier ein Beispiel:\n"
   ]
  },
  {
   "cell_type": "code",
   "execution_count": null,
   "metadata": {},
   "outputs": [],
   "source": [
    "def some_weird_function(some_input, a, b):\n",
    "    output = {}\n",
    "    for k, v in some_input.items():\n",
    "        new_key = k + a\n",
    "        new_value = v + b\n",
    "        output[new_key] = new_value\n",
    "    return output "
   ]
  },
  {
   "cell_type": "markdown",
   "metadata": {},
   "source": [
    "Dies bringen wir in unsere gewünschte Form, indem wir `new_key` direkt durch `k + a`, und `new_value` durch `v + b` ersetzen."
   ]
  },
  {
   "cell_type": "code",
   "execution_count": null,
   "metadata": {},
   "outputs": [],
   "source": [
    "def some_weird_function(some_input, a, b):\n",
    "    output = {}\n",
    "    for k, v in some_input.items():\n",
    "        output[k + a] = v + b\n",
    "    return output "
   ]
  },
  {
   "cell_type": "markdown",
   "metadata": {},
   "source": [
    "Wenn im `for`-Loop ein `if` ist, muss auch die Bedingung auf eine Zeile gebracht werden:\n",
    "```python\n",
    "result = []\n",
    "for e in some_input:\n",
    "    if some_condition(e):\n",
    "        result.append(do_something_to(e))\n",
    "```"
   ]
  },
  {
   "cell_type": "markdown",
   "metadata": {},
   "source": [
    "**Schritt 2**\n",
    "\n",
    "Nun können wir es einfach mit copy-paste übersetzen. Du musst nur noch die Klammern entsprechend dem Output-Typ wählen.\n",
    "\n",
    "```python\n",
    "# Listen:\n",
    "result = []\n",
    "for e in some_input:\n",
    "    result.append(do_something_to(e))\n",
    "# wird zu\n",
    "result = [do_something_to(e) for e in some_input]\n",
    "\n",
    "\n",
    "# Sets:\n",
    "result = set()\n",
    "for e in some_input:\n",
    "    result.add(do_something_to(e))\n",
    "\n",
    "# wird zu\n",
    "result = {do_something_to(e) for e in some_input}\n",
    "\n",
    "\n",
    "# Dictionary:\n",
    "result = {}\n",
    "for e in some_input:\n",
    "    result[do_something_to(e)] = do_something_else_to(e)\n",
    "\n",
    "# wird zu\n",
    "result = {do_something_to(e): do_something_else_to(e) for e in some_input}\n",
    "```\n",
    "\n",
    "In unserem Beispiel:"
   ]
  },
  {
   "cell_type": "code",
   "execution_count": null,
   "metadata": {},
   "outputs": [],
   "source": [
    "def some_weird_function(some_input, a, b):\n",
    "    output = {}\n",
    "    for k, v in some_input.items():\n",
    "        output[k + a] = v + b\n",
    "    return output \n",
    "\n",
    "# wird zu\n",
    "def some_weird_function(some_input, a, b):\n",
    "    output = {k + a: v + b for k, v in some_input.items()}\n",
    "    return output \n",
    "\n",
    "# Hier haben wir statt e einfach k, v. Aber dies ändert sonst nichts, man darf sich nicht beirren lassen."
   ]
  },
  {
   "cell_type": "markdown",
   "metadata": {},
   "source": [
    "Und wenn nun noch eine Bedingung im `for`-Loop ist, copy-pasten wir diese hinten dran:\n",
    "\n",
    "```python\n",
    "result = []\n",
    "for e in some_input:\n",
    "    if some_condition(e):\n",
    "        result.append(do_something_to(e))\n",
    "\n",
    "# wird zu\n",
    "result = [do_something_to(e) for e in some_input if some_condition(e)]\n",
    "```\n",
    "\n"
   ]
  },
  {
   "cell_type": "markdown",
   "metadata": {},
   "source": [
    "## 2. Rekursion\n",
    "\n",
    "### 2.1 Komplizierten Code mit rekursiven Funktionen verstehen\n",
    "Will man eine Funktion verstehen, führt man diese am besten \"von Hand\" für ein paar Beispiele aus. Wie man dabei vorgeht, zeige ich an Hand von folgendem, ziemlich komplizierten Beispiel (deutlich komplizierter, als was ihr für die Prüfung analysieren müsst):"
   ]
  },
  {
   "cell_type": "code",
   "execution_count": null,
   "metadata": {},
   "outputs": [],
   "source": [
    "def f1(l_1, l_2):\n",
    "    \"\"\"l_1 and l_2 must be sorted lists.\"\"\"\n",
    "    i = 0\n",
    "    j = 0\n",
    "    result = []\n",
    "    while (i < len(l_1)) and (j < len(l_2)):\n",
    "        if l_1[i] < l_2[j]:\n",
    "            result.append(l_1[i])\n",
    "            i = i + 1\n",
    "        else:\n",
    "            result.append(l_2[j])\n",
    "            j = j + 1\n",
    "\n",
    "    return result + l_1[i:] + l_2[j:]\n",
    "\n",
    "\n",
    "def f2(l):\n",
    "    if len(l) <= 1:\n",
    "        return l\n",
    "    \n",
    "    middle = len(l) // 2\n",
    "    left = l[:middle]\n",
    "    right = l[middle:]\n",
    "\n",
    "    return f1(\n",
    "        f2(left),\n",
    "        f2(right)\n",
    "    )"
   ]
  },
  {
   "cell_type": "markdown",
   "metadata": {},
   "source": [
    "Bei so umfangreichen Code dürfen wir uns nicht von Anfang an in den Details verlieren, sondern uns zuerst einen Überblick verschaffen. Dazu fragen wir uns: Welche \"eigene\" Funktionen `f1` und `f2` auf?\n",
    "- `f1` verwendet nur Python-spezifische Funktionen.\n",
    "- `f2` ruft `f1` und `f2` auf. Da die Funktion sich selbst aufruft, ist sie rekursiv.\n",
    "\n",
    "Um den Code zu verstehen, schauen wir uns zuerst diejenigen Funktionen an, welche _keine_ anderen Funktionen aufruft. In unserem Fall ist dies `f1`."
   ]
  },
  {
   "cell_type": "markdown",
   "metadata": {},
   "source": [
    "#### Analyse von f1 "
   ]
  },
  {
   "cell_type": "code",
   "execution_count": null,
   "metadata": {},
   "outputs": [],
   "source": [
    "def f1(l_1, l_2):\n",
    "    \"\"\"l_1 and l_2 must be sorted lists.\"\"\"\n",
    "    i = 0\n",
    "    j = 0\n",
    "    result = []\n",
    "    while (i < len(l_1)) and (j < len(l_2)):\n",
    "        if l_1[i] < l_2[j]:\n",
    "            result.append(l_1[i])\n",
    "            i = i + 1\n",
    "        else:\n",
    "            result.append(l_2[j])\n",
    "            j = j + 1\n",
    "\n",
    "    return result + l_1[i:] + l_2[j:]"
   ]
  },
  {
   "cell_type": "markdown",
   "metadata": {},
   "source": [
    "**Frage 1: Welcher Datentyp ist der Input und der Output?**<br>\n",
    "Laut Kommentar sind beide Inputs `l_1` und `l_2` Listen. Der Output ist ebenfalls unsere Liste. Unsere Funktion erzeugt also aus zwei Listen eine einzelne Liste.\n",
    "\n",
    "**Frage 2: Was ist ein möglichst einfacher Funktionsaufruf?**<br>\n",
    "Wir suchen Inputs für unsere Funktion, wofür es einfach ist, das Funktionsresultat zu berechnen. Bei Schleifen ist dies oft bei leeren Listen, Strings, etc. oder bei Input-Werten von 0 der Fall. Bei rekursiven Funktionen ist es beim Stopp-Kriterium.\n",
    "\n",
    "Bei uns ist der einfachste Funktionsaufruf, wenn `l_1` und `l_2` beides leere Listen sind. In diesem Fall kommen wir nicht in die `while`-Schleife, und geben einfach eine leere Liste zurück. Aus zwei leeren Listen wird also wieder eine leere Liste. Es lohnt sich dies festzuhalten, damit wir den Überblick behalten:"
   ]
  },
  {
   "cell_type": "code",
   "execution_count": null,
   "metadata": {},
   "outputs": [],
   "source": [
    "f1([], []) == []"
   ]
  },
  {
   "cell_type": "markdown",
   "metadata": {},
   "source": [
    "**Frage 3: Wie können wir den Funktionsaufruf schrittweise schwieriger machen?**<br>\n",
    "Nun versuchen wir uns schrittweise von diesem einfachsten Beispiel zu entfernen. Wir halten dabei immer das Resultat fest."
   ]
  },
  {
   "cell_type": "markdown",
   "metadata": {},
   "source": [
    "Was ist das Resultat von `f1([1], [])`? \n",
    "\n",
    "Am Anfang sind `i` und `j` beide Null. Überprüfen wir die Bedingung im `while`-Loop: Wir haben `len(l_1) == 1`, und `len(l_2) == 0`. Da `0 < len(l_2)` uns False zurückgibt, gehen wir immer noch nicht in die `while`-Schleife, sondern direkt zum `return`. Wir geben `result + l_1[0:] + l_2[0:]` zurück. Dabei haben wir `result == []`, `l_1[0:] == l_1 == [1]`, und `l_2[0:] == l_2 == []`. Der Rückgabewert ist also `[1]`. Wir halten es fest als:"
   ]
  },
  {
   "cell_type": "code",
   "execution_count": null,
   "metadata": {},
   "outputs": [],
   "source": [
    "f1([1], []) == [1]"
   ]
  },
  {
   "cell_type": "markdown",
   "metadata": {},
   "source": [
    "Um das Beispiel weiter zu komplizieren, berechnen wir `f1([1, 2], [])`. \n",
    "\n",
    "Wir haben immer noch `len(l_2) == 0` und gehen immer noch nicht in die `while`-Schleife. Das Resultat ist wieder einfach `result + l_1[0:] + l_2[0:] == [] + [1, 2] + [] == [1, 2]`. Wir halten fest:"
   ]
  },
  {
   "cell_type": "code",
   "execution_count": null,
   "metadata": {},
   "outputs": [],
   "source": [
    "f1([1, 2], []) == [1, 2]"
   ]
  },
  {
   "cell_type": "markdown",
   "metadata": {},
   "source": [
    "Nun berechnen wir `f1([], [1])`. \n",
    "\n",
    "Bei der Überprüfung der `while`-Condition sehen wir, dass nun zwar `j < len(l_2)` (da `j == 0` und `len(l_2) == 1`), aber nun ist `i < len(l_1)` (mit `i == 0` und `len(l_1) == 0`) False. Wir gehen immer noch nicht ins `while`. Das Resultat ist: `result + l_1[0:] + l_2[0:] == [] + [] + [1]`. Somit:"
   ]
  },
  {
   "cell_type": "code",
   "execution_count": null,
   "metadata": {},
   "outputs": [],
   "source": [
    "f1([], [1]) == [1]"
   ]
  },
  {
   "cell_type": "markdown",
   "metadata": {},
   "source": [
    "Die Funktion hat also eine gewisse Symetrie. Es ist auch einfach zu überprüfen, dass:"
   ]
  },
  {
   "cell_type": "code",
   "execution_count": null,
   "metadata": {},
   "outputs": [],
   "source": [
    "f1([], [1, 2]) == [1, 2]"
   ]
  },
  {
   "cell_type": "markdown",
   "metadata": {},
   "source": [
    "Als nächst-schwieriges Beispiel berechnen wir `f1([1], [1])`. \n",
    "\n",
    "Nun haben wir `len(l_1) == len(l_2) == 1`, und wir gehen in die Schleife. Wir überprüfen als nächstes `l_1[0] < l_1[0]`, also `1 < 1`. Dies gibt uns `False` zurück. Wir gehen also ins `else`. Nun hängen wir ans Resultat `l_2[0]` an `result` an, und erhöhen `j` um eins. Nach dem ersten Loop ist also `i == 0`, `j == 1` und `result == [1]`. \n",
    "\n",
    "Da jetzt `j < len(l_2)` nicht mehr `True` ist, ist die `while`-Schleife beeendet. Wir geben als Resultat nun `result + l_1[0:] + l_1[1:]` zurück. Dabei ist `result == [1]`, `l_1[0:] == [1]` und `l_1[1:] == []`. Wir haben also:"
   ]
  },
  {
   "cell_type": "code",
   "execution_count": null,
   "metadata": {},
   "outputs": [],
   "source": [
    "f1([1], [1]) == [1, 1]"
   ]
  },
  {
   "cell_type": "markdown",
   "metadata": {},
   "source": [
    "Berechnen wir `f1([1], [1, 2])`.\n",
    "\n",
    "Wir gehen wieder in die Schleife, und überprüfen `l_1[0] < l_2[0]`. Dies ist `False`, wir gehen ins `else`. Nach dem ersten Schleifendurchlauf ist `result == [1]`, `i == 0` und `j == 1`. \n",
    "\n",
    "Beim zweiten Schleifendurchlauf überprüfen wir `l_1[0] < l_2[1]`. Dies ist `True`, wir gehen ins `if`. Nun wird `i` um eins erhöht, und wir hängen `l_1[0]` an `result` an. Danach ist `result == [1, 1]`, `i == 1` und `j == 1`.\n",
    "\n",
    "Nun gilt nicht mehr `i < len(l_1)`, und wir geben das Resultat zurück. Das Resultat ist nun: `result + l_1[1:] + l_2[1:] == [1, 1] + [] + [2]`. Wir halten fest: "
   ]
  },
  {
   "cell_type": "code",
   "execution_count": null,
   "metadata": {},
   "outputs": [],
   "source": [
    "f1([1], [1, 2]) == [1, 1, 2]"
   ]
  },
  {
   "cell_type": "markdown",
   "metadata": {},
   "source": [
    "Berechnen wir noch `f1([1, 2], [1, 2])`. \n",
    "\n",
    "Wir halten der aktuelle Status nach jedem Schleifendurchlauf fest. Es sieht wie folgt aus:\n",
    "\n",
    "Am Anfang:<br>\n",
    "i == 0, j == 0, result == []\n",
    "\n",
    "Nach Schleife 1:<br>\n",
    "i == 0, j == 1, result == [1]\n",
    "\n",
    "Nach Schleife 2:<br>\n",
    "i == 1, j == 1, result == [1, 1]\n",
    "\n",
    "Nach Schleife 3:<br>\n",
    "i == 1, j == 2, result == [1, 1, 2]\n",
    "\n",
    "Das Resultat ist somit:\n",
    "`result + l_1[1:] + l_2[2:] == [1, 1, 2] + [2] + [] == [1, 1, 2, 2]`. \n",
    "\n",
    "Wir halten fest:"
   ]
  },
  {
   "cell_type": "code",
   "execution_count": null,
   "metadata": {},
   "outputs": [],
   "source": [
    "f1([1, 2], [1, 2]) == [1, 1, 2, 2]"
   ]
  },
  {
   "cell_type": "markdown",
   "metadata": {},
   "source": [
    "**Frage 4: Was macht nun die Funktion?**<br>\n",
    "Wenn wir genügend Beispiele durchgerechnet haben, erkennen wir langsam ein Muster. Für unser Beispiel erkennen wir, dass die Funktion zwei sortierte Liste entgegennimmt, und diese so zusammenfügt, dass wieder eine sortierte Liste daraus entsteht."
   ]
  },
  {
   "cell_type": "markdown",
   "metadata": {},
   "source": [
    "#### Analyse von f2\n",
    "\n",
    "Nun machen wir dasselbe mit `f2`."
   ]
  },
  {
   "cell_type": "code",
   "execution_count": null,
   "metadata": {},
   "outputs": [],
   "source": [
    "def f2(l):\n",
    "    \"\"\"l is a list.\"\"\"\n",
    "    if len(l) <= 1:\n",
    "        return l\n",
    "    \n",
    "    middle = len(l) // 2\n",
    "    left = l[:middle]\n",
    "    right = l[middle:]\n",
    "\n",
    "    return f1(\n",
    "        f2(left),\n",
    "        f2(right)\n",
    "    )"
   ]
  },
  {
   "cell_type": "markdown",
   "metadata": {},
   "source": [
    "**Frage 1: Welcher Datentyp ist der Input und der Output?**<br>\n",
    "`l` ist eine Liste, laut Kommentar. Das Resultat hat denselben Datentypen wie das Resultat von `f2` - also eine Liste.\n",
    "\n",
    "**Frage 2: Was ist ein möglichst einfacher Funktionsaufruf?**<br>\n",
    "Bei rekursiven Funktionen ist der einfachst mögliche Funktionsaufruf der \"Base-Case\". In unserem Fall tritt dies auf, wenn `len(l) <= 1` ist - dann geben wir einfach `l` zurück. Somit gilt:"
   ]
  },
  {
   "cell_type": "code",
   "execution_count": null,
   "metadata": {},
   "outputs": [],
   "source": [
    "f2([]) == []\n",
    "f2([1]) == [1]\n",
    "f2([2]) == [2]\n",
    "# usw."
   ]
  },
  {
   "cell_type": "markdown",
   "metadata": {},
   "source": [
    "**Frage 3: Wie können wir den Funktionsaufruf schrittweise schwieriger machen?**<br>\n",
    "Nehmen wir als Beispiel `f2([1, 1])`. Was passiert?\n",
    "\n",
    "Wir identifizieren `middle == len(l) // 2 == 2 // 2 == 1`, und somit ist `left == l[:1] == [1]` und `right[1:] == [1]`. Als nächstes berechnen wir `f2(left) == f2([1])`. Dies ist der Base-Case, und wir wissen `f2(left) == [1]`. Genauso ist `f2(right) == [1]`. Zum Schluss müssen wir noch `f1([1], [1])` berechnen. Von oben wissen wir, dass `f1([1], [1]) == [1, 1]`. Das Resultat ist somit `[1, 1]`.\n",
    "\n",
    "Wir halten fest:"
   ]
  },
  {
   "cell_type": "code",
   "execution_count": null,
   "metadata": {},
   "outputs": [],
   "source": [
    "f2([1, 1]) == [1, 1]"
   ]
  },
  {
   "cell_type": "markdown",
   "metadata": {},
   "source": [
    "Für `f2([1, 2])`:\n",
    "\n",
    "Wir haben wieder `middle == 1`, `left == [1]` und `right == [2]`. Wir sind wieder im Base-Case, und haben `f2(left) == [1]`, und `f2(right) == [2]`. Wir müssen nun wieder `f2` aufrufen, um die zwei sortierten Listen zu einer neuen sortierten Liste zusammenzuführen. Da wir wissen, was `f1` tut, wissen wir auch, dass `f1([1], [2]) == [1, 2]`. Dies ist unser Resultat. Damit:"
   ]
  },
  {
   "cell_type": "code",
   "execution_count": null,
   "metadata": {},
   "outputs": [],
   "source": [
    "f2([1, 2]) == [1, 2]"
   ]
  },
  {
   "cell_type": "markdown",
   "metadata": {},
   "source": [
    "Nun für `f2([2, 1])`:\n",
    "\n",
    "Wir haben `middle == 1`, `left == [2]` und `right == [1]`. Somit ist `f2(left) == [2]` und `f2(right) == [1]`. Der Funktionsaufruf `f1([2], [1]) == [1, 2]`. Das Resultat ist also `[1, 2]`. Damit:"
   ]
  },
  {
   "cell_type": "code",
   "execution_count": null,
   "metadata": {},
   "outputs": [],
   "source": [
    "f2([2, 1]) == [1, 2]"
   ]
  },
  {
   "cell_type": "markdown",
   "metadata": {},
   "source": [
    "Und für `f2([3, 1, 2])`:\n",
    "\n",
    "Wir haben `middle == 3 // 2 == 1` (abgerundet von 1.5). Somit ist `left == [3]` und `right == [1, 2]`. `f2(left) == f2([3]) == [3]`, da es sich wieder um den Base-Case handelt. `f2(right) == f2([1, 2])`. Von vorher (in unseren festgehaltenen Resultaten) wissen wir, dass `f2([1, 2]) == [1, 2]`. Nun rufen wir noch `f1([3], [1, 2])` auf. Das Resultat davon ist `[1, 2, 3]`."
   ]
  },
  {
   "cell_type": "code",
   "execution_count": null,
   "metadata": {},
   "outputs": [],
   "source": [
    "f2([3, 1, 2]) == [1, 2, 3]"
   ]
  },
  {
   "cell_type": "markdown",
   "metadata": {},
   "source": [
    "**Frage 4: Was macht nun die Funktion?**<br>\n",
    "Die Funktion `f2` nimmt also eine Liste entgegen, und gibt diese sortiert zurück. Der Algorithmus heisst \"mergesort\" und ist hier nochmals ausführlicher erklärt: https://de.wikipedia.org/wiki/Mergesort. \n",
    "\n",
    "Wichtig beim manuellen Ausführen vom Code ist es also, die Zwischenresultate festzuhalten und strukturiert zu arbeiten."
   ]
  },
  {
   "cell_type": "markdown",
   "metadata": {},
   "source": [
    "### 2.2 Rekursive Funktionen selber schreiben: Ein Rezept"
   ]
  },
  {
   "cell_type": "markdown",
   "metadata": {},
   "source": [
    "Betrachte folgende Beispielaufgabe: \"Schreiben Sie folgende Funktion als rekursive Funktion um.\"\n",
    "```python\n",
    "def apply_f(some_list, f):\n",
    "    return min([f(e) for e in some_list])\n",
    "```"
   ]
  },
  {
   "cell_type": "markdown",
   "metadata": {},
   "source": [
    "**Schritt 0: Den Code verstehen.** Da wir hier ein bestehendes Programm umschreiben, müssen wir uns zuerst fragen: Was macht das Programm? Dazu kann es hilfreich sein, den Code auseinander zu nehmen und Zwischenresultate in Variablen zu speichern.\n",
    "\n",
    "```python\n",
    "def apply_f(some_list, f):\n",
    "    zwischenresultat = [f(e) for e in some_list]\n",
    "    return min(zwischenresultat)\n",
    "```\n",
    "\n",
    "Wir sehen, unsere Funktion macht zwei Dinge:\n",
    "- Sie transformiert jedes Element in der Liste mit der Funktion `f`.\n",
    "- Dann findet es den kleinsten Wert der transformierten Liste.\n",
    "\n"
   ]
  },
  {
   "cell_type": "markdown",
   "metadata": {},
   "source": [
    "**Schritt 1: Den Base-Case identifizieren.** In welchen Fällen wissen wir sofort, was das Resultat ist - ohne komplizierte Berechnungen? Dies ist der sogenannte \"Base-Case\", welchen wir als Stopp-Kriterion verwenden werden. Der Base-Case tritt oft auf, wenn ein Input-Wert den Wert 0 oder 1 hat, oder wenn die Input-Sequenz kein oder nur ein Element hat.\n",
    "\n",
    "In diesem Fall ist der Base-Case der Fall, dass unsere Liste nur ein Element hat - dann ist das transformierte Minimum ja ganz einfach der transformierte Wert.\n",
    "\n",
    "Den Base-Case bauen wir schon mal in unsere Funktion ein."
   ]
  },
  {
   "cell_type": "code",
   "execution_count": null,
   "metadata": {},
   "outputs": [],
   "source": [
    "def apply_f(some_list, f):\n",
    "    if len(some_list) == 1:\n",
    "        return f(some_list[0])\n",
    "    \n",
    "\n",
    "# Unsere Funktion funktioniert schon mit dem einfachen Fall, wenn die Liste nur ein Element enthält\n",
    "apply_f([2], lambda x: x**2)"
   ]
  },
  {
   "cell_type": "markdown",
   "metadata": {},
   "source": [
    "**Schritt 2: Die Rekursion identifizieren.** Dies erfordert nun etwas Fantasie. Wir müssen uns Fragen: Wenn wir wüssten, was das Funktionsresultat für einen bestimmten Input ist, wie könnten wir den nächsten Wert berechnen?\n",
    "\n",
    "In unserem Fall stellen wir uns vor dass wir wissen, was der kleinste transformierte Wert einer Liste `some_list` ist. Oder anders gesagt: Gehen wir davon aus, dass wir das Resultat von `apply_f(some_list, f)` kennen. Wenn jetzt der Wert `value` an die Liste angehängt würde, was wäre das neue Resultat?\n",
    "\n",
    "Die Antwort: \n",
    "```python\n",
    "if apply_f(some_list, f) > f(value):\n",
    "    # f(value) ist der neue kleinste Wert\n",
    "    return f(value)\n",
    "else:\n",
    "    return apply_f(some_list, f)\n",
    "```"
   ]
  },
  {
   "cell_type": "markdown",
   "metadata": {},
   "source": [
    "**Schritt 3: Die Rekursion einbauen.** Da ja in unserem Fall nicht immer neue Werte hinzufügen, müssen wir sie künstlich \"wegnehmen\". Was dabei übrig bleibt soll immer näher an den Base-Case kommen - die übriggebliebene Liste soll also immer kürzer werden, oder die Werte immer näher an 0, etc. Der weggenommene Wert übernimmt die Rolle von `value`, der übriggebliebene Rest `some_list`. Damit erweitern wir die Funktion, welche wir in Schritt 1 begonnen haben.\n",
    "\n",
    "In unserem Fall isolieren wir immer das vorderste Element der Liste, alle anderen Elemente sind der \"Rest\". "
   ]
  },
  {
   "cell_type": "code",
   "execution_count": null,
   "metadata": {},
   "outputs": [],
   "source": [
    "def apply_f(some_list, f):\n",
    "    if len(some_list) == 1:\n",
    "        return f(some_list[0])\n",
    "\n",
    "    current_value = some_list[0]  # wir isolieren den vordersten Wert\n",
    "    remainder = some_list[1:]  # alles andere ist der Rest\n",
    "\n",
    "    # der Rest ist Copy-Paste aus Schritt 2, wobei wir \"value\" durch \"current_value\", und \"some_list\" durch \"remainder\" ersetzen\n",
    "    if apply_f(remainder, f) > f(current_value):\n",
    "        return f(current_value)\n",
    "    else:\n",
    "        return apply_f(remainder, f)"
   ]
  },
  {
   "cell_type": "markdown",
   "metadata": {},
   "source": [
    "**Schritt 4 (optional): Effizienzgewinn.** Unsere Funktion funktioniert nun bereits richtig. Allerdings berechnen wir nun das Resultat von `apply_f(remainder, f)` zwei Mal in unserem Code, obwohl dies ja immer das gleiche Resultat gibt. Daher ist es effizienter, wenn wir im Code `apply_f(remainder, f)` als Variable zwischenspeichern."
   ]
  },
  {
   "cell_type": "code",
   "execution_count": null,
   "metadata": {},
   "outputs": [],
   "source": [
    "def apply_f(some_list, f):\n",
    "    if len(some_list) == 1:\n",
    "        return f(some_list[0])\n",
    "\n",
    "    current_value = some_list[0]  # wir isolieren den vordersten Wert\n",
    "    remainder = some_list[1:]  # alles andere ist der Rest\n",
    "\n",
    "    result_apply_f = apply_f(remainder, f)  # Zwischenresultat in einer Variable abspeichern\n",
    "\n",
    "    if result_apply_f > f(current_value):\n",
    "        return f(current_value)\n",
    "    else:\n",
    "        return result_apply_f"
   ]
  },
  {
   "cell_type": "markdown",
   "metadata": {},
   "source": [
    "<br><br><br>\n",
    "**Anwendungsbeispiel 1:**\n",
    "Implementiere die Funktion `hoch(a, b)` als rekursive Funktion, welche `a ** b` berechnet.\n",
    "\n",
    "Schritt 1: Base-Case. Der einfachste Fall ist wenn `b == 0`, weil dann ist das Resultat immer `1` (`b == 1` könnten wir aber auch als Base-Case verwenden, dann ist das Resultat immer `a`). Daher ist unser Grundgerüst:"
   ]
  },
  {
   "cell_type": "code",
   "execution_count": null,
   "metadata": {},
   "outputs": [],
   "source": [
    "def hoch(a, b):\n",
    "    if b == 0:\n",
    "        return 1"
   ]
  },
  {
   "cell_type": "markdown",
   "metadata": {},
   "source": [
    "Schritt 2: Rekursion identifizieren. Wie kommen wir zum nächsten Schritt? Wir tun nun so als wissen wir das Resultat von `hoch(a, current)`, wie berechnen wir `hoch(a, current + 1)`?\n",
    " Die Antwort ist: Wir rechnen einfach `a * hoch(a, current)`."
   ]
  },
  {
   "cell_type": "markdown",
   "metadata": {},
   "source": [
    "Schritt 3: Rekursion einbauen. Wir schreiben die Funktion ja für `hoch(a, b)`. Um die Rekursion von oben anzuwenden setzten wir `b == current + 1`, oder umgeformt `current == b - 1`. Damit können wir die Rekursion nun in unsere Funktion einbauen:"
   ]
  },
  {
   "cell_type": "code",
   "execution_count": null,
   "metadata": {},
   "outputs": [],
   "source": [
    "def hoch(a, b):\n",
    "    if b == 0:\n",
    "        return 1\n",
    "    return a * hoch(a, b - 1)"
   ]
  },
  {
   "cell_type": "code",
   "execution_count": null,
   "metadata": {},
   "outputs": [],
   "source": [
    "hoch(2, 3)"
   ]
  },
  {
   "cell_type": "markdown",
   "metadata": {},
   "source": [
    "Und schon sind wir fertig - die Funktion rufen wir ja nur einmal auf, daher gibt es auch nichts aufzuräumen."
   ]
  },
  {
   "cell_type": "markdown",
   "metadata": {},
   "source": [
    "<br><br><br>\n",
    "**Anwendungsbeispiel 2:**\n",
    "Schreibe eine Funktion `flatten`, welche beliebig tiefe Unterlisten \"flach macht\". Dabei weisst du nicht im Voraus, wie viele Unterlisten du erwarten musst. Um zu erfahren, ob ein Element eine Zahl oder eine Liste ist, kannst du die Funktion `isinstance(obj, list)` verwenden.\n",
    "\n",
    "Schritt 1: Base-Case. Der einfache Fall für uns ist, wenn unsere Liste leer ist. Dann gibt es nichts abzuflachen, wir geben einfach die leere Liste zurück."
   ]
  },
  {
   "cell_type": "code",
   "execution_count": null,
   "metadata": {},
   "outputs": [],
   "source": [
    "def flatten(some_list):\n",
    "    if some_list == []:\n",
    "        return []"
   ]
  },
  {
   "cell_type": "markdown",
   "metadata": {},
   "source": [
    "Schritt 2: Die Rekursion. Nehmen wir an, ein neues Element `new_element` kommt vorne zu unserer Liste `current_list` hinzu, und wir kennen das Resultat von `flatten(current_list)`. Nun müssen wir zwei Fälle unterscheiden: \n",
    "- `new_element` ist selbst _nicht_ eine Liste. Dann ist das Resultat von der neuen Liste `[new_element] + flatten(current_list)`, wir fügen es einfach der neuen Liste hinzu.\n",
    "- `new_element` ist selbst eine Liste. Dann müssen wir diese Liste selbst zuerst auch noch \"abflachen\", und erst dann vorne dran hängen. Das Resultat ist dann `flatten(new_element) + flatten(current_list)`.\n",
    "\n",
    "Um zu überprüfen, ob `new_element` eine Liste ist, verwenden wir wie beschrieben die Funktion `isisntance(new_element, list)`. Der Code sieht also wie folgt aus:\n",
    "\n",
    "```python\n",
    "if isinstance(new_element, list):\n",
    "    result = flatten(new_element) + flatten(current_list)\n",
    "else:\n",
    "    result = [new_element] + flatten(current_list)\n",
    "```"
   ]
  },
  {
   "cell_type": "markdown",
   "metadata": {},
   "source": [
    "Schritt 3: Rekursion einbauen. Wir isolieren wieder das vorderste Element unserer Input-Liste, und verwenden es als `new_element`. Den Rest behandeln wir wie `current_list` im Schritt 2."
   ]
  },
  {
   "cell_type": "code",
   "execution_count": null,
   "metadata": {},
   "outputs": [],
   "source": [
    "def flatten(some_list):\n",
    "    if some_list == []:\n",
    "        return []\n",
    "    \n",
    "    new_element = some_list[0]\n",
    "    current_list = some_list[1:]\n",
    "\n",
    "    # Copy-Paste aus Schritt 2\n",
    "    if isinstance(new_element, list):\n",
    "        result = flatten(new_element) + flatten(current_list)\n",
    "    else:\n",
    "        result = [new_element] + flatten(current_list)\n",
    "\n",
    "    # Wir geben nur noch das Resultat zurück\n",
    "    return result"
   ]
  },
  {
   "cell_type": "code",
   "execution_count": null,
   "metadata": {},
   "outputs": [],
   "source": [
    "flatten([[1, 2, 3], 4, [[5, 6], 7]])"
   ]
  },
  {
   "cell_type": "markdown",
   "metadata": {},
   "source": [
    "## 3. OOP, Vererbung\n",
    "### 3.1 Eine Welt ohne OOP\n",
    "Wenn wir in unserem Programm verschiedene Objekte mit denselben Eigenschaften haben, könnten wir beispielsweise für jedes dieser Objekte einen Dictionary erstellen.\n",
    "\n",
    "Beispiel: Wir haben verschiedene Gemüse. Für jedes Gemüse kennen wir die Saison (als Liste von Monaten) sowie den Kilopreis. Ausserdem speichern wir auch den Namen ab. Die Dictionaries würden wie folgt aussehen:"
   ]
  },
  {
   "cell_type": "code",
   "execution_count": null,
   "metadata": {},
   "outputs": [],
   "source": [
    "tomate = {\n",
    "    \"Name\": \"Tomate\",\n",
    "    \"Preis\": 5.5,\n",
    "    \"Saison\": [5, 6, 7, 8],\n",
    "}\n",
    "\n",
    "karotte = {\n",
    "    \"Name\": \"Karotte\",\n",
    "    \"Preis\": 2.2,\n",
    "    \"Saison\": [1, 2, 3, 4, 5, 6, 7, 8, 9, 10, 11, 12],\n",
    "}\n",
    "\n",
    "kuerbis = {\n",
    "    \"Name\": \"Kuerbis\",\n",
    "    \"Preis\": 4,\n",
    "    \"Saison\": [9, 10, 11, 12],\n",
    "}"
   ]
  },
  {
   "cell_type": "markdown",
   "metadata": {},
   "source": [
    "Nun wollen wir eine Funktion \"ist_saison(gemuese, monat)\" schreiben, welche überprüft, ob das Gemüse im angegebenen Monat Saison ist. Die Funktion sieht wie folgt aus:"
   ]
  },
  {
   "cell_type": "code",
   "execution_count": null,
   "metadata": {},
   "outputs": [],
   "source": [
    "def ist_saison(gemuese, monat):\n",
    "    return monat in gemuese[\"Saison\"]\n",
    "\n",
    "ist_saison(tomate, 7)"
   ]
  },
  {
   "cell_type": "markdown",
   "metadata": {},
   "source": [
    "Diese Lösung funktioniert zwar, hat aber folgende potenzielle Probleme:\n",
    "- Wir stellen nirgends sicher, dass der Gemüse-Dictionary tatsächlich alle Informationen hat.\n",
    "- Schreibfehler in den Dictionary-Keys können sehr schnell schwierig zu findende Bugs kreieren.\n",
    "- Unsere Funktion kann nur mit genau den richtigen Gemüse-Dictionaries aufgerufen werden. Wir müssten also für jede unserer Funktionen genau beschreiben, welche Felder unser Dictionary braucht.\n",
    "- Es ist mühsam zu überprüfen, ob unser Objekt ein Gemüse darstellt."
   ]
  },
  {
   "cell_type": "markdown",
   "metadata": {},
   "source": [
    "### 3.2 OOP to the rescue\n",
    "Die potenziellen Probleme werden durch Objekt-orientierte Programmierung gelöst. Und zwar wie folgt:\n",
    "- Für jede Eigenschaft erzeugen wir ein Attribut, welches im Konstruktor gesetzt wird. Der Konstruktor \"motzt\", wenn nicht alle Eigenschaften definiert werden.\n",
    "- Da die Attribute automatisch gesetzt werden, sind die Attributnamen auch in jedem Objekt der Klasse dieselben. Schreibfehler sind kein Problem mehr.\n",
    "- Die Funktion, welche das Gemüse verarbeitet, können wir als Methode der Klasse definieren. Dadurch ist klar, dass sie nur dafür konzipiert wurde.\n",
    "- Alle Gemüse-Objekte haben denselben Objekttypen. So sehen wir sofort, ob ein Objekt ein Gemüse abbildet.\n",
    "\n",
    "Die Klasse sieht wie folgt aus:"
   ]
  },
  {
   "cell_type": "code",
   "execution_count": null,
   "metadata": {},
   "outputs": [],
   "source": [
    "class Gemuese:\n",
    "\n",
    "    def __init__(self, name, preis, saison):\n",
    "        self.name = name\n",
    "        self.preis = preis\n",
    "        self.saison = saison\n",
    "\n",
    "    def ist_saison(self, monat):\n",
    "        return monat in self.saison\n",
    "    \n",
    "tomate = Gemuese(\"Tomate\", 5.5, [5, 6, 7, 8])\n",
    "karotte = Gemuese(\"Karotte\", 2.2, [1, 2, 3, 4, 5, 6, 7, 8, 9, 10, 11, 12])\n",
    "kuerbis = Gemuese(\"Kuerbis\", 4, [9, 10, 11, 12])\n",
    "\n",
    "tomate.ist_saison(7)"
   ]
  },
  {
   "cell_type": "markdown",
   "metadata": {},
   "source": [
    "Zur Terminologie:\n",
    "- name, preis und saison sind sogenannte Instanzattribute (auch Instanzvariablen genannt). \"Attribute\" ist dabei ein Synonym für \"Eigenschaft\", \"Instanz\" heisst, dass es für jedes Objekt dieser Klasse unterschiedlich sein kann.\n",
    "- ist_saison ist eine Funktion der Klasse, und wird \"Methode\" genannt.\n",
    "- `__init__` ist eine spezielle Methode, welche aufgerufen wird, wenn ein neues Objekt erzeugt wird. Wir nennen es den \"Constructor\".  "
   ]
  },
  {
   "cell_type": "markdown",
   "metadata": {},
   "source": [
    "Die Methoden der Klasse haben immer als erstes Argument \"self\". Damit kann die Methode auf die Eigenschaften des spezifischen Objekts zugreifen (z.B. mit `self.saison` greifen wir auf die Saison desjenigen Objekts zu, auf dem die Methode `ist_saison` aufgerufen wurde). Dass dieses Argument \"self\" heisst ist aber pure Konvention - wir könnten es _theoretisch_ auch sonst irgendwie nennen:"
   ]
  },
  {
   "cell_type": "code",
   "execution_count": null,
   "metadata": {},
   "outputs": [],
   "source": [
    "class K:\n",
    "    def __init__(blabla, y):\n",
    "        blabla.y = y\n",
    "\n",
    "obj = K(123)\n",
    "obj.y"
   ]
  },
  {
   "cell_type": "markdown",
   "metadata": {},
   "source": [
    "Dieser Code ist also theoretisch zulässig. In der Praxis ist aber davon abzuraten."
   ]
  },
  {
   "cell_type": "markdown",
   "metadata": {},
   "source": [
    "### 3.3 Eine Welt ohne Vererbung\n",
    "Manchmal möchten wir für konkrete Ausprägungen einer Klasse eine neue Klasse erstellen. Vielleicht wollen wir Bio, Demeter, \"normale\" und Budget-Karotten anbieten. Dies könnten wir wie folgt tun:\n",
    "\n",
    "Zuerst fügen wir unserer \"Gemuese\"-Klasse ein neues Attribut \"kategorie\" hinzu:"
   ]
  },
  {
   "cell_type": "code",
   "execution_count": null,
   "metadata": {},
   "outputs": [],
   "source": [
    "class Gemuese:\n",
    "\n",
    "    def __init__(self, name, kategorie, preis, saison):\n",
    "        self.name = name\n",
    "        self.kategorie = kategorie\n",
    "        self.preis = preis\n",
    "        self.saison = saison\n",
    "\n",
    "    def ist_saison(self, monat):\n",
    "        return monat in self.saison\n"
   ]
  },
  {
   "cell_type": "markdown",
   "metadata": {},
   "source": [
    "Dann erzeugen wir die einzelnen Objekte:"
   ]
  },
  {
   "cell_type": "code",
   "execution_count": null,
   "metadata": {},
   "outputs": [],
   "source": [
    "bio_karotten = Gemuese(\"Karotte\", \"Bio\", 3.6, [1, 2, 3, 4, 5, 6, 7, 8, 9, 10, 11, 12])\n",
    "demeter_karotten = Gemuese(\"Karotte\", \"Demeter\", 4.2, [1, 2, 3, 4, 5, 6, 7, 8, 9, 10, 11, 12])\n",
    "karotten = Gemuese(\"Karotte\", \"Normal\", 2.2, [1, 2, 3, 4, 5, 6, 7, 8, 9, 10, 11, 12])\n",
    "budget_karotten = Gemuese(\"Karotte\", \"Budget\", 1.6, [1, 2, 3, 4, 5, 6, 7, 8, 9, 10, 11, 12])"
   ]
  },
  {
   "cell_type": "markdown",
   "metadata": {},
   "source": [
    "Dies beinhaltet nun ziemlich viel Copy-Paste - schliesslich ändert sich ja der Name und die Saison aller Karotten nicht. Um dieses Problem zu beheben, können wir eine neue Klasse, nur für Karotten erzeugen."
   ]
  },
  {
   "cell_type": "code",
   "execution_count": null,
   "metadata": {},
   "outputs": [],
   "source": [
    "class Karotte:\n",
    "\n",
    "    name = \"Karotte\"\n",
    "    saison = [1, 2, 3, 4, 5, 6, 7, 8, 9, 10, 11, 12]\n",
    "\n",
    "    def __init__(self, kategorie, preis):\n",
    "        self.kategorie = kategorie\n",
    "        self.preis = preis\n",
    "\n",
    "    def ist_saison(self, monat):\n",
    "        return monat in self.saison\n",
    "\n",
    "bio_karotten = Karotte(\"Bio\", 3.6)\n",
    "demeter_karotten = Karotte(\"Demeter\", 4.2)\n",
    "karotten = Karotte(\"Normal\", 2.2)\n",
    "budget_karotten = Karotte(\"Budget\", 1.6)"
   ]
  },
  {
   "cell_type": "markdown",
   "metadata": {},
   "source": [
    "Die Definition ist nun deutlich einheitlicher geworden. Da Name und Saison für alle Objekten / alle Instanzen der Klasse \"Karotte\" gleich sind, haben wir sie nun als Klassenattribut definiert. \n",
    "\n",
    "Wenn wir nun für Tomaten dasselbe tun wollen, sieht die Klasse wie folgt aus:"
   ]
  },
  {
   "cell_type": "code",
   "execution_count": null,
   "metadata": {},
   "outputs": [],
   "source": [
    "class Tomate:\n",
    "\n",
    "    name = \"Tomate\"\n",
    "    saison = [5, 6, 7, 8]\n",
    "\n",
    "    def __init__(self, kategorie, preis):\n",
    "        self.kategorie = kategorie\n",
    "        self.preis = preis\n",
    "\n",
    "    def ist_saison(self, monat):\n",
    "        return monat in self.saison\n",
    "\n",
    "bio_tomaten = Tomate(\"Bio\", 6.8)\n",
    "tomaten = Tomate(\"Normal\", 5.5)"
   ]
  },
  {
   "cell_type": "markdown",
   "metadata": {},
   "source": [
    "Dies bringt zwei Probleme mit sich:\n",
    "- Wir müssen die Methode `ist_saison` Copy-Pasten - und zwar für jedes neue Gemüse.\n",
    "- Wir haben wieder die Information verloren, dass sowohl Tomate und Karotte ein Gemüse sind."
   ]
  },
  {
   "cell_type": "markdown",
   "metadata": {},
   "source": [
    "### 3.4 Vererbung to the rescue\n",
    "Dieses Problem löst die Vererbung. Und zwar können wir mit der Vererbung alle Methoden der Elternklasse in eine erbende Klasse übernehmen. Dies sieht nun so aus:"
   ]
  },
  {
   "cell_type": "code",
   "execution_count": null,
   "metadata": {},
   "outputs": [],
   "source": [
    "class Tomate(Gemuese):\n",
    "    name = \"Tomate\"\n",
    "    saison = [5, 6, 7, 8]\n",
    "\n",
    "    def __init__(self, kategorie, preis):\n",
    "        self.kategorie = kategorie\n",
    "        self.preis = preis\n",
    "\n",
    "\n",
    "bio_tomaten = Tomate(\"Bio\", 6.8)\n",
    "tomaten = Tomate(\"Normal\", 5.5)"
   ]
  },
  {
   "cell_type": "markdown",
   "metadata": {},
   "source": [
    "Die Definition der Klasse wurde dadurch viel kürzer. Die Klasse `Tomate` hat die Methode `ist_saison`, ohne dass die Methode explizit definiert wurde. Diese Methode wurde von der Elternklasse \"geerbt\"."
   ]
  },
  {
   "cell_type": "code",
   "execution_count": null,
   "metadata": {},
   "outputs": [],
   "source": [
    "tomaten.ist_saison(8)"
   ]
  },
  {
   "cell_type": "markdown",
   "metadata": {},
   "source": [
    "Jetzt haben wir den Constructor von `Gemuese` in unserer erbenden Klasse komplett überschrieben. Wir können aber auch unsere Klasse initialisieren, indem wir in _unserem_ `__init__` den Constructor der übergeordneten Klasse aufrufen. Dies tun wir wie folgt:"
   ]
  },
  {
   "cell_type": "code",
   "execution_count": null,
   "metadata": {},
   "outputs": [],
   "source": [
    "class Tomate(Gemuese):\n",
    "\n",
    "    def __init__(self, kategorie, preis):\n",
    "        super().__init__(\"Tomate\", kategorie, preis, [5, 6, 7, 8])\n",
    "\n",
    "bio_tomaten = Tomate(\"Bio\", 6.8)\n",
    "tomaten = Tomate(\"Normal\", 5.5)\n",
    "\n",
    "tomaten.ist_saison(8)"
   ]
  },
  {
   "cell_type": "markdown",
   "metadata": {},
   "source": [
    "Mit `super()` greifen wir auf die Methoden der übergeordneten Klasse zu. `super()` wird genau dann verwendet, wenn...\n",
    "- sowohl die Elternklasse als auch die erbende Klasse eine Methode mit demselben Namen haben,\n",
    "- und wir explizit auf die Methode der Elternklasse zugreifen wollen.\n"
   ]
  },
  {
   "cell_type": "markdown",
   "metadata": {},
   "source": [
    "## 4. Verschiedenes\n",
    "### 4.1 Positional & Keyword-Arguments\n",
    "\n",
    "Wenn wir eine Funktion schreiben wollen, welche beliebig viele Argumente entgegennimmt, können wir dies wie folgt tun:"
   ]
  },
  {
   "cell_type": "code",
   "execution_count": null,
   "metadata": {},
   "outputs": [],
   "source": [
    "def mean(input_tuple):\n",
    "    \"\"\"Berechnet den Durchschnitt des Input-Tuples.\"\"\"\n",
    "    return sum(input_tuple) / len(input_tuple)\n",
    "\n",
    "# Funktionsaufruf:\n",
    "mean((1, 2, 3, 4, 5))"
   ]
  },
  {
   "cell_type": "markdown",
   "metadata": {},
   "source": [
    "Die doppelten Klammern sind allerdings nicht sehr elegant. Damit diese nicht notwendig sind, können wir das Input-Tuple mit einem Stern versehen. So werden die \"positional arguments\" (also alle Argumente, welche nach Position und nicht mit einem Keyword übergeben werden) in ein Tuple verpackt. "
   ]
  },
  {
   "cell_type": "code",
   "execution_count": null,
   "metadata": {},
   "outputs": [],
   "source": [
    "def mean(*input_tuple):\n",
    "    \"\"\"Berechnet den Durchschnitt des Input-Tuples.\"\"\"\n",
    "    return sum(input_tuple) / len(input_tuple)\n",
    "\n",
    "# Funktionsaufruf, nun ohne doppel-Klammer\n",
    "mean(1, 2, 3, 4, 5)"
   ]
  },
  {
   "cell_type": "markdown",
   "metadata": {},
   "source": [
    "Genauso können wir eine variable Anzahl an Keyword-Argumente theoretisch als Dictionary übergeben:"
   ]
  },
  {
   "cell_type": "code",
   "execution_count": null,
   "metadata": {},
   "outputs": [],
   "source": [
    "def print_as_table(input_dictionary):\n",
    "    print(\"-\" * 23)\n",
    "    for k, v in input_dictionary.items():\n",
    "        print(f\"{k:>10} | {v:>10}\")\n",
    "    print(\"-\" * 23)\n",
    "\n",
    "print_as_table({\n",
    "    \"name\": \"Hans\",\n",
    "    \"vorname\": \"Muster\",\n",
    "    \"alter\": 23\n",
    "})\n"
   ]
  },
  {
   "cell_type": "markdown",
   "metadata": {},
   "source": [
    "Indem wir `input_dictionary` mit zwei `**` versehen, werden die Keyword-Argumente automatisch in einen Dictionary verpackt."
   ]
  },
  {
   "cell_type": "code",
   "execution_count": null,
   "metadata": {},
   "outputs": [],
   "source": [
    "def print_as_table(**input_dictionary):\n",
    "    print(\"-\" * 23)\n",
    "    for k, v in input_dictionary.items():\n",
    "        print(f\"{k:>10} | {v:>10}\")\n",
    "    print(\"-\" * 23)\n",
    "\n",
    "print_as_table(name=\"Hans\", vorname=\"Muster\", alter=23)"
   ]
  },
  {
   "cell_type": "markdown",
   "metadata": {},
   "source": [
    "### 4.2 Verwendung von \"neuen\" Funktionen\n",
    "Python hat zahlreiche zusätzliche Funktionen, welche wir im Kurs nicht explizit kennengelernt haben. Es ist aber wichtig, eine Funktion anhand eines Funktionsbeschriebs richtig verwenden zu können. Daher gibt es in den Übungen auch Fälle, in denen ihr eine Funktion verwenden müsst, welche ihr noch nie gesehen habt. \n",
    "\n",
    "Falls dies der Fall ist, beschreiben wir sehr genau, wie die Funktion verwendet wird und was das Resultat ist (genauer, als dies in den Übungen z.T. der Fall ist). \n",
    "\n",
    "**Beispiel:**<br>\n",
    "\"Um zu erfahren, ob ein Objekt namens `obj` vom Typ `list` ist, kannst du die Funktion `isinstance(obj, list)` verwenden. Diese gibt einen `bool`-Wert zurück.\"\n",
    "\n",
    "Wenn wir die Funktion nun anwenden:"
   ]
  },
  {
   "cell_type": "code",
   "execution_count": null,
   "metadata": {},
   "outputs": [],
   "source": [
    "isinstance(123, list)"
   ]
  },
  {
   "cell_type": "code",
   "execution_count": null,
   "metadata": {},
   "outputs": [],
   "source": [
    "isinstance([1, 2, 3], list)"
   ]
  },
  {
   "cell_type": "markdown",
   "metadata": {},
   "source": [
    "### 4.3 Modulo\n",
    "Modulo berechnet den Rest einer ganzzahligen Division. Um `a % b` selbst auszurechnen, gehst du wie folgt vor:\n",
    "\n",
    "1. Berechne `a / b`. Dies gibt dir möglicherweise nicht eine ganze Zahl. Nennen wir dies `ratio`.\n",
    "2. Runde `ratio` auf die nächste ganze Zahl **ab**. Nennen wir diese neue Zahl `rounded_ratio`.\n",
    "3. Rechne `rounded_ratio * b`. Dies gibt dir die nächst-tiefere Zahl von `a`, welche du durch `b` rechnen kannst, und dabei eine ganze Zahl erhältst. Nennen wir dies `closest_divisible_number`.\n",
    "4. Das Resultat von `a % b` ist dasselbe wie `a - closest_divisible_number`.\n",
    "\n",
    "Als Python-Funktion:"
   ]
  },
  {
   "cell_type": "code",
   "execution_count": null,
   "metadata": {},
   "outputs": [],
   "source": [
    "def modulo(a, b):\n",
    "    ratio = a / b\n",
    "    rounded_ratio = int(ratio)\n",
    "    closest_divisible_number = rounded_ratio * b\n",
    "    return a - closest_divisible_number"
   ]
  },
  {
   "cell_type": "code",
   "execution_count": null,
   "metadata": {},
   "outputs": [],
   "source": [
    "print(modulo(2132154, 215213))\n",
    "print(2132154 % 215213)"
   ]
  },
  {
   "cell_type": "markdown",
   "metadata": {},
   "source": [
    "Wir erwarten natürlich nur von dir, dass du Modulo nur für sehr kleine Werte von `a` und `b` von Hand berechnen kannst."
   ]
  },
  {
   "cell_type": "markdown",
   "metadata": {},
   "source": []
  }
 ],
 "metadata": {
  "kernelspec": {
   "display_name": ".venv",
   "language": "python",
   "name": "python3"
  },
  "language_info": {
   "codemirror_mode": {
    "name": "ipython",
    "version": 3
   },
   "file_extension": ".py",
   "mimetype": "text/x-python",
   "name": "python",
   "nbconvert_exporter": "python",
   "pygments_lexer": "ipython3",
   "version": "3.10.9"
  }
 },
 "nbformat": 4,
 "nbformat_minor": 2
}
