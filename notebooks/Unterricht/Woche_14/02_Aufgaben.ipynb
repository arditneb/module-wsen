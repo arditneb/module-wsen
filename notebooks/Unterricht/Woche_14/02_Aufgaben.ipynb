{
 "cells": [
  {
   "cell_type": "markdown",
   "metadata": {},
   "source": [
    "# Übungen zur Prüfungsvorbereitung\n",
    "Hier sind zahlreiche Übungen zur Vorbereitung der Prüfung, gruppiert nach Thema. Übungen mit * sind dabei kniffliger und werden nicht für eine genügende Note vorausgesetzt."
   ]
  },
  {
   "cell_type": "markdown",
   "metadata": {},
   "source": [
    "## 1. Datentypen und Operatoren"
   ]
  },
  {
   "cell_type": "markdown",
   "metadata": {},
   "source": [
    "### 1.1\n",
    "Sind folgende Ausdrücke zulässig? Was ist das Resultat? Welcher Datentyp hat das Resultat?\n",
    "\n",
    "```python\n",
    "# a\n",
    "a = 1.6\n",
    "print(int(a))\n",
    "\n",
    "# b\n",
    "b = \"1.523\"\n",
    "print(int(b))\n",
    "\n",
    "# c\n",
    "c = 1\n",
    "print(float(c))\n",
    "\n",
    "# d\n",
    "d = 1.23\n",
    "print(str(d) * 5)\n",
    "\n",
    "# e\n",
    "e1 = 5\n",
    "e2 = str(e1) * 5\n",
    "print(int(e2) / 5)\n",
    "\n",
    "# f\n",
    "print(5 % 3)\n",
    "\n",
    "# g\n",
    "print(5 // 3)\n",
    "\n",
    "# h\n",
    "print(True and False)\n",
    "\n",
    "# i\n",
    "print(True or False)\n",
    "\n",
    "# j\n",
    "j1 = 5\n",
    "j2 = 3\n",
    "print(j1 >= 5 or j2 < 3)\n",
    "\n",
    "# k\n",
    "k = \"1\"\n",
    "print(k == 1)\n",
    "\n",
    "# l\n",
    "l = 1.0\n",
    "print(l == 1)\n",
    "\n",
    "# m\n",
    "print(3 * 2 + 1)\n",
    "\n",
    "# n\n",
    "print(3 * (2 + 1))\n",
    "\n",
    "# o\n",
    "print(1 + 3 * 2)\n",
    "\n",
    "# p\n",
    "p = 123\n",
    "print(f\"p={p}\")\n",
    "\n",
    "# q\n",
    "q = 3.1415926536\n",
    "print(f\"q={q:.3f}\")\n",
    "\n",
    "# r\n",
    "r = \"hallo\"\n",
    "print(f\"|{r:<10}|\")\n",
    "\n",
    "# s\n",
    "r = \"hallo\"\n",
    "print(f\"|{s:>4}|\")\n",
    "\n",
    "# t\n",
    "t = 0.0015\n",
    "print(f\"{t:.2e}\")\n",
    "\n",
    "# u\n",
    "u = 0.0015\n",
    "print(f\"{u:.2%}\")\n",
    "\n",
    "# v\n",
    "v = 5.2\n",
    "print(\"{v}\")\n",
    "\n",
    "# w\n",
    "w = 5.2\n",
    "print(\"{}\".format(w))\n",
    "\n",
    "# x\n",
    "x = 5.2523\n",
    "print(\"{:.2f}\".format(x))\n",
    "```"
   ]
  },
  {
   "cell_type": "markdown",
   "metadata": {},
   "source": [
    "### 1.2\n",
    "Wir wollen eine Weihnachtsmail automatisch erstellen. Schreibe ein Template für eine Mail, welches Platzhalter für die Anrede, für den Abschiedsgruss und für den Namen der Absender hat. Packe dieses in eine Funktion mit drei Argumenten: `anrede`, `abschiedsgruss`, und `absender`, welches das Template mit den entsprechenden Werten abfüllt."
   ]
  },
  {
   "cell_type": "code",
   "execution_count": null,
   "metadata": {},
   "outputs": [],
   "source": []
  },
  {
   "cell_type": "markdown",
   "metadata": {},
   "source": [
    "### 1.3*\n",
    "Schreibe eine Funktion `modulo(a, b)`, welche den Rest der Ganzzahldivision zwischen `a` und `b` berechnet (also dasselbe macht wie `a % b`). `%` darfst du dazu nicht verwenden."
   ]
  },
  {
   "cell_type": "code",
   "execution_count": null,
   "metadata": {},
   "outputs": [],
   "source": []
  },
  {
   "cell_type": "markdown",
   "metadata": {},
   "source": [
    "## 2. Kontrollstrukturen\n",
    "### 2.1\n",
    "Schreibe folgende `for`-Loops in `while`-Loops um."
   ]
  },
  {
   "cell_type": "markdown",
   "metadata": {},
   "source": [
    "```python\n",
    "# a\n",
    "for i in range(0, 20, 4):\n",
    "    print(i)\n",
    "```"
   ]
  },
  {
   "cell_type": "code",
   "execution_count": null,
   "metadata": {},
   "outputs": [],
   "source": []
  },
  {
   "cell_type": "markdown",
   "metadata": {},
   "source": [
    "```python\n",
    "# b\n",
    "for i in \"hallo\":\n",
    "    print(i)\n",
    "\n",
    "```"
   ]
  },
  {
   "cell_type": "code",
   "execution_count": null,
   "metadata": {},
   "outputs": [],
   "source": []
  },
  {
   "cell_type": "markdown",
   "metadata": {},
   "source": [
    "```python\n",
    "# c \n",
    "for i in 1, 5, 2, 3, 9:\n",
    "    print(i)\n",
    "```"
   ]
  },
  {
   "cell_type": "code",
   "execution_count": null,
   "metadata": {},
   "outputs": [],
   "source": []
  },
  {
   "cell_type": "markdown",
   "metadata": {},
   "source": [
    "```python\n",
    "# d\n",
    "word = \"kuhweide\"\n",
    "for i in range(len(word)):\n",
    "    print(word[:i])\n",
    "```"
   ]
  },
  {
   "cell_type": "code",
   "execution_count": null,
   "metadata": {},
   "outputs": [],
   "source": []
  },
  {
   "cell_type": "markdown",
   "metadata": {},
   "source": [
    "```python\n",
    "# e\n",
    "for i in range(5):\n",
    "    for j in range(5):\n",
    "        print(f\"{i} * {j} = {i * j}\") \n",
    "```"
   ]
  },
  {
   "cell_type": "code",
   "execution_count": null,
   "metadata": {},
   "outputs": [],
   "source": []
  },
  {
   "cell_type": "markdown",
   "metadata": {},
   "source": [
    "### 2.2\n",
    "Wir wollen eine Funktion schreiben, welche die Summe aller Zahlen zwischen zwei Integer-Werten `a` und `b` berechnet. `b` selbst wird dabei nicht mehr berücksichtigt.\n",
    "Beispiel:\n",
    "`summe_zwischen_werten(5, 7) = 5 + 6 = 11`\n",
    "\n",
    "Schreibe die Funktion in drei Ausführungen: Mit einem for-Loop, einem while-Loop, und komplett ohne Loops.\n"
   ]
  },
  {
   "cell_type": "code",
   "execution_count": null,
   "metadata": {},
   "outputs": [],
   "source": []
  },
  {
   "cell_type": "markdown",
   "metadata": {},
   "source": [
    "### 2.3\n",
    "Was ist das Resultat von folgenden Ausdrücken?\n",
    "\n",
    "```python\n",
    "# a\n",
    "try:\n",
    "    print(1 / 0)\n",
    "except:\n",
    "    print(\"whops\")\n",
    "\n",
    "# b\n",
    "try:\n",
    "    print(1 / 0)\n",
    "except ValueError:\n",
    "    print(\"whops\")\n",
    "\n",
    "# c\n",
    "try:\n",
    "    print(1 / 0)\n",
    "except ValueError:\n",
    "    print(\"whops\")\n",
    "finally:\n",
    "    print(\"we are done here\")\n",
    "\n",
    "# d\n",
    "try:\n",
    "    as_float = float(\"3.15\")\n",
    "except ValueError:\n",
    "    print(\"Conversion not possible\")\n",
    "else:\n",
    "    print(\"Conversion successful\")\n",
    "finally:\n",
    "    print(\"We are done here.\")\n",
    "\n",
    "# e\n",
    "try:\n",
    "    as_int = int(\"3.15\")\n",
    "except ValueError:\n",
    "    print(\"Conversion not possible\")\n",
    "else:\n",
    "    print(\"Conversion successful\")\n",
    "finally:\n",
    "    print(\"We are done here.\")\n",
    "\n",
    "# f\n",
    "try:\n",
    "    print(\"repeat_me\" * 3.5)\n",
    "except TypeError:\n",
    "    print(\"a type error occurred\")\n",
    "except ValueError:\n",
    "    print(\"a value error occurred\")\n",
    "except KeyError:\n",
    "    print(\"a key error occurred\")\n",
    "else:\n",
    "    print(\"all went fine\")\n",
    "\n",
    "# g\n",
    "try:\n",
    "    number = 5.23\n",
    "    print(number.append(5))\n",
    "except TypeError:\n",
    "    print(\"a type error occurred\")\n",
    "except ValueError:\n",
    "    print(\"a value error occurred\")\n",
    "except KeyError:\n",
    "    print(\"a key error occurred\")\n",
    "else:\n",
    "    print(\"all went fine\")\n",
    "\n",
    "```"
   ]
  },
  {
   "cell_type": "markdown",
   "metadata": {},
   "source": [
    "### 2.4\n",
    "Schreibe eine Funktion, welche die ersten `n` Quadratzahlen mit `print` ausgibt. Falls für `n` ein negativer Wert oder 0 angegeben wird, verursacht die Funktion einen ValueError mit einer sinnvollen Fehlermeldung.\n",
    "\n",
    "Beispiel:\n",
    "```python\n",
    "erste_n_quadratzahlen(3) \n",
    "-->\n",
    "1\n",
    "4\n",
    "9\n",
    "```"
   ]
  },
  {
   "cell_type": "code",
   "execution_count": null,
   "metadata": {},
   "outputs": [],
   "source": []
  },
  {
   "cell_type": "markdown",
   "metadata": {},
   "source": [
    "### 2.5\n",
    "Was ist das Resultat von folgenden Ausdrücken?\n",
    "\n",
    "```python\n",
    "# a\n",
    "def a(x, y):\n",
    "    if x > y:\n",
    "        print(\"grösser\")\n",
    "    print(\"kleiner\")\n",
    "\n",
    "a(5, 2)\n",
    "a(2, 5)\n",
    "a(2, 2)\n",
    "\n",
    "# b\n",
    "def b(x, y):\n",
    "    if x > y:\n",
    "        return \"grösser\"\n",
    "    return \"kleiner\"\n",
    "print(b(5, 2))\n",
    "print(b(2, 5))\n",
    "print(b(2, 2))\n",
    "\n",
    "# c\n",
    "def c(x):\n",
    "    if x > 0:\n",
    "        print(\"positiv\")\n",
    "    if x < 0:\n",
    "        print(\"negativ\")\n",
    "    else:\n",
    "        print(\"null\")\n",
    "\n",
    "c(5)\n",
    "c(-2)\n",
    "c(0)\n",
    "\n",
    "# d\n",
    "def d(x, y):\n",
    "    if x and y:\n",
    "        return False\n",
    "    if x or y:\n",
    "        return False\n",
    "    return True\n",
    "\n",
    "print(d(True, False))\n",
    "print(d(True, True))\n",
    "\n",
    "# e\n",
    "def e(x, y):\n",
    "    assert x in y, \"not in there\"\n",
    "\n",
    "e(1, 12345)\n",
    "e(\"1\", \"12345\")\n",
    "e(1, {1, 2, 3, 4, 5})\n",
    "    \n",
    "    \n",
    "```"
   ]
  },
  {
   "cell_type": "markdown",
   "metadata": {},
   "source": [
    "### 2.6*\n",
    "Schreibe eine Funktion `fibonacci`, welche die ersten n Fibonacci-Zahlen ausgibt. Die Fibonacci-Zahl für n=0 ist 1, für n=1 ebenfalls 1, und für n > 1 ist es jeweils fibonacci(n-1) + fibonacci(n-2). Schriebe dazu eine rekursive und eine nicht-rekursive Version."
   ]
  },
  {
   "cell_type": "code",
   "execution_count": null,
   "metadata": {},
   "outputs": [],
   "source": []
  },
  {
   "cell_type": "markdown",
   "metadata": {},
   "source": [
    "## 3. Strings, Listen, Sets, Tuples und Dictionaries\n"
   ]
  },
  {
   "cell_type": "markdown",
   "metadata": {},
   "source": [
    "### 3.1 \n",
    "Schreibe folgende Ausdrücke als for-Comprehension um:\n",
    "\n",
    "```python\n",
    "# a\n",
    "def a(liste):\n",
    "    resultat = []\n",
    "    for e in liste:\n",
    "        resultat.append(e ** 2)\n",
    "    return resultat\n",
    "\n",
    "```"
   ]
  },
  {
   "cell_type": "code",
   "execution_count": null,
   "metadata": {},
   "outputs": [],
   "source": []
  },
  {
   "cell_type": "markdown",
   "metadata": {},
   "source": [
    "```python\n",
    "# b\n",
    "def b(ein_set, f):\n",
    "    resultat = {}\n",
    "    for e in ein_set:\n",
    "        resultat[e] = f(e)\n",
    "    return resultat\n",
    "\n",
    "```"
   ]
  },
  {
   "cell_type": "code",
   "execution_count": null,
   "metadata": {},
   "outputs": [],
   "source": [
    "def b(ein_set, f):\n",
    "    resultat = {}\n",
    "    for e in ein_set:\n",
    "        resultat[e] = f(e)\n",
    "    return resultat\n"
   ]
  },
  {
   "cell_type": "code",
   "execution_count": null,
   "metadata": {},
   "outputs": [],
   "source": [
    "b({1, 2,3}, lambda x: x**2)"
   ]
  },
  {
   "cell_type": "markdown",
   "metadata": {},
   "source": [
    "```python\n",
    "# c\n",
    "def c(dictionary_von_listen):\n",
    "    result = {}\n",
    "    for key, value in dictionary_von_listen.items():\n",
    "        result[key] = sum(value) / len(value)\n",
    "    return result\n",
    "```"
   ]
  },
  {
   "cell_type": "code",
   "execution_count": null,
   "metadata": {},
   "outputs": [],
   "source": []
  },
  {
   "cell_type": "markdown",
   "metadata": {},
   "source": [
    "```python\n",
    "def d(liste, f):\n",
    "    result = set()\n",
    "    for e in liste:\n",
    "        result.add(f(e))\n",
    "    return result\n",
    "```"
   ]
  },
  {
   "cell_type": "code",
   "execution_count": null,
   "metadata": {},
   "outputs": [],
   "source": []
  },
  {
   "cell_type": "markdown",
   "metadata": {},
   "source": [
    "```python\n",
    "# e\n",
    "def e(liste):\n",
    "    result = []\n",
    "    for e in liste:\n",
    "        if e > 0:\n",
    "            result.add(e)\n",
    "    \n",
    "    return result\n",
    "```"
   ]
  },
  {
   "cell_type": "code",
   "execution_count": null,
   "metadata": {},
   "outputs": [],
   "source": []
  },
  {
   "cell_type": "markdown",
   "metadata": {},
   "source": [
    "```python\n",
    "# f\n",
    "def f(liste):\n",
    "    result = []\n",
    "    for e in liste:\n",
    "        if e > 0:\n",
    "            result.append(\"positiv\")\n",
    "        elif e == 0:\n",
    "            result.append(\"null\")\n",
    "        else:\n",
    "            result.append(\"negativ\")\n",
    "    return result\n",
    "```"
   ]
  },
  {
   "cell_type": "code",
   "execution_count": null,
   "metadata": {},
   "outputs": [],
   "source": []
  },
  {
   "cell_type": "markdown",
   "metadata": {},
   "source": [
    "### 3.2\n",
    "Schreibe eine Funktion, welche eine Liste von Zahlen entgegennimmt. Anschliessend gibt es den Wert zurück, welcher wir erhalten, wenn wir alle Zahlen miteinander multiplizieren."
   ]
  },
  {
   "cell_type": "code",
   "execution_count": null,
   "metadata": {},
   "outputs": [],
   "source": []
  },
  {
   "cell_type": "markdown",
   "metadata": {},
   "source": [
    "### 3.3\n",
    "Schreibe eine Funktion, welche eine String entgegennimmt, und für jeden Buchstaben des Alphabets angibt, wie häufig dieser im String vorkommt. Das Resultat soll als Dictionary zurückgegeben werden. Falls ein Buchstaben nicht vorkommt, muss dieser auch nicht im String enthalten sein. \n",
    "\n",
    "```\n",
    "zeichen_zaehlen(\"aAbc\")\n",
    "-->\n",
    "{\"a\": 2, \"b\": 1, \"c\": 1}\n",
    "```"
   ]
  },
  {
   "cell_type": "code",
   "execution_count": null,
   "metadata": {},
   "outputs": [],
   "source": []
  },
  {
   "cell_type": "markdown",
   "metadata": {},
   "source": [
    "### 3.4\n",
    "Schreibe eine Funktion `linspace`, welche drei Argumente entgegennimmt: \"start\", \"stop\", und \"number\". Das Ziel ist, dass die Funktion eine Liste mit \"number\" Elementen erzeugt, bei \"start\" startet und **vor** \"stop\" endet. \n",
    "\n",
    "Beispiel:\n",
    "```\n",
    "linspace(0, 1, 5)\n",
    "-->\n",
    "[0, 0.2, 0.4, 0.6, 0.8]\n",
    "\n",
    "linspace(0.4, 1.4, 10)\n",
    "-->\n",
    "[0.4, 0.5, 0.6, 0.7, 0.8, 0.9, 1.0, 1.1, 1.2, 1.3]\n",
    "```\n",
    "\n",
    "<details>\n",
    "<summary>Tipp</summary>\n",
    "<p>\n",
    "Die Schrittgrösse zwischen jedem Element der Liste kannst du mit <br>\n",
    "(stop - start) / number <br>\n",
    "berechnen.\n",
    "</p>\n",
    "</details>"
   ]
  },
  {
   "cell_type": "code",
   "execution_count": null,
   "metadata": {},
   "outputs": [],
   "source": []
  },
  {
   "cell_type": "markdown",
   "metadata": {},
   "source": [
    "### 3.5\n",
    "Schreibe eine Funktion, welche zählt, wie viele unterschiedliche Wörter es in einem Text gibt. Verwende dazu die Methoden `str.split` um den Text in Wörter aufzuteilen, `str.strip`, um Satzzeichen zu entfernen, und `str.lower`, um Wörter in Kleinschreibung zu konvertieren.\n",
    "\n",
    "Beispiel:\n",
    "```\n",
    "wie_viele_woerter(\"Die Welt ist gross. Gross ist auch das Universum.\")\n",
    "-->\n",
    "7\n",
    "```"
   ]
  },
  {
   "cell_type": "code",
   "execution_count": null,
   "metadata": {},
   "outputs": [],
   "source": []
  },
  {
   "cell_type": "markdown",
   "metadata": {},
   "source": [
    "### 3.6\n",
    "Schreibe eine Funktion `identify_repeats`, welche identifiziert, wenn in einer Liste zwei oder mehr gleiche Elemente nacheinander kommen. Als Resultat soll eine gleich lange Liste von `True` und `False`-Werten zurückgegeben werden. Der Wert der Liste ist True, wenn der Wert gleich ist wie im Eintrag zuvor. Ansonsten ist der Wert False.\n",
    "\n",
    "Beispiele:\n",
    "```\n",
    "[1, 1, 2, 3]\n",
    "-->\n",
    "[False, True, False, False]\n",
    "\n",
    "[1, 2, 2, 3, 3, 3]\n",
    "-->\n",
    "[False, False, True, False, True, True]\n",
    "```"
   ]
  },
  {
   "cell_type": "code",
   "execution_count": null,
   "metadata": {},
   "outputs": [],
   "source": []
  },
  {
   "cell_type": "markdown",
   "metadata": {},
   "source": [
    "### 3.7\n",
    "Schreibe eine Funktion `filter_with_index(liste, index)`. Die Funktion nimmt zwei gleich lange Listen entgegen, die erste Liste (`liste`) hat beliebige Werte, die Zweite (`index`) nur `bool`-Werte. Die Funktion gibt eine neue Liste zurück, mit denjenigen Elemente der `liste`, wofür der `index` `True` ist.\n",
    "\n",
    "Beispiel: \n",
    "```\n",
    "filter_with_index([1, 2, 3], [True, False, True]) \n",
    "--> \n",
    "[1, 3]\n",
    "```"
   ]
  },
  {
   "cell_type": "code",
   "execution_count": null,
   "metadata": {},
   "outputs": [],
   "source": []
  },
  {
   "cell_type": "markdown",
   "metadata": {},
   "source": [
    "### 3.8\n",
    "Schreibe eine Funktion `flatten`, welche eine Tabelle - in Form einer Liste von Listen - entgegennimmt. Die Funktion gibt eine \"flache\" Version der Liste zurück, welche alle Unterlisten verkettet.\n",
    "\n",
    "Beispiel:\n",
    "```\n",
    "flatten([[1, 2, 3], [4, 5]])\n",
    "-->[1, 2, 3, 4, 5]\n",
    "```\n",
    "\n",
    "Sternchen-Aufgabe: Schreibe die Funktion mit einer for-Comprehension. Dazu kann man in Python mehrere for-Loops in derselben Comprehension verwenden, siehe folgenden Stackoverflow-Post: https://stackoverflow.com/questions/1198777/double-iteration-in-list-comprehension."
   ]
  },
  {
   "cell_type": "code",
   "execution_count": null,
   "metadata": {},
   "outputs": [],
   "source": []
  },
  {
   "cell_type": "markdown",
   "metadata": {},
   "source": [
    "### 3.9*\n",
    "Erweitere die Funktion `flatten`, sodass sie beliebig tiefe Unterlisten \"flach macht\". Dabei weisst du nicht im Voraus, wie viele Unterlisten du erwarten musst. Um zu erfahren, ob ein Element eine Zahl oder eine Liste ist, kannst du die Funktion `isinstance(obj, list)` verwenden.\n",
    "\n",
    "```\n",
    "flatten([[1, 2, 3], 4, [[5, 6], 7]])\n",
    "--> \n",
    "[1, 2, 3, 4, 5, 6, 7]\n",
    "```"
   ]
  },
  {
   "cell_type": "code",
   "execution_count": null,
   "metadata": {},
   "outputs": [],
   "source": []
  },
  {
   "cell_type": "markdown",
   "metadata": {},
   "source": [
    "### 3.10*\n",
    "Schreibe eine Funktion `drop_duplicates`, welche eine Liste von Elementen ohne Duplikate zurückgibt. Die Reihenfolge soll aber beibehalten werden - daher können wir nicht einfach ein Set daraus machen. \n",
    "Beispiel:\n",
    "```\n",
    "drop_duplicates([1, 2, 3, 1, 3, 4, 5])\n",
    "-->\n",
    "[1, 2, 3, 4, 5]\n",
    "```"
   ]
  },
  {
   "cell_type": "code",
   "execution_count": null,
   "metadata": {},
   "outputs": [],
   "source": []
  },
  {
   "cell_type": "markdown",
   "metadata": {},
   "source": [
    "## 4. Funktionen"
   ]
  },
  {
   "cell_type": "markdown",
   "metadata": {},
   "source": [
    "### 4.1\n",
    "Sind folgende Ausdrücke zulässig? Was ist das Resultat?\n",
    "\n",
    "```python\n",
    "# a\n",
    "def a(*args):\n",
    "    print(args[2])\n",
    "\n",
    "a(1, 2, 3)\n",
    "a(1, 2)\n",
    "\n",
    "# b\n",
    "def b(**kwargs):\n",
    "    print(kwargs[2])\n",
    "\n",
    "b(1, 2, 3)\n",
    "\n",
    "# c\n",
    "def c(*args, **kwargs):\n",
    "    print(args[2])\n",
    "\n",
    "c(1, 2, x=3)\n",
    "c(1, x=2, 3)\n",
    "\n",
    "# d\n",
    "def d(x, *args):\n",
    "    print([x * e for e in args])\n",
    "\n",
    "d(2)\n",
    "d(2, 1, 2, 3)\n",
    "d(1, 2, 3, x=2)\n",
    "\n",
    "# e\n",
    "def e(x, **kwargs):\n",
    "    print({\n",
    "        key: x(value)\n",
    "        for key, value in kwargs.items()\n",
    "    })\n",
    "\n",
    "e(2, a=3, b=5)\n",
    "e(lambda x: x ** 2, a=3, b=5)\n",
    "\n",
    "# f\n",
    "f = lambda x: 1 / x\n",
    "print(f(1))\n",
    "print(f())\n",
    "print(f(0))\n",
    "\n",
    "# g\n",
    "x = 3\n",
    "g = lambda: 1 / x\n",
    "print(f(1))\n",
    "print(f())\n",
    "print(f(0))\n",
    "\n",
    "# h\n",
    "def h(x):\n",
    "    def inner(y):\n",
    "        return x - y\n",
    "    return inner\n",
    "\n",
    "print(h(4)(2))\n",
    "print(h(4, 2))\n",
    "\n",
    "# i\n",
    "def i(x):\n",
    "    return lambda y: x * y\n",
    "\n",
    "print(h(4))\n",
    "print(h(4)(2))\n",
    "print(h(4, 2))\n",
    "\n",
    "# j\n",
    "def j(x):\n",
    "    return j(x)\n",
    "\n",
    "print(j(3))\n",
    "```"
   ]
  },
  {
   "cell_type": "markdown",
   "metadata": {},
   "source": [
    "### 4.2\n",
    "Wir haben folgende Funktionsdefinition:\n",
    "```python \n",
    "def filter_list(liste, f):\n",
    "    return [e for e in liste if f(e)]\n",
    "```\n",
    "\n",
    "Schreibe folgende Funktionen, indem du innerhalb der Funktion `filter_list` verwendest:\n",
    "- `filter_positive` behält nur positive Elemente einer Zahlenliste.\n",
    "- `filter_odd` behält nur die ungeraden Zahlen der Zahlenliste.\n",
    "- `filter_integers` behält aus einer Liste von `float`-Zahlen nur diejenigen, welche ganze Zahlen sind. Beispiel: 1.0 sollte behalten werden, 1.1 rausgefiltert.\n",
    "- `filter_quadratzahlen` behält nur diejenigen Zahlen, welche die Quadratzahl einer ganzen Zahl sind. Beispiel: 0, 1, 4, 9, 16, 25 sind Quadratzahlen, alle anderen Zahlen zwischen 0 und 25 sollten rausgefiltert werden. \n",
    "- Sternchenaufgabe: `filter_deduplicated` gibt die Liste ohne Duplikate zurück.  "
   ]
  },
  {
   "cell_type": "code",
   "execution_count": null,
   "metadata": {},
   "outputs": [],
   "source": []
  },
  {
   "cell_type": "markdown",
   "metadata": {},
   "source": [
    "### 4.3\n",
    "Schreibe eine Funktion `repeat_n_times(n, f)`, welche die Funktion `f` `n`-mal ausführt. Die Funktion `f` nimmt dabei keine zusätzlichen Parameter entgegen.\n",
    "\n",
    "Beispiel:\n",
    "```python\n",
    "def f():\n",
    "    print(\"Hallo\")\n",
    "\n",
    "repeat_n_times(3, f)\n",
    "-->\n",
    "\"Hallo\"\n",
    "\"Hallo\"\n",
    "\"Hallo\"\n",
    "```"
   ]
  },
  {
   "cell_type": "code",
   "execution_count": null,
   "metadata": {},
   "outputs": [],
   "source": []
  },
  {
   "cell_type": "markdown",
   "metadata": {},
   "source": [
    "### 4.4*\n",
    "Erweitere die Funktion von 4.3, sodass wir der Funktion f auch Keyword-Argumente übergeben können.\n",
    "\n",
    "Beispiel:\n",
    "\n",
    "```python\n",
    "def f(name):\n",
    "    print(f\"Hallo {name}\")\n",
    "\n",
    "repeat_n_times(3, f, name=\"Kusi\")\n",
    "\n",
    "-->\n",
    "\"Hallo Kusi\"\n",
    "\"Hallo Kusi\"\n",
    "\"Hallo Kusi\"\n",
    "```"
   ]
  },
  {
   "cell_type": "code",
   "execution_count": null,
   "metadata": {},
   "outputs": [],
   "source": []
  },
  {
   "cell_type": "markdown",
   "metadata": {},
   "source": [
    "### 4.5*\n",
    "Schreibe eine Funktion `logging_decorator`, welche eine andere Funktion \"dekoriert\" und dabei immer Start- und Stoppzeitpunkt mit `print` ausgibt. Unsere Funktion `logging_decorator` nimmt eine Funktion entgegen und gibt auch wieder eine Funktion zurück. Wenn wir die zurückgegeben Funktion aufrufen, wird zuerst der Startzeitpunkt geprintet, dann die Funktion aufgerufen, und schliesslich der Endzeitpunkt geprintet.\n",
    "\n",
    "Importiere dazu das Modul `datetime` und verwende `datetime.datetime.now()`, um den aktuellen Zeitpunkt zu erhalten.\n",
    "\n",
    "Beispiele:\n",
    "```python\n",
    "def f():\n",
    "    print(\"Hallo\")\n",
    "\n",
    "decorated_f = logging_decorator(f)\n",
    "decorated_f()\n",
    "\n",
    "-->\n",
    "Start: 2023-12-26 11:35:51.212726\n",
    "\"Hallo\"\n",
    "Stop: 2023-12-26 11:35:52.212726\n",
    "\n",
    "\n",
    "def g(a, b):\n",
    "    print(\"a + b =\", a + b)\n",
    "\n",
    "decorated_g = logging_decorator(g)\n",
    "decorated_g(1, 2)\n",
    "\n",
    "-->\n",
    "Start: 2023-12-26 11:35:51.212726\n",
    "\"a + b = 3\"\n",
    "Stop: 2023-12-26 11:35:52.212726\n",
    "```\n",
    "\n",
    "Übrigens: Statt `decorated_g = logging_decorator(g)` können wir in Python einfach vor der Funktionsdefinition `@logging_decorator` schreiben, dann wird die Funktion automatisch dekoriert.\n",
    "\n",
    "```python\n",
    "@logging_decorator\n",
    "def f():\n",
    "    print(\"Hallo\")\n",
    "\n",
    "f()\n",
    "-->\n",
    "Start: 2023-12-26 11:35:51.212726\n",
    "\"Hallo\"\n",
    "Stop: 2023-12-26 11:35:52.212726\n",
    "```"
   ]
  },
  {
   "cell_type": "code",
   "execution_count": null,
   "metadata": {},
   "outputs": [],
   "source": []
  },
  {
   "cell_type": "markdown",
   "metadata": {},
   "source": [
    "## 5. Objektorientierte Programmierung"
   ]
  },
  {
   "cell_type": "markdown",
   "metadata": {},
   "source": [
    "### 5.1\n",
    "Sind folgende Ausdrücke zulässig? Was ist das Resultat?\n",
    "\n",
    "```python\n",
    "# a\n",
    "class A:\n",
    "    def __init__(self, a):\n",
    "        a = a\n",
    "\n",
    "obj = A(3)\n",
    "print(obj.a)\n",
    "\n",
    "\n",
    "# b\n",
    "class B:\n",
    "    def __init__(self, b):\n",
    "        self.b = b\n",
    "\n",
    "    def __str__(self, b):\n",
    "        return f\"b = {self.b}\"\n",
    "\n",
    "b = B(3)\n",
    "print(b)\n",
    "\n",
    "\n",
    "# c\n",
    "class C:\n",
    "    def set_c(self, c):\n",
    "        self.c = c\n",
    "    \n",
    "c = C()\n",
    "print(c.c)\n",
    "\n",
    "c.set_c(3)\n",
    "print(c.c)\n",
    "\n",
    "\n",
    "# d\n",
    "class D:\n",
    "    d = 3\n",
    "\n",
    "    def __str__(self):\n",
    "        return f\"d = {self.d}\"\n",
    "\n",
    "d = D()\n",
    "print(d)\n",
    "\n",
    "\n",
    "# e\n",
    "class E1:\n",
    "    value = 3\n",
    "\n",
    "    def __str__(self):\n",
    "        return f\"value={self.value}\"\n",
    "\n",
    "\n",
    "class E2(E1):\n",
    "    value = 5\n",
    "\n",
    "\n",
    "e1 = E1()\n",
    "print(e1)\n",
    "e2 = E2()\n",
    "print(e2)\n",
    "\n",
    "\n",
    "# f\n",
    "class F1:\n",
    "    def __init__(self):\n",
    "        self.x = 3\n",
    "        self.y = 5\n",
    "        self.z = 7\n",
    "\n",
    "class F2(F1):\n",
    "    def __init__(self):\n",
    "        super().__init__()\n",
    "        self.x = 5\n",
    "        self.y = 6\n",
    "\n",
    "\n",
    "f2 = F2()\n",
    "print(f2.x)\n",
    "print(f2.y)\n",
    "print(f2.z)\n",
    "\n",
    "\n",
    "# g\n",
    "class G:\n",
    "    g = 3\n",
    "\n",
    "print(G.g)\n",
    "\n",
    "\n",
    "# h\n",
    "class H:\n",
    "    def __init__(self, h):\n",
    "        self.h = h\n",
    "\n",
    "print(H.h)\n",
    "\n",
    "\n",
    "# i\n",
    "class I1:\n",
    "    x = 3\n",
    "\n",
    "\n",
    "class I2:\n",
    "    y = 4\n",
    "\n",
    "\n",
    "class I3:\n",
    "    z = 5\n",
    "\n",
    "\n",
    "class I4(I1, I2, I3):\n",
    "    pass\n",
    "\n",
    "\n",
    "i4 = I4()\n",
    "print(i4.x, i4.y, i4.z)\n",
    "\n",
    "\n",
    "# j\n",
    "class J1:\n",
    "    def __init__(self, x):\n",
    "        self.x = x\n",
    "        self.x_squared = x*x\n",
    "\n",
    "\n",
    "class J2(J1):\n",
    "    def __init__(self, y):\n",
    "        self.y = y\n",
    "\n",
    "\n",
    "j2 = J2(3)\n",
    "print(j2.y)\n",
    "print(j2.x_squared)\n",
    "\n",
    "\n",
    "# k\n",
    "class K:\n",
    "    def __init__(x, y, z):\n",
    "        x.y = y\n",
    "        x.z = z\n",
    "    \n",
    "    def __str__(self):\n",
    "        return f\"{self.y}, {self.z}\"\n",
    "\n",
    "k = K(2, 3)\n",
    "print(k)\n",
    "```\n"
   ]
  },
  {
   "cell_type": "markdown",
   "metadata": {},
   "source": [
    "### 5.2\n",
    "Erzeuge eine Klasse namens `Dino`, mit zwei Instanzattributen: `fleischfresser` als `bool`-Variable, und `hoehe` mit einem `float`-Wert. Die Instanzattribute werden im Constructor gesetzt. Erzeuge dann ein Objekt namens `trex` dieser Klasse, mit `fleischfresser=True` und `hoehe=3.6`"
   ]
  },
  {
   "cell_type": "code",
   "execution_count": null,
   "metadata": {},
   "outputs": [],
   "source": []
  },
  {
   "cell_type": "markdown",
   "metadata": {},
   "source": [
    "### 5.3\n",
    "Erweitere die Klasse `Dino` mit einer Methode `frisst(other)`. Frisst nimmt als Argument ein zweites Objekt von Klasse Dino entgegen. Die Methode gibt `True` zurück, wenn unser Dino den anderen Dino fressen würde, und `False` ansonsten. Unser Dino frisst den anderen Dino nur, wenn unser Dino Fleischfresser ist, grösser als der andere Dino ist, und wenn der andere Dino _nicht_ Fleischfresser ist.\n",
    "\n",
    "Definiere den `trex` von oben nochmals. Erzeuge einen zweiten Dino, `brachiosaurus`, der nicht Fleischfresser ist, und der 13 Meter hoch ist. Überprüfe, ob `trex` den `brachiosaurus` frisst, und umgekehrt."
   ]
  },
  {
   "cell_type": "code",
   "execution_count": null,
   "metadata": {},
   "outputs": [],
   "source": []
  },
  {
   "cell_type": "markdown",
   "metadata": {},
   "source": [
    "### 5.4\n",
    "Erweitere die Klasse mit einer zweiten Methode, `koexistiert_friedlich_mit(other)`. Diese gibt `True` zurück, wenn die zwei Dinos friedlich koexistieren können - also wenn nicht ein Dino den anderen frisst. Ansonsten gibt es `False` zurück. Definiere `trex` und `brachiosaurus` neu und überprüfe, ob sie friedlich koexistieren."
   ]
  },
  {
   "cell_type": "code",
   "execution_count": null,
   "metadata": {},
   "outputs": [],
   "source": []
  },
  {
   "cell_type": "markdown",
   "metadata": {},
   "source": [
    "### 5.5\n",
    "Bis jetzt haben wir für jede Art von Dinos einzelne Objekte kreiert. Nun wollen wir stattdessen für jede Art eine einzelne Klasse erzeugen. Damit können wir in unserem Programm mehrere Dinos der gleichen Art haben. \n",
    "\n",
    "Schreibe eine Klasse `TRex`, welche von `Dino` erbt. Die neue Klasse `TRex` hat ein Constructor. Dieser nimmt in seinem Constructor kein Argument entgegen, und ruft den übergeordneten Constructor mit den Parameter `fleischfresser=True` und `hoehe=3.6` auf. Ausserdem hat die Klasse `TRex` ein Klassenattribut `art` mit Wert `tyrannosaurus rex`. \n",
    "\n",
    "Mache dasselbe für eine zweite Klasse `Brachiosaurus` (mit Art `brachiosaurus`). Erzeuge anschliessend je ein Objekt von Typ `TRex` und `Brachiosaurus` und stelle sicher, dass die Methode `koexistiert_friedlich_mit` immer noch funktioniert."
   ]
  },
  {
   "cell_type": "code",
   "execution_count": null,
   "metadata": {},
   "outputs": [],
   "source": []
  }
 ],
 "metadata": {
  "kernelspec": {
   "display_name": ".venv",
   "language": "python",
   "name": "python3"
  },
  "language_info": {
   "codemirror_mode": {
    "name": "ipython",
    "version": 3
   },
   "file_extension": ".py",
   "mimetype": "text/x-python",
   "name": "python",
   "nbconvert_exporter": "python",
   "pygments_lexer": "ipython3",
   "version": "3.10.9"
  }
 },
 "nbformat": 4,
 "nbformat_minor": 2
}
