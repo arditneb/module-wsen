{
 "cells": [
  {
   "cell_type": "markdown",
   "metadata": {},
   "source": [
    "# Taschenrechner Revisited\n",
    "\n",
    "In Woche 3 wurde ein sehr einfacher Taschenrechner implementiert, welcher jetzt erweitert werden soll mit Error Handling.\n",
    "\n",
    "Implementieren Sie eine Funktion `calculate`, welche drei Parameter entgegennimmt:\n",
    "- `number1`: Eine Zahl\n",
    "- `number2`: Eine Zahl\n",
    "- `operator`: Ein String, welcher eine der vier Grundrechenarten enthält: `+`, `-`, `*` oder `/`\n",
    "\n",
    "Falls `operator` nicht einer der vier Grundrechenarten entspricht, soll eine Exception vom Typ `ValueError` geworfen werden."
   ]
  },
  {
   "cell_type": "code",
   "execution_count": 2,
   "metadata": {},
   "outputs": [],
   "source": [
    "def calculate(number1, number2, operator):\n",
    "    if operator == '+':\n",
    "        return number1 + number2\n",
    "    elif operator == '-':\n",
    "        return number1 - number2\n",
    "    elif operator == '*':\n",
    "        return number1 * number2\n",
    "    elif operator == '/':\n",
    "        return number1 / number2\n",
    "    else:\n",
    "        raise ValueError(\"Operator muss +, -, * oder / sein\")"
   ]
  },
  {
   "cell_type": "markdown",
   "metadata": {},
   "source": [
    "Teste die Funktion mit folgenden Aufrufen:"
   ]
  },
  {
   "cell_type": "code",
   "execution_count": 6,
   "metadata": {},
   "outputs": [
    {
     "name": "stdout",
     "output_type": "stream",
     "text": [
      "3\n"
     ]
    }
   ],
   "source": [
    "print(calculate(1, 2, '+'))"
   ]
  },
  {
   "cell_type": "code",
   "execution_count": 7,
   "metadata": {},
   "outputs": [
    {
     "name": "stdout",
     "output_type": "stream",
     "text": [
      "-1\n"
     ]
    }
   ],
   "source": [
    "print(calculate(1, 2, '-'))"
   ]
  },
  {
   "cell_type": "code",
   "execution_count": 8,
   "metadata": {},
   "outputs": [
    {
     "ename": "ValueError",
     "evalue": "Operator muss +, -, * oder / sein",
     "output_type": "error",
     "traceback": [
      "\u001b[0;31m---------------------------------------------------------------------------\u001b[0m",
      "\u001b[0;31mValueError\u001b[0m                                Traceback (most recent call last)",
      "\u001b[1;32m/home/lunactic/DEV/wsen-hs23/notebooks/Unterricht/Woche_6/03_Loesungen.ipynb Cell 6\u001b[0m line \u001b[0;36m1\n\u001b[0;32m----> <a href='vscode-notebook-cell://wsl%2Bubuntu-22.04/home/lunactic/DEV/wsen-hs23/notebooks/Unterricht/Woche_6/03_Loesungen.ipynb#X12sdnNjb2RlLXJlbW90ZQ%3D%3D?line=0'>1</a>\u001b[0m \u001b[39mprint\u001b[39m(calculate(\u001b[39m1\u001b[39m, \u001b[39m2\u001b[39m, \u001b[39m'\u001b[39m\u001b[39mmal\u001b[39m\u001b[39m'\u001b[39m))\n",
      "\u001b[1;32m/home/lunactic/DEV/wsen-hs23/notebooks/Unterricht/Woche_6/03_Loesungen.ipynb Cell 6\u001b[0m line \u001b[0;36m1\n\u001b[1;32m     <a href='vscode-notebook-cell://wsl%2Bubuntu-22.04/home/lunactic/DEV/wsen-hs23/notebooks/Unterricht/Woche_6/03_Loesungen.ipynb#X12sdnNjb2RlLXJlbW90ZQ%3D%3D?line=12'>13</a>\u001b[0m     \u001b[39mreturn\u001b[39;00m number1 \u001b[39m/\u001b[39m number2\n\u001b[1;32m     <a href='vscode-notebook-cell://wsl%2Bubuntu-22.04/home/lunactic/DEV/wsen-hs23/notebooks/Unterricht/Woche_6/03_Loesungen.ipynb#X12sdnNjb2RlLXJlbW90ZQ%3D%3D?line=13'>14</a>\u001b[0m \u001b[39melse\u001b[39;00m:\n\u001b[0;32m---> <a href='vscode-notebook-cell://wsl%2Bubuntu-22.04/home/lunactic/DEV/wsen-hs23/notebooks/Unterricht/Woche_6/03_Loesungen.ipynb#X12sdnNjb2RlLXJlbW90ZQ%3D%3D?line=14'>15</a>\u001b[0m     \u001b[39mraise\u001b[39;00m \u001b[39mValueError\u001b[39;00m(\u001b[39m\"\u001b[39m\u001b[39mOperator muss +, -, * oder / sein\u001b[39m\u001b[39m\"\u001b[39m)\n",
      "\u001b[0;31mValueError\u001b[0m: Operator muss +, -, * oder / sein"
     ]
    }
   ],
   "source": [
    "print(calculate(1, 2, 'mal'))"
   ]
  },
  {
   "cell_type": "markdown",
   "metadata": {},
   "source": [
    "Wenn Zahlen eingelesen von einem Benutzer eingelesen werden können auch schon Probleme auftreten. Zum Beispiel wenn der Benutzer eine Zeichenkette eingibt, welche nicht in eine Zahl umgewandelt werden kann. In diesem Fall wird eine Exception vom Typ `ValueError` geworfen.\n",
    "\n",
    "Entwickle eine Funktion `ask_for_number` mit folgender Funktionalität:\n",
    "- Die Funktion fragt Anwender:innen nach einer Zahl \n",
    "- Der Benutzer wird solange aufgefordert, eine neue Zahl einzugeben bis keine Error mehr auftritt\n",
    "- Diese Zahl wird zurückgegeben"
   ]
  },
  {
   "cell_type": "code",
   "execution_count": 5,
   "metadata": {},
   "outputs": [],
   "source": [
    "def ask_for_number():\n",
    "    while True:\n",
    "        try:\n",
    "            answer = input(\"Bitte Zahl eingeben: \")\n",
    "            number = float(answer)\n",
    "            return number\n",
    "        except ValueError:\n",
    "            print(\"Das war keine Zahl. Bitte nochmal versuchen.\")\n"
   ]
  },
  {
   "cell_type": "markdown",
   "metadata": {},
   "source": [
    "Jetzt wollen wir das ganze in eine kleine Applikation einbetten, mit welcher die Inputs vom Benutzer entgegengenommen werden können.\n",
    "\n",
    "Schreibe eine Funktion `calculator` welche folgende Aufgaben erfüllt:\n",
    "- Fragt den Benutzer nach einer Zahl mit `ask_for_number`\n",
    "- Fragt den Benutzer nach einer weiteren Zahl mit `ask_for_number`\n",
    "- Fragt den Benutzer nach einer der vier Grundrechenarten\n",
    "- Ruft die Funktion `calculate` auf und gibt das Resultat aus\n",
    "- Behandelt die Exceptions, welche von `calculate` geworfen werden können"
   ]
  },
  {
   "cell_type": "code",
   "execution_count": 9,
   "metadata": {},
   "outputs": [],
   "source": [
    "def calculator():\n",
    "    number1 = ask_for_number()\n",
    "    number2 = ask_for_number()\n",
    "    operator = input(\"Bitte geben Sie den Operator ein: \")\n",
    "    try:\n",
    "        print(calculate(number1, number2, operator))\n",
    "    except ValueError as e:\n",
    "        print(\"Operator muss +, -, * oder / sein\")\n",
    "    except ZeroDivisionError as e:\n",
    "        print(\"Division durch 0 ist nicht erlaubt\")"
   ]
  },
  {
   "cell_type": "code",
   "execution_count": 11,
   "metadata": {},
   "outputs": [
    {
     "name": "stdout",
     "output_type": "stream",
     "text": [
      "Division durch 0 ist nicht erlaubt\n"
     ]
    }
   ],
   "source": [
    "calculator()"
   ]
  },
  {
   "cell_type": "markdown",
   "metadata": {},
   "source": [
    "Versuche eigenständig noch die `ZeroDivisionError` zu behandeln in der Funktion `calculator`."
   ]
  },
  {
   "cell_type": "markdown",
   "metadata": {},
   "source": [
    "# 2. ID-Nummer Parsen\n",
    "\n",
    "Auf der Schweizer ID gibt es maschinenlesbare Zeilen, welche die wichtigsten Informationen enthalten. In dieser Aufgabe schreiben wir ein Programm, welche diese Information extrahiert.\n",
    "\n",
    "Die maschinenlesbaren Zeilen sehen wie folgt aus:\n",
    "```\n",
    "IDCHE123412345<7<<<<<<<<<<<<<<\n",
    "0402291M1001015CHE<<<<<<<<<<<8\n",
    "MUSTERMANN<<MAX<OTTO<<<<<<<<<<\n",
    "```\n",
    "\n",
    "Hier als Definition:"
   ]
  },
  {
   "cell_type": "code",
   "execution_count": 1,
   "metadata": {},
   "outputs": [],
   "source": [
    "beispiel = \"\"\"\n",
    "IDCHE123412345<7<<<<<<<<<<<<<<\n",
    "0402291M1001015CHE<<<<<<<<<<<8\n",
    "MUSTERMANN<<MAX<OTTO<<<<<<<<<<\n",
    "\"\"\""
   ]
  },
  {
   "cell_type": "markdown",
   "metadata": {},
   "source": [
    "Beim Einlesen wollen wir alle Leerschläge und Zeilenumbrüche entfernen. Schreibe eine Funktion `whitespace_entfernen`, welches für eine beliebige `str` alle Leerschläge und Zeilenumbrüche entfernt und die bereinigte `str` zurückgibt."
   ]
  },
  {
   "cell_type": "code",
   "execution_count": 2,
   "metadata": {},
   "outputs": [],
   "source": [
    "# Lösung\n",
    "def whitespace_entfernen(string):\n",
    "    return string.replace(\"\\n\", \"\").replace(\" \", \"\")"
   ]
  },
  {
   "cell_type": "markdown",
   "metadata": {},
   "source": [
    "Wir verwenden die Funktion wie folgt:"
   ]
  },
  {
   "cell_type": "code",
   "execution_count": 3,
   "metadata": {},
   "outputs": [
    {
     "data": {
      "text/plain": [
       "'IDCHE123412345<7<<<<<<<<<<<<<<0402291M1001015CHE<<<<<<<<<<<8MUSTERMANN<<MAX<OTTO<<<<<<<<<<'"
      ]
     },
     "execution_count": 3,
     "metadata": {},
     "output_type": "execute_result"
    }
   ],
   "source": [
    "beispiel_ohne_whitespace = whitespace_entfernen(beispiel)\n",
    "beispiel_ohne_whitespace"
   ]
  },
  {
   "cell_type": "markdown",
   "metadata": {},
   "source": [
    "Nun können wir verschiedene Informationen extrahieren. \n",
    "Nach `IDCHE` ist die ID-Nummer enthalten (im Beispiel 123412345). Schreibe eine Funktion `id_nummer`, welche aus einer bereinigten `str` die ID-Nummer extrahiert."
   ]
  },
  {
   "cell_type": "code",
   "execution_count": 36,
   "metadata": {},
   "outputs": [],
   "source": [
    "# Lösung\n",
    "def id_nummer(ohne_whitespace):\n",
    "    return ohne_whitespace[6:14]"
   ]
  },
  {
   "cell_type": "markdown",
   "metadata": {},
   "source": [
    "Der Name ist auf der dritten Zeile (und beginnt daher bei Zeichen 60). Zuerst kommt der Nachname, dann zwei `<<`, dann ein oder mehrere Vornamen getrennt durch nur ein `<`. Schreibe eine Funktion `name_extrahieren`, welche den Namen in folgendem Format zurückgibt:\n",
    "\n",
    "`Nachname, Vorname1 Vorname2`\n",
    "\n",
    "In unserem Fall: `Mustermann, Max Otto`\n",
    "\n",
    "Tipp: Um jedes Wort mit einem Grossbuchstaben zu beginnen, haben `str`-Objekte in Python die Methode `.title()`."
   ]
  },
  {
   "cell_type": "code",
   "execution_count": 37,
   "metadata": {},
   "outputs": [],
   "source": [
    "# Lösung\n",
    "def name_extrahieren(ohne_whitespace):\n",
    "    letzte_zeile = ohne_whitespace[60:]\n",
    "    ohne_zeichen_am_ende = letzte_zeile.strip(\"<\")\n",
    "    mit_luecken_und_komma = ohne_zeichen_am_ende.replace(\"<<\", \", \").replace(\"<\", \" \")\n",
    "    erster_buchstaben_gross = mit_luecken_und_komma.title()\n",
    "    return erster_buchstaben_gross"
   ]
  },
  {
   "cell_type": "markdown",
   "metadata": {},
   "source": [
    "Das Geburtsdatum ist auf der zweiten Zeile, im Format JJMMDD (zwei Stellen für das Jahr, zwei für den Monat, zwei für den Tag). In unserem Beispiel ist der relevante String `040229`, die Person ist also am 29. Februar 04 geboren. Schreibe eine Funktion `geburtsdatum_extrahieren`, welche das Datum extrahiert und wie folgt zurückgibt: `29. 2. 2004`. Um festzustellen, ob es `20..` oder `19..` ist, überprüfe ob das Geburtsjahr kleiner oder gleich `23` ist. "
   ]
  },
  {
   "cell_type": "code",
   "execution_count": 38,
   "metadata": {},
   "outputs": [],
   "source": [
    "def geburtsdatum_extrahieren(ohne_whitespace):\n",
    "    datum = ohne_whitespace[30:36]\n",
    "\n",
    "    tag = int(datum[:2])\n",
    "    monat = int(datum[2:4])\n",
    "    jahr = int(datum[4:6])\n",
    "\n",
    "    if jahr <= 23:\n",
    "        jahr_vollstaendig = 2000 + jahr\n",
    "    else:\n",
    "        jahr_vollstaendig = 1900 + jahr\n",
    "\n",
    "    # wir rechnen tag und monat zuerst nach int und dann wieder nach str, um das vorangehende 0 zu entfernen\n",
    "    return str(tag) + \". \" + str(monat) + \". \" + str(jahr_vollstaendig)"
   ]
  },
  {
   "cell_type": "code",
   "execution_count": 39,
   "metadata": {},
   "outputs": [
    {
     "data": {
      "text/plain": [
       "'4. 2. 1929'"
      ]
     },
     "execution_count": 39,
     "metadata": {},
     "output_type": "execute_result"
    }
   ],
   "source": [
    "geburtsdatum_extrahieren(beispiel_ohne_whitespace)"
   ]
  },
  {
   "cell_type": "markdown",
   "metadata": {},
   "source": [
    "Packe nun das ganze in eine grosse Funktion `id_einlesen` zusammen, welche nach den maschinenlesbaren Zeilen fragt und dann den Namen, das Geburtsdatum sowie die ID-Nummer mit `print` ausgibt."
   ]
  },
  {
   "cell_type": "code",
   "execution_count": 40,
   "metadata": {},
   "outputs": [],
   "source": [
    "# Lösung\n",
    "def id_einlesen(id_zeilen):\n",
    "    ohne_whitespace = whitespace_entfernen(id_zeilen)\n",
    "    print(\"Name:\", name_extrahieren(ohne_whitespace))\n",
    "    print(\"Geburtstag:\", geburtsdatum_extrahieren(ohne_whitespace))\n",
    "    print(\"ID-Nummer:\", id_nummer(id_zeilen))"
   ]
  },
  {
   "cell_type": "code",
   "execution_count": 41,
   "metadata": {},
   "outputs": [
    {
     "name": "stdout",
     "output_type": "stream",
     "text": [
      "Name: Mustermann, Max Otto\n",
      "Geburtstag: 4. 2. 1929\n",
      "ID-Nummer: 12341234\n"
     ]
    }
   ],
   "source": [
    "id_einlesen(beispiel)"
   ]
  },
  {
   "cell_type": "markdown",
   "metadata": {},
   "source": [
    "Bonusaufgabe: \n",
    "\n",
    "Schreibe ein Programm, welches auf Grund der ID-Zeilen ausgibt, ob die Person bereits 16 Jahre alt ist - um beispielsweise an einem Zigarettenautomat zu überprüfen, ob Kunden bereits genügend alt sind."
   ]
  }
 ],
 "metadata": {
  "kernelspec": {
   "display_name": ".venv",
   "language": "python",
   "name": "python3"
  },
  "language_info": {
   "codemirror_mode": {
    "name": "ipython",
    "version": 3
   },
   "file_extension": ".py",
   "mimetype": "text/x-python",
   "name": "python",
   "nbconvert_exporter": "python",
   "pygments_lexer": "ipython3",
   "version": "3.9.16"
  },
  "orig_nbformat": 4
 },
 "nbformat": 4,
 "nbformat_minor": 2
}
