{
 "cells": [
  {
   "cell_type": "markdown",
   "metadata": {},
   "source": [
    "## 1. Fehlerbehandlung\n",
    "\n",
    "### 1.1 Einführung\n",
    "Wir haben bereits zahlreiche Fehler kennengelernt. Zum Teil entstehen die Fehler schon bei der ersten Ausführung, wie im folgenden Beispiel:"
   ]
  },
  {
   "cell_type": "code",
   "execution_count": null,
   "metadata": {},
   "outputs": [],
   "source": [
    "a = 2\n",
    "b"
   ]
  },
  {
   "cell_type": "markdown",
   "metadata": {},
   "source": [
    "Solche Fehler müssen wir im Code selbst beheben, damit das Programm überhaubt läuft. Es gibt aber andere Fehler, die nur in gewissen Fällen, z.B. je nach Input der Anwender, entstehen. Im folgenden Beispiel fragen wir nach einer Zahl, und rechnen deren Quadratzahl aus:"
   ]
  },
  {
   "cell_type": "code",
   "execution_count": null,
   "metadata": {},
   "outputs": [],
   "source": [
    "zahl = float(input(\"Gib eine Zahl ein:\"))\n",
    "print(\"Das Quadrat dieser Zahl ist:\", zahl * zahl)"
   ]
  },
  {
   "cell_type": "markdown",
   "metadata": {},
   "source": [
    "Wenn die Benutzer tatsächlich eine Zahl eingeben, ist alles wie erwartet. Falls sie aber etwas anderes eingeben, gibt es einen `ValueError`, da die Eingabe nicht zu einer Zahl umgerechnet werden kann. Für die Benutzer ist dies aber sehr unangenehm, da dadurch das Programm abstürzt (und bei grösseren Programmen gehen alle Daten verloren). Ausserdem verstehen sie nicht zwingend, was überhaupt das Problem war. Daher müssen wir diese Fehler \"abfangen\" und sie richtig verarbeiten. Dies nennt man \"Fehlerbehandlung\", oder auf Englisch \"Exception Handling\".\n",
    " "
   ]
  },
  {
   "cell_type": "markdown",
   "metadata": {},
   "source": [
    "### 1.2 `try`-`except`\n",
    "Wenn wir Fehler abfangen wollen, müssen wir sie in einen `try`-`except` Block schreiben (was soviel heisst wie \"versuche\" ..., \"ausser\"). Dies sieht wie folgt aus:"
   ]
  },
  {
   "cell_type": "code",
   "execution_count": null,
   "metadata": {},
   "outputs": [],
   "source": [
    "zahl = input(\"Gib eine Zahl ein:\")\n",
    "try:\n",
    "    als_float = float(zahl)\n",
    "    print(\"Das Quadrat ist:\", als_float * als_float)\n",
    "except:\n",
    "    print(\"Es wurde keine gültige Zahl eingegeben.\")"
   ]
  },
  {
   "cell_type": "markdown",
   "metadata": {},
   "source": [
    "Grundsätzlich wird alles ausgeführt, was im `try`-Block steht. Falls es aber im `try`-Block zu einem Fehler kommt, wird dieser Fehler abgefangen. Der Interpreter springt direkt in den `except`-Block, und der darin enthaltene Code wird ausgeführt.\n",
    "\n",
    "Für unser Beispiel heisst dies: Wenn die Konvertierung der Eingabe in eine Zahl scheitert, entsteht auf der Zeile `float(zahl)` ein Fehler. Die Ausführung springt direkt in den `except`-Block. Die Zeile, welche das Quadrat ausgibt, wird nicht ausgeführt, sondern übersprungen."
   ]
  },
  {
   "cell_type": "markdown",
   "metadata": {},
   "source": [
    "### 1.3 `except` mit Fehlertyp"
   ]
  },
  {
   "cell_type": "markdown",
   "metadata": {},
   "source": [
    "Bisher haben wir mit `except` alle Fehler abgefangen. Wir können aber auch einschränken, welche Fehler abgefangen werden sollen. Dies zeigen wir an folgendem Beispiel, welches den Umkehrwert einer Zahl berechnet. Diesen berechnet man mit 1 durch die eingegebene Zahl.\n",
    "\n",
    "Implementieren wir das Programm zuerst ohne Exception Handling. Was passiert, wenn du keine zulässige Zahl eingibst? Was passiert, wenn du 0 eingibst?"
   ]
  },
  {
   "cell_type": "code",
   "execution_count": null,
   "metadata": {},
   "outputs": [],
   "source": [
    "zahl = input(\"Gib eine Zahl ein:\")\n",
    "als_float = float(zahl)\n",
    "print(\"Der Umkehrwert ist:\", 1 / als_float)"
   ]
  },
  {
   "cell_type": "markdown",
   "metadata": {},
   "source": [
    "Gibt man etwas anderes als eine Zahl ein, erhält man wie vorher einen `ValueError`. Wenn man 0 eingibt, rechnet man 1 / 0 - was allerdings nicht definiert ist, und erhält somit einen `ZeroDivisionError`. Wir wollen wieder diese zwei Fehler abfangen, aber unterschiedlich behandeln. Dies können wir tun, indem wir mehrere `except`-Blöcke erstellen und nach jedem den den Fehlertyp angeben. Der Fehlertyp wird in einer Fehlermeldung immer ganz oben links meist in rot angezeigt.\n",
    "\n",
    "Das Programm sieht nun wie folgt aus:"
   ]
  },
  {
   "cell_type": "code",
   "execution_count": null,
   "metadata": {},
   "outputs": [],
   "source": [
    "zahl = input(\"Gib eine Zahl ein:\")\n",
    "try:\n",
    "    als_float = float(zahl)\n",
    "    print(\"Der Umkehrwert ist:\", 1 / als_float)\n",
    "\n",
    "except ZeroDivisionError:\n",
    "    print(\"Der Umkehrwert von 0 ist nicht definiert.\")\n",
    "    \n",
    "except ValueError:\n",
    "    print(\"Es wurde keine gültige Zahl eingegeben.\")"
   ]
  },
  {
   "cell_type": "markdown",
   "metadata": {},
   "source": [
    "### 1.4 Fehler ignorieren: `pass`\n",
    "Was ist, wenn wir einen Fehler ignorieren - also abfangen, ohne irgendetwas zu machen - wollen? Wir würden erwarten, dass folgende Syntax funktioniert:"
   ]
  },
  {
   "cell_type": "code",
   "execution_count": null,
   "metadata": {},
   "outputs": [],
   "source": [
    "zahl = input(\"Gib eine Zahl ein:\")\n",
    "try:\n",
    "    als_float = float(zahl)\n",
    "    print(\"Der Umkehrwert ist:\", 1 / als_float)\n",
    "\n",
    "except:  # Wir wollen alle Fehler abfangen, aber dann nichts damit tun.\n",
    "\n",
    "print(\"Ende.\")"
   ]
  },
  {
   "cell_type": "markdown",
   "metadata": {},
   "source": [
    "Allerdings erzeugt dies einen `IndentationError`, da Python hier einen Codeblock erwarten würde. Es hilft auch nichts, einen Kommentar hinzuschreiben (da es sich dabei ja nicht um validen Code handelt)."
   ]
  },
  {
   "cell_type": "code",
   "execution_count": null,
   "metadata": {},
   "outputs": [],
   "source": [
    "zahl = input(\"Gib eine Zahl ein:\")\n",
    "try:\n",
    "    als_float = float(zahl)\n",
    "    print(\"Der Umkehrwert ist:\", 1 / als_float)\n",
    "\n",
    "except:  # Wir wollen alle Fehler abfangen, aber dann nichts damit tun.\n",
    "    # Kommentar hilft hier auch nichts\n",
    "\n",
    "print(\"Ende.\")"
   ]
  },
  {
   "cell_type": "markdown",
   "metadata": {},
   "source": [
    "Was man tun könnte, ist, ein \"zweckloses\" Statement hinzuschreiben - wie z.B. die Zahl 0:"
   ]
  },
  {
   "cell_type": "code",
   "execution_count": null,
   "metadata": {},
   "outputs": [],
   "source": [
    "zahl = input(\"Gib eine Zahl ein:\")\n",
    "try:\n",
    "    als_float = float(zahl)\n",
    "    print(\"Der Umkehrwert ist:\", 1 / als_float)\n",
    "\n",
    "except:  # Wir wollen alle Fehler abfangen, aber dann nichts damit tun.\n",
    "    0  # Dies ist zwar Code, macht aber nichts\n",
    "\n",
    "print(\"Ende.\")"
   ]
  },
  {
   "cell_type": "markdown",
   "metadata": {},
   "source": [
    "Es ist aber nicht sehr elegant, sinnlosen Code zu schreiben. Um Abhilfe zu schaffen, gibt es in Python genau für solche Situationen - wenn wir einen leeren Codeblock machen wollen - das Stichwort `pass`. Der Code sieht dann wie folgt aus:"
   ]
  },
  {
   "cell_type": "code",
   "execution_count": null,
   "metadata": {},
   "outputs": [],
   "source": [
    "zahl = input(\"Gib eine Zahl ein:\")\n",
    "try:\n",
    "    als_float = float(zahl)\n",
    "    print(\"Der Umkehrwert ist:\", 1 / als_float)\n",
    "\n",
    "except:\n",
    "    pass  # Macht nichts, füllt nur den Codeblock\n",
    "\n",
    "print(\"Ende.\")"
   ]
  },
  {
   "cell_type": "markdown",
   "metadata": {},
   "source": [
    "### 1.5 `else`\n",
    "Wir können nach `try` und `except` auch einen `else`-Block schreiben. Der Code, der darin enthalten ist, wird nur dann ausgeführt, wenn kein Fehler entstanden ist."
   ]
  },
  {
   "cell_type": "code",
   "execution_count": null,
   "metadata": {},
   "outputs": [],
   "source": [
    "try:\n",
    "    print(1/5)\n",
    "except ZeroDivisionError:\n",
    "    print(\"Error!\")\n",
    "else:\n",
    "    print(\"Success!\")\n"
   ]
  },
  {
   "cell_type": "code",
   "execution_count": null,
   "metadata": {},
   "outputs": [],
   "source": [
    "try:\n",
    "    print(1/0)\n",
    "except ZeroDivisionError:\n",
    "    print(\"Error!\")\n",
    "else:\n",
    "    print(\"Success!\")\n"
   ]
  },
  {
   "cell_type": "markdown",
   "metadata": {},
   "source": [
    "### 1.6 `finally`\n",
    "\n",
    "Zusätzlich zu `try`, `except` und `else` gibt es auch noch `finally`. `finally` wird immer ausgeführt, ob nun ein Fehler entstanden ist oder nicht."
   ]
  },
  {
   "cell_type": "code",
   "execution_count": null,
   "metadata": {},
   "outputs": [],
   "source": [
    "try:\n",
    "    print(1/0)\n",
    "except ZeroDivisionError:\n",
    "    print(\"Error!\")\n",
    "finally:\n",
    "    print(\"Wir sind fertig.\")\n"
   ]
  },
  {
   "cell_type": "code",
   "execution_count": null,
   "metadata": {},
   "outputs": [],
   "source": [
    "try:\n",
    "    print(1/5)\n",
    "except ZeroDivisionError:\n",
    "    print(\"Error!\")\n",
    "finally:\n",
    "    print(\"Wir sind fertig.\")\n"
   ]
  },
  {
   "cell_type": "markdown",
   "metadata": {},
   "source": [
    "Dies macht vor allem Sinn, wenn wir vor dem Ende eines Programms noch zwingend etwas ausführen müssen - z.B. ein Dokument speichern, eine Ressource freigeben oder uns verabschieden."
   ]
  },
  {
   "cell_type": "markdown",
   "metadata": {},
   "source": [
    "<br><br><br><br><br>\n",
    "<div class=\"exercise\">\n",
    "\n",
    "<img src=\"https://i.imgur.com/JyhBeDB.png\" class=\"exercise_image\" width=100>\n",
    "\n",
    "<span class=\"exercise_label\">**Aufgabe:**</span>\n",
    "\n",
    "Was wird in folgenden Programmen ausgegeben?\n",
    "\n",
    "a)\n",
    "```python\n",
    "try:\n",
    "    print(int(\"abc\"))\n",
    "except NameError:\n",
    "    print(\"a\")\n",
    "except ValueError:\n",
    "    print(\"b\")\n",
    "except ZeroDivisionError:\n",
    "    print(\"c\")\n",
    "finally:\n",
    "    print(\"d\")\n",
    "```\n",
    "\n",
    "b)\n",
    "```python\n",
    "try:\n",
    "    print(1/0)\n",
    "except ZeroDivisionError:\n",
    "    pass\n",
    "else:\n",
    "    print(\"a\")\n",
    "```\n",
    "\n",
    "c)\n",
    "```python\n",
    "try:\n",
    "    print(5/3)\n",
    "except:\n",
    "    print(\"a\")\n",
    "else:\n",
    "    print(\"b\")\n",
    "finally:\n",
    "    print(\"c\")\n",
    "```\n",
    "\n",
    "d)\n",
    "```python\n",
    "try:\n",
    "    print(1/0)\n",
    "except ValueError:\n",
    "    print(\"a\")\n",
    "```\n",
    "\n",
    "e)\n",
    "```python\n",
    "try:\n",
    "    print(1/0)\n",
    "finally:\n",
    "    print(\"hi\")\n",
    "```\n",
    "\n",
    "</div>"
   ]
  },
  {
   "cell_type": "markdown",
   "metadata": {},
   "source": [
    "<br><br><br><br><br>\n",
    "## 2. Selbst Fehler auslösen\n",
    "Wenn wir selbst Funktionen schreiben, wollen wir manchmal auch selbst Fehler auslösen können. Als Beispiel schreiben wir eine Funktion, welche die Quadratwurzel einer Zahl berechnet. Unsere erste Version sieht wie folgt aus:"
   ]
  },
  {
   "cell_type": "code",
   "execution_count": null,
   "metadata": {},
   "outputs": [],
   "source": [
    "def quadratwurzel(zahl):\n",
    "    return zahl ** 0.5  # a ^ (1/2) ist dasselbe wie wurzel(a)"
   ]
  },
  {
   "cell_type": "code",
   "execution_count": null,
   "metadata": {},
   "outputs": [],
   "source": [
    "quadratwurzel(4)  # für 4 funktioniert unsere Funktion"
   ]
  },
  {
   "cell_type": "code",
   "execution_count": null,
   "metadata": {},
   "outputs": [],
   "source": [
    "quadratwurzel(-1)  # doch bei einer negativen Zahl gibt es uns eine imaginäre Zahl zurück"
   ]
  },
  {
   "cell_type": "markdown",
   "metadata": {},
   "source": [
    "Wenn wir nicht mit imaginären Zahlen arbeiten wollen, müssen wir einen Fehler auslösen, sobald die Funktion mit einer negativen Zahl aufgerufen wird. Dazu können wir `raise` oder `assert` verwenden."
   ]
  },
  {
   "cell_type": "markdown",
   "metadata": {},
   "source": [
    "### 2.1: `raise`\n",
    "Mit `raise` können wir einen beliebigen Fehler auslösen. Das einfachste `raise`-Statement sieht wie folgt aus:"
   ]
  },
  {
   "cell_type": "code",
   "execution_count": null,
   "metadata": {},
   "outputs": [],
   "source": [
    "def quadratwurzel(zahl):\n",
    "    if zahl < 0:\n",
    "        raise ValueError\n",
    "    return"
   ]
  },
  {
   "cell_type": "code",
   "execution_count": null,
   "metadata": {},
   "outputs": [],
   "source": [
    "quadratwurzel(4)  # bei einer positiven Zahl wird der richtige Wert zurückgegeben"
   ]
  },
  {
   "cell_type": "code",
   "execution_count": null,
   "metadata": {},
   "outputs": [],
   "source": [
    "quadratwurzel(-1)  # bei einer negativen Zahl gibt es einen Fehler"
   ]
  },
  {
   "cell_type": "markdown",
   "metadata": {},
   "source": [
    "Dadurch können wir also einen Fehler vom Typ `ValueError` generieren. `ValueError` macht in diesem Beispiel am meisten Sinn, da die Anwender einen nicht zulässigen Wert eingegeben haben. Wir könnten aber genauso `ZeroDivisionError` oder `TypeError` generieren - je nachdem, was für unseren Fall am meisten Sinn macht. \n",
    "\n",
    "Um noch klarer zu werden, können wir auch eine eigene Fehlermeldung schreiben. Dazu verwenden wir folgende Syntax: "
   ]
  },
  {
   "cell_type": "code",
   "execution_count": null,
   "metadata": {},
   "outputs": [],
   "source": [
    "def quadratwurzel(zahl):\n",
    "    if zahl < 0:\n",
    "        raise ValueError(\"Die Quadratwurzel einer negativen Zahl ist nicht reell.\")\n",
    "    return zahl ** 0.5"
   ]
  },
  {
   "cell_type": "code",
   "execution_count": null,
   "metadata": {},
   "outputs": [],
   "source": [
    "quadratwurzel(-1)"
   ]
  },
  {
   "cell_type": "markdown",
   "metadata": {},
   "source": [
    "Dank unserer Fehlermeldung wird es für die Anwender:innen unserer Funktion sofort klar, weshalb ein Fehler verursacht wurde."
   ]
  },
  {
   "cell_type": "markdown",
   "metadata": {},
   "source": [
    "### 2.2: `assert`\n",
    "Eine andere Art, um Fehler auszulösen, sind `assert`-Statements (assert heisst soviel wie \"sicherstellen\"). Ein `assert`-Statement sieht wie folgt aus:"
   ]
  },
  {
   "cell_type": "code",
   "execution_count": null,
   "metadata": {},
   "outputs": [],
   "source": [
    "def quadratwurzel(zahl):\n",
    "    assert zahl >= 0  \n",
    "    return zahl ** 0.5"
   ]
  },
  {
   "cell_type": "markdown",
   "metadata": {},
   "source": [
    "Wir schreiben also `assert` gefolgt von einer Bedingung. Wenn diese Bedingung erfüllt ist, wird kein Fehler ausgelöst. Ist sie allerdings nicht erfüllt, gibt es einen `AssertionError`:"
   ]
  },
  {
   "cell_type": "code",
   "execution_count": null,
   "metadata": {},
   "outputs": [],
   "source": [
    "quadratwurzel(4)"
   ]
  },
  {
   "cell_type": "code",
   "execution_count": null,
   "metadata": {},
   "outputs": [],
   "source": [
    "quadratwurzel(-1)"
   ]
  },
  {
   "cell_type": "markdown",
   "metadata": {},
   "source": [
    "Auch hier können wir eine Fehlermeldung hinzufügen. Dazu schreiben wir nach der Bedingung ein Komma, gefolgt von der Fehlermeldung in Anführungs- und Schlusszeichen."
   ]
  },
  {
   "cell_type": "code",
   "execution_count": null,
   "metadata": {},
   "outputs": [],
   "source": [
    "def quadratwurzel(zahl):\n",
    "    assert zahl >= 0, \"Die Quadratwurzel einer negativen Zahl ist nicht reell.\"\n",
    "    return zahl ** 0.5"
   ]
  },
  {
   "cell_type": "code",
   "execution_count": null,
   "metadata": {},
   "outputs": [],
   "source": [
    "quadratwurzel(-1)"
   ]
  },
  {
   "cell_type": "markdown",
   "metadata": {},
   "source": [
    "`assert`-Statements sind somit etwas kürzer als `raise`-Statements, dafür kann man nicht einen spezifischen Fehlertyp auslösen. Schlussendlich ist die Frage, ob nun `assert` oder `raise` verwendet werden soll, auch etwas eine Frage nach persönlciher Vorliebe."
   ]
  },
  {
   "cell_type": "markdown",
   "metadata": {},
   "source": [
    "### 2.3 `raise` in einem `except`-Block\n",
    "Wenn wir ein einfaches `raise` (ohne nachfolgenden Fehlertyp) in einem `except`-Block ausführen, wird der abgefangene Fehler wieder ausgelöst. Hierzu ein Beispiel:"
   ]
  },
  {
   "cell_type": "code",
   "execution_count": null,
   "metadata": {},
   "outputs": [],
   "source": [
    "try:\n",
    "    print(1/0)\n",
    "except:\n",
    "    print(\"Wir machen noch etwas, bevor wir den Fehler wieder auslösen...\")\n",
    "    raise"
   ]
  },
  {
   "cell_type": "markdown",
   "metadata": {},
   "source": [
    "Auch dies kann dazu verwendet werden, um vor dem Crashen eines Programms noch etwas aufzuräumen. Es kann ebenfalls verwendet werden, um ein Programm zu debuggen. Wenn wir in einer Funktion nicht genau wissen, wieso etwas einen Fehler generiert, können wir zum Beispiel damit herausfinden, was die Variablenwerte waren:"
   ]
  },
  {
   "cell_type": "code",
   "execution_count": null,
   "metadata": {},
   "outputs": [],
   "source": [
    "def obscure_function():\n",
    "    agg = 0\n",
    "    for i in range(10, 0, -1):\n",
    "        agg = agg + i / (i - 1)\n"
   ]
  },
  {
   "cell_type": "code",
   "execution_count": null,
   "metadata": {},
   "outputs": [],
   "source": [
    "obscure_function()"
   ]
  },
  {
   "cell_type": "markdown",
   "metadata": {},
   "source": [
    "Wir haben einen Fehler und verstehen diesen nicht ganz. Um das Problem zu finden, packen wir die fehlerhafte Zeile in einen `try`-Block, und printen im `except` die Variablenwerte, bevor wir den Fehler wieder auslösen:"
   ]
  },
  {
   "cell_type": "code",
   "execution_count": null,
   "metadata": {},
   "outputs": [],
   "source": [
    "def obscure_function():\n",
    "    agg = 0\n",
    "    for i in range(10, 0, -1):\n",
    "        try:\n",
    "            agg = agg + i / (i - 1)\n",
    "        except:\n",
    "            print(\"agg:\", agg)\n",
    "            print(\"i:\", i)\n",
    "            print(\"i-1\": i)\n",
    "            raise\n"
   ]
  },
  {
   "cell_type": "code",
   "execution_count": null,
   "metadata": {},
   "outputs": [],
   "source": [
    "obscure_function()"
   ]
  },
  {
   "cell_type": "markdown",
   "metadata": {},
   "source": [
    "Dies hilft uns nun zu verstehen, wieso der Fehler aufgetaucht ist."
   ]
  },
  {
   "cell_type": "markdown",
   "metadata": {},
   "source": [
    "## 3. Mehr über `str`-Objekte\n",
    "Wir haben bereits verschiedentlich mit `str`-Objekten hantiert: Wir können zum Beispiel mit `for`-Loops durch `str`-Objekte durchiterieren, mehrere Strings mit `+` zusammenhängen, oder sie mit `float` in Zahlen konvertieren. Es gibt aber noch zahlreiche weitere Dinge, welche man mit `str`-Objekte tun kann. Diese lernen wir in diesem Kapitel kennen."
   ]
  },
  {
   "cell_type": "markdown",
   "metadata": {},
   "source": [
    "### 3.1 Auf einzelne Buchstaben der Zeichenkette zugreifen\n",
    "Wir wollen oft auf einen spezifischen Buchstaben der Zeichenkette zugreifen - z.B. um den ersten Buchstaben zu extrahieren, wenn wir ein Wort in einem Wörterbuch nachschlagen wollen. Dieser Vorgang heisst \"Indizierung\" und sieht wie folgt aus:"
   ]
  },
  {
   "cell_type": "code",
   "execution_count": 16,
   "metadata": {},
   "outputs": [
    {
     "data": {
      "text/plain": [
       "'1'"
      ]
     },
     "execution_count": 16,
     "metadata": {},
     "output_type": "execute_result"
    }
   ],
   "source": [
    "beispiel_str = \"123456789\"\n",
    "beispiel_str[0]"
   ]
  },
  {
   "cell_type": "markdown",
   "metadata": {},
   "source": [
    "Wir greifen also auf einen spezifischen Buchstaben zu, indem wir den Variablennamen der `str` gefolgt von einer Zahl in eckigen Klammern schreiben. Die Zahl in den eckigen Klammern (der sogenannte Index) bestimmt dabei, auf welchen Buchstaben wir zugreifen. Wichtig: Die Nummerierung beginnt bei 0 - 0 ist also der erste Buchstaben, 1 der zweite Buchstaben, 2 der Dritte, usw."
   ]
  },
  {
   "cell_type": "code",
   "execution_count": 9,
   "metadata": {},
   "outputs": [
    {
     "data": {
      "text/plain": [
       "2"
      ]
     },
     "execution_count": 9,
     "metadata": {},
     "output_type": "execute_result"
    }
   ],
   "source": [
    "beispiel_str[1]  # das dritte Element"
   ]
  },
  {
   "cell_type": "code",
   "execution_count": 10,
   "metadata": {},
   "outputs": [
    {
     "data": {
      "text/plain": [
       "3"
      ]
     },
     "execution_count": 10,
     "metadata": {},
     "output_type": "execute_result"
    }
   ],
   "source": [
    "beispiel_str[2]  # das dritte Element"
   ]
  },
  {
   "cell_type": "markdown",
   "metadata": {},
   "source": [
    "Wir können ebenfalls auf den letzten Buchstaben einer `str` zugreifen - mit dem Index `-1`."
   ]
  },
  {
   "cell_type": "code",
   "execution_count": 17,
   "metadata": {},
   "outputs": [
    {
     "data": {
      "text/plain": [
       "'9'"
      ]
     },
     "execution_count": 17,
     "metadata": {},
     "output_type": "execute_result"
    }
   ],
   "source": [
    "beispiel_str[-1]  # das letzte Element"
   ]
  },
  {
   "cell_type": "markdown",
   "metadata": {},
   "source": [
    "Der zweitletzte Buchstaben hat Index `-2`, der Drittletzte `-3`, usw."
   ]
  },
  {
   "cell_type": "code",
   "execution_count": 18,
   "metadata": {},
   "outputs": [
    {
     "data": {
      "text/plain": [
       "'8'"
      ]
     },
     "execution_count": 18,
     "metadata": {},
     "output_type": "execute_result"
    }
   ],
   "source": [
    "beispiel_str[-2]  # das zweitletzte Element"
   ]
  },
  {
   "cell_type": "markdown",
   "metadata": {},
   "source": [
    "Wenn wir aber auf einen Buchstaben zurgreifen wollen, welcher gar nicht mehr in der Zeichenkette ist, erhalten wir einen `IndexError`. So zum Beispiel in diesem Fall: Die String hat nur 9 Buchstaben, daher gibt es kein Element mit Index 9 (es gibt keinen zehnten Buchstaben)."
   ]
  },
  {
   "cell_type": "code",
   "execution_count": 20,
   "metadata": {},
   "outputs": [
    {
     "ename": "IndexError",
     "evalue": "string index out of range",
     "output_type": "error",
     "traceback": [
      "\u001b[0;31m---------------------------------------------------------------------------\u001b[0m",
      "\u001b[0;31mIndexError\u001b[0m                                Traceback (most recent call last)",
      "\u001b[1;32m/Users/schmaett/code/wsen/hs23_code/hs23/notebooks/Unterricht/Woche_6/01_Unterricht.ipynb Cell 72\u001b[0m line \u001b[0;36m1\n\u001b[0;32m----> <a href='vscode-notebook-cell:/Users/schmaett/code/wsen/hs23_code/hs23/notebooks/Unterricht/Woche_6/01_Unterricht.ipynb#Y664sZmlsZQ%3D%3D?line=0'>1</a>\u001b[0m beispiel_str[\u001b[39m9\u001b[39;49m]\n",
      "\u001b[0;31mIndexError\u001b[0m: string index out of range"
     ]
    }
   ],
   "source": [
    "beispiel_str[9]"
   ]
  },
  {
   "cell_type": "markdown",
   "metadata": {},
   "source": [
    "### 3.2 Mehrere Buchstaben gleichzeitig extrahieren\n",
    "Wenn wir gleich mehrere Buchstaben gleichzeitig extrahieren wollen, könnten wir dies (für die ersten drei Elemente) wie folgt tun:"
   ]
  },
  {
   "cell_type": "code",
   "execution_count": 21,
   "metadata": {},
   "outputs": [
    {
     "data": {
      "text/plain": [
       "'123'"
      ]
     },
     "execution_count": 21,
     "metadata": {},
     "output_type": "execute_result"
    }
   ],
   "source": [
    "beispiel_str[0] + beispiel_str[1] + beispiel_str[2]"
   ]
  },
  {
   "cell_type": "markdown",
   "metadata": {},
   "source": [
    "Weil dies ziemlich umständlich ist, gibt es in Python einen spezifischen Syntax dazu:"
   ]
  },
  {
   "cell_type": "code",
   "execution_count": 23,
   "metadata": {},
   "outputs": [
    {
     "data": {
      "text/plain": [
       "'123'"
      ]
     },
     "execution_count": 23,
     "metadata": {},
     "output_type": "execute_result"
    }
   ],
   "source": [
    "beispiel_str[0:3]"
   ]
  },
  {
   "cell_type": "markdown",
   "metadata": {},
   "source": [
    "Die Zahl vor dem `:` bestimmt, ab welchem Index wir die Buchstaben extrahieren. Die Zahl nach dem `:` bestimmt, wo wir aufhören. Wie bei der Funktion `range` wird dabei das letzte Element nicht mehr mitgegeben; bei `0:3` werden somit die Elemente mit Index `0`, `1` und `2` zurückgegeben."
   ]
  },
  {
   "cell_type": "markdown",
   "metadata": {},
   "source": [
    "Ein anderes Beispiel dazu:"
   ]
  },
  {
   "cell_type": "code",
   "execution_count": 24,
   "metadata": {},
   "outputs": [
    {
     "data": {
      "text/plain": [
       "'456'"
      ]
     },
     "execution_count": 24,
     "metadata": {},
     "output_type": "execute_result"
    }
   ],
   "source": [
    "beispiel_str[3:6]"
   ]
  },
  {
   "cell_type": "markdown",
   "metadata": {},
   "source": [
    "Oder mit negativen Indizes:"
   ]
  },
  {
   "cell_type": "code",
   "execution_count": 32,
   "metadata": {},
   "outputs": [
    {
     "data": {
      "text/plain": [
       "'456'"
      ]
     },
     "execution_count": 32,
     "metadata": {},
     "output_type": "execute_result"
    }
   ],
   "source": [
    "beispiel_str[3:-3]  # vom vierten bis zum drittletzten Element"
   ]
  },
  {
   "cell_type": "markdown",
   "metadata": {},
   "source": [
    "Wenn wir die Zahl vor dem Doppelpunkt ganz weglassen, beginnen wir ganz am Anfang:"
   ]
  },
  {
   "cell_type": "code",
   "execution_count": 25,
   "metadata": {},
   "outputs": [
    {
     "data": {
      "text/plain": [
       "'123456'"
      ]
     },
     "execution_count": 25,
     "metadata": {},
     "output_type": "execute_result"
    }
   ],
   "source": [
    "beispiel_str[:6]"
   ]
  },
  {
   "cell_type": "markdown",
   "metadata": {},
   "source": [
    "Und wenn wir die Zahl nach dem Doppelpunkt weglassen, extrahieren wir die Zeichenkette bis ganz zum Ende:"
   ]
  },
  {
   "cell_type": "code",
   "execution_count": 26,
   "metadata": {},
   "outputs": [
    {
     "data": {
      "text/plain": [
       "'456789'"
      ]
     },
     "execution_count": 26,
     "metadata": {},
     "output_type": "execute_result"
    }
   ],
   "source": [
    "beispiel_str[3:]"
   ]
  },
  {
   "cell_type": "markdown",
   "metadata": {},
   "source": [
    "Wir können auch nur jedes zweite oder dritte Element extrahieren. Dazu verwenden wir zwei Doppelpunkte, und geben die Frequenz nach dem zweiten Doppelpunkt an:"
   ]
  },
  {
   "cell_type": "code",
   "execution_count": 31,
   "metadata": {},
   "outputs": [
    {
     "data": {
      "text/plain": [
       "'2468'"
      ]
     },
     "execution_count": 31,
     "metadata": {},
     "output_type": "execute_result"
    }
   ],
   "source": [
    "beispiel_str[1:8:2]  # vom zweiten bis zum neunten Element, aber nur jedes Zweite"
   ]
  },
  {
   "cell_type": "markdown",
   "metadata": {},
   "source": [
    "Wir können dabei auch wieder Zahlen weglassen, um von Anfang an oder bis zum Ende zu extrahieren:"
   ]
  },
  {
   "cell_type": "code",
   "execution_count": 33,
   "metadata": {},
   "outputs": [
    {
     "data": {
      "text/plain": [
       "'258'"
      ]
     },
     "execution_count": 33,
     "metadata": {},
     "output_type": "execute_result"
    }
   ],
   "source": [
    "beispiel_str[1::3]  # ab dem zweiten Element jedes Dritte"
   ]
  },
  {
   "cell_type": "code",
   "execution_count": 34,
   "metadata": {},
   "outputs": [
    {
     "data": {
      "text/plain": [
       "'135'"
      ]
     },
     "execution_count": 34,
     "metadata": {},
     "output_type": "execute_result"
    }
   ],
   "source": [
    "beispiel_str[:-3:2]  # jedes zweite Element bis zum Drittletzen"
   ]
  },
  {
   "cell_type": "markdown",
   "metadata": {},
   "source": [
    "Wir können auch Start und Stop weglassen:"
   ]
  },
  {
   "cell_type": "code",
   "execution_count": 36,
   "metadata": {},
   "outputs": [
    {
     "data": {
      "text/plain": [
       "'13579'"
      ]
     },
     "execution_count": 36,
     "metadata": {},
     "output_type": "execute_result"
    }
   ],
   "source": [
    "beispiel_str[::2]  # jedes zweite Element"
   ]
  },
  {
   "cell_type": "markdown",
   "metadata": {},
   "source": [
    "Hier sind nochmals alle Arten der Indizierung zusammengefasst:\n",
    "\n",
    "Allgemeines Muster: `beispiel[start:ende:schritt] `"
   ]
  },
  {
   "cell_type": "markdown",
   "metadata": {},
   "source": [
    "```python\n",
    "beispiel = \"hallo, dies ist ein Beispiel\"\n",
    "beispiel[0]    # das erste Zeichen\n",
    "beispiel[5]    # das sechste Zeichen\n",
    "beispiel[:5]   # alles bis und mit zum fünften Zeichen\n",
    "beispiel[5:]   # alles nach dem sechsten Zeichen\n",
    "beispiel[5:13] # alles ab dem sechsten Zeichen, bis und mit 13. Zeichen\n",
    "beispiel[-3]   # Minus: Zählt von hinten\n",
    "beispiel[::2]  # eine Folge des 2-ten Elements in der gesamten Folge.\n",
    "\n",
    "```"
   ]
  },
  {
   "cell_type": "markdown",
   "metadata": {},
   "source": [
    "<br><br><br><br><br>\n",
    "<div class=\"exercise\">\n",
    "\n",
    "<img src=\"https://i.imgur.com/JyhBeDB.png\" class=\"exercise_image\" width=100>\n",
    "\n",
    "<span class=\"exercise_label\">**Aufgabe:**</span>\n",
    "\n",
    "Wir definieren eine Zeichenkette wie folgt:\n",
    "```python\n",
    "some_string = \"abcdefghij\"\n",
    "```\n",
    "Mittels Indizierung, isoliere folgende Substrings:\n",
    "```python\n",
    "\"c\"\n",
    "\"abc\"\n",
    "\"hij\"\n",
    "\"def\"\n",
    "\"acegi\"\n",
    "\"bdfhj\"\n",
    "```\n",
    "</div>"
   ]
  },
  {
   "cell_type": "markdown",
   "metadata": {},
   "source": [
    "### 3.3 Methoden von Strings\n",
    "\n",
    "Objekte in Python können sogenannte Methoden haben. Dabei handelt es sich um Funktionen, welche an ein bestimmtes Objekt gebunden sind. Wenn wir eine Methode aufrufen, sieht dies wie folgt aus:\n",
    "\n",
    "```python\n",
    "variablenname.methodenname(argument1, argument2, ...)\n",
    "```\n",
    "\n",
    "Welche Methoden für eine Variable existieren, wird durch den Objekttypen festgelegt: So haben alle Objekte vom Typ `str` beispielsweise dieselben Methoden. Hier sind einige Beispiele für Methoden, welche für Strings existieren:\n"
   ]
  },
  {
   "cell_type": "code",
   "execution_count": 4,
   "metadata": {},
   "outputs": [],
   "source": [
    "question = \" hi, my name is John\""
   ]
  },
  {
   "cell_type": "markdown",
   "metadata": {},
   "source": [
    "Wir können zum Beispiel mit den Methoden `lower` und `upper` alle Buchstaben im String zu Klein- bzw. Grossbuchstaben machen:"
   ]
  },
  {
   "cell_type": "code",
   "execution_count": 5,
   "metadata": {},
   "outputs": [
    {
     "data": {
      "text/plain": [
       "' hi, my name is john'"
      ]
     },
     "execution_count": 5,
     "metadata": {},
     "output_type": "execute_result"
    }
   ],
   "source": [
    "question.lower()"
   ]
  },
  {
   "cell_type": "code",
   "execution_count": 6,
   "metadata": {},
   "outputs": [
    {
     "data": {
      "text/plain": [
       "' HI, MY NAME IS JOHN'"
      ]
     },
     "execution_count": 6,
     "metadata": {},
     "output_type": "execute_result"
    }
   ],
   "source": [
    "question.upper()"
   ]
  },
  {
   "cell_type": "markdown",
   "metadata": {},
   "source": [
    "Diese zwei Methoden haben kein Argument. Da die Methode zum Objekt gehört, müssen wir den Methoden die Variable nicht nochmals als Argument übergeben - dies wird mit dem `.` gemacht. \n",
    "\n",
    "Ein weiteres Beispiel ist `count`, welches zählt, wie häufig eine Zeichenkette in einer anderen Zeichenkette vorkommt. Die zu suchende Zeichenkette wird als Argument mitgegeben:"
   ]
  },
  {
   "cell_type": "code",
   "execution_count": 8,
   "metadata": {},
   "outputs": [
    {
     "data": {
      "text/plain": [
       "2"
      ]
     },
     "execution_count": 8,
     "metadata": {},
     "output_type": "execute_result"
    }
   ],
   "source": [
    "question.count(\"i\")  # zählt, wie häufig \"i\" in question vorkommt"
   ]
  },
  {
   "cell_type": "code",
   "execution_count": 9,
   "metadata": {},
   "outputs": [
    {
     "data": {
      "text/plain": [
       "1"
      ]
     },
     "execution_count": 9,
     "metadata": {},
     "output_type": "execute_result"
    }
   ],
   "source": [
    "question.count(\"John\")  # wir können auch nach Wörtern suchen"
   ]
  },
  {
   "cell_type": "markdown",
   "metadata": {},
   "source": [
    "Mit `replace` können wir in einer String eine bestimmte Zeichenkette durch eine andere ersetzen:"
   ]
  },
  {
   "cell_type": "code",
   "execution_count": 10,
   "metadata": {},
   "outputs": [
    {
     "data": {
      "text/plain": [
       "' hi, my name is Jack'"
      ]
     },
     "execution_count": 10,
     "metadata": {},
     "output_type": "execute_result"
    }
   ],
   "source": [
    "question.replace(\"John\", \"Jack\")"
   ]
  },
  {
   "cell_type": "markdown",
   "metadata": {},
   "source": [
    "Indem wir als Ersatz eine leere Zeichenkette mitgeben, können wir auch Wörter löschen:"
   ]
  },
  {
   "cell_type": "code",
   "execution_count": 11,
   "metadata": {},
   "outputs": [
    {
     "data": {
      "text/plain": [
       "' hi, my name is '"
      ]
     },
     "execution_count": 11,
     "metadata": {},
     "output_type": "execute_result"
    }
   ],
   "source": [
    "question.replace(\"John\", \"\")"
   ]
  },
  {
   "cell_type": "markdown",
   "metadata": {},
   "source": [
    "Mit `strip` können wir alle Leerzeichen entfernen, welche eine Zeichenkette umgeben. So hat `question` zum Beispiel am Anfang ein Leerzeichen, welches wir so entfernen können:"
   ]
  },
  {
   "cell_type": "code",
   "execution_count": 12,
   "metadata": {},
   "outputs": [
    {
     "data": {
      "text/plain": [
       "'hi, my name is John'"
      ]
     },
     "execution_count": 12,
     "metadata": {},
     "output_type": "execute_result"
    }
   ],
   "source": [
    "question.strip()"
   ]
  },
  {
   "cell_type": "markdown",
   "metadata": {},
   "source": [
    "Wir können `strip` auch explizit eine Liste von Charakteren mitgeben, welche wir entfernen wollen. Hier ein Beispiel:"
   ]
  },
  {
   "cell_type": "code",
   "execution_count": 13,
   "metadata": {},
   "outputs": [],
   "source": [
    "example_string = \"~~~~~~~~Hallo Welt~~~~~~~~~\""
   ]
  },
  {
   "cell_type": "code",
   "execution_count": 15,
   "metadata": {},
   "outputs": [
    {
     "data": {
      "text/plain": [
       "'~~~~~~~~Hallo Welt~~~~~~~~~'"
      ]
     },
     "execution_count": 15,
     "metadata": {},
     "output_type": "execute_result"
    }
   ],
   "source": [
    "example_string.strip()  # Ohne Argumente entfernt `strip` nur den Whitespace (Leerzeichen und Umbrüche)"
   ]
  },
  {
   "cell_type": "code",
   "execution_count": 16,
   "metadata": {},
   "outputs": [
    {
     "data": {
      "text/plain": [
       "'Hallo Welt'"
      ]
     },
     "execution_count": 16,
     "metadata": {},
     "output_type": "execute_result"
    }
   ],
   "source": [
    "example_string.strip(\"~\")  # Wenn wir den Charakter mitgeben, wird dieser auch entfernt"
   ]
  },
  {
   "cell_type": "markdown",
   "metadata": {},
   "source": [
    "Mit `find` können wir in einer String nach einer anderen String suchen. Es wird jeweils der Index der ersten Vorkommnis zurückgegeben:"
   ]
  },
  {
   "cell_type": "code",
   "execution_count": 17,
   "metadata": {},
   "outputs": [
    {
     "data": {
      "text/plain": [
       "16"
      ]
     },
     "execution_count": 17,
     "metadata": {},
     "output_type": "execute_result"
    }
   ],
   "source": [
    "question.find(\"John\")"
   ]
  },
  {
   "cell_type": "markdown",
   "metadata": {},
   "source": [
    "Dies heisst, das Wort John kommt zum ersten mal bei Index 16 vor. Dies können wir überprüfen:"
   ]
  },
  {
   "cell_type": "code",
   "execution_count": 18,
   "metadata": {},
   "outputs": [
    {
     "data": {
      "text/plain": [
       "'J'"
      ]
     },
     "execution_count": 18,
     "metadata": {},
     "output_type": "execute_result"
    }
   ],
   "source": [
    "question[16]"
   ]
  },
  {
   "cell_type": "markdown",
   "metadata": {},
   "source": [
    "`find` gibt also den Index des ersten Buchstaben des zu suchenden Worts zurück."
   ]
  },
  {
   "cell_type": "markdown",
   "metadata": {},
   "source": [
    "Wenn der Suchbegriff nicht enthalten ist, gibt uns `find` den Wert `-1` zurück."
   ]
  },
  {
   "cell_type": "code",
   "execution_count": 19,
   "metadata": {},
   "outputs": [
    {
     "data": {
      "text/plain": [
       "-1"
      ]
     },
     "execution_count": 19,
     "metadata": {},
     "output_type": "execute_result"
    }
   ],
   "source": [
    "question.find(\"ist nicht drin\")"
   ]
  },
  {
   "cell_type": "markdown",
   "metadata": {},
   "source": [
    "Dies waren nur einige Beispiele von Methoden. Die ganze Liste von möglichen Methoden auf Strings findet ihr in der Python-Dokumentation: https://docs.python.org/3/library/stdtypes.html#text-sequence-type-str"
   ]
  },
  {
   "cell_type": "markdown",
   "metadata": {},
   "source": [
    "### 3.4 Die Funktion `len`\n",
    "Wir haben für zahlreiche nützliche Dinge, welche wir mit Strings tun können, Methoden zur Verfügung. Was wir aber mit Methoden nicht können, ist es herauszufinden, wie lange eine Zeichenkette ist. Dazu haben wir in Python die Funktion `len`:"
   ]
  },
  {
   "cell_type": "code",
   "execution_count": 20,
   "metadata": {},
   "outputs": [
    {
     "data": {
      "text/plain": [
       "20"
      ]
     },
     "execution_count": 20,
     "metadata": {},
     "output_type": "execute_result"
    }
   ],
   "source": [
    "len(question)"
   ]
  }
 ],
 "metadata": {
  "kernelspec": {
   "display_name": ".venv",
   "language": "python",
   "name": "python3"
  },
  "language_info": {
   "codemirror_mode": {
    "name": "ipython",
    "version": 3
   },
   "file_extension": ".py",
   "mimetype": "text/x-python",
   "name": "python",
   "nbconvert_exporter": "python",
   "pygments_lexer": "ipython3",
   "version": "3.10.9"
  },
  "orig_nbformat": 4
 },
 "nbformat": 4,
 "nbformat_minor": 2
}
