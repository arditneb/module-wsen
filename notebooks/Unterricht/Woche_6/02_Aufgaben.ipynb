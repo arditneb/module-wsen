{
 "cells": [
  {
   "cell_type": "markdown",
   "metadata": {
    "vscode": {
     "languageId": "plaintext"
    }
   },
   "source": [
    "# 1. Taschenrechner Revisited\n",
    "\n",
    "In Woche 3 wurde ein sehr einfacher Taschenrechner implementiert, welcher jetzt erweitert werden soll mit Error Handling.\n",
    "\n",
    "Implementieren Sie eine Funktion `calculate`, welche drei Parameter entgegennimmt:\n",
    "- `number1`: Eine Zahl\n",
    "- `number2`: Eine Zahl\n",
    "- `operator`: Ein String, welcher eine der vier Grundrechenarten enthält: `+`, `-`, `*` oder `/`\n",
    "\n",
    "Falls `operator` nicht einer der vier Grundrechenarten entspricht, soll eine Exception vom Typ `ValueError` geworfen werden."
   ]
  },
  {
   "cell_type": "code",
   "execution_count": null,
   "metadata": {},
   "outputs": [],
   "source": [
    "def calculate(number1, number2, operator):\n",
    "    # YOUR CODE HERE"
   ]
  },
  {
   "cell_type": "markdown",
   "metadata": {},
   "source": [
    "Teste die Funktion mit folgenden Aufrufen:"
   ]
  },
  {
   "cell_type": "code",
   "execution_count": null,
   "metadata": {},
   "outputs": [],
   "source": [
    "print(calculate(1, 2, '+'))"
   ]
  },
  {
   "cell_type": "code",
   "execution_count": null,
   "metadata": {},
   "outputs": [],
   "source": [
    "print(calculate(1, 2, '-'))"
   ]
  },
  {
   "cell_type": "code",
   "execution_count": null,
   "metadata": {},
   "outputs": [],
   "source": [
    "print(calculate(1, 2, 'mal'))"
   ]
  },
  {
   "cell_type": "markdown",
   "metadata": {},
   "source": [
    "Wenn Zahlen eingelesen von einem Benutzer eingelesen werden können auch schon Probleme auftreten. Zum Beispiel wenn der Benutzer eine Zeichenkette eingibt, welche nicht in eine Zahl umgewandelt werden kann. In diesem Fall wird eine Exception vom Typ `ValueError` geworfen.\n",
    "\n",
    "Entwickle eine Funktion `ask_for_number` mit folgender Funktionalität:\n",
    "- Die Funktion fragt Anwender:innen nach einer Zahl \n",
    "- Der Benutzer wird solange aufgefordert, eine neue Zahl einzugeben bis keine Error mehr auftritt\n",
    "- Diese Zahl wird zurückgegeben"
   ]
  },
  {
   "cell_type": "code",
   "execution_count": null,
   "metadata": {},
   "outputs": [],
   "source": [
    "def ask_for_number():\n",
    "    # YOUR CODE HERE"
   ]
  },
  {
   "cell_type": "markdown",
   "metadata": {},
   "source": [
    "Jetzt wollen wir das ganze in eine kleine Applikation einbetten, mit welcher die Inputs vom Benutzer entgegengenommen werden können.\n",
    "\n",
    "Schreibe eine Funktion `calculator` welche folgende Aufgaben erfüllt:\n",
    "- Fragt den Benutzer nach einer Zahl mit `ask_for_number`\n",
    "- Fragt den Benutzer nach einer weiteren Zahl mit `ask_for_number`\n",
    "- Fragt den Benutzer nach einer der vier Grundrechenarten\n",
    "- Ruft die Funktion `calculate` auf und gibt das Resultat aus\n",
    "- Behandelt die Exceptions, welche von `calculate` geworfen werden können"
   ]
  },
  {
   "cell_type": "code",
   "execution_count": null,
   "metadata": {},
   "outputs": [],
   "source": [
    "def calculator():\n",
    "    # YOUR CODE HERE"
   ]
  },
  {
   "cell_type": "markdown",
   "metadata": {},
   "source": [
    "Folgender Aufruf testet den Taschenrechner:"
   ]
  },
  {
   "cell_type": "code",
   "execution_count": null,
   "metadata": {},
   "outputs": [],
   "source": [
    "calculator()"
   ]
  },
  {
   "cell_type": "markdown",
   "metadata": {},
   "source": [
    "Versuche eigenständig noch die `ZeroDivisionError` zu behandeln in der Funktion `calculator`."
   ]
  },
  {
   "cell_type": "markdown",
   "metadata": {},
   "source": [
    "# 2. ID-Nummer Parsen\n",
    "\n",
    "Auf der Schweizer ID gibt es maschinenlesbare Zeilen, welche die wichtigsten Informationen enthalten. In dieser Aufgabe schreiben wir ein Programm, welche diese Information extrahiert.\n",
    "\n",
    "Die maschinenlesbaren Zeilen sehen wie folgt aus:\n",
    "```\n",
    "IDCHE123412345<7<<<<<<<<<<<<<<\n",
    "0402291M1001015CHE<<<<<<<<<<<8\n",
    "MUSTERMANN<<MAX<OTTO<<<<<<<<<<\n",
    "```\n",
    "\n",
    "Hier als Definition:"
   ]
  },
  {
   "cell_type": "code",
   "execution_count": null,
   "metadata": {},
   "outputs": [],
   "source": [
    "beispiel = \"\"\"\n",
    "IDCHE123412345<7<<<<<<<<<<<<<<\n",
    "0402291M1001015CHE<<<<<<<<<<<8\n",
    "MUSTERMANN<<MAX<OTTO<<<<<<<<<<\n",
    "\"\"\""
   ]
  },
  {
   "cell_type": "markdown",
   "metadata": {},
   "source": [
    "Beim Einlesen wollen wir alle Leerschläge und Zeilenumbrüche entfernen. Schreibe eine Funktion `whitespace_entfernen`, welches für eine beliebige `str` alle Leerschläge und Zeilenumbrüche entfernt und die bereinigte `str` zurückgibt."
   ]
  },
  {
   "cell_type": "code",
   "execution_count": null,
   "metadata": {},
   "outputs": [],
   "source": []
  },
  {
   "cell_type": "markdown",
   "metadata": {},
   "source": [
    "Wir verwenden die Funktion wie folgt:"
   ]
  },
  {
   "cell_type": "code",
   "execution_count": null,
   "metadata": {},
   "outputs": [],
   "source": [
    "beispiel_ohne_whitespace = whitespace_entfernen(beispiel)\n",
    "beispiel_ohne_whitespace"
   ]
  },
  {
   "cell_type": "markdown",
   "metadata": {},
   "source": [
    "Nun können wir verschiedene Informationen extrahieren. \n",
    "Nach `IDCHE` ist die ID-Nummer enthalten (im Beispiel 123412345). Schreibe eine Funktion `id_nummer`, welche aus einer bereinigten `str` die ID-Nummer extrahiert."
   ]
  },
  {
   "cell_type": "code",
   "execution_count": null,
   "metadata": {},
   "outputs": [],
   "source": []
  },
  {
   "cell_type": "markdown",
   "metadata": {},
   "source": [
    "Der Name ist auf der dritten Zeile (und beginnt daher bei Zeichen 60). Zuerst kommt der Nachname, dann zwei `<<`, dann ein oder mehrere Vornamen getrennt durch nur ein `<`. Schreibe eine Funktion `name_extrahieren`, welche den Namen in folgendem Format zurückgibt:\n",
    "\n",
    "`Nachname, Vorname1 Vorname2`\n",
    "\n",
    "In unserem Fall: `Mustermann, Max Otto`\n",
    "\n",
    "Tipp: Um jedes Wort mit einem Grossbuchstaben zu beginnen, haben `str`-Objekte in Python die Methode `.title()`."
   ]
  },
  {
   "cell_type": "code",
   "execution_count": null,
   "metadata": {},
   "outputs": [],
   "source": []
  },
  {
   "cell_type": "markdown",
   "metadata": {},
   "source": [
    "Das Geburtsdatum ist auf der zweiten Zeile, im Format JJMMDD (zwei Stellen für das Jahr, zwei für den Monat, zwei für den Tag). In unserem Beispiel ist der relevante String `040229`, die Person ist also am 29. Februar 04 geboren. Schreibe eine Funktion `geburtsdatum_extrahieren`, welche das Datum extrahiert und wie folgt zurückgibt: `29. 2. 2004`. Um festzustellen, ob es `20..` oder `19..` ist, überprüfe ob das Geburtsjahr kleiner oder gleich `23` ist. "
   ]
  },
  {
   "cell_type": "code",
   "execution_count": null,
   "metadata": {},
   "outputs": [],
   "source": []
  },
  {
   "cell_type": "markdown",
   "metadata": {},
   "source": [
    "Packe nun das ganze in eine grosse Funktion `id_einlesen` zusammen, welche nach den maschinenlesbaren Zeilen fragt und dann den Namen, das Geburtsdatum sowie die ID-Nummer mit `print` ausgibt."
   ]
  },
  {
   "cell_type": "code",
   "execution_count": null,
   "metadata": {},
   "outputs": [],
   "source": []
  },
  {
   "cell_type": "markdown",
   "metadata": {},
   "source": [
    "Bonusaufgabe: \n",
    "\n",
    "Schreibe ein Programm, welches auf Grund der ID-Zeilen ausgibt, ob die Person bereits 16 Jahre alt ist - um beispielsweise an einem Zigarettenautomat zu überprüfen, ob Kunden bereits genügend alt sind."
   ]
  }
 ],
 "metadata": {
  "kernelspec": {
   "display_name": ".venv",
   "language": "python",
   "name": "python3"
  },
  "language_info": {
   "codemirror_mode": {
    "name": "ipython",
    "version": 3
   },
   "file_extension": ".py",
   "mimetype": "text/x-python",
   "name": "python",
   "nbconvert_exporter": "python",
   "pygments_lexer": "ipython3",
   "version": "3.11.4"
  }
 },
 "nbformat": 4,
 "nbformat_minor": 2
}
