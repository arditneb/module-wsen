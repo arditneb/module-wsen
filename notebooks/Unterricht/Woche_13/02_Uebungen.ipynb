{
 "cells": [
  {
   "cell_type": "markdown",
   "metadata": {},
   "source": [
    "# Die Einhörnchen vom Central Park\n",
    "In dieser Übung analysieren wir einen weiteren öffentlichen Datensatz: Den [Central Park Squirrel Census](https://data.cityofnewyork.us/Environment/2018-Central-Park-Squirrel-Census-Squirrel-Data/vfnx-vebw). \n",
    "\n",
    "Dabei haben \"Forschende\" während einem Tag versucht, die Anzahl an Einhörnchen im Central Park in New York City zu zählen. Sie haben zweimal gezählt, am Morgen und am Abend. Sie haben den gesamten Central Park in ein Schachbrett aufgeteilt, wobei Freiwillige innerhalb von ihrem Bereich für jedes angetroffene Einhörnchen einen Eintrag gemacht haben. Dabei würde festgehalten, welche Farbe das Einhörnchen hat, welche Aktivität das Einhörnchen gerade verfolgte, und an welchen Koordinaten genau das Einhörnchen angetroffen wurde.\n",
    "\n",
    "### 1.1 Die Daten laden\n",
    "Die Daten sind im File `squirrel.csv`. Lade die Daten in ein Pandas DataFrame."
   ]
  },
  {
   "cell_type": "code",
   "execution_count": null,
   "metadata": {},
   "outputs": [],
   "source": []
  },
  {
   "cell_type": "markdown",
   "metadata": {},
   "source": [
    "Und schaue dir die ersten 5 Zeilen darin an:"
   ]
  },
  {
   "cell_type": "code",
   "execution_count": null,
   "metadata": {},
   "outputs": [],
   "source": []
  },
  {
   "cell_type": "markdown",
   "metadata": {},
   "source": [
    "Beantworte folgende Fragen:\n",
    "- Welche Spalten hat der Datensatz?\n",
    "- Wie viele Einträge gibt es?"
   ]
  },
  {
   "cell_type": "code",
   "execution_count": null,
   "metadata": {},
   "outputs": [],
   "source": []
  },
  {
   "cell_type": "markdown",
   "metadata": {},
   "source": [
    "### 1.2 Der Tag eines Einhörnchens \n",
    "Die Spalte `Shift` enthält den Wert \"AM\" wenn die Zählung am Morgen erfolgte, und \"PM\", wenn die Zählung am Nachmittag war. Wir fragen uns nun, welche Aktivitäten ein Einhörnchen eher am Morgen, und welche am Nachmittag eher macht."
   ]
  },
  {
   "cell_type": "markdown",
   "metadata": {},
   "source": [
    "Wie viele Zählungen haben wir am Morgen, wie viele am Nachmittag?"
   ]
  },
  {
   "cell_type": "code",
   "execution_count": null,
   "metadata": {},
   "outputs": [],
   "source": []
  },
  {
   "cell_type": "markdown",
   "metadata": {},
   "source": [
    "Es wurden drei verschiedene Arten von Bewegung aufgezeichnet: `Running` - wenn es rennt, `Chasing` - wenn es irgentetwas verfolgt, und `Climbing` - wenn es klettert. Diese drei Aktivitäten sind in drei Spalten vom Typ `bool`, also mit True/False Werten. Erstelle daraus eine weitere Spalte, `\"In Movement\"`, welche besagt, ob das Einhörnchen in Bewegung war. Sie hat den Wert `True`, wenn das Einhörnchen entweder rennt, verfolgt oder klettert."
   ]
  },
  {
   "cell_type": "code",
   "execution_count": null,
   "metadata": {},
   "outputs": [],
   "source": []
  },
  {
   "cell_type": "markdown",
   "metadata": {},
   "source": [
    "Gruppiere nun die Daten nach \"Shift\" und berechne den Durchschnitt der Spalten \"Eating\" (isst), \"Foraging\" (sammelt Essen), und \"In Movement\". Essen die Einhörnchen lieber morgens oder nachmittags? Wann sammeln sie ihr Essen? Wann sind sie eher in Bewegung?"
   ]
  },
  {
   "cell_type": "code",
   "execution_count": null,
   "metadata": {},
   "outputs": [],
   "source": []
  },
  {
   "cell_type": "markdown",
   "metadata": {},
   "source": [
    "### 1.3 Interaktionen mit Menschen\n",
    "Wir haben auch drei True/False-Spalten welche sagen, wie die Einhörnchen mit Menschen interagieren. Diese sind \"Approaches\" - nähern sich an, \"Indifferent\" - ist ihnen egal, und \"Runs from\" - rennen weg. Erstelle eine neue Spalte `\"Interact with humans\"` welche nur True ist, wenn eine der drei Interaktionen stattfindet."
   ]
  },
  {
   "cell_type": "code",
   "execution_count": null,
   "metadata": {},
   "outputs": [],
   "source": []
  },
  {
   "cell_type": "markdown",
   "metadata": {},
   "source": [
    "In wie vielen Einträgen hat eine Interaktion stattgefunden? "
   ]
  },
  {
   "cell_type": "code",
   "execution_count": null,
   "metadata": {},
   "outputs": [],
   "source": []
  },
  {
   "cell_type": "markdown",
   "metadata": {},
   "source": [
    "Erstelle nun ein neues DataFrame namens `interaction_data`, welches nur Datenpunkte enthält, bei denen die Spalte `\"Interacts with humans\"` \"True\" ist."
   ]
  },
  {
   "cell_type": "code",
   "execution_count": null,
   "metadata": {},
   "outputs": [],
   "source": []
  },
  {
   "cell_type": "markdown",
   "metadata": {},
   "source": [
    "Gruppiere `interaction_data` nach \"Shift\" und sage, wann die Einhörnchen häufiger von den Menschen wegrennen."
   ]
  },
  {
   "cell_type": "code",
   "execution_count": null,
   "metadata": {},
   "outputs": [],
   "source": []
  },
  {
   "cell_type": "markdown",
   "metadata": {},
   "source": [
    "Im Feld `Age` haben wir drei mögliche Werte: \"Adult\" - erwachsen, \"Juvenile\" - Jungtier, und ?, wenn das Alter nicht bestimmt werden konnte. Sind erwachsene Tiere häufiger \"Indifferent\" gegenüber Menschen als Jungtiere, weil sie weniger neugierig und auch weniger schreckhaft sind? "
   ]
  },
  {
   "cell_type": "code",
   "execution_count": null,
   "metadata": {},
   "outputs": [],
   "source": []
  },
  {
   "cell_type": "markdown",
   "metadata": {},
   "source": [
    "Im Feld `\"Primary Fur Color\"` haben wir die Farbe des Einhörnchens - sie sind entweder Schwarz, Zimtfarbig oder Grau. Inwiefern wirkt sich die Farbe des Fells auf das Verhalten gegenüber Menschen aus?"
   ]
  },
  {
   "cell_type": "code",
   "execution_count": null,
   "metadata": {},
   "outputs": [],
   "source": []
  },
  {
   "cell_type": "markdown",
   "metadata": {},
   "source": [
    "Welche Farbe kommt im gesamten Datensatz wie häufig vor?"
   ]
  },
  {
   "cell_type": "code",
   "execution_count": null,
   "metadata": {},
   "outputs": [],
   "source": []
  },
  {
   "cell_type": "markdown",
   "metadata": {},
   "source": [
    "### 1.4 Wo sie sich aufhalten\n",
    "In der Spalte \"Y\" haben wir die Longitude - also wie weit nördlich sich die Squirrels im Park aufhalten. Nun wollen wir herausfinden, ob die Squirrels eher oben oder unten im Park sind. \n",
    "\n",
    "Erstelle ein Histogramm der Variable \"Y\", mit adäquaten Labels."
   ]
  },
  {
   "cell_type": "code",
   "execution_count": null,
   "metadata": {},
   "outputs": [],
   "source": []
  }
 ],
 "metadata": {
  "kernelspec": {
   "display_name": ".venv",
   "language": "python",
   "name": "python3"
  },
  "language_info": {
   "codemirror_mode": {
    "name": "ipython",
    "version": 3
   },
   "file_extension": ".py",
   "mimetype": "text/x-python",
   "name": "python",
   "nbconvert_exporter": "python",
   "pygments_lexer": "ipython3",
   "version": "3.10.9"
  }
 },
 "nbformat": 4,
 "nbformat_minor": 2
}
