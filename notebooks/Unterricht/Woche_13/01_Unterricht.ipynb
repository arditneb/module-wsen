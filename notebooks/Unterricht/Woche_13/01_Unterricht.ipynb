{
 "cells": [
  {
   "cell_type": "markdown",
   "metadata": {},
   "source": [
    "## 1. Pandas Series\n",
    "In diesem Abschnitt lernen wir ein sehr nützliches Python-Package kennen: `pandas`. Mit `pandas` können wir Tabellen einlesen, verarbeiten und abspeichern. Dabei fokussieren wir uns zuerst auf eine konkrete Klasse im Pandas-Modul: `Series`.\n",
    "\n",
    "### 1.1 Installation und Import\n",
    "`pandas` ist nicht Teil von der Python-Standardinstallation und muss zuerst in der Shell mit \n",
    "```\n",
    "pip install pandas\n",
    "```\n",
    "installiert werden.\n",
    "\n",
    "Wir importieren `pandas` typischerweise wie folgt:"
   ]
  },
  {
   "cell_type": "code",
   "execution_count": null,
   "metadata": {},
   "outputs": [],
   "source": [
    "import pandas as pd"
   ]
  },
  {
   "cell_type": "markdown",
   "metadata": {},
   "source": [
    "### 1.2 Eine erste Pandas Series\n",
    "Pandas stellt uns verschiedene Klassen zur Verfügung, sowie auch zahlreiche Funktionen, welche diese Klassen verarbeiten können. Eine wichtige Klasse sind `Series`. Sie sind ähnlich wie Listen, da sie eine Sequenz von Daten abspeichern und verarbeiten können. Allerdings haben sie deutlich mehr Funktionalitäten.\n",
    "\n",
    "Eine Series erstellen wir wie folgt:"
   ]
  },
  {
   "cell_type": "code",
   "execution_count": null,
   "metadata": {},
   "outputs": [],
   "source": [
    "series = pd.Series([2, 5, 3, 4, 1, 7])\n",
    "\n",
    "series"
   ]
  },
  {
   "cell_type": "markdown",
   "metadata": {},
   "source": [
    "Unser Series-Objekt hat zahlreiche nützliche Methoden, welche z.B. den Durchschnitt oder den Median berechnen können:"
   ]
  },
  {
   "cell_type": "code",
   "execution_count": null,
   "metadata": {},
   "outputs": [],
   "source": [
    "print(\"Mean:   \", series.mean())\n",
    "print(\"Median: \", series.median())\n",
    "\n",
    "# Aber auch Summe, Min und Max sind als Methoden definiert\n",
    "print(\"Sum:    \", series.sum())\n",
    "print(\"Min:    \", series.min())\n"
   ]
  },
  {
   "cell_type": "markdown",
   "metadata": {},
   "source": [
    "Wir können Series multiplizieren oder addieren:"
   ]
  },
  {
   "cell_type": "code",
   "execution_count": null,
   "metadata": {},
   "outputs": [],
   "source": [
    "series + 2"
   ]
  },
  {
   "cell_type": "code",
   "execution_count": null,
   "metadata": {},
   "outputs": [],
   "source": [
    "series * 2"
   ]
  },
  {
   "cell_type": "code",
   "execution_count": null,
   "metadata": {},
   "outputs": [],
   "source": [
    "series + series"
   ]
  },
  {
   "cell_type": "markdown",
   "metadata": {},
   "source": [
    "Sehr nützlich ist auch, dass Vergleiche für jedes Element einzeln durchgeführt werden. Zurückgegeben wird anschliessend eine neue Series, welches für jedes Series-Element True oder False enthält."
   ]
  },
  {
   "cell_type": "code",
   "execution_count": null,
   "metadata": {},
   "outputs": [],
   "source": [
    "series < 5"
   ]
  },
  {
   "cell_type": "code",
   "execution_count": null,
   "metadata": {},
   "outputs": [],
   "source": [
    "series == 3"
   ]
  },
  {
   "cell_type": "markdown",
   "metadata": {},
   "source": [
    "Wir können auch zwei Series miteinander vergleichen:"
   ]
  },
  {
   "cell_type": "code",
   "execution_count": null,
   "metadata": {},
   "outputs": [],
   "source": [
    "series1 = pd.Series([1, 2, 3])\n",
    "series2 = pd.Series([1, 4, 2])\n",
    "series1 == series2"
   ]
  },
  {
   "cell_type": "code",
   "execution_count": null,
   "metadata": {},
   "outputs": [],
   "source": [
    "series1 <= series2"
   ]
  },
  {
   "cell_type": "markdown",
   "metadata": {},
   "source": [
    "Die Vergleichsoperationen geben uns jeweils Series mit `bool`-Werten zurück. Für solche Series können wir auch logische Operationen `and`, `or` und `not` berechnen. Allerdings nicht mit diesen Stichworten, sondern mit:\n",
    "- `~` für \"not\"\n",
    "- `&` für \"and\"\n",
    "- `|` für \"or\""
   ]
  },
  {
   "cell_type": "code",
   "execution_count": null,
   "metadata": {},
   "outputs": [],
   "source": [
    "bool_example = pd.Series([True, False, True])\n",
    "bool_example"
   ]
  },
  {
   "cell_type": "code",
   "execution_count": null,
   "metadata": {},
   "outputs": [],
   "source": [
    "~bool_example"
   ]
  },
  {
   "cell_type": "code",
   "execution_count": null,
   "metadata": {},
   "outputs": [],
   "source": [
    "bool_example = pd.Series([True, False, True])\n",
    "bool_example2 = pd.Series([True, True, False])\n",
    "\n",
    "bool_example | bool_example2"
   ]
  },
  {
   "cell_type": "code",
   "execution_count": null,
   "metadata": {},
   "outputs": [],
   "source": [
    "bool_example & bool_example2"
   ]
  },
  {
   "cell_type": "markdown",
   "metadata": {},
   "source": [
    "Wir können auch Series mit sehr vielen anderen Datentypen, wie z.B. Strings haben:"
   ]
  },
  {
   "cell_type": "code",
   "execution_count": null,
   "metadata": {},
   "outputs": [],
   "source": [
    "series = pd.Series([\"a\", \"b\", \"b\", \"c\"])"
   ]
  },
  {
   "cell_type": "markdown",
   "metadata": {},
   "source": [
    "Mit `value_counts` können wir zählen, wie häufig jedes Element der String vorkommt:"
   ]
  },
  {
   "cell_type": "code",
   "execution_count": null,
   "metadata": {},
   "outputs": [],
   "source": [
    "series.value_counts()"
   ]
  },
  {
   "cell_type": "markdown",
   "metadata": {},
   "source": [
    "### 1.2 Der Index\n",
    "Jede Series hat einen Index: Dies sind die Zahlen (bis jetzt 0-5), welche in der Darstellung der Series jeweils am linken Rand standen. Falls wir dies wollen, können wir den Index bei der Erstellung der Series selbst setzen:"
   ]
  },
  {
   "cell_type": "code",
   "execution_count": null,
   "metadata": {},
   "outputs": [],
   "source": [
    "series2 = pd.Series([42, 32, 51], index=[\"hans\", \"ueli\", \"aschi\"])\n",
    "\n",
    "series2"
   ]
  },
  {
   "cell_type": "markdown",
   "metadata": {},
   "source": [
    "Der Index ist übrigens im Attribut `.index` abgespeichert, wenn wir darauf zugreifen wollen:"
   ]
  },
  {
   "cell_type": "code",
   "execution_count": null,
   "metadata": {},
   "outputs": [],
   "source": [
    "series2.index"
   ]
  },
  {
   "cell_type": "markdown",
   "metadata": {},
   "source": [
    "Wir können mit eckigen Klammern auf Elemente der Series zugreifen. Wir müssen dabei den Index des Elements angeben, auf welches wir zugreifen wollen.\n",
    "\n",
    "Bei unserem Objekt `series` ist der Index 0-5, daher können wir so auf das dritte Element zugreifen:"
   ]
  },
  {
   "cell_type": "code",
   "execution_count": null,
   "metadata": {},
   "outputs": [],
   "source": [
    "series = pd.Series([2, 5, 3, 4, 1, 7])\n",
    "series[2]"
   ]
  },
  {
   "cell_type": "markdown",
   "metadata": {},
   "source": [
    "Bei `series2` besteht der Index jedoch aus Strings. Daher sieht der Zugriff wie folgt aus (und erinnert sehr stark an einen Dictionary):"
   ]
  },
  {
   "cell_type": "code",
   "execution_count": null,
   "metadata": {},
   "outputs": [],
   "source": [
    "series2[\"hans\"]"
   ]
  },
  {
   "cell_type": "markdown",
   "metadata": {},
   "source": [
    "Wenn wir auf die Elemente der Reihe nach zugreifen wollen, müssen wir das auf dem Attribut `.iloc` tun. Es sieht wie folgt aus:"
   ]
  },
  {
   "cell_type": "code",
   "execution_count": null,
   "metadata": {},
   "outputs": [],
   "source": [
    "series2.iloc[2]"
   ]
  },
  {
   "cell_type": "markdown",
   "metadata": {},
   "source": [
    "Wichtig: `.iloc` bedeutet in `pandas` *immer*, dass auf ein Element nach seiner Position, und nicht nach seinem Index zugegriffen wird."
   ]
  },
  {
   "cell_type": "markdown",
   "metadata": {},
   "source": [
    "Die Logik hinter dem Index in Pandas ist, dass dieser ein Element stets entgültig identifiziert. Wenn wir mehrere Series haben, sollten jeweils die Elemente mit dem gleichen Index zusammengehören. Nach dieser Logik können wir zum Beispiel zwei Series-Objekte nur vergleichen, wenn sie auch denselben Index haben:\n"
   ]
  },
  {
   "cell_type": "code",
   "execution_count": null,
   "metadata": {},
   "outputs": [],
   "source": [
    "ex1 = pd.Series([1, 2, 3], index=[1, 2, 3])\n",
    "ex2 = pd.Series([1, 5, 3], index=[1, 2, 3])\n",
    "\n",
    "# Beide Series haben denselben Index und können zusammengerechnet werden\n",
    "ex1 == ex2"
   ]
  },
  {
   "cell_type": "markdown",
   "metadata": {},
   "source": [
    "Falls der Index nicht übereinstimmt, funktioniert der Vergleich nicht."
   ]
  },
  {
   "cell_type": "code",
   "execution_count": null,
   "metadata": {},
   "outputs": [],
   "source": [
    "ex3 = pd.Series([7, 8, 9], index=[1, 2, 4])  # ein anderer Index\n",
    "\n",
    "ex1 == ex3 "
   ]
  },
  {
   "cell_type": "markdown",
   "metadata": {},
   "source": [
    "### 1.4 Eine Series mit einer anderen Series indizieren\n",
    "Wenn wir eine Series mit `bool`-Werten haben, können wir damit eine andere Series indizieren. Dabei werden nur diejenigen Werte behalten, welche `True` sind.\n",
    "\n",
    "Hierzu ein Beispiel:"
   ]
  },
  {
   "cell_type": "code",
   "execution_count": null,
   "metadata": {},
   "outputs": [],
   "source": [
    "series1 = pd.Series([1, 2, 3])\n",
    "series2 = pd.Series([True, False, True])\n",
    "\n",
    "series1[series2]"
   ]
  },
  {
   "cell_type": "markdown",
   "metadata": {},
   "source": [
    "Es werden also nur diejenigen Elemente von `series1` zurückgegeben, für welche der Eintrag in `series2` `True` ist. Damit können wir sehr einfach eine Series filtern. Der Index wird dabei auch beibehalten - was sehr praktisch ist, wenn wir später nachvollziehen wollen, wohin der Eintrag gehört."
   ]
  },
  {
   "cell_type": "markdown",
   "metadata": {},
   "source": [
    "<img src=\"https://i.imgur.com/JyhBeDB.png\" class=\"exercise_image\" width=100>\n",
    "\n",
    "Nimm folgende Series:"
   ]
  },
  {
   "cell_type": "code",
   "execution_count": null,
   "metadata": {},
   "outputs": [],
   "source": [
    "example = pd.Series([-5, 2, 4, -3, 6])"
   ]
  },
  {
   "cell_type": "markdown",
   "metadata": {},
   "source": [
    "Erstelle eine neue Series, welche nur die positiven Elemente der `example`-Series enthält. Verwende dazu `>` sowie die Indizierung einer Series mit einer anderen Series."
   ]
  },
  {
   "cell_type": "code",
   "execution_count": null,
   "metadata": {},
   "outputs": [],
   "source": [
    "# Code hier"
   ]
  },
  {
   "cell_type": "markdown",
   "metadata": {},
   "source": [
    "Diese Indizierung funktioniert aber nur, wenn der Index der zwei Series auch übereinstimmt - auch hier stellt der Index also sicher, dass nur Gleiches mit Gleichem indiziert wird."
   ]
  },
  {
   "cell_type": "code",
   "execution_count": null,
   "metadata": {},
   "outputs": [],
   "source": [
    "a = pd.Series([1, 2, 3], index=[0, 1, 2])\n",
    "b = pd.Series([True, False, True], index=[0, 1, 4])\n",
    "a[b]"
   ]
  },
  {
   "cell_type": "markdown",
   "metadata": {},
   "source": [
    "## 2. Pandas DataFrames\n",
    "`DataFrame`-Objekte sind das Herz von Pandas. Während wir mit Series jeweils nur eine Liste verarbeiten konnten, können `DataFrame`-Objekte ganze Tabellen abspeichern. \n",
    "\n",
    "### 2.1 Definition\n",
    "Wir können ein DataFrame wie folgt definieren:"
   ]
  },
  {
   "cell_type": "code",
   "execution_count": null,
   "metadata": {},
   "outputs": [],
   "source": [
    "df = pd.DataFrame(\n",
    "    [\n",
    "        [1, 2, 3], \n",
    "        [4, 5, 6]\n",
    "    ]\n",
    ")\n",
    "\n",
    "df"
   ]
  },
  {
   "cell_type": "markdown",
   "metadata": {},
   "source": [
    "Ein DataFrame hat (genauso wie Series) einen Index, aber zusätzlich dazu auch noch Spalten, sogenannte `columns`. Wir können auch wieder Index und Column selbst definieren:"
   ]
  },
  {
   "cell_type": "code",
   "execution_count": null,
   "metadata": {},
   "outputs": [],
   "source": [
    "df = pd.DataFrame(\n",
    "    [\n",
    "        [1, 2, 3], \n",
    "        [4, 5, 6]\n",
    "    ],\n",
    "    index=[\"zeile1\", \"zeile2\"],\n",
    "    columns=[\"spalte1\", \"spalte2\", \"spalte3\"]\n",
    ")\n",
    "\n",
    "df"
   ]
  },
  {
   "cell_type": "markdown",
   "metadata": {},
   "source": [
    "Mit `[]` können wir wiederum auf einzelne Spalten zugreifen:"
   ]
  },
  {
   "cell_type": "code",
   "execution_count": null,
   "metadata": {},
   "outputs": [],
   "source": [
    "df[\"spalte1\"]"
   ]
  },
  {
   "cell_type": "markdown",
   "metadata": {},
   "source": [
    "Und wir sehen: Eine einzelne Spalte wird uns als `Series`-Objekt zurückgegeben."
   ]
  },
  {
   "cell_type": "code",
   "execution_count": null,
   "metadata": {},
   "outputs": [],
   "source": [
    "type(df[\"spalte1\"])"
   ]
  },
  {
   "cell_type": "markdown",
   "metadata": {},
   "source": [
    "<img src=\"https://i.imgur.com/JyhBeDB.png\" class=\"exercise_image\" width=100>\n",
    "\n",
    "Greife auf das Element mit Spalte \"spalte2\" und Index \"zeile1\" von `df` zu."
   ]
  },
  {
   "cell_type": "code",
   "execution_count": null,
   "metadata": {},
   "outputs": [],
   "source": []
  },
  {
   "cell_type": "markdown",
   "metadata": {},
   "source": [
    "Wenn wir auf mehrere Spalten gleichzeitig zugreifen wollen, können wir zwei eckige Klammern verwenden:"
   ]
  },
  {
   "cell_type": "code",
   "execution_count": null,
   "metadata": {},
   "outputs": [],
   "source": [
    "df[[\"spalte1\", \"spalte2\"]]"
   ]
  },
  {
   "cell_type": "markdown",
   "metadata": {},
   "source": [
    "### 2.2 Was wir alles machen können\n",
    "Alles, was wir für Series gesehen haben, können wir auch für DataFrames tun. So zum Beispiel den Mittelwert für alle Spalten berechnen (auch dies wird wieder als Series zurückgegeben):"
   ]
  },
  {
   "cell_type": "code",
   "execution_count": null,
   "metadata": {},
   "outputs": [],
   "source": [
    "df.mean()"
   ]
  },
  {
   "cell_type": "markdown",
   "metadata": {},
   "source": [
    "Oder mit `DataFrame`-Objekten rechnen:"
   ]
  },
  {
   "cell_type": "code",
   "execution_count": null,
   "metadata": {},
   "outputs": [],
   "source": [
    "df + 3"
   ]
  },
  {
   "cell_type": "markdown",
   "metadata": {},
   "source": [
    "Oder mit `==` einen Vergleich durchführen:"
   ]
  },
  {
   "cell_type": "code",
   "execution_count": null,
   "metadata": {},
   "outputs": [],
   "source": [
    "df == 4"
   ]
  },
  {
   "cell_type": "markdown",
   "metadata": {},
   "source": [
    "Wir können mit einer Series von `bool`-Objekten auch ein DataFrame filtern (wenn der Index übereinstimmt):"
   ]
  },
  {
   "cell_type": "code",
   "execution_count": null,
   "metadata": {},
   "outputs": [],
   "source": [
    "filter_series = pd.Series([True, False], index=[\"zeile1\", \"zeile2\"])\n",
    "df[filter_series]"
   ]
  },
  {
   "cell_type": "markdown",
   "metadata": {},
   "source": [
    "## 3. Datenanalyse: Titanic\n",
    "Pandas hat noch sehr viel mehr Funktionalitäten. Um diese aufzuzeigen, machen wir gleich eine \"echte\" Datenanalyse, zu den Passagierdaten der Titanic.\n",
    "\n",
    "### 3.1 Daten laden\n",
    "Wir verwenden die Daten von Eaton & Haas (1994) Titanic: Triumph and Tragedy, Patrick Stephens Ltd. Sie sind als `.csv`-Datei in dieser Woche abgespeichert. CSV-Dateien (kurz für: Comma-Separated Values) sind sehr handliche Formate für den Austausch von Tabellen. Wir können sie z.B. auch in Excel öffnen, und auch Excel-Tabellen als CSV-Dateien exportieren.\n",
    "\n",
    "Um die CSV-Datei zu laden, können wir die Funktion `pd.read_csv` verwenden."
   ]
  },
  {
   "cell_type": "code",
   "execution_count": null,
   "metadata": {},
   "outputs": [],
   "source": [
    "data = pd.read_csv(\"titanic.csv\")"
   ]
  },
  {
   "cell_type": "markdown",
   "metadata": {},
   "source": [
    "> Kleine Randbemerkung: Manchmal werden unterschiedliche Felder in CSV-Dateien nicht mit eine Komma, sondern mit einem Semikolon (`;`) getrennt, insbesondere beim Export aus Excel. In solchen Fällen müssen wir den \"separating Character\" mit dem Named Argument `sep` der Funktion übergeben: `pd.read_csv(\"titanic.csv\", sep=\";\")`"
   ]
  },
  {
   "cell_type": "markdown",
   "metadata": {},
   "source": [
    "### 3.2 Ein erster Blick auf die Daten"
   ]
  },
  {
   "cell_type": "markdown",
   "metadata": {},
   "source": [
    "Mit `data.head()` zeigen wir nur die ersten fünf Zeilen an."
   ]
  },
  {
   "cell_type": "code",
   "execution_count": null,
   "metadata": {},
   "outputs": [],
   "source": [
    "data.head()"
   ]
  },
  {
   "cell_type": "markdown",
   "metadata": {},
   "source": [
    "Und mit `data.shape` ein Tuple mit den Anzahl Zeilen und Anzahl Spalten."
   ]
  },
  {
   "cell_type": "code",
   "execution_count": null,
   "metadata": {},
   "outputs": [],
   "source": [
    "data.shape"
   ]
  },
  {
   "cell_type": "markdown",
   "metadata": {},
   "source": [
    "Wir haben also 887 Einträge von Passagieren der Titanic (der Datensatz umfasst dabei nicht alle Reisende der Titanic). Für jeden Passagier haben wir 8 verschiedene Spalten. Es handelt sich um folgende Spalten:"
   ]
  },
  {
   "cell_type": "code",
   "execution_count": null,
   "metadata": {},
   "outputs": [],
   "source": [
    "data.columns"
   ]
  },
  {
   "cell_type": "markdown",
   "metadata": {},
   "source": [
    "Was diese Spalten bedeuten:\n",
    "- `Survived`: Ob die Person überlebt hat.\n",
    "- `Pclass`: Klasse, in der die Person gereist ist.\n",
    "- `Name`: Name der Person.\n",
    "- `Sex`: Biologisches Geschlecht.\n",
    "- `Age`: Alter zum Ereigniszeitpunkt.\n",
    "- `Siblings/Spouses Aboard`: Wie viele Geschwister und/oder Ehepartner an Bord waren.\n",
    "- `Parents/Children Aboard`: Wie viele Eltern und/oder Geschwister an Bord waren.\n",
    "- `Fare`: Wie viel für das Ticket gezahlt wurde (in Pounds).\n"
   ]
  },
  {
   "cell_type": "markdown",
   "metadata": {},
   "source": [
    "<img src=\"https://i.imgur.com/JyhBeDB.png\" class=\"exercise_image\" width=100>\n",
    "\n",
    "Beantworte folgende Fragen:\n",
    "- Was ist das Durchschnittsalter in unserem Datensatz?\n",
    "- Wie viele Leute in unseren Daten haben überlebt, wie viele sind gestorben?\n",
    "- Wie viel hat ein Erstklass-Ticket durchschnittlich gekostet?\n",
    "- Welcher Anteil der Männer ist gestorben, welcher Anteil der Frauen?"
   ]
  },
  {
   "cell_type": "code",
   "execution_count": null,
   "metadata": {},
   "outputs": [],
   "source": []
  },
  {
   "cell_type": "markdown",
   "metadata": {},
   "source": [
    "### 3.3 `groupby`\n",
    "Wenn wir für unterschiedliche Gruppen in unserem Datensatz denselben Wert berechnen wollen, können wir dazu die Methode `groupby` gefolgt von `agg` verwenden. Wie gruppiert wird, wird in `groupby` festgelegt, wie aggregiert wird in `agg`. \n",
    "\n",
    "Den Anteil an Überlebenden pro Geschlecht berechnen wir wie folgt:"
   ]
  },
  {
   "cell_type": "code",
   "execution_count": null,
   "metadata": {},
   "outputs": [],
   "source": [
    "data.groupby(\"Sex\").agg({\"Survived\": \"mean\"})"
   ]
  },
  {
   "cell_type": "markdown",
   "metadata": {},
   "source": [
    "Frauen haben also zu 74% überlebt, Männer nur 20%.\n",
    "\n",
    "Die Funktion `groupby` nimmt also als Argument den Namen der Spalte entgegen, nach der gruppiert werden soll. Die Funktion `agg` nimmt einen Dictionary entgegen, wobei Key der Spaltenname enthält, und der Value die Aggregation. Wenn wir auch noch das Durchschnittsalter pro Geschlecht berechnen wollen, können wir dies wie folgt tun:"
   ]
  },
  {
   "cell_type": "code",
   "execution_count": null,
   "metadata": {},
   "outputs": [],
   "source": [
    "result = data.groupby(\"Sex\").agg(\n",
    "    {\"Survived\": \"mean\", \n",
    "    \"Age\": \"mean\"\n",
    "})\n",
    "result "
   ]
  },
  {
   "cell_type": "markdown",
   "metadata": {},
   "source": [
    "Wir erhalten ein `DataFrame` zurück. Der Index des DataFrames ist dabei jeweils die Gruppe, der Spaltenname ist der Name der Spalte, welche aggregiert wurde."
   ]
  },
  {
   "cell_type": "markdown",
   "metadata": {},
   "source": [
    "<img src=\"https://i.imgur.com/JyhBeDB.png\" class=\"exercise_image\" width=100>\n",
    "\n",
    "Beantworte folgende Fragen mit `groupby`:\n",
    "- Was ist das Durchschnittsalter pro Klasse?\n",
    "- Was ist der gezahlte Durchschnittspreis pro Klasse?\n",
    "- Was ist die Überlebenschance pro Klasse?\n"
   ]
  },
  {
   "cell_type": "code",
   "execution_count": null,
   "metadata": {},
   "outputs": [],
   "source": []
  },
  {
   "cell_type": "markdown",
   "metadata": {},
   "source": [
    "Wir können auch nach mehreren Spalten gleichzeitig gruppieren. Wenn wir wissen wollen, was die Überlebenschance pro Reiseklasse und Geschlecht war, können wir dies wie folgt tun:"
   ]
  },
  {
   "cell_type": "code",
   "execution_count": null,
   "metadata": {},
   "outputs": [],
   "source": [
    "result = data.groupby([\"Sex\", \"Pclass\"]).agg(\n",
    "    {\"Survived\": \"mean\"}\n",
    ")\n",
    "result "
   ]
  },
  {
   "cell_type": "markdown",
   "metadata": {},
   "source": [
    "Und wir können auch für dieselbe Spalte mehrere Aggregationen durchführen. Dazu müssen wir die Aggregationen als Tuple übergeben."
   ]
  },
  {
   "cell_type": "code",
   "execution_count": null,
   "metadata": {},
   "outputs": [],
   "source": [
    "result = data.groupby([\"Sex\", \"Pclass\"]).agg(\n",
    "    {\n",
    "        \"Survived\": (\"mean\", \"count\"),   # ein Tuple von zwei Aggregationen\n",
    "    }\n",
    ")\n",
    "result"
   ]
  },
  {
   "cell_type": "code",
   "execution_count": null,
   "metadata": {},
   "outputs": [],
   "source": []
  },
  {
   "cell_type": "markdown",
   "metadata": {},
   "source": [
    "### 3.4 Neue Spalten hinzufügen\n",
    "Wir können DataFrames ganz einfach neue Spalten hinzufügen. Der zugehörige Syntax sieht dabei aus wie bei Dictionaries. Wenn wir zum Beispiel eine neue Spalte mit der Information, ob der Passagier ein Kind von unter 12 Jahren ist, können wir dies wie folgt tun:"
   ]
  },
  {
   "cell_type": "code",
   "execution_count": null,
   "metadata": {},
   "outputs": [],
   "source": [
    "data[\"is_child_under_12\"] = data[\"Age\"] < 12\n",
    "\n",
    "data.head()"
   ]
  },
  {
   "cell_type": "markdown",
   "metadata": {},
   "source": [
    "<img src=\"https://i.imgur.com/JyhBeDB.png\" class=\"exercise_image\" width=100>\n",
    "\n",
    "Gruppiere die Daten nach Geschlecht, Klasse und ob es sich um ein Kind handelt, und berechne die Überlebenswahrscheinlichkeit, und wie viele Passagiere überhaupt in jede Kategorie fallen.\n"
   ]
  },
  {
   "cell_type": "code",
   "execution_count": null,
   "metadata": {},
   "outputs": [],
   "source": []
  },
  {
   "cell_type": "markdown",
   "metadata": {},
   "source": [
    "<img src=\"https://i.imgur.com/JyhBeDB.png\" class=\"exercise_image\" width=100>\n",
    "\n",
    "Erstelle eine neue Spalte `number_of_relatives`, welche die Summe der Spalten \"Siblings/Spouses Aboard\" und \"Parents/Children Aboard\" enthält."
   ]
  },
  {
   "cell_type": "code",
   "execution_count": null,
   "metadata": {},
   "outputs": [],
   "source": []
  },
  {
   "cell_type": "markdown",
   "metadata": {},
   "source": [
    "<img src=\"https://i.imgur.com/JyhBeDB.png\" class=\"exercise_image\" width=100>\n",
    "\n",
    "Erstelle eine neue Spalte `is_alone`, welche nur dann `True` ist, wenn die Person weder Geschwister, noch Eltern, Partner:innen oder Kinder mit an Bord hatten. Gruppiere nach dieser Spalte sowie nach Geschlecht und schaue, inwiefern sich dies auf die Überlebenschance ausgewirkt hat."
   ]
  },
  {
   "cell_type": "code",
   "execution_count": null,
   "metadata": {},
   "outputs": [],
   "source": []
  },
  {
   "cell_type": "markdown",
   "metadata": {},
   "source": [
    "## 4. Visualisierung\n",
    "Wir können mit Python auch die Daten visualisieren. Dazu wird meist die Library `matplotlib` verwendet. Sie wird wie folgt installiert:\n",
    "\n",
    "`pip install matplotlib`\n",
    "\n",
    "Und so importiert:"
   ]
  },
  {
   "cell_type": "code",
   "execution_count": null,
   "metadata": {},
   "outputs": [],
   "source": [
    "from matplotlib import pyplot as plt"
   ]
  },
  {
   "cell_type": "markdown",
   "metadata": {},
   "source": [
    "### 4.1 Ein Histogramm erstellen\n",
    "Histogramme sind praktische Darstellungen, um Verteilungen einer kontinuierlichen Variable zu visualisieren. So eine Variable ist das Alter. Die Pandas-Series sieht wie folgt aus:"
   ]
  },
  {
   "cell_type": "code",
   "execution_count": null,
   "metadata": {},
   "outputs": [],
   "source": [
    "data[\"Age\"]"
   ]
  },
  {
   "cell_type": "markdown",
   "metadata": {},
   "source": [
    "Wir können nun mit der Funtion `plt.hist(...)` ein Histogramm erstellen:"
   ]
  },
  {
   "cell_type": "code",
   "execution_count": null,
   "metadata": {},
   "outputs": [],
   "source": [
    "plt.hist(data[\"Age\"])"
   ]
  },
  {
   "cell_type": "markdown",
   "metadata": {},
   "source": [
    "Das Histogramm ist allerdings nicht sehr aussagekräftig ohne Achsenbeschriftung. Diese können wir mit `plt.xlabel` und `plt.ylabel` hinzufügen:"
   ]
  },
  {
   "cell_type": "code",
   "execution_count": null,
   "metadata": {},
   "outputs": [],
   "source": [
    "plt.hist(data[\"Age\"])\n",
    "plt.xlabel(\"Age\")\n",
    "plt.ylabel(\"Count\")"
   ]
  },
  {
   "cell_type": "markdown",
   "metadata": {},
   "source": [
    "Die \"Bins\" - also die Töpfe - unseres Histogramms werden automatisch gewählt. In unserem Fall ist aber ziemlich unbefriedigend, dass sie nicht genau mit 0, 10, 20, etc. übereinstimmen. Dies können wir aber mit dem Parameter \"bins\" beheben:"
   ]
  },
  {
   "cell_type": "code",
   "execution_count": null,
   "metadata": {},
   "outputs": [],
   "source": [
    "plt.hist(data[\"Age\"], bins=[0, 10, 20, 30, 40, 50, 60, 70, 80])  # oder: range(0, 90, 10) \n",
    "plt.xlabel(\"Age\")\n",
    "plt.ylabel(\"Count\")"
   ]
  },
  {
   "cell_type": "markdown",
   "metadata": {},
   "source": [
    "Die Farbe können wir mit dem Parameter `color` bestimmen. Wir können entweder den Namen der Farbe angeben, oder ein Hashtag gefolgt von einem Hex-Code."
   ]
  },
  {
   "cell_type": "code",
   "execution_count": null,
   "metadata": {},
   "outputs": [],
   "source": [
    "plt.hist(data[\"Age\"], bins=range(0, 90, 10), color=\"red\")\n",
    "plt.xlabel(\"Age\")\n",
    "plt.ylabel(\"Count\")"
   ]
  },
  {
   "cell_type": "markdown",
   "metadata": {},
   "source": [
    "Wir können auch mehrere Verteilungen auf das gleiche Histogramm plotten. Zum Beispiel, wenn wir die Altersverteilung der Frauen mit der Verteilung der Männer vergleichen wollen. Dazu müssen wir einfach `plt.hist` mehrmals aufrufen, einmal für jede Verteilung, die wir darstellen wollen.\n",
    "\n",
    "Wir können mit `plt.legend` auch noch eine Legende angeben. Dabei übergeben wir eine Liste, mit den Labels in der gleichen Reihenfolge wie `plt.hist` aufgerufen wurde."
   ]
  },
  {
   "cell_type": "code",
   "execution_count": null,
   "metadata": {},
   "outputs": [],
   "source": [
    "age_of_men = data[\"Age\"][data[\"Sex\"] == \"male\"]\n",
    "age_of_women = data[\"Age\"][data[\"Sex\"] == \"female\"]\n",
    "\n",
    "plt.hist(age_of_men, bins=range(0, 90, 10), color=\"red\")\n",
    "plt.hist(age_of_women, bins=range(0, 90, 10), color=\"black\", alpha=1)\n",
    "plt.xlabel(\"Age\")\n",
    "plt.ylabel(\"Count\")\n",
    "plt.legend([\"Men\", \"Women\"])"
   ]
  },
  {
   "cell_type": "markdown",
   "metadata": {},
   "source": [
    "<img src=\"https://i.imgur.com/JyhBeDB.png\" class=\"exercise_image\" width=100>\n",
    "\n",
    "Erstelle ein Histogramm der Ticketpreise (Spalte \"Fare\"), mit sinnvollen Achsenbeschriftungen und Bins."
   ]
  },
  {
   "cell_type": "code",
   "execution_count": null,
   "metadata": {},
   "outputs": [],
   "source": []
  },
  {
   "cell_type": "markdown",
   "metadata": {},
   "source": [
    "<img src=\"https://i.imgur.com/JyhBeDB.png\" class=\"exercise_image\" width=100>\n",
    "\n",
    "Erstelle zwei Histogramme der Ticketpreise (Spalte \"Fare\"), einmal mit den Daten der Menschen, welche überlebt haben, und einmal mit den Daten der Menschen, welche nicht überlebt haben.\n",
    "\n",
    "Tipp: Damit nicht eine Verteilung die andere überdeckt, kannst du in der Funktion `plt.hist` mit dem Parameter \"alpha\", zwischen 0 und 1, die Deckkraft steuern."
   ]
  },
  {
   "cell_type": "code",
   "execution_count": null,
   "metadata": {},
   "outputs": [],
   "source": []
  },
  {
   "cell_type": "markdown",
   "metadata": {},
   "source": [
    "### 4.2 Einen Scatterplot erstellen\n",
    "Wenn wir zwei Variablen miteinander vergleichen wollen, sind sogenannte Scatterplots sehr gut geeignet. Wenn wir zum Beispiel überprüfen wollen, ob das Alter mit dem gezahlten Preis korreliert, können wir dies wie folgt machen:\n"
   ]
  },
  {
   "cell_type": "code",
   "execution_count": null,
   "metadata": {},
   "outputs": [],
   "source": [
    "plt.scatter(data[\"Age\"], data[\"Fare\"])\n",
    "\n",
    "# Auch für Scatterplots können wir die Achsenlabel so setzen\n",
    "plt.xlabel(\"Age\")\n",
    "plt.ylabel(\"Fare\")"
   ]
  },
  {
   "cell_type": "markdown",
   "metadata": {},
   "source": [
    "Wir geben zuerst also die Variable auf der X-, dann auf der Y-Achse an.\n",
    "\n",
    "Ansonsten funktioniert alles genau wie beim Histogramm. Um zum Beispiel einen zweifarbigen Scatterplot zu machen, können wir `plt.scatter` zweimal aufrufen."
   ]
  },
  {
   "cell_type": "code",
   "execution_count": null,
   "metadata": {},
   "outputs": [],
   "source": [
    "men = data[\"Sex\"] == \"male\"\n",
    "women = data[\"Sex\"] == \"female\"\n",
    "\n",
    "plt.scatter(data[\"Age\"][men], data[\"Fare\"][men], color=\"red\")\n",
    "plt.scatter(data[\"Age\"][women], data[\"Fare\"][women], color=\"black\")\n",
    "plt.xlabel(\"Age\")\n",
    "plt.ylabel(\"Count\")\n",
    "plt.legend([\"Men\", \"Women\"])"
   ]
  },
  {
   "cell_type": "markdown",
   "metadata": {},
   "source": [
    "<img src=\"https://i.imgur.com/JyhBeDB.png\" class=\"exercise_image\" width=100>\n",
    "\n",
    "Erstelle einen Scatter-plot, welcher auf der X-Achse das Alter und auf der Y-Achse die Spalte \"number_of_relatives\" enthält."
   ]
  },
  {
   "cell_type": "code",
   "execution_count": null,
   "metadata": {},
   "outputs": [],
   "source": []
  },
  {
   "cell_type": "markdown",
   "metadata": {},
   "source": [
    "<img src=\"https://i.imgur.com/JyhBeDB.png\" class=\"exercise_image\" width=100>\n",
    "\n",
    "Erstelle denselben Scatter-Plot, aber färbe die Punkte unterschiedlich ein, je nachdem ob eine Person überlebt hat oder nicht."
   ]
  },
  {
   "cell_type": "code",
   "execution_count": null,
   "metadata": {},
   "outputs": [],
   "source": []
  }
 ],
 "metadata": {
  "kernelspec": {
   "display_name": ".venv",
   "language": "python",
   "name": "python3"
  },
  "language_info": {
   "codemirror_mode": {
    "name": "ipython",
    "version": 3
   },
   "file_extension": ".py",
   "mimetype": "text/x-python",
   "name": "python",
   "nbconvert_exporter": "python",
   "pygments_lexer": "ipython3",
   "version": "3.10.9"
  }
 },
 "nbformat": 4,
 "nbformat_minor": 2
}
