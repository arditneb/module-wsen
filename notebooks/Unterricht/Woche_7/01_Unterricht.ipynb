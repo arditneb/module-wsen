{
 "cells": [
  {
   "cell_type": "markdown",
   "metadata": {},
   "source": [
    "## 1. Listen\n",
    "Bis jetzt haben wir folgende Datenstrukturen kennengelernt: Für Zahlen `float` und `int`, für das Resultat von logischen Operationen `bool` und für Zeichenketten `str`. In diesem Kapitel lernen wir einen weiteren, sehr wichtigen Datentypen kennen: Listen. \n",
    "\n",
    "Listen dienen dazu, mehrere Elemente in einer definierten Reihenfolge abzuspeichern. Sie kommen in fast jedem Programm zum Einsatz: Auf einer Webseite können wir alle Nutzernamen als Liste abspeichern; in einer Datenbank einer Bibliothek alle Bücher; in einem Webshop alle Kleidungsartikel; und so weiter. Der Objekttyp für Listen in Python heisst `list`. Eine `list` kann beliebige andere Elemente enthalten: Wir können zum Beispiel Listen von `float`-Zahlen oder `str`-Objekten haben, oder auch verschiedene Datentypen mischen. \n",
    "\n",
    "### 1.1 Eine Liste erstellen\n",
    "Wir können eine Liste mit folgender Syntax erstellen:"
   ]
  },
  {
   "cell_type": "code",
   "execution_count": null,
   "metadata": {},
   "outputs": [],
   "source": [
    "eine_liste = [1, 2, 3, 4]"
   ]
  },
  {
   "cell_type": "markdown",
   "metadata": {},
   "source": [
    "Wir können diese Liste wie andere Variablen anzeigen:"
   ]
  },
  {
   "cell_type": "code",
   "execution_count": null,
   "metadata": {},
   "outputs": [],
   "source": [
    "eine_liste"
   ]
  },
  {
   "cell_type": "markdown",
   "metadata": {},
   "source": [
    "Oder mit `print`:"
   ]
  },
  {
   "cell_type": "code",
   "execution_count": null,
   "metadata": {},
   "outputs": [],
   "source": [
    "print(eine_liste)"
   ]
  },
  {
   "cell_type": "markdown",
   "metadata": {},
   "source": [
    "Eine leere Liste erstellen wir wie folgt:"
   ]
  },
  {
   "cell_type": "code",
   "execution_count": null,
   "metadata": {},
   "outputs": [],
   "source": [
    "leere_liste = []\n",
    "leere_liste  # Anzeige"
   ]
  },
  {
   "cell_type": "markdown",
   "metadata": {},
   "source": [
    "Wir können in unserer Liste unterschiedliche Datentypen mischen:"
   ]
  },
  {
   "cell_type": "code",
   "execution_count": null,
   "metadata": {},
   "outputs": [],
   "source": [
    "gemischte_liste = [1, \"hallo\", 5.2, True]\n",
    "gemischte_liste"
   ]
  },
  {
   "cell_type": "markdown",
   "metadata": {},
   "source": [
    "Wir können ausserdem mit der Funktion `list` Datentypen in Listen umwandeln. Wenn wir eine `str` in eine `list` umwandeln, erstellt es eine Liste aller Buchstaben:"
   ]
  },
  {
   "cell_type": "code",
   "execution_count": null,
   "metadata": {},
   "outputs": [],
   "source": [
    "list(\"hallo welt\")"
   ]
  },
  {
   "cell_type": "markdown",
   "metadata": {},
   "source": [
    "Wir können auch eine `range` in eine Liste umwandeln. Folgender Code erzeugt eine Liste aller Zahlen von 0 bis 5:"
   ]
  },
  {
   "cell_type": "code",
   "execution_count": null,
   "metadata": {},
   "outputs": [],
   "source": [
    "list(range(5))"
   ]
  },
  {
   "cell_type": "markdown",
   "metadata": {},
   "source": [
    "### 1.2 Auf ein Element der Liste zugreifen\n",
    "Die Indizierung von Listen funktioniert gleich wie diejenige von Zeichenketten. Auf das erste Element greifen wir z.B. wie folgt zu:"
   ]
  },
  {
   "cell_type": "code",
   "execution_count": null,
   "metadata": {},
   "outputs": [],
   "source": [
    "eine_liste[0]"
   ]
  },
  {
   "cell_type": "markdown",
   "metadata": {},
   "source": [
    "Auf das letzte Element so:"
   ]
  },
  {
   "cell_type": "code",
   "execution_count": null,
   "metadata": {},
   "outputs": [],
   "source": [
    "eine_liste[-1]"
   ]
  },
  {
   "cell_type": "markdown",
   "metadata": {},
   "source": [
    "Wir können mit `:` auch einen Teil der Liste extrahieren:"
   ]
  },
  {
   "cell_type": "code",
   "execution_count": null,
   "metadata": {},
   "outputs": [],
   "source": [
    "eine_liste[1:3]"
   ]
  },
  {
   "cell_type": "markdown",
   "metadata": {},
   "source": [
    "Und mit zwei `:` nur jedes zweite Element nehmen:"
   ]
  },
  {
   "cell_type": "code",
   "execution_count": null,
   "metadata": {},
   "outputs": [],
   "source": [
    "eine_liste[::2]"
   ]
  },
  {
   "cell_type": "markdown",
   "metadata": {},
   "source": [
    "### 1.3 Operatoren für Listen\n",
    "Wir können Listen wie Strings mit `+` konkatenieren:"
   ]
  },
  {
   "cell_type": "code",
   "execution_count": null,
   "metadata": {},
   "outputs": [],
   "source": [
    "liste1 = [1, 2, 3]\n",
    "liste2 = [4, 5, 6]\n",
    "liste1 + liste2"
   ]
  },
  {
   "cell_type": "markdown",
   "metadata": {},
   "source": [
    "Und durch die Multiplikation mit einer `int` mehrmals wiederholen:"
   ]
  },
  {
   "cell_type": "code",
   "execution_count": null,
   "metadata": {},
   "outputs": [],
   "source": [
    "liste1 * 3"
   ]
  },
  {
   "cell_type": "markdown",
   "metadata": {},
   "source": [
    "Und sie mit `==` vergleichen:"
   ]
  },
  {
   "cell_type": "code",
   "execution_count": null,
   "metadata": {},
   "outputs": [],
   "source": [
    "liste1 == liste2"
   ]
  },
  {
   "cell_type": "markdown",
   "metadata": {},
   "source": [
    "Wichtig: Listen sind sortiert (auf Englisch **ordered**), es kommt beim Vergleich auf die Reihenfolge drauf an:"
   ]
  },
  {
   "cell_type": "code",
   "execution_count": null,
   "metadata": {},
   "outputs": [],
   "source": [
    "[1, 2, 3] == [3, 2, 1]"
   ]
  },
  {
   "cell_type": "markdown",
   "metadata": {},
   "source": [
    "Mit `in` können wir überprüfen, ob ein Element in einer Liste enthalten ist:"
   ]
  },
  {
   "cell_type": "code",
   "execution_count": null,
   "metadata": {},
   "outputs": [],
   "source": [
    "3 in liste1"
   ]
  },
  {
   "cell_type": "code",
   "execution_count": null,
   "metadata": {},
   "outputs": [],
   "source": [
    "3 in liste2"
   ]
  },
  {
   "cell_type": "markdown",
   "metadata": {},
   "source": [
    "### 1.4 Funktionen für Listen\n",
    "Mit der vordefinierten Funktion `len` können wir (wie bei Strings) die Länge einer Liste bestimmen:"
   ]
  },
  {
   "cell_type": "code",
   "execution_count": null,
   "metadata": {},
   "outputs": [],
   "source": [
    "len(liste1)"
   ]
  },
  {
   "cell_type": "markdown",
   "metadata": {},
   "source": [
    "Es gibt aber noch andere vordefinierte Funktionen:\n",
    "\n",
    "`min` und `max` geben das kleinste bzw. grösste Element einer Liste zurück:"
   ]
  },
  {
   "cell_type": "code",
   "execution_count": null,
   "metadata": {},
   "outputs": [],
   "source": [
    "min(liste1)"
   ]
  },
  {
   "cell_type": "code",
   "execution_count": null,
   "metadata": {},
   "outputs": [],
   "source": [
    "max(liste1)"
   ]
  },
  {
   "cell_type": "markdown",
   "metadata": {},
   "source": [
    "`sum` zählt alle Elemente der Liste zusammen:"
   ]
  },
  {
   "cell_type": "code",
   "execution_count": null,
   "metadata": {},
   "outputs": [],
   "source": [
    "sum(liste1)"
   ]
  },
  {
   "cell_type": "markdown",
   "metadata": {},
   "source": [
    "Und `sorted` gibt die Liste der grösse nach sortiert zurück:"
   ]
  },
  {
   "cell_type": "code",
   "execution_count": null,
   "metadata": {},
   "outputs": [],
   "source": [
    "sorted(liste1)"
   ]
  },
  {
   "cell_type": "markdown",
   "metadata": {},
   "source": [
    "### 1.5 \"immutable\" vs. \"mutable\"\n",
    "In Python unterscheiden wir zwischen Objekten, welche veränderbar sind (auf englisch: \"mutable\"), und solchen, welche nicht veränderbar sind (\"immutable\"). Dabei sind Strings nicht veränderbar, Listen schon. Was bedeutet das?\n",
    "\n",
    "Wir können in Listen einzelne Elemente austauschen:"
   ]
  },
  {
   "cell_type": "code",
   "execution_count": null,
   "metadata": {},
   "outputs": [],
   "source": [
    "beispiel_liste = [\"a\", \"b\", \"c\"]\n",
    "beispiel_liste"
   ]
  },
  {
   "cell_type": "code",
   "execution_count": null,
   "metadata": {},
   "outputs": [],
   "source": [
    "beispiel_liste[1] = \"d\"  # wir ersetzen das zweite Element mit dem Wert \"d\"\n",
    "beispiel_liste"
   ]
  },
  {
   "cell_type": "markdown",
   "metadata": {},
   "source": [
    "Bei Strings ist dies nicht erlaubt:"
   ]
  },
  {
   "cell_type": "code",
   "execution_count": null,
   "metadata": {},
   "outputs": [],
   "source": [
    "beispiel_str = \"abc\"\n",
    "beispiel_str[1] = \"d\""
   ]
  },
  {
   "cell_type": "markdown",
   "metadata": {},
   "source": [
    "Wenn wir bei Strings einen Buchstaben austauschen wollen, müssen wir immer ein neues Objekt erzeugen. Dies machen wir zum Beispiel mit `replace`:"
   ]
  },
  {
   "cell_type": "code",
   "execution_count": null,
   "metadata": {},
   "outputs": [],
   "source": [
    "beispiel_str.replace(\"b\", \"d\")  # wir erzeugen ein neues Objekt"
   ]
  },
  {
   "cell_type": "markdown",
   "metadata": {},
   "source": [
    "Der Wert des alten Objekts bleibt aber unverändert:"
   ]
  },
  {
   "cell_type": "code",
   "execution_count": null,
   "metadata": {},
   "outputs": [],
   "source": [
    "beispiel_str"
   ]
  },
  {
   "cell_type": "markdown",
   "metadata": {},
   "source": [
    "Ob ein Objekt veränderbar ist oder nicht, ist insbesondere relevant, wenn wir es einer Funktion übergeben. Schaue dir folgendes Beispiel an:"
   ]
  },
  {
   "cell_type": "code",
   "execution_count": null,
   "metadata": {},
   "outputs": [],
   "source": [
    "def eine_funktion(eine_liste):\n",
    "    eine_liste[2] = 5\n",
    "\n",
    "beispiel_liste = [1, 2, 3, 4, 5]\n",
    "eine_funktion(beispiel_liste)"
   ]
  },
  {
   "cell_type": "markdown",
   "metadata": {},
   "source": [
    "Was denkst du, ist jetzt der Wert von `beispiel_liste`?"
   ]
  },
  {
   "cell_type": "code",
   "execution_count": null,
   "metadata": {},
   "outputs": [],
   "source": [
    "beispiel_liste"
   ]
  },
  {
   "cell_type": "markdown",
   "metadata": {},
   "source": [
    "Wir sehen, die Liste, welche ausserhalb der Funktion definiert wurde, konnte innerhalb der Funktion verändert werden. Dies ist nur möglich, weil Listen veränderbare Objekte sind."
   ]
  },
  {
   "cell_type": "markdown",
   "metadata": {},
   "source": [
    "### 1.6 Methoden von Listen\n",
    "Wie bei `str`-Objekten gibt es auch für Listen nützliche Methoden.\n",
    "\n",
    "`count` gibt zurück, wie häufig ein Element in der Liste vorkommt:"
   ]
  },
  {
   "cell_type": "code",
   "execution_count": null,
   "metadata": {},
   "outputs": [],
   "source": [
    "liste1.count(1)"
   ]
  },
  {
   "cell_type": "markdown",
   "metadata": {},
   "source": [
    "Und `index` gibt den ersten Index zurück, an dem ein gesuchter Wert ist (ähnlich wie `find` für Strings):"
   ]
  },
  {
   "cell_type": "code",
   "execution_count": null,
   "metadata": {},
   "outputs": [],
   "source": [
    "liste1.index(2)  # gibt den ersten Index zurück, in dem der Wert 2 ist"
   ]
  },
  {
   "cell_type": "markdown",
   "metadata": {},
   "source": [
    "Wenn ein Element nicht in der Liste enthalten ist, entsteht ein `ValueError`:"
   ]
  },
  {
   "cell_type": "code",
   "execution_count": null,
   "metadata": {},
   "outputs": [],
   "source": [
    "liste1.index(5)"
   ]
  },
  {
   "cell_type": "markdown",
   "metadata": {},
   "source": [
    "Ausserdem gibt es zahlreiche Methoden, welche die Liste selbst verändern. All diese Methoden geben nichts zurück (also \"None\"). Wenn wir aber danach nachschauen, was in der Liste enthalten ist, sehen wir, dass sie verändert wurde. Ein wichtiges Beispiel ist `append`, welches ein neues Element hinten an die Liste anhängt:"
   ]
  },
  {
   "cell_type": "code",
   "execution_count": null,
   "metadata": {},
   "outputs": [],
   "source": [
    "neue_liste = [1, 2, 3]\n",
    "neue_liste.append(4)\n",
    "neue_liste"
   ]
  },
  {
   "cell_type": "markdown",
   "metadata": {},
   "source": [
    "Man sagt auch, dass die Methode `append` die Liste \"in-place\" verändert. Dies ist nur möglich, weil Listen veränderbare (\"mutable\") Objekte sind.\n",
    "\n",
    "Man kann die Liste auch mit `reverse` umdrehen:"
   ]
  },
  {
   "cell_type": "code",
   "execution_count": null,
   "metadata": {},
   "outputs": [],
   "source": [
    "neue_liste.reverse()\n",
    "neue_liste"
   ]
  },
  {
   "cell_type": "markdown",
   "metadata": {},
   "source": [
    "Und mit `sort` sortieren:"
   ]
  },
  {
   "cell_type": "code",
   "execution_count": null,
   "metadata": {},
   "outputs": [],
   "source": [
    "neue_liste.sort()\n",
    "neue_liste"
   ]
  },
  {
   "cell_type": "markdown",
   "metadata": {},
   "source": [
    "Mit `remove` können wir Elemente entfernen. Dabei wird der mitgegebene Wert gesucht, und der erste entsprechende Eintrag gelöscht:"
   ]
  },
  {
   "cell_type": "code",
   "execution_count": null,
   "metadata": {},
   "outputs": [],
   "source": [
    "neue_liste2 = [1, 2, 3, 1, 2, 3]\n",
    "neue_liste2.remove(2)\n",
    "neue_liste2"
   ]
  },
  {
   "cell_type": "markdown",
   "metadata": {},
   "source": [
    "Bei all den Methoden, welche die Liste \"in-place\" verändern, muss man etwas aufpassen: Führen wir die Code-Zelle mehrmals aus, wird die Liste immer wieder verändert."
   ]
  },
  {
   "cell_type": "code",
   "execution_count": null,
   "metadata": {},
   "outputs": [],
   "source": [
    "neue_liste.append(3)\n",
    "neue_liste"
   ]
  },
  {
   "cell_type": "markdown",
   "metadata": {},
   "source": [
    "### 1.7 Durch Listen iterieren\n",
    "Wie bei Strings können wir mit `for`-Loops auch schrittweise durch Listen durchiterieren. Dies sieht wie folgt aus:"
   ]
  },
  {
   "cell_type": "code",
   "execution_count": null,
   "metadata": {},
   "outputs": [],
   "source": [
    "beispiel = [\"a\", \"b\", \"c\"]\n",
    "for element in beispiel:\n",
    "    print(element)"
   ]
  },
  {
   "cell_type": "markdown",
   "metadata": {},
   "source": [
    "<br><br><br><br><br>\n",
    "<div class=\"exercise\">\n",
    "\n",
    "<img src=\"https://i.imgur.com/JyhBeDB.png\" class=\"exercise_image\" width=100>\n",
    "\n",
    "<span class=\"exercise_label\">**Aufgabe:**</span>\n",
    "\n",
    "Schreibe eine Funktion, welche aus einer Liste eine neue Liste macht, welche nur die geraden Zahlen enthält. \n",
    "\n",
    "Beispiel: \n",
    "`[1, 4, 5, 2]` wird zu `[4, 2]`\n",
    "\n",
    "</div>"
   ]
  },
  {
   "cell_type": "markdown",
   "metadata": {},
   "source": [
    "<div class=\"exercise\">\n",
    "\n",
    "<img src=\"https://i.imgur.com/JyhBeDB.png\" class=\"exercise_image\" width=100>\n",
    "\n",
    "<span class=\"exercise_label\">**Aufgabe:**</span>\n",
    "\n",
    "Wie können wir mit einem `while`-Loop durch eine Liste iterieren? Iteriere mit einem `while`-Loop durch die Liste `[1, 2, 3]` und gib mit `print` jedes Element aus.\n",
    "\n",
    "</div>"
   ]
  },
  {
   "cell_type": "markdown",
   "metadata": {},
   "source": [
    "### 1.8 Listen von Listen (... von Listen)\n",
    "\n",
    "Wie erwähnt können Listen beliebige Arten von Elementen enthalten. Insbesondere können Listen auch weitere Listen enthalten. Dadurch können wir beispielsweise Tabellen abspeichern. Hier ein Beispiel:"
   ]
  },
  {
   "cell_type": "code",
   "execution_count": null,
   "metadata": {},
   "outputs": [],
   "source": [
    "tabelle = [\n",
    "    [1, 2, 3],\n",
    "    [4, 5, 6],\n",
    "    [7, 8, 9]\n",
    "]"
   ]
  },
  {
   "cell_type": "markdown",
   "metadata": {},
   "source": [
    "Wie können wir nun auf den dritten Eintrag in der zweiten Zeile zugreifen?\n",
    "\n",
    "Wir müssen dazu das Objekt zweimal indizieren. Mit `tabelle[1]` erhalten wir die ganze zweite Zeile:"
   ]
  },
  {
   "cell_type": "code",
   "execution_count": null,
   "metadata": {},
   "outputs": [],
   "source": [
    "tabelle[1]"
   ]
  },
  {
   "cell_type": "markdown",
   "metadata": {},
   "source": [
    "Um nun das dritte Element dieser Zeile zuzugreifen, schreiben wir folgendes:"
   ]
  },
  {
   "cell_type": "code",
   "execution_count": null,
   "metadata": {},
   "outputs": [],
   "source": [
    "tabelle[1][2]"
   ]
  },
  {
   "cell_type": "markdown",
   "metadata": {},
   "source": [
    "## 2. Tuples\n",
    "\n",
    "Tuples sind eine weitere wichtige Datenstruktur. Wie Listen können sie unterschiedliche Datentypen zusammen gruppieren. Der grosse Unterschied zu Listen ist jedoch, dass Tuples nicht veränderbar sind. \n",
    "\n",
    "### 2.1 Tuple-Definitionen\n",
    "\n",
    "Wir definieren ein Tuple wie folgt:"
   ]
  },
  {
   "cell_type": "code",
   "execution_count": null,
   "metadata": {},
   "outputs": [],
   "source": [
    "beispiel_tuple = (1, 2, 3)\n",
    "type(beispiel_tuple)"
   ]
  },
  {
   "cell_type": "markdown",
   "metadata": {},
   "source": [
    "Wir können die runden Klammern auch weglassen:"
   ]
  },
  {
   "cell_type": "code",
   "execution_count": null,
   "metadata": {},
   "outputs": [],
   "source": [
    "beispiel_tuple = 1, 2, 3\n",
    "beispiel_tuple"
   ]
  },
  {
   "cell_type": "markdown",
   "metadata": {},
   "source": [
    "Wenn wir ein Tuple mit nur einem Element erzeugen wollen, müssen wir dies wie folgt tun:"
   ]
  },
  {
   "cell_type": "code",
   "execution_count": null,
   "metadata": {},
   "outputs": [],
   "source": [
    "ein_element = (1, )\n",
    "ein_element"
   ]
  },
  {
   "cell_type": "markdown",
   "metadata": {},
   "source": [
    "Denn wenn wir das Komma weglassen, enthält die Variable einfach die Zahl selbst, nicht das Tuple:"
   ]
  },
  {
   "cell_type": "code",
   "execution_count": null,
   "metadata": {},
   "outputs": [],
   "source": [
    "ein_element = (1)\n",
    "ein_element"
   ]
  },
  {
   "cell_type": "markdown",
   "metadata": {},
   "source": [
    "Mit der Funktion `tuple` können wir andere Datentypen in Tuples umwandeln:"
   ]
  },
  {
   "cell_type": "code",
   "execution_count": null,
   "metadata": {},
   "outputs": [],
   "source": [
    "tuple(range(5))"
   ]
  },
  {
   "cell_type": "code",
   "execution_count": null,
   "metadata": {},
   "outputs": [],
   "source": [
    "tuple(\"hallo\")"
   ]
  },
  {
   "cell_type": "code",
   "execution_count": null,
   "metadata": {},
   "outputs": [],
   "source": [
    "tuple([1, 2, 3])"
   ]
  },
  {
   "cell_type": "markdown",
   "metadata": {},
   "source": [
    "### 2.2 Indizierung\n",
    "Die Indizierung funktioniert auch gleich wie bei Listen:"
   ]
  },
  {
   "cell_type": "code",
   "execution_count": null,
   "metadata": {},
   "outputs": [],
   "source": [
    "beispiel_tuple[2]"
   ]
  },
  {
   "cell_type": "code",
   "execution_count": null,
   "metadata": {},
   "outputs": [],
   "source": [
    "beispiel_tuple[:2]"
   ]
  },
  {
   "cell_type": "markdown",
   "metadata": {},
   "source": [
    "Doch wie erwähnt sind Tuples nicht veränderbar. Daher können wir für Tuples folgendes nicht tun:"
   ]
  },
  {
   "cell_type": "code",
   "execution_count": null,
   "metadata": {},
   "outputs": [],
   "source": [
    "beispiel_tuple[2] = 5"
   ]
  },
  {
   "cell_type": "markdown",
   "metadata": {},
   "source": [
    "### 2.3 Funktionen, Operatoren und Methoden\n",
    "`+`, `*` und `in` verhalten sich genau gleich wie bei Listen:"
   ]
  },
  {
   "cell_type": "code",
   "execution_count": null,
   "metadata": {},
   "outputs": [],
   "source": [
    "(1, 2, 3) + (4, 5)"
   ]
  },
  {
   "cell_type": "code",
   "execution_count": null,
   "metadata": {},
   "outputs": [],
   "source": [
    "(1, 2, 3) * 2"
   ]
  },
  {
   "cell_type": "code",
   "execution_count": null,
   "metadata": {},
   "outputs": [],
   "source": [
    "5 in (1, 2, 3)"
   ]
  },
  {
   "cell_type": "markdown",
   "metadata": {},
   "source": [
    "Wir können auch mit `==` vergleichen. Wie bei Listen kommt es auf die Reihenfolge drauf an, Tuples sind **ordered**."
   ]
  },
  {
   "cell_type": "code",
   "execution_count": null,
   "metadata": {},
   "outputs": [],
   "source": [
    "(1, 2, 3) == (3, 2, 1)"
   ]
  },
  {
   "cell_type": "markdown",
   "metadata": {},
   "source": [
    "Genauso für die Funktionen `sum`, `max`, `min`, usw."
   ]
  },
  {
   "cell_type": "code",
   "execution_count": null,
   "metadata": {},
   "outputs": [],
   "source": [
    "bsp = (1, 2, 3)\n",
    "sum(bsp)"
   ]
  },
  {
   "cell_type": "markdown",
   "metadata": {},
   "source": [
    "Und auch die Methoden `count` und `index` funktionieren gleich:"
   ]
  },
  {
   "cell_type": "code",
   "execution_count": null,
   "metadata": {},
   "outputs": [],
   "source": [
    "(1, 2, 3, 1, 2, 3).count(2)  # zählt, wie häufig 2 vorkommt"
   ]
  },
  {
   "cell_type": "code",
   "execution_count": null,
   "metadata": {},
   "outputs": [],
   "source": [
    "(1, 2, 3, 1, 2, 3).index(2)  # gibt den Index des ersten Eintrags mit Wert 2 zurück"
   ]
  },
  {
   "cell_type": "markdown",
   "metadata": {},
   "source": [
    "Wir können durch Tuples in einem `for`-Loop iterieren:"
   ]
  },
  {
   "cell_type": "code",
   "execution_count": null,
   "metadata": {},
   "outputs": [],
   "source": [
    "beispiel_tuple = (1, 2, 3)\n",
    "for element in beispiel_tuple:\n",
    "    print(element)"
   ]
  },
  {
   "cell_type": "markdown",
   "metadata": {},
   "source": [
    "Wir haben in diesem Kurs bereits durch tuples iteriert, als wir `for`-Loops kennengelernt haben:"
   ]
  },
  {
   "cell_type": "code",
   "execution_count": null,
   "metadata": {},
   "outputs": [],
   "source": [
    "for i in 0, 1, 2, 3, 4:  # 0, 1, 2, 3, 4 ist ein Tuple\n",
    "    print(i)"
   ]
  },
  {
   "cell_type": "markdown",
   "metadata": {},
   "source": [
    "### 2.4 In Funktionen Tuples zurückgeben und entpacken\n",
    "\n",
    "Eine der wichtigsten Anwendungen von Tuples ist bei der Funktionsrückgabe: Und zwar, wenn wir in einer Funktion mehrere Resultate zurückgeben wollen. Wir können dies wie folgt tun:"
   ]
  },
  {
   "cell_type": "code",
   "execution_count": null,
   "metadata": {},
   "outputs": [],
   "source": [
    "def nach_namen_fragen():\n",
    "    vorname = input(\"Wie ist dein Vorname?\")\n",
    "    nachname = input(\"Wie ist dein Nachname?\")\n",
    "    return vorname, nachname  # wir geben ein Tuple von mehreren Resultaten zurück"
   ]
  },
  {
   "cell_type": "code",
   "execution_count": null,
   "metadata": {},
   "outputs": [],
   "source": [
    "name = nach_namen_fragen()\n",
    "name"
   ]
  },
  {
   "cell_type": "markdown",
   "metadata": {},
   "source": [
    "Nun haben wir das Resultat als Tuple. Meist wollen wir aber für das Resultat in neuen, einzelnen Variablen abspeichern. Dazu können wir das Tuple \"entpacken\"."
   ]
  },
  {
   "cell_type": "code",
   "execution_count": null,
   "metadata": {},
   "outputs": [],
   "source": [
    "vorname, nachname = name\n",
    "print(vorname)\n",
    "print(nachname)"
   ]
  },
  {
   "cell_type": "markdown",
   "metadata": {},
   "source": [
    "Das erste Element des Tuples wird in die erste neue Variable gespeichert, das zweite Element in die zweite neue Variable. Dadurch wird das Tuple \"entpackt\". Wir können dies auch direkt tun:"
   ]
  },
  {
   "cell_type": "code",
   "execution_count": null,
   "metadata": {},
   "outputs": [],
   "source": [
    "vorname, nachname = nach_namen_fragen()\n",
    "\n",
    "print(vorname)\n",
    "print(nachname)"
   ]
  },
  {
   "cell_type": "markdown",
   "metadata": {},
   "source": [
    "<div class=\"exercise\">\n",
    "\n",
    "<img src=\"https://i.imgur.com/JyhBeDB.png\" class=\"exercise_image\" width=100>\n",
    "\n",
    "<span class=\"exercise_label\">**Aufgabe:**</span>\n",
    "\n",
    "Schreibe eine Funktion, welche zuerst nach dem Namen einer Person fragt, und anschliessend nach dem Alter. Die Funktion gibt dann Name und Alter als Tuple zurück. Rufe die Funktion auf, und speichere das Resultat in den Variablen «name» und «alter»\n",
    "\n",
    "</div>"
   ]
  },
  {
   "cell_type": "markdown",
   "metadata": {},
   "source": [
    "### 2.5 Entpacken mit \"starred expressions\"\n",
    "\n",
    "Um Tuples so zu entpacken, müssen wir bereits im Voraus wissen, wie viele Elemente ein Tuple hat. Ansonsten gibt es folgenden Fehler:"
   ]
  },
  {
   "cell_type": "code",
   "execution_count": null,
   "metadata": {},
   "outputs": [],
   "source": [
    "# Fehlerhaftes Entpacken\n",
    "a, b, c = (1, 2)"
   ]
  },
  {
   "cell_type": "markdown",
   "metadata": {},
   "source": [
    "Wenn wir dies nicht wissen, können wir Tuples mit einer \"starred expression\" entpacken. Dies sieht wie folgt aus: "
   ]
  },
  {
   "cell_type": "code",
   "execution_count": null,
   "metadata": {},
   "outputs": [],
   "source": [
    "some_tuple = 1, 2, 3, 4, 5\n",
    "a, *b = some_tuple"
   ]
  },
  {
   "cell_type": "markdown",
   "metadata": {},
   "source": [
    "Das erste Element wurde nun in `a` gespeichert, alle anderen Elemente in `b` (und zwar als Liste). Diejenige Variable, welche alles andere enthalten soll, wird mit einem `*` gekennzeichnet. Sie wird als \"starred expression\" bezeichnet."
   ]
  },
  {
   "cell_type": "code",
   "execution_count": null,
   "metadata": {},
   "outputs": [],
   "source": [
    "a"
   ]
  },
  {
   "cell_type": "code",
   "execution_count": null,
   "metadata": {},
   "outputs": [],
   "source": [
    "b"
   ]
  },
  {
   "cell_type": "markdown",
   "metadata": {},
   "source": [
    "Die Variable mit `*`, welches die restlichen Elemente auffangen soll, kann am Anfang, in der Mitte oder am Ende sein:"
   ]
  },
  {
   "cell_type": "code",
   "execution_count": null,
   "metadata": {},
   "outputs": [],
   "source": [
    "*a, b = some_tuple\n",
    "print(\"a:\", a)\n",
    "print(\"b:\", b)"
   ]
  },
  {
   "cell_type": "code",
   "execution_count": null,
   "metadata": {},
   "outputs": [],
   "source": [
    "a, *b, c = some_tuple\n",
    "print(\"a:\", a)\n",
    "print(\"b:\", b)\n",
    "print(\"c:\", c)"
   ]
  },
  {
   "cell_type": "markdown",
   "metadata": {},
   "source": [
    "Wir können nur eine Variable mit `*` pro Zuweisung haben. Ansonsten ist das Verhalten nicht klar definiert, und wir erhalten einen Fehler:"
   ]
  },
  {
   "cell_type": "code",
   "execution_count": null,
   "metadata": {},
   "outputs": [],
   "source": [
    "*a, *b = some_tuple"
   ]
  },
  {
   "cell_type": "markdown",
   "metadata": {},
   "source": [
    "<br><br><br>\n",
    "\n",
    "<div class=\"exercise\">\n",
    "\n",
    "<img src=\"https://i.imgur.com/JyhBeDB.png\" class=\"exercise_image\" width=100>\n",
    "\n",
    "<span class=\"exercise_label\">**Aufgabe:**</span>\n",
    "Für die nachfolgenden Tuple-Entpackungen, entscheide ob sie zulässig sind und was in die Variablen abgespeichert wird.\n",
    "\n",
    "```python\n",
    "beispiel = (\"a\", \"b\", \"c\", \"d\", \"e\")\n",
    "\n",
    "a, b, c, d, e = beispiel\n",
    "a, b, c, d = beispiel\n",
    "*a, b = beispiel\n",
    "a, *b, c = beispiel\n",
    "*a, b, *c = beispiel\n",
    "\n",
    "```\n",
    "\n",
    "</div>"
   ]
  }
 ],
 "metadata": {
  "kernelspec": {
   "display_name": ".venv",
   "language": "python",
   "name": "python3"
  },
  "language_info": {
   "codemirror_mode": {
    "name": "ipython",
    "version": 3
   },
   "file_extension": ".py",
   "mimetype": "text/x-python",
   "name": "python",
   "nbconvert_exporter": "python",
   "pygments_lexer": "ipython3",
   "version": "3.10.9"
  },
  "orig_nbformat": 4
 },
 "nbformat": 4,
 "nbformat_minor": 2
}
