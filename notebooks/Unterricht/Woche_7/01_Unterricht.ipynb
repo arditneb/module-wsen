{
 "cells": [
  {
   "cell_type": "markdown",
   "metadata": {},
   "source": [
    "## 1. Listen\n",
    "Bis jetzt haben wir folgende Datenstrukturen kennengelernt: Für Zahlen `float` und `int`, für das Resultat von logischen Operationen `bool` und für Zeichenketten `str`. In diesem Kapitel lernen wir einen weiteren, sehr wichtigen Datentypen kennen: Listen. \n",
    "\n",
    "Listen dienen dazu, mehrere Elemente in einer definierten Reihenfolge abzuspeichern. Sie kommen in fast jedem Programm zum Einsatz: Auf einer Webseite können wir alle Nutzernamen als Liste abspeichern; in einer Datenbank einer Bibliothek alle Bücher; in einem Webshop alle Kleidungsartikel; und so weiter. Der Objekttyp für Listen in Python heisst `list`. Eine `list` kann beliebige andere Elemente enthalten: Wir können zum Beispiel Listen von `float`-Zahlen oder `str`-Objekten haben, oder auch verschiedene Datentypen mischen. \n",
    "\n",
    "### 1.1 Eine Liste erstellen\n",
    "Wir können eine Liste mit folgender Syntax erstellen:"
   ]
  },
  {
   "cell_type": "code",
   "execution_count": 11,
   "metadata": {},
   "outputs": [],
   "source": [
    "eine_liste = [1, 2, 3, 4]"
   ]
  },
  {
   "cell_type": "markdown",
   "metadata": {},
   "source": [
    "Wir können diese Liste wie andere Variablen anzeigen:"
   ]
  },
  {
   "cell_type": "code",
   "execution_count": 12,
   "metadata": {},
   "outputs": [
    {
     "data": {
      "text/plain": [
       "[1, 2, 3, 4]"
      ]
     },
     "execution_count": 12,
     "metadata": {},
     "output_type": "execute_result"
    }
   ],
   "source": [
    "eine_liste"
   ]
  },
  {
   "cell_type": "markdown",
   "metadata": {},
   "source": [
    "Oder mit `print`:"
   ]
  },
  {
   "cell_type": "code",
   "execution_count": 13,
   "metadata": {},
   "outputs": [
    {
     "name": "stdout",
     "output_type": "stream",
     "text": [
      "[1, 2, 3, 4]\n"
     ]
    }
   ],
   "source": [
    "print(eine_liste)"
   ]
  },
  {
   "cell_type": "markdown",
   "metadata": {},
   "source": [
    "Eine leere Liste erstellen wir wie folgt:"
   ]
  },
  {
   "cell_type": "code",
   "execution_count": 14,
   "metadata": {},
   "outputs": [
    {
     "data": {
      "text/plain": [
       "[]"
      ]
     },
     "execution_count": 14,
     "metadata": {},
     "output_type": "execute_result"
    }
   ],
   "source": [
    "leere_liste = []\n",
    "leere_liste  # Anzeige"
   ]
  },
  {
   "cell_type": "markdown",
   "metadata": {},
   "source": [
    "Wir können in unserer Liste unterschiedliche Datentypen mischen:"
   ]
  },
  {
   "cell_type": "code",
   "execution_count": 15,
   "metadata": {},
   "outputs": [
    {
     "data": {
      "text/plain": [
       "[1, 'hallo', 5.2, True]"
      ]
     },
     "execution_count": 15,
     "metadata": {},
     "output_type": "execute_result"
    }
   ],
   "source": [
    "gemischte_liste = [1, \"hallo\", 5.2, True]\n",
    "gemischte_liste"
   ]
  },
  {
   "cell_type": "markdown",
   "metadata": {},
   "source": [
    "Wir können ausserdem mit der Funktion `list` Datentypen in Listen umwandeln. Wenn wir eine `str` in eine `list` umwandeln, erstellt es eine Liste aller Buchstaben:"
   ]
  },
  {
   "cell_type": "code",
   "execution_count": 76,
   "metadata": {},
   "outputs": [
    {
     "data": {
      "text/plain": [
       "['h', 'a', 'l', 'l', 'o', ' ', 'w', 'e', 'l', 't']"
      ]
     },
     "execution_count": 76,
     "metadata": {},
     "output_type": "execute_result"
    }
   ],
   "source": [
    "list(\"hallo welt\")"
   ]
  },
  {
   "cell_type": "markdown",
   "metadata": {},
   "source": [
    "Wir können auch eine `range` in eine Liste umwandeln. Folgender Code erzeugt eine Liste aller Zahlen von 0 bis 5:"
   ]
  },
  {
   "cell_type": "code",
   "execution_count": 78,
   "metadata": {},
   "outputs": [
    {
     "data": {
      "text/plain": [
       "[0, 1, 2, 3, 4]"
      ]
     },
     "execution_count": 78,
     "metadata": {},
     "output_type": "execute_result"
    }
   ],
   "source": [
    "list(range(5))"
   ]
  },
  {
   "cell_type": "markdown",
   "metadata": {},
   "source": [
    "### 1.2 Auf ein Element der Liste zugreifen\n",
    "Die Indizierung von Listen funktioniert gleich wie diejenige von Zeichenketten. Auf das erste Element greifen wir z.B. wie folgt zu:"
   ]
  },
  {
   "cell_type": "code",
   "execution_count": 16,
   "metadata": {},
   "outputs": [
    {
     "data": {
      "text/plain": [
       "1"
      ]
     },
     "execution_count": 16,
     "metadata": {},
     "output_type": "execute_result"
    }
   ],
   "source": [
    "eine_liste[0]"
   ]
  },
  {
   "cell_type": "markdown",
   "metadata": {},
   "source": [
    "Auf das letzte Element so:"
   ]
  },
  {
   "cell_type": "code",
   "execution_count": 17,
   "metadata": {},
   "outputs": [
    {
     "data": {
      "text/plain": [
       "4"
      ]
     },
     "execution_count": 17,
     "metadata": {},
     "output_type": "execute_result"
    }
   ],
   "source": [
    "eine_liste[-1]"
   ]
  },
  {
   "cell_type": "markdown",
   "metadata": {},
   "source": [
    "Wir können mit `:` auch einen Teil der Liste extrahieren:"
   ]
  },
  {
   "cell_type": "code",
   "execution_count": 18,
   "metadata": {},
   "outputs": [
    {
     "data": {
      "text/plain": [
       "[2, 3]"
      ]
     },
     "execution_count": 18,
     "metadata": {},
     "output_type": "execute_result"
    }
   ],
   "source": [
    "eine_liste[1:3]"
   ]
  },
  {
   "cell_type": "markdown",
   "metadata": {},
   "source": [
    "Und mit zwei `:` nur jedes zweite Element nehmen:"
   ]
  },
  {
   "cell_type": "code",
   "execution_count": 19,
   "metadata": {},
   "outputs": [
    {
     "data": {
      "text/plain": [
       "[1, 3]"
      ]
     },
     "execution_count": 19,
     "metadata": {},
     "output_type": "execute_result"
    }
   ],
   "source": [
    "eine_liste[::2]"
   ]
  },
  {
   "cell_type": "markdown",
   "metadata": {},
   "source": [
    "### 1.3 Operatoren für Listen\n",
    "Wir können Listen wie Strings mit `+` konkatenieren:"
   ]
  },
  {
   "cell_type": "code",
   "execution_count": 23,
   "metadata": {},
   "outputs": [
    {
     "data": {
      "text/plain": [
       "[1, 2, 3, 4, 5, 6]"
      ]
     },
     "execution_count": 23,
     "metadata": {},
     "output_type": "execute_result"
    }
   ],
   "source": [
    "liste1 = [1, 2, 3]\n",
    "liste2 = [4, 5, 6]\n",
    "liste1 + liste2"
   ]
  },
  {
   "cell_type": "markdown",
   "metadata": {},
   "source": [
    "Und durch die Multiplikation mit einer `int` mehrmals wiederholen:"
   ]
  },
  {
   "cell_type": "code",
   "execution_count": 25,
   "metadata": {},
   "outputs": [
    {
     "data": {
      "text/plain": [
       "[1, 2, 3, 1, 2, 3, 1, 2, 3]"
      ]
     },
     "execution_count": 25,
     "metadata": {},
     "output_type": "execute_result"
    }
   ],
   "source": [
    "liste1 * 3"
   ]
  },
  {
   "cell_type": "markdown",
   "metadata": {},
   "source": [
    "Und sie mit `==` vergleichen:"
   ]
  },
  {
   "cell_type": "code",
   "execution_count": 26,
   "metadata": {},
   "outputs": [
    {
     "data": {
      "text/plain": [
       "False"
      ]
     },
     "execution_count": 26,
     "metadata": {},
     "output_type": "execute_result"
    }
   ],
   "source": [
    "liste1 == liste2"
   ]
  },
  {
   "cell_type": "markdown",
   "metadata": {},
   "source": [
    "Wichtig: Listen sind sortiert (auf Englisch **ordered**), es kommt beim Vergleich auf die Reihenfolge drauf an:"
   ]
  },
  {
   "cell_type": "code",
   "execution_count": 9,
   "metadata": {},
   "outputs": [
    {
     "data": {
      "text/plain": [
       "False"
      ]
     },
     "execution_count": 9,
     "metadata": {},
     "output_type": "execute_result"
    }
   ],
   "source": [
    "[1, 2, 3] == [3, 2, 1]"
   ]
  },
  {
   "cell_type": "markdown",
   "metadata": {},
   "source": [
    "Mit `in` können wir überprüfen, ob ein Element in einer Liste enthalten ist:"
   ]
  },
  {
   "cell_type": "code",
   "execution_count": 27,
   "metadata": {},
   "outputs": [
    {
     "data": {
      "text/plain": [
       "True"
      ]
     },
     "execution_count": 27,
     "metadata": {},
     "output_type": "execute_result"
    }
   ],
   "source": [
    "3 in liste1"
   ]
  },
  {
   "cell_type": "code",
   "execution_count": 28,
   "metadata": {},
   "outputs": [
    {
     "data": {
      "text/plain": [
       "False"
      ]
     },
     "execution_count": 28,
     "metadata": {},
     "output_type": "execute_result"
    }
   ],
   "source": [
    "3 in liste2"
   ]
  },
  {
   "cell_type": "markdown",
   "metadata": {},
   "source": [
    "### 1.4 Funktionen für Listen\n",
    "Mit der vordefinierten Funktion `len` können wir (wie bei Strings) die Länge einer Liste bestimmen:"
   ]
  },
  {
   "cell_type": "code",
   "execution_count": 30,
   "metadata": {},
   "outputs": [
    {
     "data": {
      "text/plain": [
       "3"
      ]
     },
     "execution_count": 30,
     "metadata": {},
     "output_type": "execute_result"
    }
   ],
   "source": [
    "len(liste1)"
   ]
  },
  {
   "cell_type": "markdown",
   "metadata": {},
   "source": [
    "Es gibt aber noch andere vordefinierte Funktionen:\n",
    "\n",
    "`min` und `max` geben das kleinste bzw. grösste Element einer Liste zurück:"
   ]
  },
  {
   "cell_type": "code",
   "execution_count": 31,
   "metadata": {},
   "outputs": [
    {
     "data": {
      "text/plain": [
       "1"
      ]
     },
     "execution_count": 31,
     "metadata": {},
     "output_type": "execute_result"
    }
   ],
   "source": [
    "min(liste1)"
   ]
  },
  {
   "cell_type": "code",
   "execution_count": 32,
   "metadata": {},
   "outputs": [
    {
     "data": {
      "text/plain": [
       "3"
      ]
     },
     "execution_count": 32,
     "metadata": {},
     "output_type": "execute_result"
    }
   ],
   "source": [
    "max(liste1)"
   ]
  },
  {
   "cell_type": "markdown",
   "metadata": {},
   "source": [
    "`sum` zählt alle Elemente der Liste zusammen:"
   ]
  },
  {
   "cell_type": "code",
   "execution_count": 33,
   "metadata": {},
   "outputs": [
    {
     "data": {
      "text/plain": [
       "6"
      ]
     },
     "execution_count": 33,
     "metadata": {},
     "output_type": "execute_result"
    }
   ],
   "source": [
    "sum(liste1)"
   ]
  },
  {
   "cell_type": "markdown",
   "metadata": {},
   "source": [
    "Und `sorted` gibt die Liste der grösse nach sortiert zurück:"
   ]
  },
  {
   "cell_type": "code",
   "execution_count": 39,
   "metadata": {},
   "outputs": [
    {
     "data": {
      "text/plain": [
       "[1, 2, 3]"
      ]
     },
     "execution_count": 39,
     "metadata": {},
     "output_type": "execute_result"
    }
   ],
   "source": [
    "sorted(liste1)"
   ]
  },
  {
   "cell_type": "markdown",
   "metadata": {},
   "source": [
    "### 1.5 \"immutable\" vs. \"mutable\"\n",
    "In Python unterscheiden wir zwischen Objekten, welche veränderbar sind (auf englisch: \"mutable\"), und solchen, welche nicht veränderbar sind (\"immutable\"). Dabei sind Strings nicht veränderbar, Listen schon. Was bedeutet das?\n",
    "\n",
    "Wir können in Listen einzelne Elemente austauschen:"
   ]
  },
  {
   "cell_type": "code",
   "execution_count": 51,
   "metadata": {},
   "outputs": [
    {
     "data": {
      "text/plain": [
       "['a', 'b', 'c']"
      ]
     },
     "execution_count": 51,
     "metadata": {},
     "output_type": "execute_result"
    }
   ],
   "source": [
    "beispiel_liste = [\"a\", \"b\", \"c\"]\n",
    "beispiel_liste"
   ]
  },
  {
   "cell_type": "code",
   "execution_count": 52,
   "metadata": {},
   "outputs": [
    {
     "data": {
      "text/plain": [
       "['a', 'd', 'c']"
      ]
     },
     "execution_count": 52,
     "metadata": {},
     "output_type": "execute_result"
    }
   ],
   "source": [
    "beispiel_liste[1] = \"d\"  # wir ersetzen das zweite Element mit dem Wert \"d\"\n",
    "beispiel_liste"
   ]
  },
  {
   "cell_type": "markdown",
   "metadata": {},
   "source": [
    "Bei Strings ist dies nicht erlaubt:"
   ]
  },
  {
   "cell_type": "code",
   "execution_count": 53,
   "metadata": {},
   "outputs": [
    {
     "ename": "TypeError",
     "evalue": "'str' object does not support item assignment",
     "output_type": "error",
     "traceback": [
      "\u001b[0;31m---------------------------------------------------------------------------\u001b[0m",
      "\u001b[0;31mTypeError\u001b[0m                                 Traceback (most recent call last)",
      "\u001b[1;32m/Users/schmaett/code/wsen/hs23_code/hs23/notebooks/Unterricht/Woche_7/01_Unterricht.ipynb Cell 41\u001b[0m line \u001b[0;36m2\n\u001b[1;32m      <a href='vscode-notebook-cell:/Users/schmaett/code/wsen/hs23_code/hs23/notebooks/Unterricht/Woche_7/01_Unterricht.ipynb#Y142sZmlsZQ%3D%3D?line=0'>1</a>\u001b[0m beispiel_str \u001b[39m=\u001b[39m \u001b[39m\"\u001b[39m\u001b[39mabc\u001b[39m\u001b[39m\"\u001b[39m\n\u001b[0;32m----> <a href='vscode-notebook-cell:/Users/schmaett/code/wsen/hs23_code/hs23/notebooks/Unterricht/Woche_7/01_Unterricht.ipynb#Y142sZmlsZQ%3D%3D?line=1'>2</a>\u001b[0m beispiel_str[\u001b[39m1\u001b[39;49m] \u001b[39m=\u001b[39m \u001b[39m\"\u001b[39m\u001b[39md\u001b[39m\u001b[39m\"\u001b[39m\n",
      "\u001b[0;31mTypeError\u001b[0m: 'str' object does not support item assignment"
     ]
    }
   ],
   "source": [
    "beispiel_str = \"abc\"\n",
    "beispiel_str[1] = \"d\""
   ]
  },
  {
   "cell_type": "markdown",
   "metadata": {},
   "source": [
    "Wenn wir bei Strings einen Buchstaben austauschen wollen, müssen wir immer ein neues Objekt erzeugen. Dies machen wir zum Beispiel mit `replace`:"
   ]
  },
  {
   "cell_type": "code",
   "execution_count": 54,
   "metadata": {},
   "outputs": [
    {
     "data": {
      "text/plain": [
       "'adc'"
      ]
     },
     "execution_count": 54,
     "metadata": {},
     "output_type": "execute_result"
    }
   ],
   "source": [
    "beispiel_str.replace(\"b\", \"d\")  # wir erzeugen ein neues Objekt"
   ]
  },
  {
   "cell_type": "markdown",
   "metadata": {},
   "source": [
    "Der Wert des alten Objekts bleibt aber unverändert:"
   ]
  },
  {
   "cell_type": "code",
   "execution_count": 55,
   "metadata": {},
   "outputs": [
    {
     "data": {
      "text/plain": [
       "'abc'"
      ]
     },
     "execution_count": 55,
     "metadata": {},
     "output_type": "execute_result"
    }
   ],
   "source": [
    "beispiel_str"
   ]
  },
  {
   "cell_type": "markdown",
   "metadata": {},
   "source": [
    "Ob ein Objekt veränderbar ist oder nicht, ist insbesondere relevant, wenn wir es einer Funktion übergeben. Schaue dir folgendes Beispiel an:"
   ]
  },
  {
   "cell_type": "code",
   "execution_count": 57,
   "metadata": {},
   "outputs": [],
   "source": [
    "def eine_funktion(eine_liste):\n",
    "    eine_liste[2] = 5\n",
    "\n",
    "beispiel_liste = [1, 2, 3, 4, 5]\n",
    "eine_funktion(beispiel_liste)"
   ]
  },
  {
   "cell_type": "markdown",
   "metadata": {},
   "source": [
    "Was denkst du, ist jetzt der Wert von `beispiel_liste`?"
   ]
  },
  {
   "cell_type": "code",
   "execution_count": 58,
   "metadata": {},
   "outputs": [
    {
     "data": {
      "text/plain": [
       "[1, 2, 5, 4, 5]"
      ]
     },
     "execution_count": 58,
     "metadata": {},
     "output_type": "execute_result"
    }
   ],
   "source": [
    "beispiel_liste"
   ]
  },
  {
   "cell_type": "markdown",
   "metadata": {},
   "source": [
    "Wir sehen, die Liste, welche ausserhalb der Funktion definiert wurde, konnte innerhalb der Funktion verändert werden. Dies ist nur möglich, weil Listen veränderbare Objekte sind."
   ]
  },
  {
   "cell_type": "markdown",
   "metadata": {},
   "source": [
    "### 1.6 Methoden von Listen\n",
    "Wie bei `str`-Objekten gibt es auch für Listen nützliche Methoden.\n",
    "\n",
    "`count` gibt zurück, wie häufig ein Element in der Liste vorkommt:"
   ]
  },
  {
   "cell_type": "code",
   "execution_count": 42,
   "metadata": {},
   "outputs": [
    {
     "data": {
      "text/plain": [
       "1"
      ]
     },
     "execution_count": 42,
     "metadata": {},
     "output_type": "execute_result"
    }
   ],
   "source": [
    "liste1.count(1)"
   ]
  },
  {
   "cell_type": "markdown",
   "metadata": {},
   "source": [
    "Und `index` gibt den ersten Index zurück, an dem ein gesuchter Wert ist (ähnlich wie `find` für Strings):"
   ]
  },
  {
   "cell_type": "code",
   "execution_count": 45,
   "metadata": {},
   "outputs": [
    {
     "data": {
      "text/plain": [
       "1"
      ]
     },
     "execution_count": 45,
     "metadata": {},
     "output_type": "execute_result"
    }
   ],
   "source": [
    "liste1.index(2)  # gibt den ersten Index zurück, in dem der Wert 2 ist"
   ]
  },
  {
   "cell_type": "markdown",
   "metadata": {},
   "source": [
    "Wenn ein Element nicht in der Liste enthalten ist, entsteht ein `ValueError`:"
   ]
  },
  {
   "cell_type": "code",
   "execution_count": 47,
   "metadata": {},
   "outputs": [
    {
     "ename": "ValueError",
     "evalue": "5 is not in list",
     "output_type": "error",
     "traceback": [
      "\u001b[0;31m---------------------------------------------------------------------------\u001b[0m",
      "\u001b[0;31mValueError\u001b[0m                                Traceback (most recent call last)",
      "\u001b[1;32m/Users/schmaett/code/wsen/hs23_code/hs23/notebooks/Unterricht/Woche_7/01_Unterricht.ipynb Cell 42\u001b[0m line \u001b[0;36m1\n\u001b[0;32m----> <a href='vscode-notebook-cell:/Users/schmaett/code/wsen/hs23_code/hs23/notebooks/Unterricht/Woche_7/01_Unterricht.ipynb#Y130sZmlsZQ%3D%3D?line=0'>1</a>\u001b[0m liste1\u001b[39m.\u001b[39;49mindex(\u001b[39m5\u001b[39;49m)\n",
      "\u001b[0;31mValueError\u001b[0m: 5 is not in list"
     ]
    }
   ],
   "source": [
    "liste1.index(5)"
   ]
  },
  {
   "cell_type": "markdown",
   "metadata": {},
   "source": [
    "Ausserdem gibt es zahlreiche Methoden, welche die Liste selbst verändern. All diese Methoden geben nichts zurück (also \"None\"). Wenn wir aber danach nachschauen, was in der Liste enthalten ist, sehen wir, dass sie verändert wurde. Ein wichtiges Beispiel ist `append`, welches ein neues Element hinten an die Liste anhängt:"
   ]
  },
  {
   "cell_type": "code",
   "execution_count": 62,
   "metadata": {},
   "outputs": [
    {
     "data": {
      "text/plain": [
       "[1, 2, 3, 4]"
      ]
     },
     "execution_count": 62,
     "metadata": {},
     "output_type": "execute_result"
    }
   ],
   "source": [
    "neue_liste = [1, 2, 3]\n",
    "neue_liste.append(4)\n",
    "neue_liste"
   ]
  },
  {
   "cell_type": "markdown",
   "metadata": {},
   "source": [
    "Man sagt auch, dass die Methode `append` die Liste \"in-place\" verändert. Dies ist nur möglich, weil Listen veränderbare (\"mutable\") Objekte sind.\n",
    "\n",
    "Man kann die Liste auch mit `reverse` umdrehen:"
   ]
  },
  {
   "cell_type": "code",
   "execution_count": 63,
   "metadata": {},
   "outputs": [
    {
     "data": {
      "text/plain": [
       "[4, 3, 2, 1]"
      ]
     },
     "execution_count": 63,
     "metadata": {},
     "output_type": "execute_result"
    }
   ],
   "source": [
    "neue_liste.reverse()\n",
    "neue_liste"
   ]
  },
  {
   "cell_type": "markdown",
   "metadata": {},
   "source": [
    "Und mit `sort` sortieren:"
   ]
  },
  {
   "cell_type": "code",
   "execution_count": 64,
   "metadata": {},
   "outputs": [
    {
     "data": {
      "text/plain": [
       "[1, 2, 3, 4]"
      ]
     },
     "execution_count": 64,
     "metadata": {},
     "output_type": "execute_result"
    }
   ],
   "source": [
    "neue_liste.sort()\n",
    "neue_liste"
   ]
  },
  {
   "cell_type": "markdown",
   "metadata": {},
   "source": [
    "Mit `remove` können wir Elemente entfernen. Dabei wird der mitgegebene Wert gesucht, und der erste entsprechende Eintrag gelöscht:"
   ]
  },
  {
   "cell_type": "code",
   "execution_count": 65,
   "metadata": {},
   "outputs": [
    {
     "data": {
      "text/plain": [
       "[1, 3, 1, 2, 3]"
      ]
     },
     "execution_count": 65,
     "metadata": {},
     "output_type": "execute_result"
    }
   ],
   "source": [
    "neue_liste2 = [1, 2, 3, 1, 2, 3]\n",
    "neue_liste2.remove(2)\n",
    "neue_liste2"
   ]
  },
  {
   "cell_type": "markdown",
   "metadata": {},
   "source": [
    "Bei all den Methoden, welche die Liste \"in-place\" verändern, muss man etwas aufpassen: Führen wir die Code-Zelle mehrmals aus, wird die Liste immer wieder verändert."
   ]
  },
  {
   "cell_type": "code",
   "execution_count": 69,
   "metadata": {},
   "outputs": [
    {
     "data": {
      "text/plain": [
       "[1, 2, 3, 4, 3, 3, 3, 3]"
      ]
     },
     "execution_count": 69,
     "metadata": {},
     "output_type": "execute_result"
    }
   ],
   "source": [
    "neue_liste.append(3)\n",
    "neue_liste"
   ]
  },
  {
   "cell_type": "markdown",
   "metadata": {},
   "source": [
    "### 1.7 Durch Listen iterieren\n",
    "Wie bei Strings können wir mit `for`-Loops auch schrittweise durch Listen durchiterieren. Dies sieht wie folgt aus:"
   ]
  },
  {
   "cell_type": "code",
   "execution_count": 70,
   "metadata": {},
   "outputs": [
    {
     "name": "stdout",
     "output_type": "stream",
     "text": [
      "a\n",
      "b\n",
      "c\n"
     ]
    }
   ],
   "source": [
    "beispiel = [\"a\", \"b\", \"c\"]\n",
    "for element in beispiel:\n",
    "    print(element)"
   ]
  },
  {
   "cell_type": "markdown",
   "metadata": {},
   "source": [
    "<br><br><br><br><br>\n",
    "<div class=\"exercise\">\n",
    "\n",
    "<img src=\"https://i.imgur.com/JyhBeDB.png\" class=\"exercise_image\" width=100>\n",
    "\n",
    "<span class=\"exercise_label\">**Aufgabe:**</span>\n",
    "\n",
    "Schreibe eine Funktion, welche aus einer Liste eine neue Liste macht, welche nur die geraden Zahlen enthält. \n",
    "\n",
    "Beispiel: \n",
    "`[1, 4, 5, 2]` wird zu `[4, 2]`\n",
    "\n",
    "</div>"
   ]
  },
  {
   "cell_type": "markdown",
   "metadata": {},
   "source": [
    "<div class=\"exercise\">\n",
    "\n",
    "<img src=\"https://i.imgur.com/JyhBeDB.png\" class=\"exercise_image\" width=100>\n",
    "\n",
    "<span class=\"exercise_label\">**Aufgabe:**</span>\n",
    "\n",
    "Wie können wir mit einem `while`-Loop durch eine Liste iterieren? Iteriere mit einem `while`-Loop durch die Liste `[1, 2, 3]` und gib mit `print` jedes Element aus.\n",
    "\n",
    "</div>"
   ]
  },
  {
   "cell_type": "markdown",
   "metadata": {},
   "source": [
    "### 1.8 Listen von Listen (... von Listen)\n",
    "\n",
    "Wie erwähnt können Listen beliebige Arten von Elementen enthalten. Insbesondere können Listen auch weitere Listen enthalten. Dadurch können wir beispielsweise Tabellen abspeichern. Hier ein Beispiel:"
   ]
  },
  {
   "cell_type": "code",
   "execution_count": 71,
   "metadata": {},
   "outputs": [],
   "source": [
    "tabelle = [\n",
    "    [1, 2, 3],\n",
    "    [4, 5, 6],\n",
    "    [7, 8, 9]\n",
    "]"
   ]
  },
  {
   "cell_type": "markdown",
   "metadata": {},
   "source": [
    "Wie können wir nun auf den dritten Eintrag in der zweiten Zeile zugreifen?\n",
    "\n",
    "Wir müssen dazu das Objekt zweimal indizieren. Mit `tabelle[1]` erhalten wir die ganze zweite Zeile:"
   ]
  },
  {
   "cell_type": "code",
   "execution_count": 72,
   "metadata": {},
   "outputs": [
    {
     "data": {
      "text/plain": [
       "[4, 5, 6]"
      ]
     },
     "execution_count": 72,
     "metadata": {},
     "output_type": "execute_result"
    }
   ],
   "source": [
    "tabelle[1]"
   ]
  },
  {
   "cell_type": "markdown",
   "metadata": {},
   "source": [
    "Um nun das dritte Element dieser Zeile zuzugreifen, schreiben wir folgendes:"
   ]
  },
  {
   "cell_type": "code",
   "execution_count": 73,
   "metadata": {},
   "outputs": [
    {
     "data": {
      "text/plain": [
       "6"
      ]
     },
     "execution_count": 73,
     "metadata": {},
     "output_type": "execute_result"
    }
   ],
   "source": [
    "tabelle[1][2]"
   ]
  },
  {
   "cell_type": "markdown",
   "metadata": {},
   "source": [
    "## 2. Tuples\n",
    "\n",
    "Tuples sind eine weitere wichtige Datenstruktur. Wie Listen können sie unterschiedliche Datentypen zusammen gruppieren. Der grosse Unterschied zu Listen ist jedoch, dass Tuples nicht veränderbar sind. \n",
    "\n",
    "### 2.1 Tuple-Definitionen\n",
    "\n",
    "Wir definieren ein Tuple wie folgt:"
   ]
  },
  {
   "cell_type": "code",
   "execution_count": 79,
   "metadata": {},
   "outputs": [
    {
     "data": {
      "text/plain": [
       "tuple"
      ]
     },
     "execution_count": 79,
     "metadata": {},
     "output_type": "execute_result"
    }
   ],
   "source": [
    "beispiel_tuple = (1, 2, 3)\n",
    "type(beispiel_tuple)"
   ]
  },
  {
   "cell_type": "markdown",
   "metadata": {},
   "source": [
    "Wir können die runden Klammern auch weglassen:"
   ]
  },
  {
   "cell_type": "code",
   "execution_count": 81,
   "metadata": {},
   "outputs": [
    {
     "data": {
      "text/plain": [
       "(1, 2, 3)"
      ]
     },
     "execution_count": 81,
     "metadata": {},
     "output_type": "execute_result"
    }
   ],
   "source": [
    "beispiel_tuple = 1, 2, 3\n",
    "beispiel_tuple"
   ]
  },
  {
   "cell_type": "markdown",
   "metadata": {},
   "source": [
    "Wenn wir ein Tuple mit nur einem Element erzeugen wollen, müssen wir dies wie folgt tun:"
   ]
  },
  {
   "cell_type": "code",
   "execution_count": 83,
   "metadata": {},
   "outputs": [
    {
     "data": {
      "text/plain": [
       "(1,)"
      ]
     },
     "execution_count": 83,
     "metadata": {},
     "output_type": "execute_result"
    }
   ],
   "source": [
    "ein_element = (1, )\n",
    "ein_element"
   ]
  },
  {
   "cell_type": "markdown",
   "metadata": {},
   "source": [
    "Denn wenn wir das Komma weglassen, enthält die Variable einfach die Zahl selbst, nicht das Tuple:"
   ]
  },
  {
   "cell_type": "code",
   "execution_count": 84,
   "metadata": {},
   "outputs": [
    {
     "data": {
      "text/plain": [
       "1"
      ]
     },
     "execution_count": 84,
     "metadata": {},
     "output_type": "execute_result"
    }
   ],
   "source": [
    "ein_element = (1)\n",
    "ein_element"
   ]
  },
  {
   "cell_type": "markdown",
   "metadata": {},
   "source": [
    "Mit der Funktion `tuple` können wir andere Datentypen in Tuples umwandeln:"
   ]
  },
  {
   "cell_type": "code",
   "execution_count": 90,
   "metadata": {},
   "outputs": [
    {
     "data": {
      "text/plain": [
       "(0, 1, 2, 3, 4)"
      ]
     },
     "execution_count": 90,
     "metadata": {},
     "output_type": "execute_result"
    }
   ],
   "source": [
    "tuple(range(5))"
   ]
  },
  {
   "cell_type": "code",
   "execution_count": 91,
   "metadata": {},
   "outputs": [
    {
     "data": {
      "text/plain": [
       "('h', 'a', 'l', 'l', 'o')"
      ]
     },
     "execution_count": 91,
     "metadata": {},
     "output_type": "execute_result"
    }
   ],
   "source": [
    "tuple(\"hallo\")"
   ]
  },
  {
   "cell_type": "code",
   "execution_count": 92,
   "metadata": {},
   "outputs": [
    {
     "data": {
      "text/plain": [
       "(1, 2, 3)"
      ]
     },
     "execution_count": 92,
     "metadata": {},
     "output_type": "execute_result"
    }
   ],
   "source": [
    "tuple([1, 2, 3])"
   ]
  },
  {
   "cell_type": "markdown",
   "metadata": {},
   "source": [
    "### 2.2 Indizierung\n",
    "Die Indizierung funktioniert auch gleich wie bei Listen:"
   ]
  },
  {
   "cell_type": "code",
   "execution_count": 88,
   "metadata": {},
   "outputs": [
    {
     "data": {
      "text/plain": [
       "3"
      ]
     },
     "execution_count": 88,
     "metadata": {},
     "output_type": "execute_result"
    }
   ],
   "source": [
    "beispiel_tuple[2]"
   ]
  },
  {
   "cell_type": "code",
   "execution_count": 94,
   "metadata": {},
   "outputs": [
    {
     "data": {
      "text/plain": [
       "(1, 2)"
      ]
     },
     "execution_count": 94,
     "metadata": {},
     "output_type": "execute_result"
    }
   ],
   "source": [
    "beispiel_tuple[:2]"
   ]
  },
  {
   "cell_type": "markdown",
   "metadata": {},
   "source": [
    "Doch wie erwähnt sind Tuples nicht veränderbar. Daher können wir für Tuples folgendes nicht tun:"
   ]
  },
  {
   "cell_type": "code",
   "execution_count": 93,
   "metadata": {},
   "outputs": [
    {
     "ename": "TypeError",
     "evalue": "'tuple' object does not support item assignment",
     "output_type": "error",
     "traceback": [
      "\u001b[0;31m---------------------------------------------------------------------------\u001b[0m",
      "\u001b[0;31mTypeError\u001b[0m                                 Traceback (most recent call last)",
      "\u001b[1;32m/Users/schmaett/code/wsen/hs23_code/hs23/notebooks/Unterricht/Woche_7/01_Unterricht.ipynb Cell 96\u001b[0m line \u001b[0;36m1\n\u001b[0;32m----> <a href='vscode-notebook-cell:/Users/schmaett/code/wsen/hs23_code/hs23/notebooks/Unterricht/Woche_7/01_Unterricht.ipynb#Y305sZmlsZQ%3D%3D?line=0'>1</a>\u001b[0m beispiel_tuple[\u001b[39m2\u001b[39;49m] \u001b[39m=\u001b[39m \u001b[39m5\u001b[39m\n",
      "\u001b[0;31mTypeError\u001b[0m: 'tuple' object does not support item assignment"
     ]
    }
   ],
   "source": [
    "beispiel_tuple[2] = 5"
   ]
  },
  {
   "cell_type": "markdown",
   "metadata": {},
   "source": [
    "### 2.3 Funktionen, Operatoren und Methoden\n",
    "`+`, `*` und `in` verhalten sich genau gleich wie bei Listen:"
   ]
  },
  {
   "cell_type": "code",
   "execution_count": 95,
   "metadata": {},
   "outputs": [
    {
     "data": {
      "text/plain": [
       "(1, 2, 3, 4, 5)"
      ]
     },
     "execution_count": 95,
     "metadata": {},
     "output_type": "execute_result"
    }
   ],
   "source": [
    "(1, 2, 3) + (4, 5)"
   ]
  },
  {
   "cell_type": "code",
   "execution_count": 96,
   "metadata": {},
   "outputs": [
    {
     "data": {
      "text/plain": [
       "(1, 2, 3, 1, 2, 3)"
      ]
     },
     "execution_count": 96,
     "metadata": {},
     "output_type": "execute_result"
    }
   ],
   "source": [
    "(1, 2, 3) * 2"
   ]
  },
  {
   "cell_type": "code",
   "execution_count": 97,
   "metadata": {},
   "outputs": [
    {
     "data": {
      "text/plain": [
       "False"
      ]
     },
     "execution_count": 97,
     "metadata": {},
     "output_type": "execute_result"
    }
   ],
   "source": [
    "5 in (1, 2, 3)"
   ]
  },
  {
   "cell_type": "markdown",
   "metadata": {},
   "source": [
    "Wir können auch mit `==` vergleichen. Wie bei Listen kommt es auf die Reihenfolge drauf an, Tuples sind **ordered**."
   ]
  },
  {
   "cell_type": "code",
   "execution_count": 10,
   "metadata": {},
   "outputs": [
    {
     "data": {
      "text/plain": [
       "False"
      ]
     },
     "execution_count": 10,
     "metadata": {},
     "output_type": "execute_result"
    }
   ],
   "source": [
    "(1, 2, 3) == (3, 2, 1)"
   ]
  },
  {
   "cell_type": "markdown",
   "metadata": {},
   "source": [
    "Genauso für die Funktionen `sum`, `max`, `min`, usw."
   ]
  },
  {
   "cell_type": "code",
   "execution_count": 99,
   "metadata": {},
   "outputs": [
    {
     "data": {
      "text/plain": [
       "6"
      ]
     },
     "execution_count": 99,
     "metadata": {},
     "output_type": "execute_result"
    }
   ],
   "source": [
    "bsp = (1, 2, 3)\n",
    "sum(bsp)"
   ]
  },
  {
   "cell_type": "markdown",
   "metadata": {},
   "source": [
    "Und auch die Methoden `count` und `index` funktionieren gleich:"
   ]
  },
  {
   "cell_type": "code",
   "execution_count": 101,
   "metadata": {},
   "outputs": [
    {
     "data": {
      "text/plain": [
       "2"
      ]
     },
     "execution_count": 101,
     "metadata": {},
     "output_type": "execute_result"
    }
   ],
   "source": [
    "(1, 2, 3, 1, 2, 3).count(2)  # zählt, wie häufig 2 vorkommt"
   ]
  },
  {
   "cell_type": "code",
   "execution_count": 103,
   "metadata": {},
   "outputs": [
    {
     "data": {
      "text/plain": [
       "1"
      ]
     },
     "execution_count": 103,
     "metadata": {},
     "output_type": "execute_result"
    }
   ],
   "source": [
    "(1, 2, 3, 1, 2, 3).index(2)  # gibt den Index des ersten Eintrags mit Wert 2 zurück"
   ]
  },
  {
   "cell_type": "markdown",
   "metadata": {},
   "source": [
    "Wir können durch Tuples in einem `for`-Loop iterieren:"
   ]
  },
  {
   "cell_type": "code",
   "execution_count": 104,
   "metadata": {},
   "outputs": [
    {
     "name": "stdout",
     "output_type": "stream",
     "text": [
      "1\n",
      "2\n",
      "3\n"
     ]
    }
   ],
   "source": [
    "beispiel_tuple = (1, 2, 3)\n",
    "for element in beispiel_tuple:\n",
    "    print(element)"
   ]
  },
  {
   "cell_type": "markdown",
   "metadata": {},
   "source": [
    "Wir haben in diesem Kurs bereits durch tuples iteriert, als wir `for`-Loops kennengelernt haben:"
   ]
  },
  {
   "cell_type": "code",
   "execution_count": 2,
   "metadata": {},
   "outputs": [
    {
     "name": "stdout",
     "output_type": "stream",
     "text": [
      "0\n",
      "1\n",
      "2\n",
      "3\n",
      "4\n"
     ]
    }
   ],
   "source": [
    "for i in 0, 1, 2, 3, 4:  # 0, 1, 2, 3, 4 ist ein Tuple\n",
    "    print(i)"
   ]
  },
  {
   "cell_type": "markdown",
   "metadata": {},
   "source": [
    "### 2.4 In Funktionen Tuples zurückgeben und entpacken\n",
    "\n",
    "Eine der wichtigsten Anwendungen von Tuples ist bei der Funktionsrückgabe: Und zwar, wenn wir in einer Funktion mehrere Resultate zurückgeben wollen. Wir können dies wie folgt tun:"
   ]
  },
  {
   "cell_type": "code",
   "execution_count": 5,
   "metadata": {},
   "outputs": [],
   "source": [
    "def nach_namen_fragen():\n",
    "    vorname = input(\"Wie ist dein Vorname?\")\n",
    "    nachname = input(\"Wie ist dein Nachname?\")\n",
    "    return vorname, nachname  # wir geben ein Tuple von mehreren Resultaten zurück"
   ]
  },
  {
   "cell_type": "code",
   "execution_count": 8,
   "metadata": {},
   "outputs": [
    {
     "data": {
      "text/plain": [
       "('M', 'M')"
      ]
     },
     "execution_count": 8,
     "metadata": {},
     "output_type": "execute_result"
    }
   ],
   "source": [
    "name = nach_namen_fragen()\n",
    "name"
   ]
  },
  {
   "cell_type": "markdown",
   "metadata": {},
   "source": [
    "Nun haben wir das Resultat als Tuple. Meist wollen wir aber für das Resultat in neuen, einzelnen Variablen abspeichern. Dazu können wir das Tuple \"entpacken\"."
   ]
  },
  {
   "cell_type": "code",
   "execution_count": 11,
   "metadata": {},
   "outputs": [
    {
     "name": "stdout",
     "output_type": "stream",
     "text": [
      "M\n",
      "M\n"
     ]
    }
   ],
   "source": [
    "vorname, nachname = name\n",
    "print(vorname)\n",
    "print(nachname)"
   ]
  },
  {
   "cell_type": "markdown",
   "metadata": {},
   "source": [
    "Das erste Element des Tuples wird in die erste neue Variable gespeichert, das zweite Element in die zweite neue Variable. Dadurch wird das Tuple \"entpackt\". Wir können dies auch direkt tun:"
   ]
  },
  {
   "cell_type": "code",
   "execution_count": 14,
   "metadata": {},
   "outputs": [
    {
     "name": "stdout",
     "output_type": "stream",
     "text": [
      "Matthias\n",
      "Minder\n"
     ]
    }
   ],
   "source": [
    "vorname, nachname = nach_namen_fragen()\n",
    "\n",
    "print(vorname)\n",
    "print(nachname)"
   ]
  },
  {
   "cell_type": "markdown",
   "metadata": {},
   "source": [
    "<div class=\"exercise\">\n",
    "\n",
    "<img src=\"https://i.imgur.com/JyhBeDB.png\" class=\"exercise_image\" width=100>\n",
    "\n",
    "<span class=\"exercise_label\">**Aufgabe:**</span>\n",
    "\n",
    "Schreibe eine Funktion, welche zuerst nach dem Namen einer Person fragt, und anschliessend nach dem Alter. Die Funktion gibt dann Name und Alter als Tuple zurück. Rufe die Funktion auf, und speichere das Resultat in den Variablen «name» und «alter»\n",
    "\n",
    "</div>"
   ]
  },
  {
   "cell_type": "markdown",
   "metadata": {},
   "source": [
    "### 2.5 Entpacken mit \"starred expressions\"\n",
    "\n",
    "Um Tuples so zu entpacken, müssen wir bereits im Voraus wissen, wie viele Elemente ein Tuple hat. Ansonsten gibt es folgenden Fehler:"
   ]
  },
  {
   "cell_type": "code",
   "execution_count": 15,
   "metadata": {},
   "outputs": [
    {
     "ename": "ValueError",
     "evalue": "not enough values to unpack (expected 3, got 2)",
     "output_type": "error",
     "traceback": [
      "\u001b[0;31m---------------------------------------------------------------------------\u001b[0m",
      "\u001b[0;31mValueError\u001b[0m                                Traceback (most recent call last)",
      "\u001b[1;32m/Users/schmaett/code/wsen/hs23_code/hs23/notebooks/Unterricht/Woche_7/01_Unterricht.ipynb Cell 119\u001b[0m line \u001b[0;36m2\n\u001b[1;32m      <a href='vscode-notebook-cell:/Users/schmaett/code/wsen/hs23_code/hs23/notebooks/Unterricht/Woche_7/01_Unterricht.ipynb#Y232sZmlsZQ%3D%3D?line=0'>1</a>\u001b[0m \u001b[39m# Fehlerhaftes Entpacken\u001b[39;00m\n\u001b[0;32m----> <a href='vscode-notebook-cell:/Users/schmaett/code/wsen/hs23_code/hs23/notebooks/Unterricht/Woche_7/01_Unterricht.ipynb#Y232sZmlsZQ%3D%3D?line=1'>2</a>\u001b[0m a, b, c \u001b[39m=\u001b[39m (\u001b[39m1\u001b[39m, \u001b[39m2\u001b[39m)\n",
      "\u001b[0;31mValueError\u001b[0m: not enough values to unpack (expected 3, got 2)"
     ]
    }
   ],
   "source": [
    "# Fehlerhaftes Entpacken\n",
    "a, b, c = (1, 2)"
   ]
  },
  {
   "cell_type": "markdown",
   "metadata": {},
   "source": [
    "Wenn wir dies nicht wissen, können wir Tuples mit einer \"starred expression\" entpacken. Dies sieht wie folgt aus: "
   ]
  },
  {
   "cell_type": "code",
   "execution_count": 24,
   "metadata": {},
   "outputs": [],
   "source": [
    "some_tuple = 1, 2, 3, 4, 5\n",
    "a, *b = some_tuple"
   ]
  },
  {
   "cell_type": "markdown",
   "metadata": {},
   "source": [
    "Das erste Element wurde nun in `a` gespeichert, alle anderen Elemente in `b` (und zwar als Liste). Diejenige Variable, welche alles andere enthalten soll, wird mit einem `*` gekennzeichnet. Sie wird als \"starred expression\" bezeichnet."
   ]
  },
  {
   "cell_type": "code",
   "execution_count": 30,
   "metadata": {},
   "outputs": [
    {
     "data": {
      "text/plain": [
       "1"
      ]
     },
     "execution_count": 30,
     "metadata": {},
     "output_type": "execute_result"
    }
   ],
   "source": [
    "a"
   ]
  },
  {
   "cell_type": "code",
   "execution_count": 31,
   "metadata": {},
   "outputs": [
    {
     "data": {
      "text/plain": [
       "[2, 3, 4]"
      ]
     },
     "execution_count": 31,
     "metadata": {},
     "output_type": "execute_result"
    }
   ],
   "source": [
    "b"
   ]
  },
  {
   "cell_type": "markdown",
   "metadata": {},
   "source": [
    "Die Variable mit `*`, welches die restlichen Elemente auffangen soll, kann am Anfang, in der Mitte oder am Ende sein:"
   ]
  },
  {
   "cell_type": "code",
   "execution_count": 32,
   "metadata": {},
   "outputs": [
    {
     "name": "stdout",
     "output_type": "stream",
     "text": [
      "a: [1, 2, 3, 4]\n",
      "b: 5\n"
     ]
    }
   ],
   "source": [
    "*a, b = some_tuple\n",
    "print(\"a:\", a)\n",
    "print(\"b:\", b)"
   ]
  },
  {
   "cell_type": "code",
   "execution_count": 33,
   "metadata": {},
   "outputs": [
    {
     "name": "stdout",
     "output_type": "stream",
     "text": [
      "a: 1\n",
      "b: [2, 3, 4]\n",
      "c: 5\n"
     ]
    }
   ],
   "source": [
    "a, *b, c = some_tuple\n",
    "print(\"a:\", a)\n",
    "print(\"b:\", b)\n",
    "print(\"c:\", c)"
   ]
  },
  {
   "cell_type": "markdown",
   "metadata": {},
   "source": [
    "Wir können nur eine Variable mit `*` pro Zuweisung haben. Ansonsten ist das Verhalten nicht klar definiert, und wir erhalten einen Fehler:"
   ]
  },
  {
   "cell_type": "code",
   "execution_count": 34,
   "metadata": {},
   "outputs": [
    {
     "ename": "SyntaxError",
     "evalue": "multiple starred expressions in assignment (1208965538.py, line 1)",
     "output_type": "error",
     "traceback": [
      "\u001b[0;36m  Cell \u001b[0;32mIn[34], line 1\u001b[0;36m\u001b[0m\n\u001b[0;31m    *a, *b = some_tuple\u001b[0m\n\u001b[0m    ^\u001b[0m\n\u001b[0;31mSyntaxError\u001b[0m\u001b[0;31m:\u001b[0m multiple starred expressions in assignment\n"
     ]
    }
   ],
   "source": [
    "*a, *b = some_tuple"
   ]
  },
  {
   "cell_type": "markdown",
   "metadata": {},
   "source": [
    "<br><br><br>\n",
    "\n",
    "<div class=\"exercise\">\n",
    "\n",
    "<img src=\"https://i.imgur.com/JyhBeDB.png\" class=\"exercise_image\" width=100>\n",
    "\n",
    "<span class=\"exercise_label\">**Aufgabe:**</span>\n",
    "Für die nachfolgenden Tuple-Entpackungen, entscheide ob sie zulässig sind und was in die Variablen abgespeichert wird.\n",
    "\n",
    "```python\n",
    "beispiel = (\"a\", \"b\", \"c\", \"d\", \"e\")\n",
    "\n",
    "a, b, c, d, e = beispiel\n",
    "a, b, c, d = beispiel\n",
    "*a, b = beispiel\n",
    "a, *b, c = beispiel\n",
    "*a, b, *c = beispiel\n",
    "\n",
    "```\n",
    "\n",
    "</div>"
   ]
  },
  {
   "cell_type": "markdown",
   "metadata": {},
   "source": [
    "## 3. Dictionaries\n",
    "\n",
    "Dictionaries sind veränderliche Objekte, welche wie ein Nachschlagewerk aufgebaut sind: Wir können einen Wert nachschlagen (\"key\"), und erhalten einen Wert zurück (\"value\"). \n",
    "\n",
    "### 3.1 Definition, Abfrage und Veränderung\n",
    "Dictionaries haben type `dict` und werden wie folgt definiert:"
   ]
  },
  {
   "cell_type": "code",
   "execution_count": 1,
   "metadata": {},
   "outputs": [],
   "source": [
    "alter = {\"Anna\": 41, \"Marta\": 23, \"Adelheid\": 102}"
   ]
  },
  {
   "cell_type": "markdown",
   "metadata": {},
   "source": [
    "Dabei bezeichnen wir die Namen (\"Anna\", etc.) als \"key\", das angegebene Alter ist der \"value\". Wir können nun mit eckigen Klammern einen bestimmten Key nachschlagen, und erhalten den Value zurück:"
   ]
  },
  {
   "cell_type": "code",
   "execution_count": 2,
   "metadata": {},
   "outputs": [
    {
     "data": {
      "text/plain": [
       "41"
      ]
     },
     "execution_count": 2,
     "metadata": {},
     "output_type": "execute_result"
    }
   ],
   "source": [
    "alter[\"Anna\"]"
   ]
  },
  {
   "cell_type": "markdown",
   "metadata": {},
   "source": [
    "Wir können die Werte verändern:"
   ]
  },
  {
   "cell_type": "code",
   "execution_count": 4,
   "metadata": {},
   "outputs": [
    {
     "data": {
      "text/plain": [
       "42"
      ]
     },
     "execution_count": 4,
     "metadata": {},
     "output_type": "execute_result"
    }
   ],
   "source": [
    "alter[\"Anna\"] = 42\n",
    "alter[\"Anna\"]"
   ]
  },
  {
   "cell_type": "markdown",
   "metadata": {},
   "source": [
    "Wir können neue key-value Paare hinzufügen:"
   ]
  },
  {
   "cell_type": "code",
   "execution_count": 5,
   "metadata": {},
   "outputs": [
    {
     "data": {
      "text/plain": [
       "53"
      ]
     },
     "execution_count": 5,
     "metadata": {},
     "output_type": "execute_result"
    }
   ],
   "source": [
    "alter[\"Bettina\"] = 53\n",
    "alter[\"Bettina\"]"
   ]
  },
  {
   "cell_type": "markdown",
   "metadata": {},
   "source": [
    "Aber wenn wir keys abfragen, welche nicht im `dict` enthalten sind, erhalten wir einen `KeyError`:"
   ]
  },
  {
   "cell_type": "code",
   "execution_count": 6,
   "metadata": {},
   "outputs": [
    {
     "ename": "KeyError",
     "evalue": "'Fritz'",
     "output_type": "error",
     "traceback": [
      "\u001b[0;31m---------------------------------------------------------------------------\u001b[0m",
      "\u001b[0;31mKeyError\u001b[0m                                  Traceback (most recent call last)",
      "\u001b[1;32m/Users/schmaett/code/wsen/hs23_code/hs23/notebooks/Unterricht/Woche_7/01_Unterricht.ipynb Cell 141\u001b[0m line \u001b[0;36m1\n\u001b[0;32m----> <a href='vscode-notebook-cell:/Users/schmaett/code/wsen/hs23_code/hs23/notebooks/Unterricht/Woche_7/01_Unterricht.ipynb#Y303sZmlsZQ%3D%3D?line=0'>1</a>\u001b[0m alter[\u001b[39m\"\u001b[39;49m\u001b[39mFritz\u001b[39;49m\u001b[39m\"\u001b[39;49m]\n",
      "\u001b[0;31mKeyError\u001b[0m: 'Fritz'"
     ]
    }
   ],
   "source": [
    "alter[\"Fritz\"]"
   ]
  },
  {
   "cell_type": "markdown",
   "metadata": {},
   "source": [
    "### 3.2 Was dürfen wir alles in einem `dict` speichern?\n",
    "\n",
    "Als Value sind sämtliche Datentypen zulässig. Wir können zum Beispiel einen `dict` erstellen, welche für ein Rezept alle nötigen Zutaten als Liste speichert:"
   ]
  },
  {
   "cell_type": "code",
   "execution_count": 32,
   "metadata": {},
   "outputs": [],
   "source": [
    "zutaten = {\n",
    "    \"Risotto\": [\"Salz\", \"Risottoreis\", \"Weisswein\", \"Parmesan\"],\n",
    "    \"Kürbissuppe\": [\"Kürbis\", \"Bouillon\", \"Rahm\", \"Ingwer\", \"Currypulver\"]\n",
    "}"
   ]
  },
  {
   "cell_type": "code",
   "execution_count": 33,
   "metadata": {},
   "outputs": [
    {
     "data": {
      "text/plain": [
       "['Salz', 'Risottoreis', 'Weisswein', 'Parmesan']"
      ]
     },
     "execution_count": 33,
     "metadata": {},
     "output_type": "execute_result"
    }
   ],
   "source": [
    "zutaten[\"Risotto\"]"
   ]
  },
  {
   "cell_type": "markdown",
   "metadata": {},
   "source": [
    "Wir können diese Listen auch beliebig verändern:"
   ]
  },
  {
   "cell_type": "code",
   "execution_count": 34,
   "metadata": {},
   "outputs": [
    {
     "data": {
      "text/plain": [
       "{'Risotto': ['Salz', 'Risottoreis', 'Weisswein', 'Parmesan', 'Safran'],\n",
       " 'Kürbissuppe': ['Kürbis', 'Bouillon', 'Rahm', 'Ingwer', 'Currypulver']}"
      ]
     },
     "execution_count": 34,
     "metadata": {},
     "output_type": "execute_result"
    }
   ],
   "source": [
    "zutaten[\"Risotto\"].append(\"Safran\")\n",
    "zutaten"
   ]
  },
  {
   "cell_type": "markdown",
   "metadata": {},
   "source": [
    "Bei den Keys haben wir allerdings eine Einschränkung: Diese dürfen nur Datentypen enthalten, welche nicht veränderbar sind. Wieso? Stellt euch vor, folgendes wäre zulässig:\n",
    "```python\n",
    "a = [\"a\"]\n",
    "wrong_dict = {\n",
    "    a: \"b\"            # dies gibt \"im echten Leben\" einen Fehler\n",
    "}\n",
    "```\n",
    "Wenn wir nun den Key verändern, ist nicht mehr klar, was passieren sollte:\n",
    "```python\n",
    "a.append(\"b\")\n",
    "print(wrong_dict[[\"a\"]])  # was sollte hier passieren? Unklar, daher ist dies nicht zulässig.\n",
    "```\n",
    "Um diese Unklarheit zu verhindern, erlaubt es Python nur, unveränderbare Elemente als Key zu verwenden. Sonst gibt es uns einen Fehler:"
   ]
  },
  {
   "cell_type": "code",
   "execution_count": 35,
   "metadata": {},
   "outputs": [
    {
     "ename": "TypeError",
     "evalue": "unhashable type: 'list'",
     "output_type": "error",
     "traceback": [
      "\u001b[0;31m---------------------------------------------------------------------------\u001b[0m",
      "\u001b[0;31mTypeError\u001b[0m                                 Traceback (most recent call last)",
      "\u001b[1;32m/Users/schmaett/code/wsen/hs23_code/hs23/notebooks/Unterricht/Woche_7/01_Unterricht.ipynb Cell 152\u001b[0m line \u001b[0;36m1\n\u001b[0;32m----> <a href='vscode-notebook-cell:/Users/schmaett/code/wsen/hs23_code/hs23/notebooks/Unterricht/Woche_7/01_Unterricht.ipynb#Y424sZmlsZQ%3D%3D?line=0'>1</a>\u001b[0m dictionary \u001b[39m=\u001b[39m {\n\u001b[1;32m      <a href='vscode-notebook-cell:/Users/schmaett/code/wsen/hs23_code/hs23/notebooks/Unterricht/Woche_7/01_Unterricht.ipynb#Y424sZmlsZQ%3D%3D?line=1'>2</a>\u001b[0m     [\u001b[39m\"\u001b[39m\u001b[39ma\u001b[39m\u001b[39m\"\u001b[39m]: \u001b[39m\"\u001b[39m\u001b[39mb\u001b[39m\u001b[39m\"\u001b[39m\n\u001b[1;32m      <a href='vscode-notebook-cell:/Users/schmaett/code/wsen/hs23_code/hs23/notebooks/Unterricht/Woche_7/01_Unterricht.ipynb#Y424sZmlsZQ%3D%3D?line=2'>3</a>\u001b[0m }\n",
      "\u001b[0;31mTypeError\u001b[0m: unhashable type: 'list'"
     ]
    }
   ],
   "source": [
    "dictionary = {\n",
    "    [\"a\"]: \"b\"\n",
    "}"
   ]
  },
  {
   "cell_type": "markdown",
   "metadata": {},
   "source": [
    "Der Fehler sagt uns, `list` sei \"unhashable\", und kann deswegen nicht als Key verwendet werden. Ob etwas \"hashable\" ist oder nicht hängt damit zusammen, ob ein Objekt veränderbar ist.\n",
    "\n",
    "Wenn wir aber ein `dict` erstellen wollen, welche sowas wie eine Liste als Key verwenden, können wir Tuples verwenden. Diese sind nicht veränderbar und daher erlaubt:"
   ]
  },
  {
   "cell_type": "code",
   "execution_count": 38,
   "metadata": {},
   "outputs": [
    {
     "data": {
      "text/plain": [
       "4"
      ]
     },
     "execution_count": 38,
     "metadata": {},
     "output_type": "execute_result"
    }
   ],
   "source": [
    "dictionary = {\n",
    "    (\"a\", \"b\"): 4,\n",
    "    (\"c\", \"d\"): 8\n",
    "}\n",
    "\n",
    "# Abfrage\n",
    "dictionary[(\"a\", \"b\")]"
   ]
  },
  {
   "cell_type": "markdown",
   "metadata": {},
   "source": [
    "### 3.3 Elemente löschen\n",
    "Falls wir ein Element löschen wollen, können wir dies mit dem Stichwort `del` tun:"
   ]
  },
  {
   "cell_type": "code",
   "execution_count": 8,
   "metadata": {},
   "outputs": [
    {
     "ename": "KeyError",
     "evalue": "'Bettina'",
     "output_type": "error",
     "traceback": [
      "\u001b[0;31m---------------------------------------------------------------------------\u001b[0m",
      "\u001b[0;31mKeyError\u001b[0m                                  Traceback (most recent call last)",
      "\u001b[1;32m/Users/schmaett/code/wsen/hs23_code/hs23/notebooks/Unterricht/Woche_7/01_Unterricht.ipynb Cell 143\u001b[0m line \u001b[0;36m1\n\u001b[0;32m----> <a href='vscode-notebook-cell:/Users/schmaett/code/wsen/hs23_code/hs23/notebooks/Unterricht/Woche_7/01_Unterricht.ipynb#Y304sZmlsZQ%3D%3D?line=0'>1</a>\u001b[0m \u001b[39mdel\u001b[39;00m alter[\u001b[39m\"\u001b[39m\u001b[39mBettina\u001b[39m\u001b[39m\"\u001b[39m]  \u001b[39m# Löscht den Eintrag für Wert \"Bettina\"\u001b[39;00m\n\u001b[1;32m      <a href='vscode-notebook-cell:/Users/schmaett/code/wsen/hs23_code/hs23/notebooks/Unterricht/Woche_7/01_Unterricht.ipynb#Y304sZmlsZQ%3D%3D?line=1'>2</a>\u001b[0m alter[\u001b[39m\"\u001b[39m\u001b[39mBettina\u001b[39m\u001b[39m\"\u001b[39m]\n",
      "\u001b[0;31mKeyError\u001b[0m: 'Bettina'"
     ]
    }
   ],
   "source": [
    "del alter[\"Bettina\"]  # Löscht den Eintrag für Wert \"Bettina\"\n",
    "alter[\"Bettina\"]"
   ]
  },
  {
   "cell_type": "markdown",
   "metadata": {},
   "source": [
    "Wir können Elemente ebenfalls mit der Methode `pop` entfernen. Diese gibt den dazugehörige Wert noch ein letztes mal zurück, bevor er entfernt wird:"
   ]
  },
  {
   "cell_type": "code",
   "execution_count": null,
   "metadata": {},
   "outputs": [],
   "source": [
    "alter[\"Bettina\"] = 13            # wir fügen das Alter wieder hinzu\n",
    "rueckgabe = alter.pop(\"Bettina\")\n",
    "print(\"Rückgabe:\", rueckgabe)    # pop hat den Wert zurückgegeben\n",
    "alter[\"Bettina\"]                 # aber der Eintrag wurde durch pop entfernt"
   ]
  },
  {
   "cell_type": "markdown",
   "metadata": {},
   "source": [
    "Mit der Methode `clear` löschen wir alle Elemente:"
   ]
  },
  {
   "cell_type": "code",
   "execution_count": 16,
   "metadata": {},
   "outputs": [
    {
     "data": {
      "text/plain": [
       "{}"
      ]
     },
     "execution_count": 16,
     "metadata": {},
     "output_type": "execute_result"
    }
   ],
   "source": [
    "alter.clear()\n",
    "alter  # der dict ist leer"
   ]
  },
  {
   "cell_type": "markdown",
   "metadata": {},
   "source": [
    "### 3.4 Operationen und Methoden von `dict`-Objekten\n",
    "Wir können zwei `dict`-Objekte mit `==` vergleichen. Dabei wird überprüft, ob die zwei Dictionaries die gleichen key-value-Paare enthalten. Auf die Reihenfolge kommt es nicht an, Dictionaries sind **unordered**."
   ]
  },
  {
   "cell_type": "code",
   "execution_count": 11,
   "metadata": {},
   "outputs": [
    {
     "data": {
      "text/plain": [
       "True"
      ]
     },
     "execution_count": 11,
     "metadata": {},
     "output_type": "execute_result"
    }
   ],
   "source": [
    "{\"a\": 1, \"b\": 2} == {\"b\": 2, \"a\": 1}"
   ]
  },
  {
   "cell_type": "markdown",
   "metadata": {},
   "source": [
    "Wir können mit `in` überprüfen, ob ein bestimmter Key im Dictionary enthalten ist (auf den Value wird nicht geachtet):"
   ]
  },
  {
   "cell_type": "code",
   "execution_count": 12,
   "metadata": {},
   "outputs": [
    {
     "data": {
      "text/plain": [
       "True"
      ]
     },
     "execution_count": 12,
     "metadata": {},
     "output_type": "execute_result"
    }
   ],
   "source": [
    "\"a\" in {\"a\": 1, \"b\": 2}"
   ]
  },
  {
   "cell_type": "code",
   "execution_count": 13,
   "metadata": {},
   "outputs": [
    {
     "data": {
      "text/plain": [
       "False"
      ]
     },
     "execution_count": 13,
     "metadata": {},
     "output_type": "execute_result"
    }
   ],
   "source": [
    "\"c\" in {\"a\": 1, \"b\": 2}"
   ]
  },
  {
   "cell_type": "markdown",
   "metadata": {},
   "source": [
    "Mit `update` können wir die Elemente eines zweiten Dictionaries dem Ersten hinzufügen:"
   ]
  },
  {
   "cell_type": "code",
   "execution_count": 17,
   "metadata": {},
   "outputs": [],
   "source": [
    "dict1 = {1: \"a\", 2: \"b\"}\n",
    "dict2 = {3: \"c\", 4: \"d\"}\n",
    "dict1.update(dict2)"
   ]
  },
  {
   "cell_type": "code",
   "execution_count": 18,
   "metadata": {},
   "outputs": [
    {
     "data": {
      "text/plain": [
       "{1: 'a', 2: 'b', 3: 'c', 4: 'd'}"
      ]
     },
     "execution_count": 18,
     "metadata": {},
     "output_type": "execute_result"
    }
   ],
   "source": [
    "dict1"
   ]
  },
  {
   "cell_type": "markdown",
   "metadata": {},
   "source": [
    "Mit `get` können wir einen Wert abfragen. Im Unterschied zur Abfrage mit den eckigen Klammern geben wir in einem zweiten Argument mit, was zurückgegeben werden soll, wenn der Key nicht enthalten ist."
   ]
  },
  {
   "cell_type": "code",
   "execution_count": 20,
   "metadata": {},
   "outputs": [
    {
     "data": {
      "text/plain": [
       "'nicht enthalten'"
      ]
     },
     "execution_count": 20,
     "metadata": {},
     "output_type": "execute_result"
    }
   ],
   "source": [
    "dict1.get(5, \"nicht enthalten\")"
   ]
  },
  {
   "cell_type": "markdown",
   "metadata": {},
   "source": [
    "Zum Vergleich: Dies würde mit den eckigen Klammern einen Key-Error verursachen:"
   ]
  },
  {
   "cell_type": "code",
   "execution_count": 21,
   "metadata": {},
   "outputs": [
    {
     "ename": "KeyError",
     "evalue": "5",
     "output_type": "error",
     "traceback": [
      "\u001b[0;31m---------------------------------------------------------------------------\u001b[0m",
      "\u001b[0;31mKeyError\u001b[0m                                  Traceback (most recent call last)",
      "\u001b[1;32m/Users/schmaett/code/wsen/hs23_code/hs23/notebooks/Unterricht/Woche_7/01_Unterricht.ipynb Cell 163\u001b[0m line \u001b[0;36m1\n\u001b[0;32m----> <a href='vscode-notebook-cell:/Users/schmaett/code/wsen/hs23_code/hs23/notebooks/Unterricht/Woche_7/01_Unterricht.ipynb#Y345sZmlsZQ%3D%3D?line=0'>1</a>\u001b[0m dict1[\u001b[39m5\u001b[39;49m]\n",
      "\u001b[0;31mKeyError\u001b[0m: 5"
     ]
    }
   ],
   "source": [
    "dict1[5]"
   ]
  },
  {
   "cell_type": "markdown",
   "metadata": {},
   "source": [
    "### 3.5 Über Dictionary iterieren\n",
    "Wenn wir über einen Dictionary iterieren wollen, stellt sich die Frage, was wir erhalten wollen: Die Keys? Die Werte? Beides zusammen? Für diese drei Fälle gibt es unterschiedliche Methoden:\n",
    "\n",
    "Mit `keys()` können wir über die Keys iterieren:"
   ]
  },
  {
   "cell_type": "code",
   "execution_count": 22,
   "metadata": {},
   "outputs": [
    {
     "name": "stdout",
     "output_type": "stream",
     "text": [
      "1\n",
      "2\n",
      "3\n",
      "4\n"
     ]
    }
   ],
   "source": [
    "for key in dict1.keys():\n",
    "    print(key)"
   ]
  },
  {
   "cell_type": "markdown",
   "metadata": {},
   "source": [
    "Wir können uns auch direkt anschauen, was in den `keys` drin ist:"
   ]
  },
  {
   "cell_type": "code",
   "execution_count": 24,
   "metadata": {},
   "outputs": [
    {
     "data": {
      "text/plain": [
       "dict_keys([1, 2, 3, 4])"
      ]
     },
     "execution_count": 24,
     "metadata": {},
     "output_type": "execute_result"
    }
   ],
   "source": [
    "dict1.keys()"
   ]
  },
  {
   "cell_type": "markdown",
   "metadata": {},
   "source": [
    "Mit `.values()` iterieren wir über die Werte:"
   ]
  },
  {
   "cell_type": "code",
   "execution_count": 25,
   "metadata": {},
   "outputs": [
    {
     "name": "stdout",
     "output_type": "stream",
     "text": [
      "a\n",
      "b\n",
      "c\n",
      "d\n"
     ]
    }
   ],
   "source": [
    "for val in dict1.values():\n",
    "    print(val)"
   ]
  },
  {
   "cell_type": "markdown",
   "metadata": {},
   "source": [
    "Schliesslich können wir mit `.items()` über Key und Value gleichzeitig iterieren. Dabei wird bei jeder Iteration ein Tuple `(key, value)` zurückgegeben."
   ]
  },
  {
   "cell_type": "code",
   "execution_count": 27,
   "metadata": {},
   "outputs": [
    {
     "name": "stdout",
     "output_type": "stream",
     "text": [
      "Key: 1 Value: a\n",
      "Key: 2 Value: b\n",
      "Key: 3 Value: c\n",
      "Key: 4 Value: d\n"
     ]
    }
   ],
   "source": [
    "for k, v in dict1.items():\n",
    "    print(\"Key:\", k, \"Value:\", v)"
   ]
  }
 ],
 "metadata": {
  "kernelspec": {
   "display_name": ".venv",
   "language": "python",
   "name": "python3"
  },
  "language_info": {
   "codemirror_mode": {
    "name": "ipython",
    "version": 3
   },
   "file_extension": ".py",
   "mimetype": "text/x-python",
   "name": "python",
   "nbconvert_exporter": "python",
   "pygments_lexer": "ipython3",
   "version": "3.10.9"
  },
  "orig_nbformat": 4
 },
 "nbformat": 4,
 "nbformat_minor": 2
}
