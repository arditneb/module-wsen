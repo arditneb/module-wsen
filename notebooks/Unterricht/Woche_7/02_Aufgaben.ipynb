{
 "cells": [
  {
   "cell_type": "markdown",
   "metadata": {},
   "source": [
    "## Kurz und bündig\n",
    "Hier ein paar schnelle Aufgaben, um den Kurztest vorzubereiten."
   ]
  },
  {
   "cell_type": "markdown",
   "metadata": {},
   "source": [
    "### Dictionary umkehren\n",
    "Schreibe eine Funktion, welche einen Dictionary umkehrt: Für jedes key-value-Paar wird der Key zum Value, und umgekehrt. Du kannst davon ausgehen, dass die Values \"unique\" und hashable sind.\n",
    "\n",
    "Beispiel: `{\"a\": 1} --> {1: \"a\"}`"
   ]
  },
  {
   "cell_type": "code",
   "execution_count": null,
   "metadata": {},
   "outputs": [],
   "source": []
  },
  {
   "cell_type": "markdown",
   "metadata": {},
   "source": [
    "### Summe aller Werte einer Tabelle\n",
    "Schreibe eine Funktion, welche eine Liste von Listen von Zahlen entgegennimmt, und die Summe aller Einträge zurückgibt.\n",
    "\n",
    "Beispiel:\n",
    "\n",
    "`[[1, 2], [3, 4]] --> 10`"
   ]
  },
  {
   "cell_type": "code",
   "execution_count": null,
   "metadata": {},
   "outputs": [],
   "source": []
  },
  {
   "cell_type": "markdown",
   "metadata": {},
   "source": [
    "### Reissverschluss\n",
    "Schreibe eine Funktion, welche zwei Listen gleicher Länge entgegennimmt. Überprüfe, ob die Listen tatsächlich gleich lang sind, ansonsten soll die Funktion einen Error verursachen. Die Funktion fügt die zwei Listen zu einer Liste zusammen, nach dem Reissverschlussprinzip: Zuerst kommt das erste Element der ersten Liste, dann das erste Element der zweiten Liste, dann das zweite Element der ersten Liste, usw.\n",
    "\n",
    "Beispiel:\n",
    "`[1, 2, 3], [\"a\", \"b\", \"c\"] --> [1, \"a\", 2, \"b\", 3, \"c\"]`\n"
   ]
  },
  {
   "cell_type": "code",
   "execution_count": null,
   "metadata": {},
   "outputs": [],
   "source": []
  },
  {
   "cell_type": "markdown",
   "metadata": {},
   "source": [
    "### Login\n",
    "Schreibe eine Funktion, welche drei Argumente entgegennimmt: \n",
    "- `logins`: Ein Dictionary, welcher alle bekannte Zugangsdaten abspeichert. Key ist Nutzername, Value das Passwort des Users.\n",
    "- `eingabe_user`: Eine `str` mit einem Username, der ein Benutzer eingegeben hat.\n",
    "- `eingabe_passwort`: Eine `str` mit einem Passwort, der ein Benutzer eingegeben hat.\n",
    "\n",
    "Die Funktion überprüft, ob `eingabe_user` und `eingabe_passwort` in den Logins enthalten ist und korrekt eingegeben wurde. Nur dann gibt die Funktion `True` zurück, ansonsten `False`.\n",
    "\n",
    "**Beispiele:**\n",
    "\n",
    "`login({\"user1\": \"passwort1\", \"user2\": \"passwort2\"}, \"user1\", \"passwort1\") --> True`\n",
    "\n",
    "`login({\"user1\": \"passwort1\", \"user2\": \"passwort2\"}, \"user3\", \"passwort1\") --> False`: Unbekannter User\n",
    "\n",
    "`login({\"user1\": \"passwort1\", \"user2\": \"passwort2\"}, \"user1\", \"passwort3\") --> False`: Passwort ist falsch "
   ]
  },
  {
   "cell_type": "code",
   "execution_count": null,
   "metadata": {},
   "outputs": [],
   "source": []
  },
  {
   "cell_type": "markdown",
   "metadata": {
    "vscode": {
     "languageId": "plaintext"
    }
   },
   "source": [
    "# Bowling\n",
    "\n",
    "Beim Bowling werden die Resultate typischerweise in einer Tabelle aufgeschrieben und ausgewertet.  \n",
    "Aufgeschrieben werden die Anzahl umgeworfener Pins jeder Runde. Es sind somit Zahlen zwischen 0 (keiner getroffen) und 10 (alle getroffen, ein Strike) möglich.\n",
    "\n",
    "### Ziel\n",
    "\n",
    "Ihr Programm soll die Ergebnisse von 3 Spielern über 5 Runden aufzeichnen und auswerten (siehe Abbildung). \n",
    "Zum Speichern  der Ergebnisse benötigen Sie eine zweidimensionale Liste (Tabelle) und zur Berechnung der Summen eine einfache Liste.\n",
    "\n",
    "![alternatvie text](./images/results.png)\n",
    "\n",
    "Um dies umzusetzen, führen wir euch Schritt für Schritt durch die Entwicklung. Die Teilaufgaben sind ziemlich unabhängig, wenn du irgendwo nicht weiterkommst, kannst du trotzdem zur nächsten Aufgabe weitergehen."
   ]
  },
  {
   "cell_type": "markdown",
   "metadata": {},
   "source": [
    "### Nach einer Zahl fragen\n",
    "Schreibe eine Funktion namens `int_abfragen` mit einem Argument `ausgabetext`. Die Funktion fragt unsere Benutzer nach einer Zahl, mit dem mitgegebenen `ausgabetext`. Anschliessend versucht es, die Antwort in eine ganze Zahl umzuwandeln. Gelingt dies, gibt die Funktion die Zahl zurück. Gelingt es nicht, soll eine Fehlermeldung angezeigt werden und nochmals nach der Zahl gefragt werden, bis eine gültige Zahl eingegeben wurde."
   ]
  },
  {
   "cell_type": "code",
   "execution_count": null,
   "metadata": {},
   "outputs": [],
   "source": []
  },
  {
   "cell_type": "markdown",
   "metadata": {},
   "source": [
    "### Nach den Spielern fragen\n",
    "Schreibe eine Funktion namens `spielernamen_abfragen`. Diese fragt unsere Benutzer nach Spielernamen, solange nicht eine leere String eingegeben wurde (sprich einfach Enter gedrückt wurde, statt einen weiteren Namen einzugeben). All die eingegebenen Spielernamen füllen wir in eine Liste. Sobald eine leere String eingegeben wurde, geben wir die Liste zurück.\n"
   ]
  },
  {
   "cell_type": "code",
   "execution_count": null,
   "metadata": {},
   "outputs": [],
   "source": []
  },
  {
   "cell_type": "markdown",
   "metadata": {},
   "source": [
    "### Begrüssung\n",
    "Schreibe eine Funktion `start`, welche unsere Benutzer begrüsst. Anschliessend fragt sie nach der Anzahl an Runden, die gespielt werden sollen, sowie nach den Spielernamen (mit den zwei Funktionen, welche wir gerade definiert haben). Die Funktion gibt anschliessend ein Tuple mit der Rundenzahl und der Liste mit Namen zurück. "
   ]
  },
  {
   "cell_type": "code",
   "execution_count": null,
   "metadata": {},
   "outputs": [],
   "source": []
  },
  {
   "cell_type": "markdown",
   "metadata": {},
   "source": [
    "### Eingabe einer Person\n",
    "Nun kümmern wir uns um die Eingabe einer Person. Schreibe eine Funktion `eine_runde` mit zwei Argumenten, der aktuellen Runde sowie der Spielerliste. Für jeden Spieler/jede Spielerin, frage nach dem Wert, der in dieser Runde erzielt wurde. Gib diesen Wert zurück. Bonus: Überprüfe, ob der Wert zwischen 0 und 10 ist."
   ]
  },
  {
   "cell_type": "code",
   "execution_count": null,
   "metadata": {},
   "outputs": [],
   "source": []
  },
  {
   "cell_type": "markdown",
   "metadata": {},
   "source": [
    "### Eingabe einer Runde\n",
    "Schreibe eine Funktion `eine_runde` mit zwei Argumenten, der aktuellen Runde sowie der Spielerliste. Für jeden Spieler/jede Spielerin, rufe `eingabe_spieler` auf, und gib eine Liste mit den Resultaten aller Spieler in dieser Runde zurück."
   ]
  },
  {
   "cell_type": "code",
   "execution_count": null,
   "metadata": {},
   "outputs": [],
   "source": []
  },
  {
   "cell_type": "markdown",
   "metadata": {},
   "source": [
    "### Eingabe aller Runden\n",
    "Schreibe eine Funktion `ein_spiel` mit zwei Argumenten, der Anzahl an Runden sowie der Spielerliste. Für jede einzelne Runde, rufe die Funktion `eine_runde` auf, und hänge das Resultat an eine Liste dran. Gib diese Liste zurück. Die zurückgegebene Liste sollte eine Liste von Listen sein, für zwei Spieler und 3 Runden könnte sie so aussehen:\n",
    "\n",
    "`[[1, 3], [8, 7], [9, 4]]`"
   ]
  },
  {
   "cell_type": "code",
   "execution_count": null,
   "metadata": {},
   "outputs": [],
   "source": []
  },
  {
   "cell_type": "markdown",
   "metadata": {},
   "source": [
    "### Die Gesamtpunktzahl evaluieren\n",
    "Schreibe eine Funktion `spaltensumme`, welche als Argument eine Liste von Listen entgegennimmt (also eine Tabelle). Die Funktion soll für jede Spalte die Summe berechnen und zurückgeben. Wir werden diese Funktion verwenden, um die Gesamtpunktzahl pro Spieler:in zu berechnen.\n",
    "\n",
    "Beispiel:\n",
    "`spaltensumme([[1, 3], [2, 4]])` sollte `[3, 7]` zurückgeben."
   ]
  },
  {
   "cell_type": "code",
   "execution_count": null,
   "metadata": {},
   "outputs": [],
   "source": []
  },
  {
   "cell_type": "markdown",
   "metadata": {},
   "source": [
    "### Den Gewinner identifizieren\n",
    "Schreibe eine Funktion `gewinner_identifizieren` mit zwei Argumenten, `punkte_liste` sowie `spieler_liste`. Stelle sicher, dass die zwei Listen gleich lang sind (ansonsten erzeuge einen passenden Fehler). \n",
    "\n",
    "Dann sollst du herausfinden, wer gewonnen hat. Da es theoretisch möglich ist, dass zwei Spieler:innen gleich viele Punkte haben, geben wir die Gewinner als Liste zurück. Unsere Funktion gibt also eine Liste mit denjenigen Spielernamen zurück, welche die höchste Punktzahl erreicht haben (wenn nur eine Person gewonnen hat, dann hat die zurückgegebene Liste nur ein Element)."
   ]
  },
  {
   "cell_type": "code",
   "execution_count": null,
   "metadata": {},
   "outputs": [],
   "source": []
  },
  {
   "cell_type": "markdown",
   "metadata": {},
   "source": [
    "### Die Tabelle anzeigen\n",
    "Um die Resultate anzuzeigen, haben wir für euch bereits eine Funktion `tabelle_anzeigen` vorimplementiert. Diese erwartet vier Argumente, wie in der Docstring beschrieben. Versuche, die Funktion und alle Unterfunktionen zu verstehen (ihr könnt das allermeiste davon bereits, für den Rest gibt es Google oder die Python-Dokumentation)."
   ]
  },
  {
   "cell_type": "code",
   "execution_count": null,
   "metadata": {},
   "outputs": [],
   "source": [
    "def fixe_laenge(string, laenge):\n",
    "    \"\"\"Fügt einer string Leerschläge hinzu, bis eine fixe Länge erreicht wurde.\"\"\"\n",
    "    assert len(string) <= laenge\n",
    "    return string + (laenge - len(string)) * \" \"\n",
    "    \n",
    "def print_tabellenelement(string, laenge):\n",
    "    \"\"\"Gibt die String mit einer fixen Länge aus, ohne nachfolgenden Zeilenumbruch.\"\"\"\n",
    "    print(fixe_laenge(str(string), laenge), end=\"\")\n",
    "\n",
    "def zeilenumbruch():\n",
    "    \"\"\"Gibt einen Zeilenumbruch aus.\"\"\"\n",
    "    print()\n",
    "\n",
    "def laenge_des_laengsten_strings(string_liste):\n",
    "    \"\"\"Aus einer Liste von Strings, gibt die Länge des längsten Elements zurück.\"\"\"\n",
    "    laenge_liste = []\n",
    "    for string in string_liste:\n",
    "        laenge_liste.append(len(string))\n",
    "    return max(laenge_liste)\n",
    "\n",
    "def tabelle_anzeigen(resultat_tabelle, spieler_liste, gesamtpunkte_liste, gewinner_liste):\n",
    "    \"\"\"Zeigt die Resultate schön formatiert an. \n",
    "        \n",
    "    Argumente\n",
    "    ---------\n",
    "    resultat_tabelle:\n",
    "        Eine Liste von Listen mit den erzielten Resultaten aller Spieler:innen in jeder Runde\n",
    "    spieler_liste:\n",
    "        Eine Liste mit den Namen der Spieler:innen\n",
    "    gesamtpunkte_liste:\n",
    "        Eine Liste mit der Gesamtanzahl Punkte pro Spieler:in\n",
    "    gewinner_liste:\n",
    "        Eine Liste mit allen Spieler:innen, welche die höchste Punktzahl erreicht haben.\n",
    "    \"\"\"\n",
    "    breite_erste_spalte = 12\n",
    "    breite_andere_spalten = laenge_des_laengsten_strings(spieler_liste) + 1\n",
    "    print(breite_andere_spalten)\n",
    "    \n",
    "    # Erste Zeile: Spieler\n",
    "    print_tabellenelement(\"Spieler\", breite_erste_spalte)\n",
    "    for spieler in spieler_liste:\n",
    "        print_tabellenelement(spieler, breite_andere_spalten)\n",
    "    zeilenumbruch()\n",
    "\n",
    "    # Runden-Zeilen\n",
    "    for runde_index in range(len(resultat_tabelle)):\n",
    "        resultat_runde = resultat_tabelle[runde_index]\n",
    "        print_tabellenelement(\"Runde \" + str(runde_index + 1), breite_erste_spalte)\n",
    "        for resultat_spieler in resultat_runde:\n",
    "            print_tabellenelement(resultat_spieler, breite_andere_spalten)\n",
    "        zeilenumbruch()\n",
    "\n",
    "    # Resultat-Zeile\n",
    "    zeilenumbruch()\n",
    "    print_tabellenelement(\"Resultat\", breite_erste_spalte)\n",
    "    for punktzahl in gesamtpunkte_liste:\n",
    "        print_tabellenelement(punktzahl, breite_andere_spalten)\n",
    "    zeilenumbruch()\n",
    "\n",
    "    # Gewinner-Zeile\n",
    "    print(\"Gewinner:\", \", \".join(gewinner_liste))\n"
   ]
  },
  {
   "cell_type": "code",
   "execution_count": null,
   "metadata": {},
   "outputs": [],
   "source": [
    "print_tabellenelement(\"asbc\", 6)\n",
    "print(\"!\")"
   ]
  },
  {
   "cell_type": "markdown",
   "metadata": {},
   "source": [
    "### Das Ganze zusammensetzen\n",
    "Setze nun all diese Funktionen zu einem vollständig funktionierenden Programm zusammen. Am Anfang fragt es nach den Spielernamen und der Anzahl Runden, danach werden diese ausgeführt, und am Schluss die Resultate berechnet und angezeigt."
   ]
  },
  {
   "cell_type": "code",
   "execution_count": null,
   "metadata": {},
   "outputs": [],
   "source": []
  },
  {
   "cell_type": "markdown",
   "metadata": {},
   "source": [
    "### Mögliche Erweiterungen\n",
    "- Gebe am Ende aus wie viele Strikes (also 10-er Runden) jeder Spieler gemacht hat und wie oft er gar nicht getroffen hat. \n",
    "- Berechne in welcher Runde der jeweilige Spieler seinen ersten Strike gemacht hat, und gebe das Resultat aus."
   ]
  },
  {
   "cell_type": "code",
   "execution_count": null,
   "metadata": {},
   "outputs": [],
   "source": []
  },
  {
   "cell_type": "markdown",
   "metadata": {},
   "source": [
    "## Weiterführende Aufgaben\n",
    "**Komplettiere folgende Funktionen:**"
   ]
  },
  {
   "cell_type": "code",
   "execution_count": null,
   "metadata": {},
   "outputs": [],
   "source": [
    "def kleinster_divisor(a):\n",
    "    \"\"\"Gibt die kleinste ganze Zahl >= 2 zurück, durch welche die eingegebene Zahl a ohne Rest dividiert werden kann.\"\"\""
   ]
  },
  {
   "cell_type": "code",
   "execution_count": null,
   "metadata": {},
   "outputs": [],
   "source": [
    "def ist_primzahl(a):\n",
    "    \"\"\"Überprüft, ob die Zahl a eine Primzahl ist. Dies machen wir, indem wir überprüfen, ob der kleinste Divisor \n",
    "    die Zahl selbst ist. Gibt eine boolean-Variabel zurück.\"\"\""
   ]
  },
  {
   "cell_type": "code",
   "execution_count": null,
   "metadata": {},
   "outputs": [],
   "source": [
    "def primzahlen_bis(stop):\n",
    "    \"\"\"printet alle Primzahlen von 0 bis stop.\"\"\""
   ]
  },
  {
   "cell_type": "code",
   "execution_count": null,
   "metadata": {},
   "outputs": [],
   "source": [
    "def primzahlen_bis_als_liste(stop):\n",
    "    \"\"\"Gibt eine Liste mit allen Primzahlen zwischen 0 und stop zurück, verwendet ist_primzahl von oben.\"\"\""
   ]
  },
  {
   "cell_type": "code",
   "execution_count": null,
   "metadata": {},
   "outputs": [],
   "source": [
    "def primzahlen_bis_als_liste2(stop):\n",
    "    \"\"\"Gibt eine Liste mit allen Primzahlen zwischen 0 und stop zurück, geht wie folgt vor:\n",
    "    \n",
    "    Zuerst erstellen wir eine Liste mit allen Zahlen zwischen 0 und stop.\n",
    "    Dann machen wir für jede Kombination von i und j zwischen 0 und stop/2 folgendes:\n",
    "        Wir entfernen den Wert i * j aus der ursprünglichen Liste\n",
    "    \"\"\""
   ]
  },
  {
   "cell_type": "markdown",
   "metadata": {},
   "source": [
    "Kleine Nebenbemerkung (*nicht Prüfungsrelevant*): Um zu überprüfen, welche Version schneller ist, können wir z.B. timeit verwenden. Dies funktioniert nur in Jupyter Notebooks (denn das % am Anfang der Zeile ist nicht von Python, sondern spezifisch für Jupyter Notebooks)."
   ]
  },
  {
   "cell_type": "code",
   "execution_count": null,
   "metadata": {},
   "outputs": [],
   "source": [
    "%timeit primzahlen_bis_als_liste(2)"
   ]
  },
  {
   "cell_type": "code",
   "execution_count": null,
   "metadata": {},
   "outputs": [],
   "source": [
    "%timeit primzahlen_bis_als_liste2(2)"
   ]
  }
 ],
 "metadata": {
  "kernelspec": {
   "display_name": ".venv",
   "language": "python",
   "name": "python3"
  },
  "language_info": {
   "codemirror_mode": {
    "name": "ipython",
    "version": 3
   },
   "file_extension": ".py",
   "mimetype": "text/x-python",
   "name": "python",
   "nbconvert_exporter": "python",
   "pygments_lexer": "ipython3",
   "version": "3.10.9"
  },
  "orig_nbformat": 4
 },
 "nbformat": 4,
 "nbformat_minor": 2
}
