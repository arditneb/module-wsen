{
 "cells": [
  {
   "cell_type": "markdown",
   "metadata": {},
   "source": [
    "## 1. Dictionaries\n",
    "\n",
    "Dictionaries sind veränderliche Objekte, welche wie ein Nachschlagewerk aufgebaut sind: Wir können einen Wert nachschlagen (\"key\"), und erhalten einen Wert zurück (\"value\"). \n",
    "\n",
    "### 1.1 Definition, Abfrage und Veränderung\n",
    "Dictionaries haben type `dict` und werden wie folgt definiert:"
   ]
  },
  {
   "cell_type": "code",
   "execution_count": null,
   "metadata": {},
   "outputs": [],
   "source": [
    "alter = {\"Anna\": 41, \"Marta\": 23, \"Adelheid\": 102}"
   ]
  },
  {
   "cell_type": "markdown",
   "metadata": {},
   "source": [
    "Dabei bezeichnen wir die Namen (\"Anna\", etc.) als \"key\", das angegebene Alter ist der \"value\". Wir können nun mit eckigen Klammern einen bestimmten Key nachschlagen, und erhalten den Value zurück:"
   ]
  },
  {
   "cell_type": "code",
   "execution_count": null,
   "metadata": {},
   "outputs": [],
   "source": [
    "liste=[1, 2, 3]\n",
    "liste[1]"
   ]
  },
  {
   "cell_type": "code",
   "execution_count": null,
   "metadata": {},
   "outputs": [],
   "source": [
    "alter[\"Anna\"]"
   ]
  },
  {
   "cell_type": "markdown",
   "metadata": {},
   "source": [
    "Wir können die Werte verändern:"
   ]
  },
  {
   "cell_type": "code",
   "execution_count": null,
   "metadata": {},
   "outputs": [],
   "source": [
    "alter[\"Anna\"] = 42\n",
    "alter[\"Anna\"]"
   ]
  },
  {
   "cell_type": "markdown",
   "metadata": {},
   "source": [
    "Wir können neue key-value Paare hinzufügen:"
   ]
  },
  {
   "cell_type": "code",
   "execution_count": null,
   "metadata": {},
   "outputs": [],
   "source": [
    "alter[\"Bettina\"] = 53\n",
    "alter[\"Bettina\"]"
   ]
  },
  {
   "cell_type": "markdown",
   "metadata": {},
   "source": [
    "Aber wenn wir keys abfragen, welche nicht im `dict` enthalten sind, erhalten wir einen `KeyError`:"
   ]
  },
  {
   "cell_type": "code",
   "execution_count": null,
   "metadata": {},
   "outputs": [],
   "source": [
    "alter[\"Fritz\"]"
   ]
  },
  {
   "cell_type": "markdown",
   "metadata": {},
   "source": [
    "Leere dictionaries erzeugen wir wie folgt:"
   ]
  },
  {
   "cell_type": "code",
   "execution_count": null,
   "metadata": {},
   "outputs": [],
   "source": [
    "leerer_dict = {}"
   ]
  },
  {
   "cell_type": "markdown",
   "metadata": {},
   "source": [
    "### 1.2 Was dürfen wir alles in einem `dict` speichern?\n",
    "\n",
    "Als Value sind sämtliche Datentypen zulässig. Wir können zum Beispiel einen `dict` erstellen, welche für ein Rezept alle nötigen Zutaten als Liste speichert:"
   ]
  },
  {
   "cell_type": "code",
   "execution_count": null,
   "metadata": {},
   "outputs": [],
   "source": [
    "zutaten = {\n",
    "    \"Risotto\": [\"Salz\", \"Risottoreis\", \"Weisswein\", \"Parmesan\"],\n",
    "    \"Kürbissuppe\": [\"Kürbis\", \"Bouillon\", \"Rahm\", \"Ingwer\", \"Currypulver\"]\n",
    "}"
   ]
  },
  {
   "cell_type": "code",
   "execution_count": null,
   "metadata": {},
   "outputs": [],
   "source": [
    "zutaten[\"Kürbissuppe\"]"
   ]
  },
  {
   "cell_type": "markdown",
   "metadata": {},
   "source": [
    "Wir können diese Listen auch beliebig verändern:"
   ]
  },
  {
   "cell_type": "markdown",
   "metadata": {},
   "source": [
    "Bei den Keys haben wir allerdings eine Einschränkung: Diese dürfen nur Datentypen enthalten, welche nicht veränderbar sind. Wieso? Stellt euch vor, folgendes wäre zulässig:\n",
    "```python\n",
    "a = [\"a\"]\n",
    "wrong_dict = {\n",
    "    a: \"b\"            # dies gibt \"im echten Leben\" einen Fehler\n",
    "}\n",
    "```\n",
    "Wenn wir nun den Key verändern, ist nicht mehr klar, was passieren sollte:\n",
    "```python\n",
    "a.append(\"b\")\n",
    "print(wrong_dict[[\"a\"]])  # was sollte hier passieren? Unklar, daher ist dies nicht zulässig.\n",
    "```\n",
    "Um diese Unklarheit zu verhindern, erlaubt es Python nur, unveränderbare Elemente als Key zu verwenden. Sonst gibt es uns einen Fehler:"
   ]
  },
  {
   "cell_type": "code",
   "execution_count": null,
   "metadata": {},
   "outputs": [],
   "source": [
    "dictionary = {\n",
    "    [\"a\"]: \"b\"\n",
    "}"
   ]
  },
  {
   "cell_type": "markdown",
   "metadata": {},
   "source": [
    "Der Fehler sagt uns, `list` sei \"unhashable\", und kann deswegen nicht als Key verwendet werden. Ob etwas \"hashable\" ist oder nicht hängt damit zusammen, ob ein Objekt veränderbar ist.\n",
    "\n",
    "Wenn wir aber ein `dict` erstellen wollen, welche sowas wie eine Liste als Key verwenden, können wir Tuples verwenden. Diese sind nicht veränderbar und daher erlaubt:"
   ]
  },
  {
   "cell_type": "code",
   "execution_count": null,
   "metadata": {},
   "outputs": [],
   "source": [
    "dictionary = {\n",
    "    (\"a\", \"b\"): 4,\n",
    "    (\"c\", \"d\"): 8\n",
    "}\n",
    "\n",
    "# Abfrage\n",
    "dictionary[(\"a\", \"b\")]"
   ]
  },
  {
   "cell_type": "markdown",
   "metadata": {},
   "source": [
    "<br><br><br><br><br>\n",
    "<div class=\"exercise\">\n",
    "\n",
    "<img src=\"https://i.imgur.com/JyhBeDB.png\" class=\"exercise_image\" width=100>\n",
    "\n",
    "<span class=\"exercise_label\">**Aufgabe:**</span>\n",
    "Schreibe eine Funktion, welche für jedes Element einer Liste zählt, wie häufig dieses vorkommt. Das Resultat soll als `dict` zurückgegeben werden, wobei der Key das Listenelement ist, und der Value, wie häufig dieses vorkommt.\n",
    "\n",
    "Beispiel:\n",
    "`[\"a\", \"a\", \"b\", \"c\", \"c\", \"c\"] --> {\"a\": 2, \"b\": 1, \"c\": 3}`\n",
    "\n",
    "</div>"
   ]
  },
  {
   "cell_type": "markdown",
   "metadata": {},
   "source": [
    "### 1.3 Elemente löschen\n",
    "Falls wir ein Element löschen wollen, können wir dies mit dem Stichwort `del` tun:"
   ]
  },
  {
   "cell_type": "code",
   "execution_count": null,
   "metadata": {},
   "outputs": [],
   "source": [
    "alter"
   ]
  },
  {
   "cell_type": "code",
   "execution_count": null,
   "metadata": {},
   "outputs": [],
   "source": [
    "del alter[\"Bettina\"]  # Löscht den Eintrag für Wert \"Bettina\"\n"
   ]
  },
  {
   "cell_type": "code",
   "execution_count": null,
   "metadata": {},
   "outputs": [],
   "source": [
    "alter"
   ]
  },
  {
   "cell_type": "markdown",
   "metadata": {},
   "source": [
    "Wir können Elemente ebenfalls mit der Methode `pop` entfernen. Diese gibt den dazugehörige Wert noch ein letztes mal zurück, bevor er entfernt wird:"
   ]
  },
  {
   "cell_type": "code",
   "execution_count": null,
   "metadata": {},
   "outputs": [],
   "source": [
    "alter[\"Bettina\"] = 13            # wir fügen das Alter wieder hinzu\n",
    "rueckgabe = alter.pop(\"Bettina\")\n",
    "print(\"Rückgabe:\", rueckgabe)    # pop hat den Wert zurückgegeben\n",
    "alter[\"Bettina\"]                 # aber der Eintrag wurde durch pop entfernt"
   ]
  },
  {
   "cell_type": "markdown",
   "metadata": {},
   "source": [
    "Mit der Methode `clear` löschen wir alle Elemente:"
   ]
  },
  {
   "cell_type": "code",
   "execution_count": null,
   "metadata": {},
   "outputs": [],
   "source": [
    "alter.clear()\n",
    "alter  # der dict ist leer"
   ]
  },
  {
   "cell_type": "markdown",
   "metadata": {},
   "source": [
    "### 1.4 Operationen und Methoden von `dict`-Objekten\n",
    "Wir können zwei `dict`-Objekte mit `==` vergleichen. Dabei wird überprüft, ob die zwei Dictionaries die gleichen key-value-Paare enthalten. Auf die Reihenfolge kommt es nicht an, Dictionaries sind **unordered**."
   ]
  },
  {
   "cell_type": "code",
   "execution_count": null,
   "metadata": {},
   "outputs": [],
   "source": [
    "{\"a\": 1, \"b\": 2} == {\"b\": 2, \"a\": 1}"
   ]
  },
  {
   "cell_type": "markdown",
   "metadata": {},
   "source": [
    "Wir können mit `in` überprüfen, ob ein bestimmter Key im Dictionary enthalten ist (auf den Value wird nicht geachtet):"
   ]
  },
  {
   "cell_type": "code",
   "execution_count": null,
   "metadata": {},
   "outputs": [],
   "source": [
    "\"a\" in {\"a\": 1, \"b\": 2}"
   ]
  },
  {
   "cell_type": "code",
   "execution_count": null,
   "metadata": {},
   "outputs": [],
   "source": [
    "\"c\" in {\"a\": 1, \"b\": 2}"
   ]
  },
  {
   "cell_type": "markdown",
   "metadata": {},
   "source": [
    "Mit `update` können wir die Elemente eines zweiten Dictionaries dem Ersten hinzufügen:"
   ]
  },
  {
   "cell_type": "code",
   "execution_count": null,
   "metadata": {},
   "outputs": [],
   "source": [
    "dict1 = {1: \"a\", 2: \"b\"}\n",
    "dict2 = {3: \"c\", 4: \"d\"}\n",
    "dict1.update(dict2)"
   ]
  },
  {
   "cell_type": "code",
   "execution_count": null,
   "metadata": {},
   "outputs": [],
   "source": [
    "dict1"
   ]
  },
  {
   "cell_type": "markdown",
   "metadata": {},
   "source": [
    "Mit `get` können wir einen Wert abfragen. Im Unterschied zur Abfrage mit den eckigen Klammern geben wir in einem zweiten Argument mit, was zurückgegeben werden soll, wenn der Key nicht enthalten ist."
   ]
  },
  {
   "cell_type": "code",
   "execution_count": null,
   "metadata": {},
   "outputs": [],
   "source": [
    "dict1 = {1: \"a\", 2: \"b\"}\n",
    "dict1.get(1, \"nicht enthalten\")"
   ]
  },
  {
   "cell_type": "markdown",
   "metadata": {},
   "source": [
    "Zum Vergleich: Dies würde mit den eckigen Klammern einen Key-Error verursachen:"
   ]
  },
  {
   "cell_type": "code",
   "execution_count": null,
   "metadata": {},
   "outputs": [],
   "source": [
    "dict1[5]"
   ]
  },
  {
   "cell_type": "code",
   "execution_count": null,
   "metadata": {},
   "outputs": [],
   "source": [
    "liste = [\"a\", \"a\", \"b\", \"c\", \"c\", \"c\"]\n",
    "\n",
    "resultat = {}\n",
    "for i in liste:\n",
    "    resultat[i] = resultat.get(i, 0) + 1\n"
   ]
  },
  {
   "cell_type": "code",
   "execution_count": null,
   "metadata": {},
   "outputs": [],
   "source": [
    "resultat"
   ]
  },
  {
   "cell_type": "markdown",
   "metadata": {},
   "source": [
    "### 1.5 Über Dictionary iterieren\n",
    "Wenn wir über einen Dictionary iterieren wollen, stellt sich die Frage, was wir erhalten wollen: Die Keys? Die Werte? Beides zusammen? Für diese drei Fälle gibt es unterschiedliche Methoden:\n",
    "\n",
    "Mit `keys()` können wir über die Keys iterieren:"
   ]
  },
  {
   "cell_type": "code",
   "execution_count": null,
   "metadata": {},
   "outputs": [],
   "source": [
    "for something in dict1:\n",
    "    print(something)"
   ]
  },
  {
   "cell_type": "code",
   "execution_count": null,
   "metadata": {},
   "outputs": [],
   "source": [
    "for key in dict1.keys():\n",
    "    print(key)"
   ]
  },
  {
   "cell_type": "markdown",
   "metadata": {},
   "source": [
    "Wir können uns auch direkt anschauen, was in den `keys` drin ist:"
   ]
  },
  {
   "cell_type": "code",
   "execution_count": null,
   "metadata": {},
   "outputs": [],
   "source": [
    "dict1.keys()"
   ]
  },
  {
   "cell_type": "markdown",
   "metadata": {},
   "source": [
    "Mit `.values()` iterieren wir über die Werte:"
   ]
  },
  {
   "cell_type": "code",
   "execution_count": null,
   "metadata": {},
   "outputs": [],
   "source": [
    "for val in dict1.values():\n",
    "    print(val)"
   ]
  },
  {
   "cell_type": "markdown",
   "metadata": {},
   "source": [
    "Schliesslich können wir mit `.items()` über Key und Value gleichzeitig iterieren. Dabei wird bei jeder Iteration ein Tuple `(key, value)` zurückgegeben."
   ]
  },
  {
   "cell_type": "code",
   "execution_count": null,
   "metadata": {},
   "outputs": [],
   "source": [
    "list(dict1.items())"
   ]
  },
  {
   "cell_type": "code",
   "execution_count": null,
   "metadata": {},
   "outputs": [],
   "source": [
    "for k, v in dict1.items():\n",
    "    print(\"Key:\", k, \"Value:\", v)"
   ]
  },
  {
   "cell_type": "markdown",
   "metadata": {},
   "source": [
    "<br><br><br><br><br>\n",
    "<div class=\"exercise\">\n",
    "\n",
    "<img src=\"https://i.imgur.com/JyhBeDB.png\" class=\"exercise_image\" width=100>\n",
    "\n",
    "<span class=\"exercise_label\">**Aufgabe:**</span>\n",
    "Schreibe eine Funktion, welche einen `dict` entgegennimmt, welcher als Value ausschliesslich Zahlen enthält. Gib einen neuen Dictionary zurück, mit denselben Keys aber quadrierten Values.\n",
    "\n",
    "Beispiel:\n",
    "`{\"a\": 3, \"b\": 1, \"c\": -2} --> {\"a\": 9, \"b\": 1, \"c\": 4}`\n",
    "</div>"
   ]
  },
  {
   "cell_type": "markdown",
   "metadata": {},
   "source": [
    "## 2. Sets\n",
    "\n",
    "Sets sind neben Listen, Tuples und Dictionaries der vierte wichtige Datentyp, welcher Python verwendet, um Werte gemeinsam abzuspeichern. Im Gegensatz zu Tuples und Listen sind sie aber nicht sortiert. Wie Listen und Dictionaries sind Sets ausserdem veränderbare (\"mutable\") Objekte. Ausserdem haben sie die Eigenschaft, dass jedes Element in einem Set nur einmal vorkommt. Sie sind daher für Fälle geeignet, in dem es bloss darum geht, ob ein Element vorhanden ist oder nicht - aber nicht, wie häufig es vorkommt oder in welcher Reihenfolge die Elemente sortiert sind.\n",
    "\n",
    "### 2.1 Definition\n",
    "Wir können Sets mit geschweiften Klammern definieren (wie Dictionaries, ausser das wir kein `:` haben):"
   ]
  },
  {
   "cell_type": "code",
   "execution_count": null,
   "metadata": {},
   "outputs": [],
   "source": [
    "ein_set = {1, 2, 3}\n",
    "print(ein_set)"
   ]
  },
  {
   "cell_type": "markdown",
   "metadata": {},
   "source": [
    "Wie erwähnt kommt jedes Element in einem Set nur einmal vor. Dies sehen wir in folgendem Beispiel:"
   ]
  },
  {
   "cell_type": "code",
   "execution_count": null,
   "metadata": {},
   "outputs": [],
   "source": [
    "ein_set = {1, 2, 3, 1, 1, 1}\n",
    "print(ein_set)  # es ist egal, wie häufig 1 vorkommt."
   ]
  },
  {
   "cell_type": "markdown",
   "metadata": {},
   "source": [
    "Ein leeres Set definieren wir wie folgt:"
   ]
  },
  {
   "cell_type": "code",
   "execution_count": null,
   "metadata": {},
   "outputs": [],
   "source": [
    "leeres_set = set()"
   ]
  },
  {
   "cell_type": "code",
   "execution_count": null,
   "metadata": {},
   "outputs": [],
   "source": [
    "konvertiert = set([1, 2, 3, 1, 2, 3])\n",
    "konvertiert"
   ]
  },
  {
   "cell_type": "markdown",
   "metadata": {},
   "source": [
    "Dies ist nicht zu verwechslen mit `{}`, welches einen leeren `dict` erzeugt:"
   ]
  },
  {
   "cell_type": "code",
   "execution_count": null,
   "metadata": {},
   "outputs": [],
   "source": [
    "leerer_dict = {}\n",
    "type(leerer_dict)"
   ]
  },
  {
   "cell_type": "markdown",
   "metadata": {},
   "source": [
    "Mit der Funktion `set` können wir auch andere Datentypen in Sets umwandeln:"
   ]
  },
  {
   "cell_type": "code",
   "execution_count": null,
   "metadata": {},
   "outputs": [],
   "source": [
    "liste = [5, 1, 2, 1, 3, 1, 2]\n",
    "set_aus_liste = set(liste)\n",
    "set_aus_liste  # auch hier wird die Liste dedupliziert"
   ]
  },
  {
   "cell_type": "code",
   "execution_count": null,
   "metadata": {},
   "outputs": [],
   "source": [
    "set_aus_liste[0]"
   ]
  },
  {
   "cell_type": "markdown",
   "metadata": {},
   "source": [
    "### 2.2 Operatoren von Sets\n",
    "Wir haben für Sets `==` und `!=`, wie bei Listen. Dabei kommt es auf die Reihenfolge nicht drauf an:"
   ]
  },
  {
   "cell_type": "code",
   "execution_count": null,
   "metadata": {},
   "outputs": [],
   "source": [
    "{1, 2, 3} == {3, 2, 1, 1, 1, 1, }"
   ]
  },
  {
   "cell_type": "markdown",
   "metadata": {},
   "source": [
    "Genauso haben wir `in`, um zu überprüfen, ob ein Element in einem Set bereits enthalten ist:"
   ]
  },
  {
   "cell_type": "code",
   "execution_count": null,
   "metadata": {},
   "outputs": [],
   "source": [
    "4 in {1, 2, 3}"
   ]
  },
  {
   "cell_type": "code",
   "execution_count": null,
   "metadata": {},
   "outputs": [],
   "source": [
    "1 in {1, 2, 3}"
   ]
  },
  {
   "cell_type": "markdown",
   "metadata": {},
   "source": [
    "Aber: Da Sets nicht sortiert sind, können wir nicht mit Indizes auf einzelne Elemente zugreifen. Daher gibt folgender Ausdruck einen Fehler:"
   ]
  },
  {
   "cell_type": "code",
   "execution_count": null,
   "metadata": {},
   "outputs": [],
   "source": [
    "set_aus_liste[1]"
   ]
  },
  {
   "cell_type": "markdown",
   "metadata": {},
   "source": [
    "Als wichtiger Unterschied zu Listen und Tuples haben wir für Sets Operatoren, welche aus der Mengenlehre kommen. So können wir mit `&` die Schnittmenge zweier Sets berechnen (also die Elemente identifizieren, welche in beiden Sets vorkommen)."
   ]
  },
  {
   "cell_type": "code",
   "execution_count": null,
   "metadata": {},
   "outputs": [],
   "source": [
    "{1, 2, 3} & {2, 3, 4}  # nur 2 und 3 sind in beiden Sets enthalten"
   ]
  },
  {
   "cell_type": "markdown",
   "metadata": {},
   "source": [
    "Mit `|` bestimmen wir die Vereinigung zweier Sets - wir erstellen also ein neues Set, welches alle Elemente des ersten und des zweiten Sets enthält."
   ]
  },
  {
   "cell_type": "code",
   "execution_count": null,
   "metadata": {},
   "outputs": [],
   "source": [
    "{1, 2, 3} | {2, 3, 4}"
   ]
  },
  {
   "cell_type": "markdown",
   "metadata": {},
   "source": [
    "Mit `-` machen wir eine Differenz zwischen Sets: Rechnen wir A - B für zwei Sets A und B gibt uns das Resultat alle Resultate in A, welche nicht auch in B enthalten sind:"
   ]
  },
  {
   "cell_type": "code",
   "execution_count": null,
   "metadata": {},
   "outputs": [],
   "source": [
    "{1, 2, 3} - {2, 3, 4}  # nur 1 ist in A, aber nicht in B enthalten"
   ]
  },
  {
   "cell_type": "markdown",
   "metadata": {},
   "source": [
    "`A >= B` überprüft, ob `B` eine Teilmenge von `A` ist - also ob B nur Elemente enthält, welche auch in A enthalten sind:"
   ]
  },
  {
   "cell_type": "code",
   "execution_count": null,
   "metadata": {},
   "outputs": [],
   "source": [
    "{1, 2, 3} >= {1, 2}  # {1, 2} ist vollständig in {1, 2, 3} enthalten"
   ]
  },
  {
   "cell_type": "code",
   "execution_count": null,
   "metadata": {},
   "outputs": [],
   "source": [
    "{1, 2, 3} >= {1, 4}  # 4 ist nicht in {1, 2, 3}, daher ist {1, 4} keine Teilmenge"
   ]
  },
  {
   "cell_type": "markdown",
   "metadata": {},
   "source": [
    "### 2.3 Methoden von Sets\n",
    "Wie erwähnt sind Sets veränderbare Objekte. Daher gibt es auch Methoden, welche ein Set verändern können - z.B., indem wir Elemente hinzufügen oder entfernen. Dies machen wir mit `add` und `discard`:"
   ]
  },
  {
   "cell_type": "code",
   "execution_count": null,
   "metadata": {},
   "outputs": [],
   "source": [
    "some_set = set()  # wir beginnen mit einem leeren Set\n",
    "some_set.add(1)\n",
    "some_set.add(2)\n",
    "some_set.add(3)\n",
    "some_set"
   ]
  },
  {
   "cell_type": "markdown",
   "metadata": {},
   "source": [
    "Wenn wir einen Wert hinzufügen, der bereits enthalten ist, passiert nichts:"
   ]
  },
  {
   "cell_type": "code",
   "execution_count": null,
   "metadata": {},
   "outputs": [],
   "source": [
    "some_set.add(3)\n",
    "some_set"
   ]
  },
  {
   "cell_type": "markdown",
   "metadata": {},
   "source": [
    "Mit `discard` entfernen wir einen Wert:"
   ]
  },
  {
   "cell_type": "code",
   "execution_count": null,
   "metadata": {},
   "outputs": [],
   "source": [
    "some_set.discard(3)\n",
    "some_set"
   ]
  },
  {
   "cell_type": "markdown",
   "metadata": {},
   "source": [
    "War ein Wert gar nicht im Set enthalten, passiert nichts:"
   ]
  },
  {
   "cell_type": "code",
   "execution_count": null,
   "metadata": {},
   "outputs": [],
   "source": [
    "some_set.discard(5)"
   ]
  },
  {
   "cell_type": "code",
   "execution_count": null,
   "metadata": {},
   "outputs": [],
   "source": [
    "some_set"
   ]
  },
  {
   "cell_type": "markdown",
   "metadata": {},
   "source": [
    "### 2.4 Über Sets iterieren\n",
    "Wie wohl mittlerweile zu erwarten ist, können wir über die Elemente eines Sets iterieren. Dies machen wir wie folgt:"
   ]
  },
  {
   "cell_type": "code",
   "execution_count": null,
   "metadata": {},
   "outputs": [],
   "source": [
    "for element in {\"a\",\"A\", \"c\", \"d\"}:\n",
    "    print(element)"
   ]
  },
  {
   "cell_type": "markdown",
   "metadata": {},
   "source": [
    "Da Sets nicht geordnet sind, kann nicht garantiert werden, in welcher Reihenfolge die Elemente verarbeitet werden."
   ]
  },
  {
   "cell_type": "markdown",
   "metadata": {},
   "source": [
    "### 2.5 Funktionen auf Sets\n",
    "Wir können dieselben Funktionen auf Sets anwenden, welche wir auch für die Listen kennen. Die Länge bestimmen wir so:"
   ]
  },
  {
   "cell_type": "code",
   "execution_count": null,
   "metadata": {},
   "outputs": [],
   "source": [
    "beispiel = {1, 2, 3, 1, 2, 3}\n",
    "len(beispiel)"
   ]
  },
  {
   "cell_type": "markdown",
   "metadata": {},
   "source": [
    "Den grössten Wert, der darin enthalten ist:"
   ]
  },
  {
   "cell_type": "code",
   "execution_count": null,
   "metadata": {},
   "outputs": [],
   "source": [
    "max(beispiel)"
   ]
  },
  {
   "cell_type": "markdown",
   "metadata": {},
   "source": [
    "Den kleinsten Wert:"
   ]
  },
  {
   "cell_type": "code",
   "execution_count": null,
   "metadata": {},
   "outputs": [],
   "source": [
    "min(beispiel)"
   ]
  },
  {
   "cell_type": "markdown",
   "metadata": {},
   "source": [
    "<br><br><br><br><br>\n",
    "<div class=\"exercise\">\n",
    "\n",
    "<img src=\"https://i.imgur.com/JyhBeDB.png\" class=\"exercise_image\" width=100>\n",
    "\n",
    "<span class=\"exercise_label\">**Aufgabe:**</span>\n",
    "Schreibe eine Funktion, welche zählt, wie viele unterschiedliche Elemente in einer Liste enthalten sind. Beispiele:\n",
    "\n",
    "```\n",
    "[1, 1, 1] -> 1\n",
    "[1, 2, 3] -> 3\n",
    "[1, 1, 2] -> 2\n",
    "```\n",
    "</div>"
   ]
  },
  {
   "cell_type": "markdown",
   "metadata": {},
   "source": [
    "## 3. Comprehensions\n",
    "Sehr häufig haben wir die Situation, dass wir alle Elemente einer Liste, Sets, Tuples oder Dictionaries nach einem bestimmten Muster verändern wollen. Wenn wir aus einer Liste von Zahlen die Quadratzahlen berechnen wollen, haben wir das bis jetzt so gemacht:"
   ]
  },
  {
   "cell_type": "code",
   "execution_count": null,
   "metadata": {},
   "outputs": [],
   "source": [
    "zahlenliste = [5, 2, 1, 4]\n",
    "quadrat = []\n",
    "for zahl in zahlenliste:\n",
    "    quadrat.append(zahl * zahl)\n",
    "\n",
    "quadrat"
   ]
  },
  {
   "cell_type": "markdown",
   "metadata": {},
   "source": [
    "Da dies so häufig vorkommt, haben wir in Python für diese Art von Transformation spezielle for-Loops: Sogenannte \"Comprehensions\".\n",
    "\n",
    "### 3.1 List-Comprehension\n",
    "Eine List-Comprehension kann alles, worüber wir mit einem normalen `for`-Loop iterieren können, transformieren und als Liste speichern. Eine List-Comprehension sieht wie folgt aus:"
   ]
  },
  {
   "cell_type": "code",
   "execution_count": null,
   "metadata": {},
   "outputs": [],
   "source": [
    "zahlenliste = [5, 2, 1, 4]\n",
    "quadrat = [\n",
    "    zahl * zahl\n",
    "    for zahl \n",
    "    in zahlenliste\n",
    "]\n",
    "quadrat"
   ]
  },
  {
   "cell_type": "markdown",
   "metadata": {},
   "source": [
    "Dies ist einerseits schöner zu lesen, aber anderseits auch schneller in der Berechnung. Wir können dabei die Zahlen so transformieren, wie wir wollen. Zum Beispiel können wir dabei auch Funtionen auf jedes Element einer Liste anwenden:"
   ]
  },
  {
   "cell_type": "code",
   "execution_count": null,
   "metadata": {},
   "outputs": [],
   "source": [
    "def faktorial(n):\n",
    "    \"\"\"Berechnet n! für eine positive ganze Zahl n.\"\"\"\n",
    "    resultat = 1\n",
    "    for i in range(1, n+1):\n",
    "        resultat = i * resultat\n",
    "    return resultat\n",
    "\n",
    "faktorial_liste = [faktorial(zahl) for zahl in zahlenliste]\n",
    "faktorial_liste"
   ]
  },
  {
   "cell_type": "markdown",
   "metadata": {},
   "source": [
    "### 3.2 Set- und Dict-Comprehension\n",
    "Genauso wie wir mit Comprehensions Listen erstellen können, können wir auch Sets und Dictionaries erstellen. Sets erzeugen wir wie folgt:"
   ]
  },
  {
   "cell_type": "code",
   "execution_count": null,
   "metadata": {},
   "outputs": [],
   "source": [
    "zahlenliste = [2, 4, 2, 3]\n",
    "quadrate_als_set = {zahl * zahl for zahl in zahlenliste}  # Unterschied: {} statt []\n",
    "quadrate_als_set"
   ]
  },
  {
   "cell_type": "markdown",
   "metadata": {},
   "source": [
    "Da das Resultat dabei zu einem Set gemacht wird, werden die Elemente auch dedupliziert."
   ]
  },
  {
   "cell_type": "code",
   "execution_count": null,
   "metadata": {},
   "outputs": [],
   "source": [
    "resultat = {}\n",
    "beispiel = {\"a\": 3, \"b\": 1, \"c\": -2}\n",
    "\n",
    "for tuple in beispiel.items():\n",
    "    k = tuple[0]\n",
    "    v = tuple[1]\n",
    "\n",
    "    resultat[k] = v * v\n"
   ]
  },
  {
   "cell_type": "code",
   "execution_count": null,
   "metadata": {},
   "outputs": [],
   "source": [
    "beispiel = {\"a\": 3, \"b\": 1, \"c\": -2}\n",
    "\n",
    "quadriert = {\n",
    "    k: v * v\n",
    "    for k, v in beispiel.items()\n",
    "}"
   ]
  },
  {
   "cell_type": "markdown",
   "metadata": {},
   "source": [
    "### 3.3 Filter mit Comprehensions\n",
    "Wir können in einer for-Comprehension auch Elemente filtern. Hierzu ein Beispiel:"
   ]
  },
  {
   "cell_type": "code",
   "execution_count": null,
   "metadata": {},
   "outputs": [],
   "source": [
    "numbers = [1, 3, 5, 6]\n",
    "square = [a**2 for a in numbers if a % 2 == 0]\n"
   ]
  },
  {
   "cell_type": "markdown",
   "metadata": {},
   "source": [
    "Dies macht genau dasselbe wie:\n"
   ]
  },
  {
   "cell_type": "code",
   "execution_count": null,
   "metadata": {},
   "outputs": [],
   "source": [
    "output = []\n",
    "for a in numbers:\n",
    "    if a % 2 == 0:\n",
    "        output.append(a ** 2)\n"
   ]
  },
  {
   "cell_type": "code",
   "execution_count": null,
   "metadata": {},
   "outputs": [],
   "source": [
    "result = 0\n",
    "for e in liste:\n",
    "    if e > 0:\n",
    "        result = result + e"
   ]
  },
  {
   "cell_type": "code",
   "execution_count": null,
   "metadata": {},
   "outputs": [],
   "source": [
    "liste = [1, 3, -2, 5]\n",
    "sum([e for e in liste if e > 0])"
   ]
  },
  {
   "cell_type": "markdown",
   "metadata": {},
   "source": [
    "<br><br><br><br><br>\n",
    "<div class=\"exercise\">\n",
    "\n",
    "<img src=\"https://i.imgur.com/JyhBeDB.png\" class=\"exercise_image\" width=100>\n",
    "\n",
    "<span class=\"exercise_label\">**Aufgaben:**</span>\n",
    "\n",
    "Schreibe folgende Code-Zeilen mit Comprehensions um:\n",
    "\n",
    "**a.**\n",
    "```python\n",
    "output = set()\n",
    "for e in [1, 3, 7, 3, 10]:\n",
    "    output.add(e % 3)\n",
    "```\n",
    "\n",
    "**b.**\n",
    "```python\n",
    "output = {}\n",
    "for fruit in \"apple\", \"banana\", \"cherry\":\n",
    "    output[fruit] = fruit[0]\n",
    "```\n",
    "\n",
    "**c.**\n",
    "```python\n",
    "output = []\n",
    "for word in \"Apple\", \"banana\", \"Cherry\":\n",
    "    if word.lower() == word:\n",
    "        output.append(word)\n",
    "\n",
    "```\n",
    "\n",
    "**d.**\n",
    "```python\n",
    "table = [\n",
    "    (\"hans\", 42),\n",
    "    (\"peter\", 19),\n",
    "    (\"vreni\", 76),\n",
    "]\n",
    "age_dictionary = {}\n",
    "for name, age in table:\n",
    "    age_dictionary[name] = age\n",
    "\n",
    "```\n",
    "</div>"
   ]
  },
  {
   "cell_type": "markdown",
   "metadata": {},
   "source": [
    "## 4. String-Formattierung\n",
    "Wenn wir bis jetzt Zahlen in Strings einfügen wollten, mussten wir diese zuerst in eine `str` umwandeln und dann mit `+` konkatenieren. Bei Zahlen mit Kommastellen konnten wir nicht kontrollieren, wie viele Nachkommastellen dabei angezeigt werden. Um dies zu vereinfachen kennt Python verschiedene Arten, um beliebige Objekte in Strings einzufügen. Diese schauen wir uns in diesem Kapitel an.\n",
    "\n",
    "### 4.1 Einfache `f`-Strings\n",
    "Die erste Art, Strings zu formattieren, sind sogenannte f-Strings. Wir können dabei direkt unsere Variablen in die String integrieren. Eine f-String sieht wie folgt aus:"
   ]
  },
  {
   "cell_type": "code",
   "execution_count": null,
   "metadata": {},
   "outputs": [],
   "source": [
    "variable = 1.3\n",
    "f\"Unsere Variable hat Wert {variable}\""
   ]
  },
  {
   "cell_type": "markdown",
   "metadata": {},
   "source": [
    "Eine f-String beginnt also mit dem Buchstaben `f`, gefolgt von den Anführungszeichen einer \"normalen\" String. Anschliessend können wir wie bei einer normalen String beliebigen Text eingeben. Wenn wir auf Variablen zugreifen wollen, können wir diese in geschweiften Klammern (`{}`) angeben.\n",
    "\n",
    "Wir können mit `f`-Strings auch Texte einfügen:"
   ]
  },
  {
   "cell_type": "code",
   "execution_count": null,
   "metadata": {},
   "outputs": [],
   "source": [
    "name = \"Fritz\"\n",
    "f\"Hallo {name}\""
   ]
  },
  {
   "cell_type": "markdown",
   "metadata": {},
   "source": [
    "### 4.2 Mindestlänge formattieren\n",
    "Wir können aber noch genauer kontrollieren, wie eine String eingefügt wird. Zum Beispiel können wir angeben, wie lange die eingefügte String mindestens sein soll. Dies machen wir mit einem Doppelpunkt nach dem Variablenname, gefolgt von der gewünschten Länge."
   ]
  },
  {
   "cell_type": "code",
   "execution_count": null,
   "metadata": {},
   "outputs": [],
   "source": [
    "name = \"Fritz\"\n",
    "f\"Name___{name:7}___\""
   ]
  },
  {
   "cell_type": "code",
   "execution_count": null,
   "metadata": {},
   "outputs": [],
   "source": [
    "f\"Zahl___{variable:7}___\""
   ]
  },
  {
   "cell_type": "markdown",
   "metadata": {},
   "source": [
    "Ob die Leerzeichen rechts oder links der Variable eingefügt werden, kontrollieren wir mit `<` oder `>` vor der Zahl (wobei der Pfeil in die Seite zeigt, auf der die Variable eingefügt werden soll)."
   ]
  },
  {
   "cell_type": "code",
   "execution_count": null,
   "metadata": {},
   "outputs": [],
   "source": [
    "f\"Name___{name:<7}___\""
   ]
  },
  {
   "cell_type": "code",
   "execution_count": null,
   "metadata": {},
   "outputs": [],
   "source": [
    "f\"Name___{name:>7}___\""
   ]
  },
  {
   "cell_type": "code",
   "execution_count": null,
   "metadata": {},
   "outputs": [],
   "source": [
    "f\"Zahl___{variable:<7}___\""
   ]
  },
  {
   "cell_type": "code",
   "execution_count": null,
   "metadata": {},
   "outputs": [],
   "source": [
    "f\"Zahl___{variable:>7}___\""
   ]
  },
  {
   "cell_type": "markdown",
   "metadata": {},
   "source": [
    "### 4.3 Zahlen formattieren\n",
    "Wir können bei `f`-Strings aber noch genauer kontrollieren, wie eine Zahl eingefügt wird. Zum Beispiel können wir zwischen mehreren Formaten auswählen, wie:\n",
    "- `f`: \"normale\" Darstellung mit Kommastellen\n",
    "- `e`: Wissenschaftliche Schreibweise\n",
    "- `%`: Prozentzahl"
   ]
  },
  {
   "cell_type": "code",
   "execution_count": null,
   "metadata": {},
   "outputs": [],
   "source": [
    "zahl = 0.5\n",
    "\n",
    "print(f\"Format f: {zahl:f}\")\n",
    "print(f\"Format e: {zahl:e}\")\n",
    "print(f\"Format %: {zahl:%}\")"
   ]
  },
  {
   "cell_type": "markdown",
   "metadata": {},
   "source": [
    "Wir können überdies auch noch kontrollieren, wie viele Nachkommastellen wir angeben wollen. Dies geben wir wie folgt an:"
   ]
  },
  {
   "cell_type": "code",
   "execution_count": null,
   "metadata": {},
   "outputs": [],
   "source": [
    "zahl = 0.5\n",
    "\n",
    "print(f\"Format f, 3 Nachkommastellen: {zahl:.3f}\")\n",
    "print(f\"Format e, 3 Nachkommastellen: {zahl:.3e}\")\n",
    "print(f\"Format %, 3 Nachkommastellen: {zahl:.3%}\")"
   ]
  },
  {
   "cell_type": "markdown",
   "metadata": {},
   "source": [
    "Und wir können dies mit der Mindestlänge kombinieren, wie zuvor gezeigt:"
   ]
  },
  {
   "cell_type": "code",
   "execution_count": null,
   "metadata": {},
   "outputs": [],
   "source": [
    "zahl = 0.5\n",
    "\n",
    "print(f\"Format f, 3 Nachkommastellen: {zahl:12.3f}\")\n",
    "print(f\"Format e, 3 Nachkommastellen: {zahl:12.3e}\")\n",
    "print(f\"Format %, 3 Nachkommastellen: {zahl:12.3%}\")"
   ]
  },
  {
   "cell_type": "markdown",
   "metadata": {},
   "source": [
    "Zusammengefasst gilt also für die Formattierung von Zahlen: \n",
    "- Variablenname\n",
    "- Doppelpunkt\n",
    "- `<` oder `>`, um anzugeben, auf welcher Seite die Leerzeichen eingefügt werden sollen\n",
    "- Mindestlänge\n",
    "- Punkt\n",
    "- Anzahl Nachkommastellen\n",
    "- Buchstabe, welcher das Format angibt."
   ]
  },
  {
   "cell_type": "code",
   "execution_count": null,
   "metadata": {},
   "outputs": [],
   "source": [
    "f\"Format %, 3 Nachkommastellen: {zahl:>12.3%}\""
   ]
  },
  {
   "cell_type": "markdown",
   "metadata": {},
   "source": [
    "### 4.4 Formattierung mit `.format`\n",
    "Wir können nicht nur mit `f`-Strings formatieren, sondern auch mit `.format`. Dazu verwenden wir \"normale\" Strings. An denjenigen Stellen, an denen eine Variable eingesetzt werden soll, machen wir geschweifte Klammern:"
   ]
  },
  {
   "cell_type": "code",
   "execution_count": null,
   "metadata": {},
   "outputs": [],
   "source": [
    "\"normale String mit Zahl {}\".format(5)"
   ]
  },
  {
   "cell_type": "code",
   "execution_count": null,
   "metadata": {},
   "outputs": [],
   "source": [
    "\"normale String mit mehreren Variablen: Zahl {}, Text {}\".format(5, \"hallo\")"
   ]
  },
  {
   "cell_type": "markdown",
   "metadata": {},
   "source": [
    "Um das Einfügen übersichtlicher zu gestalten, können wir auch die geschweiften Klammern mit einer String identifizieren. Dann müssen wir in `.format` die einzufügenden Werten mit Keyword Arguments übergeben."
   ]
  },
  {
   "cell_type": "code",
   "execution_count": null,
   "metadata": {},
   "outputs": [],
   "source": [
    "\"normale String mit mehreren Variablen: Zahl {zahl123}, Text {text}\".format(zahl123=5, text=\"hallo\")"
   ]
  },
  {
   "cell_type": "markdown",
   "metadata": {},
   "source": [
    "Wir können genau gleich die eingefügten Texte und Zahlen formattieren:"
   ]
  },
  {
   "cell_type": "code",
   "execution_count": null,
   "metadata": {},
   "outputs": [],
   "source": [
    "\"Zahl {:<12.3f}\".format(252.34)"
   ]
  },
  {
   "cell_type": "code",
   "execution_count": null,
   "metadata": {},
   "outputs": [],
   "source": [
    "\"Zahl {zahl:<12.3f}\".format(zahl=252.34)"
   ]
  },
  {
   "cell_type": "markdown",
   "metadata": {},
   "source": [
    "Wann brauchen wir das? Der Vorteil im Gegensatz zu f-Strings ist, dass wir die String, in die wir eine Zahl einfügen wollen, bereits vordefinieren können. Wir können also Templates erstellen, welche wir je nach Situation unterschiedlich befüllen."
   ]
  },
  {
   "cell_type": "code",
   "execution_count": null,
   "metadata": {},
   "outputs": [],
   "source": [
    "tabellenzeile = \"|{:>12} | {:>12} | {:>12}|\"\n",
    "\n",
    "print(tabellenzeile.format(\"Hans\", \"Muster\", 23))\n",
    "print(tabellenzeile.format(\"Fritz\", \"Bühler\", 82))"
   ]
  },
  {
   "cell_type": "markdown",
   "metadata": {},
   "source": [
    "Und wir können die String, welche es zu befüllen gilt, auch automatisiert erstellen."
   ]
  },
  {
   "cell_type": "markdown",
   "metadata": {},
   "source": [
    "## 5. Beliebige Anzahl an Argumenten an Funktionen übergeben\n",
    "Bis jetzt haben wir bei der Funktionsdefinion immer eine bestimmte Anzahl an Argumenten angegeben. Als Beispiel:"
   ]
  },
  {
   "cell_type": "code",
   "execution_count": null,
   "metadata": {},
   "outputs": [],
   "source": [
    "def f(a, b, c):\n",
    "    return a + b + c"
   ]
  },
  {
   "cell_type": "markdown",
   "metadata": {},
   "source": [
    "Wir können die Funktion `f` nur mit genau 3 Argumenten aufrufen."
   ]
  },
  {
   "cell_type": "code",
   "execution_count": null,
   "metadata": {},
   "outputs": [],
   "source": [
    "f(1, 2, 3)"
   ]
  },
  {
   "cell_type": "markdown",
   "metadata": {},
   "source": [
    "Wir können das Problem etwas verstecken, indem wir Standardwerte definieren:"
   ]
  },
  {
   "cell_type": "code",
   "execution_count": null,
   "metadata": {},
   "outputs": [],
   "source": [
    "def f(a, b=0, c=0):\n",
    "    return a + b + c"
   ]
  },
  {
   "cell_type": "code",
   "execution_count": null,
   "metadata": {},
   "outputs": [],
   "source": [
    "f(1)"
   ]
  },
  {
   "cell_type": "markdown",
   "metadata": {},
   "source": [
    "Aber auch so können wir die Funktion nicht mit mehr als 3 Argumenten aufrufen:"
   ]
  },
  {
   "cell_type": "code",
   "execution_count": null,
   "metadata": {},
   "outputs": [],
   "source": [
    "f(1, 2, 3, 4)"
   ]
  },
  {
   "cell_type": "markdown",
   "metadata": {},
   "source": [
    "Zum Vergleich: Die Funktion `print` können wir mit einer beliebigen Anzahl an Argumenten aufrufen: Egal, wieviele Werte wir durch Komma getrennt mitgeben, wir erhalten nie den TypeError von oben:"
   ]
  },
  {
   "cell_type": "code",
   "execution_count": null,
   "metadata": {},
   "outputs": [],
   "source": [
    "print(1, 2, 3, 4, 5, 6)"
   ]
  },
  {
   "cell_type": "markdown",
   "metadata": {},
   "source": [
    "In diesem Abschnitt lernen wir, wie wir dies auch für unsere Funktionen machen können."
   ]
  },
  {
   "cell_type": "markdown",
   "metadata": {},
   "source": [
    "### 5.1 Variable Anzahl an \"positional arguments\"\n",
    "Die Syntax, um eine beliebige Anzahl an \"positional arguments\" entgegennehmen, sieht wie folgt aus:"
   ]
  },
  {
   "cell_type": "code",
   "execution_count": null,
   "metadata": {},
   "outputs": [],
   "source": [
    "def summe_von_argumenten(*argumente):\n",
    "    pass"
   ]
  },
  {
   "cell_type": "markdown",
   "metadata": {},
   "source": [
    "Dies sieht sehr ähnlich aus wie die Entpackung von Tuples, und funktioniert auch fast gleich: Die Variable \"argumente\" enthält nun ein Tuple mit all den Argumenten, welche wir übergeben haben: "
   ]
  },
  {
   "cell_type": "code",
   "execution_count": null,
   "metadata": {},
   "outputs": [],
   "source": [
    "def summe_von_argumenten(*argumente):\n",
    "    print(argumente)\n",
    "    print(type(argumente))"
   ]
  },
  {
   "cell_type": "code",
   "execution_count": null,
   "metadata": {},
   "outputs": [],
   "source": [
    "summe_von_argumenten(1, 2, 3)"
   ]
  },
  {
   "cell_type": "markdown",
   "metadata": {},
   "source": [
    "Wenn wir nun die Summe zurückgeben wollen, können wir dies ganz einfach wie folgt tun:"
   ]
  },
  {
   "cell_type": "code",
   "execution_count": null,
   "metadata": {},
   "outputs": [],
   "source": [
    "def summe_von_argumenten(*argumente):\n",
    "    print(argumente)\n",
    "    return sum(argumente)\n",
    "\n",
    "summe_von_argumenten(1, 2, 3, 4, 5, 6, 7, 8, 9)"
   ]
  },
  {
   "cell_type": "markdown",
   "metadata": {},
   "source": [
    "Wir können auch noch andere \"positional arguments\" hinzufügen:"
   ]
  },
  {
   "cell_type": "code",
   "execution_count": null,
   "metadata": {},
   "outputs": [],
   "source": [
    "def summe_von_argumenten(erstes_argument, *argumente):\n",
    "    print(\"Erstes argument:\", erstes_argument)\n",
    "    print(argumente)\n",
    "    return sum(argumente) + erstes_argument\n",
    "\n",
    "summe_von_argumenten(1, 2, 3, 4, 5, 6)"
   ]
  },
  {
   "cell_type": "markdown",
   "metadata": {},
   "source": [
    "Wie bei der Tuple-Entpackung können wir nicht mehrere Argumente mit `*` kennzeichnen:"
   ]
  },
  {
   "cell_type": "code",
   "execution_count": null,
   "metadata": {},
   "outputs": [],
   "source": [
    "def f(*a, b, *c):\n",
    "    pass"
   ]
  },
  {
   "cell_type": "markdown",
   "metadata": {},
   "source": [
    "Im Gegensatz zur Tuple-Entpackung können wir allerdings nicht *zuerst* die \"gesammelten\" Argumente definieren, und anschliessend ein Argument nach Position übergeben:"
   ]
  },
  {
   "cell_type": "code",
   "execution_count": null,
   "metadata": {},
   "outputs": [],
   "source": [
    "*a, b = 1, 2, 3, 4, 5"
   ]
  },
  {
   "cell_type": "code",
   "execution_count": null,
   "metadata": {},
   "outputs": [],
   "source": [
    "b"
   ]
  },
  {
   "cell_type": "code",
   "execution_count": null,
   "metadata": {},
   "outputs": [],
   "source": [
    "def summe_von_argumenten(*argumente, letztes_argument=0):\n",
    "    print(\"Letztes argument:\", letztes_argument)\n",
    "    return sum(argumente) + letztes_argument\n"
   ]
  },
  {
   "cell_type": "code",
   "execution_count": null,
   "metadata": {},
   "outputs": [],
   "source": [
    "\n",
    "summe_von_argumenten(1, 2, 3, 4, 5, 6)"
   ]
  },
  {
   "cell_type": "markdown",
   "metadata": {},
   "source": [
    "Wenn wir dies machen wollen, müssen wir das letzte Argument mit dem Namen übergeben (als Keyword Argument):"
   ]
  },
  {
   "cell_type": "code",
   "execution_count": null,
   "metadata": {},
   "outputs": [],
   "source": [
    "summe_von_argumenten(1, 2, 3, 4, 5, letztes_argument=6)"
   ]
  },
  {
   "cell_type": "markdown",
   "metadata": {},
   "source": [
    "<br><br><br><br><br>\n",
    "<div class=\"exercise\">\n",
    "\n",
    "<img src=\"https://i.imgur.com/JyhBeDB.png\" class=\"exercise_image\" width=100>\n",
    "\n",
    "<span class=\"exercise_label\">**Aufgabe:**</span>\n",
    "Schreibe eine Funktion, welche eine beliebige Anzahl an Argumenten entgegennimmt, und diese anschliessend zu einer einzigen langen Zeichenkette verkettet. Die einzelnen Elemente sollten durch einen Leerschlag getrennt sein.\n",
    "</div>"
   ]
  },
  {
   "cell_type": "markdown",
   "metadata": {},
   "source": [
    "### 5.2 Variable Anzahl an \"keyword arguments\"\n",
    "Genauso wie bei den positional arguments können wir auch eine variable Anzahl an Keyword Arguments verwerten. Die Syntax dazu sieht so aus:"
   ]
  },
  {
   "cell_type": "code",
   "execution_count": null,
   "metadata": {},
   "outputs": [],
   "source": [
    "def funktion(**keyword_arguments):\n",
    "    pass"
   ]
  },
  {
   "cell_type": "markdown",
   "metadata": {},
   "source": [
    "Das Argument, welches die \"keyword arguments\" entgegennimmt, wird also mit zwei Sternchen gekennzeichnet. Innerhalb der Funktion sind die übergebenen keyword arguments als `dict` verfügbar."
   ]
  },
  {
   "cell_type": "code",
   "execution_count": null,
   "metadata": {},
   "outputs": [],
   "source": [
    "def funktion(**keyword_arguments):\n",
    "    print(keyword_arguments)\n",
    "    print(type(keyword_arguments))"
   ]
  },
  {
   "cell_type": "code",
   "execution_count": null,
   "metadata": {},
   "outputs": [],
   "source": [
    "funktion(a=1, b=2)"
   ]
  },
  {
   "cell_type": "markdown",
   "metadata": {},
   "source": [
    "<br><br><br><br><br>\n",
    "<div class=\"exercise\">\n",
    "\n",
    "<img src=\"https://i.imgur.com/JyhBeDB.png\" class=\"exercise_image\" width=100>\n",
    "\n",
    "<span class=\"exercise_label\">**Aufgabe:**</span>\n",
    "Schreibe eine Funktion, welche eine variable Anzahl an \"keyword arguments\" entgegennimmt. Anschliessend soll sie alle übergebenen Keyword Arguments als Key-Value-Paar mit `print` darstellen:\n",
    "\n",
    "Beispiel:\n",
    "```\n",
    "funktion(a=3, b=6, c=\"123\")\n",
    "\n",
    "a 3\n",
    "b 6\n",
    "c 123\n",
    "```\n",
    "\n",
    "</div>"
   ]
  },
  {
   "cell_type": "markdown",
   "metadata": {},
   "source": [
    "### 5.3 Listen und Tuples bei der Übergabe entpacken\n",
    "Wir können auch genau das Gegenteil machen: Wir können eine Liste (oder ein Tuple) entpacken und als einzelne Funktionsargumente übergeben. Hier ein Beispiel:"
   ]
  },
  {
   "cell_type": "code",
   "execution_count": null,
   "metadata": {},
   "outputs": [],
   "source": [
    "# Unsere Funktion sieht ganz normal aus\n",
    "def f(a, b, c):\n",
    "    return a + b + c"
   ]
  },
  {
   "cell_type": "code",
   "execution_count": null,
   "metadata": {},
   "outputs": [],
   "source": [
    "liste = (1, 2, 3)\n",
    "\n",
    "f(*liste)  # Liste wird beim Funktionsaufruf entpackt"
   ]
  },
  {
   "cell_type": "markdown",
   "metadata": {},
   "source": [
    "Durch die Verwendung eines `*` vor dem Variablennamen der Liste oder des Tuples wird dieses beim Funktionsaufruf entpackt und einzeln an die \"positional arguments\" weitergegeben.\n",
    "\n",
    "Dies funktioniert allerdings nur, wenn die Liste auch die richtige Länge hat:"
   ]
  },
  {
   "cell_type": "code",
   "execution_count": null,
   "metadata": {},
   "outputs": [],
   "source": [
    "liste = (1, 2, 3, 4)\n",
    "\n",
    "f(*liste)  # Liste wird beim Funktionsaufruf entpackt"
   ]
  },
  {
   "cell_type": "markdown",
   "metadata": {},
   "source": [
    "<br><br><br><br><br>\n",
    "<div class=\"exercise\">\n",
    "\n",
    "<img src=\"https://i.imgur.com/JyhBeDB.png\" class=\"exercise_image\" width=100>\n",
    "\n",
    "<span class=\"exercise_label\">**Aufgabe:**</span>\n",
    "Schreibe eine Funktion, welche eine Liste von Listen entgegennimmt. Diese Tabelle soll so angezeigt werden, dass jedes Feld auf beiden Seiten durch ein `|` abgegrenzt ist, mindestens 12 Zeichen enthält, und die Leerschläge auf der linken Seite des Feldes sind. Du kannst davon ausgehen, dass alle Zeilen der Tabelle gleich lang sind.\n",
    "\n",
    "Gehe dazu wie folgt vor:\n",
    "- Baue ein String Template, welches die gewünschte Anzahl an Felder hat\n",
    "- Rufe für jede Zeile `template.format` auf, und entpacke beim Funktionsaufruf die Zeile\n",
    "\n",
    "```\n",
    "[\n",
    "    [1, 2],\n",
    "    [\"fritz\", \"andreas\"],\n",
    "]\n",
    "```\n",
    "Wird zu:\n",
    "```\n",
    "|           1|           2|\n",
    "|       fritz|     andreas|\n",
    "```\n",
    "</div>"
   ]
  },
  {
   "cell_type": "markdown",
   "metadata": {},
   "source": [
    "### 5.4 Dictionaries bei der Übergabe entpacken\n",
    "Um \"keyword arguments\" zu übergeben, können wir Dictionaries entpacken. Dies sieht wie folgt aus: "
   ]
  },
  {
   "cell_type": "code",
   "execution_count": null,
   "metadata": {},
   "outputs": [],
   "source": [
    "def f(a, b, c):\n",
    "    return a + b + c\n",
    "\n",
    "dictionary = {\n",
    "    \"a\": 1,\n",
    "    \"b\": 2,\n",
    "    \"c\": 3,\n",
    "}\n",
    "f(**dictionary)\n"
   ]
  },
  {
   "cell_type": "markdown",
   "metadata": {},
   "source": [
    "Es handelt sich zum Pendant vom Abschnitt 5.3, nur dass wir nun statt `*` die Variable mit zwei Sternchen, `**` entpacken."
   ]
  },
  {
   "cell_type": "markdown",
   "metadata": {},
   "source": [
    "<br><br><br><br><br>\n",
    "<div class=\"exercise\">\n",
    "\n",
    "<img src=\"https://i.imgur.com/JyhBeDB.png\" class=\"exercise_image\" width=100>\n",
    "\n",
    "<span class=\"exercise_label\">**Aufgabe:**</span>\n",
    "Wir wollen eine Funktion `aeussere_funktion` schrieben, welche eine zweite Funktion `innere_funktion`, aufruft. Die `innere_funktion` sieht wie folgt aus:\n",
    "\n",
    "```python\n",
    "def innere_funktion(arg1=\"default1\", arg2=\"default2\", arg3=\"default3\"):\n",
    "    print(\"Innere Funktion\")\n",
    "    print(arg1, arg2, arg3)\n",
    "```\n",
    "\n",
    "Die `aeussere_funktion` hat ein \"positional argument\", welches zuerst geprinted wird. Ausserdem sollen auch alle Argumente der inneren Funktion zur Verfügung stehen, welche weitergeleitet werden. \n",
    "\n",
    "Wir könnten dies wie folgt machen:\n",
    "```python\n",
    "def aeussere_funktion(arg_aeussere_funktion, arg1=\"default1\", arg2=\"default2\", arg3=\"default3\"):\n",
    "    print(\"Aeussere Funktion\")\n",
    "    print(arg_aeussere_funktion)\n",
    "    innere_funktion(arg1=arg1, arg2=arg2, arg3=arg3)\n",
    "```\n",
    "\n",
    "Allerdings ist diese Lösung nicht sehr elegant, da wir die Funktionsdefinition \"copy-pasten\" müssen. Kannst du es mit einer variablen Anzahl an \"keyword arguments\" sowie der Dictionary-Entpackung besser lösen?\n",
    "\n",
    "</div>"
   ]
  },
  {
   "cell_type": "code",
   "execution_count": null,
   "metadata": {},
   "outputs": [],
   "source": [
    "def innere_funktion(arg1=\"default1\", arg2=\"default2\", arg3=\"default3\"):\n",
    "    print(\"Innere Funktion\")\n",
    "    print(arg1, arg2, arg3)\n"
   ]
  },
  {
   "cell_type": "code",
   "execution_count": null,
   "metadata": {},
   "outputs": [],
   "source": [
    "def aeussere_funktion(arg_aeussere_funktion, **keyword_arguments):\n",
    "    print(\"Aeussere Funktion\")\n",
    "    print(arg_aeussere_funktion)\n",
    "**keyword_arguments\n",
    "    innere_funktion(**keyword_arguments)\n"
   ]
  },
  {
   "cell_type": "code",
   "execution_count": null,
   "metadata": {},
   "outputs": [],
   "source": [
    "aeussere_funktion(123, arg1=\"wohoo\")"
   ]
  },
  {
   "cell_type": "markdown",
   "metadata": {},
   "source": [
    "<br><br><br><br><br>\n",
    "<div class=\"exercise\">\n",
    "\n",
    "<img src=\"https://i.imgur.com/JyhBeDB.png\" class=\"exercise_image\" width=100>\n",
    "\n",
    "<span class=\"exercise_label\">**Aufgabe:**</span>\n",
    "Schreibe eine Funktion `format`, welche als erstes Argument eine Template-String entgegennimmt. Anschliessend nimmt es verschiedene Named Arguments entgegen. Die Named Arguments ersetzen dann die Platzhalter in der template String, wie bei der Funktion `str.format`. Beispiel:\n",
    "\n",
    "```python\n",
    "format(\"Zahl 1: {zahl1}, Zahl 2: {zahl2}\", zahl1=5, zahl2=3)\n",
    "\n",
    "# wird zu\n",
    "\"Zahl 1: 5, Zahl 2: 3\"\n",
    "```\n",
    "\n",
    "\n",
    "</div>"
   ]
  },
  {
   "cell_type": "code",
   "execution_count": null,
   "metadata": {},
   "outputs": [],
   "source": []
  }
 ],
 "metadata": {
  "kernelspec": {
   "display_name": ".venv",
   "language": "python",
   "name": "python3"
  },
  "language_info": {
   "codemirror_mode": {
    "name": "ipython",
    "version": 3
   },
   "file_extension": ".py",
   "mimetype": "text/x-python",
   "name": "python",
   "nbconvert_exporter": "python",
   "pygments_lexer": "ipython3",
   "version": "3.10.9"
  }
 },
 "nbformat": 4,
 "nbformat_minor": 2
}
