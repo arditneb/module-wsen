{
 "cells": [
  {
   "cell_type": "markdown",
   "metadata": {},
   "source": [
    "## Kurz und bündig\n",
    "Hier ein paar schnelle Aufgaben"
   ]
  },
  {
   "cell_type": "markdown",
   "metadata": {},
   "source": [
    "### Dictionary umkehren\n",
    "Schreibe eine Funktion, welche einen Dictionary umkehrt: Für jedes key-value-Paar wird der Key zum Value, und umgekehrt. Du kannst davon ausgehen, dass die Values \"unique\" und hashable sind.\n",
    "\n",
    "Beispiel: `{\"a\": 1} --> {1: \"a\"}`"
   ]
  },
  {
   "cell_type": "code",
   "execution_count": null,
   "metadata": {},
   "outputs": [],
   "source": []
  },
  {
   "cell_type": "markdown",
   "metadata": {},
   "source": [
    "### Login\n",
    "Schreibe eine Funktion, welche drei Argumente entgegennimmt: \n",
    "- `logins`: Ein Dictionary, welcher alle bekannte Zugangsdaten abspeichert. Key ist Nutzername, Value das Passwort des Users.\n",
    "- `eingabe_user`: Eine `str` mit einem Username, der ein Benutzer eingegeben hat.\n",
    "- `eingabe_passwort`: Eine `str` mit einem Passwort, der ein Benutzer eingegeben hat.\n",
    "\n",
    "Die Funktion überprüft, ob `eingabe_user` und `eingabe_passwort` in den Logins enthalten ist und korrekt eingegeben wurde. Nur dann gibt die Funktion `True` zurück, ansonsten `False`.\n",
    "\n",
    "**Beispiele:**\n",
    "\n",
    "`login({\"user1\": \"passwort1\", \"user2\": \"passwort2\"}, \"user1\", \"passwort1\") --> True`\n",
    "\n",
    "`login({\"user1\": \"passwort1\", \"user2\": \"passwort2\"}, \"user3\", \"passwort1\") --> False`: Unbekannter User\n",
    "\n",
    "`login({\"user1\": \"passwort1\", \"user2\": \"passwort2\"}, \"user1\", \"passwort3\") --> False`: Passwort ist falsch "
   ]
  },
  {
   "cell_type": "code",
   "execution_count": null,
   "metadata": {},
   "outputs": [],
   "source": []
  },
  {
   "cell_type": "markdown",
   "metadata": {},
   "source": [
    "### Inhalt eines Dictionaries ausgeben\n",
    "\n",
    "Schriebe eine einfache Funktion welche mithilfe einer for-loop die Key-Value-Paare eines Dictionaries ausgibt."
   ]
  },
  {
   "cell_type": "code",
   "execution_count": null,
   "metadata": {},
   "outputs": [],
   "source": [
    "d = {'a': 10, 'b': 20, 'c': 30}\n",
    "### YOUR CODE HERE"
   ]
  },
  {
   "cell_type": "markdown",
   "metadata": {},
   "source": [
    "Schriebe die gleiche Funktion nun mithilfe einer list-comprehension."
   ]
  },
  {
   "cell_type": "code",
   "execution_count": null,
   "metadata": {},
   "outputs": [],
   "source": [
    "d = {'a': 10, 'b': 20, 'c': 30}\n",
    "### YOUR CODE HERE"
   ]
  },
  {
   "cell_type": "markdown",
   "metadata": {},
   "source": [
    "### Werte Multiplizieren\n",
    "\n",
    "Schreibe eine einfache Funktion `mult_dict` welche die alle Werte eines gegebenen Dictionaries multipliziert und zurückgibt."
   ]
  },
  {
   "cell_type": "code",
   "execution_count": null,
   "metadata": {},
   "outputs": [],
   "source": [
    "### YOUR CODE HERE\n",
    "\n",
    "# Test (Folgende zwei Zeilen unkommentieren um zu testen)\n",
    "# my_dict = {'data1': 100, 'data2': -54, 'data3': 247}\n",
    "# print(mult_dict(my_dict))"
   ]
  },
  {
   "cell_type": "markdown",
   "metadata": {},
   "source": [
    "### Einmalige Werte aus einem Dictionary\n",
    "\n",
    "Erstelle eine Funktion `unique_values` welche aus einem Dictionarie eine Liste mit allen einmaligen Werten zurückgibt (d.h. jeder vorkommende Wert in der Liste wird nur einmal in der Liste auftauchen).\n",
    "\n",
    "Beispiel: `unique_values({\"a\": 1, \"b\": 2, \"c\": 1}) --> [1, 2]`"
   ]
  },
  {
   "cell_type": "code",
   "execution_count": null,
   "metadata": {},
   "outputs": [],
   "source": [
    "### YOUR CODE HERE\n",
    "\n",
    "# Test (Folgende Zeile unkommentieren um zu testen)\n",
    "# print(unique_values({\"a\": 1, \"b\": 3, \"c\": 1}))"
   ]
  },
  {
   "cell_type": "markdown",
   "metadata": {},
   "source": [
    "### Wort-Frequenzen\n",
    "Wort-Frequenzen bilden in der Verarbeitung von natürlicher Sprache am Computer eine wichtige Grundlage. Schreibe eine Funktion `word_freq`, welche einen String entgegenimmt und ein Dictionary zurückgibt, welches für jedes Wort die Anzahl der Vorkommen enthält.\n",
    "\n",
    "Bsp: `word_freq(\"Hallo Welt, hallo Python!\") --> {\"Hallo\": 1, \"Welt\": 1, \"hallo\": 1, \"Python!\": 1}`\n",
    "\n",
    "Hinweis: Die Funktion `split()` auf einem String gibt eine Liste mit den einzelnen Wörtern zurück."
   ]
  },
  {
   "cell_type": "code",
   "execution_count": null,
   "metadata": {},
   "outputs": [],
   "source": [
    "### YOUR CODE HERE\n",
    "\n",
    "# Test\n",
    "# print(word_freq(\"This is a simple example. This is a test example.\"))"
   ]
  },
  {
   "cell_type": "markdown",
   "metadata": {},
   "source": [
    "## Duplikate entfernen\n",
    "\n",
    "Schreibe eine Funktion `remove_duplicates` welche eine Liste von Strings als Argument entgegennimmt und eine Liste zurückgibt, welche alle Duplikate entfernt hat.\n",
    "\n",
    "Bsp: `remove_duplicates([\"a\", \"b\", \"a\", \"c\"]) --> [\"a\", \"b\", \"c\"]`\n",
    "Hinweis: Verwende `set` in der Funktion."
   ]
  },
  {
   "cell_type": "code",
   "execution_count": null,
   "metadata": {},
   "outputs": [],
   "source": [
    "### YOUR CODE HERE\n",
    "\n",
    "# Test\n",
    "# print(remove_duplicates([\"a\", \"b\", \"a\", \"c\"])) (sollte ['a', 'b', 'c'] ausgeben)"
   ]
  },
  {
   "cell_type": "markdown",
   "metadata": {},
   "source": [
    "### Quadrat und Filtern\n",
    "Schriebe eine Funktion `square_and_filter` mit folgender Spezifikation:\n",
    "- Die Funktion nimmt eine Liste von Integern als Parameter entgegen.\n",
    "- Die Funktion gibt die Liste der Quadrate der Zahlen zurück, welche gerade sind zurück\n",
    "- Verwende eine List-Comprehension um die Liste zu erstellen.\n"
   ]
  },
  {
   "cell_type": "code",
   "execution_count": null,
   "metadata": {},
   "outputs": [],
   "source": [
    "### YOUR CODE HERE\n",
    "\n",
    "# Test\n",
    "# print(square_and_filter([1,2,3,4,5,6])) # (sollte [4, 16, 36] ausgeben)"
   ]
  },
  {
   "cell_type": "markdown",
   "metadata": {},
   "source": [
    "### E-Mail Template\n",
    "\n",
    "Schreibe eine Funktion `generate_email` welche eine personalisierbare E-Mail versenden kann mit folgender Spezifikation:\n",
    "- Die E-Mail soll einen personalisierbaren Namen und Alter enthalten\n",
    "- Der Inhalt der E-Mail ist untenstehend angegeben\n",
    "- Verwende die Funktion `format()` um die E-Mail zu personalisieren.\n",
    "\n",
    "E-Mail Inhalt (Unter verwendung von Alice als Name und 20 als Alter):\n",
    "\n",
    "```\n",
    "Dear Alice,\n",
    "\n",
    "I hope this email finds you well. We wanted to wish you a happy 20th birthday! May this year be filled with joy and success.\n",
    "\n",
    "Best regards,\n",
    "[Your Name]\n",
    "```\n",
    "\n"
   ]
  },
  {
   "cell_type": "code",
   "execution_count": null,
   "metadata": {},
   "outputs": [],
   "source": [
    "### YOUR CODE HERE\n",
    "\n",
    "# Test\n",
    "# email_message = generate_email('Alice', 20)\n",
    "# print(email_message) # (sollte die E-Mail analog der Aufgabenstellung ausgeben)"
   ]
  }
 ],
 "metadata": {
  "kernelspec": {
   "display_name": ".venv",
   "language": "python",
   "name": "python3"
  },
  "language_info": {
   "codemirror_mode": {
    "name": "ipython",
    "version": 3
   },
   "file_extension": ".py",
   "mimetype": "text/x-python",
   "name": "python",
   "nbconvert_exporter": "python",
   "pygments_lexer": "ipython3",
   "version": "3.10.9"
  },
  "orig_nbformat": 4
 },
 "nbformat": 4,
 "nbformat_minor": 2
}
