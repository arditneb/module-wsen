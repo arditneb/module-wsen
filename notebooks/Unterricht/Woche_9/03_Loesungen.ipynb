{
 "cells": [
  {
   "cell_type": "markdown",
   "metadata": {},
   "source": [
    "## Kurz und bündig\n",
    "Hier ein paar schnelle Aufgaben, um den Kurztest vorzubereiten."
   ]
  },
  {
   "cell_type": "markdown",
   "metadata": {},
   "source": [
    "### Dictionary umkehren\n",
    "Schreibe eine Funktion, welche einen Dictionary umkehrt: Für jedes key-value-Paar wird der Key zum Value, und umgekehrt. Du kannst davon ausgehen, dass die Values \"unique\" und hashable sind.\n",
    "\n",
    "Beispiel: `{\"a\": 1} --> {1: \"a\"}`"
   ]
  },
  {
   "cell_type": "code",
   "execution_count": null,
   "metadata": {},
   "outputs": [],
   "source": [
    "def dictionary_umkehren(dictionary):\n",
    "    neuer_dictionary = {}\n",
    "    for key, value in dictionary.items():\n",
    "        neuer_dictionary[value] = key\n",
    "    return neuer_dictionary"
   ]
  },
  {
   "cell_type": "code",
   "execution_count": null,
   "metadata": {},
   "outputs": [],
   "source": [
    "dictionary_umkehren({\"a\": 1})"
   ]
  },
  {
   "cell_type": "markdown",
   "metadata": {},
   "source": [
    "### Login\n",
    "Schreibe eine Funktion, welche drei Argumente entgegennimmt: \n",
    "- `logins`: Ein Dictionary, welcher alle bekannte Zugangsdaten abspeichert. Key ist Nutzername, Value das Passwort des Users.\n",
    "- `eingabe_user`: Eine `str` mit einem Username, der ein Benutzer eingegeben hat.\n",
    "- `eingabe_passwort`: Eine `str` mit einem Passwort, der ein Benutzer eingegeben hat.\n",
    "\n",
    "Die Funktion überprüft, ob `eingabe_user` und `eingabe_passwort` in den Logins enthalten ist und korrekt eingegeben wurde. Nur dann gibt die Funktion `True` zurück, ansonsten `False`.\n",
    "\n",
    "**Beispiele:**\n",
    "\n",
    "`login({\"user1\": \"passwort1\", \"user2\": \"passwort2\"}, \"user1\", \"passwort1\") --> True`\n",
    "\n",
    "`login({\"user1\": \"passwort1\", \"user2\": \"passwort2\"}, \"user3\", \"passwort1\") --> False`: Unbekannter User\n",
    "\n",
    "`login({\"user1\": \"passwort1\", \"user2\": \"passwort2\"}, \"user1\", \"passwort3\") --> False`: Passwort ist falsch "
   ]
  },
  {
   "cell_type": "code",
   "execution_count": null,
   "metadata": {},
   "outputs": [],
   "source": [
    "def login(logins, eingabe_user, eingabe_passwort):\n",
    "    # Wir überprüfen zuerst, ob der User überhaupt bekannt ist. Ansonsten geben wir False zurück\n",
    "    if not eingabe_user in logins:\n",
    "        return False\n",
    "    \n",
    "    # Wir holen aus dem dict das Passwort, welches wir erwarten würden\n",
    "    erwartetes_passwort = logins[eingabe_user]\n",
    "\n",
    "    # Nun kommt es nur noch darauf an, ob das Passwort stimmt\n",
    "    return eingabe_passwort == erwartetes_passwort"
   ]
  },
  {
   "cell_type": "code",
   "execution_count": null,
   "metadata": {},
   "outputs": [],
   "source": [
    "login({\"user1\": \"passwort1\", \"user2\": \"passwort2\"}, \"user1\", \"passwort1\")"
   ]
  },
  {
   "cell_type": "code",
   "execution_count": null,
   "metadata": {},
   "outputs": [],
   "source": [
    "login({\"user1\": \"passwort1\", \"user2\": \"passwort2\"}, \"user3\", \"passwort1\")"
   ]
  },
  {
   "cell_type": "code",
   "execution_count": null,
   "metadata": {},
   "outputs": [],
   "source": [
    "login({\"user1\": \"passwort1\", \"user2\": \"passwort2\"}, \"user1\", \"passwort3\")"
   ]
  },
  {
   "cell_type": "markdown",
   "metadata": {},
   "source": []
  },
  {
   "cell_type": "markdown",
   "metadata": {},
   "source": [
    "### Inhalt eines Dictionaries ausgeben\n",
    "\n",
    "Schriebe eine einfache Funktion welche mithilfe einer for-loop die Key-Value-Paare eines Dictionaries ausgibt."
   ]
  },
  {
   "cell_type": "code",
   "execution_count": 1,
   "metadata": {},
   "outputs": [
    {
     "name": "stdout",
     "output_type": "stream",
     "text": [
      "a -> 10\n",
      "b -> 20\n",
      "c -> 30\n"
     ]
    }
   ],
   "source": [
    "d = {'a': 10, 'b': 20, 'c': 30}\n",
    "\n",
    "for dict_key, dict_value in d.items():\n",
    "    print(dict_key, '->', dict_value)\t"
   ]
  },
  {
   "cell_type": "markdown",
   "metadata": {},
   "source": [
    "Schriebe die gleiche Funktion nun mithilfe einer list-comprehension."
   ]
  },
  {
   "cell_type": "code",
   "execution_count": 3,
   "metadata": {},
   "outputs": [
    {
     "name": "stdout",
     "output_type": "stream",
     "text": [
      "a -> 10\n",
      "b -> 20\n",
      "c -> 30\n"
     ]
    },
    {
     "data": {
      "text/plain": [
       "[None, None, None]"
      ]
     },
     "execution_count": 3,
     "metadata": {},
     "output_type": "execute_result"
    }
   ],
   "source": [
    "d = {'a': 10, 'b': 20, 'c': 30}\n",
    "\n",
    "[print(dict_key, '->', dict_value) for dict_key, dict_value in d.items()]"
   ]
  },
  {
   "cell_type": "markdown",
   "metadata": {},
   "source": [
    "### Werte Multiplizieren\n",
    "\n",
    "Schreibe eine einfache Funktion `mult_dict` welche die alle Werte eines gegebenen Dictionaries multipliziert und zurückgibt."
   ]
  },
  {
   "cell_type": "code",
   "execution_count": 4,
   "metadata": {},
   "outputs": [
    {
     "name": "stdout",
     "output_type": "stream",
     "text": [
      "-1333800\n"
     ]
    }
   ],
   "source": [
    "def mult_dict(dictionary):\n",
    "    result = 1\n",
    "\n",
    "    for key in dictionary:\n",
    "        result = result * dictionary[key]\n",
    "    return result\n",
    "\n",
    "my_dict = {'data1': 100, 'data2': -54, 'data3': 247}\n",
    "\n",
    "print(mult_dict(my_dict))"
   ]
  },
  {
   "cell_type": "markdown",
   "metadata": {},
   "source": [
    "### Einmalige Werte aus einem Dictionary\n",
    "\n",
    "Erstelle eine Funktion `unique_values` welche aus einem Dictionarie eine Liste mit allen einmaligen Werten zurückgibt (d.h. jeder vorkommende Wert in der Liste wird nur einmal in der Liste auftauchen).\n",
    "\n",
    "Beispiel: `unique_values({\"a\": 1, \"b\": 2, \"c\": 1}) --> [1, 2]`"
   ]
  },
  {
   "cell_type": "code",
   "execution_count": 8,
   "metadata": {},
   "outputs": [
    {
     "name": "stdout",
     "output_type": "stream",
     "text": [
      "[1, 3]\n"
     ]
    }
   ],
   "source": [
    "def unique_values(dictionary):\n",
    "    unique_values = set()\n",
    "\n",
    "    for key in dictionary:\n",
    "        unique_values.add(dictionary[key])\n",
    "    return list(unique_values)\n",
    "\n",
    "print(unique_values({\"a\": 1, \"b\": 3, \"c\": 1}))"
   ]
  },
  {
   "cell_type": "markdown",
   "metadata": {},
   "source": [
    "### Wort-Frequenzen\n",
    "Wort-Frequenzen bilden in der Verarbeitung von natürlicher Sprache am Computer eine wichtige Grundlage. Schreibe eine Funktion `word_freq`, welche einen String entgegenimmt und ein Dictionary zurückgibt, welches für jedes Wort die Anzahl der Vorkommen enthält.\n",
    "\n",
    "Bsp: `word_freq(\"Hallo Welt, hallo Python!\") --> {\"Hallo\": 1, \"Welt\": 1, \"hallo\": 1, \"Python!\": 1}`\n",
    "\n",
    "Hinweis: Die Funktion `split()` auf einem String gibt eine Liste mit den einzelnen Wörtern zurück."
   ]
  },
  {
   "cell_type": "code",
   "execution_count": 10,
   "metadata": {},
   "outputs": [
    {
     "name": "stdout",
     "output_type": "stream",
     "text": [
      "{'This': 2, 'is': 2, 'a': 2, 'simple': 1, 'example.': 2, 'test': 1}\n"
     ]
    }
   ],
   "source": [
    "def word_freq(my_string):\n",
    "    word_freq = {}\n",
    "    for word in my_string.split(\" \"):\n",
    "        if word in word_freq:\n",
    "            word_freq[word] = word_freq[word] + 1\n",
    "        else:\n",
    "            word_freq[word] = 1\n",
    "    return word_freq\n",
    "\n",
    "print(word_freq(\"This is a simple example. This is a test example.\"))"
   ]
  },
  {
   "cell_type": "markdown",
   "metadata": {},
   "source": [
    "## Duplikate entfernen\n",
    "\n",
    "Schreibe eine Funktion `remove_duplicates` welche eine Liste von Strings als Argument entgegennimmt und eine Liste zurückgibt, welche alle Duplikate entfernt hat.\n",
    "\n",
    "Bsp: `remove_duplicates([\"a\", \"b\", \"a\", \"c\"]) --> [\"a\", \"b\", \"c\"]`\n",
    "Hinweis: Verwende `set` in der Funktion."
   ]
  },
  {
   "cell_type": "code",
   "execution_count": 11,
   "metadata": {},
   "outputs": [
    {
     "name": "stdout",
     "output_type": "stream",
     "text": [
      "['c', 'b', 'a']\n"
     ]
    }
   ],
   "source": [
    "def remove_duplicates(strings):\n",
    "    return list(set(strings))\n",
    "\n",
    "print(remove_duplicates([\"a\", \"b\", \"a\", \"c\"]))\n"
   ]
  },
  {
   "cell_type": "markdown",
   "metadata": {},
   "source": [
    "### Quadrat und Filtern\n",
    "Schriebe eine Funktion `square_and_filter` mit folgender Spezifikation:\n",
    "- Die Funktion nimmt eine Liste von Integern als Parameter entgegen.\n",
    "- Die Funktion gibt die Liste der Quadrate der Zahlen zurück, welche gerade sind zurück\n",
    "- Verwende eine List-Comprehension um die Liste zu erstellen.\n"
   ]
  },
  {
   "cell_type": "code",
   "execution_count": 12,
   "metadata": {},
   "outputs": [
    {
     "name": "stdout",
     "output_type": "stream",
     "text": [
      "[4, 16, 36]\n"
     ]
    }
   ],
   "source": [
    "def square_and_filter(numbers):\n",
    "    return [x ** 2 for x in numbers if x % 2 == 0]\n",
    "\n",
    "print(square_and_filter([1,2,3,4,5,6]))"
   ]
  },
  {
   "cell_type": "markdown",
   "metadata": {},
   "source": [
    "### E-Mail Template\n",
    "\n",
    "Schreibe eine Funktion `generate_email` welche eine personalisierbare E-Mail versenden kann mit folgender Spezifikation:\n",
    "- Die E-Mail soll einen personalisierbaren Namen und Alter enthalten\n",
    "- Der Inhalt der E-Mail ist untenstehend angegeben\n",
    "- Verwende die Funktion `format()` um die E-Mail zu personalisieren.\n",
    "\n",
    "E-Mail Inhalt (Unter verwendung von Alice als Name und 20 als Alter):\n",
    "\n",
    "```\n",
    "Dear Alice,\n",
    "\n",
    "I hope this email finds you well. We wanted to wish you a happy 20th birthday! May this year be filled with joy and success.\n",
    "\n",
    "Best regards,\n",
    "[Your Name]\n",
    "```\n",
    "\n"
   ]
  },
  {
   "cell_type": "code",
   "execution_count": 13,
   "metadata": {},
   "outputs": [
    {
     "name": "stdout",
     "output_type": "stream",
     "text": [
      "\n",
      "    Dear Alice,\n",
      "\n",
      "    I hope this email finds you well. We wanted to wish you a happy 20th birthday! May this year be filled with joy and success.\n",
      "\n",
      "    Best regards,\n",
      "    [Your Name]\n",
      "    \n"
     ]
    }
   ],
   "source": [
    "def generate_email(recipient_name, recipient_age):\n",
    "    # Define the email template with placeholders for name and age\n",
    "    email_template = \"\"\"\n",
    "    Dear {},\n",
    "\n",
    "    I hope this email finds you well. We wanted to wish you a happy {}th birthday! May this year be filled with joy and success.\n",
    "\n",
    "    Best regards,\n",
    "    [Your Name]\n",
    "    \"\"\"\n",
    "    \n",
    "    # Use string formatting to substitute placeholders with actual values\n",
    "    email_message = email_template.format(recipient_name, recipient_age)\n",
    "    \n",
    "    return email_message\n",
    "\n",
    "email_message = generate_email('Alice', 20)\n",
    "print(email_message)"
   ]
  }
 ],
 "metadata": {
  "kernelspec": {
   "display_name": ".venv",
   "language": "python",
   "name": "python3"
  },
  "language_info": {
   "codemirror_mode": {
    "name": "ipython",
    "version": 3
   },
   "file_extension": ".py",
   "mimetype": "text/x-python",
   "name": "python",
   "nbconvert_exporter": "python",
   "pygments_lexer": "ipython3",
   "version": "3.11.4"
  },
  "orig_nbformat": 4
 },
 "nbformat": 4,
 "nbformat_minor": 2
}
