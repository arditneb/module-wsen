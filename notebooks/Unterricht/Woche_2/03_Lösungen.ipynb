{
 "cells": [
  {
   "cell_type": "markdown",
   "metadata": {},
   "source": [
    "# 1. Textverkettung\n",
    "\n",
    "Du hast nachfolgende Variablen. Füge sie zu einer neuen Variable `satz` zusammen."
   ]
  },
  {
   "cell_type": "code",
   "execution_count": null,
   "metadata": {},
   "outputs": [],
   "source": [
    "wort1 = \"heute\"\n",
    "wort2 = \"ist\"\n",
    "wort3 = \"es\"\n",
    "wort4 = 30\n",
    "wort5 = \"grad\"\n",
    "wort6 = \"heiss\""
   ]
  },
  {
   "cell_type": "markdown",
   "metadata": {},
   "source": [
    "**Lösung:**\n",
    "\n",
    "Grundsätzlich können wir Zeichenketten mit `+` zusammenketten. Aber: Da `wort4` vom Typ `int` ist, müssen es zuvor mit `str()` in eine Zeichenkette umwandeln. Die Lösung sieht dann so aus:"
   ]
  },
  {
   "cell_type": "code",
   "execution_count": null,
   "metadata": {},
   "outputs": [],
   "source": [
    "satz =  wort1 + \" \" + wort2 + \" \" + wort3 + \" \" + str(wort4) + \" \" + wort5 + \" \" + wort6\n",
    "satz"
   ]
  },
  {
   "cell_type": "markdown",
   "metadata": {},
   "source": [
    "# 2. Funktionsaufrufe\n",
    "Für folgende drei Funktionsaufrufe, beantworte folgende Fragen:\n",
    "- Welches sind die Argumente\n",
    "- Wird etwas zurückgegeben? Wenn ja, was?\n",
    "\n",
    "```python\n",
    "print(\"hallo\", \"welt\")\n",
    "float(\"3.15\")\n",
    "input()\n",
    "```"
   ]
  },
  {
   "cell_type": "markdown",
   "metadata": {},
   "source": [
    "**Lösung:**\n",
    "```python\n",
    "print(\"hallo\", \"welt\")\n",
    "```\n",
    "Zwei Argumente: `\"hallo\"` und `\"welt`. Die Funktion `print` gibt nichts zurück. \n",
    "<br><br>\n",
    "\n",
    "```python\n",
    "float(\"3.15\")\n",
    "```\n",
    "Ein Argument: `\"3.15\"`. Die Zahl 3.15 wird als `float` zurückgegeben.\n",
    "<br><br>\n",
    "\n",
    "```python\n",
    "input()\n",
    "```\n",
    "Kein Argument. Was auch immer die Anwender:innen eingeben, wird als `str` zurückgegeben."
   ]
  },
  {
   "cell_type": "markdown",
   "metadata": {},
   "source": [
    "# 3. Datentypen und Verarbeitung\n",
    "\n",
    "Sind folgende Ausdrücke zulässig? Was ist das Resultat? Welcher Datentyp hat das Resultat?\n",
    "\n",
    "**Lösung:**\n",
    "```python\n",
    "3.15 + str(5.2) === 3.15 + \"5.2\"  # Gibt einen Fehler, da man eine float nicht plus einen str rechnen kann\n",
    "int(1.2 + 0.9) === int(2.1) === 2  # Datentyp: int\n",
    "int(\"hallo\" + \"welt\") === int(\"hallowelt\")  # Gibt einen Fehler, da man \"hallowelt\" nicht in eine Zahl umrechnen kann\n",
    "float(\"3\" + \".\" + \"14\") === float(\"3.14\") === 3.14  # Datentyp: float\n",
    "```"
   ]
  },
  {
   "cell_type": "markdown",
   "metadata": {},
   "source": [
    "# 4. Fehlermeldungen verstehen\n",
    "\n",
    "Wir haben bereits unterschiedliche Fehlermeldungen gesehen. Es ist sehr wichtig, diese zu verstehen, um ein eigenes Programm schreiben zu können. Erkläre alle nachfolgenden Fehlermeldungen und finde ein Beispiel dazu.\n",
    "\n",
    "```\n",
    "- SyntaxError: invalid syntax\n",
    "- IndentationError: unexpected indent\n",
    "- NameError: name 'abc' is not defined\n",
    "- ValueError: invalid literal for int() with base 10: 'abc'\n",
    "```\n",
    "\n",
    "**Lösung:**\n"
   ]
  },
  {
   "cell_type": "markdown",
   "metadata": {},
   "source": [
    "SyntaxError: Was in der Zelle geschrieben steht, ist nicht valider Python-Code. Hier ein Beispiel:"
   ]
  },
  {
   "cell_type": "code",
   "execution_count": null,
   "metadata": {},
   "outputs": [],
   "source": [
    "1 + "
   ]
  },
  {
   "cell_type": "markdown",
   "metadata": {},
   "source": [
    "IndentationError: Zwei Zeilen wurden unterschiedlich weit eingerückt (also haben vor Zeilenbeginn unterschiedlich viele Leerzeichen)."
   ]
  },
  {
   "cell_type": "code",
   "execution_count": null,
   "metadata": {},
   "outputs": [],
   "source": [
    "1\n",
    " 2"
   ]
  },
  {
   "cell_type": "markdown",
   "metadata": {},
   "source": [
    "NameError: Es wird auf eine Variable zugegriffen, welche vorher nicht definiert wurde."
   ]
  },
  {
   "cell_type": "code",
   "execution_count": null,
   "metadata": {},
   "outputs": [],
   "source": [
    "abc"
   ]
  },
  {
   "cell_type": "markdown",
   "metadata": {},
   "source": [
    "ValueError: invalid literal for int() with base 10: 'abc'\n",
    "\n",
    "Die Funktion `int` versucht den Text `\"abc\"` umzuwandeln - kann dies aber nicht, weil `\"abc\"` nicht eine Zahl - und dadurch nicht ein gültiger Wert (engl: Value) ist."
   ]
  },
  {
   "cell_type": "code",
   "execution_count": null,
   "metadata": {},
   "outputs": [],
   "source": [
    "int(\"abc\")"
   ]
  }
 ],
 "metadata": {
  "kernelspec": {
   "display_name": ".venv",
   "language": "python",
   "name": "python3"
  },
  "language_info": {
   "codemirror_mode": {
    "name": "ipython",
    "version": 3
   },
   "file_extension": ".py",
   "mimetype": "text/x-python",
   "name": "python",
   "nbconvert_exporter": "python",
   "pygments_lexer": "ipython3",
   "version": "3.10.9"
  },
  "orig_nbformat": 4
 },
 "nbformat": 4,
 "nbformat_minor": 2
}
