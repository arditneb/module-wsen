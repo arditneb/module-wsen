{
 "cells": [
  {
   "cell_type": "markdown",
   "metadata": {},
   "source": [
    "# 1. Textverkettung\n",
    "\n",
    "Du hast nachfolgende Variablen. Füge sie zu einer neuen Variable `satz` zusammen."
   ]
  },
  {
   "cell_type": "code",
   "execution_count": null,
   "metadata": {},
   "outputs": [],
   "source": [
    "wort1 = \"heute\"\n",
    "wort2 = \"ist\"\n",
    "wort3 = \"es\"\n",
    "wort4 = 30\n",
    "wort5 = \"grad\"\n",
    "wort6 = \"heiss\""
   ]
  },
  {
   "cell_type": "code",
   "execution_count": null,
   "metadata": {},
   "outputs": [],
   "source": [
    "satz =  # YOUR CODE HERE"
   ]
  },
  {
   "cell_type": "markdown",
   "metadata": {},
   "source": [
    "# 2. Funktionsaufrufe\n",
    "Für folgende drei Funktionsaufrufe, beantworte folgende Fragen:\n",
    "- Welches sind die Argumente\n",
    "- Wird etwas zurückgegeben? Wenn ja, was?\n",
    "\n",
    "```python\n",
    "print(\"hallo\", \"welt\")\n",
    "float(\"3.15\")\n",
    "input()\n",
    "```"
   ]
  },
  {
   "cell_type": "markdown",
   "metadata": {},
   "source": [
    "# 3. Datentypen und Verarbeitung\n",
    "\n",
    "Sind folgende Ausdrücke zulässig? Was ist das Resultat? Welcher Datentyp hat das Resultat?\n",
    "\n",
    "```python\n",
    "3.15 + str(5.2)\n",
    "int(1.2 + 0.9)\n",
    "int(\"hallo\" + \"welt\")\n",
    "float(\"3\" + \".\" + \"14\")\n",
    "```"
   ]
  },
  {
   "cell_type": "markdown",
   "metadata": {},
   "source": [
    "# 4. Fehlermeldungen verstehen\n",
    "\n",
    "Wir haben bereits unterschiedliche Fehlermeldungen gesehen. Es ist sehr wichtig, diese zu verstehen, um ein eigenes Programm schreiben zu können. Erkläre alle nachfolgenden Fehlermeldungen und finde ein Beispiel dazu.\n",
    "\n",
    "```\n",
    "- SyntaxError: invalid syntax\n",
    "- IndentationError: unexpected indent\n",
    "- NameError: name 'abc' is not defined\n",
    "- ValueError: invalid literal for int() with base 10: 'abc'\n",
    "```"
   ]
  }
 ],
 "metadata": {
  "kernelspec": {
   "display_name": "Python 3 (ipykernel)",
   "language": "python",
   "name": "python3"
  },
  "language_info": {
   "codemirror_mode": {
    "name": "ipython",
    "version": 3
   },
   "file_extension": ".py",
   "mimetype": "text/x-python",
   "name": "python",
   "nbconvert_exporter": "python",
   "pygments_lexer": "ipython3",
   "version": "3.10.11"
  }
 },
 "nbformat": 4,
 "nbformat_minor": 4
}
