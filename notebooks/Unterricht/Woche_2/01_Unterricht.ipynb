{
 "cells": [
  {
   "cell_type": "markdown",
   "metadata": {},
   "source": [
    "# Lektion 2\n",
    "Lernziele:\n",
    "- Du kannst einfache Operationen mit Text machen\n",
    "- Du weisst was ein Datentyp ist, wie man den Datentypen von Variablen verändert und was man dabei beachten musst\n",
    "- Du weisst, was eine Funktion ist und wie man sie aufruft\n",
    "- Du kannst Programme schreiben, welche mit den Anwender:innen interagieren.\n",
    "\n",
    "## 1. Mit Text arbeiten\n",
    "Wir können in Python auch mit Text arbeiten. Man bezeichnet Text als Zeichenketten, oder auf Englisch \"strings\". Einen String umgeben wir mit Gänsefüsschen: `\"`."
   ]
  },
  {
   "cell_type": "code",
   "execution_count": 4,
   "metadata": {},
   "outputs": [
    {
     "data": {
      "text/plain": [
       "'Hallo, ich bin eine Zeichenkette'"
      ]
     },
     "execution_count": 4,
     "metadata": {},
     "output_type": "execute_result"
    }
   ],
   "source": [
    "\"Hallo, ich bin eine Zeichenkette\"\n"
   ]
  },
  {
   "cell_type": "code",
   "execution_count": 5,
   "metadata": {},
   "outputs": [
    {
     "data": {
      "text/plain": [
       "'Hallo, ich bin eine Zeichenkette'"
      ]
     },
     "execution_count": 5,
     "metadata": {},
     "output_type": "execute_result"
    }
   ],
   "source": [
    "a"
   ]
  },
  {
   "cell_type": "markdown",
   "metadata": {},
   "source": [
    "Wir können strings natürlich auch in Variablen speichern."
   ]
  },
  {
   "cell_type": "code",
   "execution_count": 6,
   "metadata": {},
   "outputs": [
    {
     "name": "stdout",
     "output_type": "stream",
     "text": [
      "\n",
      "Hallo\n",
      "ich bin Text\n",
      "und auf mehreren Zeilen verteilt.\n",
      "\n"
     ]
    }
   ],
   "source": [
    "text = \"Hallo, ich bin Text\"\n",
    "text = \"\"\"\n",
    "Hallo\n",
    "ich bin Text\n",
    "und auf mehreren Zeilen verteilt.\n",
    "\"\"\"\n",
    "print(text)"
   ]
  },
  {
   "cell_type": "code",
   "execution_count": null,
   "metadata": {},
   "outputs": [],
   "source": [
    "begruessung = \"Hallo, ich bin eine Zeichenkette\"\n",
    "begruessung"
   ]
  },
  {
   "cell_type": "markdown",
   "metadata": {},
   "source": [
    "Wir können sogar Texte mit `+` zusammensetzen:"
   ]
  },
  {
   "cell_type": "code",
   "execution_count": null,
   "metadata": {},
   "outputs": [],
   "source": [
    "wort1 = \"Hallo\"\n",
    "wort2 = \"Welt\"\n",
    "\n",
    "wort1 + \" \" + wort2"
   ]
  },
  {
   "cell_type": "markdown",
   "metadata": {},
   "source": [
    "Oder sie multiplizieren (um sie zu wiederholen):"
   ]
  },
  {
   "cell_type": "code",
   "execution_count": null,
   "metadata": {},
   "outputs": [],
   "source": [
    "wort = \"hallo\"\n",
    "wort * 3"
   ]
  },
  {
   "cell_type": "markdown",
   "metadata": {},
   "source": [
    "Hier eine nützliche Verwendung:"
   ]
  },
  {
   "cell_type": "code",
   "execution_count": null,
   "metadata": {},
   "outputs": [],
   "source": [
    "ta = \"ta\"\n",
    "batman = \"batman\"\n",
    "ta * 16 + \" \" + batman"
   ]
  },
  {
   "cell_type": "markdown",
   "metadata": {},
   "source": [
    "<img src=\"https://i.imgur.com/JyhBeDB.png\" class=\"exercise_image\" width=100>\n",
    "\n",
    "**Aufgabe**:\n",
    "\n",
    "Setze folgende Wörter zu einem Satz zusammen, getrennt durch Leerzeichen. "
   ]
  },
  {
   "cell_type": "code",
   "execution_count": 11,
   "metadata": {},
   "outputs": [
    {
     "name": "stdout",
     "output_type": "stream",
     "text": [
      "Hallo, wie heisst du?\n"
     ]
    }
   ],
   "source": [
    "wort1 = \"Hallo,\"\n",
    "wort2 = \"wie\"\n",
    "wort3 = \"heisst\"\n",
    "wort4 = \"du?\"\n",
    "\n",
    "print (wort1 + \" \" + wort2 + \" \" + wort3 + \" \" + wort4)"
   ]
  },
  {
   "cell_type": "markdown",
   "metadata": {},
   "source": [
    "<br><br><br><br><br><br><br>\n",
    "\n",
    "## 2. Datentypen\n",
    "### 2.1 Wieso Datentypen?\n",
    "Der Datentyp eines Objekts sagt uns, ob ein Objekt z.B. Text oder eine Zahl enthält. Er legt auch fest, welche Operationen man mit einem Objekt machen kann.\n",
    "\n",
    "Beispiel: Minus ist definiert für Zahlen."
   ]
  },
  {
   "cell_type": "code",
   "execution_count": 12,
   "metadata": {},
   "outputs": [
    {
     "data": {
      "text/plain": [
       "2"
      ]
     },
     "execution_count": 12,
     "metadata": {},
     "output_type": "execute_result"
    }
   ],
   "source": [
    "3 - 1"
   ]
  },
  {
   "cell_type": "markdown",
   "metadata": {},
   "source": [
    "Wenn wir aber Texte minus-rechnen wollen, erhalten wir folgenden Fehler:"
   ]
  },
  {
   "cell_type": "code",
   "execution_count": null,
   "metadata": {},
   "outputs": [],
   "source": [
    "\"hallo\" - \"nim mich weg\""
   ]
  },
  {
   "cell_type": "markdown",
   "metadata": {},
   "source": [
    "Der Fehler sagt uns: Die Operation - ist für die Datentypen `str` und `str` nicht unterstützt. Wir können die Berechnung also nicht machen."
   ]
  },
  {
   "cell_type": "markdown",
   "metadata": {},
   "source": [
    "### 2.2 Welche Datentypen gibt es?\n",
    "Es gibt in Python zahlreiche Datentypen, wir können sogar unsere eigenen Typen definieren. Bis jetzt haben wir folgende Typen angetroffen:\n",
    "- Für ganze Zahlen: `int`\n",
    "- Für Zahlen mit Kommastellen: `float`\n",
    "- Für Text: `str`\n",
    "\n",
    "Um den Datentypen herauszufinden, brauchen wir eine sogenannte Funktion namens `type`. Die Funktion verwenden wir wie folgt:"
   ]
  },
  {
   "cell_type": "code",
   "execution_count": 13,
   "metadata": {},
   "outputs": [
    {
     "data": {
      "text/plain": [
       "int"
      ]
     },
     "execution_count": 13,
     "metadata": {},
     "output_type": "execute_result"
    }
   ],
   "source": [
    "# Ganze Zahlen haben Typ \"integer\"\n",
    "type(-1)"
   ]
  },
  {
   "cell_type": "code",
   "execution_count": 14,
   "metadata": {},
   "outputs": [
    {
     "data": {
      "text/plain": [
       "float"
      ]
     },
     "execution_count": 14,
     "metadata": {},
     "output_type": "execute_result"
    }
   ],
   "source": [
    "# Zahlen mit Kommastellen haben typ \"float\"\n",
    "type(0.5)"
   ]
  },
  {
   "cell_type": "code",
   "execution_count": 15,
   "metadata": {},
   "outputs": [
    {
     "data": {
      "text/plain": [
       "str"
      ]
     },
     "execution_count": 15,
     "metadata": {},
     "output_type": "execute_result"
    }
   ],
   "source": [
    "# Zeichenketten haben Typ \"str\"\n",
    "type(\"hallo\")"
   ]
  },
  {
   "cell_type": "code",
   "execution_count": 17,
   "metadata": {},
   "outputs": [
    {
     "data": {
      "text/plain": [
       "float"
      ]
     },
     "execution_count": 17,
     "metadata": {},
     "output_type": "execute_result"
    }
   ],
   "source": [
    "a = 1.1\n",
    "type(a)"
   ]
  },
  {
   "cell_type": "code",
   "execution_count": 18,
   "metadata": {},
   "outputs": [
    {
     "data": {
      "text/plain": [
       "3.5"
      ]
     },
     "execution_count": 18,
     "metadata": {},
     "output_type": "execute_result"
    }
   ],
   "source": [
    "7 / 2"
   ]
  },
  {
   "cell_type": "markdown",
   "metadata": {},
   "source": [
    "Wieso gibt es unterschiedliche Datentypen für Zahlen mit und ohne Komma? Der Computer muss die Zahl mit einem begrenzten Speicherplatz abspeichern. Wenn wir wissen, dass es keine Nachkommastelle gibt, können wir dies effizienter machen (und einfach hochzählen).\n",
    "\n",
    "`float` vs. `int`: In gewissen Fällen kommt es drauf an. Als Beispiel: Wenn wir Text mit einer Zahl multiplizieren, ist dies nur möglich, wenn die Zahl eine `int` ist - schliesslich macht es keinen Sinn, einen Text 2.5 mal zu wiederholen. Wir erhalten folgenden Fehler:\n",
    "\n"
   ]
  },
  {
   "cell_type": "code",
   "execution_count": null,
   "metadata": {},
   "outputs": [],
   "source": [
    "\"hallo\" * 2.4"
   ]
  },
  {
   "cell_type": "markdown",
   "metadata": {},
   "source": [
    "Wir können die Textsequenz also nicht mit \"nicht-ints\" multiplizieren. Dies gilt auch, wenn die float keine Nachkommastellen hat:"
   ]
  },
  {
   "cell_type": "code",
   "execution_count": 19,
   "metadata": {},
   "outputs": [
    {
     "data": {
      "text/plain": [
       "'hallohallohallo'"
      ]
     },
     "execution_count": 19,
     "metadata": {},
     "output_type": "execute_result"
    }
   ],
   "source": [
    "\"hallo\" * 3"
   ]
  },
  {
   "cell_type": "markdown",
   "metadata": {},
   "source": [
    "### 2.3 Datentyp umwandeln\n",
    "Stell dir vor, wir wollen eine Zahl in einen Text integrieren. Wir haben gesehen, dass wir Textketten mit `+` zusammenhängen können. Funktioniert dies auch mit Zahlen?"
   ]
  },
  {
   "cell_type": "code",
   "execution_count": 20,
   "metadata": {},
   "outputs": [],
   "source": [
    "alter = 48\n",
    "#\"Hallo, ich bin \" + alter + \" Jahre alt\""
   ]
  },
  {
   "cell_type": "markdown",
   "metadata": {},
   "source": [
    "Nein, ein Zusammenhängen (Englisch: \"concatenate\") von `str` und `int` ist nicht möglich. Daher müssen wir die Zahl zuerst in eine `str` konvertieren. Dies machen wir wie folgt:"
   ]
  },
  {
   "cell_type": "code",
   "execution_count": 21,
   "metadata": {},
   "outputs": [
    {
     "data": {
      "text/plain": [
       "str"
      ]
     },
     "execution_count": 21,
     "metadata": {},
     "output_type": "execute_result"
    }
   ],
   "source": [
    "# Umwandlung von int zu str\n",
    "alter_as_str = str(alter)\n",
    "\n",
    "# Welcher Typ hat die neue Variable?\n",
    "type(alter_as_str)"
   ]
  },
  {
   "cell_type": "markdown",
   "metadata": {},
   "source": [
    "Nun können wir das konvertierte Alter in den Text einfügen:"
   ]
  },
  {
   "cell_type": "code",
   "execution_count": 22,
   "metadata": {},
   "outputs": [
    {
     "data": {
      "text/plain": [
       "'Hallo, ich bin 48 Jahre alt'"
      ]
     },
     "execution_count": 22,
     "metadata": {},
     "output_type": "execute_result"
    }
   ],
   "source": [
    "\"Hallo, ich bin \" + alter_as_str + \" Jahre alt\""
   ]
  },
  {
   "cell_type": "markdown",
   "metadata": {},
   "source": [
    "Wir müssen dazu übrigens nicht zwingend eine neue Variable erstellen, sondern das Alter direkt konvertieren:"
   ]
  },
  {
   "cell_type": "code",
   "execution_count": null,
   "metadata": {},
   "outputs": [],
   "source": [
    "\"Hallo, ich bin \" + str(alter) + \" Jahre alt\""
   ]
  },
  {
   "cell_type": "markdown",
   "metadata": {},
   "source": [
    "**Konversion `float` zu `str`**\n",
    "\n",
    "Vorher haben wir eine `int` zu einer `str` umgewandelt. Wir können genau gleich `float` zu `str`-Objekten ändern:"
   ]
  },
  {
   "cell_type": "code",
   "execution_count": 1,
   "metadata": {},
   "outputs": [
    {
     "data": {
      "text/plain": [
       "'3.5'"
      ]
     },
     "execution_count": 1,
     "metadata": {},
     "output_type": "execute_result"
    }
   ],
   "source": [
    "some_float = 3.5\n",
    "float_as_str = str(some_float)\n",
    "type(float_as_str)\n",
    "float_as_str"
   ]
  },
  {
   "cell_type": "code",
   "execution_count": 24,
   "metadata": {},
   "outputs": [
    {
     "data": {
      "text/plain": [
       "3.5"
      ]
     },
     "execution_count": 24,
     "metadata": {},
     "output_type": "execute_result"
    }
   ],
   "source": [
    "some_float"
   ]
  },
  {
   "cell_type": "markdown",
   "metadata": {},
   "source": [
    "Da die Zahl aber jetzt ein `str`-Objekt ist, können wir auch nur noch Operationen für Strings verwenden. Man kann also nicht mehr damit rechnen, wie man es mit Zahlen kann:"
   ]
  },
  {
   "cell_type": "code",
   "execution_count": 25,
   "metadata": {},
   "outputs": [
    {
     "ename": "TypeError",
     "evalue": "can only concatenate str (not \"int\") to str",
     "output_type": "error",
     "traceback": [
      "\u001b[31m---------------------------------------------------------------------------\u001b[39m",
      "\u001b[31mTypeError\u001b[39m                                 Traceback (most recent call last)",
      "\u001b[36mCell\u001b[39m\u001b[36m \u001b[39m\u001b[32mIn[25]\u001b[39m\u001b[32m, line 1\u001b[39m\n\u001b[32m----> \u001b[39m\u001b[32m1\u001b[39m \u001b[43mfloat_as_str\u001b[49m\u001b[43m \u001b[49m\u001b[43m+\u001b[49m\u001b[43m \u001b[49m\u001b[32;43m5\u001b[39;49m\n",
      "\u001b[31mTypeError\u001b[39m: can only concatenate str (not \"int\") to str"
     ]
    }
   ],
   "source": [
    "float_as_str + 5"
   ]
  },
  {
   "cell_type": "code",
   "execution_count": 26,
   "metadata": {},
   "outputs": [
    {
     "ename": "TypeError",
     "evalue": "unsupported operand type(s) for +: 'int' and 'str'",
     "output_type": "error",
     "traceback": [
      "\u001b[31m---------------------------------------------------------------------------\u001b[39m",
      "\u001b[31mTypeError\u001b[39m                                 Traceback (most recent call last)",
      "\u001b[36mCell\u001b[39m\u001b[36m \u001b[39m\u001b[32mIn[26]\u001b[39m\u001b[32m, line 1\u001b[39m\n\u001b[32m----> \u001b[39m\u001b[32m1\u001b[39m \u001b[32;43m5\u001b[39;49m\u001b[43m \u001b[49m\u001b[43m+\u001b[49m\u001b[43m \u001b[49m\u001b[43mfloat_as_str\u001b[49m\n",
      "\u001b[31mTypeError\u001b[39m: unsupported operand type(s) for +: 'int' and 'str'"
     ]
    }
   ],
   "source": [
    "5 + float_as_str"
   ]
  },
  {
   "cell_type": "markdown",
   "metadata": {},
   "source": [
    "Und eine Multiplikation mit einer `int` wird interpretiert wie immer bei `str`-Objekten: Sie wird zu einer Wiederholung."
   ]
  },
  {
   "cell_type": "code",
   "execution_count": 27,
   "metadata": {},
   "outputs": [
    {
     "data": {
      "text/plain": [
       "'3.53.53.53.53.5'"
      ]
     },
     "execution_count": 27,
     "metadata": {},
     "output_type": "execute_result"
    }
   ],
   "source": [
    "float_as_str * 5"
   ]
  },
  {
   "cell_type": "markdown",
   "metadata": {},
   "source": [
    "**Konversion `float` zu `int`**\n",
    "\n",
    "Konvertiert man `float` zu `int`, kann die Informationen nach dem Komma nicht mehr gespeichert werden. Die Zahl wird abgerundet:"
   ]
  },
  {
   "cell_type": "code",
   "execution_count": 28,
   "metadata": {},
   "outputs": [
    {
     "data": {
      "text/plain": [
       "3"
      ]
     },
     "execution_count": 28,
     "metadata": {},
     "output_type": "execute_result"
    }
   ],
   "source": [
    "some_float = 3.5\n",
    "int(some_float)"
   ]
  },
  {
   "cell_type": "code",
   "execution_count": 29,
   "metadata": {},
   "outputs": [
    {
     "data": {
      "text/plain": [
       "2"
      ]
     },
     "execution_count": 29,
     "metadata": {},
     "output_type": "execute_result"
    }
   ],
   "source": [
    "int(2.999)"
   ]
  },
  {
   "cell_type": "code",
   "execution_count": 33,
   "metadata": {},
   "outputs": [
    {
     "data": {
      "text/plain": [
       "6"
      ]
     },
     "execution_count": 33,
     "metadata": {},
     "output_type": "execute_result"
    }
   ],
   "source": [
    "round(5.5)"
   ]
  },
  {
   "cell_type": "code",
   "execution_count": 31,
   "metadata": {},
   "outputs": [
    {
     "data": {
      "text/plain": [
       "0"
      ]
     },
     "execution_count": 31,
     "metadata": {},
     "output_type": "execute_result"
    }
   ],
   "source": [
    "int(0.9)"
   ]
  },
  {
   "cell_type": "markdown",
   "metadata": {},
   "source": [
    "**Konversion `str` zu `int` und `float`**\n",
    "\n",
    "In gewissen Fällen kann man auch einen Text zu einer Zahl umwandeln. Dies geht aber nur, wenn der Text nur aus einer Zahl besteht."
   ]
  },
  {
   "cell_type": "code",
   "execution_count": 35,
   "metadata": {},
   "outputs": [
    {
     "data": {
      "text/plain": [
       "3"
      ]
     },
     "execution_count": 35,
     "metadata": {},
     "output_type": "execute_result"
    }
   ],
   "source": [
    "text = \"3\"\n",
    "text_als_zahl = int(text)\n",
    "text_als_zahl"
   ]
  },
  {
   "cell_type": "markdown",
   "metadata": {},
   "source": [
    "Nun kann man mit der Zahl weiterrechnen wie für eine normale Zahl:"
   ]
  },
  {
   "cell_type": "code",
   "execution_count": 36,
   "metadata": {},
   "outputs": [
    {
     "data": {
      "text/plain": [
       "8"
      ]
     },
     "execution_count": 36,
     "metadata": {},
     "output_type": "execute_result"
    }
   ],
   "source": [
    "text_als_zahl + 5"
   ]
  },
  {
   "cell_type": "markdown",
   "metadata": {},
   "source": [
    "Zuvor war dies nicht möglich:"
   ]
  },
  {
   "cell_type": "code",
   "execution_count": null,
   "metadata": {},
   "outputs": [],
   "source": [
    "text + 5"
   ]
  },
  {
   "cell_type": "markdown",
   "metadata": {},
   "source": [
    "Wenn der Text nicht als Zahl interpretiert werden kann, gibt es folgenden Fehler:"
   ]
  },
  {
   "cell_type": "code",
   "execution_count": 38,
   "metadata": {},
   "outputs": [
    {
     "ename": "ValueError",
     "evalue": "invalid literal for int() with base 10: 'abc5'",
     "output_type": "error",
     "traceback": [
      "\u001b[31m---------------------------------------------------------------------------\u001b[39m",
      "\u001b[31mValueError\u001b[39m                                Traceback (most recent call last)",
      "\u001b[36mCell\u001b[39m\u001b[36m \u001b[39m\u001b[32mIn[38]\u001b[39m\u001b[32m, line 2\u001b[39m\n\u001b[32m      1\u001b[39m teibxt = \u001b[33m\"\u001b[39m\u001b[33mabc5\u001b[39m\u001b[33m\"\u001b[39m\n\u001b[32m----> \u001b[39m\u001b[32m2\u001b[39m \u001b[38;5;28;43mint\u001b[39;49m\u001b[43m(\u001b[49m\u001b[43mtext\u001b[49m\u001b[43m)\u001b[49m\n",
      "\u001b[31mValueError\u001b[39m: invalid literal for int() with base 10: 'abc5'"
     ]
    }
   ],
   "source": [
    "text = \"abc5\"\n",
    "int(text)"
   ]
  },
  {
   "cell_type": "markdown",
   "metadata": {},
   "source": [
    "ValueError bedeutet immer, dass der gegebene Wert nicht zulässig war. \"abc5\" ist nicht eine zulässige Zeichenkette (\"valid literal\") für die Funktion `int`."
   ]
  },
  {
   "cell_type": "markdown",
   "metadata": {},
   "source": [
    "Enthält die Zahl im `str` ein Komma (`.`), kann dieser zu einer `float`, nicht aber zu einer `int` umgewandelt werden."
   ]
  },
  {
   "cell_type": "code",
   "execution_count": 39,
   "metadata": {},
   "outputs": [
    {
     "data": {
      "text/plain": [
       "3.15"
      ]
     },
     "execution_count": 39,
     "metadata": {},
     "output_type": "execute_result"
    }
   ],
   "source": [
    "text = \"3.15\"\n",
    "float(text)"
   ]
  },
  {
   "cell_type": "code",
   "execution_count": null,
   "metadata": {},
   "outputs": [],
   "source": [
    "#int(float(text)) # wandle \"3.15\" um zu 3.15 und dann zu 3\n",
    "text_as_float = float(text)\n",
    "text_as_int = int(text_as_float)\n",
    "print(text_as_int)"
   ]
  },
  {
   "cell_type": "markdown",
   "metadata": {},
   "source": [
    "<br><br><br>\n",
    "<img src=\"https://i.imgur.com/JyhBeDB.png\" class=\"exercise_image\" width=100>\n",
    "\n",
    "**Aufgabe**:\n",
    "\n",
    "Welche der folgenden Typenkonversionen sind zulässig, welche nicht? Was ist das Resultat?\n",
    "\n",
    "```python\n",
    "\n",
    "float(3.15)\n",
    "int(3.15)\n",
    "str(3.15)\n",
    "\n",
    "float(\"3.15\")\n",
    "int(\"3.15\")\n",
    "str(\"3.15\")\n",
    "\n",
    "float(3)\n",
    "int(3)\n",
    "str(3)\n",
    "```"
   ]
  },
  {
   "cell_type": "code",
   "execution_count": 52,
   "metadata": {},
   "outputs": [
    {
     "data": {
      "text/plain": [
       "'3'"
      ]
     },
     "execution_count": 52,
     "metadata": {},
     "output_type": "execute_result"
    }
   ],
   "source": [
    "str(3)"
   ]
  },
  {
   "cell_type": "markdown",
   "metadata": {},
   "source": [
    "1. Float (3.15 geit)\n",
    "2. int(3.15) ned\n",
    "3. ja\n",
    "\n",
    "1. nei\n",
    "2. nei\n",
    "3. ja\n",
    "\n",
    "1. ja\n",
    "2. ja\n",
    "3. ja"
   ]
  },
  {
   "cell_type": "markdown",
   "metadata": {},
   "source": [
    "<br><br><br>\n",
    "<img src=\"https://i.imgur.com/JyhBeDB.png\" class=\"exercise_image\" width=100>\n",
    "\n",
    "**Aufgabe**:\n",
    "\n",
    "Welche der folgenden Operationen sind zulässig, welche nicht? Was ist das Resultat?\n",
    "\n",
    "```python\n",
    "\n",
    "\"Heute ist der \" + 18 + \" August\" # nei\n",
    "str(3.15) * 5 # ja\n",
    "str(1.25) * 5.0 # nei\n",
    "```"
   ]
  },
  {
   "cell_type": "code",
   "execution_count": 57,
   "metadata": {},
   "outputs": [
    {
     "data": {
      "text/plain": [
       "'1.251.251.251.251.25'"
      ]
     },
     "execution_count": 57,
     "metadata": {},
     "output_type": "execute_result"
    }
   ],
   "source": [
    "str(1.25) * 5"
   ]
  },
  {
   "cell_type": "markdown",
   "metadata": {},
   "source": [
    "<br><br><br><br>\n",
    "## 3. Verwendung von Funktionen\n",
    "\n",
    "Im Teil zu den Datentypen haben wir erste Funktionen verwendet: Als wir den Typ eines Objekts überprüft haben mit `type(3.15)`, aber auch bei der Konversion von Datentypen wie z.B. `str(3.15)`. \n",
    "\n",
    "Funktionen sind Hilfsmittel, welche teilweise schon für uns geschrieben wurden (wie `type` und `str`), aber auch durch uns definiert werden können (dazu später mehr). Funktionen werden aufgerufen, indem wir den Funktionsname gefolgt von `(...)` verwenden. Zwischen den Klammern kommen die \"Argumente\". Je nach Funktion kann sie mit keinem, einem oder mehreren Argumenten aufgerufen werden. Wenn eine Funktion mehrere Argumente erhält, werden diese durch ein Komma getrennt. Beispiele:\n",
    "\n",
    "```python\n",
    "funktionsname()  # ohne Argument\n",
    "funktionsname(argument1)  # ein Argument\n",
    "funktionsname(argument1, argument2, argument3) # mehrere Argumente\n",
    "```\n",
    "\n",
    "Ohne Klammern wird die Funktion nicht aufgerufen (sondern einfach der Name angezeigt):"
   ]
  },
  {
   "cell_type": "code",
   "execution_count": 58,
   "metadata": {},
   "outputs": [
    {
     "data": {
      "text/plain": [
       "type"
      ]
     },
     "execution_count": 58,
     "metadata": {},
     "output_type": "execute_result"
    }
   ],
   "source": [
    "type"
   ]
  },
  {
   "cell_type": "markdown",
   "metadata": {},
   "source": [
    "Wenn wir eine Funktion nicht mit der richtigen Anzahl an Argumenten aufrufen, erhalten wir einen Fehler:"
   ]
  },
  {
   "cell_type": "code",
   "execution_count": 59,
   "metadata": {},
   "outputs": [
    {
     "ename": "TypeError",
     "evalue": "type() takes 1 or 3 arguments",
     "output_type": "error",
     "traceback": [
      "\u001b[31m---------------------------------------------------------------------------\u001b[39m",
      "\u001b[31mTypeError\u001b[39m                                 Traceback (most recent call last)",
      "\u001b[36mCell\u001b[39m\u001b[36m \u001b[39m\u001b[32mIn[59]\u001b[39m\u001b[32m, line 1\u001b[39m\n\u001b[32m----> \u001b[39m\u001b[32m1\u001b[39m \u001b[38;5;28;43mtype\u001b[39;49m\u001b[43m(\u001b[49m\u001b[43m)\u001b[49m\n",
      "\u001b[31mTypeError\u001b[39m: type() takes 1 or 3 arguments"
     ]
    }
   ],
   "source": [
    "type()"
   ]
  },
  {
   "cell_type": "markdown",
   "metadata": {},
   "source": [
    "Die Funktion `type` erwartet also 1 oder 3 Argumente."
   ]
  },
  {
   "cell_type": "markdown",
   "metadata": {},
   "source": [
    "Die meisten Funktionen (wie `type`, `str`, `float` und `int`) berechnen ein Resultat und geben dies zurück. In diesem Fall kann das Resultat wieder in einer Variable gespeichert werden:"
   ]
  },
  {
   "cell_type": "code",
   "execution_count": null,
   "metadata": {},
   "outputs": [],
   "source": [
    "my_number = 3.15\n",
    "int(my_number)   #Hier wird der neue Wert nicht gespeichert\n",
    "print(my_number)\n",
    "\n",
    "my_number = 3.15\n",
    "my_number = int(my_number) # Hier wird der neue Wert der Variabel zugewiesen\n",
    "print(my_number)\n",
    "\n",
    "my_number = 3.15\n",
    "my_int_number = int(my_number) # Hier wird der neue Wert einer neuen Variabel zugewiesen\n",
    "print(my_number)\n",
    "print(my_int_number)"
   ]
  },
  {
   "cell_type": "markdown",
   "metadata": {},
   "source": [
    "Oder gleich weiterverwendet werden:"
   ]
  },
  {
   "cell_type": "code",
   "execution_count": null,
   "metadata": {},
   "outputs": [],
   "source": [
    "3 + int(3.15)"
   ]
  },
  {
   "cell_type": "markdown",
   "metadata": {},
   "source": [
    "Wir können auch das Resultat einer Funktion der nächsten Funktion übergeben:\n"
   ]
  },
  {
   "cell_type": "code",
   "execution_count": null,
   "metadata": {},
   "outputs": [],
   "source": [
    "str(int(3.15))\n",
    "\n",
    "my_value = 3.15\n",
    "my_int = int(my_value)\n",
    "my_string = str(my_int)\n",
    "my_string"
   ]
  },
  {
   "cell_type": "markdown",
   "metadata": {},
   "source": [
    "Genauso können wir im Funktionsargument Berechnungen machen. Dabei wird es immer von innen nach aussen aufgelöst. Beispiel:\n",
    "\n",
    "```python\n",
    "\n",
    "my_value = 5 + 2.5\n",
    "str(my_value)\n",
    "\n",
    "\n",
    "str(5 + 2.5)\n",
    "str(7.5)\n",
    "\"7.5\"\n",
    "```\n"
   ]
  },
  {
   "cell_type": "markdown",
   "metadata": {},
   "source": [
    "<br><br><br>\n",
    "<img src=\"https://i.imgur.com/JyhBeDB.png\" class=\"exercise_image\" width=100>\n",
    "\n",
    "**Aufgabe**:\n",
    "\n",
    "Was ist das Resultat folgender Ausdrücke? Ersetze die Berechnungen Schritt für Schritt von innen nach aussen:\n",
    "\n",
    "```python\n",
    "# a\n",
    "\"Anteil Bilanzsumme UBS an BIP: \" + str((1600 / 800) * 100) + \"%\" # 200%\n",
    "\n",
    "# b\n",
    "a = 2.5\n",
    "str(3 + a) # 5.5\n",
    "\n",
    "# c\n",
    "type(str(int(3.25 * (1 + 2)))) #str\n",
    "```"
   ]
  },
  {
   "cell_type": "code",
   "execution_count": 61,
   "metadata": {},
   "outputs": [
    {
     "data": {
      "text/plain": [
       "'5.5'"
      ]
     },
     "execution_count": 61,
     "metadata": {},
     "output_type": "execute_result"
    }
   ],
   "source": [
    "a = 2.5\n",
    "str(3 + a)"
   ]
  },
  {
   "cell_type": "markdown",
   "metadata": {},
   "source": [
    "<br><br><br><br><br><br><br>\n",
    "\n",
    "\n",
    "## 4. User-Interaktionen\n",
    "\n",
    "Wenn wir wissen wollten, was in einer Variable gespeichert oder das Resultat eines Ausdrucks war, haben wir bis jetzt immer das Resultat einer Code-Zelle angeschaut. Wenn wir komplexeren (und v.a. längeren Code) schreiben wollen, wollen wir aber auch Zwischenresultate ausgeben können. \n",
    "\n",
    "Gleichzeitig mussten wir bis jetzt immer alle Variablen *im Code* selbst definieren. Wenn wir aber Software schreiben wollen, womit Leute interagieren können, wollen wir ihnen nicht Zugriff auf den Code geben um da selbstständig Variablen anders zu definieren. Stattdessen wollen wir ihren Input abfragen, diesen verarbeiten und dann zurückgeben. \n",
    "\n",
    "Diese zwei Arten von Interaktionen, Eingabe und Ausgabe, schauen wir in diesem Unterkapitel an.\n",
    "\n",
    "\n",
    "### 4.1 Ausgabe: `print`\n",
    "Wenn wir den Wert einer Variable oder eines Ausdrucks ausgeben wollen, können wir dies mit der Funktion `print` tun. Wir können sowohl `int`, `float`, und `str` Werte ausgeben:"
   ]
  },
  {
   "cell_type": "code",
   "execution_count": null,
   "metadata": {},
   "outputs": [],
   "source": [
    "print('hello world')\n",
    "print(123)\n",
    "print(1.0)"
   ]
  },
  {
   "cell_type": "markdown",
   "metadata": {},
   "source": [
    "Zum Vergleich: Ohne `print` würden wir nur den letzten Wert sehen."
   ]
  },
  {
   "cell_type": "code",
   "execution_count": null,
   "metadata": {},
   "outputs": [],
   "source": [
    "'hello world'\n",
    "123\n",
    "1.0"
   ]
  },
  {
   "cell_type": "markdown",
   "metadata": {},
   "source": [
    "Ebenso können wir auch Variablen ausgeben:"
   ]
  },
  {
   "cell_type": "code",
   "execution_count": 62,
   "metadata": {},
   "outputs": [
    {
     "name": "stdout",
     "output_type": "stream",
     "text": [
      "Hans\n"
     ]
    }
   ],
   "source": [
    "vorname = 'Hans'\n",
    "print(vorname)"
   ]
  },
  {
   "cell_type": "markdown",
   "metadata": {},
   "source": [
    "Wir können mehrere Variablen und andere Werte zusammen ausgeben, indem wir sie mit einem Komma trennen. Dadurch rufen wir die Funktion mit mehreren Argumenten auf."
   ]
  },
  {
   "cell_type": "code",
   "execution_count": 65,
   "metadata": {},
   "outputs": [
    {
     "name": "stdout",
     "output_type": "stream",
     "text": [
      "Hans ist 25 Jahre alt\n"
     ]
    }
   ],
   "source": [
    "print(vorname, 'ist',25, 'Jahre alt')"
   ]
  },
  {
   "cell_type": "markdown",
   "metadata": {},
   "source": [
    "Dazu mussten wir auch die Zahlen nicht mit `str` zu einer Zeichenkette formattieren, was dies sehr angenehm macht. Wir können aber weiterhin auch Zeichenketten mit `+` zusammenhängen:"
   ]
  },
  {
   "cell_type": "code",
   "execution_count": 66,
   "metadata": {},
   "outputs": [
    {
     "name": "stdout",
     "output_type": "stream",
     "text": [
      "Hans Muster\n"
     ]
    }
   ],
   "source": [
    "print(vorname + \" Muster\")"
   ]
  },
  {
   "cell_type": "markdown",
   "metadata": {},
   "source": [
    "`print` ist ein Beispiel für eine Funktion, welches kein Resultat zurückgibt. Folgender Ausdruck zeigt zwar \"Hans Muster\" an, da die `print` Funktion aufgerufen wurde:"
   ]
  },
  {
   "cell_type": "code",
   "execution_count": 67,
   "metadata": {},
   "outputs": [
    {
     "name": "stdout",
     "output_type": "stream",
     "text": [
      "Hans Muster\n"
     ]
    }
   ],
   "source": [
    "resultat = print(vorname + \" Muster\")"
   ]
  },
  {
   "cell_type": "markdown",
   "metadata": {},
   "source": [
    "In der Variable `resultat` wurde aber nichts gespeichert, da `print` nichts zurückgibt."
   ]
  },
  {
   "cell_type": "code",
   "execution_count": 68,
   "metadata": {},
   "outputs": [],
   "source": [
    "resultat  # da ist nichts drin"
   ]
  },
  {
   "cell_type": "markdown",
   "metadata": {},
   "source": [
    "### 4.2 Benutzereingaben: `input`\n",
    "\n",
    "Damit Benutzer etwas in unser Programm eingeben können, verwenden wir die Funktion `input`. \n",
    "\n",
    "Wenn wir `input()` ohne Argumente aufrufen, wartet das Programm, bis die Benutzer:in etwas eingibt. Der eingegebene Text wird zurückgegeben (und kann in einer Variable gespeichert werden). Beispiel:"
   ]
  },
  {
   "cell_type": "code",
   "execution_count": 74,
   "metadata": {},
   "outputs": [],
   "source": [
    "Wahrheit = input()\n"
   ]
  },
  {
   "cell_type": "code",
   "execution_count": 75,
   "metadata": {},
   "outputs": [
    {
     "data": {
      "text/plain": [
       "'test'"
      ]
     },
     "execution_count": 75,
     "metadata": {},
     "output_type": "execute_result"
    }
   ],
   "source": [
    "Wahrheit"
   ]
  },
  {
   "cell_type": "markdown",
   "metadata": {},
   "source": [
    "Die Benutzereingabe ist nun in der Variable `name` gespeichert, und kann nun weiterverarbeitet werden. Zum Beispiel mit:"
   ]
  },
  {
   "cell_type": "code",
   "execution_count": 76,
   "metadata": {},
   "outputs": [
    {
     "name": "stdout",
     "output_type": "stream",
     "text": [
      "Hallo hallo\n"
     ]
    }
   ],
   "source": [
    "print(\"Hallo\", name)"
   ]
  },
  {
   "cell_type": "markdown",
   "metadata": {},
   "source": [
    "Wenn wir `input` als Argument einen Text übergeben, wird dieser angezeigt:"
   ]
  },
  {
   "cell_type": "code",
   "execution_count": 77,
   "metadata": {},
   "outputs": [],
   "source": [
    "name = input(\"Hallo, wie heisst du?\")"
   ]
  },
  {
   "cell_type": "markdown",
   "metadata": {},
   "source": [
    "Und wir können wieder genau gleich die neu definierte Variable weiterverwenden:"
   ]
  },
  {
   "cell_type": "code",
   "execution_count": 78,
   "metadata": {},
   "outputs": [
    {
     "name": "stdout",
     "output_type": "stream",
     "text": [
      "Hallo Ardit\n"
     ]
    }
   ],
   "source": [
    "print(\"Hallo\", name)"
   ]
  },
  {
   "cell_type": "markdown",
   "metadata": {},
   "source": [
    "### 4.3 Weiterverarbeitung von Strings als Zahlen\n",
    "Die Funktion `input()` gibt immer ein Objekt vom Typ `str` zurück - auch wenn eine Zahl eingegeben wurde. Wenn wir eine Zahl abfragen und damit weiterrechnen wollen, müssen wir (wie zuvor gelernt) den Datentyp unwandeln. Hier wird dies in einem Programm gemacht:"
   ]
  },
  {
   "cell_type": "code",
   "execution_count": null,
   "metadata": {},
   "outputs": [],
   "source": [
    "# Abfrage mit input\n",
    "answer = input('In welchem Jahr bist du geboren? ')\n",
    "\n",
    "# Wir konvertieren den str zu einer ganzen Zahl (int)\n",
    "birth_year = int(answer)\n",
    "\n",
    "# Nun können wir damit rechnen:\n",
    "age = 2024 - birth_year\n",
    "\n",
    "# Und das Resultat zurückgeben\n",
    "print('Du wirst im Jahr 2024', age, 'Jahre alt.')"
   ]
  },
  {
   "cell_type": "markdown",
   "metadata": {},
   "source": [
    "Wenn wir diese Umwandlung nicht machen, erhalten wir einen Fehler:"
   ]
  },
  {
   "cell_type": "code",
   "execution_count": null,
   "metadata": {},
   "outputs": [],
   "source": [
    "# Abfrage mit input\n",
    "answer = input('In welchem Jahr bist du geboren? ')\n",
    "\n",
    "# Wir rechnen direkt mit der Antwort, ohne Umrechnung --> gibt Fehler!\n",
    "age = 2023 - answer\n",
    "\n",
    "# Rückgabe des Resultats\n",
    "print('Du wirst im Jahr 2023', age, 'Jahre alt.')"
   ]
  },
  {
   "cell_type": "markdown",
   "metadata": {},
   "source": [
    "<br><br><br><br><br>\n",
    "\n",
    "<div class=\"exercise\">\n",
    "\n",
    "<img src=\"https://i.imgur.com/JyhBeDB.png\" class=\"exercise_image\" width=100>\n",
    "\n",
    "<span class=\"exercise_label\">Aufgabe:</span>\n",
    "\n",
    "Schreibe einen einfachen Rechner, der zwei Zahlen einliest und deren Summe ausgibt.\n",
    " - Das Programm sagt \"Gib eine erste Zahl ein\"\n",
    " - Benutzer:in gibt eine Zahl ein\n",
    " - Das Programm sagt \"Gib eine zweite Zahl ein\"\n",
    " - Benutzer:in gibt eine Zahl ein\n",
    " - Das Programm sagt \"Die Summe ist: \" und gibt die Summe aus\n",
    "\n",
    "</div>"
   ]
  },
  {
   "cell_type": "code",
   "execution_count": 85,
   "metadata": {},
   "outputs": [
    {
     "name": "stdout",
     "output_type": "stream",
     "text": [
      "10.0\n"
     ]
    }
   ],
   "source": [
    "erstezahl = float(input(\"erste zahl\"))\n",
    "zweitezahl = float(input(\"zweite zahl\"))\n",
    "\n",
    "loesung = erstezahl + zweitezahl\n",
    "\n",
    "print(loesung)"
   ]
  },
  {
   "cell_type": "code",
   "execution_count": null,
   "metadata": {},
   "outputs": [],
   "source": []
  }
 ],
 "metadata": {
  "kernelspec": {
   "display_name": ".venv",
   "language": "python",
   "name": "python3"
  },
  "language_info": {
   "codemirror_mode": {
    "name": "ipython",
    "version": 3
   },
   "file_extension": ".py",
   "mimetype": "text/x-python",
   "name": "python",
   "nbconvert_exporter": "python",
   "pygments_lexer": "ipython3",
   "version": "3.13.1"
  }
 },
 "nbformat": 4,
 "nbformat_minor": 4
}
