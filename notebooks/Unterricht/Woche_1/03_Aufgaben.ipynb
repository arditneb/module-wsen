{
 "cells": [
  {
   "cell_type": "markdown",
   "metadata": {},
   "source": [
    "# 1. Markdown\n",
    "Erzeuge eine Markdown-Zelle, die wie folgt aussieht:\n",
    "\n",
    "<img src=\"screenshot3.png\" width=800> "
   ]
  },
  {
   "cell_type": "markdown",
   "metadata": {},
   "source": [
    "# 2. Python als Taschenrechner\n",
    "Für die folgenden Statements, versuche vorauszusagen, was das Resultat sein wird. Überprüfe deine Voraussage in einer Code-Zelle.\n",
    "\n",
    "- `3 + (5 * 2)`\n",
    "- `(3 + 5) * 2`\n",
    "- `-(2 + 3)`\n",
    "- `10 // 3`\n",
    "- `10 % 3`\n"
   ]
  },
  {
   "cell_type": "markdown",
   "metadata": {},
   "source": [
    "# 3. Assignment\n",
    "Für die folgenden Zellen, sage voraus, was am Ende in den Variablen `a` und `b` gespeichert sein wird. Überprüfe das Resultat in einer Code-Zelle."
   ]
  },
  {
   "cell_type": "markdown",
   "metadata": {},
   "source": [
    "## 3a\n",
    "\n",
    "```python\n",
    "a = 3\n",
    "b = 5\n",
    "a = b\n",
    "\n",
    "# Welche Werte sind in a und b?\n",
    "```\n",
    "\n",
    "## 3b\n",
    "\n",
    "```python\n",
    "a = 5\n",
    "b = 7\n",
    "a = b + 2\n",
    "b = a - 2\n",
    "\n",
    "# Welche Werte sind in a und b?\n",
    "\n",
    "```"
   ]
  },
  {
   "cell_type": "markdown",
   "metadata": {},
   "source": [
    "# 4. Altersdifferenz\n",
    "\n",
    "Wir haben zwei Variablen mit dem Alter von zwei Personen. Berechne die Differenz zwischen den zwei."
   ]
  },
  {
   "cell_type": "code",
   "execution_count": null,
   "metadata": {},
   "outputs": [],
   "source": [
    "age1 = 36\n",
    "age2 = 42\n",
    "\n",
    "### YOUR CODE HERE\n"
   ]
  },
  {
   "cell_type": "markdown",
   "metadata": {},
   "source": [
    "# 5. Zinsberechnungen\n",
    "\n",
    "Wir wollen eine kleine Applikation für die Berechnung des Zinssatzes einer Geldanlage erstellen.\n",
    "Der Startwert der Geldanlage soll 1000 Franken betragen. Der Zinssatz soll 2% betragen.\n",
    "\n",
    "## 5a.\n",
    "\n",
    "Berechne, wie viel Geld nach 1 Jahr auf dem Konto ist und wie viele Zinsen angefallen sind."
   ]
  },
  {
   "cell_type": "markdown",
   "metadata": {},
   "source": [
    "\n",
    "## 5b.\n",
    "\n",
    "Berechne, wie viel Geld nach 5 Jahren auf dem Konto ist und wie viel Zinsen angefallen sind. "
   ]
  },
  {
   "cell_type": "code",
   "execution_count": null,
   "metadata": {},
   "outputs": [],
   "source": [
    "### YOUR CODE HERE"
   ]
  }
 ],
 "metadata": {
  "kernelspec": {
   "display_name": ".venv",
   "language": "python",
   "name": "python3"
  },
  "language_info": {
   "name": "python",
   "version": "3.10.9"
  },
  "orig_nbformat": 4
 },
 "nbformat": 4,
 "nbformat_minor": 2
}
