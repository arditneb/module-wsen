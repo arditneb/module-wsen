{
 "cells": [
  {
   "cell_type": "markdown",
   "metadata": {},
   "source": [
    "# 1. Markdown\n",
    "Erzeuge eine Markdown-Zelle, die wie folgt aussieht:\n",
    "\n",
    "<img src=\"screenshot3.png\" width=800> "
   ]
  },
  {
   "cell_type": "markdown",
   "metadata": {},
   "source": [
    "# 1. Markdown\n",
    "\n",
    "*kursiv* **fett**\n",
    "\n",
    "## Überschrift\n",
    "\n",
    "Punkte:\n",
    "* Punkt 1\n",
    "* Punkt 2"
   ]
  },
  {
   "cell_type": "markdown",
   "metadata": {},
   "source": [
    "# 2. Python als Taschenrechner\n",
    "Für die folgenden Statements, versuche vorauszusagen, was das Resultat sein wird. Überprüfe deine Voraussage in einer Code-Zelle.\n",
    "\n",
    "- `3 + (5 * 2)`\n",
    "- `(3 + 5) * 2`\n",
    "- `-(2 + 3)`\n",
    "- `10 // 3`\n",
    "- `10 % 3`\n"
   ]
  },
  {
   "cell_type": "markdown",
   "metadata": {},
   "source": [
    "# Lösung:\n",
    "- 13\n",
    "- 16\n",
    "- -5\n",
    "- 3\n",
    "- 1"
   ]
  },
  {
   "cell_type": "code",
   "execution_count": 9,
   "metadata": {},
   "outputs": [
    {
     "data": {
      "text/plain": [
       "3.3333333333333335"
      ]
     },
     "execution_count": 9,
     "metadata": {},
     "output_type": "execute_result"
    }
   ],
   "source": [
    "10 / 3"
   ]
  },
  {
   "cell_type": "markdown",
   "metadata": {},
   "source": [
    "# 3. Assignment\n",
    "Für die folgenden Zellen, sage voraus, was am Ende in den Variablen `a` und `b` gespeichert sein wird. Überprüfe das Resultat in einer Code-Zelle."
   ]
  },
  {
   "cell_type": "markdown",
   "metadata": {},
   "source": [
    "## 3a\n",
    "\n",
    "```python\n",
    "a = 3\n",
    "b = 5\n",
    "a = b\n",
    "\n",
    "# Welche Werte sind in a und b?\n",
    "# Lösung:\n",
    "# a = 5, b = 5\n",
    "```\n",
    "\n",
    "## 3b\n",
    "\n",
    "```python\n",
    "a = 5\n",
    "b = 7\n",
    "a = b + 2\n",
    "b = a - 2\n",
    "\n",
    "# Welche Werte sind in a und b?\n",
    "# Lösung:\n",
    "# b = 7\n",
    "# a = 9\n",
    "```"
   ]
  },
  {
   "cell_type": "markdown",
   "metadata": {},
   "source": [
    "# 4. Altersdifferenz\n",
    "\n",
    "Wir haben zwei Variablen mit dem Alter von zwei Personen. Berechne die Differenz zwischen den zwei."
   ]
  },
  {
   "cell_type": "code",
   "execution_count": 13,
   "metadata": {},
   "outputs": [
    {
     "name": "stdout",
     "output_type": "stream",
     "text": [
      "6\n"
     ]
    }
   ],
   "source": [
    "age1 = 36\n",
    "age2 = 42\n",
    "\n",
    "### YOUR CODE HERE\n",
    "\n",
    "differenz = (age2 - age1)\n",
    "\n",
    "print (int(differenz))"
   ]
  },
  {
   "cell_type": "markdown",
   "metadata": {},
   "source": [
    "# 5. Zinsberechnungen\n",
    "\n",
    "Wir wollen eine kleine Applikation für die Berechnung des Zinssatzes einer Geldanlage erstellen.\n",
    "Der Startwert der Geldanlage soll 1000 Franken betragen. Der Zinssatz soll 2% betragen.\n",
    "\n",
    "## 5a.\n",
    "\n",
    "Berechne, wie viel Geld nach 1 Jahr auf dem Konto ist und wie viele Zinsen angefallen sind."
   ]
  },
  {
   "cell_type": "markdown",
   "metadata": {},
   "source": [
    "\n",
    "## 5b.\n",
    "\n",
    "Berechne, wie viel Geld nach 5 Jahren auf dem Konto ist und wie viel Zinsen angefallen sind. "
   ]
  },
  {
   "cell_type": "code",
   "execution_count": 27,
   "metadata": {},
   "outputs": [
    {
     "name": "stdout",
     "output_type": "stream",
     "text": [
      "1020.0\n",
      "20.0\n"
     ]
    }
   ],
   "source": [
    "### YOUR CODE HERE\n",
    "\n",
    "# 5a\n",
    "\n",
    "# Startwert = 1000\n",
    "\n",
    "# zinssatz = Startwert * 0.02\n",
    "\n",
    "# endkapital_1_jahr = zinssatz + Startwert\n",
    "\n",
    "\n",
    "# print (endkapital)\n",
    "# print (zinssatz)\n",
    "\n"
   ]
  },
  {
   "cell_type": "code",
   "execution_count": 37,
   "metadata": {},
   "outputs": [
    {
     "name": "stdout",
     "output_type": "stream",
     "text": [
      "1104.0808032\n",
      "104.08080319999999\n"
     ]
    }
   ],
   "source": [
    "# 5b\n",
    "\n",
    "startwert = 1000\n",
    "\n",
    "zinssatz = 1.02\n",
    "\n",
    "jahre = 5\n",
    "\n",
    "endkapital = startwert * zinssatz ** jahre\n",
    "\n",
    "print (endkapital)\n",
    "print (endkapital - startwert)\n"
   ]
  }
 ],
 "metadata": {
  "kernelspec": {
   "display_name": ".venv",
   "language": "python",
   "name": "python3"
  },
  "language_info": {
   "codemirror_mode": {
    "name": "ipython",
    "version": 3
   },
   "file_extension": ".py",
   "mimetype": "text/x-python",
   "name": "python",
   "nbconvert_exporter": "python",
   "pygments_lexer": "ipython3",
   "version": "3.13.1"
  }
 },
 "nbformat": 4,
 "nbformat_minor": 4
}
