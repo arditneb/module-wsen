{
 "cells": [
  {
   "cell_type": "markdown",
   "metadata": {},
   "source": [
    "# 1. Markdown\n",
    "Erzeuge eine Markdown-Zelle, die wie folgt aussieht:\n",
    "\n",
    "<img src=\"screenshot3.png\" width=800> "
   ]
  },
  {
   "cell_type": "markdown",
   "metadata": {},
   "source": [
    "**Lösung:**\n",
    "\n",
    "# Notizen\n",
    "Heute habe ich gelernt, *kursiv* und **fett** zu schreiben. Überschriften kann ich wie folgt machen:\n",
    "\n",
    "# Ich bin eine Überschrift\n",
    "\n",
    "Und auch Listen sind einfach:\n",
    "- Punkt 1\n",
    "- Punkt 2"
   ]
  },
  {
   "cell_type": "markdown",
   "metadata": {},
   "source": [
    "# 2. Python als Taschenrechner\n",
    "Für die folgenden Statements, versuche vorauszusagen, was das Resultat sein wird. Überprüfe deine Voraussage in einer Code-Zelle.\n",
    "\n",
    "- `3 + (5 * 2)`\n",
    "- `(3 + 5) * 2`\n",
    "- `-(2 + 3)`\n",
    "- `10 // 3`\n",
    "- `10 % 3`\n",
    "\n",
    "**Lösung:**"
   ]
  },
  {
   "cell_type": "markdown",
   "metadata": {},
   "source": [
    "- `3 + (5 * 2) = 3 + 10 = 13`\n",
    "- `(3 + 5) * 2 = 8 * 2 = 16`\n",
    "- `-(2 + 3) = -5`\n",
    "- `10 // 3 = 10 / 3, abgerundet = 3`\n",
    "- `10 % 3 = 1, da 10 // 3 = 3 behalte 1`\n"
   ]
  },
  {
   "cell_type": "markdown",
   "metadata": {},
   "source": [
    "# 3. Assignment\n",
    "Für die folgenden Zellen, sage voraus, was am Ende in den Variablen `a` und `b` gespeichert sein wird. Überprüfe das Resultat in einer Code-Zelle."
   ]
  },
  {
   "cell_type": "markdown",
   "metadata": {},
   "source": [
    "## 3a\n",
    "\n",
    "```python\n",
    "a = 3\n",
    "b = 5\n",
    "a = b\n",
    "\n",
    "# Welche Werte sind in a und b?\n",
    "```\n",
    "\n",
    "## 3b\n",
    "\n",
    "```python\n",
    "a = 5\n",
    "b = 7\n",
    "a = b + 2\n",
    "b = a - 2\n",
    "\n",
    "# Welche Werte sind in a und b?\n",
    "\n",
    "```"
   ]
  },
  {
   "cell_type": "markdown",
   "metadata": {},
   "source": [
    "# 4. Altersdifferenz\n",
    "\n",
    "Wir haben zwei Variablen mit dem Alter von zwei Personen. Berechne die Differenz zwischen den zwei."
   ]
  },
  {
   "cell_type": "code",
   "execution_count": null,
   "metadata": {},
   "outputs": [],
   "source": [
    "age1 = 36\n",
    "age2 = 42\n",
    "\n",
    "### YOUR CODE HERE\n",
    "age2 - age1"
   ]
  },
  {
   "cell_type": "markdown",
   "metadata": {},
   "source": [
    "# 5. Zinsberechnungen\n",
    "\n",
    "Wir wollen eine kleine Applikation für die Berechnung des Zinssatzes einer Geldanlage erstellen.\n",
    "Der Startwert der Geldanlage soll 1000 Franken betragen. Der Zinssatz soll 2% betragen.\n",
    "\n",
    "## 5a.\n",
    "\n",
    "Berechne, wie viel Geld nach 1 Jahr auf dem Konto ist und wie viele Zinsen angefallen sind."
   ]
  },
  {
   "cell_type": "code",
   "execution_count": 1,
   "metadata": {},
   "outputs": [
    {
     "data": {
      "text/plain": [
       "1020.0"
      ]
     },
     "execution_count": 1,
     "metadata": {},
     "output_type": "execute_result"
    }
   ],
   "source": [
    "startkapital = 1000\n",
    "zins = 2\n",
    "multiplikator = (100 + 2) / 100  # Jedes Jahr rechnen wir mal 102%, also mal 1.02\n",
    "\n",
    "nach_jahr_1 = startkapital * multiplikator\n",
    "nach_jahr_1"
   ]
  },
  {
   "cell_type": "code",
   "execution_count": 2,
   "metadata": {},
   "outputs": [
    {
     "data": {
      "text/plain": [
       "20.0"
      ]
     },
     "execution_count": 2,
     "metadata": {},
     "output_type": "execute_result"
    }
   ],
   "source": [
    "zins_nach_jahr_1 = nach_jahr_1 - startkapital\n",
    "zins_nach_jahr_1"
   ]
  },
  {
   "cell_type": "markdown",
   "metadata": {},
   "source": [
    "\n",
    "## 5b.\n",
    "\n",
    "Berechne, wie viel Geld nach 5 Jahren auf dem Konto ist und wie viel Zinsen angefallen sind. "
   ]
  },
  {
   "cell_type": "code",
   "execution_count": null,
   "metadata": {},
   "outputs": [],
   "source": [
    "nach_jahr_2 = nach_jahr_1 * multiplikator\n",
    "nach_jahr_3 = nach_jahr_2 * multiplikator\n",
    "nach_jahr_4 = nach_jahr_3 * multiplikator\n",
    "nach_jahr_5 = nach_jahr_4 * multiplikator\n",
    "\n",
    "nach_jahr_5"
   ]
  },
  {
   "cell_type": "code",
   "execution_count": null,
   "metadata": {},
   "outputs": [],
   "source": [
    "zins_nach_jahr_5 = nach_jahr_5 - startkapital\n",
    "zins_nach_jahr_5"
   ]
  }
 ],
 "metadata": {
  "kernelspec": {
   "display_name": ".venv",
   "language": "python",
   "name": "python3"
  },
  "language_info": {
   "codemirror_mode": {
    "name": "ipython",
    "version": 3
   },
   "file_extension": ".py",
   "mimetype": "text/x-python",
   "name": "python",
   "nbconvert_exporter": "python",
   "pygments_lexer": "ipython3",
   "version": "3.13.1"
  },
  "orig_nbformat": 4
 },
 "nbformat": 4,
 "nbformat_minor": 2
}
