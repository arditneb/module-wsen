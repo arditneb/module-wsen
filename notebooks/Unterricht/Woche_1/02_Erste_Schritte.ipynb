{
 "cells": [
  {
   "cell_type": "markdown",
   "metadata": {},
   "source": [
    "# Erste Schritte\n",
    "Lernziele:\n",
    "- Python als Taschenrechner verwenden\n",
    "- Kommentare und Whitespace erkennen und verwenden können\n",
    "- Variablen definieren können"
   ]
  },
  {
   "cell_type": "markdown",
   "metadata": {},
   "source": [
    "<br><br><br>\n",
    "## 1. Python als Taschenrechner\n",
    "\n",
    "### 1.1 Einfache Berechnungen\n",
    "Wir können in Python z.B. arithmetische Operationen berechnen. Folgende Operationen sind möglich:\n"
   ]
  },
  {
   "cell_type": "code",
   "execution_count": null,
   "metadata": {},
   "outputs": [],
   "source": [
    "1 + 2"
   ]
  },
  {
   "cell_type": "code",
   "execution_count": null,
   "metadata": {},
   "outputs": [],
   "source": [
    "1 - 2"
   ]
  },
  {
   "cell_type": "code",
   "execution_count": null,
   "metadata": {},
   "outputs": [],
   "source": [
    "2 * 3"
   ]
  },
  {
   "cell_type": "code",
   "execution_count": null,
   "metadata": {},
   "outputs": [],
   "source": [
    "2 / 3"
   ]
  },
  {
   "cell_type": "markdown",
   "metadata": {},
   "source": [
    "### 1.2 Floor division, modulo und hoch\n",
    "\n",
    "Es können auch kompliziertere Operationen gemacht werden:\n",
    "\n",
    "`//`, die sogenannte \"floor division\", dividiert zwei Zahlen und rundet ab."
   ]
  },
  {
   "cell_type": "code",
   "execution_count": null,
   "metadata": {},
   "outputs": [],
   "source": [
    "4 // 2"
   ]
  },
  {
   "cell_type": "code",
   "execution_count": null,
   "metadata": {},
   "outputs": [],
   "source": [
    "3 // 2"
   ]
  },
  {
   "cell_type": "markdown",
   "metadata": {},
   "source": [
    "Mit `**` können wir \"hoch\"-rechnen: \n",
    "\n",
    "$2^3$ schreiben wir so:"
   ]
  },
  {
   "cell_type": "code",
   "execution_count": null,
   "metadata": {},
   "outputs": [],
   "source": [
    "2 ** 3"
   ]
  },
  {
   "cell_type": "markdown",
   "metadata": {},
   "source": [
    "$5^2$:"
   ]
  },
  {
   "cell_type": "code",
   "execution_count": null,
   "metadata": {},
   "outputs": [],
   "source": [
    "5 ** 2"
   ]
  },
  {
   "cell_type": "markdown",
   "metadata": {},
   "source": [
    "Mit `%` (genannt \"modulo\") berechnen wir den Rest einer Division:\n",
    "\n",
    "Am Beispiel: \n",
    "\n",
    "`5 // 3 = 1`, behalte `2`. Also ist `5 % 3 = 2` "
   ]
  },
  {
   "cell_type": "code",
   "execution_count": null,
   "metadata": {},
   "outputs": [],
   "source": [
    "5 % 3"
   ]
  },
  {
   "cell_type": "markdown",
   "metadata": {},
   "source": [
    "Dies ist vor allem nützlich, um herauszufinden, ob eine Zahl gerade oder ungerade ist. Eine gerade Zahl modulo 2 gibt 0, eine ungerade Zahl modulo 2 gibt 1."
   ]
  },
  {
   "cell_type": "code",
   "execution_count": null,
   "metadata": {},
   "outputs": [],
   "source": [
    "5 % 2 "
   ]
  },
  {
   "cell_type": "code",
   "execution_count": null,
   "metadata": {},
   "outputs": [],
   "source": [
    "4 % 2"
   ]
  },
  {
   "cell_type": "markdown",
   "metadata": {},
   "source": [
    "### 1.3 \"Punkt-vor-Strich\"-Regel\n",
    "Wie in der Mathematik gilt die sogenannte \"Punkt-vor-Strich\"-Regel: Mal und durch werden vor plus und minus berechnet. "
   ]
  },
  {
   "cell_type": "code",
   "execution_count": null,
   "metadata": {},
   "outputs": [],
   "source": [
    "1 + 2 * 3"
   ]
  },
  {
   "cell_type": "markdown",
   "metadata": {},
   "source": [
    "Wir können mit Klammern die Ausführungsreihenfolge ändern:"
   ]
  },
  {
   "cell_type": "code",
   "execution_count": null,
   "metadata": {},
   "outputs": [],
   "source": [
    "(1 + 2) * 3"
   ]
  },
  {
   "cell_type": "markdown",
   "metadata": {},
   "source": [
    "<br><br><br>\n",
    "\n",
    "## 2. Kommentare\n",
    "Damit wir den Code leserlicher machen können, können wir sogenannte Kommentare machen. Diese werden nicht ausgeführt, sondern ignoriert. Dazu gibt es zwei Optionen:\n",
    "\n",
    "### 2.1 Kommentare mit `#`\n",
    "\n",
    "Man kann mit `#` einen Kommentar beginnen. Alles, was nach einem `#` kommt und auf der gleichen Zeile steht, wird ignoriert (und generiert daher keinen Syntax-Fehler)."
   ]
  },
  {
   "cell_type": "code",
   "execution_count": null,
   "metadata": {},
   "outputs": [],
   "source": [
    "1 + 2 # dies ist ein Kommentar"
   ]
  },
  {
   "cell_type": "markdown",
   "metadata": {},
   "source": [
    "Ohne `#` würde ein Syntax-Fehler entstehen, da das Programm nicht interpretiert werden kann:"
   ]
  },
  {
   "cell_type": "code",
   "execution_count": null,
   "metadata": {},
   "outputs": [],
   "source": [
    "1 + 2 dies ist ein Kommentar"
   ]
  },
  {
   "cell_type": "markdown",
   "metadata": {},
   "source": [
    "Auf der nächsten Zeile wird der Code aber wieder ausgeführt."
   ]
  },
  {
   "cell_type": "code",
   "execution_count": null,
   "metadata": {},
   "outputs": [],
   "source": [
    "# ein Kommentar\n",
    "1 + 5"
   ]
  },
  {
   "cell_type": "markdown",
   "metadata": {},
   "source": [
    "### 2.2 Kommentare mit `\"\"\"`\n",
    "Wenn wir einen mehrzeiligen Kommentar schreiben wollen, können wir ihn auch mit `\"\"\"` umgeben. Dies sieht wie folgt aus:"
   ]
  },
  {
   "cell_type": "code",
   "execution_count": null,
   "metadata": {},
   "outputs": [],
   "source": [
    "\"\"\"\n",
    "In dieser Zelle zeigen wir,\n",
    "dass mehrzeilige Kommentare auch \n",
    "möglich sind.\n",
    "\"\"\"\n",
    "1 * 3"
   ]
  },
  {
   "cell_type": "markdown",
   "metadata": {},
   "source": [
    "<br><br><br>\n",
    "# 3. Whitespace\n",
    "Whitespace bezeichnet alle Leerschläge, Zeilenumbrüche und Tabs. Die Anzahl an **Leerschlägen** zwischen den Operationen sind in Python egal:"
   ]
  },
  {
   "cell_type": "code",
   "execution_count": null,
   "metadata": {},
   "outputs": [],
   "source": [
    "1 +          3"
   ]
  },
  {
   "cell_type": "code",
   "execution_count": null,
   "metadata": {},
   "outputs": [],
   "source": [
    "1 + 3"
   ]
  },
  {
   "cell_type": "markdown",
   "metadata": {},
   "source": [
    "Die Leerschläge vor Zeilenbeginn müssen allerdings immer gleich sein (dazu später mehr). Sonst gibt es einen sogenannten `IndentationError`, also einen Einrückungsfehler:"
   ]
  },
  {
   "cell_type": "code",
   "execution_count": null,
   "metadata": {
    "scrolled": true
   },
   "outputs": [],
   "source": [
    "3 + 4\n",
    "  1 + 2\n"
   ]
  },
  {
   "cell_type": "markdown",
   "metadata": {},
   "source": [
    "**Zeilenumbrüche** werden allerdings _nicht_ ignoriert. Grundsätzlich gilt in Python immer: Eine Zeile, eine Anweisung. Folgendes Beispiel gibt also einen Syntaxfehler:"
   ]
  },
  {
   "cell_type": "code",
   "execution_count": null,
   "metadata": {},
   "outputs": [],
   "source": [
    "1 +\n",
    "2"
   ]
  },
  {
   "cell_type": "markdown",
   "metadata": {},
   "source": [
    "Dieses Beispiel gibt zwar keinen Syntaxfehler, aber einen semantischen Fehler: Das Programm gibt nicht das erwartete Resultat zurück."
   ]
  },
  {
   "cell_type": "code",
   "execution_count": null,
   "metadata": {},
   "outputs": [],
   "source": [
    "3\n",
    "- 2  # das Resultat ist -2, nicht 1 wie erwartet!!!"
   ]
  },
  {
   "cell_type": "markdown",
   "metadata": {},
   "source": [
    "Wenn wir eine Anweisung über mehrere Zeilen hinweg machen wollen, können wir sie in Klammern setzen:"
   ]
  },
  {
   "cell_type": "code",
   "execution_count": null,
   "metadata": {},
   "outputs": [],
   "source": [
    "(\n",
    "    3\n",
    "    - 2\n",
    ")"
   ]
  },
  {
   "cell_type": "markdown",
   "metadata": {},
   "source": [
    "Oder wir können ans Ende der unbeendeten Zeile einen Backslash (`\\`) setzen:"
   ]
  },
  {
   "cell_type": "code",
   "execution_count": null,
   "metadata": {},
   "outputs": [],
   "source": [
    "3 \\\n",
    "- 2"
   ]
  },
  {
   "cell_type": "markdown",
   "metadata": {},
   "source": [
    "<br><br><br>\n",
    "##  4. Zuweisungen (Assignment)\n",
    "Damit wir komplexe Programme schreiben können, müssen wir Werte zwischenspeichern können. Dies machen wir mit sogenannten Variablen.\n",
    "\n",
    "### 4.1 Variablendefinition\n",
    "\n",
    "Um eine Variable zu definieren, verwenden wir das `=`-Zeichen:"
   ]
  },
  {
   "cell_type": "code",
   "execution_count": null,
   "metadata": {},
   "outputs": [],
   "source": [
    "a = 5  # wir definieren a\n",
    "\n",
    "# wir schauen, was in a gespeichert ist\n",
    "a"
   ]
  },
  {
   "cell_type": "code",
   "execution_count": null,
   "metadata": {},
   "outputs": [],
   "source": [
    "# wir können auch a in weiteren Berechnungen verwenden\n",
    "a % 2"
   ]
  },
  {
   "cell_type": "code",
   "execution_count": null,
   "metadata": {},
   "outputs": [],
   "source": [
    "# Wir können a auch überschreiben\n",
    "a = 3\n",
    "a"
   ]
  },
  {
   "cell_type": "markdown",
   "metadata": {},
   "source": [
    "Die zu definierende Variable ist dabei **immer** links vom Gleichzeichen. Man liest die Ausdrücke daher meist von rechts nach links."
   ]
  },
  {
   "cell_type": "code",
   "execution_count": null,
   "metadata": {},
   "outputs": [],
   "source": [
    "3 = a  # geht nicht"
   ]
  },
  {
   "cell_type": "markdown",
   "metadata": {},
   "source": [
    "### 4.2 Zulässige Namen\n",
    "Wir sind sehr frei bei der Wahl von Variablenamen. Es gelten folgende Regeln:\n",
    "1. Keine Leerzeichen\n",
    "2. Keine Zahl am Anfang\n",
    "3. Gewisse Wörter sind reserviert (meist diejenigen, die bei der Eingabe eine andere Farbe bekommen)\n",
    "\n",
    "Falls die Regeln nicht eingehalten sind, gibt es einen Syntax Fehler."
   ]
  },
  {
   "cell_type": "code",
   "execution_count": null,
   "metadata": {},
   "outputs": [],
   "source": [
    "# Hat ein Leerzeichen\n",
    "eine variable = 4\n"
   ]
  },
  {
   "cell_type": "code",
   "execution_count": null,
   "metadata": {},
   "outputs": [],
   "source": [
    "# Zahl am Anfang\n",
    "3asd = 5  "
   ]
  },
  {
   "cell_type": "code",
   "execution_count": null,
   "metadata": {},
   "outputs": [],
   "source": [
    "continue = 5"
   ]
  },
  {
   "cell_type": "markdown",
   "metadata": {},
   "source": [
    "Beispiel für eine zulässige Variable:"
   ]
  },
  {
   "cell_type": "code",
   "execution_count": null,
   "metadata": {},
   "outputs": [],
   "source": [
    "zulässige_variable = 5"
   ]
  },
  {
   "cell_type": "markdown",
   "metadata": {},
   "source": [
    "Es kommt allerdings auf die Gross-/Kleinschreibung an:"
   ]
  },
  {
   "cell_type": "code",
   "execution_count": null,
   "metadata": {},
   "outputs": [],
   "source": [
    "Zulässige_Variable"
   ]
  },
  {
   "cell_type": "markdown",
   "metadata": {},
   "source": [
    "Wir erhalten einen `NameError`, da die Variable Zulässige_Variable (mit Grossschriebung) zuvor noch nicht definiert wurde. Der Interpreter versteht den Namen nicht, daher `NameError`."
   ]
  },
  {
   "cell_type": "markdown",
   "metadata": {},
   "source": [
    "### 4.3 Empfohlene Namen\n",
    "Bei \"normalen\" Variablen sollte man sich an folgende Regeln halten:\n",
    "- Alles kleingeschrieben\n",
    "- Wörter getrennt mit `_`\n",
    "- Der Name sollte möglichst selbsterklärend sein"
   ]
  },
  {
   "cell_type": "code",
   "execution_count": null,
   "metadata": {},
   "outputs": [],
   "source": [
    "# Gutes Beispiel\n",
    "sieben_mal_drei = 7 * 3\n",
    "\n",
    "# Schlechtes Beispiel\n",
    "IrgendEineZahl = 7 * 4"
   ]
  }
 ],
 "metadata": {
  "kernelspec": {
   "display_name": "Python 3 (ipykernel)",
   "language": "python",
   "name": "python3"
  },
  "language_info": {
   "codemirror_mode": {
    "name": "ipython",
    "version": 3
   },
   "file_extension": ".py",
   "mimetype": "text/x-python",
   "name": "python",
   "nbconvert_exporter": "python",
   "pygments_lexer": "ipython3",
   "version": "3.10.11"
  }
 },
 "nbformat": 4,
 "nbformat_minor": 4
}
