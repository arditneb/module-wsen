{
 "cells": [
  {
   "cell_type": "markdown",
   "metadata": {},
   "source": [
    "# 0. Arbeit mit Jupyter Notebooks\n",
    "**Lernziele**:\n",
    "- Unterschied zwischen Markdown- und Codezellen kennen\n",
    "- Ausgabe von Code-Zellen\n",
    "- Kernel neu starten\n",
    "\n",
    "## Einführung"
   ]
  },
  {
   "cell_type": "code",
   "execution_count": 2,
   "metadata": {},
   "outputs": [
    {
     "name": "stdout",
     "output_type": "stream",
     "text": [
      "True False\n",
      "False True\n"
     ]
    }
   ],
   "source": [
    "for p in (True,False):\n",
    "    print(p,not p)"
   ]
  },
  {
   "cell_type": "code",
   "execution_count": 3,
   "metadata": {},
   "outputs": [
    {
     "name": "stdout",
     "output_type": "stream",
     "text": [
      "True True True\n",
      "True False False\n",
      "False True False\n",
      "False False False\n"
     ]
    }
   ],
   "source": [
    "for p in (True,False):\n",
    "    for q in (True,False):\n",
    "        print (p, q, p and q)\n"
   ]
  },
  {
   "cell_type": "code",
   "execution_count": 6,
   "metadata": {},
   "outputs": [
    {
     "name": "stdout",
     "output_type": "stream",
     "text": [
      "True True True True\n",
      "True True False False\n",
      "True False True True\n",
      "True False False False\n",
      "False True True False\n",
      "False True False False\n",
      "False False True False\n",
      "False False False False\n"
     ]
    }
   ],
   "source": [
    "for p in (True,False):\n",
    "    for q in (True,False):\n",
    "        for r in (True, False):\n",
    "            print (p, q, r, (p and (not q or r)) and (not(not r and p)))"
   ]
  },
  {
   "cell_type": "code",
   "execution_count": 7,
   "metadata": {},
   "outputs": [
    {
     "data": {
      "text/plain": [
       "True"
      ]
     },
     "execution_count": 7,
     "metadata": {},
     "output_type": "execute_result"
    }
   ],
   "source": [
    "'a' in {'a', 'b', 'c'}"
   ]
  },
  {
   "cell_type": "code",
   "execution_count": 8,
   "metadata": {},
   "outputs": [
    {
     "data": {
      "text/plain": [
       "True"
      ]
     },
     "execution_count": 8,
     "metadata": {},
     "output_type": "execute_result"
    }
   ],
   "source": [
    "3 in {0,1,2,3,4,5,6}"
   ]
  },
  {
   "cell_type": "code",
   "execution_count": 9,
   "metadata": {},
   "outputs": [
    {
     "data": {
      "text/plain": [
       "True"
      ]
     },
     "execution_count": 9,
     "metadata": {},
     "output_type": "execute_result"
    }
   ],
   "source": [
    "10 not in {1,2,3,4,5,6,7}"
   ]
  },
  {
   "cell_type": "code",
   "execution_count": 10,
   "metadata": {},
   "outputs": [
    {
     "data": {
      "text/plain": [
       "False"
      ]
     },
     "execution_count": 10,
     "metadata": {},
     "output_type": "execute_result"
    }
   ],
   "source": [
    "0 in {}"
   ]
  },
  {
   "cell_type": "code",
   "execution_count": 13,
   "metadata": {},
   "outputs": [
    {
     "ename": "TypeError",
     "evalue": "unhashable type: 'set'",
     "output_type": "error",
     "traceback": [
      "\u001b[31m---------------------------------------------------------------------------\u001b[39m",
      "\u001b[31mTypeError\u001b[39m                                 Traceback (most recent call last)",
      "\u001b[36mCell\u001b[39m\u001b[36m \u001b[39m\u001b[32mIn[13]\u001b[39m\u001b[32m, line 1\u001b[39m\n\u001b[32m----> \u001b[39m\u001b[32m1\u001b[39m {\u001b[32m1\u001b[39m} \u001b[38;5;129;01min\u001b[39;00m {{\u001b[32m1\u001b[39m}}\n",
      "\u001b[31mTypeError\u001b[39m: unhashable type: 'set'"
     ]
    }
   ],
   "source": [
    "{1} in {{1}}"
   ]
  },
  {
   "cell_type": "code",
   "execution_count": 19,
   "metadata": {},
   "outputs": [
    {
     "name": "stdout",
     "output_type": "stream",
     "text": [
      "True\n",
      "True\n",
      "True\n",
      "True\n",
      "True\n",
      "True\n",
      "True\n",
      "True\n",
      "True\n",
      "True\n",
      "True\n"
     ]
    },
    {
     "data": {
      "text/plain": [
       "True"
      ]
     },
     "execution_count": 19,
     "metadata": {},
     "output_type": "execute_result"
    }
   ],
   "source": [
    "U = {0,1,2,3,4,5,6,7,8,9,10}\n",
    "A = {2,3}\n",
    "B = {1,2,3,4}\n",
    "\n",
    "for x in U:\n",
    "    print (not(x in A) or (x in B))\n",
    "    \n",
    "A.issubset (B)"
   ]
  },
  {
   "cell_type": "markdown",
   "metadata": {},
   "source": [
    "Jupyter Notebooks bestehen aus sogenannten \"Zellen\". Zellen können entweder Markdown oder Code enthalten. Im Jupyter Lab kann man unter folgender Option zwischen Code- und Markdownzelle wechseln:\n",
    "<br><br><img src=\"screenshot1.png\" alt=\"screenshot\" width=\"500\"/><br>\n",
    "\n",
    "Neue Zellen können mit dem \"Plus\"-Symbol erzeugt werden."
   ]
  },
  {
   "cell_type": "markdown",
   "metadata": {},
   "source": [
    "## Markdown kurz erklärt\n",
    "In Markdownzellen könnt ihr beliebigen Text einfügen, um zum Beispiel eure Notizen festzuhalten oder Code zu erklären. Die Markdownzelle könnt ihr mit einem Doppelklick bearbeiten. \n",
    "\n",
    "Markdown ist eine einfache Sprache, um Textdokumente zu formatieren. Überschriften beginnt man mit einem oder mehreren #, je mehr, desto kleiner wird die Überschrift:\n",
    "\n",
    "### Kleine Überschrift\n",
    "#### noch kleinere Überschrift\n",
    "\n",
    "Auflistungen können einfach mit einem - erstellt werden:\n",
    "- erster Punkt\n",
    "- zweiter Punkt\n",
    "\n",
    "oder mit Zahlen:\n",
    "1. erster Punkt\n",
    "2. zweiter Punkt\n",
    "\n",
    "Um einen Umbruch zu erzwingen, müssen zwei \"Returns\" nacheinander gemacht werden: \n",
    "Dies ist kein Umbruch,\n",
    "\n",
    "dies schon.\n",
    "\n",
    "**Fetten Text** umgibt man mit zwei Sternchen, *kursiven Text* mit einem Sternchen. Will man Code schreiben, umgibt man ihn mit dem Symbol \\` (accent grave), sodass er mit fester Breite formatiert wird: `dies sieht aus wie Code, wird aber nicht ausgeführt.`\n",
    "\n",
    "Sobald man mit der Bearbeitung der Zelle fertig ist, kann man Shift + Enter drücken (oder auf den \"Play\"-Knopf klicken). Dann wird die Zelle formatiert."
   ]
  },
  {
   "cell_type": "markdown",
   "metadata": {},
   "source": [
    "## Code-Zellen\n",
    "In Code-Zellen können wir Code schreiben und ausführen. Den Code führen wir mit Shift + Enter oder dem \"Play\"-Knopf aus."
   ]
  },
  {
   "cell_type": "code",
   "execution_count": null,
   "metadata": {},
   "outputs": [],
   "source": [
    "1 + 2"
   ]
  },
  {
   "cell_type": "markdown",
   "metadata": {},
   "source": [
    "Nur das Resultat der letzten Code-Zeile wird ausgegeben:"
   ]
  },
  {
   "cell_type": "code",
   "execution_count": null,
   "metadata": {},
   "outputs": [],
   "source": [
    "1 - 2\n",
    "2 + 3"
   ]
  },
  {
   "cell_type": "markdown",
   "metadata": {},
   "source": [
    "Der Zähler in eckigen Klammern links von der Zelle gibt an, wann die Zelle ausgeführt worden ist. Wenn wir die gleiche Zelle mehrmals ausführen, geht der Zähler hoch. \n",
    "\n",
    "Wenn in der Zelle gewisse Resultate gespeichert werden, sind die Resultate in späteren Zellen weiterhin verfügbar. Hier ein Beispiel von Variablendefinitionen (dazu später mehr):"
   ]
  },
  {
   "cell_type": "code",
   "execution_count": null,
   "metadata": {},
   "outputs": [],
   "source": [
    "a = 5"
   ]
  },
  {
   "cell_type": "markdown",
   "metadata": {},
   "source": [
    "Der Wert 5 wurde in a gespeichert. Wenn wir nun schauen, was das Resultat von `a` ist, erhalten wir folgendes:"
   ]
  },
  {
   "cell_type": "code",
   "execution_count": null,
   "metadata": {},
   "outputs": [],
   "source": [
    "a"
   ]
  },
  {
   "cell_type": "markdown",
   "metadata": {},
   "source": [
    "Man muss aufpassen, wenn Variablen überschrieben werden: Wenn wir die Zellen in unterschiedlicher Reihenfolge ausführen, kann das Resultat anders sein. Hier ein kleines Beispiel: Führe zuerst die nächste Zelle aus, dann die übernächste, und dann nochmals die nächste Zelle. Das Resultat in der nächsten Zelle verändert sich."
   ]
  },
  {
   "cell_type": "code",
   "execution_count": null,
   "metadata": {},
   "outputs": [],
   "source": [
    "a + 2"
   ]
  },
  {
   "cell_type": "code",
   "execution_count": null,
   "metadata": {},
   "outputs": [],
   "source": [
    "a = 7"
   ]
  },
  {
   "cell_type": "markdown",
   "metadata": {},
   "source": [
    "Man sollte daher die Zellen immer von oben nach unten ausführen. \n",
    "\n",
    "Wenn man alle Variablen löschen und mit einer leeren Python-Umgebung neu starten will, muss man den sogenannten \"Kernel\" neu starten. Dies macht man unter Kernel/Restart Kernel:\n",
    "\n",
    "<br><br><img src=\"screenshot2.png\" alt=\"screenshot2\" width=\"500\"/><br>\n"
   ]
  }
 ],
 "metadata": {
  "kernelspec": {
   "display_name": ".venv",
   "language": "python",
   "name": "python3"
  },
  "language_info": {
   "codemirror_mode": {
    "name": "ipython",
    "version": 3
   },
   "file_extension": ".py",
   "mimetype": "text/x-python",
   "name": "python",
   "nbconvert_exporter": "python",
   "pygments_lexer": "ipython3",
   "version": "3.13.1"
  }
 },
 "nbformat": 4,
 "nbformat_minor": 4
}
