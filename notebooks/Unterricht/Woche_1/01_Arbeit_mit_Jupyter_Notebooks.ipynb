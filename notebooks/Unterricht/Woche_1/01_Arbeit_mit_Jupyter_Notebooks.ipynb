{
 "cells": [
  {
   "cell_type": "markdown",
   "metadata": {},
   "source": [
    "# 0. Arbeit mit Jupyter Notebooks\n",
    "**Lernziele**:\n",
    "- Unterschied zwischen Markdown- und Codezellen kennen\n",
    "- Ausgabe von Code-Zellen\n",
    "- Kernel neu starten\n",
    "\n",
    "## Einführung"
   ]
  },
  {
   "cell_type": "markdown",
   "metadata": {},
   "source": [
    "Jupyter Notebooks bestehen aus sogenannten \"Zellen\". Zellen können entweder Markdown oder Code enthalten. Im Jupyter Lab kann man unter folgender Option zwischen Code- und Markdownzelle wechseln:\n",
    "<br><br><img src=\"screenshot1.png\" alt=\"screenshot\" width=\"500\"/><br>\n",
    "\n",
    "Neue Zellen können mit dem \"Plus\"-Symbol erzeugt werden."
   ]
  },
  {
   "cell_type": "markdown",
   "metadata": {},
   "source": [
    "## Markdown kurz erklärt\n",
    "In Markdownzellen könnt ihr beliebigen Text einfügen, um zum Beispiel eure Notizen festzuhalten oder Code zu erklären. Die Markdownzelle könnt ihr mit einem Doppelklick bearbeiten. \n",
    "\n",
    "Markdown ist eine einfache Sprache, um Textdokumente zu formatieren. Überschriften beginnt man mit einem oder mehreren #, je mehr, desto kleiner wird die Überschrift:\n",
    "\n",
    "### Kleine Überschrift\n",
    "#### noch kleinere Überschrift\n",
    "\n",
    "Auflistungen können einfach mit einem - erstellt werden:\n",
    "- erster Punkt\n",
    "- zweiter Punkt\n",
    "\n",
    "oder mit Zahlen:\n",
    "1. erster Punkt\n",
    "2. zweiter Punkt\n",
    "\n",
    "Um einen Umbruch zu erzwingen, müssen zwei \"Returns\" nacheinander gemacht werden: \n",
    "Dies ist kein Umbruch,\n",
    "\n",
    "dies schon.\n",
    "\n",
    "**Fetten Text** umgibt man mit zwei Sternchen, *kursiven Text* mit einem Sternchen. Will man Code schreiben, umgibt man ihn mit dem Symbol \\` (accent grave), sodass er mit fester Breite formatiert wird: `dies sieht aus wie Code, wird aber nicht ausgeführt.`\n",
    "\n",
    "Sobald man mit der Bearbeitung der Zelle fertig ist, kann man Shift + Enter drücken (oder auf den \"Play\"-Knopf klicken). Dann wird die Zelle formatiert."
   ]
  },
  {
   "cell_type": "markdown",
   "metadata": {},
   "source": [
    "## Code-Zellen\n",
    "In Code-Zellen können wir Code schreiben und ausführen. Den Code führen wir mit Shift + Enter oder dem \"Play\"-Knopf aus."
   ]
  },
  {
   "cell_type": "code",
   "execution_count": null,
   "metadata": {},
   "outputs": [],
   "source": [
    "1 + 2"
   ]
  },
  {
   "cell_type": "markdown",
   "metadata": {},
   "source": [
    "Nur das Resultat der letzten Code-Zeile wird ausgegeben:"
   ]
  },
  {
   "cell_type": "code",
   "execution_count": null,
   "metadata": {},
   "outputs": [],
   "source": [
    "1 - 2\n",
    "2 + 3"
   ]
  },
  {
   "cell_type": "markdown",
   "metadata": {},
   "source": [
    "Der Zähler in eckigen Klammern links von der Zelle gibt an, wann die Zelle ausgeführt worden ist. Wenn wir die gleiche Zelle mehrmals ausführen, geht der Zähler hoch. \n",
    "\n",
    "Wenn in der Zelle gewisse Resultate gespeichert werden, sind die Resultate in späteren Zellen weiterhin verfügbar. Hier ein Beispiel von Variablendefinitionen (dazu später mehr):"
   ]
  },
  {
   "cell_type": "code",
   "execution_count": null,
   "metadata": {},
   "outputs": [],
   "source": [
    "a = 5"
   ]
  },
  {
   "cell_type": "markdown",
   "metadata": {},
   "source": [
    "Der Wert 5 wurde in a gespeichert. Wenn wir nun schauen, was das Resultat von `a` ist, erhalten wir folgendes:"
   ]
  },
  {
   "cell_type": "code",
   "execution_count": null,
   "metadata": {},
   "outputs": [],
   "source": [
    "a"
   ]
  },
  {
   "cell_type": "markdown",
   "metadata": {},
   "source": [
    "Man muss aufpassen, wenn Variablen überschrieben werden: Wenn wir die Zellen in unterschiedlicher Reihenfolge ausführen, kann das Resultat anders sein. Hier ein kleines Beispiel: Führe zuerst die nächste Zelle aus, dann die übernächste, und dann nochmals die nächste Zelle. Das Resultat in der nächsten Zelle verändert sich."
   ]
  },
  {
   "cell_type": "code",
   "execution_count": null,
   "metadata": {},
   "outputs": [],
   "source": [
    "a + 2"
   ]
  },
  {
   "cell_type": "code",
   "execution_count": null,
   "metadata": {},
   "outputs": [],
   "source": [
    "a = 7"
   ]
  },
  {
   "cell_type": "markdown",
   "metadata": {},
   "source": [
    "Man sollte daher die Zellen immer von oben nach unten ausführen. \n",
    "\n",
    "Wenn man alle Variablen löschen und mit einer leeren Python-Umgebung neu starten will, muss man den sogenannten \"Kernel\" neu starten. Dies macht man unter Kernel/Restart Kernel:\n",
    "\n",
    "<br><br><img src=\"screenshot2.png\" alt=\"screenshot2\" width=\"500\"/><br>\n"
   ]
  }
 ],
 "metadata": {
  "kernelspec": {
   "display_name": "Python 3 (ipykernel)",
   "language": "python",
   "name": "python3"
  },
  "language_info": {
   "codemirror_mode": {
    "name": "ipython",
    "version": 3
   },
   "file_extension": ".py",
   "mimetype": "text/x-python",
   "name": "python",
   "nbconvert_exporter": "python",
   "pygments_lexer": "ipython3",
   "version": "3.10.11"
  }
 },
 "nbformat": 4,
 "nbformat_minor": 4
}
