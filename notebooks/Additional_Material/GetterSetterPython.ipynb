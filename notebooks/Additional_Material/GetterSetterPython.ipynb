{
 "cells": [
  {
   "cell_type": "markdown",
   "id": "76903751",
   "metadata": {},
   "source": [
    "<h1>Public Attribute - Wo ist das Problem?</h1>\n",
    "\n",
    "Attribute einer Klasse können als <code>public</code> deklariert werden, und sind es in Python auch, wenn deer Name nicht mit einem Underscore ('_') beginnt. Das macht deren Verwendung zwar sehr einfach, hat aber auch ein paar Probleme.\n",
    "\n",
    "Schauen wir uns folgende Klassendefinition an:"
   ]
  },
  {
   "cell_type": "code",
   "execution_count": 151,
   "id": "16903757",
   "metadata": {},
   "outputs": [],
   "source": [
    "from datetime import date\n",
    "\n",
    "class Person:\n",
    "    \n",
    "    def __init__(self, name, ahvNummer, gebDatum):\n",
    "        self.name = name\n",
    "        self.ahv_nummer = ahvNummer\n",
    "        self.geburtsdatum = date.fromisoformat(gebDatum) # Will raise an exception if not a valid datestring in isoformat"
   ]
  },
  {
   "cell_type": "markdown",
   "id": "7cfd318b",
   "metadata": {},
   "source": [
    "Damit können wir Objekte dieser Klasse instanziieren und die Attribute direkt manipulieren:"
   ]
  },
  {
   "cell_type": "code",
   "execution_count": 152,
   "id": "dd1cce74",
   "metadata": {},
   "outputs": [
    {
     "name": "stdout",
     "output_type": "stream",
     "text": [
      "567, geboren am 123, hat AHV-Nummer 678\n"
     ]
    }
   ],
   "source": [
    "me = Person(\"Peter Müller\", \"756.1309.1284.04\", \"1975-01-13\")\n",
    "\n",
    "me.name = 567\n",
    "me.ahv_nummer = \"678\"\n",
    "me.geburtsdatum = 123\n",
    "\n",
    "print(\"{}, geboren am {}, hat AHV-Nummer {}\".format(me.name, me.geburtsdatum, me.ahv_nummer))"
   ]
  },
  {
   "cell_type": "markdown",
   "id": "6b851b6b",
   "metadata": {},
   "source": [
    "Wir sehen zwei Probleme:\n",
    "* Die AHV-Nummer kann von aussen geändert werden. Die AHV-Nummer einer Person ändert sich aber nie; deshalb sollten Änderungen auch nicht erlaubt sein.\n",
    "* Da Python nicht streng typisiert ist, kann ich dem Geburtsdatum auch unsinnige Werte, hier eine Zahl, zuweisen. Oder auch statt einem Namen eine Zahl.\n",
    "* Ausserdem würden wir gerne das Alter der Person bekommen können, nicht einfach das Geburtsdatum.\n",
    "\n",
    "Das Problem wird typischerweise über sog. Getter- und Setter-Funktionen gelöst. In Python gibt es für deren Implementierung 3 Varianten, wie unten beschrieben.\n",
    "\n",
    "<h2>1. Normale Get- und Set-Methoden</h2>\n",
    "\n",
    "Die Attribute werden <code>private</code> deklariert. Um den Wert eines Attributes zu lesen, wird dazu eine get-Methode definiert, in der wir auch Werte validieren können. Für die Attribute, die auch geschrieben werden dürfen, wird ausserdem eine set-Methode definiert:"
   ]
  },
  {
   "cell_type": "code",
   "execution_count": 163,
   "id": "20ec70a4",
   "metadata": {},
   "outputs": [],
   "source": [
    "from datetime import date\n",
    "import re\n",
    "\n",
    "class Person2:\n",
    "    \n",
    "    @staticmethod\n",
    "    def __validate_name(name):\n",
    "        # Validiere, ob es sich um einen gültigen Namen handelt.\n",
    "        # Hier der Einfachheit halber nur Test, ob es sich um einen String ohne Sonderzeichen handelt,\n",
    "        # sprich Buchstaben und Leerschläge\n",
    "        if isinstance(name, str):\n",
    "            regexp = re.compile('[^a-zA-Z äüöÄÜÖ]+')\n",
    "            return (regexp.search(name) is None)\n",
    "        else:\n",
    "            return False\n",
    "    \n",
    "    def __init__(self, name, ahvNummer, gebDatum):\n",
    "        if Person2.__validate_name(name):\n",
    "            self.__name = name\n",
    "        self.__ahv_nummer = ahvNummer #AHV number should be validated...\n",
    "        self.__geburtsdatum = date.fromisoformat(gebDatum) # Will raise an exception if not a valid datestring in isoformat\n",
    "        \n",
    "    def get_name(self,):\n",
    "        return self.__name\n",
    "    \n",
    "    def get_ahv_nummer(self,):\n",
    "        return self.__ahv_nummer\n",
    "    \n",
    "    def get_geburtsdatum(self,):\n",
    "        return self.__geburtsdatum\n",
    "    \n",
    "    def get_age(self,):\n",
    "        #Berechne Alter\n",
    "        today = date.today()\n",
    "        age = today.year - self.__geburtsdatum.year - ((today.month, today.day) < (self.__geburtsdatum.month, self.__geburtsdatum.day))\n",
    "        return age\n",
    "\n",
    "    def set_name(self, name):\n",
    "        if Person2.__validate_name(name): \n",
    "            self.__name = name\n",
    "        else:\n",
    "            raise ValueError(\"Kein gültiger Name!\")\n",
    "    \n",
    "    "
   ]
  },
  {
   "cell_type": "markdown",
   "id": "8d553e00",
   "metadata": {},
   "source": [
    "Jetzt können wir so ein Objekt instanzieren und auf die Attribute via getter- und setter-Methoden zugreifen:"
   ]
  },
  {
   "cell_type": "code",
   "execution_count": 164,
   "id": "f63cb519",
   "metadata": {
    "scrolled": true
   },
   "outputs": [
    {
     "name": "stdout",
     "output_type": "stream",
     "text": [
      "Peter Müller, geboren am 1975-01-13, hat AHV-Nummer 756.1309.1284.04. Alter: 47\n"
     ]
    }
   ],
   "source": [
    "me2 = Person2(\"Peter Müller\", \"756.1309.1284.04\", \"1975-01-13\")\n",
    "\n",
    "print(\"{}, geboren am {}, hat AHV-Nummer {}. Alter: {}\".format(me2.get_name(), \n",
    "                                                               me2.get_geburtsdatum(), \n",
    "                                                               me2.get_ahv_nummer(), \n",
    "                                                               me2.get_age()))"
   ]
  },
  {
   "cell_type": "markdown",
   "id": "dc03272c",
   "metadata": {},
   "source": [
    "Ein falscher Name führt zu einem Fehler:"
   ]
  },
  {
   "cell_type": "code",
   "execution_count": 165,
   "id": "fd6b0ed9",
   "metadata": {},
   "outputs": [
    {
     "ename": "ValueError",
     "evalue": "Kein gültiger Name!",
     "output_type": "error",
     "traceback": [
      "\u001b[1;31m---------------------------------------------------------------------------\u001b[0m",
      "\u001b[1;31mValueError\u001b[0m                                Traceback (most recent call last)",
      "Input \u001b[1;32mIn [165]\u001b[0m, in \u001b[0;36m<cell line: 1>\u001b[1;34m()\u001b[0m\n\u001b[1;32m----> 1\u001b[0m \u001b[43mme2\u001b[49m\u001b[38;5;241;43m.\u001b[39;49m\u001b[43mset_name\u001b[49m\u001b[43m(\u001b[49m\u001b[38;5;241;43m123\u001b[39;49m\u001b[43m)\u001b[49m\n",
      "Input \u001b[1;32mIn [163]\u001b[0m, in \u001b[0;36mPerson2.set_name\u001b[1;34m(self, name)\u001b[0m\n\u001b[0;32m     40\u001b[0m     \u001b[38;5;28mself\u001b[39m\u001b[38;5;241m.\u001b[39m__name \u001b[38;5;241m=\u001b[39m name\n\u001b[0;32m     41\u001b[0m \u001b[38;5;28;01melse\u001b[39;00m:\n\u001b[1;32m---> 42\u001b[0m     \u001b[38;5;28;01mraise\u001b[39;00m \u001b[38;5;167;01mValueError\u001b[39;00m(\u001b[38;5;124m\"\u001b[39m\u001b[38;5;124mKein gültiger Name!\u001b[39m\u001b[38;5;124m\"\u001b[39m)\n",
      "\u001b[1;31mValueError\u001b[0m: Kein gültiger Name!"
     ]
    }
   ],
   "source": [
    "me2.set_name(123)"
   ]
  },
  {
   "cell_type": "markdown",
   "id": "3247e3bc",
   "metadata": {},
   "source": [
    "Die getter- und setter-Methoden sind ganz normale Methoden und könnten auch anders heissen. Es ist nur eine Namenskonvention, dass diese <code>get_<i>attributname</i></code> bzw. <code>set_<i>attributname</i></code> heissen.\n",
    "\n",
    "<h2>2. Verwenden der <code>property()</code>-Funktion</h2>\n",
    "\n",
    "Die <code>property()</code>-Funktion ist eine eingebaute Funktion, welche ein Property-Objekt erzeugt. Bei der Erzeugung werden die relevanten getter- und setter-Methoden mitgegeben, sowie optional auch eine Methode zum Löschen des Attributes, sowie eine Beschreibung. Bei read-only Attributen wird nur die entsprechende getter-Methode mitgegeben.\n",
    "\n",
    "Klassendefinition könnte so aussehen:"
   ]
  },
  {
   "cell_type": "code",
   "execution_count": 168,
   "id": "8537f747",
   "metadata": {},
   "outputs": [],
   "source": [
    "from datetime import date\n",
    "import re\n",
    "\n",
    "class Person3:\n",
    "    \n",
    "    @staticmethod\n",
    "    def __validate_name(name):\n",
    "        # Validiere, ob es sich um einen gültigen Namen handelt.\n",
    "        # Hier der Einfachheit halber nur Test, ob es sich um einen String ohne Sonderzeichen handelt,\n",
    "        # sprich Buchstaben und Leerschläge\n",
    "        if isinstance(name, str):\n",
    "            regexp = re.compile('[^a-zA-Z äüöÄÜÖ]+')\n",
    "            return (regexp.search(name) is None)\n",
    "        else:\n",
    "            return False\n",
    "    \n",
    "    def __init__(self, name, ahvNummer, gebDatum):\n",
    "        if Person3.__validate_name(name):\n",
    "            self.__name = name\n",
    "        self.__ahv_nummer = ahvNummer #AHV number should be validated...\n",
    "        self.__geburtsdatum = date.fromisoformat(gebDatum) # Will raise an exception if not a valid datestring in isoformat\n",
    "        \n",
    "    def _get_name(self,):\n",
    "        return self.__name\n",
    "    \n",
    "    def _get_ahv_nummer(self,):\n",
    "        return self.__ahv_nummer\n",
    "    \n",
    "    def _get_geburtsdatum(self,):\n",
    "        return self.__geburtsdatum\n",
    "    \n",
    "    def _get_age(self,):\n",
    "        #Berechne Alter\n",
    "        today = date.today()\n",
    "        age = today.year - self.__geburtsdatum.year - ((today.month, today.day) < (self.__geburtsdatum.month, self.__geburtsdatum.day))\n",
    "        return age\n",
    "\n",
    "    def _set_name(self, name):\n",
    "        if Person3.__validate_name(name): \n",
    "            self.__name = name\n",
    "        else:\n",
    "            raise ValueError(\"Kein gültiger Name!\")\n",
    "    \n",
    "    #Define properties using property function\n",
    "    name = property(_get_name, _set_name)\n",
    "    ahv_nummer = property(_get_ahv_nummer)  #read-only, keine setter-Methode\n",
    "    geburtsdatum = property(_get_geburtsdatum)\n",
    "    alter = property(_get_age)"
   ]
  },
  {
   "cell_type": "code",
   "execution_count": 169,
   "id": "4376d542",
   "metadata": {},
   "outputs": [
    {
     "name": "stdout",
     "output_type": "stream",
     "text": [
      "Peter Müller, geboren am 1975-01-13, hat AHV-Nummer 756.1309.1284.04. Alter: 47\n"
     ]
    }
   ],
   "source": [
    "me3 = Person3(\"Peter Müller\", \"756.1309.1284.04\", \"1975-01-13\")\n",
    "\n",
    "print(\"{}, geboren am {}, hat AHV-Nummer {}. Alter: {}\".format(me3.name, \n",
    "                                                               me3.geburtsdatum, \n",
    "                                                               me3.ahv_nummer, \n",
    "                                                               me3.alter))"
   ]
  },
  {
   "cell_type": "markdown",
   "id": "4396dd5e",
   "metadata": {},
   "source": [
    "Read-only Attribute können nicht geändert werden:\n"
   ]
  },
  {
   "cell_type": "code",
   "execution_count": 170,
   "id": "8ecc2549",
   "metadata": {},
   "outputs": [
    {
     "ename": "AttributeError",
     "evalue": "can't set attribute",
     "output_type": "error",
     "traceback": [
      "\u001b[1;31m---------------------------------------------------------------------------\u001b[0m",
      "\u001b[1;31mAttributeError\u001b[0m                            Traceback (most recent call last)",
      "Input \u001b[1;32mIn [170]\u001b[0m, in \u001b[0;36m<cell line: 1>\u001b[1;34m()\u001b[0m\n\u001b[1;32m----> 1\u001b[0m me3\u001b[38;5;241m.\u001b[39malter\u001b[38;5;241m=\u001b[39m\u001b[38;5;241m20\u001b[39m\n",
      "\u001b[1;31mAttributeError\u001b[0m: can't set attribute"
     ]
    }
   ],
   "source": [
    "me3.alter=20\n"
   ]
  },
  {
   "cell_type": "markdown",
   "id": "49bb3344",
   "metadata": {},
   "source": [
    "<h2>3. Verwenden des <code>@property</code>-Decorators</h2>\n",
    "\n",
    "Mit Hilfe von Decorators können Methoden direkt als getter- bzw. setter-Methoden definiert werden, ohne explizit die property()-Funktion zu verwenden.\n",
    "\n",
    "Klassendefinition könnte so aussehen:"
   ]
  },
  {
   "cell_type": "code",
   "execution_count": 171,
   "id": "8cf129bd",
   "metadata": {},
   "outputs": [],
   "source": [
    "from datetime import date\n",
    "import re\n",
    "\n",
    "class Person4:\n",
    "    \n",
    "    @staticmethod\n",
    "    def __validate_name(name):\n",
    "        # Validiere, ob es sich um einen gültigen Namen handelt.\n",
    "        # Hier der Einfachheit halber nur Test, ob es sich um einen String ohne Sonderzeichen handelt,\n",
    "        # sprich Buchstaben und Leerschläge\n",
    "        if isinstance(name, str):\n",
    "            regexp = re.compile('[^a-zA-Z äüöÄÜÖ]+')\n",
    "            return (regexp.search(name) is None)\n",
    "        else:\n",
    "            return False\n",
    "    \n",
    "    def __init__(self, name, ahvNummer, gebDatum):\n",
    "        if Person4.__validate_name(name):\n",
    "            self.__name = name\n",
    "        self.__ahv_nummer = ahvNummer #AHV number should be validated...\n",
    "        self.__geburtsdatum = date.fromisoformat(gebDatum) # Will raise an exception if not a valid datestring in isoformat\n",
    "    \n",
    "    @property\n",
    "    def name(self,):\n",
    "        return self.__name\n",
    "    \n",
    "    @property\n",
    "    def ahv_nummer(self,):\n",
    "        return self.__ahv_nummer\n",
    "    \n",
    "    @property\n",
    "    def geburtsdatum(self,):\n",
    "        return self.__geburtsdatum\n",
    "    \n",
    "    @property\n",
    "    def age(self,):\n",
    "        #Berechne Alter\n",
    "        today = date.today()\n",
    "        age = today.year - self.__geburtsdatum.year - ((today.month, today.day) < (self.__geburtsdatum.month, self.__geburtsdatum.day))\n",
    "        return age\n",
    "\n",
    "    @name.setter\n",
    "    def name(self, name):\n",
    "        if Person4.__validate_name(name): \n",
    "            self.__name = name\n",
    "        else:\n",
    "            raise ValueError(\"Kein gültiger Name!\")"
   ]
  },
  {
   "cell_type": "code",
   "execution_count": 172,
   "id": "ef82667a",
   "metadata": {},
   "outputs": [
    {
     "name": "stdout",
     "output_type": "stream",
     "text": [
      "Peter Müller, geboren am 1975-01-13, hat AHV-Nummer 756.1309.1284.04. Alter: 47\n"
     ]
    }
   ],
   "source": [
    "me4 = Person4(\"Peter Müller\", \"756.1309.1284.04\", \"1975-01-13\")\n",
    "\n",
    "print(\"{}, geboren am {}, hat AHV-Nummer {}. Alter: {}\".format(me4.name, \n",
    "                                                               me4.geburtsdatum, \n",
    "                                                               me4.ahv_nummer, \n",
    "                                                               me4.age))"
   ]
  },
  {
   "cell_type": "markdown",
   "id": "b4ed6109",
   "metadata": {},
   "source": [
    "Read-only Attribute können nicht geändert werden, andere schon (inkl. Validierung!):"
   ]
  },
  {
   "cell_type": "code",
   "execution_count": 173,
   "id": "31c8e167",
   "metadata": {
    "scrolled": true
   },
   "outputs": [
    {
     "ename": "AttributeError",
     "evalue": "can't set attribute",
     "output_type": "error",
     "traceback": [
      "\u001b[1;31m---------------------------------------------------------------------------\u001b[0m",
      "\u001b[1;31mAttributeError\u001b[0m                            Traceback (most recent call last)",
      "Input \u001b[1;32mIn [173]\u001b[0m, in \u001b[0;36m<cell line: 1>\u001b[1;34m()\u001b[0m\n\u001b[1;32m----> 1\u001b[0m me4\u001b[38;5;241m.\u001b[39mage\u001b[38;5;241m=\u001b[39m\u001b[38;5;241m20\u001b[39m\n",
      "\u001b[1;31mAttributeError\u001b[0m: can't set attribute"
     ]
    }
   ],
   "source": [
    "me4.age=20"
   ]
  },
  {
   "cell_type": "code",
   "execution_count": 174,
   "id": "ccbd55ad",
   "metadata": {
    "scrolled": true
   },
   "outputs": [
    {
     "data": {
      "text/plain": [
       "'Sascha Meyer'"
      ]
     },
     "execution_count": 174,
     "metadata": {},
     "output_type": "execute_result"
    }
   ],
   "source": [
    "me4.name = \"Sascha Meyer\"\n",
    "me4.name"
   ]
  }
 ],
 "metadata": {
  "kernelspec": {
   "display_name": "Python 3 (ipykernel)",
   "language": "python",
   "name": "python3"
  },
  "language_info": {
   "codemirror_mode": {
    "name": "ipython",
    "version": 3
   },
   "file_extension": ".py",
   "mimetype": "text/x-python",
   "name": "python",
   "nbconvert_exporter": "python",
   "pygments_lexer": "ipython3",
   "version": "3.9.13"
  }
 },
 "nbformat": 4,
 "nbformat_minor": 5
}
