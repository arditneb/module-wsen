{
 "cells": [
  {
   "cell_type": "markdown",
   "id": "91ad88ef",
   "metadata": {},
   "source": [
    "# * und **\n",
    "Löse folgende Aufgaben.\n",
    "\n",
    "1. Schreibe eine Funktion, welche die unbenannten Funktionsargumente sortiert und als Liste zurückgibt. Verwende dazu die Funktion sorted, welche Tuples oder Listen sortiert. \n",
    "2. Schreibe eine Funktion, welche sowohl unbenannte wie auch benannte Funktionsargumente sortiert. Der übergebene Name der Funktionsargumente ist dabei egal.\n",
    "3. Schreibe eine Funktion, welche alle Funktionsargumente als dictionary zurückgibt. Bei den benannten Funktionsargumenten ist der key der übergebene Parametername, und value der Parameterwert. Bei den unbenannten Funktionsargumenten ist der key die Position, an welcher der Parameter stand, und der value der Parameterwert. Beispiel: `h(1, 5, a=3, b=\"123\")` wird zu `{0: 1, 1: 5, \"a\": 3, \"b\": \"123\"}`\n",
    "\n",
    "Bonus-challenge: Code-golf, hierbei ist das Ziel, möglichst wenig Zeichen zu verwenden."
   ]
  },
  {
   "cell_type": "markdown",
   "id": "72894724",
   "metadata": {},
   "source": [
    "# If-Expressions\n",
    "Schreibe die folgenden Funktionen mit normalen if/elif/else Blöcken um:"
   ]
  },
  {
   "cell_type": "code",
   "execution_count": 4,
   "id": "672ec7f0",
   "metadata": {},
   "outputs": [],
   "source": [
    "def absolute_value(x):\n",
    "    return x if x > 0 else -x\n",
    "\n",
    "def wie_hart_ist_mein_ei(kochzeit):\n",
    "    return (\n",
    "        \"roh\" if kochzeit < 2 else\n",
    "        \"weich\" if kochzeit < 4 else\n",
    "        \"wachsweich\" if kochzeit < 6 else\n",
    "        \"hart\"\n",
    "    )\n",
    "    "
   ]
  },
  {
   "cell_type": "markdown",
   "id": "b6e3ec8a",
   "metadata": {},
   "source": [
    "Scheibe die folgenden Funktion mit if-Expressions um."
   ]
  },
  {
   "cell_type": "code",
   "execution_count": 6,
   "id": "c7137076",
   "metadata": {},
   "outputs": [],
   "source": [
    "def sign_of_a(a):\n",
    "    \"\"\"Returns 1 if a number is strictly positive (> 0), -1 \n",
    "    if a number is strictly negative (< 0), and 0 if the number is 0.\"\"\"\n",
    "    if a > 0:\n",
    "        return 1\n",
    "    elif a < 0:\n",
    "        return -1\n",
    "    return 0    "
   ]
  },
  {
   "cell_type": "markdown",
   "id": "9b887a14",
   "metadata": {},
   "source": [
    "# Funktionen als First-Class Citizens\n"
   ]
  },
  {
   "cell_type": "markdown",
   "id": "f9ed2d7a",
   "metadata": {},
   "source": [
    "Schreibe eine Funktion `operator`, welche als Argument eine String erhält. Diese string kann `\"+\", \"-\", \"*\"` oder `\"/\"` sein. Die Funktion gibt eine andere Funktion zurück, welche zwei Argumente erhält, und diese je nach Operator richtig miteinander verrechnet.\n",
    "\n",
    "Beispiele:\n",
    "- `operator(\"+\")(1, 3) === 4`\n",
    "- `operator(\"-\")(3, 4) === -1`.\n",
    "\n",
    "Bonuspunkte für die kürzest-mögliche Antwort."
   ]
  },
  {
   "cell_type": "markdown",
   "id": "64172694",
   "metadata": {},
   "source": [
    "# Comprehensions\n",
    "Transformiere die Liste a (in der nachfolgenden Zelle definiert) mit for-comprehensions, um folgende Objekte zu erhalten:\n",
    "1. Eine Liste mit den Quadratzahlen aller Elemente von a.\n",
    "2. Eine Liste mit allen geraden Zahlen in a.\n",
    "3. Ein Set mit allen Rest-Werten, nachdem man die Elemente von a durch 3 dividiert.\n",
    "4. Ein dictionary von den Werten in a zu ihren Quadratzahlen.\n",
    "5. Ein dictionary vom Listenindex zum Wert der Liste (d.h. {0: 1, 1: 5, 2: 2, 3: -1, 4: 8})\n",
    "5. (Bonus): Eine Liste, welche an erster Position a[0] + a[1] enthält, an zweiter Position a[1] + a[2], an dritter Position a[3] + a[4], etc."
   ]
  },
  {
   "cell_type": "code",
   "execution_count": 10,
   "id": "c6f99a89",
   "metadata": {},
   "outputs": [],
   "source": [
    "a = [1, 5, 2, -1, 8]"
   ]
  },
  {
   "cell_type": "markdown",
   "id": "551ba900",
   "metadata": {},
   "source": [
    "# Rekursive Funktionen\n",
    "\n",
    "## Allgemeine Aufgabe\n",
    "1. Schreibe eine rekursive Funktion, welche folgendes implementiert: f(0) = 0, f(1) = 0 + 1 = 1, f(2) = 0 + 1 + 2 = 3, f(3) = 0 + 1 + 2 + 3 = 6, etc. (Mathematisch formuliert: $f(n) = \\sum_{i=0}^n i$)\n",
    "2. Schreibe eine Funktion `apply_n_times(f, n, x)`, welche eine beliebige Funktion `f` auf den `x`-Wert insgesamt `n`-mal anwendet. Z.B.: `apply_n_times(f, 0, x) === x`, `apply_n_times(f, 1, x) === f(x)`; `apply_n_times(f, 3, x) === f(f(f(x)))`."
   ]
  },
  {
   "cell_type": "markdown",
   "id": "b7d77e6c",
   "metadata": {},
   "source": [
    "## Übersetzen von rekursiven Funktionen\n",
    "Schreibe folgende rekursive Funktionen um, sodass sie nicht mehr rekursiv sind."
   ]
  },
  {
   "cell_type": "code",
   "execution_count": 19,
   "id": "6c2c7eb2",
   "metadata": {},
   "outputs": [],
   "source": [
    "def example1(some_list):\n",
    "    if some_list==[]:\n",
    "        return 0\n",
    "    return some_list[0] + example1(some_list[1:])"
   ]
  },
  {
   "cell_type": "code",
   "execution_count": 20,
   "id": "115f1dd2",
   "metadata": {},
   "outputs": [],
   "source": [
    "def example2(n):\n",
    "    if n==0:\n",
    "        return 0\n",
    "    return n**2 + example2(n-1)"
   ]
  },
  {
   "cell_type": "code",
   "execution_count": 21,
   "id": "b2746866",
   "metadata": {},
   "outputs": [],
   "source": [
    "def example3(n, a=0, b=1):\n",
    "    return (\n",
    "        b if n == 0\n",
    "        else example3(n-1, b, a+b)\n",
    "    )"
   ]
  },
  {
   "cell_type": "markdown",
   "id": "7086c066",
   "metadata": {},
   "source": [
    "# Binary Search\n",
    "Stellen wir uns vor, wir haben eine sortierte Liste. Nun wollen wir herausfinden, ob ein bestimmter Wert in dieser Liste enthalten ist.\n",
    "- `beispiel_liste = [1, 2, 3, 6, 9]`\n",
    "- `is_in_list(beispiel_liste, 3) === True`\n",
    "- `is_in_list(beispiel_liste, -1) === False`\n",
    "\n",
    "Aufgabe 1: Schreibe eine Funktion `is_in_list_naive(list_to_search, value_to_search)`, welche die Liste mit einem for-Loop durchgeht. Falls der Wert enthalten ist, gibt die Funktion True zurück, sonst False.\n"
   ]
  },
  {
   "cell_type": "markdown",
   "id": "8f34f747",
   "metadata": {},
   "source": [
    "Aufgabe 2: Schreibe eine rekursive Funktion, welche genau gleich wie find_value_naive durch die Liste hindurchgeht, und True zurückgibt, falls der Wert enthalten ist."
   ]
  },
  {
   "cell_type": "markdown",
   "id": "4d0cb225",
   "metadata": {},
   "source": [
    "Bis jetzt müssen wir im schlimmsten Fall die ganze Liste durchgehen, um herauszufinden, ob ein Element enthalten ist. Dies wollen wir nun noch verbessern. Dazu schreiben wir folgende rekursive Funktion:\n",
    "\n",
    "- Falls die Liste leer ist, geben wir False zurück.\n",
    "- Falls die Liste nur ein Element hat, überprüfen wir dieses Element, und geben entsprechend die Antwort zurück.\n",
    "- Falls nicht, identifizieren wir den Index in der Mitte der Liste mit len(list_to_search) // 2. \n",
    "- Nun schauen wir den Wert, der zu diesem Index gehört, an. Falls dieser Wert der gewünschte Wert ist, geben wir True zurück.\n",
    "- Falls der Wert in der Mitte grösser als der gewünschte Wert ist, muss - falls der Wert in unserer sortierten Liste ist - dieser in der ersten Hälfte sein. Deshalb rufen wir unsere Funktion nur mit der ersten Hälfte der Liste auf.\n",
    "- Genauso, falls der Wert in der Mitte kleiner als der gewünschte Wert ist, kann der Wert nur noch in dem zweiten Teil der Liste sein. Wir rufen die Funktion nochmals mit dem zweiten Teil der Liste auf."
   ]
  },
  {
   "cell_type": "markdown",
   "id": "9779b2ac",
   "metadata": {},
   "source": [
    "# Umkehren eines Dictionaries\n",
    "In dieser Teilaufgabe wollen wir einen dictionary umkehren. D.h. aus {1: 5, 2: 10} wird {5: 1, 10: 2}.\n",
    "1. Schreibe eine Funktion `is_invertible(d)`, welche überprüft, ob alle Values des dictionaries `d` unique sind, d.h. nur einmal vorkommen. Dictionaries sind nur umkehrbar, falls dies gewährleistet ist.\n",
    "2. Schreibe eine Funktion `invert_invertible_dict(d)`, welche ein dictionary `d` umkehrt. Dabei kann davon ausgegangen werden, dass der eingegebene Dictionary `d` auch tatsächlich umkehrbar ist.\n",
    "3. Schreibe eine Funktion `invert_dict(d)`, welche zuerst mit `is_invertible` überprüft, ob `d` invertierbar ist. Falls nicht, wird ein ValueError geraised. Falls schon, wird der invertierte dictionary zurückgegeben. "
   ]
  },
  {
   "cell_type": "code",
   "execution_count": null,
   "id": "fa0e2ff7",
   "metadata": {},
   "outputs": [],
   "source": []
  }
 ],
 "metadata": {
  "kernelspec": {
   "display_name": "Python 3",
   "language": "python",
   "name": "python3"
  },
  "language_info": {
   "codemirror_mode": {
    "name": "ipython",
    "version": 3
   },
   "file_extension": ".py",
   "mimetype": "text/x-python",
   "name": "python",
   "nbconvert_exporter": "python",
   "pygments_lexer": "ipython3",
   "version": "3.8.8"
  }
 },
 "nbformat": 4,
 "nbformat_minor": 5
}
