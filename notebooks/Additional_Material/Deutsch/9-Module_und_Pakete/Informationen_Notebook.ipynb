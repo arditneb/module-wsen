{
 "cells": [
  {
   "cell_type": "markdown",
   "metadata": {},
   "source": [
    "<a href=\"https://www.datamics.com/courses/online-courses/\">![title](bg_datamics_top.png)</a>\n",
    "\n",
    "<center><em>© Datamics</em></center><br><center><em>Besuche uns für mehr Informationen auf <a href='https://www.datamics.com/courses/online-courses/'>www.datamics.com</a></em>"
   ]
  },
  {
   "cell_type": "markdown",
   "metadata": {},
   "source": [
    "# Module und Pakete\n",
    "\n",
    "In diesem Notebook uist kein Code enthalten,da es in diesem Abschnitt wenig Sinn macht. Wirf einen Blick in die Videos und weiteren Materialien für mehr Informationen.\n",
    "\n",
    "Hier ist die beste Informationsquelle, die offizielle Dokumentation!\n",
    "https://docs.python.org/3/tutorial/modules.html#packages\n",
    "\n",
    "Weiterhin gibt es hier spannende Infos dazu : https://python4astronomers.github.io/installation/packages.html\n",
    "\n",
    "Hier sind ein paar weitere, hilfreiche Informationen"
   ]
  },
  {
   "cell_type": "markdown",
   "metadata": {},
   "source": [
    "Module und Pakete in Python sind einfach Python Dateien mit der Endung *.py*, die eine Reihe von Funktionen bereitstellen.\n",
    "\n",
    "Um ein Modul zu importieren nutzen wir den Befehl `import`. Schaut euch dazu auch die vollständige Liste der vorinstallierten (built-in) Module an.\n",
    "\n",
    "Wenn ein Modul das erste Mal in ein Python Skript geladen wird, erfolgt die Initialisierung durch einmaliges Ausführen des Modulcodes. Wenn ein anderes Modul nun ein bereits geladenes Modul enthält, wird dieses nicht ein zweites mal geladen (Module sind sogenannte Singletons).\n",
    "\n",
    "Wenn wir beispielsweise das `math` Modul importieren wollen, tippen wir einfach:"
   ]
  },
  {
   "cell_type": "code",
   "execution_count": 1,
   "metadata": {
    "collapsed": true
   },
   "outputs": [],
   "source": [
    "# Import der Bibliothek\n",
    "import math"
   ]
  },
  {
   "cell_type": "code",
   "execution_count": 2,
   "metadata": {},
   "outputs": [
    {
     "data": {
      "text/plain": [
       "3"
      ]
     },
     "execution_count": 2,
     "metadata": {},
     "output_type": "execute_result"
    }
   ],
   "source": [
    "# Anwendung (Aufrunden)\n",
    "math.ceil(2.4)"
   ]
  },
  {
   "cell_type": "markdown",
   "metadata": {},
   "source": [
    "## built-in Module erkunden\n",
    "\n",
    "Zwei sehr wichtige Funktionen, um Module zu erkunden, sind die Funktionen `dir` und `help`.\n",
    "\n",
    "Mit `dir` können wir schauen, welche Funktionen in einem Modul beinhaltet sind:"
   ]
  },
  {
   "cell_type": "code",
   "execution_count": 3,
   "metadata": {},
   "outputs": [
    {
     "name": "stdout",
     "output_type": "stream",
     "text": [
      "['__doc__', '__loader__', '__name__', '__package__', '__spec__', 'acos', 'acosh', 'asin', 'asinh', 'atan', 'atan2', 'atanh', 'ceil', 'copysign', 'cos', 'cosh', 'degrees', 'e', 'erf', 'erfc', 'exp', 'expm1', 'fabs', 'factorial', 'floor', 'fmod', 'frexp', 'fsum', 'gamma', 'gcd', 'hypot', 'inf', 'isclose', 'isfinite', 'isinf', 'isnan', 'ldexp', 'lgamma', 'log', 'log10', 'log1p', 'log2', 'modf', 'nan', 'pi', 'pow', 'radians', 'sin', 'sinh', 'sqrt', 'tan', 'tanh', 'tau', 'trunc']\n"
     ]
    }
   ],
   "source": [
    "print(dir(math))"
   ]
  },
  {
   "cell_type": "markdown",
   "metadata": {},
   "source": [
    "Sobald wir die Funktion gefunden haben, die wir aus einem bestimmten Modul benutzen wollen, können wir mehr darüber erfahren, indem wir `help` nutzen:"
   ]
  },
  {
   "cell_type": "code",
   "execution_count": 4,
   "metadata": {},
   "outputs": [
    {
     "name": "stdout",
     "output_type": "stream",
     "text": [
      "Help on built-in function ceil in module math:\n",
      "\n",
      "ceil(...)\n",
      "    ceil(x)\n",
      "    \n",
      "    Return the ceiling of x as an Integral.\n",
      "    This is the smallest integer >= x.\n",
      "\n"
     ]
    }
   ],
   "source": [
    "help(math.ceil)"
   ]
  },
  {
   "cell_type": "markdown",
   "metadata": {},
   "source": [
    "## Module schreiben\n",
    "\n",
    "Python Module zu schreiben ist sehr einfach. Was müssen wir also tun, um ein Modul zu erstellen? Dazu erstellt man einfach eine .py Datei mit dem Namen des Moduls. Diese kann dann mit dem Dateinamen (ohne .py Endung) und `import` importiert werden.\n",
    "\n",
    "## Pakete schreiben\n",
    "\n",
    "Wenn ein Programm oder Projekt umfangreicher wird, kann es passieren, dass auch die Anzahl unserer Module sehr groß wird. Das erschwert es, die Gesamtheit des Codes nachzuvollziehen und zu warten. Was können wir also tun, um zu verhindern, dass wir den Überblick über unsere Module verlieren? Die Antwort ist: Pakete \"schnüren\".\n",
    "\n",
    "Pakete sind Namensräume (von Konstanten, Funktionen und klassen), die selbst mehrere Pakete und Module beinhalten. Sie sind einfach Verzeichnisse, allerdings mit einer Besonderheit.\n",
    "\n",
    "Jedes Paket in Python ist ein Verzeichnis (Ordner), welches eine spezielle Datei namens **\\__init\\__.py** beinhalten muss. Diese Datei kann leer sein; sie zeigt lediglich an, dass das entsprechende Verzeichnis ein Python-Paket ist, das wie ein Modul importiert werden kann.\n",
    "\n",
    "Wenn wir ein Verzeichnis erstellen, dass `foo` heißt, können wir darin ein Modul erstellen, das `bar` heißt. Außerdem müssen wir an die **\\__init\\__.py** Datei denken.\n",
    "\n",
    "Um das Modul `bar` zu nutzen, können wir es auf zwei Arten importieren:"
   ]
  },
  {
   "cell_type": "code",
   "execution_count": null,
   "metadata": {
    "collapsed": true
   },
   "outputs": [],
   "source": [
    "# Nur ein Beispiel, das hier funktioniert nicht\n",
    "import foo.bar"
   ]
  },
  {
   "cell_type": "code",
   "execution_count": null,
   "metadata": {
    "collapsed": true
   },
   "outputs": [],
   "source": [
    "# alternativ so (auch nur ein nicht funktionierendes Beispiel)\n",
    "from foo import bar"
   ]
  },
  {
   "cell_type": "markdown",
   "metadata": {},
   "source": [
    "Bei der ersten Variante müssen wir immer das Präfix `foo` angeben, wenn wir das Modul `bar` adressieren wollen. Bei der zweiten Variante müssen wir das nicht, da wir das Modul zu unserem Modul-Namensraum hinzugefügt haben.\n",
    "\n",
    "Die Datei **\\__init\\__.py** bestimmt, welche Module das Paket als API exportiert, während andere Module intern gehalten werden, indem wir die **\\__all\\__** Variable überschreiben:"
   ]
  },
  {
   "cell_type": "code",
   "execution_count": null,
   "metadata": {
    "collapsed": true
   },
   "outputs": [],
   "source": [
    "__init__.py:\n",
    "\n",
    "__all__ = [\"bar\"]"
   ]
  },
  {
   "cell_type": "markdown",
   "metadata": {},
   "source": [
    "Du hast nun die Grundlagen von Modulen und Paketen in Python kennengelernt.\n",
    "\n",
    "## Prima!"
   ]
  }
 ],
 "metadata": {
  "kernelspec": {
   "display_name": "Python 3",
   "language": "python",
   "name": "python3"
  },
  "language_info": {
   "codemirror_mode": {
    "name": "ipython",
    "version": 3
   },
   "file_extension": ".py",
   "mimetype": "text/x-python",
   "name": "python",
   "nbconvert_exporter": "python",
   "pygments_lexer": "ipython3",
   "version": "3.8.5"
  },
  "varInspector": {
   "cols": {
    "lenName": 16,
    "lenType": 16,
    "lenVar": 40
   },
   "kernels_config": {
    "python": {
     "delete_cmd_postfix": "",
     "delete_cmd_prefix": "del ",
     "library": "var_list.py",
     "varRefreshCmd": "print(var_dic_list())"
    },
    "r": {
     "delete_cmd_postfix": ") ",
     "delete_cmd_prefix": "rm(",
     "library": "var_list.r",
     "varRefreshCmd": "cat(var_dic_list()) "
    }
   },
   "types_to_exclude": [
    "module",
    "function",
    "builtin_function_or_method",
    "instance",
    "_Feature"
   ],
   "window_display": false
  }
 },
 "nbformat": 4,
 "nbformat_minor": 1
}
