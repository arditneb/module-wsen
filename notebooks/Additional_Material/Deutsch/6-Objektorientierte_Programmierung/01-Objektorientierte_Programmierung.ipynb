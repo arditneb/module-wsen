{
 "cells": [
  {
   "cell_type": "markdown",
   "metadata": {},
   "source": [
    "<a href=\"https://www.datamics.com/courses/online-courses/\">![title](bg_datamics_top.png)</a>\n",
    "\n",
    "<center><em>© Datamics</em></center><br><center><em>Besuche uns für mehr Informationen auf <a href='https://www.datamics.com/courses/online-courses/'>www.datamics.com</a></em>"
   ]
  },
  {
   "cell_type": "markdown",
   "metadata": {
    "collapsed": true
   },
   "source": [
    "# Objektorientierte Programmierung\n",
    "\n",
    "Objektorientierte Programmierung (OOP) ist eine der größten Herausforderungen für Beginner, wenn sie lernen, Python zu programmieren. \n",
    "\n",
    "Es gibt viele, wirklich viele Übungen und Lektionen, die OOP abdecken. Ihr könnt für zusätzliches Material einfach danach googeln. Außerdem stelle ich euch einige nützliche Links zu anderen Übungen ans Ende dieses Notebooks.\n",
    "\n",
    "Wir werden das Wissen dieser Lektion über OOP auf folgenden Themen aufbauen:\n",
    "\n",
    "* Objekte\n",
    "* Verwendung des Schlüsselworts *class*\n",
    "* Erstellen von Klassenattributen\n",
    "* Erstellen von Methoden in einer Klasse\n",
    "* Lernen über Vererbung\n",
    "* Spezielle Methoden für Klassen\n",
    "\n",
    "Lasst uns diese Lektion damit beginnen, uns unser Wissen über elementare Objekte in Python in Erinnerung zu rufen. Zum Beispiel:"
   ]
  },
  {
   "cell_type": "code",
   "execution_count": 1,
   "metadata": {},
   "outputs": [],
   "source": [
    "liste = [1, 2, 3]"
   ]
  },
  {
   "cell_type": "markdown",
   "metadata": {},
   "source": [
    "Wisst ihr noch, wie wir Methoden auf eine Liste anwenden?"
   ]
  },
  {
   "cell_type": "code",
   "execution_count": 2,
   "metadata": {},
   "outputs": [
    {
     "data": {
      "text/plain": [
       "1"
      ]
     },
     "execution_count": 2,
     "metadata": {},
     "output_type": "execute_result"
    }
   ],
   "source": [
    "liste.count(2)"
   ]
  },
  {
   "cell_type": "markdown",
   "metadata": {},
   "source": [
    "Was wir diese Lektion hauptsächlich lernen werden das Erstellen eines derartigen Objektes. Wir haben ja bereits gelernt, wie wir Funktionen erstellen können. Lasst uns also zunächst Objekte im Allgemeinen anschauen:\n",
    "\n",
    "## Objekte\n",
    "\n",
    "In Python ist *alles ein Objekt*. Erinnert euch daran, dass wir in vorherigen Lektionen `type()` dazu benutzen, um zu überprüfen, welchen Typ ein Objekt hat:"
   ]
  },
  {
   "cell_type": "code",
   "execution_count": 3,
   "metadata": {},
   "outputs": [
    {
     "name": "stdout",
     "output_type": "stream",
     "text": [
      "<class 'int'>\n",
      "<class 'list'>\n",
      "<class 'tuple'>\n",
      "<class 'dict'>\n"
     ]
    }
   ],
   "source": [
    "print(type(1))\n",
    "print(type([]))\n",
    "print(type(()))\n",
    "print(type({}))"
   ]
  },
  {
   "cell_type": "markdown",
   "metadata": {},
   "source": [
    "Wir wissen also, dass all diese Dinge Objekte sind. Wie können wir nun unsere eigenen Objekte erstellen? An dieser Stelle kommt das Schlüsselwort `class` ins Spiel.\n",
    "\n",
    "## class\n",
    "\n",
    "Die vom Nutzer definierten Objekte werden durch das Schlüsselwort `class` erstellt. `class` ist eine Blaupause, die die Eigenschaften eines zukünftigen Objektes festhält. Von Klassen können wir Instanzen ableiten. Eine Instanz ist ein Objekt, das aus einer bestimmten Klasse geschaffen wurde. Zum Beispiel haben wir oben `liste` erstellt, welches eine Instanz der Klasse `list` ist.\n",
    "\n",
    "Lasst uns jetzt betrachten, wie wir `class` verwenden:"
   ]
  },
  {
   "cell_type": "code",
   "execution_count": 4,
   "metadata": {},
   "outputs": [
    {
     "name": "stdout",
     "output_type": "stream",
     "text": [
      "<class '__main__.Beispiel'>\n"
     ]
    }
   ],
   "source": [
    "# Eine neue Klasse erstellen, die Beispiel heißt\n",
    "class Beispiel:\n",
    "    \"\"\" Dummy-Klasse Beispiel. \"\"\"\n",
    "    \n",
    "    pass\n",
    "\n",
    "# Instanz von Beispiel\n",
    "\n",
    "\n",
    "x = Beispiel()\n",
    "\n",
    "print(type(x))"
   ]
  },
  {
   "cell_type": "markdown",
   "metadata": {},
   "source": [
    "Per Konvention geben wir Klassen einen Namen, der mit einem Großbuchstaben beginnt. Achtet darauf, wie **x** jetzt eine Referenz für unsere neue Instanz der Klasse Beispiel ist. \n",
    "\n",
    "Innerhalb der Klasse haben wir aktuell nur `pass`. Wir können aber auch Klassenattribute und -methoden definieren.\n",
    "\n",
    "Ein **Attribut** ist eine Charakteristik eines Objekts. \n",
    "Eine **Methode** ist eine Operation, die wir auf das Objekt anwenden können.\n",
    "\n",
    "Zum Beispiel können wir eine Klasse erstellen, die Hund heißt. Ein Attribut könnte beispielsweise die Rasse oder der Name sein, während eine Methode des Hundes z.B. `bellen()` sein könnte. \n",
    "\n",
    "Lasst uns ein besseres Verständnis dafür mit einem Beispiel erwerben.\n",
    "\n",
    "## Attribute\n",
    "\n",
    "Die Syntax für ein Attribut ist:\n",
    "    \n",
    "    self.attribut = etwas\n",
    "    \n",
    "Es gibt eine spezielle Methode namens:\n",
    "\n",
    "    __init__()\n",
    "    \n",
    "Diese Methode wird genutzt, um das Attribut eines Objektes zu initiieren. Zum Beispiel:"
   ]
  },
  {
   "cell_type": "code",
   "execution_count": 5,
   "metadata": {},
   "outputs": [],
   "source": [
    "class Hund:\n",
    "    \"\"\" Klasse Hund zur Demonstration der Initialisierungsfunktion. \"\"\"\n",
    "    \n",
    "    def __init__(self, rasse):\n",
    "        \"\"\" Initialisierungsfunktion, die den Parameter rasse\n",
    "        als Instanzattribut speichert. \n",
    "        \"\"\"\n",
    "        \n",
    "        self.rasse = rasse\n",
    "\n",
    "\n",
    "sam = Hund(rasse='Lab')\n",
    "frank = Hund(rasse='Huskie')"
   ]
  },
  {
   "cell_type": "markdown",
   "metadata": {},
   "source": [
    "Lasst uns herunterbrechen, was wir getan haben. Die spezielle Methode\n",
    "\n",
    "    __init__()\n",
    "    \n",
    "wird automatisch aufgerufen, sobald das Objekt erstellt wurde:\n",
    "\n",
    "    def __init__(self,rasse):\n",
    "    \n",
    "Jedes Attribut in einer Klassendefinition beginnt mit einer Referenz auf das Instanz-Objekt. Gewöhnlich nennt man es `self` (selbst). Die Rasse ist das Argument. Der Wert wird während der Klassenerstellung übergeben.\n",
    "\n",
    "    self.rasse = rasse\n",
    "    \n",
    "Jetzt haben wir zwei Instanzen der Hunde Klasse erstellt, mit zwei Rassen. Um diese Attribute aufzurufen können wir nun folgendes tun:"
   ]
  },
  {
   "cell_type": "code",
   "execution_count": 6,
   "metadata": {},
   "outputs": [
    {
     "data": {
      "text/plain": [
       "'Lab'"
      ]
     },
     "execution_count": 6,
     "metadata": {},
     "output_type": "execute_result"
    }
   ],
   "source": [
    "sam.rasse"
   ]
  },
  {
   "cell_type": "code",
   "execution_count": 7,
   "metadata": {},
   "outputs": [
    {
     "data": {
      "text/plain": [
       "'Huskie'"
      ]
     },
     "execution_count": 7,
     "metadata": {},
     "output_type": "execute_result"
    }
   ],
   "source": [
    "frank.rasse"
   ]
  },
  {
   "cell_type": "markdown",
   "metadata": {},
   "source": [
    "Bemerkenswert ist an dieser Stelle, dass wir keine Klammern hinter `rasse` verwendet haben. Das liegt daran, dass es ein Attribut ist. Diese nehmen keine Parameter an.\n",
    "\n",
    "In Python gibt es auch klassenbasierte Objektattribute. Diese klassenbasierte Objektattribute gelten für alle Instanzen dieser Klasse. Zum Beispiel könnten wir für die Klasse Hund ein Attribut namens `spezies` einführen. Hunde sind ganz unabhängig von ihrer Rasse und ihrem Namen eins immer mit Sicherheit: Säugetiere. Diese Logik setzen wir folgendermaßen um:"
   ]
  },
  {
   "cell_type": "code",
   "execution_count": 8,
   "metadata": {},
   "outputs": [],
   "source": [
    "class Hund:\n",
    "    \"\"\" Klasse Hund zur Demonstration von Klassen- und Instanzattributen. \"\"\"\n",
    "    \n",
    "    # Klassenbasiertes Objektattribut\n",
    "    spezies = \"saeugetier\"\n",
    "\n",
    "    def __init__(self, rasse, name):\n",
    "        \"\"\" Initialisierungsfunktion, die den Parameter rasse und name\n",
    "        als Instanzattribute speichert. \n",
    "        \"\"\"\n",
    "        \n",
    "        self.rasse = rasse\n",
    "        self.name = name"
   ]
  },
  {
   "cell_type": "code",
   "execution_count": 9,
   "metadata": {},
   "outputs": [],
   "source": [
    "sam = Hund('Lab','Sam')"
   ]
  },
  {
   "cell_type": "code",
   "execution_count": 10,
   "metadata": {},
   "outputs": [
    {
     "data": {
      "text/plain": [
       "'Sam'"
      ]
     },
     "execution_count": 10,
     "metadata": {},
     "output_type": "execute_result"
    }
   ],
   "source": [
    "sam.name"
   ]
  },
  {
   "cell_type": "markdown",
   "metadata": {},
   "source": [
    "Wichtig ist, dass das klassenbasierte Objektattribut außerhalb aller Methoden in der Klasse definiert wird. Üblicherweise platzieren wir sie vor dem `init`."
   ]
  },
  {
   "cell_type": "code",
   "execution_count": 11,
   "metadata": {},
   "outputs": [
    {
     "data": {
      "text/plain": [
       "'saeugetier'"
      ]
     },
     "execution_count": 11,
     "metadata": {},
     "output_type": "execute_result"
    }
   ],
   "source": [
    "sam.spezies"
   ]
  },
  {
   "cell_type": "markdown",
   "metadata": {},
   "source": [
    "## Methoden\n",
    "\n",
    "Methoden sind Funktionen die innerhalb des Körpers einer Klasse definiert sind. Sie werden genutzt, um Operationen mit den Attributen unserer Objekte durchzuführen. Methoden sind entscheidend im Abkapselungskonzept des OOP-Paradigmas. Das ist entscheidend, wenn Verantwortungen im Programmieren verteilt werden, insbesondere in großen Anwendungen.\n",
    "\n",
    "Ihr könnt Methoden grundsätzlich so verstehen, dass es auf einem Objekt wirkende Funktionen sind, die das Objekt selbst durch das Argument `self` verwalten.\n",
    "\n",
    "Lasst uns als Beispiel eine Klasse Kreis durchgehen:"
   ]
  },
  {
   "cell_type": "code",
   "execution_count": 13,
   "metadata": {},
   "outputs": [
    {
     "name": "stdout",
     "output_type": "stream",
     "text": [
      "Der Radius ist: 1\n",
      "Die Fläche ist: 3.14\n",
      "Der Umfang ist: 6.28\n"
     ]
    }
   ],
   "source": [
    "class Kreis:\n",
    "    \"\"\" Klasse Kreis mit Klassenattribut pi, Initialisierung mit radius und\n",
    "    flaeche und Methoden zum setzen des Radius und Berechnung des Umfangs.\n",
    "    \"\"\"\n",
    "    \n",
    "    pi = 3.14\n",
    "\n",
    "    # Ein Kreis hat einen Radius, der per Standard 1 ist\n",
    "    def __init__(self, radius=1):\n",
    "        \"\"\" Initialisierung mit Radius und Flächenberechnung. \"\"\"\n",
    "        \n",
    "        self.radius = radius\n",
    "        self.flaeche = radius * radius * Kreis.pi\n",
    "\n",
    "    # Methode um den Radius zu setzen\n",
    "    def radius_setzen(self, radius):\n",
    "        \"\"\" Methode zum setzen des Radius. \"\"\"\n",
    "        \n",
    "        self.radius = radius\n",
    "\n",
    "    # Methode zur Berechnung des Umfanges\n",
    "    def umfang_erhalten(self):\n",
    "        \"\"\" Methode zur Berechnung des Umfangs. \"\"\"\n",
    "        \n",
    "        return self.radius * self.pi * 2\n",
    "\n",
    "\n",
    "kreis = Kreis()\n",
    "\n",
    "print(\"Der Radius ist:\", kreis.radius)\n",
    "print(\"Die Fläche ist:\", kreis.flaeche)\n",
    "print(\"Der Umfang ist:\", kreis.umfang_erhalten())"
   ]
  },
  {
   "cell_type": "markdown",
   "metadata": {},
   "source": [
    "In der obigen `init`-Methode haben wir, um die Fläche zu berechen, `Kreis.pi` aufrufen müssen. Dies ist notwendig, da das Objekt bisher kein eigenes Attribut `.pi` hat, weshalb wir das Klassenattribut `pi` statt dessen benötigen.\n",
    "In der Methode `radius_setzen` hingegen kann auf das `pi` der Instanz zugegriffen werden, da diese bereits erzeugt wurde. Wir können also `Kreis.pi` oder `self.pi` verwenden.\n",
    "Lasst uns den Radius ändern und schauen, wie es die Instanz von `Kreis` beeinflusst:"
   ]
  },
  {
   "cell_type": "code",
   "execution_count": 15,
   "metadata": {},
   "outputs": [
    {
     "name": "stdout",
     "output_type": "stream",
     "text": [
      "Der Radius ist: 2\n",
      "Die Fläche ist: 3.14\n",
      "Der Umfang ist: 12.56\n"
     ]
    }
   ],
   "source": [
    "kreis.radius_setzen(2)\n",
    "\n",
    "print(\"Der Radius ist:\", kreis.radius)\n",
    "print(\"Die Fläche ist:\", kreis.flaeche)\n",
    "print(\"Der Umfang ist:\", kreis.umfang_erhalten())"
   ]
  },
  {
   "cell_type": "markdown",
   "metadata": {},
   "source": [
    "Großartig! Achtet darauf, wie wir die `self.`-Notation genutzt haben, um Zugriff auf Attribute innerhalb der Methode zu nehmen. Schaut euch noch einmal genau an, wie der obige Code funktioniert.\n",
    "\n",
    "## Vererbung\n",
    "\n",
    "Vererbung ist ein Weg, um neue Klassen aus bereits existierende Klassen zu erstellen. Die neu erstellten Klassen werden abgeleitete Klassen genannt. Die Klassen, die als Grundlage genommen werden, nennen wir Basisklassen. Wichtige Vorteile von Vererbung sind Codewiederverwertung und die Reduktion von Komplexität im Programm. Die abgeleiteten Klassen überschreiben oder erweitern die Funktionalität der Basisklassen. \n",
    "\n",
    "Lasst uns ein Beispiel mit Rückgriff auf unsere Klasse `Hund` betrachten:"
   ]
  },
  {
   "cell_type": "code",
   "execution_count": 16,
   "metadata": {},
   "outputs": [],
   "source": [
    "class Tier:\n",
    "    \"\"\" Beispielklasse Tier. \"\"\"\n",
    "    \n",
    "    def __init__(self):\n",
    "        \"\"\" Initialisierung mit Statusmeldung. \"\"\"\n",
    "        \n",
    "        print(\"Tier erschaffen\")\n",
    "\n",
    "    def wer_bin_ich(self):\n",
    "        \"\"\" Ausgabe der Identität. \"\"\"\n",
    "        \n",
    "        print(\"Tier\")\n",
    "\n",
    "    def essen(self):\n",
    "        \"\"\" Weitere Beispielmethode. \"\"\"\n",
    "        \n",
    "        print(\"Essen\")\n",
    "\n",
    "\n",
    "class Hund(Tier):\n",
    "    \"\"\" Klasse Hund erbt von Tier. \"\"\"\n",
    "    \n",
    "    def __init__(self):\n",
    "        \"\"\" Ergänzt die Funktionalität der Initialisierung von Tier. \"\"\"\n",
    "        \n",
    "        Tier.__init__(self)\n",
    "        print(\"Hund erstellt\")\n",
    "\n",
    "    def wer_bin_ich(self):\n",
    "        \"\"\" Überschreibt dieselbe Methode der Basisklasse. \"\"\"\n",
    "        \n",
    "        print(\"Hund\")\n",
    "\n",
    "    def bellen(self):\n",
    "        \"\"\" Eine weitere Methode, spezifisch für Hund. \"\"\"\n",
    "        \n",
    "        print(\"Woof!\")"
   ]
  },
  {
   "cell_type": "code",
   "execution_count": 17,
   "metadata": {},
   "outputs": [
    {
     "name": "stdout",
     "output_type": "stream",
     "text": [
      "Tier erschaffen\n",
      "Hund erstellt\n"
     ]
    }
   ],
   "source": [
    "hund = Hund()"
   ]
  },
  {
   "cell_type": "code",
   "execution_count": 18,
   "metadata": {},
   "outputs": [
    {
     "name": "stdout",
     "output_type": "stream",
     "text": [
      "Hund\n"
     ]
    }
   ],
   "source": [
    "hund.wer_bin_ich()"
   ]
  },
  {
   "cell_type": "code",
   "execution_count": 19,
   "metadata": {},
   "outputs": [
    {
     "name": "stdout",
     "output_type": "stream",
     "text": [
      "Essen\n"
     ]
    }
   ],
   "source": [
    "hund.essen()"
   ]
  },
  {
   "cell_type": "code",
   "execution_count": 20,
   "metadata": {},
   "outputs": [
    {
     "name": "stdout",
     "output_type": "stream",
     "text": [
      "Woof!\n"
     ]
    }
   ],
   "source": [
    "hund.bellen()"
   ]
  },
  {
   "cell_type": "markdown",
   "metadata": {},
   "source": [
    "In diesem Beispiel haben wir zwei Klassen: Tier und Hund. Das Tier ist die Basisklasse, der Hund ist die abgeleitete Klasse,\n",
    "\n",
    "Die abgeleitete Klasse erbt die Funktionalität der Basisklasse.\n",
    "\n",
    "* Zu sehen an der essen() Methode.\n",
    "\n",
    "Die abgeleitete Klasse bearbeitet bereits bestehendes Verhalten der Basisklasse.\n",
    "\n",
    "* Zu sehen an der wer_bin_ich() Methode.\n",
    "\n",
    "Zu guter Letzt erweitert die Funktionalität der Basisklasse.\n",
    "\n",
    "* Zu sehen an der bellen() Methode."
   ]
  },
  {
   "cell_type": "markdown",
   "metadata": {},
   "source": [
    "## Polymorphismus\n",
    "\n",
    "Wir haben gelernt, dass Funktionen verschiedene Argumente annehmen, Methoden aber zu den Objekten gehören, auf denen  sie wirken. In Python bezeichnet Polymorphismus, wie verschiedene Klassen den selben Methodennamen verwenden können und diese Methoden auf die gleiche Art aufgerufen werden können, obwohl sie in verschiedenen Klassen definiert sind. Das lässt sich am besten mit einem Beispiel erklären:"
   ]
  },
  {
   "cell_type": "code",
   "execution_count": 21,
   "metadata": {},
   "outputs": [
    {
     "name": "stdout",
     "output_type": "stream",
     "text": [
      "Niko sagt Woof!\n",
      "Felix sagt Meow!\n"
     ]
    }
   ],
   "source": [
    "class Hund:\n",
    "    \"\"\" Beispielklasse Hund. \"\"\"\n",
    "    \n",
    "    def __init__(self, name):\n",
    "        \"\"\" Initialisierung mit Name. \"\"\"\n",
    "        \n",
    "        self.name = name\n",
    "\n",
    "    def sprechen(self):\n",
    "        \"\"\" Ploymorphe Methode sprechen ist ebenfalls in Katze, \n",
    "        aber mit verschiedener Funktionalität, implementiert. \"\"\"\n",
    "        \n",
    "        return self.name + ' sagt Woof!'\n",
    "\n",
    "\n",
    "class Katze:\n",
    "    \"\"\" Beispielklasse Hund. \"\"\"\n",
    "    \n",
    "    def __init__(self, name):\n",
    "        \"\"\" Initialisierung mit Name. \"\"\"\n",
    "        \n",
    "        self.name = name\n",
    "\n",
    "    def sprechen(self):\n",
    "        \"\"\" Ploymorphe Methode sprechen ist ebenfalls in Hund, \n",
    "        aber mit verschiedener Funktionalität, implementiert. \"\"\"\n",
    "        \n",
    "        return self.name + ' sagt Meow!'\n",
    "\n",
    "\n",
    "niko = Hund('Niko')\n",
    "felix = Katze('Felix')\n",
    "\n",
    "print(niko.sprechen())\n",
    "print(felix.sprechen())"
   ]
  },
  {
   "cell_type": "markdown",
   "metadata": {},
   "source": [
    "Hier haben wir eine Klasse Hund und eine Klasse Katze, und beide haben eine Methode `sprechen()`. Beim Aufruf von `.sprechen()` führt jede Klasse ihre eigene Methode aus.\n",
    "\n",
    "Es gibt verschiedene Wege, Polymorphismus zu demonstrieren. Zuerst, mit einer `for`-Schleife:"
   ]
  },
  {
   "cell_type": "code",
   "execution_count": 22,
   "metadata": {},
   "outputs": [
    {
     "name": "stdout",
     "output_type": "stream",
     "text": [
      "Niko sagt Woof!\n",
      "Felix sagt Meow!\n"
     ]
    }
   ],
   "source": [
    "for tier in [niko, felix]:\n",
    "    print(tier.sprechen())"
   ]
  },
  {
   "cell_type": "markdown",
   "metadata": {},
   "source": [
    "Ein anderer ist mit Funktionen:"
   ]
  },
  {
   "cell_type": "code",
   "execution_count": 23,
   "metadata": {},
   "outputs": [
    {
     "name": "stdout",
     "output_type": "stream",
     "text": [
      "Niko sagt Woof!\n",
      "Felix sagt Meow!\n"
     ]
    }
   ],
   "source": [
    "def tier_sprechen(tier):\n",
    "    \"\"\" Aufruf der polymorphen Methode sprechen mit einer Funktion. \"\"\"\n",
    "    \n",
    "    print(tier.sprechen())\n",
    "\n",
    "\n",
    "tier_sprechen(niko)\n",
    "tier_sprechen(felix)"
   ]
  },
  {
   "cell_type": "markdown",
   "metadata": {
    "slideshow": {
     "slide_type": "slide"
    }
   },
   "source": [
    "In beiden Fällen konnten wir Instanzen verschiedener Klassen übergeben und instanzspezifische Ergebnisse mit dem gleichen Mechanismus erhalten.\n",
    "\n",
    "Eine gebräuchlichere Praxis ist die Verwendung abstrakter Klassen und Vererbung. Eine abstrakte Klasse ist eine Klasse, die nie direkt instanziiert wird. Beispielsweise werden wir niemals eine Instanz von `Tier` bilden, lediglich von `Hund` und `Katze`, obwohl `Hund` und `Katze` von `Tier` abgeleitet wurden:"
   ]
  },
  {
   "cell_type": "code",
   "execution_count": 24,
   "metadata": {},
   "outputs": [
    {
     "name": "stdout",
     "output_type": "stream",
     "text": [
      "Fido sagt Woof!\n",
      "Isis sagt Meow!\n"
     ]
    }
   ],
   "source": [
    "class Tier:\n",
    "    \"\"\" Beispielklasse für abstrakte Basismethoden. \"\"\"\n",
    "    \n",
    "    def __init__(self, name):    # Konstruktor\n",
    "        \"\"\" Initialisierung mit Name. \"\"\"\n",
    "        \n",
    "        self.name = name\n",
    "\n",
    "    def sprechen(self):              # Abstrakte Methode, nur definiert per Konvention\n",
    "        \"\"\" Abstrakte Methode, die von erbenden Klassen implementiert werden MUSS. \"\"\"\n",
    "        \n",
    "        raise NotImplementedError(\n",
    "            \"Subklassen müssen diese Methode implementieren!\")\n",
    "\n",
    "\n",
    "class Hund(Tier):\n",
    "    \"\"\" Beispielklasse Hund, von Tier abgeleitet. \"\"\"\n",
    "\n",
    "    def sprechen(self):\n",
    "        \"\"\" Abstrakte Methode in der Basisklasse, muss implementiert werden,\n",
    "        um die Exception NotImplementedError zu vermeiden. \n",
    "        \"\"\"\n",
    "        \n",
    "        return self.name + ' sagt Woof!'\n",
    "\n",
    "\n",
    "class Katze(Tier):\n",
    "    \"\"\" Beispielklasse Katze, von Tier abgeleitet. \"\"\"\n",
    "\n",
    "    def sprechen(self):\n",
    "        \"\"\" Abstrakte Methode in der Basisklasse, muss implementiert werden,\n",
    "        um die Exception NotImplementedError zu vermeiden. \n",
    "        \"\"\"\n",
    "        \n",
    "        return self.name + ' sagt Meow!'\n",
    "\n",
    "\n",
    "fido = Hund('Fido')\n",
    "isis = Katze('Isis')\n",
    "\n",
    "print(fido.sprechen())\n",
    "print(isis.sprechen())"
   ]
  },
  {
   "cell_type": "markdown",
   "metadata": {},
   "source": [
    "Beispiele aus dem echten Leben für Polymorphismus:\n",
    "* Verschiedene Dateitypen öffnen - Word, PDF und Excel brauchen verschiedene Methoden\n",
    "* Verschiedene Objekte addieren - `+` kann arithmetisch sein oder verknüpfen"
   ]
  },
  {
   "cell_type": "markdown",
   "metadata": {},
   "source": [
    "## Spezielle Methoden\n",
    "\n",
    "Abschließend können wir über spezielle Methoden sprechen. Klassen in Python können bestimmte Operationen mit speziellen Methodennamen implementieren. Diese Methoden werden nicht tatsächlich direkt aufgerufen, sondern mit Python-spezifischer Syntax. Lasst uns als Beispiel eine Klasse `Buch` erstellen:"
   ]
  },
  {
   "cell_type": "code",
   "execution_count": 25,
   "metadata": {},
   "outputs": [],
   "source": [
    "class Buch(object):\n",
    "    \"\"\" Beispielklasse zur Demonstration spezieller Methoden. \"\"\"\n",
    "    \n",
    "    def __init__(self, titel, autor, seiten):\n",
    "        \"\"\" Initialisierung von Buch mit titel, autor und seiten. \"\"\"\n",
    "        \n",
    "        print(\"Ein Buch wurde geschrieben!\")\n",
    "        self.titel = titel\n",
    "        self.autor = autor\n",
    "        self.seiten = seiten\n",
    "\n",
    "    def __str__(self):\n",
    "        \"\"\" Darstellung einer Instanz als String (spezielle Methode) wird überschrieben. \"\"\"\n",
    "        \n",
    "        return \"Titel:%s , Autor:%s , Seiten:%s\" % (self.titel, self.autor, self.seiten)\n",
    "\n",
    "    def __len__(self):\n",
    "        \"\"\" Darstellung der Länge einer Instanz (spezielle Methode) wird überschrieben. \"\"\"\n",
    "        \n",
    "        return self.seiten\n",
    "\n",
    "    def __del__(self):\n",
    "        \"\"\" Destruktor einer Instanz (spezielle Methode) wird überschrieben. \"\"\"\n",
    "        \n",
    "        print(\"Ein Buch wurde zerstört!\")"
   ]
  },
  {
   "cell_type": "code",
   "execution_count": 26,
   "metadata": {},
   "outputs": [
    {
     "name": "stdout",
     "output_type": "stream",
     "text": [
      "Ein Buch wurde geschrieben!\n",
      "Titel:Python rockt! , Autor:Dr. Brunner , Seiten:987\n",
      "987\n",
      "Ein Buch wurde zerstört!\n"
     ]
    }
   ],
   "source": [
    "buch = Buch(\"Python rockt!\",\"Dr. Brunner\",987)\n",
    "\n",
    "# Spezielle Methoden\n",
    "print(buch)\n",
    "print(len(buch))\n",
    "del buch"
   ]
  },
  {
   "cell_type": "markdown",
   "metadata": {},
   "source": [
    "Die Methoden __init__(), __str__(), __len__() und __del__()\n",
    "\n",
    "Diese speziellen Methoden sind durch Unterstriche definiert. Sie erlauben es uns, Python-spezifische Funktionen auf Objekte anzuwenden, die durch unsere Klasse erstellt werden.\n",
    "\n",
    "**Nach dieser Lektion solltet ihr ein Verständnis dafür haben, wie ihr eure eigenen Objekte mit class erstellen könnt. Ihr werdet davon stark Gebrauch machen, in eurem nächsten Meilenstein Projekt.**\n",
    "\n",
    "## Ausgezeichnet!\n",
    "\n",
    "\n",
    "Mehr Inhalte zu diesem Thema findest du hier:\n",
    "\n",
    "[Jeff Knupp's Post](https://jeffknupp.com/blog/2014/06/18/improve-your-python-python-classes-and-object-oriented-programming/)\n",
    "\n",
    "[Mozilla's Post](https://developer.mozilla.org/en-US/Learn/Python/Quickly_Learn_Object_Oriented_Programming)\n",
    "\n",
    "[Tutorialspoint](http://www.tutorialspoint.com/python/python_classes_objects.htm)\n",
    "\n",
    "[Offizielle Dokumentation](https://docs.python.org/3/tutorial/classes.html)"
   ]
  }
 ],
 "metadata": {
  "kernelspec": {
   "display_name": "Python 3",
   "language": "python",
   "name": "python3"
  },
  "language_info": {
   "codemirror_mode": {
    "name": "ipython",
    "version": 3
   },
   "file_extension": ".py",
   "mimetype": "text/x-python",
   "name": "python",
   "nbconvert_exporter": "python",
   "pygments_lexer": "ipython3",
   "version": "3.8.5"
  },
  "varInspector": {
   "cols": {
    "lenName": 16,
    "lenType": 16,
    "lenVar": 40
   },
   "kernels_config": {
    "python": {
     "delete_cmd_postfix": "",
     "delete_cmd_prefix": "del ",
     "library": "var_list.py",
     "varRefreshCmd": "print(var_dic_list())"
    },
    "r": {
     "delete_cmd_postfix": ") ",
     "delete_cmd_prefix": "rm(",
     "library": "var_list.r",
     "varRefreshCmd": "cat(var_dic_list()) "
    }
   },
   "types_to_exclude": [
    "module",
    "function",
    "builtin_function_or_method",
    "instance",
    "_Feature"
   ],
   "window_display": false
  }
 },
 "nbformat": 4,
 "nbformat_minor": 1
}
