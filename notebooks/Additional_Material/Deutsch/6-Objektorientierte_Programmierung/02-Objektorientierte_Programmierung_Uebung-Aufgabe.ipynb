{
 "cells": [
  {
   "cell_type": "markdown",
   "metadata": {},
   "source": [
    "<a href=\"https://www.datamics.com/courses/online-courses/\">![title](bg_datamics_top.png)</a>\n",
    "\n",
    "<center><em>© Datamics</em></center><br><center><em>Besuche uns für mehr Informationen auf <a href='https://www.datamics.com/courses/online-courses/'>www.datamics.com</a></em>"
   ]
  },
  {
   "cell_type": "markdown",
   "metadata": {},
   "source": [
    "# Übung Objektorientierte Programmierung - Aufgabe\n",
    "\n",
    "## Aufgabe 1\n",
    "\n",
    "Fülle die Methoden der Klasse `Linie` aus, um Koordinaten als Paar von Tupeln zu akzeptieren und Steigung sowie Distanz zu berechnen."
   ]
  },
  {
   "cell_type": "code",
   "execution_count": 1,
   "metadata": {
    "collapsed": true
   },
   "outputs": [],
   "source": [
    "class Linie:\n",
    "    \"\"\" Klasse Linie: Initialisierung mit zwei Koordinaten und \n",
    "    Methoden zur Berechnung von Distanz und Steigung. \n",
    "    \"\"\"\n",
    "    \n",
    "    def __init__(self, koor1, koor2):\n",
    "        \"\"\" Initialisierung mit den zwei Koordinaten koor1 und koor2. \"\"\"\n",
    "        \n",
    "        pass\n",
    "\n",
    "    def distanz(self):\n",
    "        \"\"\" Methode zur Berechnung der Distanz der beiden Koordinaten. \"\"\"\n",
    "        \n",
    "        pass\n",
    "\n",
    "    def steigung(self):\n",
    "        \"\"\" Methode zur Berechnung der Steigung zwischenden beiden Koordinaten. \"\"\"\n",
    "        \n",
    "        pass"
   ]
  },
  {
   "cell_type": "code",
   "execution_count": 2,
   "metadata": {
    "collapsed": true
   },
   "outputs": [],
   "source": [
    "koordinate1 = (3, 2)\n",
    "koordinate2 = (8, 10)\n",
    "\n",
    "linie = Linie(koordinate1, koordinate2)"
   ]
  },
  {
   "cell_type": "code",
   "execution_count": 3,
   "metadata": {},
   "outputs": [
    {
     "data": {
      "text/plain": [
       "9.433981132056603"
      ]
     },
     "execution_count": 3,
     "metadata": {},
     "output_type": "execute_result"
    }
   ],
   "source": [
    "linie.distanz()"
   ]
  },
  {
   "cell_type": "code",
   "execution_count": 4,
   "metadata": {},
   "outputs": [
    {
     "data": {
      "text/plain": [
       "1.6"
      ]
     },
     "execution_count": 4,
     "metadata": {},
     "output_type": "execute_result"
    }
   ],
   "source": [
    "linie.steigung()"
   ]
  },
  {
   "cell_type": "markdown",
   "metadata": {},
   "source": [
    "________\n",
    "## Aufgabe 2\n",
    "\n",
    "Implementiere die Klasse `Zylinder` aus."
   ]
  },
  {
   "cell_type": "code",
   "execution_count": 5,
   "metadata": {
    "collapsed": true
   },
   "outputs": [],
   "source": [
    "class Zylinder:\n",
    "    \"\"\" Klasse Zylinder: Initialisierung mit hoehe und radius sowie Methoden \n",
    "    zur Berechnung von Volumen und Obergfläche. \n",
    "    \"\"\"\n",
    "    \n",
    "    def __init__(self, hoehe=1, radius=1):\n",
    "        \"\"\" Initialisierung des Zylinders mit hoehe und radius. \"\"\"\n",
    "        \n",
    "        pass\n",
    "        \n",
    "    def volumen(self):\n",
    "        \"\"\" Methode zur Berechnung des Volumens. \"\"\"\n",
    "        \n",
    "        pass\n",
    "    \n",
    "    def oberflaeche(self):\n",
    "        \"\"\" Methode zur Berechnung der Oberfläche. \"\"\"\n",
    "        \n",
    "        pass"
   ]
  },
  {
   "cell_type": "code",
   "execution_count": 6,
   "metadata": {
    "collapsed": true
   },
   "outputs": [],
   "source": [
    "zylinder = Zylinder(2, 3)"
   ]
  },
  {
   "cell_type": "code",
   "execution_count": 7,
   "metadata": {},
   "outputs": [
    {
     "data": {
      "text/plain": [
       "56.52"
      ]
     },
     "execution_count": 7,
     "metadata": {},
     "output_type": "execute_result"
    }
   ],
   "source": [
    "zylinder.volumen()"
   ]
  },
  {
   "cell_type": "code",
   "execution_count": 8,
   "metadata": {},
   "outputs": [
    {
     "data": {
      "text/plain": [
       "94.2"
      ]
     },
     "execution_count": 8,
     "metadata": {},
     "output_type": "execute_result"
    }
   ],
   "source": [
    "zylinder.oberflaeche()"
   ]
  },
  {
   "cell_type": "markdown",
   "metadata": {},
   "source": [
    "## Spitze!"
   ]
  }
 ],
 "metadata": {
  "kernelspec": {
   "display_name": "Python 3",
   "language": "python",
   "name": "python3"
  },
  "language_info": {
   "codemirror_mode": {
    "name": "ipython",
    "version": 3
   },
   "file_extension": ".py",
   "mimetype": "text/x-python",
   "name": "python",
   "nbconvert_exporter": "python",
   "pygments_lexer": "ipython3",
   "version": "3.8.5"
  },
  "varInspector": {
   "cols": {
    "lenName": 16,
    "lenType": 16,
    "lenVar": 40
   },
   "kernels_config": {
    "python": {
     "delete_cmd_postfix": "",
     "delete_cmd_prefix": "del ",
     "library": "var_list.py",
     "varRefreshCmd": "print(var_dic_list())"
    },
    "r": {
     "delete_cmd_postfix": ") ",
     "delete_cmd_prefix": "rm(",
     "library": "var_list.r",
     "varRefreshCmd": "cat(var_dic_list()) "
    }
   },
   "types_to_exclude": [
    "module",
    "function",
    "builtin_function_or_method",
    "instance",
    "_Feature"
   ],
   "window_display": false
  }
 },
 "nbformat": 4,
 "nbformat_minor": 1
}
