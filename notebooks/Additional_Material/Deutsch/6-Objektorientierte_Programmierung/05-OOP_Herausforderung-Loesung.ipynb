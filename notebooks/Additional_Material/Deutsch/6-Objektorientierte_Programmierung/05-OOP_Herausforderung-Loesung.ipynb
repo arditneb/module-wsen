{
 "cells": [
  {
   "cell_type": "markdown",
   "metadata": {},
   "source": [
    "<a href='https://www.datamics.com/courses/online-courses/'>![title](bg_datamics_top.png)</a>\n",
    "___\n",
    "<center><em>© Datamics</em></center>\n",
    "<center><em>Besuche uns für mehr Informationen auf <a href='https://www.datamics.com/courses/online-courses/'>www.datamics.com</a></em></center>"
   ]
  },
  {
   "cell_type": "markdown",
   "metadata": {},
   "source": [
    "# Herausforderung Objektorientierte Programmierung - Lösung\n",
    "\n",
    "In dieser Herausforderung sollst du eine Klasse `Bankkonto` mit den Attributen \n",
    "\n",
    "* inhaber\n",
    "* kontostand\n",
    "\n",
    "und den folgenden Methoden entwerfen:\n",
    "\n",
    "* einzahlen\n",
    "* abbuchen\n",
    "\n",
    "Dabei dürfen die Abbuchungen die Einzahlungen nicht übersteigen.\n",
    "\n",
    "Instanziiere die Klasse, mache ein paar Einzahlungen und Abhegungen und stelle sicher, dass das Konto nicht überzogen werden kann."
   ]
  },
  {
   "cell_type": "code",
   "execution_count": 1,
   "metadata": {},
   "outputs": [],
   "source": [
    "class Bankkonto:\n",
    "    \"\"\" Klasse Bankkonto: Initialisierung mit inhaber und kontostand; \n",
    "    Methoden für die Stringrepräsentation sowie zum Einzahlen und Abbuchen. \n",
    "    \"\"\"\n",
    "    \n",
    "    def __init__(self, inhaber, kontostand=0):\n",
    "        \"\"\" Initialisierung mit inhaber und kontostand. \"\"\"\n",
    "        \n",
    "        self.inhaber = inhaber\n",
    "        self.kontostand = kontostand\n",
    "\n",
    "    def __str__(self):\n",
    "        \"\"\" Stringrepräsentation mit Inhaber und Kontostand. \"\"\"\n",
    "        \n",
    "        return f'Inhaber:   {self.inhaber}\\nKontostand: ${self.kontostand}'\n",
    "\n",
    "    def einzahlen(self, betrag):\n",
    "        \"\"\" Methode zur Einzahlung eines Betrags. \"\"\"\n",
    "        \n",
    "        self.kontostand += betrag\n",
    "        print('Einzahlung erfolgt')\n",
    "\n",
    "    def abbuchen(self, betrag):\n",
    "        \"\"\" Methode zum Abbuchen eines Betrags. \"\"\"\n",
    "        \n",
    "        if self.kontostand >= betrag:\n",
    "            self.kontostand -= betrag\n",
    "            print('Abbuchung erfolgt')\n",
    "        else:\n",
    "            print('Kontostand nicht ausreichend!')"
   ]
  },
  {
   "cell_type": "code",
   "execution_count": 2,
   "metadata": {},
   "outputs": [],
   "source": [
    "# 1. Klasse instanziieren\n",
    "konto = Bankkonto('Rene', 100)"
   ]
  },
  {
   "cell_type": "code",
   "execution_count": 3,
   "metadata": {},
   "outputs": [
    {
     "name": "stdout",
     "output_type": "stream",
     "text": [
      "Inhaber:   Rene\n",
      "Kontostand: $100\n"
     ]
    }
   ],
   "source": [
    "# 2. Instanz ausgeben\n",
    "print(konto)"
   ]
  },
  {
   "cell_type": "code",
   "execution_count": 4,
   "metadata": {},
   "outputs": [
    {
     "data": {
      "text/plain": [
       "'Rene'"
      ]
     },
     "execution_count": 4,
     "metadata": {},
     "output_type": "execute_result"
    }
   ],
   "source": [
    "# 3. Attribut inhaber anzeigen\n",
    "konto.inhaber"
   ]
  },
  {
   "cell_type": "code",
   "execution_count": 5,
   "metadata": {},
   "outputs": [
    {
     "data": {
      "text/plain": [
       "100"
      ]
     },
     "execution_count": 5,
     "metadata": {},
     "output_type": "execute_result"
    }
   ],
   "source": [
    "# 4. Attribut kontostand anzeigen\n",
    "konto.kontostand"
   ]
  },
  {
   "cell_type": "code",
   "execution_count": 6,
   "metadata": {},
   "outputs": [
    {
     "name": "stdout",
     "output_type": "stream",
     "text": [
      "Einzahlung erfolgt\n"
     ]
    }
   ],
   "source": [
    "# 5. Führe ein paar Einzahlungen und Abbuchungen aus\n",
    "konto.einzahlen(50)"
   ]
  },
  {
   "cell_type": "code",
   "execution_count": 7,
   "metadata": {},
   "outputs": [
    {
     "name": "stdout",
     "output_type": "stream",
     "text": [
      "Abbuchung erfolgt\n"
     ]
    }
   ],
   "source": [
    "konto.abbuchen(75)"
   ]
  },
  {
   "cell_type": "code",
   "execution_count": 8,
   "metadata": {},
   "outputs": [
    {
     "name": "stdout",
     "output_type": "stream",
     "text": [
      "Kontostand nicht ausreichend!\n"
     ]
    }
   ],
   "source": [
    "# 6. Versuche, mehr als den aktuellen Kontostand abzubuchen\n",
    "konto.abbuchen(500)"
   ]
  },
  {
   "cell_type": "markdown",
   "metadata": {},
   "source": [
    "## Klasse!"
   ]
  }
 ],
 "metadata": {
  "kernelspec": {
   "display_name": "Python 3",
   "language": "python",
   "name": "python3"
  },
  "language_info": {
   "codemirror_mode": {
    "name": "ipython",
    "version": 3
   },
   "file_extension": ".py",
   "mimetype": "text/x-python",
   "name": "python",
   "nbconvert_exporter": "python",
   "pygments_lexer": "ipython3",
   "version": "3.8.5"
  },
  "varInspector": {
   "cols": {
    "lenName": 16,
    "lenType": 16,
    "lenVar": 40
   },
   "kernels_config": {
    "python": {
     "delete_cmd_postfix": "",
     "delete_cmd_prefix": "del ",
     "library": "var_list.py",
     "varRefreshCmd": "print(var_dic_list())"
    },
    "r": {
     "delete_cmd_postfix": ") ",
     "delete_cmd_prefix": "rm(",
     "library": "var_list.r",
     "varRefreshCmd": "cat(var_dic_list()) "
    }
   },
   "types_to_exclude": [
    "module",
    "function",
    "builtin_function_or_method",
    "instance",
    "_Feature"
   ],
   "window_display": false
  }
 },
 "nbformat": 4,
 "nbformat_minor": 2
}
