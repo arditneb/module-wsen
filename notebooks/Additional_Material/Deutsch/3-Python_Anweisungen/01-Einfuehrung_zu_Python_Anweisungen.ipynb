{
 "cells": [
  {
   "cell_type": "markdown",
   "metadata": {},
   "source": [
    "<a href=\"https://www.datamics.com/courses/online-courses/\">![title](bg_datamics_top.png)</a>\n",
    "\n",
    "<center><em>© Datamics</em></center><br><center><em>Besuche uns für mehr Informationen auf <a href='https://www.datamics.com/courses/online-courses/'>www.datamics.com</a></em>"
   ]
  },
  {
   "cell_type": "markdown",
   "metadata": {
    "slideshow": {
     "slide_type": "slide"
    }
   },
   "source": [
    "# Einführung zu Python Anweisungen\n",
    "\n",
    "In dieser Lektion werden wir uns einen kurzen Überblick über Python Anweisungen (en.: Statements) verschaffen. Diese Lektion wird die Unterschiede zwischen Python und anderen Sprachen wie C++ herausstellen.\n",
    "\n",
    "Es gibt zwei Gründe dafür, warum wir diesen Kontext nutzen, um Python Anweisungen zu lernen:\n",
    "\n",
    "    1.) Wenn ihr aus einem anderen Programmierumfeld kommt, wird dies super schnell euer Verständnis von Python verbessern.\n",
    "    2.) Anweisungen lesen und verstehen zu können wird es euch in der Zukunft erleichtern andere Sprachen schneller lesen und verstehen zu können. "
   ]
  },
  {
   "cell_type": "markdown",
   "metadata": {
    "slideshow": {
     "slide_type": "slide"
    }
   },
   "source": [
    "## Python vs. andere Sprachen\n",
    "\n",
    "Lasst uns ein simples Statement erstellen, das besagt: \"Wenn a größer ist als b, dann weise a die Zahl 2 zu und b die Zahl 4.\"\n",
    "\n",
    "Schaut euch diese beiden Statements an:\n",
    "\n",
    "### Version 1 (andere Sprachen)\n",
    "\n",
    "    if (a > b){\n",
    "        a = 2;\n",
    "        b = 4;\n",
    "    }\n",
    "    \n",
    "### Version 2 (Python)\n",
    "\n",
    "    if a > b:\n",
    "        a = 2\n",
    "        b = 4"
   ]
  },
  {
   "cell_type": "markdown",
   "metadata": {},
   "source": [
    "Ihr seht, dass Python weniger überladen ist und sich viel einfacher lesen lässt als die erste Version. Wie stellt Python das an?\n",
    "\n",
    "Lasst uns die Hauptunterschiede betrachten:\n",
    "\n",
    "Python verzichtet auf () und {} durch zwei Hauptfaktoren: einen <i>Doppelpunkt</i> und <i>Leerzeichen</i>. Die Anweisung wird durch den Doppelpunkt beendet und der Leerraum (durch Zeileneinzug) beschreibt, was passiert, sofern das Statement zutrifft.\n",
    "\n",
    "Zu guter Letzt, um diesen Überblick abzuschließen, schauen wir uns den Zeileneinzug in Python und anderen Sprachen genauer an:\n",
    "\n",
    "## Einrückung\n",
    "\n",
    "Hier ist ein bisschen Dummycode um aufzuzeigen, wie Leerraum und Einzug in Python genutzt werden.\n",
    "\n",
    "### Andere Sprache\n",
    "\n",
    "    if (x) {\n",
    "        if(y) {\n",
    "            code-statement;\n",
    "        }}\n",
    "    else {\n",
    "        anderes-code-statement;\n",
    "        }\n",
    "\n",
    "### Python\n",
    "\n",
    "    if x:\n",
    "        if y:\n",
    "            code-statement\n",
    "    else:\n",
    "        anderes-code-statement"
   ]
  },
  {
   "cell_type": "markdown",
   "metadata": {},
   "source": [
    "Beachte, wie stark Python-Code durch die Einrückung edfiniert wird. Das bedeutet gleichzeitig, dass die Lesbarkeit des Codes eine der wichtigsten Vorteile von Python ist.\n",
    "\n",
    "Jetzt lass uns tiefer das Programmieren mit Anweisungen in Python einsteigen!"
   ]
  },
  {
   "cell_type": "markdown",
   "metadata": {
    "collapsed": true
   },
   "source": [
    "## Klasse!"
   ]
  }
 ],
 "metadata": {
  "kernelspec": {
   "display_name": "Python 3",
   "language": "python",
   "name": "python3"
  },
  "language_info": {
   "codemirror_mode": {
    "name": "ipython",
    "version": 3
   },
   "file_extension": ".py",
   "mimetype": "text/x-python",
   "name": "python",
   "nbconvert_exporter": "python",
   "pygments_lexer": "ipython3",
   "version": "3.8.5"
  },
  "varInspector": {
   "cols": {
    "lenName": 16,
    "lenType": 16,
    "lenVar": 40
   },
   "kernels_config": {
    "python": {
     "delete_cmd_postfix": "",
     "delete_cmd_prefix": "del ",
     "library": "var_list.py",
     "varRefreshCmd": "print(var_dic_list())"
    },
    "r": {
     "delete_cmd_postfix": ") ",
     "delete_cmd_prefix": "rm(",
     "library": "var_list.r",
     "varRefreshCmd": "cat(var_dic_list()) "
    }
   },
   "types_to_exclude": [
    "module",
    "function",
    "builtin_function_or_method",
    "instance",
    "_Feature"
   ],
   "window_display": false
  }
 },
 "nbformat": 4,
 "nbformat_minor": 1
}
