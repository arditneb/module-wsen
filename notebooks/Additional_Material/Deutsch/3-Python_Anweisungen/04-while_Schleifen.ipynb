{
 "cells": [
  {
   "cell_type": "markdown",
   "metadata": {},
   "source": [
    "<a href=\"https://www.datamics.com/courses/online-courses/\">![title](bg_datamics_top.png)</a>\n",
    "\n",
    "<center><em>© Datamics</em></center><br><center><em>Besuche uns für mehr Informationen auf <a href='https://www.datamics.com/courses/online-courses/'>www.datamics.com</a></em>"
   ]
  },
  {
   "cell_type": "markdown",
   "metadata": {
    "collapsed": true
   },
   "source": [
    "# while Loops\n",
    "\n",
    "Die `while`-Schleife ist in Python einer der gebräuchlichsten Wege, um Iteration durchzuführen. Eine `while`-Schleife wird so lange ein einzelnes bzw. eine Gruppe von Statements (also einen Codeblock) wiederholen, solange ihre Bedingung `True` (dt.: wahr) ist. Der Grund aus dem es 'Schleife' genannt wird ist, dass Anweisungen so lange wiederholt werden, bis ihre Bedingung nicht mehr erfüllt wird.\n",
    "\n",
    "Die allgemeine Form einer while Schleife:\n",
    "\n",
    "    while test:\n",
    "        Anweisungen\n",
    "    else:\n",
    "        Abschliessende Anweisungen\n",
    "\n",
    "Lasst uns ein paar einfache <code>while</code>-Schleifen in Aktion betrachten. "
   ]
  },
  {
   "cell_type": "code",
   "execution_count": 1,
   "metadata": {},
   "outputs": [
    {
     "name": "stdout",
     "output_type": "stream",
     "text": [
      "x ist aktuell:  0\n",
      " x ist immer noch kleiner als 10, 1 zu x hinzufügen\n",
      "x ist aktuell:  1\n",
      " x ist immer noch kleiner als 10, 1 zu x hinzufügen\n",
      "x ist aktuell:  2\n",
      " x ist immer noch kleiner als 10, 1 zu x hinzufügen\n",
      "x ist aktuell:  3\n",
      " x ist immer noch kleiner als 10, 1 zu x hinzufügen\n",
      "x ist aktuell:  4\n",
      " x ist immer noch kleiner als 10, 1 zu x hinzufügen\n",
      "x ist aktuell:  5\n",
      " x ist immer noch kleiner als 10, 1 zu x hinzufügen\n",
      "x ist aktuell:  6\n",
      " x ist immer noch kleiner als 10, 1 zu x hinzufügen\n",
      "x ist aktuell:  7\n",
      " x ist immer noch kleiner als 10, 1 zu x hinzufügen\n",
      "x ist aktuell:  8\n",
      " x ist immer noch kleiner als 10, 1 zu x hinzufügen\n",
      "x ist aktuell:  9\n",
      " x ist immer noch kleiner als 10, 1 zu x hinzufügen\n"
     ]
    }
   ],
   "source": [
    "x = 0\n",
    "\n",
    "while x < 10:\n",
    "    print('x ist aktuell: ', x)\n",
    "    print(' x ist immer noch kleiner als 10, 1 zu x hinzufügen')\n",
    "    x += 1\n",
    "\n",
    "x = 0"
   ]
  },
  {
   "cell_type": "markdown",
   "metadata": {},
   "source": [
    "Beachte, wie oft das print Statement ausgeführt wurde und wie die while Schleife so lange weiter gemacht hat, solange die Bedingung (x<10) erfüllt war. Sobald `x == 10` eintraf, stoppte der Code. Folgendes Beispiel zeigt, wie wir ein `else`-Statement einbauen könnten:"
   ]
  },
  {
   "cell_type": "code",
   "execution_count": 2,
   "metadata": {},
   "outputs": [
    {
     "name": "stdout",
     "output_type": "stream",
     "text": [
      "x ist aktuell:  0\n",
      " x ist immer noch kleiner als 10, 1 zu x hinzufügen\n",
      "x ist aktuell:  1\n",
      " x ist immer noch kleiner als 10, 1 zu x hinzufügen\n",
      "x ist aktuell:  2\n",
      " x ist immer noch kleiner als 10, 1 zu x hinzufügen\n",
      "x ist aktuell:  3\n",
      " x ist immer noch kleiner als 10, 1 zu x hinzufügen\n",
      "x ist aktuell:  4\n",
      " x ist immer noch kleiner als 10, 1 zu x hinzufügen\n",
      "x ist aktuell:  5\n",
      " x ist immer noch kleiner als 10, 1 zu x hinzufügen\n",
      "x ist aktuell:  6\n",
      " x ist immer noch kleiner als 10, 1 zu x hinzufügen\n",
      "x ist aktuell:  7\n",
      " x ist immer noch kleiner als 10, 1 zu x hinzufügen\n",
      "x ist aktuell:  8\n",
      " x ist immer noch kleiner als 10, 1 zu x hinzufügen\n",
      "x ist aktuell:  9\n",
      " x ist immer noch kleiner als 10, 1 zu x hinzufügen\n",
      "Fertig!\n"
     ]
    }
   ],
   "source": [
    "x = 0\n",
    "\n",
    "while x < 10:\n",
    "    print('x ist aktuell: ',x)\n",
    "    print(' x ist immer noch kleiner als 10, 1 zu x hinzufügen')\n",
    "    x+=1\n",
    "else:\n",
    "    print('Fertig!')"
   ]
  },
  {
   "cell_type": "markdown",
   "metadata": {},
   "source": [
    "## break, continue, pass\n",
    "\n",
    "Wir können `break`, `continue` und `pass` Anweisungen in unseren Schleifen verwenden, um zusätzliche Funktionalität für verschiedenste Fälle einzubauen. Die drei Statements definieren sich folgendermaßen:\n",
    "    \n",
    "    break: Bricht aus dem aktuell nähesten umfassenden Loop aus.\n",
    "    continue: Geht an den Anfang des nähesten umfassenden Loops.\n",
    "    pass: Tut gar nichts.\n",
    "    \n",
    "Unter berücksichtigung von `break` und `continue`-Anweisungen sieht die allgemeine Form für `while`-Schleifen wie folgt aus:\n",
    "\n",
    "    while test:\n",
    "        code statement\n",
    "        if test:\n",
    "            break\n",
    "        if test:\n",
    "            continue\n",
    "    else:\n",
    "    \n",
    "`break` und `continue`-Statements können überall innerhalb des Schleifenblocks eigesetzt werden, wir nutzen sie aber üblicherweise in tieferen Ebenen in Kombination mit `if`-Statements. \n",
    "\n",
    "Hier sind einige Beispiele:"
   ]
  },
  {
   "cell_type": "code",
   "execution_count": 3,
   "metadata": {},
   "outputs": [
    {
     "name": "stdout",
     "output_type": "stream",
     "text": [
      "x ist aktuell:  0\n",
      " x ist immer noch kleiner als 10, 1 zu x hinzufügen\n",
      "Fortsetzen...\n",
      "x ist aktuell:  1\n",
      " x ist immer noch kleiner als 10, 1 zu x hinzufügen\n",
      "Fortsetzen...\n",
      "x ist aktuell:  2\n",
      " x ist immer noch kleiner als 10, 1 zu x hinzufügen\n",
      "x==3\n",
      "x ist aktuell:  3\n",
      " x ist immer noch kleiner als 10, 1 zu x hinzufügen\n",
      "Fortsetzen...\n",
      "x ist aktuell:  4\n",
      " x ist immer noch kleiner als 10, 1 zu x hinzufügen\n",
      "Fortsetzen...\n",
      "x ist aktuell:  5\n",
      " x ist immer noch kleiner als 10, 1 zu x hinzufügen\n",
      "Fortsetzen...\n",
      "x ist aktuell:  6\n",
      " x ist immer noch kleiner als 10, 1 zu x hinzufügen\n",
      "Fortsetzen...\n",
      "x ist aktuell:  7\n",
      " x ist immer noch kleiner als 10, 1 zu x hinzufügen\n",
      "Fortsetzen...\n",
      "x ist aktuell:  8\n",
      " x ist immer noch kleiner als 10, 1 zu x hinzufügen\n",
      "Fortsetzen...\n",
      "x ist aktuell:  9\n",
      " x ist immer noch kleiner als 10, 1 zu x hinzufügen\n",
      "Fortsetzen...\n"
     ]
    }
   ],
   "source": [
    "x = 0\n",
    "\n",
    "while x < 10:\n",
    "    print('x ist aktuell: ', x)\n",
    "    print(' x ist immer noch kleiner als 10, 1 zu x hinzufügen')\n",
    "    x += 1\n",
    "    if x == 3:\n",
    "        print('x==3')\n",
    "    else:\n",
    "        print('Fortsetzen...')\n",
    "        continue"
   ]
  },
  {
   "cell_type": "markdown",
   "metadata": {},
   "source": [
    "Seht wie wir ein `print`-Statement ausgeführt haben, sobald `x == 3` war. Lasst uns nun ein `break` Statement einbauen, sobald `x == 3` erfüllt ist:"
   ]
  },
  {
   "cell_type": "code",
   "execution_count": 4,
   "metadata": {},
   "outputs": [
    {
     "name": "stdout",
     "output_type": "stream",
     "text": [
      "x ist aktuell:  0\n",
      " x ist immer noch kleiner als 10, 1 zu x hinzufügen\n",
      "Fortsetzen...\n",
      "x ist aktuell:  1\n",
      " x ist immer noch kleiner als 10, 1 zu x hinzufügen\n",
      "Fortsetzen...\n",
      "x ist aktuell:  2\n",
      " x ist immer noch kleiner als 10, 1 zu x hinzufügen\n",
      "Bricht ab, da x==3\n"
     ]
    }
   ],
   "source": [
    "x = 0\n",
    "\n",
    "while x < 10:\n",
    "    print('x ist aktuell: ', x)\n",
    "    print(' x ist immer noch kleiner als 10, 1 zu x hinzufügen')\n",
    "    x += 1\n",
    "    if x == 3:\n",
    "        print('Bricht ab, da x==3')\n",
    "        break\n",
    "    else:\n",
    "        print('Fortsetzen...')\n",
    "        continue"
   ]
  },
  {
   "cell_type": "markdown",
   "metadata": {},
   "source": [
    "Beachte, dass der Code nun direkt endet, sobald `break` erreicht wird.\n",
    "\n",
    "Nach diesen kurzen Beispielen solltet ihr mit `while`-Schleifen vertraut sein und sie guten Gewissens in eurem Code verwenden.\n",
    "\n",
    "<b>Ein Wort der Warnung: Es ist möglich unendliche Schleifen mit `while` zu erstellen, wie in folgendem Beispiel, das ihr bitte nicht ausführt:</b>"
   ]
  },
  {
   "cell_type": "code",
   "execution_count": null,
   "metadata": {
    "collapsed": true
   },
   "outputs": [],
   "source": [
    "# DO NOT RUN THIS CODE!!!! \n",
    "while True:\n",
    "    print(\"Oh Oh, unendliche Schleife!\")"
   ]
  },
  {
   "cell_type": "markdown",
   "metadata": {
    "collapsed": true
   },
   "source": [
    "*Falls* du obige Zelle doch ausführst, musst du den Kernel neu starten!"
   ]
  },
  {
   "cell_type": "markdown",
   "metadata": {},
   "source": [
    "Das war unsere Lektion zu `while`-Schleifen. Du solltest verstanden haben, wie `while`-Schleifen grundsätzlich funktionieren und was der Unterschied ist zu `for`-Schleifen.\n",
    "\n",
    "# Exzellent!"
   ]
  }
 ],
 "metadata": {
  "kernelspec": {
   "display_name": "Python 3",
   "language": "python",
   "name": "python3"
  },
  "language_info": {
   "codemirror_mode": {
    "name": "ipython",
    "version": 3
   },
   "file_extension": ".py",
   "mimetype": "text/x-python",
   "name": "python",
   "nbconvert_exporter": "python",
   "pygments_lexer": "ipython3",
   "version": "3.8.5"
  },
  "varInspector": {
   "cols": {
    "lenName": 16,
    "lenType": 16,
    "lenVar": 40
   },
   "kernels_config": {
    "python": {
     "delete_cmd_postfix": "",
     "delete_cmd_prefix": "del ",
     "library": "var_list.py",
     "varRefreshCmd": "print(var_dic_list())"
    },
    "r": {
     "delete_cmd_postfix": ") ",
     "delete_cmd_prefix": "rm(",
     "library": "var_list.r",
     "varRefreshCmd": "cat(var_dic_list()) "
    }
   },
   "types_to_exclude": [
    "module",
    "function",
    "builtin_function_or_method",
    "instance",
    "_Feature"
   ],
   "window_display": false
  }
 },
 "nbformat": 4,
 "nbformat_minor": 1
}
