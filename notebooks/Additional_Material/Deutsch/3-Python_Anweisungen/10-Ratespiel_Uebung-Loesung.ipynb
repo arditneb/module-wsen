{
 "cells": [
  {
   "cell_type": "markdown",
   "metadata": {},
   "source": [
    "<a href='https://www.datamics.com/courses/online-courses/'>![title](bg_datamics_top.png)</a>\n",
    "___\n",
    "<center><em>© Datamics</em></center>\n",
    "<center><em>Besuche uns für mehr Informationen auf <a href='https://www.datamics.com/courses/online-courses/'>www.datamics.com</a></em></center>"
   ]
  },
  {
   "cell_type": "markdown",
   "metadata": {},
   "source": [
    "# Ratespiel Übung - Lösung\n",
    "\n",
    "Lasst uns ein Ratespiel mit einer zentralen `while`-Schleife programmieren!\n",
    "\n",
    "Die Aufgabe:\n",
    "\n",
    "Schreibe ein Programm, das eine beliebige Integerzahl zwischen 1 und 100 wählt und den Spieler diese Nummer raten lässt. Die Regeln sind:\n",
    "\n",
    "1. Wenn der Spieler weniger als 1 oder mehr als 100 rät, sage \"Ausserhalb des Zahlenbereichs\"\n",
    "2. Wenn der Spieler in seinem ersten Zug rät\n",
    " * innerhalb einer Zahlendistanz von 10, sage \"WARM!\"\n",
    " * ansonsten sage \"KALT!\"\n",
    "3. In den folgenden Zügen, wenn der Spieler rät\n",
    " * näher als am vorherigen Zug \"WÄRMER!\"\n",
    " * ansonsten \"KÄLTER!\"\n",
    "4. Wenn der Spieler die korrekte Zahl errät, sage \"GEWONNEN!\" und gib die Anzahl der ausgeführten Züge aus\n",
    "\n",
    "Du kannst das ohne weitere Informationen programmieren oder mit den folgenden Hilfestellungen arbeiten.\n",
    "Viel Erfolg!"
   ]
  },
  {
   "cell_type": "markdown",
   "metadata": {},
   "source": [
    "#### Wähle zuerst einen zufälligen Integerwert zwischen 1 und 100 mit dem Modul random und weise ihn einer Variablen zu\n",
    "\n",
    "Beachte: `random.randint(a ,b)` gibt einen zufälligen Integerwert im Intervall `[a, b]`inklusive Anfang und Ende."
   ]
  },
  {
   "cell_type": "code",
   "execution_count": 1,
   "metadata": {},
   "outputs": [],
   "source": [
    "import random\n",
    "\n",
    "num = random.randint(1, 100)"
   ]
  },
  {
   "cell_type": "markdown",
   "metadata": {},
   "source": [
    "#### Programmiere jetzt die Ausgabe einer Einleitung mit den Regeln des Spiels"
   ]
  },
  {
   "cell_type": "code",
   "execution_count": 2,
   "metadata": {},
   "outputs": [
    {
     "name": "stdout",
     "output_type": "stream",
     "text": [
      "WILLKOMMEN BEIM RATESPIEL!\n",
      "Ich überlege mir eine Zahl zwischen 1 und 100\n",
      "Wenn deine Eingabe mehr als 10 von meiner Zahl entfernt ist, sage ich KALT!\n",
      "Ansonsten sage ich WARM!\n",
      "Wenn deine darauf folgende Eingabe weiter entfernt von meiner Zahl ist, sage ich KÄLTER!\n",
      "Ansonsten sage ich WÄRMER!\n",
      "Lass uns spielen!\n"
     ]
    }
   ],
   "source": [
    "print(\"WILLKOMMEN BEIM RATESPIEL!\")\n",
    "print(\"Ich überlege mir eine Zahl zwischen 1 und 100\")\n",
    "print(\"Wenn deine Eingabe mehr als 10 von meiner Zahl entfernt ist, sage ich KALT!\")\n",
    "print(\"Ansonsten sage ich WARM!\")\n",
    "print(\"Wenn deine darauf folgende Eingabe weiter entfernt von meiner Zahl ist, sage ich KÄLTER!\")\n",
    "print(\"Ansonsten sage ich WÄRMER!\")\n",
    "print(\"Lass uns spielen!\")"
   ]
  },
  {
   "cell_type": "markdown",
   "metadata": {},
   "source": [
    "#### Erzeuge eine Liste zum speichern der Eingaben\n",
    "\n",
    "Hinweis: Null ist ein guter Platzhalterwert, da Python es als `False` interpretiert"
   ]
  },
  {
   "cell_type": "code",
   "execution_count": 3,
   "metadata": {},
   "outputs": [],
   "source": [
    "eingaben = [0]"
   ]
  },
  {
   "cell_type": "markdown",
   "metadata": {},
   "source": [
    "#### Schreibe eine `while`-Schleife, die nach einer korrekten Spielereingabe fragt. Teste sie ein paar mal, um sicherzustellen, dass sie funktioniert."
   ]
  },
  {
   "cell_type": "code",
   "execution_count": 4,
   "metadata": {},
   "outputs": [
    {
     "name": "stdout",
     "output_type": "stream",
     "text": [
      "Ich denke an eine Zahl zwischen 1 und 100. Welche Zahl rätst du? 2\n"
     ]
    }
   ],
   "source": [
    "while True:\n",
    "\n",
    "    eingabe = int(\n",
    "        input(\"Ich denke an eine Zahl zwischen 1 und 100. Welche Zahl rätst du? \"))\n",
    "\n",
    "    if eingabe < 1 or eingabe > 100:\n",
    "        print('AUSSERHALB DES ZAHLENBEREICHS! Bitte versuche es erneut: ')\n",
    "        continue\n",
    "\n",
    "    break"
   ]
  },
  {
   "cell_type": "markdown",
   "metadata": {},
   "source": [
    "#### Schreibe eine `while`-Schleife, in der die Spielereingabe mit der Zufallszahl verglichen wird. Beende die Schleife, wenn der Spieler richtig rät. Gib ansonsten WÄRMER oder KÄLTER aus und frage den Spieler nach der nächsten Eingabe.\n",
    "\n",
    "Hinweise:\n",
    "* Es kann helfen, alle möglichen Spielzustande auf Papier zu notieren\n",
    "* Mit der Funktion `abs()` kannst du die Differenz zweier Zahlen ermitteln\n",
    "* Wenn du die Eingaben in einer Liste speicherst, kannst du auf die vorherige Eingabe mit `eingaben[-2]` zugreifen"
   ]
  },
  {
   "cell_type": "code",
   "execution_count": null,
   "metadata": {},
   "outputs": [
    {
     "name": "stdout",
     "output_type": "stream",
     "text": [
      "Ich denke an eine Zahl zwischen 1 und 100. Welche Zahl rätst du? 50\n",
      "KALT!\n",
      "Ich denke an eine Zahl zwischen 1 und 100. Welche Zahl rätst du? 35\n",
      "WÄRMER!\n",
      "Ich denke an eine Zahl zwischen 1 und 100. Welche Zahl rätst du? 10\n",
      "WÄRMER!\n"
     ]
    }
   ],
   "source": [
    "while True:\n",
    "\n",
    "    # Du kannst die vorherige Codezelle zur Ermittelung der Spielereingabe hierher kopieren\n",
    "    eingabe = int(\n",
    "        input(\"Ich denke an eine Zahl zwischen 1 und 100. Welche Zahl rätst du? \"))\n",
    "\n",
    "    if eingabe < 1 or eingabe > 100:\n",
    "        print('AUSSERHALB DES ZAHLENBEREICHS! Bitte versuche es erneut: ')\n",
    "        continue\n",
    "\n",
    "    # Vergleiche die Spielereingabe mit unserer Zufallszahl\n",
    "    if eingabe == num:\n",
    "        print(\n",
    "            f'GLÜCKWUNSCH, DU HAST LEDIGLICH {len(eingaben)} MAL RATEN MÜSSEN!!')\n",
    "        break\n",
    "\n",
    "    # Füge die Eingabe zu der Liste hinzu, falls sie falsch ist\n",
    "    eingaben.append(eingabe)\n",
    "\n",
    "    # Bei der ersten Spielereingabe ist eingaben[-2] == 0 und damit äquivalent zu False,\n",
    "    # was uns zur zweiten Kondition bringt\n",
    "\n",
    "    if eingaben[-2]:\n",
    "        if abs(eingabe) < abs(eingaben[-2]):\n",
    "            print('WÄRMER!')\n",
    "        else:\n",
    "            print('KÄLTER!')\n",
    "    else:\n",
    "        if abs(eingabe) <= 10:\n",
    "            print('WARM!')\n",
    "        else:\n",
    "            print('KALT!')"
   ]
  },
  {
   "cell_type": "markdown",
   "metadata": {},
   "source": [
    "Das ist es! Du hast dein erstes Spiel programmiert!\n",
    "\n",
    "Im nächsten Abschnitt lernen wir, wie wiederholt ausgeführte Programmschritte in *Funktionen* abgelegt werden können, die je nach Bedarf aufgerufen werden."
   ]
  },
  {
   "cell_type": "markdown",
   "metadata": {},
   "source": [
    "### Gute Arbeit!"
   ]
  }
 ],
 "metadata": {
  "kernelspec": {
   "display_name": "Python 3",
   "language": "python",
   "name": "python3"
  },
  "language_info": {
   "codemirror_mode": {
    "name": "ipython",
    "version": 3
   },
   "file_extension": ".py",
   "mimetype": "text/x-python",
   "name": "python",
   "nbconvert_exporter": "python",
   "pygments_lexer": "ipython3",
   "version": "3.8.5"
  },
  "varInspector": {
   "cols": {
    "lenName": 16,
    "lenType": 16,
    "lenVar": 40
   },
   "kernels_config": {
    "python": {
     "delete_cmd_postfix": "",
     "delete_cmd_prefix": "del ",
     "library": "var_list.py",
     "varRefreshCmd": "print(var_dic_list())"
    },
    "r": {
     "delete_cmd_postfix": ") ",
     "delete_cmd_prefix": "rm(",
     "library": "var_list.r",
     "varRefreshCmd": "cat(var_dic_list()) "
    }
   },
   "types_to_exclude": [
    "module",
    "function",
    "builtin_function_or_method",
    "instance",
    "_Feature"
   ],
   "window_display": false
  }
 },
 "nbformat": 4,
 "nbformat_minor": 2
}
