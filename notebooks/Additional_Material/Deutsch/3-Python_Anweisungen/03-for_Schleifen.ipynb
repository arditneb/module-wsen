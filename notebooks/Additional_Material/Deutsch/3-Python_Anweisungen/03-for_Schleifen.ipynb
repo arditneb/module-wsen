{
 "cells": [
  {
   "cell_type": "markdown",
   "metadata": {},
   "source": [
    "<a href=\"https://www.datamics.com/courses/online-courses/\">![title](bg_datamics_top.png)</a>\n",
    "\n",
    "<center><em>© Datamics</em></center><br><center><em>Besuche uns für mehr Informationen auf <a href='https://www.datamics.com/courses/online-courses/'>www.datamics.com</a></em>"
   ]
  },
  {
   "cell_type": "markdown",
   "metadata": {},
   "source": [
    "# for-Schleifen\n",
    "\n",
    "Eine `for`-Schleife (en.: for loop) fungiert als Iterator in Python, die durch Items (etwa: Elemente) geht, die in einer Sequenz (oder jeder anderen iterierbaren Form) vorliegen. Objekte, die wir bereits behandelt haben und auf die wir diese Iteration anwenden können sind Strings, Listen, Tupel und bereits vorinstallierte Iteratoren für Dictionaries, wie bspw. keys und values.\n",
    "\n",
    "Wir haben die `for`-Schleife bereits in vorherigen Abschnitten ein wenig kennen gelernt. Lasst uns unser Verständnis an dieser Stelle vertiefen.\n",
    "\n",
    "Hier ist das allgemeine Format einer `for`-Schleife in Python:\n",
    "\n",
    "    for item in objekt:\n",
    "        anweisungen  "
   ]
  },
  {
   "cell_type": "markdown",
   "metadata": {},
   "source": [
    "Der Name, der für das Item verwendet wird, obliegt vollkommen dem Coder. Das ermöglicht uns den nach eigenem Ermessen am besten passenden Namen auszuwählen. Der festgelegte Itemname kann dann innerhalb der Schleifen als Referenz verwendet werden. Zum Beispiel, wenn wir ein `if` Statement für das Item durchführen wollen.\n",
    "\n",
    "Weiter geht es mit einigen Beispielen für `for`-Schleifen in Kombination mit einer Vielzahl von Objektarten. Wir beginnen einfach und steigern das Niveau schrittweise.\n",
    "\n",
    "Let's go ahead and work through several example of <code>for</code> loops using a variety of data object types. We'll start simple and build more complexity later on.\n",
    "\n",
    "## Beispiel 1 - Listeniteration"
   ]
  },
  {
   "cell_type": "code",
   "execution_count": 1,
   "metadata": {},
   "outputs": [],
   "source": [
    "# Wie wir solche Listen automatisieren können lernen wir in der nächsten Lektion\n",
    "meine_liste = [1, 2, 3, 4, 5, 6, 7, 8, 9, 10]"
   ]
  },
  {
   "cell_type": "code",
   "execution_count": 2,
   "metadata": {},
   "outputs": [
    {
     "name": "stdout",
     "output_type": "stream",
     "text": [
      "1\n",
      "2\n",
      "3\n",
      "4\n",
      "5\n",
      "6\n",
      "7\n",
      "8\n",
      "9\n",
      "10\n"
     ]
    }
   ],
   "source": [
    "for num in meine_liste:\n",
    "    print(num)"
   ]
  },
  {
   "cell_type": "markdown",
   "metadata": {},
   "source": [
    "Gut! Hoffentlich ergibt das Sinn für euch. Lasst uns nun ein if Statement einbauen, um auf gerade Zahlen zu überprüfen. Dazu führen wir noch ein neues Konzept ein - das Modulo.\n",
    "\n",
    "## Modulo\n",
    "\n",
    "Das Modulo erlaubt es uns, den Rest einer Division zu erhalten, indem wir % verwenden. Zum Beispiel:"
   ]
  },
  {
   "cell_type": "code",
   "execution_count": 3,
   "metadata": {},
   "outputs": [
    {
     "data": {
      "text/plain": [
       "2"
      ]
     },
     "execution_count": 3,
     "metadata": {},
     "output_type": "execute_result"
    }
   ],
   "source": [
    "17 % 5"
   ]
  },
  {
   "cell_type": "markdown",
   "metadata": {},
   "source": [
    "Das ergibt Sinn, da 17 geteilt durch 5 als Ergebnis 3 hat mit einem Rest von 2. Einige weitere kurze Beispiele:"
   ]
  },
  {
   "cell_type": "code",
   "execution_count": 4,
   "metadata": {},
   "outputs": [
    {
     "data": {
      "text/plain": [
       "1"
      ]
     },
     "execution_count": 4,
     "metadata": {},
     "output_type": "execute_result"
    }
   ],
   "source": [
    "# 3 verbleibt 1\n",
    "10 % 3"
   ]
  },
  {
   "cell_type": "code",
   "execution_count": 5,
   "metadata": {},
   "outputs": [
    {
     "data": {
      "text/plain": [
       "4"
      ]
     },
     "execution_count": 5,
     "metadata": {},
     "output_type": "execute_result"
    }
   ],
   "source": [
    "# 2 verbleibt 4\n",
    "18 % 7"
   ]
  },
  {
   "cell_type": "code",
   "execution_count": 6,
   "metadata": {},
   "outputs": [
    {
     "data": {
      "text/plain": [
       "0"
      ]
     },
     "execution_count": 6,
     "metadata": {},
     "output_type": "execute_result"
    }
   ],
   "source": [
    "# 2 verbleibt nichts\n",
    "4 % 2"
   ]
  },
  {
   "cell_type": "markdown",
   "metadata": {},
   "source": [
    "Sofern eine Zahl vollständig teilbar ist und keinen Rest hat, ist das Ergebnis von Modulo 0. Das können wir ausnutzen, um zu testen, ob eine Zahl eine ganze Zahl ist. \n",
    "\n",
    "Zurück zur `for`-Schleife!\n",
    "\n",
    "## Beispiel 2 - Nur gerade Nummern"
   ]
  },
  {
   "cell_type": "code",
   "execution_count": 7,
   "metadata": {},
   "outputs": [
    {
     "name": "stdout",
     "output_type": "stream",
     "text": [
      "2\n",
      "4\n",
      "6\n",
      "8\n",
      "10\n"
     ]
    }
   ],
   "source": [
    "for num in meine_liste:\n",
    "    if num % 2 == 0:\n",
    "        print(num)"
   ]
  },
  {
   "cell_type": "markdown",
   "metadata": {},
   "source": [
    "Wir können auch eine `else`-Anweisung einbauen:"
   ]
  },
  {
   "cell_type": "code",
   "execution_count": 8,
   "metadata": {},
   "outputs": [
    {
     "name": "stdout",
     "output_type": "stream",
     "text": [
      "Ungerade Zahl\n",
      "2\n",
      "Ungerade Zahl\n",
      "4\n",
      "Ungerade Zahl\n",
      "6\n",
      "Ungerade Zahl\n",
      "8\n",
      "Ungerade Zahl\n",
      "10\n"
     ]
    }
   ],
   "source": [
    "for num in meine_liste:\n",
    "    if num % 2 == 0:\n",
    "        print(num)\n",
    "    else:\n",
    "        print('Ungerade Zahl')"
   ]
  },
  {
   "cell_type": "markdown",
   "metadata": {},
   "source": [
    "## Beispiel 3 - Laufende Summe\n",
    "Eine weitere, gebräuchliche Anwendung ist es, während einer `for`-Schleife eine Art von laufender Summe zu erfassen. Zum Beispiel: Eine `for`-Schleife, welche die Summe einer Liste bildet."
   ]
  },
  {
   "cell_type": "code",
   "execution_count": 9,
   "metadata": {},
   "outputs": [
    {
     "name": "stdout",
     "output_type": "stream",
     "text": [
      "55\n"
     ]
    }
   ],
   "source": [
    "# Start der Summe bei 0\n",
    "l_sum = 0\n",
    "\n",
    "for num in meine_liste:\n",
    "    l_sum = l_sum + num\n",
    "\n",
    "print(l_sum)"
   ]
  },
  {
   "cell_type": "markdown",
   "metadata": {},
   "source": [
    "Toll! Schaut euch das obige Beispiel so lange an, bis ihr genau versteht, was passiert! Das hätten wir übrigens auch mit einem `+=` lösen können, wie hier:"
   ]
  },
  {
   "cell_type": "code",
   "execution_count": 10,
   "metadata": {},
   "outputs": [
    {
     "name": "stdout",
     "output_type": "stream",
     "text": [
      "55\n"
     ]
    }
   ],
   "source": [
    "# Start der Summe bei 0\n",
    "l_sum = 0\n",
    "\n",
    "for num in meine_liste:\n",
    "    l_sum += num\n",
    "\n",
    "print(l_sum)"
   ]
  },
  {
   "cell_type": "markdown",
   "metadata": {},
   "source": [
    "## Beispiel 4 - Strings\n",
    "\n",
    "Wir haben `for`-Schleifen bereits für Listen verwendet, aber wie sieht es mit Strings aus? Ruft euch in Erinnerung, dass Strings eine Sequenz sind. Wenn wir darüber eine Iteration laufen lassen, dann greifen wir auf jedes Zeichen in diesem String zu."
   ]
  },
  {
   "cell_type": "code",
   "execution_count": 11,
   "metadata": {},
   "outputs": [
    {
     "name": "stdout",
     "output_type": "stream",
     "text": [
      "D\n",
      "a\n",
      "s\n",
      " \n",
      "i\n",
      "s\n",
      "t\n",
      " \n",
      "e\n",
      "i\n",
      "n\n",
      " \n",
      "S\n",
      "t\n",
      "r\n",
      "i\n",
      "n\n",
      "g\n",
      "!\n"
     ]
    }
   ],
   "source": [
    "for zeichen in 'Das ist ein String!':\n",
    "    print(zeichen)"
   ]
  },
  {
   "cell_type": "markdown",
   "metadata": {},
   "source": [
    "## Beispiel 5 - Tupel\n",
    "\n",
    "Lasst uns als nächstes auch noch eine `for`-Schleife mit einem Tupel betrachten:"
   ]
  },
  {
   "cell_type": "code",
   "execution_count": 12,
   "metadata": {},
   "outputs": [
    {
     "name": "stdout",
     "output_type": "stream",
     "text": [
      "1\n",
      "2\n",
      "3\n",
      "4\n",
      "5\n"
     ]
    }
   ],
   "source": [
    "tup = (1, 2, 3, 4, 5)\n",
    "\n",
    "for item in tup:\n",
    "    print(item)"
   ]
  },
  {
   "cell_type": "markdown",
   "metadata": {},
   "source": [
    "## Beispiel 6 - Tupel entpacken\n",
    "\n",
    "Tupel haben eine besondere Eigenschaft in Kombination mit `for`-Schleifen. Wenn ihr eine Iteration über eine Sequenz laufen lasst, die Tupel beinhaltet, wird das Tupel selbst zum Item. Das ist ein Beispiel für das entpacken von Tupeln (*tupel unpacking*). Durch die `for`-Schleife werden wir die einzelnen Tupel innerhalb der Sequenz entpacken und können auf die einzelnen Items im Tupel selbst zugreifen."
   ]
  },
  {
   "cell_type": "code",
   "execution_count": 13,
   "metadata": {},
   "outputs": [],
   "source": [
    "meine_liste = [(2, 4), (6, 8), (10, 12)]"
   ]
  },
  {
   "cell_type": "code",
   "execution_count": 14,
   "metadata": {},
   "outputs": [
    {
     "name": "stdout",
     "output_type": "stream",
     "text": [
      "(2, 4)\n",
      "(6, 8)\n",
      "(10, 12)\n"
     ]
    }
   ],
   "source": [
    "for tup in meine_liste:\n",
    "    print(tup)"
   ]
  },
  {
   "cell_type": "code",
   "execution_count": 15,
   "metadata": {},
   "outputs": [
    {
     "name": "stdout",
     "output_type": "stream",
     "text": [
      "2\n",
      "6\n",
      "10\n"
     ]
    }
   ],
   "source": [
    "# Jetzt mit entpacken!\n",
    "for (t1, t2) in meine_liste:\n",
    "    print(t1)"
   ]
  },
  {
   "cell_type": "markdown",
   "metadata": {},
   "source": [
    "Cool! Mit Tupeln in einer Sequenz können wir durch Entpacken auf die Items innerhalb der Tupel zugreifen. Der Grund aus dem das wichtig ist der, dass viele Objekte ihre Iterationen in Form von Tupeln ausgeben. Lasst uns als nächstes Iterationen für Dictionaries betrachten, um das besser zu verstehen!"
   ]
  },
  {
   "cell_type": "markdown",
   "metadata": {},
   "source": [
    "## Beispiel 7 - Dictionaries"
   ]
  },
  {
   "cell_type": "code",
   "execution_count": 16,
   "metadata": {},
   "outputs": [],
   "source": [
    "mein_dict = {'k1': 1, 'k2': 2, 'k3': 3}"
   ]
  },
  {
   "cell_type": "code",
   "execution_count": 17,
   "metadata": {},
   "outputs": [
    {
     "name": "stdout",
     "output_type": "stream",
     "text": [
      "k1\n",
      "k2\n",
      "k3\n"
     ]
    }
   ],
   "source": [
    "for item in mein_dict:\n",
    "    print(item)"
   ]
  },
  {
   "cell_type": "markdown",
   "metadata": {},
   "source": [
    "Ist euch aufgefallen, wie das nur die Keys ausgibt? Wie können wir also an die Werte kommen? Oder wie erhalten wir beides, Keys und Werte?\n",
    "\n",
    "Dazu stellen wir drei weitere Dictionary-Methoden vor: **.keys()**, **.values()** und **.items()**\n",
    "\n",
    "In Python gibt jede dieser Methoden ein *dictionary view object* (etwa: Dictionary-Ansichtsobjekt) zurück. Es unterstützt Operationen wie Mitgliedschaftstest und Iteration, aber die Inhalte sind nicht unabhängig vom ursprünglichen Dictionary - es ist nur eine Ansicht. Lasst uns das anschauen:"
   ]
  },
  {
   "cell_type": "code",
   "execution_count": 18,
   "metadata": {},
   "outputs": [
    {
     "data": {
      "text/plain": [
       "dict_items([('k1', 1), ('k2', 2), ('k3', 3)])"
      ]
     },
     "execution_count": 18,
     "metadata": {},
     "output_type": "execute_result"
    }
   ],
   "source": [
    "# Erzeuge ein dictionary view object\n",
    "mein_dict.items()"
   ]
  },
  {
   "cell_type": "markdown",
   "metadata": {},
   "source": [
    "Da die Methode `.items()` Iteration unterstützt, können wir das Dictionary entpacken (*dictionary unpacking*), um Keys und Values zu extrahieren, wie in vorherigen Beispielen."
   ]
  },
  {
   "cell_type": "code",
   "execution_count": 19,
   "metadata": {},
   "outputs": [
    {
     "name": "stdout",
     "output_type": "stream",
     "text": [
      "k1\n",
      "1\n",
      "k2\n",
      "2\n",
      "k3\n",
      "3\n"
     ]
    }
   ],
   "source": [
    "# Dictionary unpacking\n",
    "for k, v in mein_dict.items():\n",
    "    print(k)\n",
    "    print(v)"
   ]
  },
  {
   "cell_type": "markdown",
   "metadata": {},
   "source": [
    "Falls du eine echte Liste der Keys, Values oder Key/Value-Tupel erhalten möchtest, kannst du die Ansicht in eine Liste konvertieren:"
   ]
  },
  {
   "cell_type": "code",
   "execution_count": 20,
   "metadata": {},
   "outputs": [
    {
     "data": {
      "text/plain": [
       "['k1', 'k2', 'k3']"
      ]
     },
     "execution_count": 20,
     "metadata": {},
     "output_type": "execute_result"
    }
   ],
   "source": [
    "list(mein_dict.keys())"
   ]
  },
  {
   "cell_type": "markdown",
   "metadata": {},
   "source": [
    "Bedenke: Dictionaries sind nicht geordnet, Keys und Values kommen daher in einer beliebigen Ordnung zurück. Mit `sorted` kann die Liste sortiert werden:"
   ]
  },
  {
   "cell_type": "code",
   "execution_count": 21,
   "metadata": {},
   "outputs": [
    {
     "data": {
      "text/plain": [
       "[1, 2, 3]"
      ]
     },
     "execution_count": 21,
     "metadata": {},
     "output_type": "execute_result"
    }
   ],
   "source": [
    "sorted(mein_dict.values())"
   ]
  },
  {
   "cell_type": "markdown",
   "metadata": {},
   "source": [
    "## Schlussbetrachtung\n",
    "\n",
    "Wir haben gelernt, wie wir `for`-Loops nutzen können, um durch Tupel, Listen, Strings und Dictionaries zu iterieren. Es wird ein wichtiges Tool für uns werden, deshalb ist es wichtig, dass ihr es vollständig versteht.\n",
    "\n",
    "[Weitere Informationen](http://www.tutorialspoint.com/python/python_for_loop.htm)\n",
    "\n",
    "## Spitze!"
   ]
  }
 ],
 "metadata": {
  "kernelspec": {
   "display_name": "Python 3",
   "language": "python",
   "name": "python3"
  },
  "language_info": {
   "codemirror_mode": {
    "name": "ipython",
    "version": 3
   },
   "file_extension": ".py",
   "mimetype": "text/x-python",
   "name": "python",
   "nbconvert_exporter": "python",
   "pygments_lexer": "ipython3",
   "version": "3.8.5"
  },
  "varInspector": {
   "cols": {
    "lenName": 16,
    "lenType": 16,
    "lenVar": 40
   },
   "kernels_config": {
    "python": {
     "delete_cmd_postfix": "",
     "delete_cmd_prefix": "del ",
     "library": "var_list.py",
     "varRefreshCmd": "print(var_dic_list())"
    },
    "r": {
     "delete_cmd_postfix": ") ",
     "delete_cmd_prefix": "rm(",
     "library": "var_list.r",
     "varRefreshCmd": "cat(var_dic_list()) "
    }
   },
   "types_to_exclude": [
    "module",
    "function",
    "builtin_function_or_method",
    "instance",
    "_Feature"
   ],
   "window_display": false
  }
 },
 "nbformat": 4,
 "nbformat_minor": 1
}
