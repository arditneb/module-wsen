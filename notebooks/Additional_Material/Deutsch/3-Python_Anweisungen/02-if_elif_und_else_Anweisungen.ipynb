{
 "cells": [
  {
   "cell_type": "markdown",
   "metadata": {},
   "source": [
    "<a href=\"https://www.datamics.com/courses/online-courses/\">![title](bg_datamics_top.png)</a>\n",
    "\n",
    "<center><em>© Datamics</em></center><br><center><em>Besuche uns für mehr Informationen auf <a href='https://www.datamics.com/courses/online-courses/'>www.datamics.com</a></em>"
   ]
  },
  {
   "cell_type": "markdown",
   "metadata": {},
   "source": [
    "# if, elif und else Anweisungen\n",
    "\n",
    "`if` Anweisungen erlauben uns, dem Computer aufzutragen, alternative Aktionen in Abhängigkeit von bestimmten Ergebnissen durchzuführen.\n",
    "\n",
    "Das können wir uns ungefähr so vereinfachen:\n",
    "\n",
    "\"Hey, wenn dieser Fall eintritt, dann mache etwas Bestimmtes.\"\n",
    "\n",
    "Diese Idee können wir dann durch `elif` und `else` Anweisungen erweitern, welche uns folgendes ermöglichen:\n",
    "\n",
    "\"Hey, wenn dieser Fall eintritt (if), dann mache etwas Bestimmtes. Wenn ein anderer Fall eintritt (elif), dann mache etwas anderes Bestimmtes. Und sonst (else) - keiner der anderen Fälle trat ein - mache etwas anderes Bestimmtes.\"\n",
    "\n",
    "Lasst uns die Syntax dafür betrachten: \n",
    "\n",
    "    if Fall 1:\n",
    "        erste Aktion\n",
    "    elif Fall 2:\n",
    "        zweite Aktion\n",
    "    else:\n",
    "        dritte Aktion"
   ]
  },
  {
   "cell_type": "markdown",
   "metadata": {},
   "source": [
    "## Erstes Beispiel\n",
    "\n",
    "Lasst uns ein kurzes Beispiel betrachten:"
   ]
  },
  {
   "cell_type": "code",
   "execution_count": 1,
   "metadata": {},
   "outputs": [
    {
     "name": "stdout",
     "output_type": "stream",
     "text": [
      "Es war wahr!\n"
     ]
    }
   ],
   "source": [
    "if True:\n",
    "    print('Es war wahr!')"
   ]
  },
  {
   "cell_type": "markdown",
   "metadata": {},
   "source": [
    "Füge eine `else`-Anweisung hinzu:"
   ]
  },
  {
   "cell_type": "code",
   "execution_count": 2,
   "metadata": {},
   "outputs": [
    {
     "name": "stdout",
     "output_type": "stream",
     "text": [
      "Ich werde in jedem Fall ausgegeben, in dem x nicht wahr ist\n"
     ]
    }
   ],
   "source": [
    "x = False\n",
    "\n",
    "if x:\n",
    "    print('X war wahr!')\n",
    "else:\n",
    "    print('Ich werde in jedem Fall ausgegeben, in dem x nicht wahr ist')"
   ]
  },
  {
   "cell_type": "markdown",
   "metadata": {},
   "source": [
    "## Mehrere Verzweigungen\n",
    "\n",
    "Wir können nun betrachten, wie weit uns `if`, `elif` und `else` bringen können!\n",
    "\n",
    "Wir schreiben eine eingebettete Struktur. Achtet darauf, wie `if`, `elif` und `else` auf selber Höhe geschrieben sind. Das kann euch helfen, zu verstehen, welche `if`, `elif` und `else` zusammenhängen.\n",
    "\n",
    "Wir nutzen jetzt die bereits bekannten Vergleichsoperatoren:"
   ]
  },
  {
   "cell_type": "code",
   "execution_count": 3,
   "metadata": {},
   "outputs": [
    {
     "name": "stdout",
     "output_type": "stream",
     "text": [
      "Willkommen in der Bank!\n"
     ]
    }
   ],
   "source": [
    "ort = 'Bank'\n",
    "\n",
    "if ort == 'Autohaus':\n",
    "    print('Willkommen im Autohaus!')\n",
    "elif ort == 'Bank':\n",
    "    print('Willkommen in der Bank!')\n",
    "else:\n",
    "    print('Wo bist du?')"
   ]
  },
  {
   "cell_type": "markdown",
   "metadata": {},
   "source": [
    "Das funktioniert so, dass jedes Statement darauf überprüft wird, ob es *True* (wahr) ist. Sobald das der Fall ist, wird der eingebettete Code ausgeführt. Würde dieser Fall nicht eintreffen, würde das `else` Statement aktiviert werden. Dabei ist interessant, dass wir so viele elif Statements einbauen können wie wir möchten, bevor wir mit dem `else` Statement abschließen.\n",
    "\n",
    "Lasst uns zwei weitere einfache Beispiele für die `if`, `elif` und `else` Anweisungen betrachten:"
   ]
  },
  {
   "cell_type": "code",
   "execution_count": 4,
   "metadata": {},
   "outputs": [
    {
     "name": "stdout",
     "output_type": "stream",
     "text": [
      "Wilkommen Sammy!\n"
     ]
    }
   ],
   "source": [
    "person = 'Sammy'\n",
    "\n",
    "if person == 'Sammy':\n",
    "    print('Wilkommen Sammy!')\n",
    "else:\n",
    "    print(\"Willkommen, wie lautet dein Name?\")"
   ]
  },
  {
   "cell_type": "code",
   "execution_count": 5,
   "metadata": {},
   "outputs": [
    {
     "name": "stdout",
     "output_type": "stream",
     "text": [
      "Wilkommen George!\n"
     ]
    }
   ],
   "source": [
    "person = 'George'\n",
    "\n",
    "if person == 'Sammy':\n",
    "    print('Wilkommen Sammy!')\n",
    "elif person == 'George':\n",
    "    print('Wilkommen George!')\n",
    "else:\n",
    "    print(\"Willkommen, wie lautet dein Name?\")"
   ]
  },
  {
   "cell_type": "markdown",
   "metadata": {},
   "source": [
    "## Zeileneinzug\n",
    "\n",
    "Es ist, wie bereits anfangs angedeutet, wichtig, immer auf die Einrückung des Codes nach den Anweisungen zu achten. Dieser stellt die korrekte Reihenfolge und Ausführung des Codes sicher. Wir kommen später bei einem anderen Themen noch einmal darauf zurück.\n",
    "\n",
    "## Gut gemacht!"
   ]
  }
 ],
 "metadata": {
  "kernelspec": {
   "display_name": "Python 3",
   "language": "python",
   "name": "python3"
  },
  "language_info": {
   "codemirror_mode": {
    "name": "ipython",
    "version": 3
   },
   "file_extension": ".py",
   "mimetype": "text/x-python",
   "name": "python",
   "nbconvert_exporter": "python",
   "pygments_lexer": "ipython3",
   "version": "3.8.5"
  },
  "varInspector": {
   "cols": {
    "lenName": 16,
    "lenType": 16,
    "lenVar": 40
   },
   "kernels_config": {
    "python": {
     "delete_cmd_postfix": "",
     "delete_cmd_prefix": "del ",
     "library": "var_list.py",
     "varRefreshCmd": "print(var_dic_list())"
    },
    "r": {
     "delete_cmd_postfix": ") ",
     "delete_cmd_prefix": "rm(",
     "library": "var_list.r",
     "varRefreshCmd": "cat(var_dic_list()) "
    }
   },
   "types_to_exclude": [
    "module",
    "function",
    "builtin_function_or_method",
    "instance",
    "_Feature"
   ],
   "window_display": false
  }
 },
 "nbformat": 4,
 "nbformat_minor": 1
}
