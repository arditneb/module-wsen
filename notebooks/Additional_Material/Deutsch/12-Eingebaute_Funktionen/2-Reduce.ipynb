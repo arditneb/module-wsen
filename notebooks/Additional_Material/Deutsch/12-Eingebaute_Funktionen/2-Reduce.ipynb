{
 "cells": [
  {
   "cell_type": "markdown",
   "metadata": {
    "collapsed": true
   },
   "source": [
    "<a href=\"https://www.datamics.com/courses/online-courses/\">![title](bg_datamics_top.png)</a>\n",
    "\n",
    "<center><em>© Datamics</em></center><br><center><em>Besuche uns für mehr Informationen auf <a href='https://www.datamics.com/courses/online-courses/'>www.datamics.com</a></em>\n",
    "    \n",
    "# reduce()\n",
    "\n",
    "Häufig haben Anfänger ein Problem damit, reduce() gleich zu verstehen, deshalb: passt jetzt gut auf! Die Funktion\n",
    "\n",
    "    reduce(funktion,sequenz)\n",
    " \n",
    "wendet eine Funktion fortlaufend auf eine Sequenz an. Sie gibt dann einen einzigen Wert zurück.\n",
    "\n",
    "Wenn die Sequenz folgendermaßen aussieht seq[s1,s2,s3,...,sn], wird durch das Aufrufen von reduce(funktion,sequenz) folgendes gemacht:\n",
    "* Zuerst wird die Funktion die ersten beiden Elemente der Sequenz verarbeiten, d.h. funk(s1,s2).\n",
    "* Die Liste auf die reduce() angewendet wird sieht nun folgendermaßen aus: [funk(s1,s2),s3,...,sn]\n",
    "* Im nächsten Schritt wird die Funktion auf das erste Ergebnis und das dritte Element der Sequenz angewendet, d.h. funk((funk(s1,s2),s3).\n",
    "* Die Liste sieht jetzt so aus: [funk(funk(s1,s2),s3),s4,...,sn].\n",
    "* So geht es immer weiter, bis kein Element mehr außer dem Ergebnis der Funktion in der Liste enthalten ist.\n",
    "\n",
    "\n",
    "#### Achtung: In Python 3 müssen wir reduce erst importieren\n",
    "\n",
    "Sehen wir uns ein Beispiel an:"
   ]
  },
  {
   "cell_type": "code",
   "execution_count": 4,
   "metadata": {},
   "outputs": [
    {
     "data": {
      "text/plain": [
       "113"
      ]
     },
     "execution_count": 4,
     "metadata": {},
     "output_type": "execute_result"
    }
   ],
   "source": [
    "from functools import reduce\n",
    "\n",
    "lst =[47,11,42,13]\n",
    "reduce(lambda x,y: x+y,lst)"
   ]
  },
  {
   "cell_type": "markdown",
   "metadata": {},
   "source": [
    "Schauen wir uns ein Diagramm an, um besser zu verstehen, was passiert:\n",
    "![title](reduce.png)"
   ]
  },
  {
   "cell_type": "markdown",
   "metadata": {},
   "source": [
    "Beachtet, wie wir die Sequenz immer weiter reduzieren bis ein einzelner Wert erreicht wird. Lasst uns ein weiteres Beispiel betrachten:"
   ]
  },
  {
   "cell_type": "code",
   "execution_count": 7,
   "metadata": {
    "collapsed": true
   },
   "outputs": [],
   "source": [
    "# Das Maximum einer Liste finden\n",
    "max_find = lambda a,b: a if (a > b) else b"
   ]
  },
  {
   "cell_type": "code",
   "execution_count": 8,
   "metadata": {},
   "outputs": [
    {
     "data": {
      "text/plain": [
       "47"
      ]
     },
     "execution_count": 8,
     "metadata": {},
     "output_type": "execute_result"
    }
   ],
   "source": [
    "# Anwendung\n",
    "reduce(max_find,lst)"
   ]
  },
  {
   "cell_type": "markdown",
   "metadata": {},
   "source": [
    "Hoffentlich versteht ihr, wie nützlich reduce in verschiedenen Situationen sein kann. Behaltet es im Kopf, wenn ihr an euren Projekten arbeitet."
   ]
  }
 ],
 "metadata": {
  "kernelspec": {
   "display_name": "Python 3",
   "language": "python",
   "name": "python3"
  },
  "language_info": {
   "codemirror_mode": {
    "name": "ipython",
    "version": 3
   },
   "file_extension": ".py",
   "mimetype": "text/x-python",
   "name": "python",
   "nbconvert_exporter": "python",
   "pygments_lexer": "ipython3",
   "version": "3.8.5"
  },
  "varInspector": {
   "cols": {
    "lenName": 16,
    "lenType": 16,
    "lenVar": 40
   },
   "kernels_config": {
    "python": {
     "delete_cmd_postfix": "",
     "delete_cmd_prefix": "del ",
     "library": "var_list.py",
     "varRefreshCmd": "print(var_dic_list())"
    },
    "r": {
     "delete_cmd_postfix": ") ",
     "delete_cmd_prefix": "rm(",
     "library": "var_list.r",
     "varRefreshCmd": "cat(var_dic_list()) "
    }
   },
   "types_to_exclude": [
    "module",
    "function",
    "builtin_function_or_method",
    "instance",
    "_Feature"
   ],
   "window_display": false
  }
 },
 "nbformat": 4,
 "nbformat_minor": 2
}
