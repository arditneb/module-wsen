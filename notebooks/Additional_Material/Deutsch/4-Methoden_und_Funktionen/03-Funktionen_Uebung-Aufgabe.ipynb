{
 "cells": [
  {
   "cell_type": "markdown",
   "metadata": {},
   "source": [
    "<a href='https://www.datamics.com/courses/online-courses/'>![title](bg_datamics_top.png)</a>\n",
    "___\n",
    "<center><em>© Datamics</em></center>\n",
    "<center><em>Besuche uns für mehr Informationen auf <a href='https://www.datamics.com/courses/online-courses/'>www.datamics.com</a></em></center>\n"
   ]
  },
  {
   "cell_type": "markdown",
   "metadata": {},
   "source": [
    "# Übung Funktionen - Aufgabe\n",
    "\n",
    "Die Aufgaben sind nach einsteigender Schwierigkeit geordnet:\n",
    "* Aufwärmen - können mit einfachen Vergleichen und Methoden gelöst werden\n",
    "* Level 1 - gegebenenfalls werden if/else-Statements und einfache Methoden benötigt\n",
    "* Level 2 - vielleicht werden Sequenziterationen mit Schleifen gebraucht\n",
    "* Herausfordernd - hier wird ein wenig Kreativität erforderlich sein"
   ]
  },
  {
   "cell_type": "markdown",
   "metadata": {},
   "source": [
    "## Aufwärmen:"
   ]
  },
  {
   "cell_type": "markdown",
   "metadata": {},
   "source": [
    "#### DIE KLEINERE ZWEIER GERADER ZAHLEN: Schreibe eine Funktion, welche die kleinere von zwei Zahlen zurückgibt, *wenn* beide Zahlen gerade sind. Andernfalls soll die Funktion die größere Zahl zurückgeben\n",
    "    kleiner_zweier_gerader(2, 4) --> 2\n",
    "    kleiner_zweier_gerader(2, 5) --> 5"
   ]
  },
  {
   "cell_type": "code",
   "execution_count": null,
   "metadata": {
    "collapsed": true
   },
   "outputs": [],
   "source": [
    "def kleiner_zweier_gerader(a, b):\n",
    "    \"\"\" Gib die kleinere der beiden Eingabevariablen zurück, \n",
    "    falls beide gerade sind; ansonsten gib die größere Zahl zurück. \n",
    "    \"\"\"\n",
    "    \n",
    "    pass"
   ]
  },
  {
   "cell_type": "code",
   "execution_count": null,
   "metadata": {
    "collapsed": true
   },
   "outputs": [],
   "source": [
    "kleiner_zweier_gerader(2,4)"
   ]
  },
  {
   "cell_type": "code",
   "execution_count": null,
   "metadata": {
    "collapsed": true
   },
   "outputs": [],
   "source": [
    "kleiner_zweier_gerader(2,5)"
   ]
  },
  {
   "cell_type": "markdown",
   "metadata": {},
   "source": [
    "#### ANIMAL CRACKERS: Schreibe eine Funktion, die einen String mit zwei Worten annimmt und True zurückgibt, wenn beide mit dem selben Buchstaben beginnen\n",
    "    animal_crackers('Lachendes Llama') --> True\n",
    "    animal_crackers('Verrücktes Känguruh') --> False"
   ]
  },
  {
   "cell_type": "code",
   "execution_count": null,
   "metadata": {
    "collapsed": true
   },
   "outputs": [],
   "source": [
    "def animal_crackers(text):\n",
    "    \"\"\" Gib True zurück, wenn die ersten zwei Wörter in text mit \n",
    "    dem selben Buchstaben beginnen; ansonsten gib False zurück. \n",
    "    \"\"\"\n",
    "    \n",
    "    pass"
   ]
  },
  {
   "cell_type": "code",
   "execution_count": null,
   "metadata": {
    "collapsed": true
   },
   "outputs": [],
   "source": [
    "animal_crackers('Lachendes Llama')"
   ]
  },
  {
   "cell_type": "code",
   "execution_count": null,
   "metadata": {
    "collapsed": true
   },
   "outputs": [],
   "source": [
    "animal_crackers('Verrücktes Känguruh')"
   ]
  },
  {
   "cell_type": "markdown",
   "metadata": {},
   "source": [
    "#### MACHE ZWANZIG: Gib True zurück, wenn die Summe zweier Integers 20 *oder* eine der beiden Integers 20 ist. Gib ansonsten False zurück\n",
    "\n",
    "    mache_zwanzig(20, 10) --> True\n",
    "    mache_zwanzig(12, 8) --> True\n",
    "    mache_zwanzig(2, 3) --> False"
   ]
  },
  {
   "cell_type": "code",
   "execution_count": null,
   "metadata": {
    "collapsed": true
   },
   "outputs": [],
   "source": [
    "def mache_zwanzig(n1, n2):\n",
    "    \"\"\"Gib True zurück, wenn die Summe zweier Integers 20 oder \n",
    "    eine der beiden Integers 20 ist. Gib ansonsten False zurück.\n",
    "    \"\"\"\n",
    "    \n",
    "    pass"
   ]
  },
  {
   "cell_type": "code",
   "execution_count": null,
   "metadata": {},
   "outputs": [],
   "source": [
    "mache_zwanzig(20, 10)"
   ]
  },
  {
   "cell_type": "code",
   "execution_count": null,
   "metadata": {},
   "outputs": [],
   "source": [
    "mache_zwanzig(12, 8)"
   ]
  },
  {
   "cell_type": "code",
   "execution_count": null,
   "metadata": {
    "collapsed": true
   },
   "outputs": [],
   "source": [
    "mache_zwanzig(2,3)"
   ]
  },
  {
   "cell_type": "markdown",
   "metadata": {},
   "source": [
    "# LEVEL 1 ÜBUNG"
   ]
  },
  {
   "cell_type": "markdown",
   "metadata": {},
   "source": [
    "#### OLD MACDONALD: Schreibe eine Funktion, die den ersten und vierten Buchstaben eines Namens gross schreibt\n",
    "     \n",
    "    old_macdonald('macdonald') --> MacDonald\n",
    "    \n",
    "Beachte: `'macdonald'.capitalize()` gibt `'Macdonald'` zurück"
   ]
  },
  {
   "cell_type": "code",
   "execution_count": null,
   "metadata": {
    "collapsed": true
   },
   "outputs": [],
   "source": [
    "def old_macdonald(name):\n",
    "    \"\"\" Gib einen String zurück, in dem der 1. und 4. Buchstabe des \n",
    "    Eingabestrings grossgeschrieben ist.\n",
    "    \"\"\"\n",
    "    \n",
    "    pass"
   ]
  },
  {
   "cell_type": "code",
   "execution_count": null,
   "metadata": {
    "collapsed": true
   },
   "outputs": [],
   "source": [
    "old_macdonald('macdonald')"
   ]
  },
  {
   "cell_type": "markdown",
   "metadata": {},
   "source": [
    "#### MASTER YODA: Invertiere die Wortreihenfolge eines gegebenen Satzes\n",
    "\n",
    "    master_yoda('ich bin daheim') --> 'daheim bin ich'\n",
    "    master_yoda('es ist heiss') --> 'heiss_es_ist'\n",
    "    \n",
    "Beachte: Hierbei kann die Methode `.join()` helfen. `.join()` erlaubt es, Strings in einer Liste zu vereinigen mit einem Bindestring. Hier ist ein Beispiel:\n",
    "\n",
    "    >>> \"--\".join(['a','b','c'])\n",
    "    >>> 'a--b--c'\n",
    "\n",
    "Wenn du also eine Liste von Wörtern wieder zurück in einen Satz kovertieren willst, kannst du sie einfach mit einem Leerzeichen verbinden:\n",
    "\n",
    "    >>> \" \".join(['Hallo','Welt'])\n",
    "    >>> \"Hallo Welt\""
   ]
  },
  {
   "cell_type": "code",
   "execution_count": null,
   "metadata": {
    "collapsed": true
   },
   "outputs": [],
   "source": [
    "def master_yoda(text):\n",
    "    \"\"\"Gib einen String zurück, indem die Reihenfolge der Wörter des\n",
    "    Eingabestrings invertiert ist.\n",
    "    \"\"\"\n",
    "    \n",
    "    pass"
   ]
  },
  {
   "cell_type": "code",
   "execution_count": null,
   "metadata": {
    "collapsed": true
   },
   "outputs": [],
   "source": [
    "master_yoda('ich bin daheim')"
   ]
  },
  {
   "cell_type": "code",
   "execution_count": null,
   "metadata": {
    "collapsed": true
   },
   "outputs": [],
   "source": [
    "master_yoda('es ist heiss')"
   ]
  },
  {
   "cell_type": "markdown",
   "metadata": {},
   "source": [
    "#### ALMOST THERE: Gib True zurück, wenn eine gegebene Integer nicht mehr als 10 von 100 oder 200 entfernt ist. Gib sonst False zurück\n",
    "\n",
    "    almost_there(90) --> True\n",
    "    almost_there(104) --> True\n",
    "    almost_there(150) --> False\n",
    "    almost_there(209) --> True\n",
    "    \n",
    "Beachte: `abs(num)` gibt den absoluten Wert einer Zahl zurück."
   ]
  },
  {
   "cell_type": "code",
   "execution_count": null,
   "metadata": {
    "collapsed": true
   },
   "outputs": [],
   "source": [
    "def almost_there(n):\n",
    "    \"\"\" Gib True zurück, wenn eine gegebene Integer nicht mehr als 10 von 100\n",
    "    oder 200 entfernt ist. Gib sonst False zurück.\n",
    "    \"\"\"\n",
    "    \n",
    "    pass"
   ]
  },
  {
   "cell_type": "code",
   "execution_count": null,
   "metadata": {},
   "outputs": [],
   "source": [
    "almost_there(90)"
   ]
  },
  {
   "cell_type": "code",
   "execution_count": null,
   "metadata": {
    "collapsed": true
   },
   "outputs": [],
   "source": [
    "almost_there(104)"
   ]
  },
  {
   "cell_type": "code",
   "execution_count": null,
   "metadata": {
    "collapsed": true
   },
   "outputs": [],
   "source": [
    "almost_there(150)"
   ]
  },
  {
   "cell_type": "code",
   "execution_count": null,
   "metadata": {
    "collapsed": true
   },
   "outputs": [],
   "source": [
    "almost_there(209)"
   ]
  },
  {
   "cell_type": "markdown",
   "metadata": {},
   "source": [
    "# LEVEL 2 ÜBUNG"
   ]
  },
  {
   "cell_type": "markdown",
   "metadata": {},
   "source": [
    "#### FINDE 33: Gib True zurück, wenn in einer Liste eine 3 mit einer anderen 3 benachbart ist. Gib sonst False zurück\n",
    "\n",
    "    has_33([1, 3, 3]) → True\n",
    "    has_33([1, 3, 1, 3]) → False\n",
    "    has_33([3, 1, 3]) → False"
   ]
  },
  {
   "cell_type": "code",
   "execution_count": null,
   "metadata": {
    "collapsed": true
   },
   "outputs": [],
   "source": [
    "def has_33(nums):\n",
    "    \"\"\" Gib True zurück, wenn in einer Liste eine 3 mit einer anderen\n",
    "    3 benachbart ist. Gib sonst False zurück.\n",
    "    \"\"\"\n",
    "    \n",
    "    pass"
   ]
  },
  {
   "cell_type": "code",
   "execution_count": null,
   "metadata": {
    "collapsed": true
   },
   "outputs": [],
   "source": [
    "has_33([1, 3, 3])"
   ]
  },
  {
   "cell_type": "code",
   "execution_count": null,
   "metadata": {
    "collapsed": true
   },
   "outputs": [],
   "source": [
    "has_33([1, 3, 1, 3])"
   ]
  },
  {
   "cell_type": "code",
   "execution_count": null,
   "metadata": {
    "collapsed": true
   },
   "outputs": [],
   "source": [
    "has_33([3, 1, 3])"
   ]
  },
  {
   "cell_type": "markdown",
   "metadata": {},
   "source": [
    "#### PAPER DOLL: Konvertiere einen Eingabestring so, dass ein String zurückgegeben wird, indem jedes Zeichen verdreifacht wurde\n",
    "\n",
    "    paper_doll('Hallo') --> 'HHHaaallllllooo'\n",
    "    paper_doll('Mississippi') --> 'MMMiiissssssiiippppppiii'"
   ]
  },
  {
   "cell_type": "code",
   "execution_count": null,
   "metadata": {
    "collapsed": true
   },
   "outputs": [],
   "source": [
    "def paper_doll(text):\n",
    "    \"\"\" Gib einen String zurück, indem jedes Zeichen des Eingabestrings verdreifacht wurde.\"\"\"\n",
    "    \n",
    "    pass"
   ]
  },
  {
   "cell_type": "code",
   "execution_count": null,
   "metadata": {
    "collapsed": true
   },
   "outputs": [],
   "source": [
    "paper_doll('Hallo')"
   ]
  },
  {
   "cell_type": "code",
   "execution_count": null,
   "metadata": {
    "collapsed": true
   },
   "outputs": [],
   "source": [
    "paper_doll('Mississippi')"
   ]
  },
  {
   "cell_type": "markdown",
   "metadata": {},
   "source": [
    "#### BLACKJACK:  Gegeben sind drei Integer zwischen 1 und 11. Wenn deren Summe kleiner gleich 21 ist, gib ihre Summe zurück. Wenn ihre Summe größer als 21 ist *und* eine der Zahlen 11 ist, reduziere die Summe um 10. Falls die Summe anschliessend noch größer als 21 ist, gib 'BUST' zurück\n",
    "\n",
    "    blackjack(5,6,7) --> 18\n",
    "    blackjack(9,9,9) --> 'BUST'\n",
    "    blackjack(9,9,11) --> 19"
   ]
  },
  {
   "cell_type": "code",
   "execution_count": null,
   "metadata": {
    "collapsed": true
   },
   "outputs": [],
   "source": [
    "def blackjack(a, b, c):\n",
    "    \"\"\" Ist die Summe von a, b und c kleiner gleich 21, gib diese zurück. \n",
    "    Falls die Summe größer 21 und eine der Zahlen 11 ist, reduziere die Summe um 10. \n",
    "    Gib die neue Summe zurück, falls sie jetzt kleiner gleich 21 ist. Gib ansonsten 'BUST' zurück.\n",
    "    \"\"\"\n",
    "    \n",
    "    pass"
   ]
  },
  {
   "cell_type": "code",
   "execution_count": null,
   "metadata": {
    "collapsed": true
   },
   "outputs": [],
   "source": [
    "blackjack(5, 6, 7)"
   ]
  },
  {
   "cell_type": "code",
   "execution_count": null,
   "metadata": {
    "collapsed": true
   },
   "outputs": [],
   "source": [
    "blackjack(9, 9, 9)"
   ]
  },
  {
   "cell_type": "code",
   "execution_count": null,
   "metadata": {
    "collapsed": true
   },
   "outputs": [],
   "source": [
    "blackjack(9, 9, 11)"
   ]
  },
  {
   "cell_type": "markdown",
   "metadata": {},
   "source": [
    "#### SUMMER OF '69:  Gib die Summe der Zahlen einer Liste zurück, aber entferne Zahlensequenzen, die mit einer 6 beginnen und mit einer 9 enden (auf alle 6 folgt irgendwann eine 9 in den Eingabelisten). Gib 0 für keine Zahlen zurück.\n",
    " \n",
    "    summer_69([1, 3, 5]) --> 9\n",
    "    summer_69([4, 5, 6, 7, 8, 9]) --> 9\n",
    "    summer_69([2, 1, 6, 9, 11]) --> 14"
   ]
  },
  {
   "cell_type": "code",
   "execution_count": null,
   "metadata": {
    "collapsed": true
   },
   "outputs": [],
   "source": [
    "def summer_69(arr):\n",
    "    \"\"\"Gib die Summe der Zahlen einer Liste zurück, aber entferne Zahlensequenzen,\n",
    "    die mit einer 6 beginnen un mit einer 9 enden. Gib 0 für keine Zahlen zurück.\n",
    "    \"\"\"\n",
    "    \n",
    "    pass"
   ]
  },
  {
   "cell_type": "code",
   "execution_count": null,
   "metadata": {
    "collapsed": true
   },
   "outputs": [],
   "source": [
    "summer_69([1, 3, 5])"
   ]
  },
  {
   "cell_type": "code",
   "execution_count": null,
   "metadata": {
    "collapsed": true
   },
   "outputs": [],
   "source": [
    "summer_69([4, 5, 6, 7, 8, 9])"
   ]
  },
  {
   "cell_type": "code",
   "execution_count": null,
   "metadata": {
    "collapsed": true
   },
   "outputs": [],
   "source": [
    "summer_69([2, 1, 6, 9, 11])"
   ]
  },
  {
   "cell_type": "markdown",
   "metadata": {},
   "source": [
    "# HERAUSFORDERUNG"
   ]
  },
  {
   "cell_type": "markdown",
   "metadata": {},
   "source": [
    "#### SPY GAME: Schreibe eine Funktion, die True zurück gibt, wenn eine Liste von Integers die Folge 007 (ggf. mit Unterbrechungen!) enthält\n",
    "\n",
    "     spy_game([1, 2, 4, 0, 0, 7, 5]) --> True\n",
    "     spy_game([1, 0, 2, 4, 0, 5, 7]) --> True\n",
    "     spy_game([1, 7, 2, 0, 4, 5, 0]) --> False\n"
   ]
  },
  {
   "cell_type": "code",
   "execution_count": null,
   "metadata": {
    "collapsed": true
   },
   "outputs": [],
   "source": [
    "def spy_game(nums):\n",
    "    \"\"\" Gib True zurück, falls die Eingabeliste von Integers die Folge 007 \n",
    "    (mit Unterbrechungen) enthält. Gib ansonsten False zurück.\n",
    "    \"\"\"\n",
    "    \n",
    "    pass"
   ]
  },
  {
   "cell_type": "code",
   "execution_count": null,
   "metadata": {
    "collapsed": true
   },
   "outputs": [],
   "source": [
    "spy_game([1, 2, 4, 0, 0, 7, 5])"
   ]
  },
  {
   "cell_type": "code",
   "execution_count": null,
   "metadata": {
    "collapsed": true
   },
   "outputs": [],
   "source": [
    "spy_game([1, 0, 2, 4, 0, 5, 7])"
   ]
  },
  {
   "cell_type": "code",
   "execution_count": null,
   "metadata": {
    "collapsed": true
   },
   "outputs": [],
   "source": [
    "spy_game([1, 7, 2, 0, 4, 5, 0])"
   ]
  },
  {
   "cell_type": "markdown",
   "metadata": {},
   "source": [
    "#### COUNT PRIMES: Schreibe eine Funktion, welche die Anzahl von Primzahlen bis zu (inklusive) einer gegebenen Zahl zurückgibt\n",
    "\n",
    "    count_primes(100) --> 25\n",
    "\n",
    "Per Konvention sind 0 und 1 keine Primzahlen."
   ]
  },
  {
   "cell_type": "code",
   "execution_count": null,
   "metadata": {
    "collapsed": true
   },
   "outputs": [],
   "source": [
    "def count_primes(num):\n",
    "    \"\"\" Gib die Anzahl von Primzahlen zurück, die kleiner gleich num sind. \"\"\"\n",
    "    \n",
    "    pass\n",
    "                "
   ]
  },
  {
   "cell_type": "code",
   "execution_count": null,
   "metadata": {
    "collapsed": true
   },
   "outputs": [],
   "source": [
    "count_primes(100)"
   ]
  },
  {
   "cell_type": "markdown",
   "metadata": {},
   "source": [
    "-----\n",
    "### Nur zum Spass, kein echtes Problem :)\n",
    "\n",
    "#### GROSSE AUSGABE: Schreibe eine Funktion, die ein Zeichen annimmt und eine 5x5-Repräsentation des Zeichens zurück gibt\n",
    "\n",
    "    print_big('a')\n",
    "    \n",
    "    -->:   *  \n",
    "          * *\n",
    "         *****\n",
    "         *   *\n",
    "         *   *\n",
    "         \n",
    "HNIWEIS: Ziehe den Einsatz eines Dictionaries für die möglichen Muster in Erwägung. Jeder Buchstabe ist eine spezifische 5-Zeilen-Kombination. Für diese Übung reicht es, wenn du nur die Buchstaben bis \"E\" behandelst."
   ]
  },
  {
   "cell_type": "code",
   "execution_count": null,
   "metadata": {
    "collapsed": true
   },
   "outputs": [],
   "source": [
    "def print_big(letter):\n",
    "    \"\"\" Gib den Eingabebuchstaben letter ('A', 'B', 'C', 'D' oder 'E') \n",
    "    als Ascii-Kunst aus '*' im Terminal aus. \n",
    "    \"\"\"\n",
    "    \n",
    "    pass"
   ]
  },
  {
   "cell_type": "code",
   "execution_count": null,
   "metadata": {
    "collapsed": true
   },
   "outputs": [],
   "source": [
    "print_big('a')"
   ]
  },
  {
   "cell_type": "markdown",
   "metadata": {},
   "source": [
    "## Klasse!"
   ]
  }
 ],
 "metadata": {
  "kernelspec": {
   "display_name": "Python 3",
   "language": "python",
   "name": "python3"
  },
  "language_info": {
   "codemirror_mode": {
    "name": "ipython",
    "version": 3
   },
   "file_extension": ".py",
   "mimetype": "text/x-python",
   "name": "python",
   "nbconvert_exporter": "python",
   "pygments_lexer": "ipython3",
   "version": "3.8.5"
  },
  "varInspector": {
   "cols": {
    "lenName": 16,
    "lenType": 16,
    "lenVar": 40
   },
   "kernels_config": {
    "python": {
     "delete_cmd_postfix": "",
     "delete_cmd_prefix": "del ",
     "library": "var_list.py",
     "varRefreshCmd": "print(var_dic_list())"
    },
    "r": {
     "delete_cmd_postfix": ") ",
     "delete_cmd_prefix": "rm(",
     "library": "var_list.r",
     "varRefreshCmd": "cat(var_dic_list()) "
    }
   },
   "types_to_exclude": [
    "module",
    "function",
    "builtin_function_or_method",
    "instance",
    "_Feature"
   ],
   "window_display": false
  }
 },
 "nbformat": 4,
 "nbformat_minor": 2
}
