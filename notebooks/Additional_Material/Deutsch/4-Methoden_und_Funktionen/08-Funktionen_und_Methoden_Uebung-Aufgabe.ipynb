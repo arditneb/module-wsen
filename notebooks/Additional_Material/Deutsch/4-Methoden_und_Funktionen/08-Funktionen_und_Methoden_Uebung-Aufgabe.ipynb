{
 "cells": [
  {
   "cell_type": "markdown",
   "metadata": {},
   "source": [
    "<a href=\"https://www.datamics.com/courses/online-courses/\">![title](bg_datamics_top.png)</a>\n",
    "\n",
    "<center><em>© Datamics</em></center><br><center><em>Besuche uns für mehr Informationen auf <a href='https://www.datamics.com/courses/online-courses/'>www.datamics.com</a></em>"
   ]
  },
  {
   "cell_type": "markdown",
   "metadata": {},
   "source": [
    "# Übung Funktionen und Methoden - Aufgabe\n",
    "____\n",
    "**Schreibe eine Funktion, die das Volumen einer Kugel berechnet, wenn der Radius gegeben ist.**\n",
    "<p>Das Volumen einer Kugel ist gegeben als $$\\frac{4}{3} πr^3$$</p>"
   ]
  },
  {
   "cell_type": "code",
   "execution_count": 1,
   "metadata": {},
   "outputs": [],
   "source": [
    "def vol(rad):\n",
    "    \"\"\" Gibt das Volumen einer Kugel für einen gegebenen Radius zurück. \"\"\"\n",
    "    \n",
    "    pass"
   ]
  },
  {
   "cell_type": "code",
   "execution_count": 2,
   "metadata": {},
   "outputs": [
    {
     "data": {
      "text/plain": [
       "33.49333333333333"
      ]
     },
     "execution_count": 2,
     "metadata": {},
     "output_type": "execute_result"
    }
   ],
   "source": [
    "vol(2)"
   ]
  },
  {
   "cell_type": "markdown",
   "metadata": {},
   "source": [
    "___\n",
    "**Schreibe eine Funktion, die überprüft, ob sich eine Zahl in einem bestimmten Bereich befindet (inklusive Anfang und Ende).**"
   ]
  },
  {
   "cell_type": "code",
   "execution_count": 3,
   "metadata": {},
   "outputs": [],
   "source": [
    "def bereich_check(zahl, unten, oben):\n",
    "    \"\"\" Gibt eine Bestätigung aus, falls die übergebene Zahl zwischen \n",
    "    unten und oben liegt.\n",
    "    \"\"\"    \n",
    "    \n",
    "    pass"
   ]
  },
  {
   "cell_type": "code",
   "execution_count": 4,
   "metadata": {},
   "outputs": [
    {
     "name": "stdout",
     "output_type": "stream",
     "text": [
      "Zahl ist im Bereich 5\n"
     ]
    }
   ],
   "source": [
    "bereich_check(5,2,7)"
   ]
  },
  {
   "cell_type": "markdown",
   "metadata": {},
   "source": [
    "Und jetzt das gleiche, wenn du nur einen Boolean Wert erhalten wollen würdest."
   ]
  },
  {
   "cell_type": "code",
   "execution_count": 5,
   "metadata": {
    "collapsed": true
   },
   "outputs": [],
   "source": [
    "def bereich_boolean(zahl, unten, oben):\n",
    "    \"\"\" Gibt True zurück, falls die übergebene Zahl zwischen \n",
    "    unten und oben liegt Gibt ansonsten False zurück.\n",
    "    \"\"\" \n",
    "    \n",
    "    pass"
   ]
  },
  {
   "cell_type": "code",
   "execution_count": 6,
   "metadata": {},
   "outputs": [
    {
     "data": {
      "text/plain": [
       "True"
      ]
     },
     "execution_count": 6,
     "metadata": {},
     "output_type": "execute_result"
    }
   ],
   "source": [
    "bereich_boolean(3, 1, 10)"
   ]
  },
  {
   "cell_type": "markdown",
   "metadata": {},
   "source": [
    "____\n",
    "**Schreibe eine Python Funktion, die die groß- und kleingeschriebene Buchstaben in einem String zählt und die Anzahl ausgibt.**\n",
    "\n",
    "    Beispielstring : 'Niemand erwartet die spanische Inquisition!'\n",
    "    Erwartete Ausgabe : \n",
    "    Anzahl Grossbuchstaben: 2\n",
    "    Anzahl Kleinbuchstaben: 36\n",
    "    \n",
    "HINWEIS: Zwei Stringmethoden, die hierbei helfen können, sind **.isupper()** und **.islower()**.\n",
    "\n",
    "Wenn du neugierig bist, wirf einen Blick auf das Modul `Collections` zum lösen dieser Aufgabe!"
   ]
  },
  {
   "cell_type": "code",
   "execution_count": 5,
   "metadata": {},
   "outputs": [],
   "source": [
    "def gross_klein(mein_string):\n",
    "    \"\"\" Gibt die Anzahl gross- und kleingeschriebener Buchstaben\n",
    "    in einem String zurück.\n",
    "    \"\"\"    \n",
    "    \n",
    "    pass"
   ]
  },
  {
   "cell_type": "code",
   "execution_count": 6,
   "metadata": {},
   "outputs": [
    {
     "name": "stdout",
     "output_type": "stream",
     "text": [
      "Originalstring:  Niemand erwartet die spanische Inquisition!\n",
      "Anzahl großer Buchstaben:  2\n",
      "Anzahl kleiner Buchstaben:  36\n"
     ]
    }
   ],
   "source": [
    "mein_string = 'Niemand erwartet die spanische Inquisition!'\n",
    "gross_klein(mein_string)"
   ]
  },
  {
   "cell_type": "markdown",
   "metadata": {},
   "source": [
    "____\n",
    "**Schreibe eine Python Funktion, die eine Liste als Input nimmt und eine Liste ausgibt, die nur noch einzigartige Werte enthält.**\n",
    "\n",
    "    Eingabeliste: [1, 1, 1, 1, 2, 2, 3, 3, 3, 3, 4, 5]\n",
    "    Ausgabeliste: [1, 2, 3, 4, 5]"
   ]
  },
  {
   "cell_type": "code",
   "execution_count": 7,
   "metadata": {},
   "outputs": [],
   "source": [
    "def einzig_liste(lst):\n",
    "    \"\"\" Gibt eine Liste zurück, die jedes Element in lst nur ein einziges mal enthält. \"\"\"\n",
    "    \n",
    "    pass"
   ]
  },
  {
   "cell_type": "code",
   "execution_count": 8,
   "metadata": {},
   "outputs": [
    {
     "data": {
      "text/plain": [
       "[1, 2, 3, 4, 5]"
      ]
     },
     "execution_count": 8,
     "metadata": {},
     "output_type": "execute_result"
    }
   ],
   "source": [
    "einzig_liste([1, 1, 1, 1, 2, 2, 3, 3, 3, 3, 4, 5])"
   ]
  },
  {
   "cell_type": "markdown",
   "metadata": {},
   "source": [
    "____\n",
    "**Schreibe eine Funktion, die alle Werte innerhalb einer Liste miteinander multipliziert.**\n",
    "\n",
    "    Eingabe: [1, 2, 3, -4]\n",
    "    Ausgabe: -24"
   ]
  },
  {
   "cell_type": "code",
   "execution_count": 11,
   "metadata": {},
   "outputs": [],
   "source": [
    "def multi(zahlen):\n",
    "    \"\"\" Gibt das Ergebnis der Multiplikation aller Zahlen der Eingabeliste zurück. \"\"\"\n",
    "    \n",
    "    total = 1\n",
    "    \n",
    "    for zahl in zahlen:\n",
    "        total *= zahl\n",
    "        \n",
    "    return total"
   ]
  },
  {
   "cell_type": "code",
   "execution_count": 12,
   "metadata": {},
   "outputs": [
    {
     "data": {
      "text/plain": [
       "-24"
      ]
     },
     "execution_count": 12,
     "metadata": {},
     "output_type": "execute_result"
    }
   ],
   "source": [
    "multi([1, 2, 3, -4])"
   ]
  },
  {
   "cell_type": "markdown",
   "metadata": {},
   "source": [
    "____\n",
    "**Schreibe eine Python Funktion, die überprüft, ob ein eingegebener String ein Palindrom ist, oder nicht.**\n",
    "\n",
    "Beachte: Ein Palindrom ist ein Wort, das vorwärts und rückwärts gleich gelesen wird. Zum Beispiel: Otto, Ebbe, Neozoen oder der Satz \"Alle Bohnen hob Ella\".\n",
    "\n",
    "Hinweis: Die Stringmethode `replace()` könnte hierbei interessant sein, um Leerzeichen zu behandeln. Du könntest auch nach cleveren Methoden zum Invertieren eines Strings im Internet suchen, das geht beispielsweise mit Slicing gut."
   ]
  },
  {
   "cell_type": "code",
   "execution_count": 13,
   "metadata": {},
   "outputs": [],
   "source": [
    "def palindrom(mein_string):\n",
    "    \"\"\" Gibt True zurück, falls es sich bei der Eingabe um \n",
    "    ein Palindrom handelt und ansonsten False.\n",
    "    \"\"\"    \n",
    "    \n",
    "    pass"
   ]
  },
  {
   "cell_type": "code",
   "execution_count": 14,
   "metadata": {},
   "outputs": [
    {
     "data": {
      "text/plain": [
       "True"
      ]
     },
     "execution_count": 14,
     "metadata": {},
     "output_type": "execute_result"
    }
   ],
   "source": [
    "palindrom('Alle Bohnen hob Ella')"
   ]
  },
  {
   "cell_type": "markdown",
   "metadata": {},
   "source": [
    "____\n",
    "#### Schwierig:\n",
    "\n",
    "**Schreibe eine Funktion, die prüft, ob ein String ein Pangramm ist oder nicht. Gehe davon aus, dass der übergebene String keine Satzzeichen enthält.**\n",
    "\n",
    "    Beachte: Pangramme sind Wörter oder Sätze, die alle Buchstaben des Alphabets zumindest einmal enthalten.\n",
    "    Beispiel: \"Franz jagt im komplett verwahrlosten Taxi quer durch Bayern\"\n",
    "\n",
    "Hinweis: Die Stringmethode `.replace()` hilft beim entfernen von Leerzeichen.\n",
    "\n",
    "Hinweis: Wirf einen Blick auf das [Modul string](https://stackoverflow.com/questions/16060899/alphabet-range-in-python)\n",
    "\n",
    "Hinweis: Ebenfalls interessant hierfür sind [set Vergleiche](https://medium.com/better-programming/a-visual-guide-to-set-comparisons-in-python-6ab7edb9ec41)"
   ]
  },
  {
   "cell_type": "code",
   "execution_count": 15,
   "metadata": {
    "collapsed": true
   },
   "outputs": [],
   "source": [
    "import string\n",
    "\n",
    "def ist_pangramm(str1, alphabet=string.ascii_lowercase):\n",
    "    \"\"\" Gibt True zurück, falls der Eingabestring im Eingabealphabet \n",
    "    ein Pangramm ist, und ansonsten False.\n",
    "    \"\"\"    \n",
    "    \n",
    "    pass"
   ]
  },
  {
   "cell_type": "code",
   "execution_count": 16,
   "metadata": {},
   "outputs": [
    {
     "data": {
      "text/plain": [
       "True"
      ]
     },
     "execution_count": 16,
     "metadata": {},
     "output_type": "execute_result"
    }
   ],
   "source": [
    "ist_pangramm(\"Franz jagt im komplett verwahrlosten Taxi quer durch Bayern\")"
   ]
  },
  {
   "cell_type": "code",
   "execution_count": 17,
   "metadata": {},
   "outputs": [
    {
     "data": {
      "text/plain": [
       "'abcdefghijklmnopqrstuvwxyz'"
      ]
     },
     "execution_count": 17,
     "metadata": {},
     "output_type": "execute_result"
    }
   ],
   "source": [
    "string.ascii_lowercase"
   ]
  },
  {
   "cell_type": "markdown",
   "metadata": {
    "collapsed": true
   },
   "source": [
    "### Gut gemacht!"
   ]
  }
 ],
 "metadata": {
  "kernelspec": {
   "display_name": "Python 3",
   "language": "python",
   "name": "python3"
  },
  "language_info": {
   "codemirror_mode": {
    "name": "ipython",
    "version": 3
   },
   "file_extension": ".py",
   "mimetype": "text/x-python",
   "name": "python",
   "nbconvert_exporter": "python",
   "pygments_lexer": "ipython3",
   "version": "3.8.5"
  },
  "varInspector": {
   "cols": {
    "lenName": 16,
    "lenType": 16,
    "lenVar": 40
   },
   "kernels_config": {
    "python": {
     "delete_cmd_postfix": "",
     "delete_cmd_prefix": "del ",
     "library": "var_list.py",
     "varRefreshCmd": "print(var_dic_list())"
    },
    "r": {
     "delete_cmd_postfix": ") ",
     "delete_cmd_prefix": "rm(",
     "library": "var_list.r",
     "varRefreshCmd": "cat(var_dic_list()) "
    }
   },
   "types_to_exclude": [
    "module",
    "function",
    "builtin_function_or_method",
    "instance",
    "_Feature"
   ],
   "window_display": false
  }
 },
 "nbformat": 4,
 "nbformat_minor": 1
}
