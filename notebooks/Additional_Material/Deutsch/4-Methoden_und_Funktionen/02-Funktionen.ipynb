{
 "cells": [
  {
   "cell_type": "markdown",
   "metadata": {},
   "source": [
    "<a href=\"https://www.datamics.com/courses/online-courses/\">![title](bg_datamics_top.png)</a>\n",
    "\n",
    "<center><em>© Datamics</em></center><br><center><em>Besuche uns für mehr Informationen auf <a href='https://www.datamics.com/courses/online-courses/'>www.datamics.com</a></em>"
   ]
  },
  {
   "cell_type": "markdown",
   "metadata": {},
   "source": [
    "# Funktionen\n",
    "\n",
    "## Einführung zu Funktionen\n",
    "\n",
    "Diese Lektion wird sich damit beschäftigen, was eine Funktion in Python ist und wie sie erstellt wird. Funktionen werden einer unserer Hauptbestandteile sein, wenn wir immer umfangreichere Codes schreiben. \n",
    "\n",
    "### Was ist ein Funktion\n",
    "\n",
    "Formal gesehen ist eine Funktion ein nützliches Hilfsmittel, um einzelne Statements zu gruppieren, um sie dann mehr als einmal aufrufen zu können. Sie können außerdem Parameter definieren, die uns als Input für die Funktion dienen können.\n",
    "\n",
    "Ganz grundsätzlich betrachtet erlauben es uns Funktionen, den selben Code nicht immer wieder schreiben zu müssen. Wenn ihr zurückdenkt an unsere Lektion zu Strings und Listen in Python, dann erinnert euch an die Funktion `len()`, die wir genutzt haben, um die Länge eines Strings bzw. einer Liste zu erhalten. Da die Überprüfung der Länge einer Sequenz eine widerkehrende Aufgabe ist, ist es somit eine solche Aufgabe, die wir in eine Funktion packen wollen würden.\n",
    "\n",
    "Funktionen sind eine der einfachsten Möglichkeiten, um Code in Python wiederzuverwenden. Und es wird uns ermöglichen, über effizientes Programmdesign nachzudenken (worüber wir später noch viel genauer sprechen werden, sobald es um OOP geht)."
   ]
  },
  {
   "cell_type": "markdown",
   "metadata": {},
   "source": [
    "### Warum Funktionen verwenden?\n",
    "\n",
    "Einfach gesagt solltest du dann Funktionen verwenden, wenn du es planst, einen Codeblock mehrfach zu verwenden. Eine Funktion erlaubt es dir, diesen Codeblock mehrfach aufzurufen, ohne ihn mehrfach einzugeben. Dadurch kannst du komplexere Programme entwerfen. Um das besser zu verstehen, sollten wir jetzt ein paar eigene Funktionen schreiben! "
   ]
  },
  {
   "cell_type": "markdown",
   "metadata": {},
   "source": [
    "## Funktionen Themen\n",
    "* Schlüsselwort def\n",
    "* Einfaches Beispiel einer Funktion\n",
    "* Eine Funktion mit () aufrufen\n",
    "* Parameter annehmen\n",
    "* print versus return\n",
    "* Logik innerhalb einer Funktion hinzufügen\n",
    "* Mehrere Rückgaben in einer Funktion\n",
    "* Schleifen in einer Funktion\n",
    "* tuple unpacking\n",
    "* Interaktionen zwischen Funktionen"
   ]
  },
  {
   "cell_type": "markdown",
   "metadata": {},
   "source": [
    "### Schlüsselwort def\n",
    "\n",
    "Lasst uns die allgemeine Form und Syntax einer Funktion in Python betrachten:"
   ]
  },
  {
   "cell_type": "code",
   "execution_count": 1,
   "metadata": {},
   "outputs": [],
   "source": [
    "def name_der_funktion(par1, par2):\n",
    "    \"\"\" Hier kommt die Beschreibung (doc-string) einer Funktion hin. \"\"\"\n",
    "    \n",
    "    # Tue hier Dinge\n",
    "    # Gebe gewünschtes Ergebnis aus"
   ]
  },
  {
   "cell_type": "markdown",
   "metadata": {},
   "source": [
    "Wir beginnen mit `def` gefolgt von einem Leerzeichen und dem Namen der Funktion. Die Namen sollten möglichst präzise und eindeutig gewählt werden. Ein Beispiel ist die Bezeichnung der Funktion `len()` für `length`. Außerdem sollte man darauf achten, keine Namen zu verwenden, die durch vorinstallierte (built-in) Python Funktionen belegt sind (wie z.B. len).\n",
    "\n",
    "Als nächstes kommt ein Paar von Klammern, die die Parametern beinhalten, die jeweils durch Komma getrennt sind. Diese Parameter sind der Input für eure Funktion. Wir können diese innerhalb der Funktion verwenden und auf sie verweisen. Danach setzen wir einen Doppelpunkt.\n",
    "\n",
    "Danach folgt die Beschreibung (doc-string) der Funktion. Diese stellt eine kurze Beschreibung der Funktion und dessen, was sie tut, dar. Durch die Verwendung von iPython und den Notebooks können wir diese Beschreibung lesen, indem wir Shift + Tab nach einem Funktionsnamen drücken. Beschreibungen sind bei einfachen Funktionen nicht notwendig, aber es ist eine bewährte Verfahrensweise diese einzufügen, damit man selbst oder andere Leute den Code schnell verstehen.\n",
    "\n",
    "Nach all dem beginnt man den tatsächlichen Code zu schreiben, der ausgeführt werden soll.\n",
    "\n",
    "Der beste Weg um Funktionen zu lernen ist es, einige Beispiele zu betrachten. Lasst uns dies deshalb tun und Bezug nehmen auf einige Objekte und Daten Strukturen, die wir bereits kennengelernt haben."
   ]
  },
  {
   "cell_type": "markdown",
   "metadata": {},
   "source": [
    "### Einfaches Beispiel einer Funktion"
   ]
  },
  {
   "cell_type": "code",
   "execution_count": 2,
   "metadata": {},
   "outputs": [],
   "source": [
    "def sag_hallo():\n",
    "    \"\"\" Gib einen einfachen String aus. \"\"\"\n",
    "    \n",
    "    print('hallo')"
   ]
  },
  {
   "cell_type": "markdown",
   "metadata": {},
   "source": [
    "### Eine Funktion mit () aufrufen\n",
    "\n",
    "Führe die Funktion aus:"
   ]
  },
  {
   "cell_type": "code",
   "execution_count": 3,
   "metadata": {},
   "outputs": [
    {
     "name": "stdout",
     "output_type": "stream",
     "text": [
      "hallo\n"
     ]
    }
   ],
   "source": [
    "sag_hallo()"
   ]
  },
  {
   "cell_type": "markdown",
   "metadata": {},
   "source": [
    "Wenn du die Klammern () vergisst, erfolgt als Ausgabe lediglich, dass es siczh bei `sag_hallo` um eine Funktion handelt. Wir werden später lernen, wie man eine Funktion an eine andere Funktion übergeben kann! Merke dir vorerst nur, dass eine Funktion mit () ausgeführt wird."
   ]
  },
  {
   "cell_type": "code",
   "execution_count": 4,
   "metadata": {},
   "outputs": [
    {
     "data": {
      "text/plain": [
       "<function __main__.sag_hallo()>"
      ]
     },
     "execution_count": 4,
     "metadata": {},
     "output_type": "execute_result"
    }
   ],
   "source": [
    "sag_hallo"
   ]
  },
  {
   "cell_type": "markdown",
   "metadata": {},
   "source": [
    "### Parameter (Argumente) annehmen\n",
    "\n",
    "Lasst uns eine Funktion schreiben, die Menschen namentlich grüßt."
   ]
  },
  {
   "cell_type": "code",
   "execution_count": 5,
   "metadata": {},
   "outputs": [],
   "source": [
    "def gruessen(name):\n",
    "    \"\"\" Gib einen einfachen String zusammen mit einer Stringvariablen aus. \"\"\"\n",
    "    \n",
    "    print(f'Hallo {name}')"
   ]
  },
  {
   "cell_type": "code",
   "execution_count": 6,
   "metadata": {},
   "outputs": [
    {
     "name": "stdout",
     "output_type": "stream",
     "text": [
      "Hallo Jose\n"
     ]
    }
   ],
   "source": [
    "gruessen('Jose')"
   ]
  },
  {
   "cell_type": "markdown",
   "metadata": {},
   "source": [
    "## return verwenden\n",
    "Bisher haben wir nur `print()` verwendet. Wenn wir die Variable der Funktion aber speichern wollen, so müssen wir sie mit **return** zurückgeben.\n",
    "\n",
    "Lasst uns hierzu ein paar Beispiele mit einer `return`-Anweisung betrachten.\n",
    "\n",
    "### Beispiel: Additionsfunktion"
   ]
  },
  {
   "cell_type": "code",
   "execution_count": 7,
   "metadata": {},
   "outputs": [],
   "source": [
    "def num_addieren(num1, num2):\n",
    "    \"\"\" Addiere zwei Variablen und gib das Ergebnis zurück. \"\"\"\n",
    "    \n",
    "    return num1 + num2"
   ]
  },
  {
   "cell_type": "code",
   "execution_count": 8,
   "metadata": {},
   "outputs": [
    {
     "data": {
      "text/plain": [
       "9"
      ]
     },
     "execution_count": 8,
     "metadata": {},
     "output_type": "execute_result"
    }
   ],
   "source": [
    "num_addieren(4, 5)"
   ]
  },
  {
   "cell_type": "code",
   "execution_count": 9,
   "metadata": {},
   "outputs": [],
   "source": [
    "# Wir können die zurückgegebene Variable auch speichern\n",
    "ergebnis = num_addieren(4, 5)"
   ]
  },
  {
   "cell_type": "code",
   "execution_count": 10,
   "metadata": {},
   "outputs": [
    {
     "name": "stdout",
     "output_type": "stream",
     "text": [
      "9\n"
     ]
    }
   ],
   "source": [
    "print(ergebnis)"
   ]
  },
  {
   "cell_type": "markdown",
   "metadata": {},
   "source": [
    "Was passiert, wenn wir zwei Strings übergeben?"
   ]
  },
  {
   "cell_type": "code",
   "execution_count": 11,
   "metadata": {},
   "outputs": [
    {
     "data": {
      "text/plain": [
       "'einszwei'"
      ]
     },
     "execution_count": 11,
     "metadata": {},
     "output_type": "execute_result"
    }
   ],
   "source": [
    "num_addieren('eins','zwei')"
   ]
  },
  {
   "cell_type": "markdown",
   "metadata": {},
   "source": [
    "## Sehr häufige Frage: \"Was ist der Unterschied zwischen *return* und *print*?\"\n",
    "\n",
    "**Das Schlüsselwort return erlaubt es dir, das Ergebnis eine Funktion in einer Variablen zu speichern. Im Gegensatz dazu gibt die Funktion print() das Ergebnis lediglich auf dem Bildschirm aus, ohne es dabei für den späteren Gebrauch zu speichern. Lasst uns das ein bisschen genauer betrachten!**"
   ]
  },
  {
   "cell_type": "code",
   "execution_count": 12,
   "metadata": {},
   "outputs": [],
   "source": [
    "def ergebnis_ausgeben(a, b):\n",
    "    \"\"\" Addiere zwei Variablen und zeige das Ergebnis an. \"\"\"\n",
    "    \n",
    "    print(a + b)"
   ]
  },
  {
   "cell_type": "code",
   "execution_count": 13,
   "metadata": {},
   "outputs": [],
   "source": [
    "def ergebnis_zurueckgeben(a, b):\n",
    "    \"\"\" Addiere zwei Variablen und gib das Ergebnis zurück. \"\"\"\n",
    "\n",
    "    return a + b"
   ]
  },
  {
   "cell_type": "code",
   "execution_count": 14,
   "metadata": {},
   "outputs": [
    {
     "name": "stdout",
     "output_type": "stream",
     "text": [
      "15\n"
     ]
    }
   ],
   "source": [
    "ergebnis_ausgeben(10, 5)"
   ]
  },
  {
   "cell_type": "code",
   "execution_count": 15,
   "metadata": {},
   "outputs": [
    {
     "data": {
      "text/plain": [
       "15"
      ]
     },
     "execution_count": 15,
     "metadata": {},
     "output_type": "execute_result"
    }
   ],
   "source": [
    "# Achtung: in einem Python-Script .py würde dies überhaupt keine Ausgabe produzieren!\n",
    "ergebnis_zurueckgeben(10, 5)"
   ]
  },
  {
   "cell_type": "markdown",
   "metadata": {},
   "source": [
    "**Aber was passiert, wenn du dieses Ergebnis zur Weiterverarbeitung speichern willst?**"
   ]
  },
  {
   "cell_type": "code",
   "execution_count": 16,
   "metadata": {},
   "outputs": [
    {
     "name": "stdout",
     "output_type": "stream",
     "text": [
      "40\n"
     ]
    }
   ],
   "source": [
    "ergebnis = ergebnis_ausgeben(20, 20)"
   ]
  },
  {
   "cell_type": "code",
   "execution_count": 17,
   "metadata": {},
   "outputs": [],
   "source": [
    "ergebnis"
   ]
  },
  {
   "cell_type": "code",
   "execution_count": 18,
   "metadata": {},
   "outputs": [
    {
     "data": {
      "text/plain": [
       "NoneType"
      ]
     },
     "execution_count": 18,
     "metadata": {},
     "output_type": "execute_result"
    }
   ],
   "source": [
    "type(ergebnis)"
   ]
  },
  {
   "cell_type": "markdown",
   "metadata": {},
   "source": [
    "**Achtung! ergebnis_ausgeben() hat, wie gezeigt, keinen Wert zurückgegeben, der gespeichert werden könnte! Nach der Ausgabe gibt die Funktion lediglich den Wert None zurück!**"
   ]
  },
  {
   "cell_type": "code",
   "execution_count": 19,
   "metadata": {},
   "outputs": [],
   "source": [
    "ergebnis = ergebnis_zurueckgeben(20, 20)"
   ]
  },
  {
   "cell_type": "code",
   "execution_count": 20,
   "metadata": {},
   "outputs": [
    {
     "data": {
      "text/plain": [
       "40"
      ]
     },
     "execution_count": 20,
     "metadata": {},
     "output_type": "execute_result"
    }
   ],
   "source": [
    "ergebnis"
   ]
  },
  {
   "cell_type": "code",
   "execution_count": 21,
   "metadata": {},
   "outputs": [
    {
     "data": {
      "text/plain": [
       "80"
      ]
     },
     "execution_count": 21,
     "metadata": {},
     "output_type": "execute_result"
    }
   ],
   "source": [
    "ergebnis + ergebnis"
   ]
  },
  {
   "cell_type": "markdown",
   "metadata": {},
   "source": [
    "# Einer Funktion interne Logikoperationen hinzufügen\n",
    "\n",
    "Wir haben bereits gelernt, wie man logische Anweisungen unter anderem mit `if/then/else`, `for`- und `while`-Schleifen sowie Listenzugehörigkeitsoperationen mit `in` und `not in` in Python formuliert. Lasst uns solcherart Logikoperationen nun in einer Funktion verwenden."
   ]
  },
  {
   "cell_type": "markdown",
   "metadata": {},
   "source": [
    "### Prüfe, ob eine Zahl gerade ist\n",
    "**Erinnere dich an den Modulooperator %, welcher den Rest einer Integerdivision zurückgibt. Wenn eine Zahl gerade ist, dann gibt % 2 den Rest 0 zurück.**"
   ]
  },
  {
   "cell_type": "code",
   "execution_count": 22,
   "metadata": {},
   "outputs": [
    {
     "data": {
      "text/plain": [
       "0"
      ]
     },
     "execution_count": 22,
     "metadata": {},
     "output_type": "execute_result"
    }
   ],
   "source": [
    "2 % 2"
   ]
  },
  {
   "cell_type": "code",
   "execution_count": 23,
   "metadata": {},
   "outputs": [
    {
     "data": {
      "text/plain": [
       "0"
      ]
     },
     "execution_count": 23,
     "metadata": {},
     "output_type": "execute_result"
    }
   ],
   "source": [
    "20 % 2"
   ]
  },
  {
   "cell_type": "code",
   "execution_count": 24,
   "metadata": {},
   "outputs": [
    {
     "data": {
      "text/plain": [
       "1"
      ]
     },
     "execution_count": 24,
     "metadata": {},
     "output_type": "execute_result"
    }
   ],
   "source": [
    "21 % 2"
   ]
  },
  {
   "cell_type": "code",
   "execution_count": 25,
   "metadata": {},
   "outputs": [
    {
     "data": {
      "text/plain": [
       "True"
      ]
     },
     "execution_count": 25,
     "metadata": {},
     "output_type": "execute_result"
    }
   ],
   "source": [
    "20 % 2 == 0"
   ]
  },
  {
   "cell_type": "code",
   "execution_count": 26,
   "metadata": {},
   "outputs": [
    {
     "data": {
      "text/plain": [
       "False"
      ]
     },
     "execution_count": 26,
     "metadata": {},
     "output_type": "execute_result"
    }
   ],
   "source": [
    "21 % 2 == 0"
   ]
  },
  {
   "cell_type": "markdown",
   "metadata": {},
   "source": [
    "**Lasst uns eine Funktion enwicklen. Beachte, wir geben einfach die bool'sche Auswertung zurück.**"
   ]
  },
  {
   "cell_type": "code",
   "execution_count": 27,
   "metadata": {},
   "outputs": [],
   "source": [
    "def gerade_test(nummer):\n",
    "    \"\"\" Teste, ob eine Zahl gerade ist, und gib das Ergebnis als bool'schen Wert zurück. \"\"\"\n",
    "    \n",
    "    return nummer % 2 == 0"
   ]
  },
  {
   "cell_type": "code",
   "execution_count": 28,
   "metadata": {},
   "outputs": [
    {
     "data": {
      "text/plain": [
       "True"
      ]
     },
     "execution_count": 28,
     "metadata": {},
     "output_type": "execute_result"
    }
   ],
   "source": [
    "gerade_test(20)"
   ]
  },
  {
   "cell_type": "code",
   "execution_count": 29,
   "metadata": {},
   "outputs": [
    {
     "data": {
      "text/plain": [
       "False"
      ]
     },
     "execution_count": 29,
     "metadata": {},
     "output_type": "execute_result"
    }
   ],
   "source": [
    "gerade_test(21)"
   ]
  },
  {
   "cell_type": "markdown",
   "metadata": {},
   "source": [
    "### Prüfe, ob eine Liste eine gerade Zahl enthält\n",
    "\n",
    "Lasst uns einen bool'schen Wert zurückgeben, der uns sagt, ob **mindestens** eine Zahl in einer Liste gerade ist. Beachte, dass hier `return` die Schleife und damit die Funktion beendet."
   ]
  },
  {
   "cell_type": "code",
   "execution_count": 30,
   "metadata": {},
   "outputs": [],
   "source": [
    "def gerade_test_liste(num_liste):\n",
    "    \"\"\" Gib True zurück, falls mindestens eine Zahl in der Eingabeliste gerade ist. \"\"\"\n",
    "\n",
    "    # Iteriere über alle Zahlen\n",
    "    for nummer in num_liste:\n",
    "        # Wenn eine Zahl gerade ist, gib True zurück\n",
    "        if nummer % 2 == 0:\n",
    "            return True\n",
    "        # Tue nichts ansonsten\n",
    "        else:\n",
    "            pass"
   ]
  },
  {
   "cell_type": "markdown",
   "metadata": {},
   "source": [
    "**Reicht das? NEIN! Wir geben nichts zurück, wenn alle Zahlen ungerade sind!**"
   ]
  },
  {
   "cell_type": "code",
   "execution_count": 31,
   "metadata": {},
   "outputs": [
    {
     "data": {
      "text/plain": [
       "True"
      ]
     },
     "execution_count": 31,
     "metadata": {},
     "output_type": "execute_result"
    }
   ],
   "source": [
    "gerade_test_liste([1, 2, 3])"
   ]
  },
  {
   "cell_type": "code",
   "execution_count": 32,
   "metadata": {},
   "outputs": [],
   "source": [
    "gerade_test_liste([1, 1, 1])"
   ]
  },
  {
   "cell_type": "markdown",
   "metadata": {},
   "source": [
    "**SEHR HÄUFIGER FEHLER!! LASST UNS EINEN WEITEREN, HÄUFIGEN LOGIKFEHLER BETRACHTEN!!!**"
   ]
  },
  {
   "cell_type": "code",
   "execution_count": 33,
   "metadata": {},
   "outputs": [],
   "source": [
    "def gerade_test_liste(num_liste):\n",
    "    \"\"\" Gib True zurück, falls mindestens eine Zahl in der Eingabeliste gerade ist. \"\"\"\n",
    "    \n",
    "    # Iteriere über alle Zahlen\n",
    "    for nummer in num_liste:\n",
    "        # Wenn eine Zahl gerade ist, gib True zurück\n",
    "        if nummer % 2 == 0:\n",
    "            return True\n",
    "        # Das ist FALSCH! Hiermit wird False bei der allerersten ungeraden Zahl zurückgegeben!\n",
    "        # Die anderen Zahlen der Liste werden nicht weiter beachtet!\n",
    "        else:\n",
    "            return False"
   ]
  },
  {
   "cell_type": "code",
   "execution_count": 34,
   "metadata": {},
   "outputs": [
    {
     "data": {
      "text/plain": [
       "False"
      ]
     },
     "execution_count": 34,
     "metadata": {},
     "output_type": "execute_result"
    }
   ],
   "source": [
    "# UH OH! Hier wird False nach Betrachtung der ersten Zahl, 1, zurückgegeben!\n",
    "gerade_test_liste([1, 2, 3])"
   ]
  },
  {
   "cell_type": "markdown",
   "metadata": {},
   "source": [
    "**Richtiger Ansatz: Gib False zurück, nachdem über die gesamte Liste iteriert und keine gerade Zahl gefunden wurde.**"
   ]
  },
  {
   "cell_type": "code",
   "execution_count": 35,
   "metadata": {},
   "outputs": [],
   "source": [
    "def gerade_test_liste(num_liste):\n",
    "    \"\"\" Gib True zurück, falls mindestens eine Zahl in der Eingabeliste gerade ist. \n",
    "    Gib ansonsten False zurück.\n",
    "    \"\"\"\n",
    "    \n",
    "    # Iteriere über alle Zahlen\n",
    "    for nummer in num_liste:\n",
    "        # Wenn eine Zahl gerade ist, gib True zurück\n",
    "        if nummer % 2 == 0:\n",
    "            return True\n",
    "        # Tue nichts, wenn die Zahl ungerade ist\n",
    "        else:\n",
    "            pass\n",
    "    # Beachte die Einrückung! Dies stellt sicher, dass die Schleife vorher durchgelaufen ist!\n",
    "    return False"
   ]
  },
  {
   "cell_type": "code",
   "execution_count": 36,
   "metadata": {},
   "outputs": [
    {
     "data": {
      "text/plain": [
       "True"
      ]
     },
     "execution_count": 36,
     "metadata": {},
     "output_type": "execute_result"
    }
   ],
   "source": [
    "gerade_test_liste([1, 2, 3])"
   ]
  },
  {
   "cell_type": "code",
   "execution_count": 37,
   "metadata": {},
   "outputs": [
    {
     "data": {
      "text/plain": [
       "False"
      ]
     },
     "execution_count": 37,
     "metadata": {},
     "output_type": "execute_result"
    }
   ],
   "source": [
    "gerade_test_liste([1, 3, 5])"
   ]
  },
  {
   "cell_type": "markdown",
   "metadata": {},
   "source": [
    "### Alle geraden Zahlen einer Liste zurückgeben\n",
    "\n",
    "Lasst uns die Komplexität ein wenig erhöhen. Wir werden jetzt alle geraden Zahlen der Eingabeliste in einer Ergebnisliste zurückgeben, oder eine leere Liste falls es keine gibt."
   ]
  },
  {
   "cell_type": "code",
   "execution_count": 38,
   "metadata": {},
   "outputs": [],
   "source": [
    "def gerade_test_liste(num_liste):\n",
    "    \"\"\" Gib alle geraden Zahlen der Eingabeliste als Liste zurück. \"\"\"\n",
    "\n",
    "    gerade_zahlen = []\n",
    "\n",
    "    # Iteriere über alle Zahlen\n",
    "    for nummer in num_liste:\n",
    "        # Wenn eine Zahl gerade ist, füge sie der Ergebnisliste hinzu\n",
    "        if nummer % 2 == 0:\n",
    "            gerade_zahlen.append(nummer)\n",
    "        # Tue nichts, wenn die Zahl ungerade ist\n",
    "        else:\n",
    "            pass\n",
    "    # Beachte die Einrückung! Dies stellt sicher, dass die Schleife vorher durchgelaufen ist!\n",
    "    return gerade_zahlen"
   ]
  },
  {
   "cell_type": "code",
   "execution_count": 39,
   "metadata": {},
   "outputs": [
    {
     "data": {
      "text/plain": [
       "[2, 4, 6]"
      ]
     },
     "execution_count": 39,
     "metadata": {},
     "output_type": "execute_result"
    }
   ],
   "source": [
    "gerade_test_liste([1, 2, 3, 4, 5, 6])"
   ]
  },
  {
   "cell_type": "code",
   "execution_count": 40,
   "metadata": {},
   "outputs": [
    {
     "data": {
      "text/plain": [
       "[]"
      ]
     },
     "execution_count": 40,
     "metadata": {},
     "output_type": "execute_result"
    }
   ],
   "source": [
    "gerade_test_liste([1, 3, 5])"
   ]
  },
  {
   "cell_type": "markdown",
   "metadata": {},
   "source": [
    "## tuple unpacking Wiederholung\n",
    "\n",
    "**Wie bereits gezeigt kann einfach über eine Liste von Tupeln mit Entpackung ihrer Werte iteriert werden.**"
   ]
  },
  {
   "cell_type": "code",
   "execution_count": 41,
   "metadata": {},
   "outputs": [],
   "source": [
    "boersenwerte = [('AAPL', 200), ('GOOG', 300), ('MSFT', 400)]"
   ]
  },
  {
   "cell_type": "code",
   "execution_count": 42,
   "metadata": {},
   "outputs": [
    {
     "name": "stdout",
     "output_type": "stream",
     "text": [
      "('AAPL', 200)\n",
      "('GOOG', 300)\n",
      "('MSFT', 400)\n"
     ]
    }
   ],
   "source": [
    "for item in boersenwerte:\n",
    "    print(item)"
   ]
  },
  {
   "cell_type": "code",
   "execution_count": 43,
   "metadata": {},
   "outputs": [
    {
     "name": "stdout",
     "output_type": "stream",
     "text": [
      "AAPL\n",
      "GOOG\n",
      "MSFT\n"
     ]
    }
   ],
   "source": [
    "for firma, preis in boersenwerte:\n",
    "    print(firma)"
   ]
  },
  {
   "cell_type": "code",
   "execution_count": 44,
   "metadata": {},
   "outputs": [
    {
     "name": "stdout",
     "output_type": "stream",
     "text": [
      "200\n",
      "300\n",
      "400\n"
     ]
    }
   ],
   "source": [
    "for firma, preis in boersenwerte:\n",
    "    print(preis)"
   ]
  },
  {
   "cell_type": "markdown",
   "metadata": {},
   "source": [
    "**Ähnlich dazu geben Funktionen of Tupel zurück, damit multiple Rückgabewerte einfach verwendet werden können.**\n",
    "\n",
    "Betrachte die folgende Liste:"
   ]
  },
  {
   "cell_type": "code",
   "execution_count": 45,
   "metadata": {},
   "outputs": [],
   "source": [
    "arbeitsstunden = [('Abby', 100), ('Billy', 400), ('Cassie', 800)]"
   ]
  },
  {
   "cell_type": "markdown",
   "metadata": {},
   "source": [
    "Wir schreiben eine Funktion, die den Mitarbeiter des Monats (nach Anzahl Arbeitsstunden) mit Namen und der Anzahl der Arbeitsstunden zurückgibt."
   ]
  },
  {
   "cell_type": "code",
   "execution_count": 46,
   "metadata": {},
   "outputs": [],
   "source": [
    "def bester_mitarbeiter(arbeitsstunden):\n",
    "    \"\"\" Ermittele in einer Liste von Tupeln (Name, Arbeitsstunden) das\n",
    "    Tupel mit der höchsten Anzahl Arbeitsstunden zurück.\n",
    "    \"\"\"\n",
    "\n",
    "    # Initialisiere mit 0 für die Suche nach einem höheren Wert\n",
    "    aktuelles_max = 0\n",
    "    # Setze einen leeren Namen vor der Schleife\n",
    "    bester_mitarbeiter = ''\n",
    "\n",
    "    for mitarbeiter, stunden in arbeitsstunden:\n",
    "        if stunden > aktuelles_max:\n",
    "            aktuelles_max = stunden\n",
    "            bester_mitarbeiter = mitarbeiter\n",
    "        else:\n",
    "            pass\n",
    "\n",
    "    # Beachte die Einrückung\n",
    "    return (bester_mitarbeiter, aktuelles_max)"
   ]
  },
  {
   "cell_type": "code",
   "execution_count": 47,
   "metadata": {},
   "outputs": [
    {
     "data": {
      "text/plain": [
       "('Cassie', 800)"
      ]
     },
     "execution_count": 47,
     "metadata": {},
     "output_type": "execute_result"
    }
   ],
   "source": [
    "bester_mitarbeiter(arbeitsstunden)"
   ]
  },
  {
   "cell_type": "markdown",
   "metadata": {},
   "source": [
    "## Interaktionen zwischen Funktionen\n",
    "\n",
    "Funktionen verwenden häufig die Ergebnisse anderer Funktionen. Lasst uns dies anhand eines einfachen Beispiels in Form eines Ratespiels betrachten. Wir verwenden eine Liste mit drei Elementen. Eines der Elemente ist 'O' und der Spieler soll erraten, an welcher Position sich das 'O' befindet. Wir nehmen dafür eine Funktion, welche die Liste mischt, eine Funktion zur Annahme der Spielereingabe und zuletzt eine Funktion, die checkt, ob der Spieler korrekt geraten hat. Das entspricht dem klassischen Strassenspiel mit drei Hütchen und einer Kugel."
   ]
  },
  {
   "cell_type": "markdown",
   "metadata": {},
   "source": [
    "**Eine Liste in Python mischen**"
   ]
  },
  {
   "cell_type": "code",
   "execution_count": 48,
   "metadata": {},
   "outputs": [],
   "source": [
    "beispiel = [1, 2, 3, 4, 5]"
   ]
  },
  {
   "cell_type": "code",
   "execution_count": 49,
   "metadata": {},
   "outputs": [],
   "source": [
    "from random import shuffle"
   ]
  },
  {
   "cell_type": "code",
   "execution_count": 50,
   "metadata": {},
   "outputs": [],
   "source": [
    "# shuffle ist in-place, beispiel wird ohne Neuzuweisung direkt gemischt\n",
    "shuffle(beispiel)"
   ]
  },
  {
   "cell_type": "code",
   "execution_count": 51,
   "metadata": {},
   "outputs": [
    {
     "data": {
      "text/plain": [
       "[3, 2, 5, 4, 1]"
      ]
     },
     "execution_count": 51,
     "metadata": {},
     "output_type": "execute_result"
    }
   ],
   "source": [
    "beispiel"
   ]
  },
  {
   "cell_type": "markdown",
   "metadata": {},
   "source": [
    "**OK, lasst uns unser Spiel schreiben**"
   ]
  },
  {
   "cell_type": "code",
   "execution_count": 52,
   "metadata": {},
   "outputs": [],
   "source": [
    "meine_liste = [' ','O',' ']"
   ]
  },
  {
   "cell_type": "code",
   "execution_count": 53,
   "metadata": {},
   "outputs": [],
   "source": [
    "def liste_mischen(meine_liste):\n",
    "    \"\"\" Mische die Eingabeliste und gib sie zurück. \"\"\"\n",
    "    \n",
    "    # Nimm eine Liste als Parameter und gib die gemischte Liste zurück\n",
    "    shuffle(meine_liste)\n",
    "    \n",
    "    return meine_liste"
   ]
  },
  {
   "cell_type": "code",
   "execution_count": 54,
   "metadata": {},
   "outputs": [
    {
     "data": {
      "text/plain": [
       "[' ', 'O', ' ']"
      ]
     },
     "execution_count": 54,
     "metadata": {},
     "output_type": "execute_result"
    }
   ],
   "source": [
    "meine_liste "
   ]
  },
  {
   "cell_type": "code",
   "execution_count": 56,
   "metadata": {},
   "outputs": [
    {
     "data": {
      "text/plain": [
       "[' ', ' ', 'O']"
      ]
     },
     "execution_count": 56,
     "metadata": {},
     "output_type": "execute_result"
    }
   ],
   "source": [
    "liste_mischen(meine_liste)"
   ]
  },
  {
   "cell_type": "code",
   "execution_count": 57,
   "metadata": {},
   "outputs": [],
   "source": [
    "def spielereingabe():\n",
    "    \"\"\" Iteriere so lange, bis der Nutzer entweder '0', '1' oder '2' eingibt,\n",
    "    und gib diesen Wert als Integer zurück.\n",
    "    \"\"\"\n",
    "\n",
    "    eingabe = ''\n",
    "\n",
    "    while eingabe not in ['0', '1', '2']:\n",
    "\n",
    "        # Bedenke: input() gibt einen String zurück\n",
    "        eingabe = input(\"Wähle eine Nummer: 0, 1, or 2:  \")\n",
    "\n",
    "    return int(eingabe)"
   ]
  },
  {
   "cell_type": "code",
   "execution_count": 58,
   "metadata": {},
   "outputs": [
    {
     "name": "stdout",
     "output_type": "stream",
     "text": [
      "Wähle eine Nummer: 0, 1, or 2:  1\n"
     ]
    },
    {
     "data": {
      "text/plain": [
       "1"
      ]
     },
     "execution_count": 58,
     "metadata": {},
     "output_type": "execute_result"
    }
   ],
   "source": [
    "spielereingabe()"
   ]
  },
  {
   "cell_type": "markdown",
   "metadata": {},
   "source": [
    "Jetzt checken wir die Eingabe des Spielers. Beachte, dass wir hier nur ausgeben, da wir weder die Eingabe noch die gemischte Liste speichern müssen."
   ]
  },
  {
   "cell_type": "code",
   "execution_count": 59,
   "metadata": {},
   "outputs": [],
   "source": [
    "def eingabe_testen(meine_liste, eingabe):\n",
    "    \"\"\" Überprüfe, ob die vom Spieler vorgeschlagene Position eingabe\n",
    "    ein 'O' in meine_liste hat und erzeuge eine entsprechende Ausgabe.\n",
    "    \"\"\"\n",
    "    \n",
    "    if meine_liste[eingabe] == 'O':\n",
    "        print('Richtig geraten!')\n",
    "    else:\n",
    "        print('Falsch! Mehr Glück beim nächsten mal')\n",
    "        print(meine_liste)"
   ]
  },
  {
   "cell_type": "markdown",
   "metadata": {},
   "source": [
    "Jetzt brauchen wir nur noch ein bisschen Programmlogik für die Funktionsinteraktionen:"
   ]
  },
  {
   "cell_type": "code",
   "execution_count": 60,
   "metadata": {},
   "outputs": [
    {
     "name": "stdout",
     "output_type": "stream",
     "text": [
      "Wähle eine Nummer: 0, 1, or 2:  1\n",
      "Falsch! Mehr Glück beim nächsten mal\n",
      "['O', ' ', ' ']\n"
     ]
    }
   ],
   "source": [
    "# Liste initialisieren\n",
    "meine_liste = [' ', 'O', ' ']\n",
    "\n",
    "# Liste mischen\n",
    "gemischte_liste = liste_mischen(meine_liste)\n",
    "\n",
    "# Spielereingabe ermitteln\n",
    "eingabe = spielereingabe()\n",
    "\n",
    "# Checke die Spielereingabe\n",
    "# ------------------------\n",
    "# Beachte, wie diese Funktion die Ausgabe einer anderen Funktion als Eingabe annimmt!\n",
    "eingabe_testen(gemischte_liste, eingabe)"
   ]
  },
  {
   "cell_type": "markdown",
   "metadata": {},
   "source": [
    "Du solltest jetzt ein grundlegendes Verständnis für das entwickeln eigener Funktionen haben, so dass du die selbe Funktionalität nicht wiederholt schreiben musst!\n",
    "\n",
    "## Spitze!"
   ]
  }
 ],
 "metadata": {
  "kernelspec": {
   "display_name": "Python 3",
   "language": "python",
   "name": "python3"
  },
  "language_info": {
   "codemirror_mode": {
    "name": "ipython",
    "version": 3
   },
   "file_extension": ".py",
   "mimetype": "text/x-python",
   "name": "python",
   "nbconvert_exporter": "python",
   "pygments_lexer": "ipython3",
   "version": "3.8.5"
  },
  "varInspector": {
   "cols": {
    "lenName": 16,
    "lenType": 16,
    "lenVar": 40
   },
   "kernels_config": {
    "python": {
     "delete_cmd_postfix": "",
     "delete_cmd_prefix": "del ",
     "library": "var_list.py",
     "varRefreshCmd": "print(var_dic_list())"
    },
    "r": {
     "delete_cmd_postfix": ") ",
     "delete_cmd_prefix": "rm(",
     "library": "var_list.r",
     "varRefreshCmd": "cat(var_dic_list()) "
    }
   },
   "types_to_exclude": [
    "module",
    "function",
    "builtin_function_or_method",
    "instance",
    "_Feature"
   ],
   "window_display": false
  }
 },
 "nbformat": 4,
 "nbformat_minor": 1
}
