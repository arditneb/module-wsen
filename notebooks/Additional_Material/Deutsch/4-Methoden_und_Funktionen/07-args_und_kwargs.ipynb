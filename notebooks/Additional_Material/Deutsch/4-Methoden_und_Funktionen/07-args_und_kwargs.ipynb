{
 "cells": [
  {
   "cell_type": "markdown",
   "metadata": {},
   "source": [
    "<a href='https://www.datamics.com/courses/online-courses/'>![title](bg_datamics_top.png)</a>\n",
    "___\n",
    "<center><em>© Datamics</em></center>\n",
    "<center><em>Besuche uns für mehr Informationen auf <a href='https://www.datamics.com/courses/online-courses/'>www.datamics.com</a></em></center>"
   ]
  },
  {
   "cell_type": "markdown",
   "metadata": {},
   "source": [
    "# `*args` und `**kwargs`\n",
    "\n",
    "Wenn du lange genug mit Python arbeitest, wirst du auf `*args` und `**kwargs` treffen. Diese eigenartigen Begriffe tauchen als Parameter in Funktionsdefinitionen auf. Was tun sie? Lasst uns eine einfache Funktion betrachten:"
   ]
  },
  {
   "cell_type": "code",
   "execution_count": 1,
   "metadata": {},
   "outputs": [
    {
     "data": {
      "text/plain": [
       "5.0"
      ]
     },
     "execution_count": 1,
     "metadata": {},
     "output_type": "execute_result"
    }
   ],
   "source": [
    "def meine_func(a, b):\n",
    "    \"\"\" Multipliziert die Summe der beiden Eingabevariablen a und b\n",
    "    mit 0.05 und gibt das Ergebnis zurück. \n",
    "    \"\"\"\n",
    "    \n",
    "    return sum((a, b)) * 0.05\n",
    "\n",
    "\n",
    "meine_func(40, 60)"
   ]
  },
  {
   "cell_type": "markdown",
   "metadata": {},
   "source": [
    "Diese Funktion gibt 5% der Summe von **a** und **b** zurück. In diesem Beispiel sind **a** und **b** positionsabhängige Parameter; das bedeutet, 40 wurde **a** zugewiesen, da es das erste Argument ist, und 60 zu **b**. Beachte auch, dass `sum()` mehrere positionsabhängige Parameter als Tupel übergeben wurde.\n",
    "\n",
    "Was, wenn wir mit mehr als zwei Zahlen arbeiten wollen? Wir könnten entweder eine *Menge* Parameter mit Standardwerten definieren:"
   ]
  },
  {
   "cell_type": "code",
   "execution_count": 2,
   "metadata": {},
   "outputs": [
    {
     "data": {
      "text/plain": [
       "6.0"
      ]
     },
     "execution_count": 2,
     "metadata": {},
     "output_type": "execute_result"
    }
   ],
   "source": [
    "def meine_func(a=0, b=0, c=0, d=0, e=0):\n",
    "    \"\"\" Multipliziert die Summe der Eingabevariablen a, b, c, d und e\n",
    "    mit 0.05 und gibt das Ergebnis zurück. \n",
    "    \"\"\"\n",
    "    \n",
    "    return sum((a, b, c, d, e)) * 0.05\n",
    "\n",
    "\n",
    "meine_func(40, 60, 20)"
   ]
  },
  {
   "cell_type": "markdown",
   "metadata": {},
   "source": [
    "Das ist offensichtlich keine sehr effiziente Lösung und der richtige Punkt für die Anwendung von `args`.\n",
    "\n",
    "## `*args`\n",
    "\n",
    "Wenn ein Funktionsparameter mit einem Stern (engl. asterisk) beginnt, erlaubt er die Übergabe einer *beliebigen* Anzahl von Parametern und nimmt sie als ein Tupel von Werten an. Obige Funktion sieht dann so aus:"
   ]
  },
  {
   "cell_type": "code",
   "execution_count": 3,
   "metadata": {},
   "outputs": [
    {
     "data": {
      "text/plain": [
       "6.0"
      ]
     },
     "execution_count": 3,
     "metadata": {},
     "output_type": "execute_result"
    }
   ],
   "source": [
    "def meine_func(*args):\n",
    "    \"\"\" Multipliziert die Summe einer beliebigen Anzahl von Eingabevariablen\n",
    "    mit 0.05 und gibt das Ergebnis zurück. \n",
    "    \"\"\"\n",
    "    \n",
    "    return sum(args) * 0.05\n",
    "\n",
    "\n",
    "meine_func(40, 60, 20)"
   ]
  },
  {
   "cell_type": "markdown",
   "metadata": {},
   "source": [
    "Beachte, dass die Übergabe von `args` in die Funktion `sum()` den selben Effekt hat, wie die Übergabe eines Tupels von Argumenten.\n",
    "\n",
    "Der Parameter muss dabei nicht `args` heissen - ein beliebiger Variablenname funktioniert auch, siehe"
   ]
  },
  {
   "cell_type": "code",
   "execution_count": 4,
   "metadata": {},
   "outputs": [
    {
     "data": {
      "text/plain": [
       "6.0"
      ]
     },
     "execution_count": 4,
     "metadata": {},
     "output_type": "execute_result"
    }
   ],
   "source": [
    "def meine_func(*spam):\n",
    "    \"\"\" Multipliziert die Summe einer beliebigen Anzahl von Eingabevariablen\n",
    "    mit 0.05 und gibt das Ergebnis zurück. \n",
    "    \"\"\"\n",
    "    \n",
    "    return sum(spam) * 0.05\n",
    "\n",
    "\n",
    "meine_func(40, 60, 20)"
   ]
  },
  {
   "cell_type": "markdown",
   "metadata": {},
   "source": [
    "## `**kwargs`\n",
    "\n",
    "Ähnlich dazu bietet Python eine Möglichkeit zum Umgang mit Parametern mit *Schlüsselwörtern*. Anstelle eines Tupels von Parametern bildet `**kwargs` ein Dictionary von Schlüssel/Wert-Paaren. Zum Beispiel:"
   ]
  },
  {
   "cell_type": "code",
   "execution_count": 5,
   "metadata": {},
   "outputs": [
    {
     "name": "stdout",
     "output_type": "stream",
     "text": [
      "Meine Lieblingsfrucht ist Ananas\n"
     ]
    }
   ],
   "source": [
    "def meine_func(**kwargs):\n",
    "    \"\"\" Überprüft, ob die Schlüsselwort-Eingabeparameter den Schlüssel 'frucht'\n",
    "    enthält und gibt einen dazu passenden String aus.\n",
    "    \"\"\"\n",
    "    \n",
    "    if 'frucht' in kwargs:\n",
    "        # Wiederhole hier bei Bedar die in einem früheren Abschnitt gezeigte f-Stringsyntax\n",
    "        print(f\"Meine Lieblingsfrucht ist {kwargs['frucht']}\")  \n",
    "    else:\n",
    "        print(\"Ich mag keine Früchte\")\n",
    "        \n",
    "meine_func(frucht='Ananas')"
   ]
  },
  {
   "cell_type": "code",
   "execution_count": 6,
   "metadata": {},
   "outputs": [
    {
     "name": "stdout",
     "output_type": "stream",
     "text": [
      "Ich mag keine Früchte\n"
     ]
    }
   ],
   "source": [
    "meine_func()"
   ]
  },
  {
   "cell_type": "markdown",
   "metadata": {},
   "source": [
    "## `*args` und `**kwargs` kombiniert\n",
    "\n",
    "`*args` und `**kwargs` können der gleichen Funktion übergeben werden, aber `*args` muss vor `**kwargs` stehen."
   ]
  },
  {
   "cell_type": "code",
   "execution_count": 7,
   "metadata": {},
   "outputs": [
    {
     "name": "stdout",
     "output_type": "stream",
     "text": [
      "Ich mag eier und spam und meine Lieblingsfrucht ist kirschen\n",
      "Kann ich etwas Orangensaft haben?\n"
     ]
    }
   ],
   "source": [
    "def meine_func(*args, **kwargs):\n",
    "    \"\"\" Demonstration der Übergabe von beliebig vielen Eingabeparametern \n",
    "    zusammen mit Eingabeparametern mit Schlüsselwörtern.\n",
    "    \"\"\"\n",
    "    \n",
    "    if 'frucht' and 'saft' in kwargs:\n",
    "        print(\n",
    "            f\"Ich mag {' und '.join(args)} und meine Lieblingsfrucht ist {kwargs['frucht']}\")\n",
    "        print(f\"Kann ich etwas {kwargs['saft']}saft haben?\")\n",
    "    else:\n",
    "        pass\n",
    "\n",
    "\n",
    "meine_func('eier', 'spam', frucht='kirschen', saft='Orangen')"
   ]
  },
  {
   "cell_type": "markdown",
   "metadata": {},
   "source": [
    "Schlüsselwortparameter vor positionsabhängigen Parametern wirft eine Exception:"
   ]
  },
  {
   "cell_type": "code",
   "execution_count": 8,
   "metadata": {},
   "outputs": [
    {
     "ename": "SyntaxError",
     "evalue": "positional argument follows keyword argument (<ipython-input-8-fbf73075fc5e>, line 1)",
     "output_type": "error",
     "traceback": [
      "\u001b[0;36m  File \u001b[0;32m\"<ipython-input-8-fbf73075fc5e>\"\u001b[0;36m, line \u001b[0;32m1\u001b[0m\n\u001b[0;31m    meine_func(frucht='kirschen', saft='Orangen', 'eier', 'spam')\u001b[0m\n\u001b[0m                                                  ^\u001b[0m\n\u001b[0;31mSyntaxError\u001b[0m\u001b[0;31m:\u001b[0m positional argument follows keyword argument\n"
     ]
    }
   ],
   "source": [
    "meine_func(frucht='kirschen', saft='Orangen', 'eier', 'spam')"
   ]
  },
  {
   "cell_type": "markdown",
   "metadata": {},
   "source": [
    "Für `kwargs` kannst du ebenfalls einen beliebigen Variablennamen wählen, jedoch ist `kwargs` allgemeine Ḱonvention.\n",
    "\n",
    "Das wars! Du solltest jetzt verstanden haben, wie `*args` und `**kwargs` das flexible Arbeiten mit einer beliebigen Anzahl von Parametern erlaubt.\n",
    "\n",
    "## Wunderbar!"
   ]
  }
 ],
 "metadata": {
  "kernelspec": {
   "display_name": "Python 3",
   "language": "python",
   "name": "python3"
  },
  "language_info": {
   "codemirror_mode": {
    "name": "ipython",
    "version": 3
   },
   "file_extension": ".py",
   "mimetype": "text/x-python",
   "name": "python",
   "nbconvert_exporter": "python",
   "pygments_lexer": "ipython3",
   "version": "3.8.5"
  },
  "varInspector": {
   "cols": {
    "lenName": 16,
    "lenType": 16,
    "lenVar": 40
   },
   "kernels_config": {
    "python": {
     "delete_cmd_postfix": "",
     "delete_cmd_prefix": "del ",
     "library": "var_list.py",
     "varRefreshCmd": "print(var_dic_list())"
    },
    "r": {
     "delete_cmd_postfix": ") ",
     "delete_cmd_prefix": "rm(",
     "library": "var_list.r",
     "varRefreshCmd": "cat(var_dic_list()) "
    }
   },
   "types_to_exclude": [
    "module",
    "function",
    "builtin_function_or_method",
    "instance",
    "_Feature"
   ],
   "window_display": false
  }
 },
 "nbformat": 4,
 "nbformat_minor": 2
}
