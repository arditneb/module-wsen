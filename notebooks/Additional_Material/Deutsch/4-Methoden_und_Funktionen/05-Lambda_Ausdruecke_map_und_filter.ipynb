{
 "cells": [
  {
   "cell_type": "markdown",
   "metadata": {},
   "source": [
    "<a href=\"https://www.datamics.com/courses/online-courses/\">![title](bg_datamics_top.png)</a>\n",
    "\n",
    "<center><em>© Datamics</em></center><br><center><em>Besuche uns für mehr Informationen auf <a href='https://www.datamics.com/courses/online-courses/'>www.datamics.com</a></em>"
   ]
  },
  {
   "cell_type": "markdown",
   "metadata": {},
   "source": [
    "# Lambda-Ausdrücke, Map und Filter\n",
    "\n",
    "Es ist an der Zeit, dass wir zwei wichtige Funktionen von Python kennenlernen: `filter` und `map`. Nachdem wir gelernt haben, wie diese arbeiten, können wir uns mit Lambda-Ausdrücken beschäftigen, was dein Wissen um eine wertvolle Fähigkeit erweitert!"
   ]
  },
  {
   "cell_type": "markdown",
   "metadata": {},
   "source": [
    "## Funktion map\n",
    "\n",
    "Die Funktion `map` erlaubt es dir, eine Funktion auf ein iterierbares Objekt zu *mappen*: die übergebene Funktion wird auf alle Elemente, z.B. einer Liste, angewendet. Zum Beispiel:"
   ]
  },
  {
   "cell_type": "code",
   "execution_count": 1,
   "metadata": {},
   "outputs": [],
   "source": [
    "def quadrat(num):\n",
    "    \"\"\" Gibt das Quadrat der Eingabe zurück. \"\"\"\n",
    "    \n",
    "    return num ** 2"
   ]
  },
  {
   "cell_type": "code",
   "execution_count": 2,
   "metadata": {},
   "outputs": [],
   "source": [
    "meine_zahlen = [1, 2, 3, 4, 5]"
   ]
  },
  {
   "cell_type": "code",
   "execution_count": 3,
   "metadata": {},
   "outputs": [
    {
     "data": {
      "text/plain": [
       "<map at 0x7f301c999c40>"
      ]
     },
     "execution_count": 3,
     "metadata": {},
     "output_type": "execute_result"
    }
   ],
   "source": [
    "map(quadrat, meine_zahlen)"
   ]
  },
  {
   "cell_type": "code",
   "execution_count": 4,
   "metadata": {},
   "outputs": [
    {
     "data": {
      "text/plain": [
       "[1, 4, 9, 16, 25]"
      ]
     },
     "execution_count": 4,
     "metadata": {},
     "output_type": "execute_result"
    }
   ],
   "source": [
    "# Um die Ergebnisse zu erhalten, musst du entweder durch map() iterieren oder in eine Liste konvertieren\n",
    "list(map(quadrat, meine_zahlen))"
   ]
  },
  {
   "cell_type": "markdown",
   "metadata": {},
   "source": [
    "Die Funktionen können auch komplexer sein:"
   ]
  },
  {
   "cell_type": "code",
   "execution_count": 5,
   "metadata": {},
   "outputs": [],
   "source": [
    "def splicer(mein_string):\n",
    "    \"\"\" Gibt 'gerade' zurück, wenn die Länge des Eingabestrings gerade ist.\n",
    "    Gibt ansonsten das erste Zeichen des Strings zurück.\n",
    "    \"\"\"\n",
    "    \n",
    "    if len(mein_string) % 2 == 0:\n",
    "        return 'gerade'\n",
    "    else:\n",
    "        return mein_string[0]"
   ]
  },
  {
   "cell_type": "code",
   "execution_count": 6,
   "metadata": {},
   "outputs": [],
   "source": [
    "mein_string = ['John','Cindy','Sarah','Kelly','Mike']"
   ]
  },
  {
   "cell_type": "code",
   "execution_count": 7,
   "metadata": {},
   "outputs": [
    {
     "data": {
      "text/plain": [
       "['gerade', 'C', 'S', 'K', 'gerade']"
      ]
     },
     "execution_count": 7,
     "metadata": {},
     "output_type": "execute_result"
    }
   ],
   "source": [
    "list(map(splicer, mein_string))"
   ]
  },
  {
   "cell_type": "markdown",
   "metadata": {},
   "source": [
    "## Funktion filter\n",
    "\n",
    "Die Funktion `filter` gibt einen Iterator zurück, aus dem man die für den Filter passenden Elemente erhält. Das heisst, `filter` braucht eine Funktion, die entweder True oder False zurückgibt. Diese wird zusammen mit einem iterierbaren Objekt an `filter` übergeben, zurück kommen dann nur Elemente, auf die der Filter passt."
   ]
  },
  {
   "cell_type": "code",
   "execution_count": 8,
   "metadata": {},
   "outputs": [],
   "source": [
    "def ist_gerade(num):\n",
    "    \"\"\" Gibt True bei einer geraden und False bei einer \n",
    "    ungeraden Eingabezahl zurück. \n",
    "    \"\"\"\n",
    "    \n",
    "    return num % 2 == 0"
   ]
  },
  {
   "cell_type": "code",
   "execution_count": 9,
   "metadata": {},
   "outputs": [],
   "source": [
    "zahlen = [0, 1, 2, 3, 4, 5, 6, 7, 8, 9, 10]"
   ]
  },
  {
   "cell_type": "code",
   "execution_count": 10,
   "metadata": {},
   "outputs": [
    {
     "data": {
      "text/plain": [
       "<filter at 0x7f2ff83c17c0>"
      ]
     },
     "execution_count": 10,
     "metadata": {},
     "output_type": "execute_result"
    }
   ],
   "source": [
    "filter(ist_gerade, zahlen)"
   ]
  },
  {
   "cell_type": "code",
   "execution_count": 11,
   "metadata": {},
   "outputs": [
    {
     "data": {
      "text/plain": [
       "[0, 2, 4, 6, 8, 10]"
      ]
     },
     "execution_count": 11,
     "metadata": {},
     "output_type": "execute_result"
    }
   ],
   "source": [
    "list(filter(ist_gerade, zahlen))"
   ]
  },
  {
   "cell_type": "markdown",
   "metadata": {
    "collapsed": true
   },
   "source": [
    "## Lambda-Ausdrücke\n",
    "\n",
    "Eines der nützlichsten (und für Anfänger verwirrendsten) Funktionalitäten von Python ist der Lambda-Ausdruck. Lambda Ausdrücke erlauben es uns \"anonyme\" Funktionen zu erstellen. Das bedeutet, dass wir schnell ad-hoc Funktionen erstellen können, ohne eine Funktion ordnungsgemäß mit def definieren zu müssen.\n",
    "\n",
    "Funktions-Objekte, die von Lambda Ausdrücken zurückgegeben werden, funktionieren genau gleich wie solche, die durch `def` erstellt wurden. Der besondere Unterschied, der Lambda in manchen Fällen so nützlich macht, ist folgender:\n",
    "\n",
    "**Lambda's Aufbau besteht aus einem einzigen Ausdruck.**\n",
    "\n",
    "* Der Aufbau von Lambda ist gleich dem, den wir nach `def` schreiben würden. Wir schreiben das Ergebnis nur als Ausdruck, im Gegensatz dazu, es explizit zurückzugeben. Weil es auf einen Ausdruck limitiert ist, ist ein Lambda weniger allgemein als ein `def`. Wir können somit nur das Design verschmälern, um Verschachtelung zu limitieren. Lambda ist dafür gedacht, einfache Funktionen zu coden, wohingegen def größere Aufgaben erledigt.\n",
    "\n",
    "\n",
    "Lasst uns dem Thema Lambda-Ausdrücke langsam näherkommen, indem wir eine Funktion dekonstruieren."
   ]
  },
  {
   "cell_type": "code",
   "execution_count": 12,
   "metadata": {},
   "outputs": [],
   "source": [
    "def quadrat(num):\n",
    "    \"\"\" Gibt das Quadrat der Eingabe zurück. \"\"\"\n",
    "    \n",
    "    ergebnis = num ** 2\n",
    "    \n",
    "    return ergebnis"
   ]
  },
  {
   "cell_type": "code",
   "execution_count": 13,
   "metadata": {},
   "outputs": [
    {
     "data": {
      "text/plain": [
       "4"
      ]
     },
     "execution_count": 13,
     "metadata": {},
     "output_type": "execute_result"
    }
   ],
   "source": [
    "quadrat(2)"
   ]
  },
  {
   "cell_type": "markdown",
   "metadata": {},
   "source": [
    "Wir könnten das vereinfachen:"
   ]
  },
  {
   "cell_type": "code",
   "execution_count": 14,
   "metadata": {},
   "outputs": [],
   "source": [
    "def quadrat(num):\n",
    "    \"\"\" Gibt das Quadrat der Eingabe zurück. \"\"\"\n",
    "    \n",
    "    return num ** 2"
   ]
  },
  {
   "cell_type": "code",
   "execution_count": 15,
   "metadata": {},
   "outputs": [
    {
     "data": {
      "text/plain": [
       "4"
      ]
     },
     "execution_count": 15,
     "metadata": {},
     "output_type": "execute_result"
    }
   ],
   "source": [
    "quadrat(2)"
   ]
  },
  {
   "cell_type": "markdown",
   "metadata": {},
   "source": [
    "Wir könnten das sogar in nur einer Zeile schreiben:"
   ]
  },
  {
   "cell_type": "code",
   "execution_count": 16,
   "metadata": {},
   "outputs": [],
   "source": [
    "def quadrat(num): return num ** 2"
   ]
  },
  {
   "cell_type": "code",
   "execution_count": 17,
   "metadata": {},
   "outputs": [
    {
     "data": {
      "text/plain": [
       "4"
      ]
     },
     "execution_count": 17,
     "metadata": {},
     "output_type": "execute_result"
    }
   ],
   "source": [
    "quadrat(2)"
   ]
  },
  {
   "cell_type": "markdown",
   "metadata": {},
   "source": [
    "Das ist die Form einer Funktion, die Lambda-Ausdrücke replizieren können. Ein Lambda-Ausdruck wird dann so dargestellt:"
   ]
  },
  {
   "cell_type": "code",
   "execution_count": 18,
   "metadata": {},
   "outputs": [
    {
     "data": {
      "text/plain": [
       "<function __main__.<lambda>(num)>"
      ]
     },
     "execution_count": 18,
     "metadata": {},
     "output_type": "execute_result"
    }
   ],
   "source": [
    "lambda num: num ** 2"
   ]
  },
  {
   "cell_type": "code",
   "execution_count": 19,
   "metadata": {},
   "outputs": [],
   "source": [
    "# Normalerweise werden Lambda-Ausdrücken keine Namen zugewiesen, dies ist nur zur Demonstration!\n",
    "quadrat = lambda num: num **2"
   ]
  },
  {
   "cell_type": "code",
   "execution_count": 20,
   "metadata": {},
   "outputs": [
    {
     "data": {
      "text/plain": [
       "4"
      ]
     },
     "execution_count": 20,
     "metadata": {},
     "output_type": "execute_result"
    }
   ],
   "source": [
    "quadrat(2)"
   ]
  },
  {
   "cell_type": "markdown",
   "metadata": {},
   "source": [
    "Warum würde man das machen wollen? Viele Funktionsaufrufe erwarten eine Funktion als Parameter, so auch `map` und `filter`. Da diese Funktion häufig nur einmal gebraucht wird, ist es unnötig, sie formal zu definieren. Statt dessen kannst du einen Lambda-Ausdruck verwenden. Lasst uns obige Beispiele erneut betrachten:"
   ]
  },
  {
   "cell_type": "code",
   "execution_count": 21,
   "metadata": {},
   "outputs": [
    {
     "data": {
      "text/plain": [
       "[0, 1, 4, 9, 16, 25, 36, 49, 64, 81, 100]"
      ]
     },
     "execution_count": 21,
     "metadata": {},
     "output_type": "execute_result"
    }
   ],
   "source": [
    "list(map(lambda num: num ** 2, zahlen))"
   ]
  },
  {
   "cell_type": "code",
   "execution_count": 22,
   "metadata": {},
   "outputs": [
    {
     "data": {
      "text/plain": [
       "[0, 2, 4, 6, 8, 10]"
      ]
     },
     "execution_count": 22,
     "metadata": {},
     "output_type": "execute_result"
    }
   ],
   "source": [
    "list(filter(lambda n: n % 2 == 0, zahlen))"
   ]
  },
  {
   "cell_type": "markdown",
   "metadata": {},
   "source": [
    "Hier folgen ein paar weitere Beispiele. Bedenke dabei: je komplexer eine Funktion ist, desto schwieriger ist es, sie als Lambda-Ausdruck darzustellen. In dem Falle ist die Definition als normale Funktion besser.\n",
    "\n",
    "**Lambda-Ausdruck, um das erste Zeichen eines Strings zu erhalten:**"
   ]
  },
  {
   "cell_type": "code",
   "execution_count": 23,
   "metadata": {},
   "outputs": [
    {
     "data": {
      "text/plain": [
       "<function __main__.<lambda>(s)>"
      ]
     },
     "execution_count": 23,
     "metadata": {},
     "output_type": "execute_result"
    }
   ],
   "source": [
    "lambda s: s[0]"
   ]
  },
  {
   "cell_type": "markdown",
   "metadata": {},
   "source": [
    "**Lambda-Ausdruck zum invertieren eines Strings:**"
   ]
  },
  {
   "cell_type": "code",
   "execution_count": 24,
   "metadata": {},
   "outputs": [
    {
     "data": {
      "text/plain": [
       "<function __main__.<lambda>(s)>"
      ]
     },
     "execution_count": 24,
     "metadata": {},
     "output_type": "execute_result"
    }
   ],
   "source": [
    "lambda s: s[::-1]"
   ]
  },
  {
   "cell_type": "markdown",
   "metadata": {},
   "source": [
    "Du kannst auch Lambda-Ausdrücke mit mehreren Parametern definieren. Beachte wiederum, dass sich nicht jede Funktion als Lambda-Ausdruck darstellen lässt."
   ]
  },
  {
   "cell_type": "code",
   "execution_count": 25,
   "metadata": {},
   "outputs": [
    {
     "data": {
      "text/plain": [
       "<function __main__.<lambda>(x, y)>"
      ]
     },
     "execution_count": 25,
     "metadata": {},
     "output_type": "execute_result"
    }
   ],
   "source": [
    "lambda x, y: x + y"
   ]
  },
  {
   "cell_type": "markdown",
   "metadata": {},
   "source": [
    "Lambda-Ausdrücke werden oft in externen Bibliotheken verwendet. Beispielsweise werden Lambda-Ausdrücke von der Datenanalysebibliothek Pandas sehr gut unterstützt.\n",
    "\n",
    "## Prima!"
   ]
  }
 ],
 "metadata": {
  "kernelspec": {
   "display_name": "Python 3",
   "language": "python",
   "name": "python3"
  },
  "language_info": {
   "codemirror_mode": {
    "name": "ipython",
    "version": 3
   },
   "file_extension": ".py",
   "mimetype": "text/x-python",
   "name": "python",
   "nbconvert_exporter": "python",
   "pygments_lexer": "ipython3",
   "version": "3.8.5"
  },
  "varInspector": {
   "cols": {
    "lenName": 16,
    "lenType": 16,
    "lenVar": 40
   },
   "kernels_config": {
    "python": {
     "delete_cmd_postfix": "",
     "delete_cmd_prefix": "del ",
     "library": "var_list.py",
     "varRefreshCmd": "print(var_dic_list())"
    },
    "r": {
     "delete_cmd_postfix": ") ",
     "delete_cmd_prefix": "rm(",
     "library": "var_list.r",
     "varRefreshCmd": "cat(var_dic_list()) "
    }
   },
   "types_to_exclude": [
    "module",
    "function",
    "builtin_function_or_method",
    "instance",
    "_Feature"
   ],
   "window_display": false
  }
 },
 "nbformat": 4,
 "nbformat_minor": 2
}
