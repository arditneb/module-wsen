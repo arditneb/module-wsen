{
 "cells": [
  {
   "cell_type": "markdown",
   "metadata": {},
   "source": [
    "<a href=\"https://www.datamics.com/courses/online-courses/\">![title](bg_datamics_top.png)</a>\n",
    "\n",
    "<center><em>© Datamics</em></center><br><center><em>Besuche uns für mehr Informationen auf <a href='https://www.datamics.com/courses/online-courses/'>www.datamics.com</a></em>"
   ]
  },
  {
   "cell_type": "markdown",
   "metadata": {},
   "source": [
    "# Verschachtelte Anweisungen und Geltungsbereich\n",
    "\n",
    "Jetzt, da wir es gelernt haben, eigene Funktionen zu schreiben, ist es wichtig zu verstehen, wie Python mit Variablen umgeht. Wenn wir einen Variable erstellen, wird diese im sogenannten name space (etwa: Namensraum) gespeichert. Variablen haben damit einen Geltungsbereich, welcher bestimmt, welche anderen Teile des Codes auf sie zugreifen können. \n",
    "\n",
    "Lasst und mit einem kurzen Gedankenexperiment beginnen:"
   ]
  },
  {
   "cell_type": "code",
   "execution_count": 1,
   "metadata": {},
   "outputs": [],
   "source": [
    "x = 25\n",
    "\n",
    "\n",
    "def drucker():\n",
    "    \"\"\" Gibt den Wert der inneren Variablen x, also 50, zurück. \"\"\"\n",
    "    \n",
    "    x = 50\n",
    "    return x"
   ]
  },
  {
   "cell_type": "markdown",
   "metadata": {},
   "source": [
    "Was denkst du, was wird die Ausgabe für `drucker()` sein? Und was wird `print(x)` ausgeben? 25 oder 50?"
   ]
  },
  {
   "cell_type": "code",
   "execution_count": 2,
   "metadata": {},
   "outputs": [
    {
     "name": "stdout",
     "output_type": "stream",
     "text": [
      "25\n"
     ]
    }
   ],
   "source": [
    "print(x)"
   ]
  },
  {
   "cell_type": "code",
   "execution_count": 3,
   "metadata": {},
   "outputs": [
    {
     "name": "stdout",
     "output_type": "stream",
     "text": [
      "50\n"
     ]
    }
   ],
   "source": [
    "print(drucker())"
   ]
  },
  {
   "cell_type": "markdown",
   "metadata": {
    "collapsed": true
   },
   "source": [
    "Interessant! Aber woher weiß Python, welches **x** wir mit unserem Code meinen? Hier kommt das Konzept des Geltungsbereich ins Spiel. Python befolgt einige Regeln, um zu entscheiden, welche Variable (so wie **x**) gemeint ist. Lasst uns diese Regeln betrachten.\n",
    "\n",
    "Insgesamt kann der Geltungsbereich mit drei grundsätzlichen Regeln beschrieben werden:\n",
    "\n",
    "1. Standardmäßig erstellen oder ändern Namenszuweisungen lokale Variablen\n",
    "2. Namensreferenzen durchlaufen die vier folgenden Bereiche:\n",
    "    * lokal\n",
    "    * einschließende Funktionen\n",
    "    * global\n",
    "    * bereits eingebaut\n",
    "3. Namen, die in globalen und nichtlokalen Anweisungen definiert werden, ordnen Namen dem Geltungsbereich einschließender Funktionen zu.\n",
    "\n",
    "Die Regel 2 kann wie folgt genauer definiert werden:\n",
    "\n",
    "#### LEGB Regel\n",
    "\n",
    "L: Lokal - Namen, die in irgendeiner Form innerhalb einer Funktion (`def` oder `lambda`) zugewiesen werden und nicht global in dieser Funktion definiert sind.\n",
    "\n",
    "E: Einschließende Funktionen - Namen im lokalen Geltungsbereich aller einschließenden Funktionen (`def` oder `lambda`) von innen nach außen.\n",
    "\n",
    "G: Globale (Module) - Namen die auf der höchsten Ebene einer Datei zugewiesen werden oder innerhalb einer Funktion als global ausgewiesen werden.\n",
    "\n",
    "B: Bereits (in Python) eingebaute - Namen die bereits in die vorinstallierten Module wie `range`, `open`, usw. eingebaut sind.\n",
    "\n",
    "## Kurzes Beispiel für LEGB\n",
    "\n",
    "### Lokal"
   ]
  },
  {
   "cell_type": "code",
   "execution_count": 4,
   "metadata": {},
   "outputs": [],
   "source": [
    "# x ist hier lokal!\n",
    "f = lambda x:x ** 2"
   ]
  },
  {
   "cell_type": "markdown",
   "metadata": {},
   "source": [
    "### Einschliessende Funktionen \n",
    "\n",
    "Das tritt auf, wenn wir geschachtelte Funktionen verwenden."
   ]
  },
  {
   "cell_type": "code",
   "execution_count": 5,
   "metadata": {},
   "outputs": [
    {
     "name": "stdout",
     "output_type": "stream",
     "text": [
      "Hallo Sammy\n"
     ]
    }
   ],
   "source": [
    "name = 'Dies ist ein globaler Name'\n",
    "\n",
    "\n",
    "def gruessen():\n",
    "    \"\"\" Funktion zur Demonstration von Variablengültigkeitsbereichen.\n",
    "    Enthält die Funktion hallo() und ruft sie auf.\n",
    "    \"\"\"\n",
    "    \n",
    "    # Einschliessende Funktion\n",
    "    name = 'Sammy'\n",
    "\n",
    "    def hallo():\n",
    "        \"\"\" Gibt einen String konkateniert mit der äußeren Variable name aus. \"\"\"\n",
    "        \n",
    "        print('Hallo ' + name)\n",
    "\n",
    "    hallo()\n",
    "\n",
    "\n",
    "gruessen()"
   ]
  },
  {
   "cell_type": "markdown",
   "metadata": {},
   "source": [
    "Beachte, das Sammy verwendet wurde, weil die Funktion `hallo()` in der Funktion `gruss()` eingeschlossen ist!\n",
    "\n",
    "### Global\n",
    "\n",
    "In Jupyter können wir schnell überprüfen, ob eine Variable global ist, indem wir schauen, ob eine andere Zelle auf sie zugreifen kann."
   ]
  },
  {
   "cell_type": "code",
   "execution_count": 6,
   "metadata": {},
   "outputs": [
    {
     "name": "stdout",
     "output_type": "stream",
     "text": [
      "Dies ist ein globaler Name\n"
     ]
    }
   ],
   "source": [
    "print(name)"
   ]
  },
  {
   "cell_type": "markdown",
   "metadata": {},
   "source": [
    "### Built-in (eingebaut)\n",
    "\n",
    "Dies sind in Python eingebaute Funktionsnamen (überschreibe diese nicht!)."
   ]
  },
  {
   "cell_type": "code",
   "execution_count": 7,
   "metadata": {},
   "outputs": [
    {
     "data": {
      "text/plain": [
       "<function len(obj, /)>"
      ]
     },
     "execution_count": 7,
     "metadata": {},
     "output_type": "execute_result"
    }
   ],
   "source": [
    "len"
   ]
  },
  {
   "cell_type": "markdown",
   "metadata": {},
   "source": [
    "## Lokale Variablen\n",
    "\n",
    "Wenn ihr Variablen innerhalb einer Funktionsdefinition deklariert, dann sind sie in keiner Weise mit anderen Variablen außerhalb der Funktion verknüpft, die denselben Namen haben. D.h. die Namen  von Variablen sind lokal in Bezug auf Funktionen. Das ist somit der Geltungsbereich der Variablen. Alle Variablen haben den Geltungsbereich des Blocks in dem sie deklariert werden ausgehend von dem Punkt, an dem sie definiert werden.\n",
    "\n",
    "Ein Beispiel:"
   ]
  },
  {
   "cell_type": "code",
   "execution_count": 8,
   "metadata": {},
   "outputs": [
    {
     "name": "stdout",
     "output_type": "stream",
     "text": [
      "x ist 50\n",
      "Lokales x geändert zu 2\n",
      "x ist immer noch 50\n"
     ]
    }
   ],
   "source": [
    "x = 50\n",
    "\n",
    "\n",
    "def func(x):\n",
    "    \"\"\" Funktion zur Demonstration von Variablengültigkeitsbereich.\n",
    "    Definiert eine innere Variable x, ohne die äußere Variable x zu ändern.\"\"\"\n",
    "    \n",
    "    print('x ist', x)\n",
    "    x = 2\n",
    "    print('Lokales x geändert zu', x)\n",
    "\n",
    "\n",
    "func(x)\n",
    "print('x ist immer noch', x)"
   ]
  },
  {
   "cell_type": "markdown",
   "metadata": {},
   "source": [
    "Das erste Mal, wenn wir den Wert des Namens **x** ausgeben, also mit der ersten Zeile innerhalb der `func(x)` Funktion, nutzt Python die Definition im Hauptblock, also über der Funktion.\n",
    "\n",
    "Danach ordnen wir **x** den Wert **2** zu. Der Name **x** ist lokal für unsere Funktion. Wenn wir also den Wert von **x** in der Funktion ändern, dann bleibt das **x** des Hauptblocks unberührt.\n",
    "\n",
    "Mit der letzten `print()` Anweisung geben wir den Wert des **x** des Hauptblocks aus. Dadurch können wir bestätigen, dass es wirklich unberührt von der lokalen Definition innerhalb der Funktion geblieben ist.\n",
    "\n",
    "## Die Anweisung global \n",
    "\n",
    "Wenn man einen Wert einem Namen des Hauptblocks eines Programms zuordnen möchte, dann muss man Python sagen, dass die Zuweisung nicht lokal, sondern global ist. Dies tun wir durch die Verwendung der Anweisung `global`. Es ist unmöglich einen Wert einer Variablen außerhalb der Funktion ohne die Anweisung `global` zuzuordnen.\n",
    "\n",
    "Ihr könnt den Wert solcher Variablen, die außerhalb der Funktion definiert sind, verwenden, sofern es innerhalb keine Variable mit gleichem Namen gibt. Nichtsdestotrotz empfehlen wir das nicht, da es so schwer für den Leser wird, den Code zu lesen. Die Anweisung `global` macht den Geltungsbereich für alle Leser klar.\n",
    "\n",
    "Ein Beispiel:"
   ]
  },
  {
   "cell_type": "code",
   "execution_count": 9,
   "metadata": {},
   "outputs": [
    {
     "name": "stdout",
     "output_type": "stream",
     "text": [
      "Bevor wir func() aufrufen ist x:  50\n",
      "Diese Funktion nutzt jetzt das globale x!\n",
      "Durch global wird x zu:  50\n",
      "func() wurde ausgeführt, x geändert zu:  2\n",
      "Der Wert von x außerhalb von func() ist jetzt:  2\n"
     ]
    }
   ],
   "source": [
    "x = 50\n",
    "\n",
    "\n",
    "def func():\n",
    "    \"\"\" Funktion zur Demonstration von globalen Variablen. \n",
    "    Die globale Variable x wird überschrieben.\n",
    "    \"\"\"\n",
    "    \n",
    "    global x\n",
    "    \n",
    "    print('Diese Funktion nutzt jetzt das globale x!')\n",
    "    print('Durch global wird x zu: ', x)\n",
    "    x = 2\n",
    "    print('func() wurde ausgeführt, x geändert zu: ', x)\n",
    "\n",
    "\n",
    "print('Bevor wir func() aufrufen ist x: ', x)\n",
    "func()\n",
    "print('Der Wert von x außerhalb von func() ist jetzt: ', x)"
   ]
  },
  {
   "cell_type": "markdown",
   "metadata": {
    "collapsed": true
   },
   "source": [
    "Die Anweisung `global` wurde genutzt, um zu definieren, dass **x** hier eine globale Variable ist. Dadurch ändert sich, wenn wir **x** innerhalb der Funktion einen Wert zuweisen, auch das **x** im Hauptblock des Codes.\n",
    "\n",
    "Man kann mehrere Variablen auf einmal als global deklarieren. Zum Beispiel:\n",
    "\n",
    "    global x, y, z\n",
    "  \n",
    "## Zusammenfassung\n",
    "\n",
    "Ihr solltet jetzt ein gutes Verständnis dafür haben, wie sich der Geltungsbereich von Variablen in Python ausdrückt. Ein letzte Anmerkung hierzu ist, dass ihr **globals()** und **locals()** nutzen könnt, um zu überprüfen, welche eurer Variablen aktuell als global oder lokal gespeichert sind.\n",
    "\n",
    "Ein anderer Punkt, den man im Gedächtnis behalten sollte, ist, dass in Python alles Objekte sind. Ich kann Funktionen Variablen zuweisen, so wie ich Zahlen zuweisen kann. Wir werden dies noch einmal brauchen, wenn wir in der Sektion der Dekoratoren sind.\n",
    "\n",
    "## Super!"
   ]
  }
 ],
 "metadata": {
  "kernelspec": {
   "display_name": "Python 3",
   "language": "python",
   "name": "python3"
  },
  "language_info": {
   "codemirror_mode": {
    "name": "ipython",
    "version": 3
   },
   "file_extension": ".py",
   "mimetype": "text/x-python",
   "name": "python",
   "nbconvert_exporter": "python",
   "pygments_lexer": "ipython3",
   "version": "3.8.5"
  },
  "varInspector": {
   "cols": {
    "lenName": 16,
    "lenType": 16,
    "lenVar": 40
   },
   "kernels_config": {
    "python": {
     "delete_cmd_postfix": "",
     "delete_cmd_prefix": "del ",
     "library": "var_list.py",
     "varRefreshCmd": "print(var_dic_list())"
    },
    "r": {
     "delete_cmd_postfix": ") ",
     "delete_cmd_prefix": "rm(",
     "library": "var_list.r",
     "varRefreshCmd": "cat(var_dic_list()) "
    }
   },
   "types_to_exclude": [
    "module",
    "function",
    "builtin_function_or_method",
    "instance",
    "_Feature"
   ],
   "window_display": false
  }
 },
 "nbformat": 4,
 "nbformat_minor": 1
}
