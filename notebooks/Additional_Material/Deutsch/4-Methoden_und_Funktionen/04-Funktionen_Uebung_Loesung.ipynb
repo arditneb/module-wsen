{
 "cells": [
  {
   "cell_type": "markdown",
   "metadata": {},
   "source": [
    "<a href='https://www.datamics.com/courses/online-courses/'>![title](bg_datamics_top.png)</a>\n",
    "___\n",
    "<center><em>© Datamics</em></center>\n",
    "<center><em>Besuche uns für mehr Informationen auf <a href='https://www.datamics.com/courses/online-courses/'>www.datamics.com</a></em></center>"
   ]
  },
  {
   "cell_type": "markdown",
   "metadata": {},
   "source": [
    "# Übung Funktionen - Lösung\n",
    "\n",
    "Die Aufgaben sind nach einsteigender Schwierigkeit geordnet:\n",
    "* Aufwärmen - können mit einfachen Vergleichen und Methoden gelöst werden\n",
    "* Level 1 - gegebenenfalls werden if/else-Statements und einfache Methoden benötigt\n",
    "* Level 2 - vielleicht werden Sequenziterationen mit Schleifen gebraucht\n",
    "* Herausfordernd - hier wird ein wenig Kreativität erforderlich sein"
   ]
  },
  {
   "cell_type": "markdown",
   "metadata": {},
   "source": [
    "## Aufwärmen:"
   ]
  },
  {
   "cell_type": "markdown",
   "metadata": {},
   "source": [
    "#### DIE KLEINERE ZWEIER GERADER ZAHLEN: Schreibe eine Funktion, welche die kleinere von zwei Zahlen zurückgibt, *wenn* beide Zahlen gerade sind. Andernfalls soll die Funktion die größere Zahl zurückgeben\n",
    "    kleiner_zweier_gerader(2, 4) --> 2\n",
    "    kleiner_zweier_gerader(2, 5) --> 5"
   ]
  },
  {
   "cell_type": "code",
   "execution_count": 1,
   "metadata": {},
   "outputs": [],
   "source": [
    "def kleiner_zweier_gerader(a, b):\n",
    "    \"\"\" Gib die kleinere der beiden Eingabevariablen zurück, \n",
    "    falls beide gerade sind; ansonsten gib die größere Zahl zurück. \n",
    "    \"\"\"\n",
    "    \n",
    "    if a % 2 == 0 and b % 2 == 0:\n",
    "        return min(a, b)\n",
    "    else:\n",
    "        return max(a, b)"
   ]
  },
  {
   "cell_type": "code",
   "execution_count": 2,
   "metadata": {},
   "outputs": [
    {
     "data": {
      "text/plain": [
       "2"
      ]
     },
     "execution_count": 2,
     "metadata": {},
     "output_type": "execute_result"
    }
   ],
   "source": [
    "kleiner_zweier_gerader(2,4)"
   ]
  },
  {
   "cell_type": "code",
   "execution_count": 3,
   "metadata": {},
   "outputs": [
    {
     "data": {
      "text/plain": [
       "5"
      ]
     },
     "execution_count": 3,
     "metadata": {},
     "output_type": "execute_result"
    }
   ],
   "source": [
    "kleiner_zweier_gerader(2,5)"
   ]
  },
  {
   "cell_type": "markdown",
   "metadata": {},
   "source": [
    "#### ANIMAL CRACKERS: Schreibe eine Funktion, die einen String mit zwei Worten annimmt und True zurückgibt, wenn beide mit dem selben Buchstaben beginnen\n",
    "    animal_crackers('Lachendes Llama') --> True\n",
    "    animal_crackers('Verrücktes Känguruh') --> False"
   ]
  },
  {
   "cell_type": "code",
   "execution_count": 4,
   "metadata": {},
   "outputs": [],
   "source": [
    "def animal_crackers(text):\n",
    "    \"\"\" Gib True zurück, wenn die ersten zwei Wörter in text mit \n",
    "    dem selben Buchstaben beginnen; ansonsten gib False zurück. \n",
    "    \"\"\"\n",
    "    \n",
    "    wortliste = text.split()\n",
    "    return wortliste[0][0] == wortliste[1][0]"
   ]
  },
  {
   "cell_type": "code",
   "execution_count": 5,
   "metadata": {},
   "outputs": [
    {
     "data": {
      "text/plain": [
       "True"
      ]
     },
     "execution_count": 5,
     "metadata": {},
     "output_type": "execute_result"
    }
   ],
   "source": [
    "animal_crackers('Lachendes Llama')"
   ]
  },
  {
   "cell_type": "code",
   "execution_count": 6,
   "metadata": {},
   "outputs": [
    {
     "data": {
      "text/plain": [
       "False"
      ]
     },
     "execution_count": 6,
     "metadata": {},
     "output_type": "execute_result"
    }
   ],
   "source": [
    "animal_crackers('Verrücktes Känguruh')"
   ]
  },
  {
   "cell_type": "markdown",
   "metadata": {},
   "source": [
    "#### MACHE ZWANZIG: Gib True zurück, wenn die Summe zweier Integers 20 *oder* eine der beiden Integers 20 ist. Gib ansonsten False zurück\n",
    "\n",
    "    mache_zwanzig(20, 10) --> True\n",
    "    mache_zwanzig(12, 8) --> True\n",
    "    mache_zwanzig(2, 3) --> False"
   ]
  },
  {
   "cell_type": "code",
   "execution_count": 7,
   "metadata": {},
   "outputs": [],
   "source": [
    "def mache_zwanzig(n1, n2):\n",
    "    \"\"\"Gib True zurück, wenn die Summe zweier Integers 20 oder \n",
    "    eine der beiden Integers 20 ist. Gib ansonsten False zurück.\n",
    "    \"\"\"\n",
    "    \n",
    "    return (n1+n2) == 20 or n1 == 20 or n2 == 20"
   ]
  },
  {
   "cell_type": "code",
   "execution_count": 8,
   "metadata": {},
   "outputs": [
    {
     "data": {
      "text/plain": [
       "True"
      ]
     },
     "execution_count": 8,
     "metadata": {},
     "output_type": "execute_result"
    }
   ],
   "source": [
    "mache_zwanzig(20, 10)"
   ]
  },
  {
   "cell_type": "code",
   "execution_count": 9,
   "metadata": {},
   "outputs": [
    {
     "data": {
      "text/plain": [
       "True"
      ]
     },
     "execution_count": 9,
     "metadata": {},
     "output_type": "execute_result"
    }
   ],
   "source": [
    "mache_zwanzig(12, 8)"
   ]
  },
  {
   "cell_type": "code",
   "execution_count": 10,
   "metadata": {},
   "outputs": [
    {
     "data": {
      "text/plain": [
       "False"
      ]
     },
     "execution_count": 10,
     "metadata": {},
     "output_type": "execute_result"
    }
   ],
   "source": [
    "mache_zwanzig(2, 3)"
   ]
  },
  {
   "cell_type": "markdown",
   "metadata": {},
   "source": [
    "# LEVEL 1 ÜBUNG"
   ]
  },
  {
   "cell_type": "markdown",
   "metadata": {},
   "source": [
    "#### OLD MACDONALD: Schreibe eine Funktion, die den ersten und vierten Buchstaben eines Namens gross schreibt\n",
    "     \n",
    "    old_macdonald('macdonald') --> MacDonald\n",
    "    \n",
    "Beachte: `'macdonald'.capitalize()` gibt `'Macdonald'` zurück"
   ]
  },
  {
   "cell_type": "code",
   "execution_count": 11,
   "metadata": {},
   "outputs": [],
   "source": [
    "def old_macdonald(name):\n",
    "    \"\"\" Gib einen String zurück, in dem der 1. und 4. Buchstabe des \n",
    "    Eingabestrings grossgeschrieben ist.\n",
    "    \"\"\"\n",
    "    \n",
    "    if len(name) > 3:\n",
    "        return name[:3].capitalize() + name[3:].capitalize()\n",
    "    else:\n",
    "        return 'Name zu kurz!'"
   ]
  },
  {
   "cell_type": "code",
   "execution_count": 12,
   "metadata": {},
   "outputs": [
    {
     "data": {
      "text/plain": [
       "'MacDonald'"
      ]
     },
     "execution_count": 12,
     "metadata": {},
     "output_type": "execute_result"
    }
   ],
   "source": [
    "old_macdonald('macdonald')"
   ]
  },
  {
   "cell_type": "markdown",
   "metadata": {},
   "source": [
    "#### MASTER YODA: Invertiere die Wortreihenfolge eines gegebenen Satzes\n",
    "\n",
    "    master_yoda('ich bin daheim') --> 'daheim bin ich'\n",
    "    master_yoda('es ist heiss') --> 'heiss_es_ist'\n",
    "    \n",
    "Beachte: Hierbei kann die Methode `.join()` helfen. `.join()` erlaubt es, Strings in einer Liste zu vereinigen mit einem Bindestring. Hier ist ein Beispiel:\n",
    "\n",
    "    >>> \"--\".join(['a','b','c'])\n",
    "    >>> 'a--b--c'\n",
    "\n",
    "Wenn du also eine Liste von Wörtern wieder zurück in einen Satz kovertieren willst, kannst du sie einfach mit einem Leerzeichen verbinden:\n",
    "\n",
    "    >>> \" \".join(['Hallo','Welt'])\n",
    "    >>> \"Hallo Welt\""
   ]
  },
  {
   "cell_type": "code",
   "execution_count": 13,
   "metadata": {},
   "outputs": [],
   "source": [
    "def master_yoda(text):\n",
    "    \"\"\"Gib einen String zurück, indem die Reihenfolge der Wörter des\n",
    "    Eingabestrings invertiert ist.\n",
    "    \"\"\"\n",
    "    \n",
    "    return ' '.join(text.split()[::-1])"
   ]
  },
  {
   "cell_type": "code",
   "execution_count": 14,
   "metadata": {},
   "outputs": [
    {
     "data": {
      "text/plain": [
       "'daheim bin ich'"
      ]
     },
     "execution_count": 14,
     "metadata": {},
     "output_type": "execute_result"
    }
   ],
   "source": [
    "master_yoda('ich bin daheim')"
   ]
  },
  {
   "cell_type": "code",
   "execution_count": 15,
   "metadata": {},
   "outputs": [
    {
     "data": {
      "text/plain": [
       "'heiss ist es'"
      ]
     },
     "execution_count": 15,
     "metadata": {},
     "output_type": "execute_result"
    }
   ],
   "source": [
    "master_yoda('es ist heiss')"
   ]
  },
  {
   "cell_type": "markdown",
   "metadata": {},
   "source": [
    "#### ALMOST THERE: Gib True zurück, wenn eine gegebene Integer nicht mehr als 10 von 100 oder 200 entfernt ist. Gib sonst False zurück\n",
    "\n",
    "    almost_there(90) --> True\n",
    "    almost_there(104) --> True\n",
    "    almost_there(150) --> False\n",
    "    almost_there(209) --> True\n",
    "    \n",
    "Beachte: `abs(num)` gibt den absoluten Wert einer Zahl zurück."
   ]
  },
  {
   "cell_type": "code",
   "execution_count": 16,
   "metadata": {},
   "outputs": [],
   "source": [
    "def almost_there(n):\n",
    "    \"\"\" Gib True zurück, wenn eine gegebene Integer nicht mehr als 10 von 100\n",
    "    oder 200 entfernt ist. Gib sonst False zurück.\n",
    "    \"\"\"\n",
    "    \n",
    "    return ((abs(100 - n) <= 10) or (abs(200 - n) <= 10))"
   ]
  },
  {
   "cell_type": "code",
   "execution_count": 17,
   "metadata": {},
   "outputs": [
    {
     "data": {
      "text/plain": [
       "True"
      ]
     },
     "execution_count": 17,
     "metadata": {},
     "output_type": "execute_result"
    }
   ],
   "source": [
    "almost_there(90)"
   ]
  },
  {
   "cell_type": "code",
   "execution_count": 18,
   "metadata": {},
   "outputs": [
    {
     "data": {
      "text/plain": [
       "True"
      ]
     },
     "execution_count": 18,
     "metadata": {},
     "output_type": "execute_result"
    }
   ],
   "source": [
    "almost_there(104)"
   ]
  },
  {
   "cell_type": "code",
   "execution_count": 19,
   "metadata": {},
   "outputs": [
    {
     "data": {
      "text/plain": [
       "False"
      ]
     },
     "execution_count": 19,
     "metadata": {},
     "output_type": "execute_result"
    }
   ],
   "source": [
    "almost_there(150)"
   ]
  },
  {
   "cell_type": "code",
   "execution_count": 20,
   "metadata": {},
   "outputs": [
    {
     "data": {
      "text/plain": [
       "True"
      ]
     },
     "execution_count": 20,
     "metadata": {},
     "output_type": "execute_result"
    }
   ],
   "source": [
    "almost_there(209)"
   ]
  },
  {
   "cell_type": "markdown",
   "metadata": {},
   "source": [
    "# LEVEL 2 ÜBUNG"
   ]
  },
  {
   "cell_type": "markdown",
   "metadata": {},
   "source": [
    "#### FINDE 33: Gib True zurück, wenn in einer Liste eine 3 mit einer anderen 3 benachbart ist. Gib sonst False zurück\n",
    "\n",
    "    has_33([1, 3, 3]) → True\n",
    "    has_33([1, 3, 1, 3]) → False\n",
    "    has_33([3, 1, 3]) → False"
   ]
  },
  {
   "cell_type": "code",
   "execution_count": 21,
   "metadata": {},
   "outputs": [],
   "source": [
    "def has_33(nums):\n",
    "    \"\"\" Gib True zurück, wenn in einer Liste eine 3 mit einer anderen\n",
    "    3 benachbart ist. Gib sonst False zurück.\n",
    "    \"\"\"\n",
    "    \n",
    "    for i in range(0, len(nums)-1):\n",
    "\n",
    "        # Hier ist eine nettere Alternativlösung auskommentiert:\n",
    "        # if nums[i] == 3 and nums[i+1] == 3:\n",
    "\n",
    "        if nums[i:i+2] == [3, 3]:\n",
    "            return True\n",
    "\n",
    "    return False"
   ]
  },
  {
   "cell_type": "code",
   "execution_count": 22,
   "metadata": {},
   "outputs": [
    {
     "data": {
      "text/plain": [
       "True"
      ]
     },
     "execution_count": 22,
     "metadata": {},
     "output_type": "execute_result"
    }
   ],
   "source": [
    "has_33([1, 3, 3])"
   ]
  },
  {
   "cell_type": "code",
   "execution_count": 23,
   "metadata": {},
   "outputs": [
    {
     "data": {
      "text/plain": [
       "False"
      ]
     },
     "execution_count": 23,
     "metadata": {},
     "output_type": "execute_result"
    }
   ],
   "source": [
    "has_33([1, 3, 1, 3])"
   ]
  },
  {
   "cell_type": "code",
   "execution_count": 24,
   "metadata": {},
   "outputs": [
    {
     "data": {
      "text/plain": [
       "False"
      ]
     },
     "execution_count": 24,
     "metadata": {},
     "output_type": "execute_result"
    }
   ],
   "source": [
    "has_33([3, 1, 3])"
   ]
  },
  {
   "cell_type": "markdown",
   "metadata": {},
   "source": [
    "#### PAPER DOLL: Konvertiere einen Eingabestring so, dass ein String zurückgegeben wird, indem jedes Zeichen verdreifacht wurde\n",
    "    paper_doll('Hallo') --> 'HHHaaallllllooo'\n",
    "    paper_doll('Mississippi') --> 'MMMiiissssssiiippppppiii'"
   ]
  },
  {
   "cell_type": "code",
   "execution_count": 25,
   "metadata": {},
   "outputs": [],
   "source": [
    "def paper_doll(text):\n",
    "    \"\"\" Gib einen String zurück, indem jedes Zeichen des Eingabestrings verdreifacht wurde.\"\"\"\n",
    "    \n",
    "    ergebnis = ''\n",
    "    \n",
    "    for zeichen in text:\n",
    "        ergebnis += zeichen * 3\n",
    "        \n",
    "    return ergebnis"
   ]
  },
  {
   "cell_type": "code",
   "execution_count": 26,
   "metadata": {},
   "outputs": [
    {
     "data": {
      "text/plain": [
       "'HHHaaallllllooo'"
      ]
     },
     "execution_count": 26,
     "metadata": {},
     "output_type": "execute_result"
    }
   ],
   "source": [
    "paper_doll('Hallo')"
   ]
  },
  {
   "cell_type": "code",
   "execution_count": 27,
   "metadata": {},
   "outputs": [
    {
     "data": {
      "text/plain": [
       "'MMMiiissssssiiissssssiiippppppiii'"
      ]
     },
     "execution_count": 27,
     "metadata": {},
     "output_type": "execute_result"
    }
   ],
   "source": [
    "paper_doll('Mississippi')"
   ]
  },
  {
   "cell_type": "markdown",
   "metadata": {},
   "source": [
    "#### BLACKJACK:  Gegeben sind drei Integer zwischen 1 und 11. Wenn deren Summe kleiner gleich 21 ist, gib ihre Summe zurück. Wenn ihre Summe größer als 21 ist *und* eine der Zahlen 11 ist, reduziere die Summe um 10. Falls die Summe anschliessend noch größer als 21 ist, gib 'BUST' zurück\n",
    "\n",
    "    blackjack(5,6,7) --> 18\n",
    "    blackjack(9,9,9) --> 'BUST'\n",
    "    blackjack(9,9,11) --> 19"
   ]
  },
  {
   "cell_type": "code",
   "execution_count": 28,
   "metadata": {},
   "outputs": [],
   "source": [
    "def blackjack(a, b, c): \n",
    "    \"\"\" Ist die Summe von a, b und c kleiner gleich 21, gib diese zurück. \n",
    "    Falls die Summe größer 21 und eine der Zahlen 11 ist, reduziere die Summe um 10. \n",
    "    Gib die neue Summe zurück, falls sie jetzt kleiner gleich 21 ist. Gib ansonsten 'BUST' zurück.\n",
    "    \"\"\"\n",
    "\n",
    "    if sum((a, b, c)) <= 21:\n",
    "        return sum((a, b, c))\n",
    "    elif sum((a, b, c)) <= 31 and 11 in (a, b, c):\n",
    "        return sum((a, b, c)) - 10\n",
    "    else:\n",
    "        return 'BUST'"
   ]
  },
  {
   "cell_type": "code",
   "execution_count": 29,
   "metadata": {},
   "outputs": [
    {
     "data": {
      "text/plain": [
       "18"
      ]
     },
     "execution_count": 29,
     "metadata": {},
     "output_type": "execute_result"
    }
   ],
   "source": [
    "blackjack(5, 6, 7)"
   ]
  },
  {
   "cell_type": "code",
   "execution_count": 30,
   "metadata": {},
   "outputs": [
    {
     "data": {
      "text/plain": [
       "'BUST'"
      ]
     },
     "execution_count": 30,
     "metadata": {},
     "output_type": "execute_result"
    }
   ],
   "source": [
    "blackjack(9, 9, 9)"
   ]
  },
  {
   "cell_type": "code",
   "execution_count": 31,
   "metadata": {},
   "outputs": [
    {
     "data": {
      "text/plain": [
       "19"
      ]
     },
     "execution_count": 31,
     "metadata": {},
     "output_type": "execute_result"
    }
   ],
   "source": [
    "blackjack(9, 9, 11)"
   ]
  },
  {
   "cell_type": "markdown",
   "metadata": {},
   "source": [
    "#### SUMMER OF '69:  Gib die Summe der Zahlen einer Liste zurück, aber entferne Zahlensequenzen, die mit einer 6 beginnen und mit einer 9 enden (auf alle 6 folgt irgendwann eine 9 in den Eingabelisten). Gib 0 für keine Zahlen zurück.\n",
    " \n",
    "    summer_69([1, 3, 5]) --> 9\n",
    "    summer_69([4, 5, 6, 7, 8, 9]) --> 9\n",
    "    summer_69([2, 1, 6, 9, 11]) --> 14"
   ]
  },
  {
   "cell_type": "code",
   "execution_count": 32,
   "metadata": {},
   "outputs": [],
   "source": [
    "def summer_69(arr):\n",
    "    \"\"\"Gib die Summe der Zahlen einer Liste zurück, aber entferne Zahlensequenzen,\n",
    "    die mit einer 6 beginnen un mit einer 9 enden. Gib 0 für keine Zahlen zurück.\n",
    "    \"\"\"\n",
    "        \n",
    "    total = 0\n",
    "    add = True\n",
    "    \n",
    "    for num in arr:\n",
    "        while add:\n",
    "            if num != 6:\n",
    "                total += num\n",
    "                break\n",
    "            else:\n",
    "                add = False\n",
    "        while not add:\n",
    "            if num != 9:\n",
    "                break\n",
    "            else:\n",
    "                add = True\n",
    "                break\n",
    "                \n",
    "    return total"
   ]
  },
  {
   "cell_type": "code",
   "execution_count": 33,
   "metadata": {},
   "outputs": [
    {
     "data": {
      "text/plain": [
       "9"
      ]
     },
     "execution_count": 33,
     "metadata": {},
     "output_type": "execute_result"
    }
   ],
   "source": [
    "summer_69([1, 3, 5])"
   ]
  },
  {
   "cell_type": "code",
   "execution_count": 34,
   "metadata": {},
   "outputs": [
    {
     "data": {
      "text/plain": [
       "9"
      ]
     },
     "execution_count": 34,
     "metadata": {},
     "output_type": "execute_result"
    }
   ],
   "source": [
    "summer_69([4, 5, 6, 7, 8, 9])"
   ]
  },
  {
   "cell_type": "code",
   "execution_count": 35,
   "metadata": {},
   "outputs": [
    {
     "data": {
      "text/plain": [
       "14"
      ]
     },
     "execution_count": 35,
     "metadata": {},
     "output_type": "execute_result"
    }
   ],
   "source": [
    "summer_69([2, 1, 6, 9, 11])"
   ]
  },
  {
   "cell_type": "markdown",
   "metadata": {},
   "source": [
    "# HERAUSFORDERUNG"
   ]
  },
  {
   "cell_type": "markdown",
   "metadata": {},
   "source": [
    "#### SPY GAME: Schreibe eine Funktion, die True zurück gibt, wenn eine Liste von Integers die Folge 007 (ggf. mit Unterbrechungen!) enthält\n",
    "\n",
    "     spy_game([1, 2, 4, 0, 0, 7, 5]) --> True\n",
    "     spy_game([1, 0, 2, 4, 0, 5, 7]) --> True\n",
    "     spy_game([1, 7, 2, 0, 4, 5, 0]) --> False\n"
   ]
  },
  {
   "cell_type": "code",
   "execution_count": 36,
   "metadata": {},
   "outputs": [],
   "source": [
    "def spy_game(nums):\n",
    "    \"\"\" Gib True zurück, falls die Eingabeliste von Integers die Folge 007 \n",
    "    (mit Unterbrechungen) enthält. Gib ansonsten False zurück.\n",
    "    \"\"\"\n",
    "\n",
    "    code = [0, 0, 7, 'x']\n",
    "\n",
    "    for num in nums:\n",
    "        if num == code[0]:\n",
    "            code.pop(0)   # code.remove(num) geht auch\n",
    "\n",
    "    return len(code) == 1"
   ]
  },
  {
   "cell_type": "code",
   "execution_count": 37,
   "metadata": {},
   "outputs": [
    {
     "data": {
      "text/plain": [
       "True"
      ]
     },
     "execution_count": 37,
     "metadata": {},
     "output_type": "execute_result"
    }
   ],
   "source": [
    "spy_game([1, 2, 4, 0, 0, 7, 5])"
   ]
  },
  {
   "cell_type": "code",
   "execution_count": 38,
   "metadata": {},
   "outputs": [
    {
     "data": {
      "text/plain": [
       "True"
      ]
     },
     "execution_count": 38,
     "metadata": {},
     "output_type": "execute_result"
    }
   ],
   "source": [
    "spy_game([1, 0, 2, 4, 0, 5, 7])"
   ]
  },
  {
   "cell_type": "code",
   "execution_count": 39,
   "metadata": {},
   "outputs": [
    {
     "data": {
      "text/plain": [
       "False"
      ]
     },
     "execution_count": 39,
     "metadata": {},
     "output_type": "execute_result"
    }
   ],
   "source": [
    "spy_game([1, 7, 2, 0, 4, 5, 0])"
   ]
  },
  {
   "cell_type": "markdown",
   "metadata": {},
   "source": [
    "#### COUNT PRIMES: Schreibe eine Funktion, welche die Anzahl von Primzahlen bis zu (inklusive) einer gegebenen Zahl zurückgibt\n",
    "\n",
    "    count_primes(100) --> 25\n",
    "\n",
    "Per Konvention sind 0 und 1 keine Primzahlen."
   ]
  },
  {
   "cell_type": "code",
   "execution_count": 40,
   "metadata": {},
   "outputs": [],
   "source": [
    "def count_primes(num):\n",
    "    \"\"\" Gib die Anzahl von Primzahlen zurück, die kleiner gleich num sind. \"\"\"\n",
    "    \n",
    "    primes = [2]\n",
    "    x = 3\n",
    "    \n",
    "    if num < 2:  # Für den Fall num = 0 oder 1\n",
    "        return 0\n",
    "    \n",
    "    while x <= num:\n",
    "        for y in range(3, x, 2):  # Teste alle ungeraden Teiler bis x-1\n",
    "            if x % y == 0:\n",
    "                x += 2\n",
    "                break\n",
    "        else:\n",
    "            primes.append(x)\n",
    "            x += 2\n",
    "            \n",
    "    print(primes)\n",
    "    return len(primes)"
   ]
  },
  {
   "cell_type": "code",
   "execution_count": 41,
   "metadata": {},
   "outputs": [
    {
     "name": "stdout",
     "output_type": "stream",
     "text": [
      "[2, 3, 5, 7, 11, 13, 17, 19, 23, 29, 31, 37, 41, 43, 47, 53, 59, 61, 67, 71, 73, 79, 83, 89, 97]\n"
     ]
    },
    {
     "data": {
      "text/plain": [
       "25"
      ]
     },
     "execution_count": 41,
     "metadata": {},
     "output_type": "execute_result"
    }
   ],
   "source": [
    "count_primes(100)"
   ]
  },
  {
   "cell_type": "markdown",
   "metadata": {},
   "source": [
    "BONUS: Hier ist eine schnellere Version, welche die bereits gefundenen Primzahlen nutzt!"
   ]
  },
  {
   "cell_type": "code",
   "execution_count": 42,
   "metadata": {},
   "outputs": [],
   "source": [
    "def count_primes2(num):\n",
    "    \"\"\" Gib die Anzahl von Primzahlen zurück, die kleiner gleich num sind. \"\"\"\n",
    "    \n",
    "    primes = [2]\n",
    "    x = 3\n",
    "    \n",
    "    if num < 2:\n",
    "        return 0\n",
    "    \n",
    "    while x <= num:\n",
    "        for y in primes:  # Verwende die Liste von Primzahlen!\n",
    "            if x % y == 0:\n",
    "                x += 2\n",
    "                break\n",
    "        else:\n",
    "            primes.append(x)\n",
    "            x += 2\n",
    "            \n",
    "    print(primes)\n",
    "    return len(primes)"
   ]
  },
  {
   "cell_type": "code",
   "execution_count": 43,
   "metadata": {},
   "outputs": [
    {
     "name": "stdout",
     "output_type": "stream",
     "text": [
      "[2, 3, 5, 7, 11, 13, 17, 19, 23, 29, 31, 37, 41, 43, 47, 53, 59, 61, 67, 71, 73, 79, 83, 89, 97]\n"
     ]
    },
    {
     "data": {
      "text/plain": [
       "25"
      ]
     },
     "execution_count": 43,
     "metadata": {},
     "output_type": "execute_result"
    }
   ],
   "source": [
    "count_primes2(100)"
   ]
  },
  {
   "cell_type": "markdown",
   "metadata": {},
   "source": [
    "-----\n",
    "### Nur zum Spass, kein echtes Problem :)\n",
    "\n",
    "#### GROSSE AUSGABE: Schreibe eine Funktion, die ein Zeichen annimmt und eine 5x5-Repräsentation des Zeichens zurück gibt\n",
    "\n",
    "    print_big('a')\n",
    "    \n",
    "    -->:   *  \n",
    "          * *\n",
    "         *****\n",
    "         *   *\n",
    "         *   *\n",
    "         \n",
    "HNIWEIS: Ziehe den Einsatz eines Dictionaries für die möglichen Muster in Erwägung. Jeder Buchstabe ist eine spezifische 5-Zeilen-Kombination. Für diese Übung reicht es, wenn du nur die Buchstaben bis \"E\" behandelst."
   ]
  },
  {
   "cell_type": "code",
   "execution_count": 44,
   "metadata": {},
   "outputs": [],
   "source": [
    "def print_big(letter):\n",
    "    \"\"\" Gib den Eingabebuchstaben letter ('A', 'B', 'C', 'D' oder 'E') \n",
    "    als Ascii-Kunst aus '*' im Terminal aus. \n",
    "    \"\"\"\n",
    "    \n",
    "    patterns = {1: '  *  ', 2: ' * * ', 3: '*   *', 4: '*****',\n",
    "                5: '**** ', 6: '   * ', 7: ' *   ', 8: '*   * ', 9: '*    '}\n",
    "    \n",
    "    alphabet = {'A': [1, 2, 4, 3, 3], 'B': [5, 3, 5, 3, 5], 'C': [\n",
    "        4, 9, 9, 9, 4], 'D': [5, 3, 3, 3, 5], 'E': [4, 9, 4, 9, 4]}\n",
    "    \n",
    "    for pattern in alphabet[letter.upper()]:\n",
    "        print(patterns[pattern])"
   ]
  },
  {
   "cell_type": "code",
   "execution_count": 45,
   "metadata": {},
   "outputs": [
    {
     "name": "stdout",
     "output_type": "stream",
     "text": [
      "  *  \n",
      " * * \n",
      "*****\n",
      "*   *\n",
      "*   *\n"
     ]
    }
   ],
   "source": [
    "print_big('a')"
   ]
  },
  {
   "cell_type": "markdown",
   "metadata": {},
   "source": [
    "## Klasse!"
   ]
  }
 ],
 "metadata": {
  "kernelspec": {
   "display_name": "Python 3",
   "language": "python",
   "name": "python3"
  },
  "language_info": {
   "codemirror_mode": {
    "name": "ipython",
    "version": 3
   },
   "file_extension": ".py",
   "mimetype": "text/x-python",
   "name": "python",
   "nbconvert_exporter": "python",
   "pygments_lexer": "ipython3",
   "version": "3.8.5"
  },
  "varInspector": {
   "cols": {
    "lenName": 16,
    "lenType": 16,
    "lenVar": 40
   },
   "kernels_config": {
    "python": {
     "delete_cmd_postfix": "",
     "delete_cmd_prefix": "del ",
     "library": "var_list.py",
     "varRefreshCmd": "print(var_dic_list())"
    },
    "r": {
     "delete_cmd_postfix": ") ",
     "delete_cmd_prefix": "rm(",
     "library": "var_list.r",
     "varRefreshCmd": "cat(var_dic_list()) "
    }
   },
   "types_to_exclude": [
    "module",
    "function",
    "builtin_function_or_method",
    "instance",
    "_Feature"
   ],
   "window_display": false
  }
 },
 "nbformat": 4,
 "nbformat_minor": 2
}
