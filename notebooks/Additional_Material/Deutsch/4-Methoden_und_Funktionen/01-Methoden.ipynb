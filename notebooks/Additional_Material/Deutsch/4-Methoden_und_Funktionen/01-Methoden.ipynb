{
 "cells": [
  {
   "cell_type": "markdown",
   "metadata": {},
   "source": [
    "<a href=\"https://www.datamics.com/courses/online-courses/\">![title](bg_datamics_top.png)</a>\n",
    "\n",
    "<center><em>© Datamics</em></center><br><center><em>Besuche uns für mehr Informationen auf <a href='https://www.datamics.com/courses/online-courses/'>www.datamics.com</a></em>"
   ]
  },
  {
   "cell_type": "markdown",
   "metadata": {},
   "source": [
    "# Methoden\n",
    "\n",
    "Wir haben schon ein paar Beispiele für Methoden gesehen, als wir uns mit Objekten und Daten Strukturen in Python befasst haben. Methoden sind eigentlich Funktionen, die in Objekte eingebaut sind. Später im Kurs werden wir noch lernen, wie wir unsere eigenen Objekte und Methoden erstellen, indem wir Objektorientierte Programmierung (OOP) und Klassen nutzen.\n",
    "\n",
    "Methoden führen spezifische Aktionen mit dem Objekt durch und können Parameter aufnehmen, so wie es Funktionen tun. Diese Lektion soll als kurze Einführung zu Methoden dienen und euch zum Denken über das Design von Methoden anregen. Darauf kommen wir zurück, wenn wir die OOP erreichen.\n",
    "\n",
    "Methoden sind in folgender Form gestaltet:\n",
    "\n",
    "    object.method(arg1,arg2,arg3,...)\n",
    "    \n",
    "Ihr werdet später sehen, dass wir uns Methoden so vorstellen können, dass sie einen \"selbst\" (en.: self) Parameter haben, der sich aufs Objekt bezieht. Wir können diesen Parameter jetzt nicht sehen, werden in aber später im Kurs nutzen, wenn wir uns mit OOP beschäftigen.\n",
    "\n",
    "Lasst uns schnell die Methoden von Listen anschauen:"
   ]
  },
  {
   "cell_type": "code",
   "execution_count": 1,
   "metadata": {
    "collapsed": true
   },
   "outputs": [],
   "source": [
    "# Liste erzeugen\n",
    "lst = [1, 2, 3, 4, 5]"
   ]
  },
  {
   "cell_type": "markdown",
   "metadata": {},
   "source": [
    "Glücklicherweise können wir mit iPython und dem Jupyter Notebook schnell sehen, welche möglichen Methoden ein Objekt hat, indem wir die Tab Taste benutzen. Die Methoden für Listen sind:\n",
    "\n",
    "* append (anhängen)\n",
    "* count (zählen)\n",
    "* extend (erweitern)\n",
    "* insert (einfügen)\n",
    "* pop (extrahieren)\n",
    "* remove (entfernen)\n",
    "* reverse (invertieren)\n",
    "* sort (sortieren)\n",
    "\n",
    "Lass uns einige ausprobieren:"
   ]
  },
  {
   "cell_type": "markdown",
   "metadata": {},
   "source": [
    "`append()` lässt uns Elemente ans Ende der Liste anhängen"
   ]
  },
  {
   "cell_type": "code",
   "execution_count": 2,
   "metadata": {
    "collapsed": true
   },
   "outputs": [],
   "source": [
    "lst.append(6)"
   ]
  },
  {
   "cell_type": "code",
   "execution_count": 3,
   "metadata": {},
   "outputs": [
    {
     "data": {
      "text/plain": [
       "[1, 2, 3, 4, 5, 6]"
      ]
     },
     "execution_count": 3,
     "metadata": {},
     "output_type": "execute_result"
    }
   ],
   "source": [
    "lst"
   ]
  },
  {
   "cell_type": "markdown",
   "metadata": {},
   "source": [
    "Super! Was ist mit `count()`? `count()` gibt zurück, wie häufig ein Element in einer Liste vorkommt."
   ]
  },
  {
   "cell_type": "code",
   "execution_count": 4,
   "metadata": {},
   "outputs": [
    {
     "data": {
      "text/plain": [
       "1"
      ]
     },
     "execution_count": 4,
     "metadata": {},
     "output_type": "execute_result"
    }
   ],
   "source": [
    "# Zähle, wie oft 2 in der Liste vorkommt\n",
    "lst.count(2)"
   ]
  },
  {
   "cell_type": "markdown",
   "metadata": {},
   "source": [
    "Du kannst an jeder Stelle Shift + Tab benutzen, um im Jupyter Notebook mehr Hilfe zu den Methoden zu erhalten. Allgemein kann man in Python auch die Funktion `help()` benutzen:"
   ]
  },
  {
   "cell_type": "code",
   "execution_count": 5,
   "metadata": {},
   "outputs": [
    {
     "name": "stdout",
     "output_type": "stream",
     "text": [
      "Help on built-in function count:\n",
      "\n",
      "count(...) method of builtins.list instance\n",
      "    L.count(value) -> integer -- return number of occurrences of value\n",
      "\n"
     ]
    }
   ],
   "source": [
    "help(lst.count)"
   ]
  },
  {
   "cell_type": "markdown",
   "metadata": {},
   "source": [
    "Trau dich ruhig, mit den restlichen Methoden für Listen etwas herumzuspielen. Später in dieser Sektion wird das Quiz die Nutzung von help() und Google Suche nach einigen Methoden beinhalten.\n",
    "\n",
    "Durch diese Lektion solltet ihr wie selbstverständlich Methoden von Objekten aufrufen können.\n",
    "\n",
    "# Toll!"
   ]
  }
 ],
 "metadata": {
  "kernelspec": {
   "display_name": "Python 3",
   "language": "python",
   "name": "python3"
  },
  "language_info": {
   "codemirror_mode": {
    "name": "ipython",
    "version": 3
   },
   "file_extension": ".py",
   "mimetype": "text/x-python",
   "name": "python",
   "nbconvert_exporter": "python",
   "pygments_lexer": "ipython3",
   "version": "3.8.5"
  },
  "varInspector": {
   "cols": {
    "lenName": 16,
    "lenType": 16,
    "lenVar": 40
   },
   "kernels_config": {
    "python": {
     "delete_cmd_postfix": "",
     "delete_cmd_prefix": "del ",
     "library": "var_list.py",
     "varRefreshCmd": "print(var_dic_list())"
    },
    "r": {
     "delete_cmd_postfix": ") ",
     "delete_cmd_prefix": "rm(",
     "library": "var_list.r",
     "varRefreshCmd": "cat(var_dic_list()) "
    }
   },
   "types_to_exclude": [
    "module",
    "function",
    "builtin_function_or_method",
    "instance",
    "_Feature"
   ],
   "window_display": false
  }
 },
 "nbformat": 4,
 "nbformat_minor": 1
}
