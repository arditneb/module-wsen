{
 "cells": [
  {
   "cell_type": "markdown",
   "id": "b21c5dce",
   "metadata": {},
   "source": [
    "# Übungsaufgaben"
   ]
  },
  {
   "cell_type": "markdown",
   "id": "4bda91e3",
   "metadata": {},
   "source": [
    "## Syntax und einfache Berechnungen\n",
    "**Welcher Syntax ist richtig, welcher ist falsch?**"
   ]
  },
  {
   "cell_type": "raw",
   "id": "9f685c79",
   "metadata": {},
   "source": [
    "if a > 0:\n",
    "    print(\"a ist grösser als 0\")\n",
    "elif a < 0:\n",
    "    print(\"a ist kleiner als 0\")\n",
    "elif a = 0:\n",
    "    print(\"a ist 0\")"
   ]
  },
  {
   "cell_type": "markdown",
   "id": "dfa34e1c",
   "metadata": {},
   "source": [
    "Falsch, in Zeile 5 müsste es zwei Gleichzeichen haben."
   ]
  },
  {
   "cell_type": "raw",
   "id": "4aa9dcab",
   "metadata": {},
   "source": [
    "def sag_hallo():\n",
    "    print(Hallo, ich bin ein Computer.)"
   ]
  },
  {
   "cell_type": "markdown",
   "id": "848707d5",
   "metadata": {},
   "source": [
    "Falsch, es fehlen die Anführungszeichen um den String."
   ]
  },
  {
   "cell_type": "raw",
   "id": "fab4bf17",
   "metadata": {},
   "source": [
    "a = 0\n",
    "b = 1\n",
    "print(\"B durch A gibt:\", b/a)"
   ]
  },
  {
   "cell_type": "markdown",
   "id": "48db8f41",
   "metadata": {},
   "source": [
    "Syntax ist richtig - der Code gibt allerdings einen sematischen Fehler, da wir durch 0 dividieren."
   ]
  },
  {
   "cell_type": "raw",
   "id": "49bd6a1a",
   "metadata": {},
   "source": [
    "cOoLeVaRiAblE23 = 3"
   ]
  },
  {
   "cell_type": "markdown",
   "id": "c44a8013",
   "metadata": {},
   "source": [
    "Der Syntax ist richtig - allerdings nicht zu empfehlen."
   ]
  },
  {
   "cell_type": "raw",
   "id": "573cbd92",
   "metadata": {},
   "source": [
    "1eNiceVariable = 4"
   ]
  },
  {
   "cell_type": "markdown",
   "id": "f50efaae",
   "metadata": {},
   "source": [
    "Nicht zulässig, da die Variable mit 1 beginnt."
   ]
  },
  {
   "cell_type": "raw",
   "id": "d82d67df",
   "metadata": {},
   "source": [
    "def coole_funktion!(argument):\n",
    "    print(\"ich habe die besseren Argumente:\", argument)"
   ]
  },
  {
   "cell_type": "markdown",
   "id": "0531ad40",
   "metadata": {},
   "source": [
    "Nicht zulässig, einzig Buchstaben, Zahlen (ausser am Anfang) sowie das Underscore _ darf in einem Funktions- oder Variablennamen verwendet werden."
   ]
  },
  {
   "cell_type": "raw",
   "id": "88c02170",
   "metadata": {},
   "source": [
    "def darf_man_das(a):\n",
    "  print(\"hi\")\n",
    "  if a               > 0:\n",
    "                                              print(\"a > 0\")\n",
    "  else:\n",
    "   print(\"hi\")"
   ]
  },
  {
   "cell_type": "markdown",
   "id": "cadb22c3",
   "metadata": {},
   "source": [
    "Zulässig, ausschlaggebend ist jeweils nur, dass innerhalb des Codeblocks gleich weit eingerückt wurde (z.B. das erste print, if und else müssen alle gleich weit eingerückt sein, da sie Teil desselben Codeblocks - der Funktionsdefinition - sind. \n",
    "\n",
    "Schön ist es aber nicht - es empfiehlt sich, immer 4 Leerzeichen bzw. ein Tabulator einzurücken."
   ]
  },
  {
   "cell_type": "markdown",
   "id": "f87d296a",
   "metadata": {},
   "source": [
    "**Welche Werte haben die Variablen nach den folgenden Berechnungen?**"
   ]
  },
  {
   "cell_type": "code",
   "execution_count": null,
   "id": "63ee86d4",
   "metadata": {},
   "outputs": [],
   "source": [
    "a = 2\n",
    "b = 3\n",
    "c = a + b\n",
    "b = 4\n",
    "d = a + b\n",
    "a += d\n",
    "d = a // c"
   ]
  },
  {
   "cell_type": "code",
   "execution_count": null,
   "id": "98d0ffde",
   "metadata": {},
   "outputs": [],
   "source": [
    "\"123\".isdigit()"
   ]
  },
  {
   "cell_type": "markdown",
   "id": "82b7938a",
   "metadata": {},
   "source": [
    "## Casting\n",
    "Was sind die Resultate folgender Operationen?"
   ]
  },
  {
   "cell_type": "raw",
   "id": "d22a5796",
   "metadata": {},
   "source": [
    "int(-2)\n",
    "float(-2)\n",
    "float(\"4\")\n",
    "int(\"2.0\")\n",
    "bool(1.0)\n",
    "bool(0.0)\n",
    "bool(-2.0)\n",
    "list(\"hallo\")"
   ]
  },
  {
   "cell_type": "markdown",
   "id": "af3a8cc2",
   "metadata": {},
   "source": [
    "## Kontrollstrukturen & Vergleichsoperatoren"
   ]
  },
  {
   "cell_type": "markdown",
   "id": "643b4d5b",
   "metadata": {},
   "source": [
    "**Was geben folgende Programme aus?**"
   ]
  },
  {
   "cell_type": "raw",
   "id": "74e0a243",
   "metadata": {},
   "source": [
    "a = 3\n",
    "b = 2\n",
    "\n",
    "print(\"Wo\")\n",
    "\n",
    "if a > 2 and b >= a:\n",
    "    print(\"finde\")\n",
    "elif b == 2:\n",
    "    print(\"ist\")\n",
    "else:\n",
    "    print(\"isst\")\n",
    "    \n",
    "    if a == 3:\n",
    "        print(\"Fritz?\")\n",
    "\n",
    "if b > 2:\n",
    "    if True:\n",
    "        print(\"Urs?\")\n",
    "\n",
    "    else:\n",
    "        print(\"Karin?\")\n",
    "else:\n",
    "    print(\"Waldo?\")"
   ]
  },
  {
   "cell_type": "markdown",
   "id": "477e0292",
   "metadata": {},
   "source": [
    "**Geben folgende Funktionen das erwartete (und im Docstring beschriebene) Resultat?** Wie können sie korrigiert werden?"
   ]
  },
  {
   "cell_type": "code",
   "execution_count": null,
   "id": "ec67f8c0",
   "metadata": {},
   "outputs": [],
   "source": [
    "def summe_von_bis(start, stop):\n",
    "    \"\"\"Berechnet die Summe aller Zahlen von 'start' bis und mit 'stop'.\"\"\"\n",
    "    resultat = 0\n",
    "    for i in range(start, stop):      # Korrektur: nicht bei stop, sondern bei stop + 1 enden.\n",
    "        resultat += i\n",
    "    return resultat"
   ]
  },
  {
   "cell_type": "markdown",
   "id": "dcc006c8",
   "metadata": {},
   "source": [
    "range(start, stop) enthält alle Zahlen beginnend bei start, aber die letzte Zahl ist stop - 1 (und nicht stop)."
   ]
  },
  {
   "cell_type": "code",
   "execution_count": null,
   "id": "ac65009d",
   "metadata": {},
   "outputs": [],
   "source": [
    "def produkt_bis(stop):\n",
    "    \"\"\"Berechnet das Produkt aller Zahlen von 1 bis und mit 'stop'\"\"\"\n",
    "    resultat = 0                      # Korrektur: Resultat muss mit 1 initialisiert werden\n",
    "    for i in range(1, stop + 1):\n",
    "        resultat *= i\n",
    "    return resultat"
   ]
  },
  {
   "cell_type": "markdown",
   "id": "0e4cfe2a",
   "metadata": {},
   "source": [
    "Wenn wir das Resultat mit 0 initialisieren, rechnen wir immer 0 * i = 0, also für jede Iteration wird das Resultat 0 bleiben."
   ]
  },
  {
   "cell_type": "code",
   "execution_count": null,
   "id": "e117fe0a",
   "metadata": {},
   "outputs": [],
   "source": [
    "def wer_ist_aelter(name1, alter1, name2, alter2):\n",
    "    \"\"\"Nimmt Name und Alter von Person 1 und 2, schreibt in Konsole, wer älter ist.\"\"\"\n",
    "    \n",
    "    if alter1 > alter2:\n",
    "        print(name1, \"ist älter als\", name2)\n",
    "    if alter2 > alter1:                # Korrektur: Ersetzen mit elif\n",
    "        print(name2, \"ist älter als\", name1)\n",
    "    else:\n",
    "        print(\"beide sind gleich alt\")"
   ]
  },
  {
   "cell_type": "markdown",
   "id": "f0882085",
   "metadata": {},
   "source": [
    "Das else bezieht sich immer nur auf das letzte vorangehende if."
   ]
  },
  {
   "cell_type": "markdown",
   "id": "48a6101d",
   "metadata": {},
   "source": [
    "**Scheibe folgende for-Loops in while-Loops um**."
   ]
  },
  {
   "cell_type": "code",
   "execution_count": null,
   "id": "bfe81a93",
   "metadata": {},
   "outputs": [],
   "source": [
    "for e in range(5):\n",
    "    print(2 ** e)"
   ]
  },
  {
   "cell_type": "code",
   "execution_count": null,
   "id": "1470aa80",
   "metadata": {},
   "outputs": [],
   "source": [
    "e = 0\n",
    "while e < 5:\n",
    "    print(2 ** e)\n",
    "    e += 1"
   ]
  },
  {
   "cell_type": "code",
   "execution_count": null,
   "id": "e43bbd39",
   "metadata": {},
   "outputs": [],
   "source": [
    "def das_kleine_einmaleins():\n",
    "    \"\"\"Erzeugt eine Tabelle mit dem kleinen 1x1.\n",
    "    Als Wandposter: https://www.trenddeko.ch/poster-das-kleine-1x1-wa317907-m\n",
    "    \"\"\"\n",
    "    output = []\n",
    "    for i in range(1, 11):\n",
    "        sublist = []\n",
    "        for j in range(1, 11):\n",
    "            sublist.append(i * j)\n",
    "        output.append(sublist)\n",
    "    return output"
   ]
  },
  {
   "cell_type": "code",
   "execution_count": null,
   "id": "9f0fc094",
   "metadata": {},
   "outputs": [],
   "source": [
    "def das_kleine_einmaleins():\n",
    "    \"\"\"jetzt mit while-Loops\"\"\"\n",
    "    output = []\n",
    "    i = 1\n",
    "    while i <= 10:\n",
    "        sublist = []\n",
    "        j = 1\n",
    "        while j <= 10:\n",
    "            sublist.append(i * j)\n",
    "            j += 1\n",
    "        output.append(sublist)\n",
    "        i += 1\n",
    "    return output"
   ]
  },
  {
   "cell_type": "code",
   "execution_count": null,
   "id": "000d1326",
   "metadata": {},
   "outputs": [],
   "source": [
    "pflanzen_wassermenge = [\n",
    "    [\"Basilikum\", 0.3],\n",
    "    [\"Rosmarin\", 0.1], \n",
    "    [\"Ufo-pflanze\", 0.2],\n",
    "    [\"Papyrus\", 1.2]\n",
    "]\n",
    "\n",
    "for zeile in pflanzen_wassermenge:\n",
    "    pflanze = zeile[0]\n",
    "    wassermenge = zeile[1]\n",
    "    \n",
    "    print(\"Giesst\", pflanze, \"mit\", wassermenge, \"Liter Wasser.\")\n",
    "    "
   ]
  },
  {
   "cell_type": "code",
   "execution_count": null,
   "id": "263c77f2",
   "metadata": {},
   "outputs": [],
   "source": [
    "index = 0\n",
    "\n",
    "while index < len(pflanzen_wassermenge):\n",
    "    pflanze = pflanzen_wassermenge[index][0]\n",
    "    wassermenge = pflanzen_wassermenge[index][1]\n",
    "    \n",
    "    print(\"Giesst\", pflanze, \"mit\", wassermenge, \"Liter Wasser.\")\n",
    "    index += 1"
   ]
  },
  {
   "cell_type": "markdown",
   "id": "1e4072a3",
   "metadata": {},
   "source": [
    "**Was macht folgende Funktion?**"
   ]
  },
  {
   "cell_type": "code",
   "execution_count": null,
   "id": "0f9fb46a",
   "metadata": {},
   "outputs": [],
   "source": [
    "def unnamed(number):\n",
    "    output = \"\"\n",
    "    while number > 0:\n",
    "        output = str(number % 2) + output\n",
    "        number //= 2\n",
    "    return output"
   ]
  },
  {
   "cell_type": "markdown",
   "id": "e59e4c3b",
   "metadata": {},
   "source": [
    "Diese Funktion konvertiert eine Zahl vom Dezimalsystem ins binäre Zahlensystem (mit Basis 2)."
   ]
  },
  {
   "cell_type": "markdown",
   "id": "e83be8ab",
   "metadata": {},
   "source": [
    "## Funktionen\n",
    "**Was ist die Ausgabe folgender Programme?**"
   ]
  },
  {
   "cell_type": "raw",
   "id": "33777206",
   "metadata": {},
   "source": [
    "x = 3\n",
    "\n",
    "def some_func(x):\n",
    "    print(x)\n",
    "    \n",
    "some_func(4)"
   ]
  },
  {
   "cell_type": "raw",
   "id": "c36b1599",
   "metadata": {},
   "source": [
    "y = 4\n",
    "\n",
    "def some_other_func(x):\n",
    "    y = x + 2\n",
    "    print(y)\n",
    "    \n",
    "print(y)"
   ]
  },
  {
   "cell_type": "raw",
   "id": "52ac0f10",
   "metadata": {},
   "source": [
    "z = 23\n",
    "\n",
    "def yet_another_func():\n",
    "    z = 3\n",
    "    print(z)\n",
    "   \n",
    "print(z)"
   ]
  },
  {
   "cell_type": "markdown",
   "id": "bade2bc7",
   "metadata": {},
   "source": [
    "## Exception Handling\n",
    "**Aufgaben**\n",
    "Komplettiere folgende Funktionen:"
   ]
  },
  {
   "cell_type": "code",
   "execution_count": null,
   "id": "539ea4c8",
   "metadata": {},
   "outputs": [],
   "source": [
    "# verschiedene Lösungsvorschläge (es lohnt sich, bei allen zu verstehen, wieso sie funktionieren)\n",
    "\n",
    "def frage_nach_float():\n",
    "\n",
    "    while True:\n",
    "        try:\n",
    "            return float(input(\"Gib eine Zahl ein.\"))\n",
    "        except: # es braucht immer ein except, auch wenn wir hier absolut nichts machen (mit pass)\n",
    "            pass\n",
    "        \n",
    "        \n",
    "def frage_nach_float():\n",
    "    \n",
    "    while True:\n",
    "        try:\n",
    "            zahl = float(input(\"Gib eine Zahl ein.\"))\n",
    "        except:\n",
    "            continue # könnte auch wieder pass sein\n",
    "        else:\n",
    "            return zahl\n",
    "\n",
    "        \n",
    "def frage_nach_float():\n",
    "    \n",
    "    while True:\n",
    "        antwort = input(\"Gib eine Zahl zurück\")\n",
    "        try:\n",
    "            zahl = float(antwort)\n",
    "            break\n",
    "        except:\n",
    "            continue\n",
    "    return zahl\n",
    "    \n"
   ]
  },
  {
   "cell_type": "code",
   "execution_count": null,
   "id": "f7667479",
   "metadata": {},
   "outputs": [],
   "source": [
    "def fail_safe_inverse(x):\n",
    "    \"\"\"Berechnet 1/x. Falls x 0 ist, geben wir 0 zurück.\"\"\"\n",
    "    try:\n",
    "        return 1/x\n",
    "    except:\n",
    "        return 0"
   ]
  },
  {
   "cell_type": "markdown",
   "id": "1e459781",
   "metadata": {},
   "source": [
    "Für folgende Funktion, welchen Output erhalten wir für den Wert x=0, und welchen Output für x=1?"
   ]
  },
  {
   "cell_type": "raw",
   "id": "45c9fe5c",
   "metadata": {},
   "source": [
    "def example_func(x):\n",
    "    \n",
    "    try:\n",
    "        result = 1 / x\n",
    "    except:\n",
    "        result = 0.0\n",
    "        print(\"Fehler in Berechnung, setze Resultat = 0\")\n",
    "    else:\n",
    "        print(\"Berechnung war erfolgreich.\")\n",
    "    finally:\n",
    "        print(\"Das Resultat ist\", result)"
   ]
  },
  {
   "cell_type": "markdown",
   "id": "1812f7f2",
   "metadata": {},
   "source": [
    "## Listen und Strings"
   ]
  },
  {
   "cell_type": "code",
   "execution_count": null,
   "id": "5f62db83",
   "metadata": {},
   "outputs": [],
   "source": [
    "def vokale_entfernen(string):\n",
    "    \"\"\"Entfernt alle Vokale (aeiou) aus dem angegebenen String.\"\"\"\n",
    "    for vokal in \"aeiou\":\n",
    "        string = string.replace(vokal, \"\")\n",
    "    return string"
   ]
  },
  {
   "cell_type": "code",
   "execution_count": null,
   "id": "b483634b",
   "metadata": {},
   "outputs": [],
   "source": [
    "def substring_entfernen(string, substring):\n",
    "    \"\"\"Falls der substring im string enthalten wird, wird der erste (und nur der erste) substring \n",
    "    entfernt.\"\"\"\n",
    "    before, substring, after = string.partition(substring)\n",
    "    return before + after"
   ]
  },
  {
   "cell_type": "code",
   "execution_count": null,
   "id": "b10c7db3",
   "metadata": {},
   "outputs": [],
   "source": [
    "def substring_entfernen(string, substring):\n",
    "    \"\"\"Falls der substring im string enthalten wird, wird der erste (und nur der erste) substring \n",
    "    entfernt.\"\"\"\n",
    "    # alternative Lösung mit index\n",
    "    start_index = string.find(substring)\n",
    "    \n",
    "    # .find gibt -1 zurück, falls es nichts findet.\n",
    "    if start_index == -1:\n",
    "        return string\n",
    "    \n",
    "    stop_index = start_index + len(substring)\n",
    "    return string[:start_index] + string[stop_index:]        "
   ]
  },
  {
   "cell_type": "code",
   "execution_count": null,
   "id": "37761bbe",
   "metadata": {},
   "outputs": [],
   "source": [
    "a = [1, 2, 3]\n",
    "b = a\n",
    "a[2] = -1\n",
    "# what is in b? what is returned by \"a is b\"?"
   ]
  },
  {
   "cell_type": "markdown",
   "id": "c34e19db",
   "metadata": {},
   "source": [
    "## Weiterführende Aufgaben\n",
    "**Komplettiere folgende Funktionen:**"
   ]
  },
  {
   "cell_type": "code",
   "execution_count": null,
   "id": "4b3d3da1",
   "metadata": {},
   "outputs": [],
   "source": [
    "def kleinster_divisor(a):\n",
    "    \"\"\"Gibt die kleinste ganze Zahl >= 2 zurück, durch welche die eingegebene Zahl a ohne Rest dividiert werden kann.\"\"\"\n",
    "    \n",
    "    for i in range(2, a):\n",
    "        if a % i == 0:\n",
    "            return i\n",
    "        \n",
    "    return a # falls kein Divisor gefunden, ist a selbst der grösste divisor"
   ]
  },
  {
   "cell_type": "code",
   "execution_count": null,
   "id": "b06f948a",
   "metadata": {},
   "outputs": [],
   "source": [
    "def ist_primzahl(a):\n",
    "    \"\"\"Überprüft, ob die Zahl a eine Primzahl ist. Dies machen wir, indem wir überprüfen, ob der kleinste Divisor \n",
    "    die Zahl selbst ist. Gibt eine boolean-Variabel zurück.\"\"\"\n",
    "    \n",
    "    return kleinster_divisor(a) == a"
   ]
  },
  {
   "cell_type": "code",
   "execution_count": null,
   "id": "6b0afcc9",
   "metadata": {},
   "outputs": [],
   "source": [
    "def primzahlen_bis(stop):\n",
    "    \"\"\"printet alle Primzahlen von 0 bis stop.\"\"\"\n",
    "    \n",
    "    for i in range(stop + 1):\n",
    "        if ist_primzahl(i):\n",
    "            print(i)"
   ]
  },
  {
   "cell_type": "code",
   "execution_count": null,
   "id": "c28587fe",
   "metadata": {},
   "outputs": [],
   "source": [
    "def primzahlen_bis_als_liste(stop):\n",
    "    \"\"\"Gibt eine Liste mit allen Primzahlen zwischen 0 und stop zurück, verwendet ist_primzahl von oben.\"\"\"\n",
    "    output = []\n",
    "    for i in range(stop + 1):\n",
    "        if ist_primzahl(i):\n",
    "            output.append(i)\n",
    "    return output"
   ]
  },
  {
   "cell_type": "code",
   "execution_count": null,
   "id": "6d787449",
   "metadata": {},
   "outputs": [],
   "source": [
    "def primzahlen_bis_als_liste2(stop):\n",
    "    \"\"\"Gibt eine Liste mit allen Primzahlen zwischen 0 und stop zurück, geht wie folgt vor:\n",
    "    \n",
    "    Zuerst erstellen wir eine Liste mit allen Zahlen zwischen 0 und stop.\n",
    "    Dann machen wir für jede Kombination von i und j zwischen 0 und stop/2 folgendes:\n",
    "        Wir entfernen den Wert i * j aus der ursprünglichen Liste\n",
    "    \"\"\"\n",
    "    \n",
    "    candidates = list(range(2, stop + 1))\n",
    "    \n",
    "    for i in range(2, stop // 2 + 1):\n",
    "        for j in range(2, stop // 2 + 1):\n",
    "            product = i * j\n",
    "            \n",
    "            # candidates.remove gibt Fehler, falls die Zahl bereits entfernt wurde.\n",
    "            # diesen Fehler fangen wir hier ab - da uns dies ja egal ist.\n",
    "            try:\n",
    "                candidates.remove(product)\n",
    "            except: \n",
    "                pass\n",
    "            \n",
    "            # optionaler Block, um den Code schneller zu machen: sobald i * j grösser als stop \n",
    "            # ist, ist für uns das Produkt egal. Da die j immer grösser werden, sind auch alle\n",
    "            # zukünftigen Produkte i * j grösser als stop - und wir können daher direkt zum\n",
    "            # nächstgrösseren i springen\n",
    "            if i * j > stop:\n",
    "                break\n",
    "                \n",
    "    return candidates"
   ]
  },
  {
   "cell_type": "markdown",
   "id": "518670cc",
   "metadata": {},
   "source": [
    "Kleine Nebenbemerkung (*nicht Prüfungsrelevant*): Um zu überprüfen, welche Version schneller ist, können wir z.B. timeit verwenden. Dies funktioniert nur in Jupyter Notebooks (denn das % am Anfang der Zeile ist nicht von Python, sondern spezifisch für Jupyter Notebooks)."
   ]
  },
  {
   "cell_type": "code",
   "execution_count": null,
   "id": "37eaf36a",
   "metadata": {},
   "outputs": [],
   "source": [
    "%timeit primzahlen_bis_als_liste(100)"
   ]
  },
  {
   "cell_type": "code",
   "execution_count": null,
   "id": "2deee7f3",
   "metadata": {},
   "outputs": [],
   "source": [
    "%timeit primzahlen_bis_als_liste2(100)"
   ]
  },
  {
   "cell_type": "markdown",
   "id": "7f6052ea",
   "metadata": {},
   "source": [
    "Weitere Aufgabe: "
   ]
  },
  {
   "cell_type": "code",
   "execution_count": null,
   "id": "4a46ca8a",
   "metadata": {},
   "outputs": [],
   "source": [
    "def quersumme(zahl):\n",
    "    \"\"\"Berechnet die Quersumme der Zahl - also die Summe der einzelnen Ziffern.\n",
    "    Beispiel:\n",
    "    11 -> 1+1 = 2\n",
    "    132 -> 1+3+2 = 6\n",
    "    etc.\n",
    "    \"\"\"\n",
    "    \n",
    "    als_string = str(zahl)\n",
    "    \n",
    "    resultat = 0\n",
    "    for ziffer in als_string:\n",
    "        ziffer_als_zahl = int(ziffer)\n",
    "        resultat += ziffer_als_zahl\n",
    "    return resultat"
   ]
  },
  {
   "cell_type": "code",
   "execution_count": null,
   "id": "4a69104e",
   "metadata": {},
   "outputs": [],
   "source": [
    "quersumme(123)"
   ]
  },
  {
   "cell_type": "code",
   "execution_count": null,
   "id": "a3295fa5",
   "metadata": {},
   "outputs": [],
   "source": []
  }
 ],
 "metadata": {
  "kernelspec": {
   "display_name": "Python 3",
   "language": "python",
   "name": "python3"
  },
  "language_info": {
   "codemirror_mode": {
    "name": "ipython",
    "version": 3
   },
   "file_extension": ".py",
   "mimetype": "text/x-python",
   "name": "python",
   "nbconvert_exporter": "python",
   "pygments_lexer": "ipython3",
   "version": "3.8.8"
  }
 },
 "nbformat": 4,
 "nbformat_minor": 5
}
