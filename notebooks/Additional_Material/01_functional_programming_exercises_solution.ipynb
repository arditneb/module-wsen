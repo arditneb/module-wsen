{
 "cells": [
  {
   "cell_type": "markdown",
   "id": "91ad88ef",
   "metadata": {},
   "source": [
    "# * und **\n",
    "Löse folgende Aufgaben.\n",
    "\n",
    "1. Schreibe eine Funktion, welche die unbenannten Funktionsargumente sortiert und als Liste zurückgibt. Verwende dazu die Funktion sorted, welche Tuples oder Listen sortiert. \n",
    "2. Schreibe eine Funktion, welche sowohl unbenannte wie auch benannte Funktionsargumente sortiert. Der übergebene Name der Funktionsargumente ist dabei egal.\n",
    "3. Schreibe eine Funktion, welche alle Funktionsargumente als dictionary zurückgibt. Bei den benannten Funktionsargumenten ist der key der übergebene Parametername, und value der Parameterwert. Bei den unbenannten Funktionsargumenten ist der key die Position, an welcher der Parameter stand, und der value der Parameterwert. Beispiel: `h(1, 5, a=3, b=\"123\")` wird zu `{0: 1, 1: 5, \"a\": 3, \"b\": \"123\"}`\n",
    "\n",
    "Bonus-challenge: Code-golf, hierbei ist das Ziel, möglichst wenig Zeichen zu verwenden."
   ]
  },
  {
   "cell_type": "code",
   "execution_count": 1,
   "id": "a51f4a4e",
   "metadata": {},
   "outputs": [],
   "source": [
    "# Lösung 1\n",
    "# wir verwenden *, sodass alle Funktionsargumente innerhalb der Funktion als Tuple vorhanden sind. \n",
    "# Mit sorted() sortieren wir dieses Tuple. sorted gibt direkt eine Liste, welche wir dann zurückgeben.\n",
    "def f(*args):                \n",
    "    return sorted(args)"
   ]
  },
  {
   "cell_type": "code",
   "execution_count": 2,
   "id": "2c494910",
   "metadata": {},
   "outputs": [],
   "source": [
    "# Lösung 2\n",
    "# Die Schwierigkeit hier ist es, die values des dictionaries zu erhalten, und dem Tuple hinzuzufügen.\n",
    "\n",
    "# Lösungsvorschlag A\n",
    "def g1(*args, **kwargs):\n",
    "    # die values des dictionary kwargs als tuple casten\n",
    "    kwargs_values = tuple(kwargs.values())\n",
    "    \n",
    "    # args und kwarg-values konkatenieren\n",
    "    concat = args + kwargs_values\n",
    "    \n",
    "    # sortiert zurückgeben\n",
    "    return sorted(concat)\n",
    "    \n",
    "\n",
    "# Lösungsvorschlag B\n",
    "def g2(*args, **kwargs):\n",
    "    \n",
    "    # mit for-loop eine Liste aller kwarg-values erstellen\n",
    "    kwarg_values = []\n",
    "    for value in kwargs.values():\n",
    "        kwarg_values.append(value)\n",
    "    \n",
    "    # args in eine Liste umwandeln, damit wir sie mit der kwarg-value liste konkatenieren können\n",
    "    arg_list = list(args)\n",
    "    \n",
    "    concat = arg_list + kwarg_values\n",
    "    \n",
    "    # sortiert zurückgeben\n",
    "    return sorted(concat)\n",
    "\n",
    "\n",
    "# Lösungsvorschlag C\n",
    "def g3(*args, **kwargs):\n",
    "    \n",
    "    # mit list-comprehension eine Liste aller kwarg-values erstellen\n",
    "    kwarg_values = [value for value in kwargs.values()]\n",
    "    concat = list(args) + kwarg_values\n",
    "    return sorted(concat)\n",
    "    \n",
    "# Code-golf\n",
    "def g(*a,**k):\n",
    "    return sorted(a+tuple(k.values()))"
   ]
  },
  {
   "cell_type": "code",
   "execution_count": 3,
   "id": "da1ffcfd",
   "metadata": {},
   "outputs": [],
   "source": [
    "# Lösung 3\n",
    "# Die Schwierigkeit hier ist es, ein dictionary vom Index zur Argumentsposition\n",
    "# zu erstellen. Dieser neue dictionary können wir anschliessend mit kwargs.update(other)\n",
    "# dem kwargs-dict hinzufügen. Schliesslich geben wir den \"updated\"-kwargs-dict zurück.\n",
    "\n",
    "# Lösungsvorschlag A: verwenden von enumerate und dict\n",
    "def h1(*args, **kwargs):\n",
    "    \n",
    "    # enumerate(args) gibt ein Iterator von (index, Wert)-Tuples zurück.\n",
    "    # Diesen Iterator können wir direct als dictionary casten.\n",
    "    args_dict = dict(enumerate(args))\n",
    "    \n",
    "    # args_dict dem kwargs-dictionary hinzufügen\n",
    "    kwargs.update(args_dict)\n",
    "    \n",
    "    return kwargs\n",
    "\n",
    "# Lösungsvorschlag B: dict-comprehension und enumerate\n",
    "def h2(*args, **kwargs):\n",
    "    \n",
    "    args_dict = {i: arg for i, arg in enumerate(args)}\n",
    "    \n",
    "    kwargs.update(args_dict)\n",
    "    return kwargs\n",
    "\n",
    "# Lösungsvorschlag C: for i in range\n",
    "def h3(*args, **kwargs):\n",
    "    args_dict = {}\n",
    "    for i in range(len(args)):\n",
    "        args_dict[i] = args[i]\n",
    "    kwargs.update(args_dict)\n",
    "    \n",
    "# Lösungsvorschlag D: Code-golf\n",
    "# Wir können zwei dictionaries auch mit dem Syntax {**a, **b} zusammenführen\n",
    "def h(*a,**k):\n",
    "    return {**k,**dict(enumerate(a))}"
   ]
  },
  {
   "cell_type": "markdown",
   "id": "72894724",
   "metadata": {},
   "source": [
    "# If-Expressions\n",
    "Schreibe die folgenden Funktionen mit normalen if/elif/else Blöcken um:"
   ]
  },
  {
   "cell_type": "code",
   "execution_count": 4,
   "id": "672ec7f0",
   "metadata": {},
   "outputs": [],
   "source": [
    "def absolute_value(x):\n",
    "    return x if x > 0 else -x\n",
    "\n",
    "def wie_hart_ist_mein_ei(kochzeit):\n",
    "    return (\n",
    "        \"roh\" if kochzeit < 2 else\n",
    "        \"weich\" if kochzeit < 4 else\n",
    "        \"wachsweich\" if kochzeit < 6 else\n",
    "        \"hart\"\n",
    "    )\n",
    "    "
   ]
  },
  {
   "cell_type": "code",
   "execution_count": 5,
   "id": "bcfa0972",
   "metadata": {},
   "outputs": [],
   "source": [
    "# LÖSUNG\n",
    "def absolute_value(x):\n",
    "    if x > 0:\n",
    "        return x\n",
    "    return -x\n",
    "\n",
    "def wie_hart_ist_mein_ei(kochzeit):\n",
    "    if kochzeit < 2:\n",
    "        return \"roh\"\n",
    "    elif kochzeit < 4:\n",
    "        return \"weich\"\n",
    "    elif kochzeit < 6:\n",
    "        return \"wachsweich\"\n",
    "    else:\n",
    "        return \"hart\""
   ]
  },
  {
   "cell_type": "markdown",
   "id": "b6e3ec8a",
   "metadata": {},
   "source": [
    "Scheibe die folgenden Funktion mit if-Expressions um."
   ]
  },
  {
   "cell_type": "code",
   "execution_count": 6,
   "id": "c7137076",
   "metadata": {},
   "outputs": [],
   "source": [
    "def sign_of_a(a):\n",
    "    \"\"\"Returns 1 if a number is strictly positive (> 0), -1 \n",
    "    if a number is strictly negative (< 0), and 0 if the number is 0.\"\"\"\n",
    "    if a > 0:\n",
    "        return 1\n",
    "    elif a < 0:\n",
    "        return -1\n",
    "    return 0    "
   ]
  },
  {
   "cell_type": "code",
   "execution_count": 7,
   "id": "bf05d597",
   "metadata": {},
   "outputs": [],
   "source": [
    "# LÖSUNG\n",
    "def sign_of_a(a):\n",
    "    return (\n",
    "        1 if a > 0\n",
    "        else -1 if a < 0\n",
    "        else 0\n",
    "    )"
   ]
  },
  {
   "cell_type": "markdown",
   "id": "9b887a14",
   "metadata": {},
   "source": [
    "# Funktionen als First-Class Citizens\n"
   ]
  },
  {
   "cell_type": "markdown",
   "id": "f9ed2d7a",
   "metadata": {},
   "source": [
    "Schreibe eine Funktion `operator`, welche als Argument eine String erhält. Diese string kann `\"+\", \"-\", \"*\"` oder `\"/\"` sein. Die Funktion gibt eine andere Funktion zurück, welche zwei Argumente erhält, und diese je nach Operator richtig miteinander verrechnet.\n",
    "\n",
    "Beispiele:\n",
    "- `operator(\"+\")(1, 3) === 4`\n",
    "- `operator(\"-\")(3, 4) === -1`.\n",
    "\n",
    "Bonuspunkte für die kürzest-mögliche Antwort."
   ]
  },
  {
   "cell_type": "code",
   "execution_count": 8,
   "id": "f46a3b22",
   "metadata": {},
   "outputs": [],
   "source": [
    "# Beste Antwort\n",
    "def operator(op):\n",
    "    if op == \"+\":\n",
    "        return lambda x, y: x + y\n",
    "    elif op == \"-\":\n",
    "        return lambda x, y: x - y\n",
    "    elif op == \"*\":\n",
    "        return lambda x, y: x * y\n",
    "    elif op == \"/\":\n",
    "        return lambda x, y: x / y\n",
    "    else:\n",
    "        raise ValueError(\"Invalid input for op.\")"
   ]
  },
  {
   "cell_type": "code",
   "execution_count": 9,
   "id": "fd4d1d00",
   "metadata": {},
   "outputs": [],
   "source": [
    "# Wir können die Antwort auch deutlich verkürzen, indem wir eval \n",
    "# verwenden. Grundsätzlich ist wohl aber von eval abzuraten.\n",
    "def operator(op):\n",
    "    return lambda x, y: eval(f\"{x}{op}{y}\")"
   ]
  },
  {
   "cell_type": "markdown",
   "id": "64172694",
   "metadata": {},
   "source": [
    "# Comprehensions\n",
    "Transformiere die Liste a (in der nachfolgenden Zelle definiert) mit for-comprehensions, um folgende Objekte zu erhalten:\n",
    "1. Eine Liste mit den Quadratzahlen aller Elemente von a.\n",
    "2. Eine Liste mit allen geraden Zahlen in a.\n",
    "3. Ein Set mit allen Rest-Werten, nachdem man die Elemente von a durch 3 dividiert.\n",
    "4. Ein dictionary von den Werten in a zu ihren Quadratzahlen.\n",
    "5. Ein dictionary vom Listenindex zum Wert der Liste (d.h. {0: 1, 1: 5, 2: 2, 3: -1, 4: 8})\n",
    "5. (Bonus): Eine Liste, welche an erster Position a[0] + a[1] enthält, an zweiter Position a[1] + a[2], an dritter Position a[3] + a[4], etc."
   ]
  },
  {
   "cell_type": "code",
   "execution_count": 10,
   "id": "c6f99a89",
   "metadata": {},
   "outputs": [],
   "source": [
    "a = [1, 5, 2, -1, 8]"
   ]
  },
  {
   "cell_type": "code",
   "execution_count": 11,
   "id": "b716c917",
   "metadata": {},
   "outputs": [
    {
     "data": {
      "text/plain": [
       "[1, 25, 4, 1, 64]"
      ]
     },
     "execution_count": 11,
     "metadata": {},
     "output_type": "execute_result"
    }
   ],
   "source": [
    "# Lösung 1\n",
    "[val**2 for val in a]"
   ]
  },
  {
   "cell_type": "code",
   "execution_count": 12,
   "id": "22b5114e",
   "metadata": {},
   "outputs": [
    {
     "data": {
      "text/plain": [
       "[2, 8]"
      ]
     },
     "execution_count": 12,
     "metadata": {},
     "output_type": "execute_result"
    }
   ],
   "source": [
    "# Lösung 2\n",
    "[val for val in a if val % 2 == 0]"
   ]
  },
  {
   "cell_type": "code",
   "execution_count": 13,
   "id": "3193961b",
   "metadata": {},
   "outputs": [
    {
     "data": {
      "text/plain": [
       "{1, 2}"
      ]
     },
     "execution_count": 13,
     "metadata": {},
     "output_type": "execute_result"
    }
   ],
   "source": [
    "# Lösung 3\n",
    "{val % 3 for val in a}"
   ]
  },
  {
   "cell_type": "code",
   "execution_count": 14,
   "id": "8c3ae945",
   "metadata": {},
   "outputs": [
    {
     "data": {
      "text/plain": [
       "{1: 1, 5: 25, 2: 4, -1: 1, 8: 64}"
      ]
     },
     "execution_count": 14,
     "metadata": {},
     "output_type": "execute_result"
    }
   ],
   "source": [
    "# Lösung 4\n",
    "{val: val**2 for val in a}"
   ]
  },
  {
   "cell_type": "code",
   "execution_count": 15,
   "id": "7a5bf8cd",
   "metadata": {},
   "outputs": [
    {
     "data": {
      "text/plain": [
       "{0: 1, 1: 5, 2: 2, 3: -1, 4: 8}"
      ]
     },
     "execution_count": 15,
     "metadata": {},
     "output_type": "execute_result"
    }
   ],
   "source": [
    "# Lösung 5\n",
    "{i: val for i, val in enumerate(a)}"
   ]
  },
  {
   "cell_type": "code",
   "execution_count": 16,
   "id": "872b4fcc",
   "metadata": {},
   "outputs": [
    {
     "data": {
      "text/plain": [
       "[6, 7, 1, 7]"
      ]
     },
     "execution_count": 16,
     "metadata": {},
     "output_type": "execute_result"
    }
   ],
   "source": [
    "# Lösung 6\n",
    "[val1 + val2 for val1, val2 in zip(a[:-1], a[1:])]"
   ]
  },
  {
   "cell_type": "markdown",
   "id": "551ba900",
   "metadata": {},
   "source": [
    "# Rekursive Funktionen\n",
    "\n",
    "## Allgemeine Aufgabe\n",
    "1. Schreibe eine rekursive Funktion, welche folgendes implementiert: f(0) = 0, f(1) = 0 + 1 = 1, f(2) = 0 + 1 + 2 = 3, f(3) = 0 + 1 + 2 + 3 = 6, etc. (Mathematisch formuliert: $f(n) = \\sum_{i=0}^n i$)\n",
    "2. Schreibe eine Funktion `apply_n_times(f, n, x)`, welche eine beliebige Funktion `f` auf den `x`-Wert insgesamt `n`-mal anwendet. Z.B.: `apply_n_times(f, 0, x) === x`, `apply_n_times(f, 1, x) === f(x)`; `apply_n_times(f, 3, x) === f(f(f(x)))`."
   ]
  },
  {
   "cell_type": "code",
   "execution_count": 17,
   "id": "039ebf94",
   "metadata": {},
   "outputs": [],
   "source": [
    "# Lösung 1: Sehr ähnlich wie Fakultät.\n",
    "def sum_until(n):\n",
    "    if n == 0:\n",
    "        return 0\n",
    "    return sum_until(n-1) + n"
   ]
  },
  {
   "cell_type": "code",
   "execution_count": 18,
   "id": "985af2fc",
   "metadata": {},
   "outputs": [],
   "source": [
    "# Lösung 2: \n",
    "# Rekursion: apply_n_times(f, n, x) ist dasselbe wie apply_n_times(f, n-1, f(x)).\n",
    "# Ausserdem verwenden wir apply(f, 0, x) === x als stopping criterion.\n",
    "def apply_n_times(f, n, x):\n",
    "    if n == 0:\n",
    "        return x\n",
    "    return apply_n_times(f, n-1, f(x))"
   ]
  },
  {
   "cell_type": "markdown",
   "id": "b7d77e6c",
   "metadata": {},
   "source": [
    "## Übersetzen von rekursiven Funktionen\n",
    "Schreibe folgende rekursive Funktionen um, sodass sie nicht mehr rekursiv sind."
   ]
  },
  {
   "cell_type": "code",
   "execution_count": 19,
   "id": "6c2c7eb2",
   "metadata": {},
   "outputs": [],
   "source": [
    "def example1(some_list):\n",
    "    if some_list==[]:\n",
    "        return 0\n",
    "    return some_list[0] + example1(some_list[1:])"
   ]
  },
  {
   "cell_type": "code",
   "execution_count": 20,
   "id": "115f1dd2",
   "metadata": {},
   "outputs": [],
   "source": [
    "def example2(n):\n",
    "    if n==0:\n",
    "        return 0\n",
    "    return n**2 + example2(n-1)"
   ]
  },
  {
   "cell_type": "code",
   "execution_count": 21,
   "id": "b2746866",
   "metadata": {},
   "outputs": [],
   "source": [
    "def example3(n, a=0, b=1):\n",
    "    return (\n",
    "        b if n == 0\n",
    "        else example3(n-1, b, a+b)\n",
    "    )"
   ]
  },
  {
   "cell_type": "code",
   "execution_count": 22,
   "id": "5c77537f",
   "metadata": {},
   "outputs": [],
   "source": [
    "# Die Funktion berechnet einfach die Summe der Listenelemente. Dies erhalten wir auch \n",
    "# mit sum(some_list)\n",
    "def loesung1(some_list):\n",
    "    return sum(some_list)\n",
    "\n",
    "# Die Funktion berechnet die Summe aller Quadratzahlen von 0 bis n. \n",
    "# Wir können z.B. zuerst eine Liste aller Quadratzahlen erstellen, und diese dann mit \n",
    "# sum summieren:\n",
    "def loesung2a(n):\n",
    "    return sum([i**2 for i in range(0, n+1)])\n",
    "\n",
    "# Wir können aber auch direkt die Quadratzahlen in einem for-Loop summieren:\n",
    "def loesung2b(n):\n",
    "    output = 0\n",
    "    for i in range(0, n+1):\n",
    "        output += i**2\n",
    "    return output\n",
    "\n",
    "# Bei example3 handelt es sich um eine Funktion, welche die n-te Fibonacci-Zahl berechnet.\n",
    "# Wir können es ziemlich 1-zu-1 mit einem for-Loop übersetzen:\n",
    "def loesung3(n, a=0, b=1):\n",
    "    \n",
    "    while n > 0:\n",
    "        altes_b = b\n",
    "        b = a + b\n",
    "        a = altes_b\n",
    "        \n",
    "        # Kürzere Alternative (ohne altes_b):\n",
    "        # a, b = b, a+b\n",
    "\n",
    "        n = n-1\n",
    "    return b"
   ]
  },
  {
   "cell_type": "markdown",
   "id": "7086c066",
   "metadata": {},
   "source": [
    "# Binary Search\n",
    "Stellen wir uns vor, wir haben eine sortierte Liste. Nun wollen wir herausfinden, ob ein bestimmter Wert in dieser Liste enthalten ist.\n",
    "- `beispiel_liste = [1, 2, 3, 6, 9]`\n",
    "- `is_in_list(beispiel_liste, 3) === True`\n",
    "- `is_in_list(beispiel_liste, -1) === False`\n",
    "\n",
    "Aufgabe 1: Schreibe eine Funktion `is_in_list_naive(list_to_search, value_to_search)`, welche die Liste mit einem for-Loop durchgeht. Falls der Wert enthalten ist, gibt die Funktion True zurück, sonst False.\n"
   ]
  },
  {
   "cell_type": "code",
   "execution_count": 23,
   "id": "532ffafb",
   "metadata": {},
   "outputs": [],
   "source": [
    "def find_value_naive(list_to_search, value_to_search):\n",
    "    for index, value in enumerate(list_to_search):\n",
    "        if value == value_to_search:\n",
    "            return True\n",
    "    return False"
   ]
  },
  {
   "cell_type": "markdown",
   "id": "8f34f747",
   "metadata": {},
   "source": [
    "Aufgabe 2: Schreibe eine rekursive Funktion, welche genau gleich wie find_value_naive durch die Liste hindurchgeht, und True zurückgibt, falls der Wert enthalten ist."
   ]
  },
  {
   "cell_type": "code",
   "execution_count": 24,
   "id": "17172dd9",
   "metadata": {},
   "outputs": [],
   "source": [
    "def find_value_naive_recursive(list_to_search, value_to_search):\n",
    "    \n",
    "    if list_to_search == []:\n",
    "        return False\n",
    "    \n",
    "    head_of_list, *rest = list_to_search\n",
    "    \n",
    "    if head_of_list == value_to_search:\n",
    "        return True\n",
    "    else:\n",
    "        return find_value_naive_recursive(rest, value_to_search)"
   ]
  },
  {
   "cell_type": "markdown",
   "id": "4d0cb225",
   "metadata": {},
   "source": [
    "Bis jetzt müssen wir im schlimmsten Fall die ganze Liste durchgehen, um herauszufinden, ob ein Element enthalten ist. Dies wollen wir nun noch verbessern. Dazu schreiben wir folgende rekursive Funktion:\n",
    "\n",
    "- Falls die Liste leer ist, geben wir False zurück.\n",
    "- Falls die Liste nur ein Element hat, überprüfen wir dieses Element, und geben entsprechend die Antwort zurück.\n",
    "- Falls nicht, identifizieren wir den Index in der Mitte der Liste mit len(list_to_search) // 2. \n",
    "- Nun schauen wir den Wert, der zu diesem Index gehört, an. Falls dieser Wert der gewünschte Wert ist, geben wir True zurück.\n",
    "- Falls der Wert in der Mitte grösser als der gewünschte Wert ist, muss - falls der Wert in unserer sortierten Liste ist - dieser in der ersten Hälfte sein. Deshalb rufen wir unsere Funktion nur mit der ersten Hälfte der Liste auf.\n",
    "- Genauso, falls der Wert in der Mitte kleiner als der gewünschte Wert ist, kann der Wert nur noch in dem zweiten Teil der Liste sein. Wir rufen die Funktion nochmals mit dem zweiten Teil der Liste auf."
   ]
  },
  {
   "cell_type": "code",
   "execution_count": 25,
   "id": "c50bcebe",
   "metadata": {},
   "outputs": [],
   "source": [
    "def find_value(list_to_search, value_to_search):\n",
    "    \n",
    "    if len(list_to_search) == 0:\n",
    "        return False\n",
    "    \n",
    "    if len(list_to_search) == 1:\n",
    "        return list_to_search[0] == value_to_search\n",
    "    \n",
    "    # Index und Wert in der Mitte identifizieren\n",
    "    middle_ix = len(list_to_search) // 2\n",
    "    middle_value = list_to_search[middle_ix]\n",
    "    \n",
    "    # Falls Mittelwert der gesuchte Wert, geben wir True zurück\n",
    "    if middle_value == value_to_search:\n",
    "        return True\n",
    "    \n",
    "    # Falls middle_value grösser ist als der Wert, den wir suchen, muss\n",
    "    # der gesuchte Wert in der ersten Hälfte der Liste sein.\n",
    "    elif middle_value > value_to_search:\n",
    "        first_half = list_to_search[:middle_ix]\n",
    "        return find_value(first_half, value_to_search)\n",
    "    \n",
    "    # Sonst muss der Wert in der zweiten Hälfte der Liste sein\n",
    "    else:\n",
    "        second_half = list_to_search[middle_ix:]\n",
    "        return find_value(second_half, value_to_search)\n",
    "    "
   ]
  },
  {
   "cell_type": "markdown",
   "id": "9779b2ac",
   "metadata": {},
   "source": [
    "# Umkehren eines Dictionaries\n",
    "In dieser Teilaufgabe wollen wir einen dictionary umkehren. D.h. aus {1: 5, 2: 10} wird {5: 1, 10: 2}.\n",
    "1. Schreibe eine Funktion `is_invertible(d)`, welche überprüft, ob alle Values des dictionaries `d` unique sind, d.h. nur einmal vorkommen. Dictionaries sind nur umkehrbar, falls dies gewährleistet ist.\n",
    "2. Schreibe eine Funktion `invert_invertible_dict(d)`, welche ein dictionary `d` umkehrt. Dabei kann davon ausgegangen werden, dass der eingegebene Dictionary `d` auch tatsächlich umkehrbar ist.\n",
    "3. Schreibe eine Funktion `invert_dict(d)`, welche zuerst mit `is_invertible` überprüft, ob `d` invertierbar ist. Falls nicht, wird ein ValueError geraised. Falls schon, wird der invertierte dictionary zurückgegeben. "
   ]
  },
  {
   "cell_type": "code",
   "execution_count": 26,
   "id": "a909cd0b",
   "metadata": {},
   "outputs": [],
   "source": [
    "def is_invertible(d):\n",
    "    # Wir konvertieren die values von d in ein Set. Falls dieses set immer noch gleich \n",
    "    # gross ist wie d sind auch alle Werte unique.\n",
    "    nb_elements_of_d = len(d)\n",
    "    value_set = set(d.values())\n",
    "    nb_unique_values_of_d = len(value_set)\n",
    "    return nb_elements_of_d == nb_unique_values_of_d\n",
    "\n",
    "def invert_invertible_dict(d):\n",
    "    # Wir verwenden eine for-comprehension, über key-values zu iterieren. Dabei vertauschen \n",
    "    # wir immer gerade key und value\n",
    "    return {value: key for key, value in d.items()}\n",
    "\n",
    "def invert_dict(d):\n",
    "    if not is_invertible(d):\n",
    "        raise ValueError(\"The dictionary values must be unique.\")\n",
    "    return invert_invertible_dict(d)"
   ]
  },
  {
   "cell_type": "code",
   "execution_count": null,
   "id": "fa0e2ff7",
   "metadata": {},
   "outputs": [],
   "source": []
  }
 ],
 "metadata": {
  "kernelspec": {
   "display_name": "Python 3",
   "language": "python",
   "name": "python3"
  },
  "language_info": {
   "codemirror_mode": {
    "name": "ipython",
    "version": 3
   },
   "file_extension": ".py",
   "mimetype": "text/x-python",
   "name": "python",
   "nbconvert_exporter": "python",
   "pygments_lexer": "ipython3",
   "version": "3.8.8"
  }
 },
 "nbformat": 4,
 "nbformat_minor": 5
}
